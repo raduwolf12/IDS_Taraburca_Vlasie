{
 "cells": [
  {
   "cell_type": "markdown",
   "metadata": {},
   "source": [
    "# Laborator 2 - Teme\n",
    "<br>\n",
    "Autori:\n",
    "Taraburca Radu,\n",
    "Vlasie Rares\n"
   ]
  },
  {
   "cell_type": "markdown",
   "metadata": {},
   "source": [
    "## Exercitii cu functii\n",
    "<br>\n"
   ]
  },
  {
   "cell_type": "code",
   "execution_count": 86,
   "metadata": {},
   "outputs": [],
   "source": [
    "import numpy as np\n",
    "from typing import List,Tuple"
   ]
  },
  {
   "cell_type": "markdown",
   "metadata": {},
   "source": [
    "1 Sa se scrie o functie care primeste ca parametru o lista de numere si returneaza un \n",
    " tuplu continand: suma elementelor si diferenta maxima dintre elementele listei.\n"
   ]
  },
  {
   "cell_type": "code",
   "execution_count": 87,
   "metadata": {
    "ExecuteTime": {
     "end_time": "2020-03-04T10:52:22.751037Z",
     "start_time": "2020-03-04T10:52:22.738071Z"
    }
   },
   "outputs": [
    {
     "data": {
      "text/plain": [
       "(9, 2)"
      ]
     },
     "execution_count": 87,
     "metadata": {},
     "output_type": "execute_result"
    }
   ],
   "source": [
    "\n",
    "def sTuplu(lista):\n",
    "    suma=0\n",
    "    for i in lista:\n",
    "        suma+=i\n",
    "    lista.sort()\n",
    "    dif=lista[-1]-lista[0]\n",
    "    pair=(suma,dif)\n",
    "    return pair\n",
    "    \n",
    "lista=[4,2,3]\n",
    "sTuplu(lista)"
   ]
  },
  {
   "cell_type": "markdown",
   "metadata": {},
   "source": [
    " 2 Scrieti o functie care preia doua liste si returneaza True daca cele doua liste de numere \n",
    "contin cel putin  k  elemente comune ( k≥1  dat ca parametru intreg, valoare implicita 1), False altfel.\n"
   ]
  },
  {
   "cell_type": "code",
   "execution_count": 88,
   "metadata": {
    "ExecuteTime": {
     "end_time": "2020-03-04T10:52:51.171430Z",
     "start_time": "2020-03-04T10:52:51.162430Z"
    }
   },
   "outputs": [
    {
     "data": {
      "text/plain": [
       "True"
      ]
     },
     "execution_count": 88,
     "metadata": {},
     "output_type": "execute_result"
    }
   ],
   "source": [
    "\n",
    "def checkKCommunElements(lista1:List[float],lista2:List[float],k:int=1)->bool:\n",
    "    nrk=0\n",
    "    for i in lista1:\n",
    "        for j in lista2:\n",
    "            if(i==j):\n",
    "                nrk+=1\n",
    "    if nrk>=k:\n",
    "        return True\n",
    "    else:\n",
    "        return False\n",
    "    \n",
    "lista=[4,2,3]\n",
    "lista2=[0,2,3]\n",
    "\n",
    "checkKCommunElements(lista,lista2)"
   ]
  },
  {
   "cell_type": "markdown",
   "metadata": {},
   "source": [
    "3.Sa se scrie o functie care determina daca o lista contine cuvinte reprezentand doar numere intregi \n",
    "(optional: numere fractionare, scrise sub forma parte intreaga, optional urmata de punct zecimal, optional urmata de parte fractionara: 1, 2., 13.14) (Puteti folosi modulul re pentru lucrul cu expresii regulate.) \n",
    "<br>\n",
    "<br>\n",
    "Functia trebuie sa testeze daca:\n",
    "    <br>A.elementele din lista sunt stringuri\n",
    "    <br>    B.fiecare din stringuri este un numar"
   ]
  },
  {
   "cell_type": "code",
   "execution_count": 89,
   "metadata": {},
   "outputs": [
    {
     "data": {
      "text/plain": [
       "True"
      ]
     },
     "execution_count": 89,
     "metadata": {},
     "output_type": "execute_result"
    }
   ],
   "source": [
    "\n",
    "import re\n",
    "\n",
    "def checker3(lista:List[str])->bool:\n",
    "    if all(isinstance(item, str) for item in lista)==False:\n",
    "        return \"Lista nu contine numai stringuri!\"\n",
    "    reg_float = r'^[+-]?\\d+\\.?\\d*$'\n",
    "    all_float = all([re.match(reg_float, item) for item in lista])\n",
    "    return all_float\n",
    "                \n",
    "\n",
    "lista = ['1','2']\n",
    "checker3(lista)"
   ]
  },
  {
   "cell_type": "markdown",
   "metadata": {},
   "source": [
    "4.Sa se scrie o functie care returneaza numarul de vocale si de consoane dintr-un parametru dat-rezultatul returnat de functie \n",
    "este tuplu cu doua valori. Cuvantul se va converti la litere mici in interiorul functiei."
   ]
  },
  {
   "cell_type": "code",
   "execution_count": null,
   "metadata": {},
   "outputs": [],
   "source": [
    "\n"
   ]
  },
  {
   "cell_type": "markdown",
   "metadata": {},
   "source": [
    "5. Sa se scrie o functie care primind o lista de dictionare, returneaza `True` daca toate dictionarele contin cel putin $n$ elemente, $n$ transmis ca parametru, `False` altfel.\n"
   ]
  },
  {
   "cell_type": "code",
   "execution_count": null,
   "metadata": {},
   "outputs": [],
   "source": []
  },
  {
   "cell_type": "markdown",
   "metadata": {},
   "source": [
    "6. Sa se scrie o functie recursiva care sa faca ridicarea la putere a unui numar, astfel:\n",
    "$$\n",
    "a^n = \\begin{cases}\n",
    "a & \\text{daca }n=1\n",
    "\\\\\n",
    "\\left(a^{n//2}\\right)^2 & \\text{daca } n \\text{ e par}\n",
    "\\\\\n",
    "\\left(a^{n//2}\\right)^2 \\cdot a & \\text{daca } n \\text{ e impar}, n>1\n",
    "\\\\\n",
    "\\end{cases}\n",
    "$$\n",
    "unde prin $n//2$ se reprezinta catul impartirii intregi intre $n$ si 2."
   ]
  },
  {
   "cell_type": "code",
   "execution_count": null,
   "metadata": {},
   "outputs": [],
   "source": []
  },
  {
   "cell_type": "markdown",
   "metadata": {},
   "source": [
    "## Exercitii simple folosind NumPy  \n",
    "\n",
    "Nota: in rezolvarea exercitiilor se vor folosi cat mai mult functii NumPy *vectorizate*. Functiile scrise de voi vor fi documentate cu docstrings (tutoriale: Docstrings in Python, urmati NumPy Style Python Docstrings). Folositi type annotations. Utilizati doar pachetele NumPy."
   ]
  },
  {
   "cell_type": "markdown",
   "metadata": {},
   "source": [
    "1. (0.5 puncte) Pentru un vector NumPy dat, sa se determine care sunt elementele unice, in ordine descrescatoare. Exemplu: pentru `x = np.array([-4, 3,  5, 3, 2, 1, -3, -4, 2, -4])` functia scrisa de dvs va intoarce rezultatul `[ 5,  3,  2,  1, -3, -4]`.\n"
   ]
  },
  {
   "cell_type": "code",
   "execution_count": 429,
   "metadata": {},
   "outputs": [
    {
     "name": "stdout",
     "output_type": "stream",
     "text": [
      "[ 5  3  2  1 -3 -4]\n"
     ]
    },
    {
     "data": {
      "text/plain": [
       "'Functia primeste  un np.array de valori int si elimina datele duplicate\\nparam :date de intrare sub forma de np.array'"
      ]
     },
     "execution_count": 429,
     "metadata": {},
     "output_type": "execute_result"
    }
   ],
   "source": [
    "x = np.array([-4, 3,  5, 3, 2, 1, -3, -4, 2, -4],int ) \n",
    "def revuniques(x): \n",
    "    uniques = np.unique(x)\n",
    "    np.sort(uniques)\n",
    "    return uniques[::-1]\n",
    "    \n",
    "print(revuniques(x))\n",
    "\n",
    "\"\"\"Functia primeste  un np.array de valori int si elimina datele duplicate\n",
    "param :date de intrare sub forma de np.array\"\"\""
   ]
  },
  {
   "cell_type": "markdown",
   "metadata": {},
   "source": [
    "2. (0.5 puncte) Pentru un vector NumPy dat, sa se determine care e elementul cel mai frecvent si cel mai putin frecvent (tuplu de 2 valori). Daca exista mai multe numere cele mai frecvente (cele mai putin frecvente), se va raporta oricare din ele. Exemplu: pentru `x = np.array([-4, 3,  5, 3, 2, 1, -3, -4, 2, -4])` functia scrisa de dvs va intoarce rezultatul `(-4, -3)`. \n"
   ]
  },
  {
   "cell_type": "code",
   "execution_count": 424,
   "metadata": {},
   "outputs": [],
   "source": [
    "from collections import Counter\n"
   ]
  },
  {
   "cell_type": "code",
   "execution_count": 431,
   "metadata": {},
   "outputs": [
    {
     "name": "stdout",
     "output_type": "stream",
     "text": [
      "(-4, 3)\n"
     ]
    },
    {
     "data": {
      "text/plain": [
       "'Functia primeste un numpay array de valori float si intoarce un tuplu format din cel mai frecvent\\nsi cel mai putin frecvent element din array '"
      ]
     },
     "execution_count": 431,
     "metadata": {},
     "output_type": "execute_result"
    }
   ],
   "source": [
    "x = np.array([-4, 3,  5, 3, 2, 1, -3, -4, 2, -4])\n",
    "\n",
    "def mostAndLeastCommunElement(x)->Tuple[float,float]:\n",
    "    b = Counter(x)\n",
    "    return b.most_common(1)[0][0],b.most_common(1)[0][1]\n",
    "\n",
    "print(mostAndLeastCommunElement(x))\n",
    "\n",
    "\"\"\"Functia primeste un numpay array de valori float si intoarce un tuplu format din cel mai frecvent\n",
    "si cel mai putin frecvent element din array \"\"\""
   ]
  },
  {
   "cell_type": "markdown",
   "metadata": {},
   "source": [
    "3. (0.5 puncte) Plecand de la o matrice, sa se scrie o functie care returneaza vectorul minimelor de pe linii si vectorul maximelor de pe coloane. Exemplu: pentru matricea `mat = np.array([[1, 2, 3, 4], [1, -2, 3, -4], [3, 10, 3, 4]])` functia va returna tuplul de vectori: `(array([ 1, -4,  3]), array([ 3, 10,  3,  4]))`. Indicatie:  folositi-va de parametrul `axis`.\n"
   ]
  },
  {
   "cell_type": "code",
   "execution_count": 440,
   "metadata": {},
   "outputs": [
    {
     "name": "stdout",
     "output_type": "stream",
     "text": [
      "(array([ 1, -4,  3]), array([ 3, 10,  3,  4]))\n"
     ]
    },
    {
     "data": {
      "text/plain": [
       "'Functia primeste 2 np.array si modifica si afiseaza perechile si formeaza un array de minime pe randuri \\n    si unul de maxime pe coloana \\n    param :date de intrare sub forma de np.array'"
      ]
     },
     "execution_count": 440,
     "metadata": {},
     "output_type": "execute_result"
    }
   ],
   "source": [
    "mat = np.array([[1, 2, 3, 4], [1, -2, 3, -4], [3, 10, 3, 4]])\n",
    "def arraysort(mat)->Tuple[np.array,np.array]:\n",
    "    min=np.amin(mat, axis=1)\n",
    "    max=np.amax(mat, axis=0)\n",
    "    return min,max\n",
    "    \n",
    "print(arraysort(mat))\n",
    "\n",
    "\"\"\"Functia primeste 2 np.array si modifica si afiseaza perechile si formeaza un array de minime pe randuri \n",
    "    si unul de maxime pe coloana \n",
    "    param :date de intrare sub forma de np.array\"\"\""
   ]
  },
  {
   "cell_type": "markdown",
   "metadata": {},
   "source": [
    "4. (0.5 puncte) Pentru o matrice de numere, sa se determine produsul elementelor pe linii sau de pe coloane, in functie de valoarea unui parametru boolean `compute_on_lines`. Exemplu: pentru matricea `mat = np.array([[1, 2, 3, 4], [1, -2, 3, -4], [3, 10, 3, 4]])` si parametrul `compute_on_lines=True`, functia va returna vectorul `[ 24  24 360]`, iar pentru `compute_on_lines=False` se va returna `[  3 -40  27 -64]`.\n"
   ]
  },
  {
   "cell_type": "code",
   "execution_count": 442,
   "metadata": {},
   "outputs": [
    {
     "name": "stdout",
     "output_type": "stream",
     "text": [
      "[3, -40, 27, -64]\n",
      "[24, 24, 360]\n"
     ]
    },
    {
     "data": {
      "text/plain": [
       "'Functia primeste o valoare booleana si o matrice de tipul numpay array si intoarce in functie de valoare booleana, un \\nnumpay array cu valori reprezentand produsul elementelor de pe linii sau de pe coloane'"
      ]
     },
     "execution_count": 442,
     "metadata": {},
     "output_type": "execute_result"
    }
   ],
   "source": [
    "mat = np.array([[1, 2, 3, 4], [1, -2, 3, -4], [3, 10, 3, 4]])\n",
    "def prod(compute_on_lines:bool,mat):\n",
    "    result=np.array([]);\n",
    "    if compute_on_lines==True:\n",
    "        result=[np.prod(row) for row in mat]\n",
    "    else:\n",
    "        result=[np.prod([row[i] for row in mat]) for i in range(0,len(mat[0]))]\n",
    "    return result\n",
    "\n",
    "print(prod(False,mat))\n",
    "print(prod(True,mat))\n",
    "\"\"\"Functia primeste o valoare booleana si o matrice de tipul numpay array si intoarce in functie de valoare booleana, un \n",
    "numpay array cu valori reprezentand produsul elementelor de pe linii sau de pe coloane\"\"\"\n",
    "    "
   ]
  },
  {
   "cell_type": "markdown",
   "metadata": {},
   "source": [
    "5. (0.5 puncte) Determinati daca macar unul din elementele unei matrice `a` este mai mare decat cel de pe pozitie corespondenta din `b` (adica daca avem macar o pereche de indecsi (i, j) pentru care a[i, j] > b[i, j]). Daca da, se va returna o astfel de pereche de indecsi; daca nu, se va returna None.\n"
   ]
  },
  {
   "cell_type": "code",
   "execution_count": 441,
   "metadata": {},
   "outputs": [
    {
     "name": "stdout",
     "output_type": "stream",
     "text": [
      "original array a: \n",
      " [[ 1  2  3  4]\n",
      " [ 1 -2  3 -4]\n",
      " [ 3 10  9  4]]\n",
      "\n",
      " original array b: \n",
      " [[ 1  1  3  5]\n",
      " [ 1  4  3 -4]\n",
      " [ 3 10  3  5]]\n",
      "indecsi unde a>b: \n",
      " [[0 1]\n",
      " [2 2]]\n",
      "None\n"
     ]
    },
    {
     "data": {
      "text/plain": [
       "'Functia primeste 2 np.array si modifica si afiseaza perechile de indici unde a[i][j]>b[i][j] \\nparam :date de intrare sub forma de np.array'"
      ]
     },
     "execution_count": 441,
     "metadata": {},
     "output_type": "execute_result"
    }
   ],
   "source": [
    "a = np.array([[1, 2, 3, 4], [1, -2, 3, -4], [3, 10, 9, 4]]) \n",
    "b = np.array([[1, 1, 3, 5], [1, 4, 3, -4], [3, 10, 3, 5]])\n",
    "def arraycompare(a,b):\n",
    "    print (\"original array a: \\n\" ,a)\n",
    "    print(\"\\n original array b: \\n\",b)\n",
    "    solutions = np.argwhere(a> b)\n",
    "    print(\"indecsi unde a>b: \\n\",solutions)\n",
    "\n",
    "print(arraycompare(a,b))\n",
    "\n",
    "\"\"\"Functia primeste 2 np.array si modifica si afiseaza perechile de indici unde a[i][j]>b[i][j] \n",
    "param :date de intrare sub forma de np.array\"\"\""
   ]
  },
  {
   "cell_type": "markdown",
   "metadata": {},
   "source": [
    "6. (0.5 puncte) Construiti o functie care, primind o matrice, determina pe ce pozitii se afla valorile in afara unui interval [min, max] dat prin parametri.\n"
   ]
  },
  {
   "cell_type": "code",
   "execution_count": 445,
   "metadata": {},
   "outputs": [
    {
     "name": "stdout",
     "output_type": "stream",
     "text": [
      "[[0 0]\n",
      " [1 0]\n",
      " [1 1]\n",
      " [1 3]]\n"
     ]
    },
    {
     "data": {
      "text/plain": [
       "'Functia primeste o matrice de tipul numpay array, un minim si un maxim de tip float si intoarce un numpay array care contine \\n pozitiile valorilor din array in afara intervalului reprezentat de  [minim, maxim] '"
      ]
     },
     "execution_count": 445,
     "metadata": {},
     "output_type": "execute_result"
    }
   ],
   "source": [
    "mat = np.array([[1, 2, 3, 4], [1, -2, 3, -4], [3, 10, 3, 4]])\n",
    "def positionNotFromInterval(mat,minpoz:float,maxpoz:float):\n",
    "    a=np.where((mat >maxpoz) | (mat<minpoz))\n",
    "    c=a[0].tolist()\n",
    "    b=a[1].tolist()  \n",
    "    return np.column_stack((c, b))\n",
    "\n",
    "print(positionNotFromInterval(mat,2,10))\n",
    "\"\"\"Functia primeste o matrice de tipul numpay array, un minim si un maxim de tip float si intoarce un numpay array care contine \n",
    " pozitiile valorilor din array in afara intervalului reprezentat de  [minim, maxim] \"\"\""
   ]
  },
  {
   "cell_type": "markdown",
   "metadata": {},
   "source": [
    "7. (1 punct) Se considera vectorul: `a = np.array([230, 10, 284, 39, 76])`. Folosind indexarea logica, sa se inmulteasca elementele din vector care sunt mai mici ca 100 cu 2 (restul raman neschimbate). Folosind ciclare, sa se aplice aceeasi operatie pana cand toate elementele devin mai mari ca 100. Sa se afiseze din vectorul final elementele care sunt mai mari de 150 si mai mici de 200.\n"
   ]
  },
  {
   "cell_type": "code",
   "execution_count": 413,
   "metadata": {},
   "outputs": [
    {
     "name": "stdout",
     "output_type": "stream",
     "text": [
      "[230  40 284 156 152]\n",
      "[156 152]\n",
      "[230  80 284 156 152]\n",
      "[156 152]\n",
      "[230 160 284 156 152]\n",
      "[160 156 152]\n"
     ]
    },
    {
     "data": {
      "text/plain": [
       "'Functia primeste un np.array si modifica si afiseaza valori di acesta param :date de intrare sub forma de np.array'"
      ]
     },
     "execution_count": 413,
     "metadata": {},
     "output_type": "execute_result"
    }
   ],
   "source": [
    "a = np.array([230, 10, 284, 39, 76])\n",
    "def ecxtractfunction(a):\n",
    "    a[a<100]*=2\n",
    "    while any(a<100):\n",
    "        a[a<100]*=2\n",
    "        print(a)\n",
    "        print(a[np.logical_and(a>150,a<200)])\n",
    "ecxtractfunction(a)\n",
    "\"\"\"Functia primeste un np.array si modifica si afiseaza valori di acesta param :date de intrare sub forma de np.array\"\"\""
   ]
  },
  {
   "cell_type": "markdown",
   "metadata": {},
   "source": [
    "8. (1 punct) Sa se scrie o functie `pair_max` care preia doi vectori de aceeasi lungime si returneaza maximele pe pozitiile corespunzatoare:\n",
    "```python\n",
    "a = np.array([3, 7, 9, 13, -10, 200, 3])\n",
    "b = np.array([4, 5, -9, 100, 300, 230, 1])\n",
    "pair_max(a, b)\n",
    "#iesire dorita: \n",
    "array([  4,   7,   9, 100, 300, 230,   3])\n",
    "```. Functia va verifica cu `assert` ca vectorii au lungimi egale. \n"
   ]
  },
  {
   "cell_type": "code",
   "execution_count": 448,
   "metadata": {},
   "outputs": [
    {
     "name": "stdout",
     "output_type": "stream",
     "text": [
      "[4, 7, 9, 100, 300, 230, 3]\n"
     ]
    },
    {
     "data": {
      "text/plain": [
       "'Funtia primeste ca parametrii 2 array uri de tipul numpay array si returneaza un numpay array cu valorile maxime de pe pozitiile\\ncorespunzatoare din fiecare array'"
      ]
     },
     "execution_count": 448,
     "metadata": {},
     "output_type": "execute_result"
    }
   ],
   "source": [
    "a = np.array([3, 7, 9, 13, -10, 200, 3])\n",
    "b = np.array([4, 5, -9, 100, 300, 230, 1])\n",
    "\n",
    "def pair_max(a, b):\n",
    "    mat= np.concatenate((a, b.T))\n",
    "    mat=mat.reshape(2,len(a))\n",
    "    result=[np.max([row[i] for row in mat]) for i in range(0,len(mat[0]))]\n",
    "    return result\n",
    "\n",
    "    \n",
    "print(pair_max(a, b))\n",
    "\"\"\"Funtia primeste ca parametrii 2 array uri de tipul numpay array si returneaza un numpay array cu valorile maxime de pe pozitiile\n",
    "corespunzatoare din fiecare array\"\"\""
   ]
  },
  {
   "cell_type": "markdown",
   "metadata": {},
   "source": [
    "9. (1 punct) Descarcati setul de date Iris de la adresa 'https://archive.ics.uci.edu/ml/machine-learning-databases/iris/iris.data', si incarcati-l intr--o matrice NumPy, folosind `np.genfromtxt`.  Alegeti aleator 10 pozitii in matricea de 150 linii si 4 coloane (omiteti ultima coloana, de tip text), setati aceste valori pe NaN. Construiti o functie care, primind la intrare o matrice, returneaza un tuplu cu indicii de linii respectiv de coloane in care se gasesc valori NaN.\n"
   ]
  },
  {
   "cell_type": "code",
   "execution_count": 415,
   "metadata": {},
   "outputs": [
    {
     "name": "stdout",
     "output_type": "stream",
     "text": [
      "([11, 15, 42, 51, 63, 64, 84, 107, 133, 135], [0, 2, 0, 2, 2, 2, 1, 2, 0, 2])\n"
     ]
    },
    {
     "data": {
      "text/plain": [
       "'Functia primeste o matrice si returneaza un tuplu de indici\\nparam mat:date de intrare sub forma de np.array(m,n)\\ndate iesire: tuplu de indici'"
      ]
     },
     "execution_count": 415,
     "metadata": {},
     "output_type": "execute_result"
    }
   ],
   "source": [
    "mat=np.genfromtxt(\"iris.data\",dtype=float,delimiter=\",\")\n",
    "m=mat[:,:-1]\n",
    "\n",
    "lines=np.random.randint(0,149,size=(10,))\n",
    "colums=np.random.randint(0,3,size=(10,))\n",
    "m[lines,colums]=np.nan\n",
    "\n",
    "def nan_function(mat:np.array)->Tuple:\n",
    "    indices=np.where(np.isnan(m))\n",
    "    return indices[0].tolist(),indices[1].tolist()\n",
    "\n",
    "print(nan_function(mat))\n",
    "\n",
    "\"\"\"Functia primeste o matrice si returneaza un tuplu de indici\n",
    "param mat:date de intrare sub forma de np.array(m,n)\n",
    "date iesire: tuplu de indici\"\"\""
   ]
  },
  {
   "cell_type": "markdown",
   "metadata": {},
   "source": [
    "10. (1 punct) Sa se construiasca o functie care returneaza cele mai mici `k` valori dintr-un vector de cel putin `k` elemente, impreuna cu pozitiile lor. "
   ]
  },
  {
   "cell_type": "code",
   "execution_count": 449,
   "metadata": {},
   "outputs": [
    {
     "name": "stdout",
     "output_type": "stream",
     "text": [
      "[(array([4], dtype=int64),), (array([0, 6], dtype=int64),), (array([0, 6], dtype=int64),)]\n"
     ]
    },
    {
     "data": {
      "text/plain": [
       "'Functia primeste un numpay array si o valoare k de tip int si funtia returneaza primele k elemente mici'"
      ]
     },
     "execution_count": 449,
     "metadata": {},
     "output_type": "execute_result"
    }
   ],
   "source": [
    "a = np.array([3, 7, 9, 13, -10, 200, 3])\n",
    "\n",
    "def returnfirtKSmall(arr,k):\n",
    "    if(len(arr)<k):\n",
    "        return \"Vectorul nu contine \" +str(k)+ \" elemente\"\n",
    "    aux=np.sort(arr)\n",
    "    aux=aux[:k]\n",
    "    aux2=[np.where(a==i) for i in aux] \n",
    "    return aux2\n",
    "        \n",
    "        \n",
    "    \n",
    "\n",
    "aux=returnfirtKSmall(a,3)\n",
    "print(aux)\n",
    "\"\"\"Functia primeste un numpay array si o valoare k de tip int si funtia returneaza primele k elemente mici\"\"\""
   ]
  },
  {
   "cell_type": "code",
   "execution_count": null,
   "metadata": {},
   "outputs": [],
   "source": []
  }
 ],
 "metadata": {
  "kernelspec": {
   "display_name": "Python 3",
   "language": "python",
   "name": "python3"
  },
  "language_info": {
   "codemirror_mode": {
    "name": "ipython",
    "version": 3
   },
   "file_extension": ".py",
   "mimetype": "text/x-python",
   "name": "python",
   "nbconvert_exporter": "python",
   "pygments_lexer": "ipython3",
   "version": "3.7.4"
  }
 },
 "nbformat": 4,
 "nbformat_minor": 4
}
