{
 "cells": [
  {
   "cell_type": "markdown",
   "metadata": {},
   "source": [
    "# Laborator 6 - Teme \n",
    "<br>\n",
    "Autori:\n",
    "Taraburca Radu,\n",
    "Vlasie Rares\n",
    "<br>\n",
    "Dataset: Semion\n"
   ]
  },
  {
   "cell_type": "markdown",
   "metadata": {},
   "source": [
    "## Modele de clasificare"
   ]
  },
  {
   "cell_type": "markdown",
   "metadata": {},
   "source": [
    "Folositi 4 seturi de date pentru probleme de clasificare, plecand de la repository-urile specificate in Cursul 5; de exemplu, [ics.uci.edu](http://archive.ics.uci.edu/ml/datasets.php?format=mat&task=cla&att=&area=&numAtt=&numIns=&type=mvar&sort=nameUp&view=table). Cel putin doua seturi de date sa fie cu valori lipsa. "
   ]
  },
  {
   "cell_type": "markdown",
   "metadata": {},
   "source": [
    "1. (20 puncte) Aplicati o metoda de missing value imputation, unde este cazul; justificati si documentati metoda folosita."
   ]
  },
  {
   "cell_type": "markdown",
   "metadata": {},
   "source": [
    "2. (numar de modele * numar de seturi de date \\* 1 punct = 20 de puncte) Pentru fiecare set de date aplicati 5 modele de clasificare din scikit learn. Pentru fiecare raportati: acuratete, scorul F1 - a se vedea [sklearn.metrics](http://scikit-learn.org/stable/modules/classes.html#module-sklearn.metrics) - folosind 5 fold cross validation. Raportati mediile rezultatelor atat pentru fold-urile de antrenare, cat si pentru cele de testare. Rularile se vor face cu valori fixate ale hiperparametrilor. "
   ]
  },
  {
   "cell_type": "markdown",
   "metadata": {},
   "source": [
    "3. (numar modele * 4 puncte = 20 puncte) Documentati in jupyter notebook fiecare din modelele folosite, in limba romana. Daca acelasi algoritm e folosit pentru mai multe seturi de date, puteti face o sectiune separata cu documentarea algoritmilor + trimitere la algoritm. "
   ]
  },
  {
   "cell_type": "markdown",
   "metadata": {},
   "source": [
    "4. (numar de modele * numar de seturi de date * 1 punct = 20 de puncte) Raportati performanta fiecarui model, folosind 5 fold cross validation. Pentru fiecare din cele 5 rulari, cautati hiperparametrii optimi folosind 4-fold cross validation. Performanta modelului va fi raportata ca medie a celor  5 rulari. \n",
    "    *Observatie:* la fiecare din cele 5 rulari, hiperparametrii optimi pot diferi, din cauza datelor utilizate pentru antrenare/validare. "
   ]
  },
  {
   "cell_type": "code",
   "execution_count": 1,
   "metadata": {},
   "outputs": [],
   "source": [
    "from sklearn.model_selection import train_test_split\n",
    "from sklearn.model_selection import GridSearchCV\n",
    "from sklearn.metrics import accuracy_score\n",
    "from sklearn.model_selection import cross_val_score\n",
    "from numpy import array\n",
    "from sklearn.model_selection import KFold\n",
    "from sklearn.tree import DecisionTreeClassifier\n",
    "import sklearn\n",
    "from sklearn.ensemble import RandomForestClassifier\n",
    "from sklearn import svm\n",
    "from sklearn.neural_network import MLPClassifier"
   ]
  },
  {
   "cell_type": "code",
   "execution_count": 80,
   "metadata": {},
   "outputs": [
    {
     "data": {
      "text/html": [
       "<div>\n",
       "<style scoped>\n",
       "    .dataframe tbody tr th:only-of-type {\n",
       "        vertical-align: middle;\n",
       "    }\n",
       "\n",
       "    .dataframe tbody tr th {\n",
       "        vertical-align: top;\n",
       "    }\n",
       "\n",
       "    .dataframe thead th {\n",
       "        text-align: right;\n",
       "    }\n",
       "</style>\n",
       "<table border=\"1\" class=\"dataframe\">\n",
       "  <thead>\n",
       "    <tr style=\"text-align: right;\">\n",
       "      <th></th>\n",
       "      <th>0</th>\n",
       "      <th>1</th>\n",
       "      <th>2</th>\n",
       "      <th>3</th>\n",
       "      <th>4</th>\n",
       "      <th>5</th>\n",
       "      <th>6</th>\n",
       "      <th>7</th>\n",
       "      <th>8</th>\n",
       "      <th>9</th>\n",
       "      <th>...</th>\n",
       "      <th>257</th>\n",
       "      <th>258</th>\n",
       "      <th>259</th>\n",
       "      <th>260</th>\n",
       "      <th>261</th>\n",
       "      <th>262</th>\n",
       "      <th>263</th>\n",
       "      <th>264</th>\n",
       "      <th>265</th>\n",
       "      <th>266</th>\n",
       "    </tr>\n",
       "  </thead>\n",
       "  <tbody>\n",
       "    <tr>\n",
       "      <td>0</td>\n",
       "      <td>0.0</td>\n",
       "      <td>0.0</td>\n",
       "      <td>0.0</td>\n",
       "      <td>0.0</td>\n",
       "      <td>0.0</td>\n",
       "      <td>0.0</td>\n",
       "      <td>1.0</td>\n",
       "      <td>1.0</td>\n",
       "      <td>1.0</td>\n",
       "      <td>1.0</td>\n",
       "      <td>...</td>\n",
       "      <td>0</td>\n",
       "      <td>0</td>\n",
       "      <td>0</td>\n",
       "      <td>0</td>\n",
       "      <td>0</td>\n",
       "      <td>0</td>\n",
       "      <td>0</td>\n",
       "      <td>0</td>\n",
       "      <td>0</td>\n",
       "      <td>NaN</td>\n",
       "    </tr>\n",
       "    <tr>\n",
       "      <td>1</td>\n",
       "      <td>0.0</td>\n",
       "      <td>0.0</td>\n",
       "      <td>0.0</td>\n",
       "      <td>0.0</td>\n",
       "      <td>0.0</td>\n",
       "      <td>1.0</td>\n",
       "      <td>1.0</td>\n",
       "      <td>1.0</td>\n",
       "      <td>1.0</td>\n",
       "      <td>1.0</td>\n",
       "      <td>...</td>\n",
       "      <td>0</td>\n",
       "      <td>0</td>\n",
       "      <td>0</td>\n",
       "      <td>0</td>\n",
       "      <td>0</td>\n",
       "      <td>0</td>\n",
       "      <td>0</td>\n",
       "      <td>0</td>\n",
       "      <td>0</td>\n",
       "      <td>NaN</td>\n",
       "    </tr>\n",
       "    <tr>\n",
       "      <td>2</td>\n",
       "      <td>0.0</td>\n",
       "      <td>0.0</td>\n",
       "      <td>0.0</td>\n",
       "      <td>0.0</td>\n",
       "      <td>0.0</td>\n",
       "      <td>0.0</td>\n",
       "      <td>0.0</td>\n",
       "      <td>0.0</td>\n",
       "      <td>0.0</td>\n",
       "      <td>1.0</td>\n",
       "      <td>...</td>\n",
       "      <td>0</td>\n",
       "      <td>0</td>\n",
       "      <td>0</td>\n",
       "      <td>0</td>\n",
       "      <td>0</td>\n",
       "      <td>0</td>\n",
       "      <td>0</td>\n",
       "      <td>0</td>\n",
       "      <td>0</td>\n",
       "      <td>NaN</td>\n",
       "    </tr>\n",
       "    <tr>\n",
       "      <td>3</td>\n",
       "      <td>0.0</td>\n",
       "      <td>0.0</td>\n",
       "      <td>0.0</td>\n",
       "      <td>0.0</td>\n",
       "      <td>0.0</td>\n",
       "      <td>0.0</td>\n",
       "      <td>1.0</td>\n",
       "      <td>1.0</td>\n",
       "      <td>1.0</td>\n",
       "      <td>1.0</td>\n",
       "      <td>...</td>\n",
       "      <td>0</td>\n",
       "      <td>0</td>\n",
       "      <td>0</td>\n",
       "      <td>0</td>\n",
       "      <td>0</td>\n",
       "      <td>0</td>\n",
       "      <td>0</td>\n",
       "      <td>0</td>\n",
       "      <td>0</td>\n",
       "      <td>NaN</td>\n",
       "    </tr>\n",
       "    <tr>\n",
       "      <td>4</td>\n",
       "      <td>0.0</td>\n",
       "      <td>0.0</td>\n",
       "      <td>0.0</td>\n",
       "      <td>0.0</td>\n",
       "      <td>0.0</td>\n",
       "      <td>0.0</td>\n",
       "      <td>0.0</td>\n",
       "      <td>0.0</td>\n",
       "      <td>0.0</td>\n",
       "      <td>1.0</td>\n",
       "      <td>...</td>\n",
       "      <td>0</td>\n",
       "      <td>0</td>\n",
       "      <td>0</td>\n",
       "      <td>0</td>\n",
       "      <td>0</td>\n",
       "      <td>0</td>\n",
       "      <td>0</td>\n",
       "      <td>0</td>\n",
       "      <td>0</td>\n",
       "      <td>NaN</td>\n",
       "    </tr>\n",
       "    <tr>\n",
       "      <td>...</td>\n",
       "      <td>...</td>\n",
       "      <td>...</td>\n",
       "      <td>...</td>\n",
       "      <td>...</td>\n",
       "      <td>...</td>\n",
       "      <td>...</td>\n",
       "      <td>...</td>\n",
       "      <td>...</td>\n",
       "      <td>...</td>\n",
       "      <td>...</td>\n",
       "      <td>...</td>\n",
       "      <td>...</td>\n",
       "      <td>...</td>\n",
       "      <td>...</td>\n",
       "      <td>...</td>\n",
       "      <td>...</td>\n",
       "      <td>...</td>\n",
       "      <td>...</td>\n",
       "      <td>...</td>\n",
       "      <td>...</td>\n",
       "      <td>...</td>\n",
       "    </tr>\n",
       "    <tr>\n",
       "      <td>1588</td>\n",
       "      <td>0.0</td>\n",
       "      <td>0.0</td>\n",
       "      <td>0.0</td>\n",
       "      <td>1.0</td>\n",
       "      <td>1.0</td>\n",
       "      <td>1.0</td>\n",
       "      <td>1.0</td>\n",
       "      <td>1.0</td>\n",
       "      <td>1.0</td>\n",
       "      <td>1.0</td>\n",
       "      <td>...</td>\n",
       "      <td>0</td>\n",
       "      <td>0</td>\n",
       "      <td>0</td>\n",
       "      <td>0</td>\n",
       "      <td>0</td>\n",
       "      <td>0</td>\n",
       "      <td>0</td>\n",
       "      <td>0</td>\n",
       "      <td>1</td>\n",
       "      <td>NaN</td>\n",
       "    </tr>\n",
       "    <tr>\n",
       "      <td>1589</td>\n",
       "      <td>0.0</td>\n",
       "      <td>0.0</td>\n",
       "      <td>0.0</td>\n",
       "      <td>1.0</td>\n",
       "      <td>1.0</td>\n",
       "      <td>1.0</td>\n",
       "      <td>1.0</td>\n",
       "      <td>1.0</td>\n",
       "      <td>1.0</td>\n",
       "      <td>1.0</td>\n",
       "      <td>...</td>\n",
       "      <td>0</td>\n",
       "      <td>0</td>\n",
       "      <td>0</td>\n",
       "      <td>0</td>\n",
       "      <td>0</td>\n",
       "      <td>0</td>\n",
       "      <td>0</td>\n",
       "      <td>0</td>\n",
       "      <td>1</td>\n",
       "      <td>NaN</td>\n",
       "    </tr>\n",
       "    <tr>\n",
       "      <td>1590</td>\n",
       "      <td>0.0</td>\n",
       "      <td>0.0</td>\n",
       "      <td>1.0</td>\n",
       "      <td>1.0</td>\n",
       "      <td>1.0</td>\n",
       "      <td>1.0</td>\n",
       "      <td>1.0</td>\n",
       "      <td>1.0</td>\n",
       "      <td>1.0</td>\n",
       "      <td>1.0</td>\n",
       "      <td>...</td>\n",
       "      <td>0</td>\n",
       "      <td>0</td>\n",
       "      <td>0</td>\n",
       "      <td>0</td>\n",
       "      <td>0</td>\n",
       "      <td>0</td>\n",
       "      <td>0</td>\n",
       "      <td>0</td>\n",
       "      <td>1</td>\n",
       "      <td>NaN</td>\n",
       "    </tr>\n",
       "    <tr>\n",
       "      <td>1591</td>\n",
       "      <td>0.0</td>\n",
       "      <td>1.0</td>\n",
       "      <td>1.0</td>\n",
       "      <td>1.0</td>\n",
       "      <td>1.0</td>\n",
       "      <td>1.0</td>\n",
       "      <td>1.0</td>\n",
       "      <td>1.0</td>\n",
       "      <td>1.0</td>\n",
       "      <td>1.0</td>\n",
       "      <td>...</td>\n",
       "      <td>0</td>\n",
       "      <td>0</td>\n",
       "      <td>0</td>\n",
       "      <td>0</td>\n",
       "      <td>0</td>\n",
       "      <td>0</td>\n",
       "      <td>0</td>\n",
       "      <td>0</td>\n",
       "      <td>1</td>\n",
       "      <td>NaN</td>\n",
       "    </tr>\n",
       "    <tr>\n",
       "      <td>1592</td>\n",
       "      <td>0.0</td>\n",
       "      <td>0.0</td>\n",
       "      <td>0.0</td>\n",
       "      <td>0.0</td>\n",
       "      <td>0.0</td>\n",
       "      <td>0.0</td>\n",
       "      <td>1.0</td>\n",
       "      <td>1.0</td>\n",
       "      <td>1.0</td>\n",
       "      <td>1.0</td>\n",
       "      <td>...</td>\n",
       "      <td>0</td>\n",
       "      <td>0</td>\n",
       "      <td>0</td>\n",
       "      <td>0</td>\n",
       "      <td>0</td>\n",
       "      <td>0</td>\n",
       "      <td>0</td>\n",
       "      <td>0</td>\n",
       "      <td>1</td>\n",
       "      <td>NaN</td>\n",
       "    </tr>\n",
       "  </tbody>\n",
       "</table>\n",
       "<p>1593 rows × 267 columns</p>\n",
       "</div>"
      ],
      "text/plain": [
       "      0    1    2    3    4    5    6    7    8    9    ...  257  258  259  \\\n",
       "0     0.0  0.0  0.0  0.0  0.0  0.0  1.0  1.0  1.0  1.0  ...    0    0    0   \n",
       "1     0.0  0.0  0.0  0.0  0.0  1.0  1.0  1.0  1.0  1.0  ...    0    0    0   \n",
       "2     0.0  0.0  0.0  0.0  0.0  0.0  0.0  0.0  0.0  1.0  ...    0    0    0   \n",
       "3     0.0  0.0  0.0  0.0  0.0  0.0  1.0  1.0  1.0  1.0  ...    0    0    0   \n",
       "4     0.0  0.0  0.0  0.0  0.0  0.0  0.0  0.0  0.0  1.0  ...    0    0    0   \n",
       "...   ...  ...  ...  ...  ...  ...  ...  ...  ...  ...  ...  ...  ...  ...   \n",
       "1588  0.0  0.0  0.0  1.0  1.0  1.0  1.0  1.0  1.0  1.0  ...    0    0    0   \n",
       "1589  0.0  0.0  0.0  1.0  1.0  1.0  1.0  1.0  1.0  1.0  ...    0    0    0   \n",
       "1590  0.0  0.0  1.0  1.0  1.0  1.0  1.0  1.0  1.0  1.0  ...    0    0    0   \n",
       "1591  0.0  1.0  1.0  1.0  1.0  1.0  1.0  1.0  1.0  1.0  ...    0    0    0   \n",
       "1592  0.0  0.0  0.0  0.0  0.0  0.0  1.0  1.0  1.0  1.0  ...    0    0    0   \n",
       "\n",
       "      260  261  262  263  264  265  266  \n",
       "0       0    0    0    0    0    0  NaN  \n",
       "1       0    0    0    0    0    0  NaN  \n",
       "2       0    0    0    0    0    0  NaN  \n",
       "3       0    0    0    0    0    0  NaN  \n",
       "4       0    0    0    0    0    0  NaN  \n",
       "...   ...  ...  ...  ...  ...  ...  ...  \n",
       "1588    0    0    0    0    0    1  NaN  \n",
       "1589    0    0    0    0    0    1  NaN  \n",
       "1590    0    0    0    0    0    1  NaN  \n",
       "1591    0    0    0    0    0    1  NaN  \n",
       "1592    0    0    0    0    0    1  NaN  \n",
       "\n",
       "[1593 rows x 267 columns]"
      ]
     },
     "execution_count": 80,
     "metadata": {},
     "output_type": "execute_result"
    }
   ],
   "source": [
    "import pandas as pd\n",
    "import numpy as np\n",
    "address='http://archive.ics.uci.edu/ml/machine-learning-databases/semeion/semeion.data'\n",
    "dataframe=pd.read_csv(address,sep=\" \",header=None,na_values='?')\n",
    "dataframe"
   ]
  },
  {
   "cell_type": "code",
   "execution_count": 3,
   "metadata": {
    "scrolled": true
   },
   "outputs": [
    {
     "name": "stdout",
     "output_type": "stream",
     "text": [
      "<class 'pandas.core.frame.DataFrame'>\n",
      "RangeIndex: 1593 entries, 0 to 1592\n",
      "Columns: 267 entries, 0 to 266\n",
      "dtypes: float64(257), int64(10)\n",
      "memory usage: 3.2 MB\n"
     ]
    }
   ],
   "source": [
    "dataframe.info()\n",
    "# dataframe.describe()"
   ]
  },
  {
   "cell_type": "code",
   "execution_count": 4,
   "metadata": {},
   "outputs": [
    {
     "data": {
      "text/html": [
       "<div>\n",
       "<style scoped>\n",
       "    .dataframe tbody tr th:only-of-type {\n",
       "        vertical-align: middle;\n",
       "    }\n",
       "\n",
       "    .dataframe tbody tr th {\n",
       "        vertical-align: top;\n",
       "    }\n",
       "\n",
       "    .dataframe thead th {\n",
       "        text-align: right;\n",
       "    }\n",
       "</style>\n",
       "<table border=\"1\" class=\"dataframe\">\n",
       "  <thead>\n",
       "    <tr style=\"text-align: right;\">\n",
       "      <th></th>\n",
       "      <th>0</th>\n",
       "      <th>1</th>\n",
       "      <th>2</th>\n",
       "      <th>3</th>\n",
       "      <th>4</th>\n",
       "      <th>5</th>\n",
       "      <th>6</th>\n",
       "      <th>7</th>\n",
       "      <th>8</th>\n",
       "      <th>9</th>\n",
       "      <th>...</th>\n",
       "      <th>256</th>\n",
       "      <th>257</th>\n",
       "      <th>258</th>\n",
       "      <th>259</th>\n",
       "      <th>260</th>\n",
       "      <th>261</th>\n",
       "      <th>262</th>\n",
       "      <th>263</th>\n",
       "      <th>264</th>\n",
       "      <th>265</th>\n",
       "    </tr>\n",
       "  </thead>\n",
       "  <tbody>\n",
       "    <tr>\n",
       "      <td>0</td>\n",
       "      <td>0.0</td>\n",
       "      <td>0.0</td>\n",
       "      <td>0.0</td>\n",
       "      <td>0.0</td>\n",
       "      <td>0.0</td>\n",
       "      <td>0.0</td>\n",
       "      <td>1.0</td>\n",
       "      <td>1.0</td>\n",
       "      <td>1.0</td>\n",
       "      <td>1.0</td>\n",
       "      <td>...</td>\n",
       "      <td>1</td>\n",
       "      <td>0</td>\n",
       "      <td>0</td>\n",
       "      <td>0</td>\n",
       "      <td>0</td>\n",
       "      <td>0</td>\n",
       "      <td>0</td>\n",
       "      <td>0</td>\n",
       "      <td>0</td>\n",
       "      <td>0</td>\n",
       "    </tr>\n",
       "    <tr>\n",
       "      <td>1</td>\n",
       "      <td>0.0</td>\n",
       "      <td>0.0</td>\n",
       "      <td>0.0</td>\n",
       "      <td>0.0</td>\n",
       "      <td>0.0</td>\n",
       "      <td>1.0</td>\n",
       "      <td>1.0</td>\n",
       "      <td>1.0</td>\n",
       "      <td>1.0</td>\n",
       "      <td>1.0</td>\n",
       "      <td>...</td>\n",
       "      <td>1</td>\n",
       "      <td>0</td>\n",
       "      <td>0</td>\n",
       "      <td>0</td>\n",
       "      <td>0</td>\n",
       "      <td>0</td>\n",
       "      <td>0</td>\n",
       "      <td>0</td>\n",
       "      <td>0</td>\n",
       "      <td>0</td>\n",
       "    </tr>\n",
       "    <tr>\n",
       "      <td>2</td>\n",
       "      <td>0.0</td>\n",
       "      <td>0.0</td>\n",
       "      <td>0.0</td>\n",
       "      <td>0.0</td>\n",
       "      <td>0.0</td>\n",
       "      <td>0.0</td>\n",
       "      <td>0.0</td>\n",
       "      <td>0.0</td>\n",
       "      <td>0.0</td>\n",
       "      <td>1.0</td>\n",
       "      <td>...</td>\n",
       "      <td>1</td>\n",
       "      <td>0</td>\n",
       "      <td>0</td>\n",
       "      <td>0</td>\n",
       "      <td>0</td>\n",
       "      <td>0</td>\n",
       "      <td>0</td>\n",
       "      <td>0</td>\n",
       "      <td>0</td>\n",
       "      <td>0</td>\n",
       "    </tr>\n",
       "    <tr>\n",
       "      <td>3</td>\n",
       "      <td>0.0</td>\n",
       "      <td>0.0</td>\n",
       "      <td>0.0</td>\n",
       "      <td>0.0</td>\n",
       "      <td>0.0</td>\n",
       "      <td>0.0</td>\n",
       "      <td>1.0</td>\n",
       "      <td>1.0</td>\n",
       "      <td>1.0</td>\n",
       "      <td>1.0</td>\n",
       "      <td>...</td>\n",
       "      <td>1</td>\n",
       "      <td>0</td>\n",
       "      <td>0</td>\n",
       "      <td>0</td>\n",
       "      <td>0</td>\n",
       "      <td>0</td>\n",
       "      <td>0</td>\n",
       "      <td>0</td>\n",
       "      <td>0</td>\n",
       "      <td>0</td>\n",
       "    </tr>\n",
       "    <tr>\n",
       "      <td>4</td>\n",
       "      <td>0.0</td>\n",
       "      <td>0.0</td>\n",
       "      <td>0.0</td>\n",
       "      <td>0.0</td>\n",
       "      <td>0.0</td>\n",
       "      <td>0.0</td>\n",
       "      <td>0.0</td>\n",
       "      <td>0.0</td>\n",
       "      <td>0.0</td>\n",
       "      <td>1.0</td>\n",
       "      <td>...</td>\n",
       "      <td>1</td>\n",
       "      <td>0</td>\n",
       "      <td>0</td>\n",
       "      <td>0</td>\n",
       "      <td>0</td>\n",
       "      <td>0</td>\n",
       "      <td>0</td>\n",
       "      <td>0</td>\n",
       "      <td>0</td>\n",
       "      <td>0</td>\n",
       "    </tr>\n",
       "  </tbody>\n",
       "</table>\n",
       "<p>5 rows × 266 columns</p>\n",
       "</div>"
      ],
      "text/plain": [
       "   0    1    2    3    4    5    6    7    8    9    ...  256  257  258  259  \\\n",
       "0  0.0  0.0  0.0  0.0  0.0  0.0  1.0  1.0  1.0  1.0  ...    1    0    0    0   \n",
       "1  0.0  0.0  0.0  0.0  0.0  1.0  1.0  1.0  1.0  1.0  ...    1    0    0    0   \n",
       "2  0.0  0.0  0.0  0.0  0.0  0.0  0.0  0.0  0.0  1.0  ...    1    0    0    0   \n",
       "3  0.0  0.0  0.0  0.0  0.0  0.0  1.0  1.0  1.0  1.0  ...    1    0    0    0   \n",
       "4  0.0  0.0  0.0  0.0  0.0  0.0  0.0  0.0  0.0  1.0  ...    1    0    0    0   \n",
       "\n",
       "   260  261  262  263  264  265  \n",
       "0    0    0    0    0    0    0  \n",
       "1    0    0    0    0    0    0  \n",
       "2    0    0    0    0    0    0  \n",
       "3    0    0    0    0    0    0  \n",
       "4    0    0    0    0    0    0  \n",
       "\n",
       "[5 rows x 266 columns]"
      ]
     },
     "execution_count": 4,
     "metadata": {},
     "output_type": "execute_result"
    }
   ],
   "source": [
    "dfSemeion = dataframe.dropna(axis='columns')\n",
    "dfSemeion[0:5]"
   ]
  },
  {
   "cell_type": "markdown",
   "metadata": {},
   "source": [
    "Se aplica missing value imputation, ca fiind o operatie de stergere  a coloanei cu NaN."
   ]
  },
  {
   "cell_type": "code",
   "execution_count": 5,
   "metadata": {
    "scrolled": true
   },
   "outputs": [
    {
     "name": "stdout",
     "output_type": "stream",
     "text": [
      "(1593, 256)\n",
      "(1593,)\n",
      "(319,)\n",
      "(1274,)\n"
     ]
    }
   ],
   "source": [
    "X=dfSemeion.values[:, 0:256]\n",
    "print(X.shape)\n",
    "\n",
    "y=dfSemeion.values[:,256: ]\n",
    "y=np.where(y==1)[1]\n",
    "print(y.shape)\n",
    "\n",
    "X_train1, X_test1, y_train1, y_test1 = train_test_split(X, y, test_size=1/5, shuffle=True, random_state=42)\n",
    "print(y_test1.shape)\n",
    "print(y_train1.shape)"
   ]
  },
  {
   "cell_type": "markdown",
   "metadata": {},
   "source": [
    "# Decision Tree"
   ]
  },
  {
   "cell_type": "code",
   "execution_count": 6,
   "metadata": {},
   "outputs": [],
   "source": [
    "from sklearn import metrics #Import scikit-learn metrics module for accuracy calculation"
   ]
  },
  {
   "cell_type": "code",
   "execution_count": 7,
   "metadata": {},
   "outputs": [],
   "source": [
    "X_trainT, X_testT, y_trainT, y_testT= train_test_split(X, y, test_size=1/5, shuffle=True, random_state=42)"
   ]
  },
  {
   "cell_type": "code",
   "execution_count": 8,
   "metadata": {},
   "outputs": [],
   "source": [
    "clf = DecisionTreeClassifier()\n",
    "clf = clf.fit(X_trainT,y_trainT)\n",
    "y_pred = clf.predict(X_testT)"
   ]
  },
  {
   "cell_type": "code",
   "execution_count": 9,
   "metadata": {
    "scrolled": true
   },
   "outputs": [
    {
     "name": "stdout",
     "output_type": "stream",
     "text": [
      "Accuracy   : 0.7460815047021944\n",
      "Accuracy F1: 0.749146468844846\n"
     ]
    }
   ],
   "source": [
    "print(\"Accuracy   :\",metrics.accuracy_score(y_testT, y_pred))\n",
    "print(\"Accuracy F1:\",metrics.f1_score(y_testT, y_pred, average='macro'))"
   ]
  },
  {
   "cell_type": "code",
   "execution_count": 10,
   "metadata": {},
   "outputs": [
    {
     "name": "stdout",
     "output_type": "stream",
     "text": [
      "{'max_features': 'sqrt', 'min_samples_leaf': 2, 'min_samples_split': 12}\n",
      "Accuracy   : 0.664576802507837\n",
      "Accuracy F1: 0.6676427075555519\n"
     ]
    }
   ],
   "source": [
    "params = {'max_features': ['auto', 'sqrt', 'log2'],\n",
    "          'min_samples_split':list(range(2,15)), \n",
    "          'min_samples_leaf':list(range(2,11)),\n",
    "         }\n",
    "grid_search = GridSearchCV(estimator = DecisionTreeClassifier(), param_grid=params, scoring='accuracy', cv=5, \n",
    "                           return_train_score=True, iid=False)\n",
    "grid_search.fit(X_trainT, y_trainT)\n",
    "y_estimated = grid_search.predict(X_testT)\n",
    "print(grid_search.best_params_)\n",
    "gs=grid_search.best_params_\n",
    "gss=grid_search\n",
    "print(\"Accuracy   :\",metrics.accuracy_score(y_testT, y_estimated))\n",
    "print(\"Accuracy F1:\",metrics.f1_score(y_testT, y_estimated, average=None).mean())"
   ]
  },
  {
   "cell_type": "code",
   "execution_count": 11,
   "metadata": {
    "scrolled": true
   },
   "outputs": [
    {
     "name": "stdout",
     "output_type": "stream",
     "text": [
      "Accuracy   : 0.804552590266876\n",
      "Accuracy F1: 0.8018473483071364\n"
     ]
    }
   ],
   "source": [
    "y_estimated2 = grid_search.predict(X_trainT)\n",
    "print(\"Accuracy   :\",metrics.accuracy_score(y_trainT, y_estimated2))\n",
    "print(\"Accuracy F1:\",metrics.f1_score(y_trainT, y_estimated2, average=None).mean())"
   ]
  },
  {
   "cell_type": "code",
   "execution_count": 12,
   "metadata": {},
   "outputs": [
    {
     "name": "stdout",
     "output_type": "stream",
     "text": [
      "{'max_features': 'auto', 'min_samples_leaf': 5, 'min_samples_split': 14}\n"
     ]
    }
   ],
   "source": [
    "params = {'max_features': ['auto', 'sqrt', 'log2'],\n",
    "          'min_samples_split':list(range(2,15)), \n",
    "          'min_samples_leaf':list(range(2,11)),\n",
    "         }\n",
    "grid_search = GridSearchCV(estimator = DecisionTreeClassifier(), param_grid=params, scoring='accuracy', cv=4, \n",
    "                           return_train_score=True, iid=False)\n",
    "grid_search.fit(X_trainT, y_trainT)\n",
    "print(grid_search.best_params_)\n"
   ]
  },
  {
   "cell_type": "code",
   "execution_count": 13,
   "metadata": {},
   "outputs": [
    {
     "name": "stdout",
     "output_type": "stream",
     "text": [
      "Train \n",
      "Accuracy: 0.6437921672960036 \n",
      "F1: 0.7778021515741125\n",
      "Test \n",
      "Accuracy: 0.5595738682416741 \n",
      "F1: 0.6268789142493012\n"
     ]
    }
   ],
   "source": [
    "print(\"Train\",\"\\nAccuracy:\",\n",
    "      cross_val_score(grid_search,X_trainT,y_trainT,cv=5,scoring='accuracy').mean(),\n",
    "      \"\\nF1:\",metrics.f1_score(y_trainT, grid_search.predict(X_trainT), average='weighted').mean() )\n",
    "print(\"Test\",\"\\nAccuracy:\",\n",
    "      cross_val_score(grid_search,X_testT,y_testT,cv=5,scoring='accuracy').mean(),\n",
    "      \"\\nF1:\",metrics.f1_score(y_testT, grid_search.predict(X_testT), average='weighted').mean() )\n"
   ]
  },
  {
   "cell_type": "markdown",
   "metadata": {},
   "source": [
    "# Random forest\n"
   ]
  },
  {
   "cell_type": "code",
   "execution_count": 17,
   "metadata": {},
   "outputs": [],
   "source": [
    "from sklearn.ensemble import RandomForestClassifier"
   ]
  },
  {
   "cell_type": "code",
   "execution_count": 18,
   "metadata": {},
   "outputs": [],
   "source": [
    "X_trainF, X_testF, y_trainF, y_testF = train_test_split(X, y, test_size=1/5, shuffle=True, random_state=42)"
   ]
  },
  {
   "cell_type": "code",
   "execution_count": 19,
   "metadata": {},
   "outputs": [],
   "source": [
    "clf = RandomForestClassifier(n_estimators=10)\n",
    "clf = clf.fit(X_trainF,y_trainF)\n",
    "y_pred = clf.predict(X_testF)"
   ]
  },
  {
   "cell_type": "code",
   "execution_count": 20,
   "metadata": {},
   "outputs": [
    {
     "name": "stdout",
     "output_type": "stream",
     "text": [
      "Accuracy   : 0.8840125391849529\n",
      "Accuracy F1: 0.8863278687827876\n"
     ]
    }
   ],
   "source": [
    "print(\"Accuracy   :\",metrics.accuracy_score(y_testF, y_pred))\n",
    "print(\"Accuracy F1:\",metrics.f1_score(y_testF, y_pred, average='macro'))"
   ]
  },
  {
   "cell_type": "code",
   "execution_count": 21,
   "metadata": {},
   "outputs": [],
   "source": [
    "paramsF = {'criterion':['gini','entropy'],\n",
    "          'n_estimators':[10,15,20,25,30],\n",
    "          'min_samples_leaf':[1,2,3],\n",
    "          'min_samples_split':[3,4,5,6,7]}"
   ]
  },
  {
   "cell_type": "code",
   "execution_count": 22,
   "metadata": {},
   "outputs": [
    {
     "name": "stdout",
     "output_type": "stream",
     "text": [
      "{'criterion': 'entropy', 'min_samples_leaf': 2, 'min_samples_split': 3, 'n_estimators': 25}\n",
      "Accuracy   : 0.9059561128526645\n",
      "Accuracy F1: 0.9071392305068964\n"
     ]
    }
   ],
   "source": [
    "grid_search = GridSearchCV(estimator = RandomForestClassifier(), param_grid=paramsF, scoring='accuracy', cv=5, \n",
    "                           return_train_score=True, iid=False)\n",
    "grid_search.fit(X_trainF, y_trainF)\n",
    "y_estimated = grid_search.predict(X_testF)\n",
    "print(grid_search.best_params_)\n",
    "print(\"Accuracy   :\",metrics.accuracy_score(y_testF, y_estimated))\n",
    "print(\"Accuracy F1:\",metrics.f1_score(y_testF, y_estimated, average=None).mean())"
   ]
  },
  {
   "cell_type": "code",
   "execution_count": 23,
   "metadata": {},
   "outputs": [
    {
     "name": "stdout",
     "output_type": "stream",
     "text": [
      "Accuracy   : 0.9984301412872841\n",
      "Accuracy F1: 0.998385161972634\n"
     ]
    }
   ],
   "source": [
    "y_estimated2 = grid_search.predict(X_trainF)\n",
    "print(\"Accuracy   :\",metrics.accuracy_score(y_trainF, y_estimated2))\n",
    "print(\"Accuracy F1:\",metrics.f1_score(y_trainF, y_estimated2, average=None).mean())"
   ]
  },
  {
   "cell_type": "code",
   "execution_count": 24,
   "metadata": {},
   "outputs": [
    {
     "name": "stdout",
     "output_type": "stream",
     "text": [
      "{'criterion': 'gini', 'min_samples_leaf': 2, 'min_samples_split': 5, 'n_estimators': 30}\n",
      "Train \n",
      "Accuracy: 0.9151977695967466 \n",
      "F1: 0.9976483007612701\n",
      "Test \n",
      "Accuracy: 0.8275263712151523 \n",
      "F1: 0.9157637562689656\n"
     ]
    }
   ],
   "source": [
    "paramsF = {'criterion':['gini','entropy'],\n",
    "          'n_estimators':[10,15,20,25,30],\n",
    "          'min_samples_leaf':[1,2,3],\n",
    "          'min_samples_split':[3,4,5,6,7]}\n",
    "\n",
    "grid_search = GridSearchCV(estimator = RandomForestClassifier(), param_grid=paramsF, scoring='accuracy', cv=4, \n",
    "                           return_train_score=True, iid=False)\n",
    "grid_search.fit(X_trainF, y_trainF)\n",
    "print(grid_search.best_params_)\n",
    "print(\"Train\",\"\\nAccuracy:\",\n",
    "      cross_val_score(grid_search,X_trainF,y_trainF,cv=5,scoring='accuracy').mean(),\n",
    "      \"\\nF1:\",metrics.f1_score(y_trainF, grid_search.predict(X_trainF), average='weighted').mean() )\n",
    "print(\"Test\",\"\\nAccuracy:\",\n",
    "      cross_val_score(grid_search,X_testF,y_testF,cv=5,scoring='accuracy').mean(),\n",
    "      \"\\nF1:\",metrics.f1_score(y_testF, grid_search.predict(X_testF), average='weighted').mean() )\n"
   ]
  },
  {
   "cell_type": "markdown",
   "metadata": {},
   "source": [
    "# SVM"
   ]
  },
  {
   "cell_type": "code",
   "execution_count": 25,
   "metadata": {},
   "outputs": [],
   "source": [
    "from sklearn import svm"
   ]
  },
  {
   "cell_type": "code",
   "execution_count": 26,
   "metadata": {},
   "outputs": [],
   "source": [
    "X_trainS, X_testS, y_trainS, y_testS = train_test_split(X, y, test_size=1/5, shuffle=True, random_state=42)"
   ]
  },
  {
   "cell_type": "code",
   "execution_count": 27,
   "metadata": {},
   "outputs": [],
   "source": [
    "clf = svm.SVC(gamma='auto')\n",
    "clf = clf.fit(X_trainS,y_trainS)\n",
    "y_pred = clf.predict(X_testS)"
   ]
  },
  {
   "cell_type": "code",
   "execution_count": 28,
   "metadata": {},
   "outputs": [
    {
     "name": "stdout",
     "output_type": "stream",
     "text": [
      "Accuracy   : 0.9341692789968652\n",
      "Accuracy F1: 0.9364061567845828\n"
     ]
    }
   ],
   "source": [
    "print(\"Accuracy   :\",metrics.accuracy_score(y_testS, y_pred))\n",
    "print(\"Accuracy F1:\",metrics.f1_score(y_testS, y_pred, average='macro'))"
   ]
  },
  {
   "cell_type": "code",
   "execution_count": 29,
   "metadata": {},
   "outputs": [],
   "source": [
    "paramsS = {'C': [6,7,8,9,10,11,12], \n",
    "          'kernel': ['linear','rbf']}"
   ]
  },
  {
   "cell_type": "code",
   "execution_count": 30,
   "metadata": {},
   "outputs": [
    {
     "name": "stdout",
     "output_type": "stream",
     "text": [
      "{'C': 9, 'kernel': 'rbf'}\n",
      "Test\n",
      "Accuracy   : 0.9529780564263323\n",
      "Accuracy F1: 0.9546137863345401\n"
     ]
    }
   ],
   "source": [
    "grid_search = GridSearchCV(estimator = clf, param_grid=paramsS, scoring='accuracy', cv=5, \n",
    "                           return_train_score=True, iid=False)\n",
    "grid_search.fit(X_trainS, y_trainS)\n",
    "y_estimated = grid_search.predict(X_testS)\n",
    "print(grid_search.best_params_)\n",
    "print(\"Test\")\n",
    "print(\"Accuracy   :\",metrics.accuracy_score(y_testS, y_estimated))\n",
    "print(\"Accuracy F1:\",metrics.f1_score(y_testS, y_estimated, average=None).mean())"
   ]
  },
  {
   "cell_type": "code",
   "execution_count": 31,
   "metadata": {},
   "outputs": [
    {
     "name": "stdout",
     "output_type": "stream",
     "text": [
      "Train\n",
      "Accuracy   : 1.0\n",
      "Accuracy F1: 1.0\n"
     ]
    }
   ],
   "source": [
    "y_estimated2 = grid_search.predict(X_trainS)\n",
    "print(\"Train\")\n",
    "print(\"Accuracy   :\",metrics.accuracy_score(y_trainS, y_estimated2))\n",
    "print(\"Accuracy F1:\",metrics.f1_score(y_trainS, y_estimated2, average=None).mean())"
   ]
  },
  {
   "cell_type": "code",
   "execution_count": 32,
   "metadata": {},
   "outputs": [
    {
     "name": "stdout",
     "output_type": "stream",
     "text": [
      "{'C': 9, 'kernel': 'rbf'}\n",
      "Train \n",
      "Accuracy: 0.9426480587605907 \n",
      "F1: 1.0\n",
      "Test \n",
      "Accuracy: 0.8751164741318019 \n",
      "F1: 0.9530758398053781\n"
     ]
    }
   ],
   "source": [
    "paramsS = {'C': [6,7,8,9,10,11,12], \n",
    "          'kernel': ['linear','rbf']}\n",
    "grid_search = GridSearchCV(estimator = clf, param_grid=paramsS, scoring='accuracy', cv=4, \n",
    "                           return_train_score=True, iid=False)\n",
    "grid_search.fit(X_trainS, y_trainS)\n",
    "print(grid_search.best_params_)\n",
    "print(\"Train\",\"\\nAccuracy:\",\n",
    "      cross_val_score(grid_search,X_trainS,y_trainS,cv=5,scoring='accuracy').mean(),\n",
    "      \"\\nF1:\",metrics.f1_score(y_trainS, grid_search.predict(X_trainS), average='weighted').mean() )\n",
    "print(\"Test\",\"\\nAccuracy:\",\n",
    "      cross_val_score(grid_search,X_testS,y_testS,cv=5,scoring='accuracy').mean(),\n",
    "      \"\\nF1:\",metrics.f1_score(y_testS, grid_search.predict(X_testS), average='weighted').mean() )"
   ]
  },
  {
   "cell_type": "markdown",
   "metadata": {},
   "source": [
    "# Multi-layer Perceptron classifier   (ceva nu mere bine )"
   ]
  },
  {
   "cell_type": "code",
   "execution_count": 33,
   "metadata": {},
   "outputs": [],
   "source": [
    "X_trainM, X_testM, y_trainM, y_testM = train_test_split(X, y, test_size=1/5, shuffle=True, random_state=42)"
   ]
  },
  {
   "cell_type": "code",
   "execution_count": 34,
   "metadata": {},
   "outputs": [],
   "source": [
    "clf = MLPClassifier(max_iter=100000)\n",
    "clf = clf.fit(X_trainM,y_trainM)\n",
    "y_pred = clf.predict(X_testM)"
   ]
  },
  {
   "cell_type": "code",
   "execution_count": 35,
   "metadata": {},
   "outputs": [
    {
     "name": "stdout",
     "output_type": "stream",
     "text": [
      "Accuracy   : 0.9216300940438872\n",
      "Accuracy F1: 0.9235404012978503\n"
     ]
    }
   ],
   "source": [
    "print(\"Accuracy   :\",metrics.accuracy_score(y_testM, y_pred))\n",
    "print(\"Accuracy F1:\",metrics.f1_score(y_testM, y_pred, average='macro'))"
   ]
  },
  {
   "cell_type": "code",
   "execution_count": 36,
   "metadata": {},
   "outputs": [],
   "source": [
    "# paramsM = {'activation' : ['identity', 'logistic', 'tanh', 'relu'], \n",
    "#           'solver' : ['lbfgs', 'sgd', 'adam'],\n",
    "#           'alpha':[0.1, 0.001, 0.0001],\n",
    "#           'hidden_layer_sizes': [\n",
    "#              (1,),(2,),(3,),(4,),(5,),(6,),(7,),(8,),(9,),(10,),(11,), (12,),(13,),(14,),(15,),(16,),(17,),(18,),(19,),(20,),(21,)\n",
    "#              ]}"
   ]
  },
  {
   "cell_type": "code",
   "execution_count": 37,
   "metadata": {},
   "outputs": [],
   "source": [
    "# clf = GridSearchCV(MLPClassifier(hidden_layer_sizes=(100,100,100), max_iter=1000, alpha=0.001,\n",
    "#                      solver='sgd', verbose=10,  random_state=21,tol=0.000000001), param_grid, cv=5,\n",
    "#                            scoring='accuracy')\n",
    "# clf.fit(X_trainM,y_trainM)\n",
    "\n",
    "\n",
    "# print(\"Best parameters set found on development set:\")\n",
    "# print(clf.best_params_)"
   ]
  },
  {
   "cell_type": "code",
   "execution_count": 38,
   "metadata": {},
   "outputs": [],
   "source": [
    "# clf = MLPClassifier(hidden_layer_sizes=(100,100,100), max_iter=500, alpha=0.0001,\n",
    "#                      solver='sgd', verbose=10,  random_state=21,tol=0.000000001)"
   ]
  },
  {
   "cell_type": "code",
   "execution_count": 39,
   "metadata": {},
   "outputs": [],
   "source": [
    "# grid_searchM = GridSearchCV(estimator = MLPClassifier(max_iter=1000), param_grid=paramsM, scoring='accuracy', cv=5, \n",
    "#                            return_train_score=True, iid=False)\n",
    "# grid_searchM.fit(X_trainM, y_trainM)\n",
    "# y_estimated = grid_search.predict(X_testM)\n",
    "# print(grid_search.best_params_)\n",
    "# print(\"Test\")\n",
    "# print(\"Accuracy   :\",metrics.accuracy_score(y_testM, y_estimated))\n",
    "# print(\"Accuracy F1:\",metrics.f1_score(y_testM, y_estimated, average=None).mean())"
   ]
  },
  {
   "cell_type": "code",
   "execution_count": 40,
   "metadata": {},
   "outputs": [],
   "source": [
    "# y_estimated2 = grid_search.predict(X_trainM)\n",
    "# print(\"Train\")\n",
    "# print(\"Accuracy   :\",metrics.accuracy_score(y_trainM, y_estimated2))\n",
    "# print(\"Accuracy F1:\",metrics.f1_score(y_trainM, y_estimated2, average=None).mean())"
   ]
  },
  {
   "cell_type": "code",
   "execution_count": 41,
   "metadata": {},
   "outputs": [],
   "source": [
    "# paramsM = {'activation' : ['identity', 'logistic', 'tanh', 'relu'], \n",
    "#           'solver' : ['lbfgs', 'sgd', 'adam'],\n",
    "#           'alpha':[0.1, 0.001, 0.0001]}\n",
    "# grid_search = GridSearchCV(estimator = clf, param_grid=paramsS, scoring='accuracy', cv=4, \n",
    "#                            return_train_score=True, iid=False)\n",
    "# grid_search.fit(X_trainM, y_trainM)\n",
    "# print(grid_search.best_params_)\n",
    "# print(\"Train\",\"\\nAccuracy:\",\n",
    "#       cross_val_score(grid_search,X_trainM,y_trainM,cv=5,scoring='accuracy').mean(),\n",
    "#       \"\\nF1:\",metrics.f1_score(y_trainM, grid_search.predict(X_trainM), average='weighted').mean() )\n",
    "# print(\"Test\",\"\\nAccuracy:\",\n",
    "#       cross_val_score(grid_search,X_testM,y_testM,cv=5,scoring='accuracy').mean(),\n",
    "#       \"\\nF1:\",metrics.f1_score(y_testM, grid_search.predict(X_testM), average='weighted').mean() )"
   ]
  },
  {
   "cell_type": "code",
   "execution_count": null,
   "metadata": {},
   "outputs": [],
   "source": []
  },
  {
   "cell_type": "markdown",
   "metadata": {},
   "source": [
    "# KNN"
   ]
  },
  {
   "cell_type": "code",
   "execution_count": 42,
   "metadata": {},
   "outputs": [],
   "source": [
    "from sklearn.neighbors import KNeighborsClassifier"
   ]
  },
  {
   "cell_type": "code",
   "execution_count": 67,
   "metadata": {},
   "outputs": [],
   "source": [
    "X_trainKN, X_testKN, y_trainKN, y_testKN = train_test_split(X, y, test_size=1/5, shuffle=True, random_state=42)\n"
   ]
  },
  {
   "cell_type": "code",
   "execution_count": 69,
   "metadata": {},
   "outputs": [],
   "source": [
    "clf = KNeighborsClassifier()\n",
    "clf = clf.fit(X_trainKN,y_trainKN)\n",
    "y_pred = clf.predict(X_testKN)"
   ]
  },
  {
   "cell_type": "code",
   "execution_count": 45,
   "metadata": {},
   "outputs": [
    {
     "name": "stdout",
     "output_type": "stream",
     "text": [
      "Accuracy   : 0.9090909090909091\n",
      "Accuracy F1: 0.9096138043248267\n"
     ]
    }
   ],
   "source": [
    "print(\"Accuracy   :\",metrics.accuracy_score(y_testKN, y_pred))\n",
    "print(\"Accuracy F1:\",metrics.f1_score(y_testKN, y_pred, average='macro'))"
   ]
  },
  {
   "cell_type": "code",
   "execution_count": 46,
   "metadata": {},
   "outputs": [],
   "source": [
    "parameter_gridKN = {'n_neighbors': list(range(1,10)),\n",
    "                  'p': [1, 2, 3, 4.7]}"
   ]
  },
  {
   "cell_type": "code",
   "execution_count": 47,
   "metadata": {},
   "outputs": [
    {
     "name": "stdout",
     "output_type": "stream",
     "text": [
      "{'n_neighbors': 1, 'p': 1}\n"
     ]
    }
   ],
   "source": [
    "grid_search = GridSearchCV(estimator = KNeighborsClassifier(), param_grid=parameter_gridKN, scoring='accuracy', cv=5, \n",
    "                           return_train_score=True, iid=False)\n",
    "grid_search.fit(X_trainKN, y_trainKN)\n",
    "y_estimated=grid_search.predict(X_testKN)\n",
    "print(grid_search.best_params_)"
   ]
  },
  {
   "cell_type": "code",
   "execution_count": 64,
   "metadata": {},
   "outputs": [
    {
     "name": "stdout",
     "output_type": "stream",
     "text": [
      "Test\n",
      "Accuracy   : 0.799373040752351\n",
      "Accuracy F1: 0.8100834593470416\n"
     ]
    }
   ],
   "source": [
    "print(\"Test\")\n",
    "print(\"Accuracy   :\",metrics.accuracy_score(y_testKN, y_estimated))\n",
    "print(\"Accuracy F1:\",metrics.f1_score(y_testKN, y_estimated, average=None).mean())"
   ]
  },
  {
   "cell_type": "code",
   "execution_count": 65,
   "metadata": {},
   "outputs": [
    {
     "name": "stdout",
     "output_type": "stream",
     "text": [
      "Train\n",
      "Accuracy   : 0.8131868131868132\n",
      "Accuracy F1: 0.8191182460054233\n"
     ]
    }
   ],
   "source": [
    "y_estimated2 = grid_search.predict(X_trainKN)\n",
    "print(\"Train\")\n",
    "print(\"Accuracy   :\",metrics.accuracy_score(y_trainKN, y_estimated2))\n",
    "print(\"Accuracy F1:\",metrics.f1_score(y_trainKN, y_estimated2, average=None).mean())"
   ]
  },
  {
   "cell_type": "code",
   "execution_count": 71,
   "metadata": {},
   "outputs": [
    {
     "name": "stdout",
     "output_type": "stream",
     "text": [
      "{'n_neighbors': 1, 'p': 1}\n",
      "Train \n",
      "Accuracy: 0.8948158544833736 \n",
      "F1: 1.0\n",
      "Test \n",
      "Accuracy: 0.8677757138320924 \n",
      "F1: 0.9176310679992338\n"
     ]
    }
   ],
   "source": [
    "parameterKN = {'n_neighbors': list(range(1,10)),\n",
    "                  'p': [1, 2, 3, 4.7]}\n",
    "grid_search = GridSearchCV(estimator = clf, param_grid=parameterKN, scoring='accuracy', cv=4, \n",
    "                           return_train_score=True, iid=False)\n",
    "grid_search.fit(X_trainKN, y_trainKN)\n",
    "\n",
    "print(grid_search.best_params_)\n",
    "print(\"Train\",\"\\nAccuracy:\",\n",
    "      cross_val_score(grid_search,X_trainKN,y_trainKN,cv=5,scoring='accuracy').mean(),\n",
    "      \"\\nF1:\",metrics.f1_score(y_trainKN, grid_search.predict(X_trainKN), average='weighted').mean() )\n",
    "print(\"Test\",\"\\nAccuracy:\",\n",
    "      cross_val_score(grid_search,X_testKN,y_testKN,cv=5,scoring='accuracy').mean(),\n",
    "      \"\\nF1:\",metrics.f1_score(y_testKN, grid_search.predict(X_testKN), average='weighted').mean() )"
   ]
  },
  {
   "cell_type": "code",
   "execution_count": null,
   "metadata": {},
   "outputs": [],
   "source": []
  },
  {
   "cell_type": "markdown",
   "metadata": {},
   "source": [
    "# Gaussian Naive bayes"
   ]
  },
  {
   "cell_type": "code",
   "execution_count": 49,
   "metadata": {},
   "outputs": [],
   "source": [
    "from sklearn.naive_bayes import GaussianNB"
   ]
  },
  {
   "cell_type": "code",
   "execution_count": 50,
   "metadata": {},
   "outputs": [],
   "source": [
    "X_trainGNB, X_testGNB, y_trainGNB, y_testGNB = train_test_split(X, y, test_size=1/5, shuffle=True, random_state=42)"
   ]
  },
  {
   "cell_type": "code",
   "execution_count": 51,
   "metadata": {},
   "outputs": [],
   "source": [
    "clf = GaussianNB()\n",
    "clf.fit(X_trainGNB, y_trainGNB)\n",
    "y_pred = clf.predict(X_testGNB)"
   ]
  },
  {
   "cell_type": "code",
   "execution_count": 52,
   "metadata": {},
   "outputs": [
    {
     "name": "stdout",
     "output_type": "stream",
     "text": [
      "Accuracy   : 0.799373040752351\n",
      "Accuracy F1: 0.8100834593470416\n"
     ]
    }
   ],
   "source": [
    "print(\"Accuracy   :\",metrics.accuracy_score(y_testGNB, y_pred))\n",
    "print(\"Accuracy F1:\",metrics.f1_score(y_testGNB, y_pred, average='macro'))"
   ]
  },
  {
   "cell_type": "code",
   "execution_count": 53,
   "metadata": {},
   "outputs": [],
   "source": [
    "paramsGNB = {}"
   ]
  },
  {
   "cell_type": "code",
   "execution_count": 54,
   "metadata": {},
   "outputs": [
    {
     "name": "stdout",
     "output_type": "stream",
     "text": [
      "{}\n"
     ]
    }
   ],
   "source": [
    "grid_search = GridSearchCV(estimator = GaussianNB(), param_grid=paramsGNB, scoring='accuracy', cv=5, \n",
    "                           return_train_score=True, iid=False)\n",
    "grid_search.fit(X_trainGNB, y_trainGNB)\n",
    "y_estimated=grid_search.predict(X_testGNB)\n",
    "print(grid_search.best_params_)"
   ]
  },
  {
   "cell_type": "code",
   "execution_count": 55,
   "metadata": {},
   "outputs": [
    {
     "name": "stdout",
     "output_type": "stream",
     "text": [
      "Test\n",
      "Accuracy   : 0.799373040752351\n",
      "Accuracy F1: 0.8100834593470416\n"
     ]
    }
   ],
   "source": [
    "print(\"Test\")\n",
    "print(\"Accuracy   :\",metrics.accuracy_score(y_testGNB, y_estimated))\n",
    "print(\"Accuracy F1:\",metrics.f1_score(y_testGNB, y_estimated, average=None).mean())"
   ]
  },
  {
   "cell_type": "code",
   "execution_count": 56,
   "metadata": {},
   "outputs": [
    {
     "name": "stdout",
     "output_type": "stream",
     "text": [
      "Train\n",
      "Accuracy   : 0.8131868131868132\n",
      "Accuracy F1: 0.8191182460054233\n"
     ]
    }
   ],
   "source": [
    "y_estimated2 = grid_search.predict(X_trainGNB)\n",
    "print(\"Train\")\n",
    "print(\"Accuracy   :\",metrics.accuracy_score(y_trainGNB, y_estimated2))\n",
    "print(\"Accuracy F1:\",metrics.f1_score(y_trainGNB, y_estimated2, average=None).mean())"
   ]
  },
  {
   "cell_type": "code",
   "execution_count": 57,
   "metadata": {},
   "outputs": [
    {
     "name": "stdout",
     "output_type": "stream",
     "text": [
      "{}\n",
      "Train \n",
      "Accuracy: 0.7788064362233159 \n",
      "F1: 0.8201689933539731\n",
      "Test \n",
      "Accuracy: 0.693490855833512 \n",
      "F1: 0.8057651286145466\n"
     ]
    }
   ],
   "source": [
    "parameterGNB = {}\n",
    "grid_search = GridSearchCV(estimator = clf, param_grid=parameterGNB, scoring='accuracy', cv=4, \n",
    "                           return_train_score=True, iid=False)\n",
    "grid_search.fit(X_trainGNB, y_trainGNB)\n",
    "\n",
    "print(grid_search.best_params_)\n",
    "print(\"Train\",\"\\nAccuracy:\",\n",
    "      cross_val_score(grid_search,X_trainGNB,y_trainGNB,cv=5,scoring='accuracy').mean(),\n",
    "      \"\\nF1:\",metrics.f1_score(y_trainGNB, grid_search.predict(X_trainGNB), average='weighted').mean() )\n",
    "print(\"Test\",\"\\nAccuracy:\",\n",
    "      cross_val_score(grid_search,X_testGNB,y_testGNB,cv=5,scoring='accuracy').mean(),\n",
    "      \"\\nF1:\",metrics.f1_score(y_testGNB, grid_search.predict(X_testGNB), average='weighted').mean() )"
   ]
  },
  {
   "cell_type": "code",
   "execution_count": 63,
   "metadata": {},
   "outputs": [
    {
     "data": {
      "text/plain": [
       "0.8067961497884772"
      ]
     },
     "execution_count": 63,
     "metadata": {},
     "output_type": "execute_result"
    }
   ],
   "source": [
    "def cross_val(params):\n",
    "    model = GaussianNB()\n",
    "    model.set_params(**params)\n",
    "    cv_results = cross_val_score(model, X_trainGNB, y_trainGNB,\n",
    "                             cv = 5, \n",
    "                             scoring = \"accuracy\",\n",
    "                             \n",
    "                            )\n",
    "    return cv_results.mean()\n",
    "\n",
    "params = {\n",
    "          \"var_smoothing\" : 1e-9\n",
    "}\n",
    "steps = [1e-8, 1e-7, 1e-6, 1e-5]\n",
    "\n",
    "# #will contain the cv results\n",
    "results = []\n",
    "for step in steps:        \n",
    "    params[\"var_smoothing\"] = step        \n",
    "    cv_result = cross_val(params)\n",
    "\n",
    "    #save result\n",
    "    results=np.append(results,cv_result)\n",
    "results.mean()\n"
   ]
  },
  {
   "cell_type": "code",
   "execution_count": null,
   "metadata": {},
   "outputs": [],
   "source": []
  }
 ],
 "metadata": {
  "kernelspec": {
   "display_name": "Python 3",
   "language": "python",
   "name": "python3"
  },
  "language_info": {
   "codemirror_mode": {
    "name": "ipython",
    "version": 3
   },
   "file_extension": ".py",
   "mimetype": "text/x-python",
   "name": "python",
   "nbconvert_exporter": "python",
   "pygments_lexer": "ipython3",
   "version": "3.7.4"
  }
 },
 "nbformat": 4,
 "nbformat_minor": 2
}
