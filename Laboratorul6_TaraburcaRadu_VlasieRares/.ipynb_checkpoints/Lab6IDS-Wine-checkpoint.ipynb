{
 "cells": [
  {
   "cell_type": "markdown",
   "metadata": {},
   "source": [
    "# Laborator 6 - Teme \n",
    "<br>\n",
    "Autori:\n",
    "Taraburca Radu,\n",
    "Vlasie Rares\n",
    "<br>\n",
    "Dataset: Wine"
   ]
  },
  {
   "cell_type": "code",
   "execution_count": 10,
   "metadata": {
    "ExecuteTime": {
     "end_time": "2020-04-16T16:54:41.317383Z",
     "start_time": "2020-04-16T16:54:41.308407Z"
    }
   },
   "outputs": [],
   "source": [
    "import pandas as pd\n",
    "import numpy as np\n",
    "from sklearn.model_selection import train_test_split\n",
    "from sklearn.model_selection import GridSearchCV\n",
    "from sklearn.metrics import accuracy_score\n",
    "from sklearn.model_selection import cross_val_score\n",
    "from numpy import array\n",
    "from sklearn.model_selection import KFold\n",
    "from sklearn.neighbors import KNeighborsClassifier\n",
    "from sklearn.tree import DecisionTreeClassifier\n",
    "from sklearn.model_selection import RandomizedSearchCV\n",
    "import sklearn\n",
    "from sklearn.ensemble import RandomForestClassifier\n",
    "from sklearn import svm\n",
    "from sklearn.neural_network import MLPClassifier\n",
    "from sklearn import metrics\n",
    "from sklearn.naive_bayes import GaussianNB"
   ]
  },
  {
   "cell_type": "code",
   "execution_count": 11,
   "metadata": {
    "ExecuteTime": {
     "end_time": "2020-04-16T16:54:42.353576Z",
     "start_time": "2020-04-16T16:54:41.889869Z"
    }
   },
   "outputs": [
    {
     "name": "stdout",
     "output_type": "stream",
     "text": [
      "Describe Dataset \n",
      "\n",
      "<class 'pandas.core.frame.DataFrame'>\n",
      "RangeIndex: 178 entries, 0 to 177\n",
      "Data columns (total 14 columns):\n",
      " #   Column  Non-Null Count  Dtype  \n",
      "---  ------  --------------  -----  \n",
      " 0   0       178 non-null    int64  \n",
      " 1   1       178 non-null    float64\n",
      " 2   2       178 non-null    float64\n",
      " 3   3       178 non-null    float64\n",
      " 4   4       178 non-null    float64\n",
      " 5   5       178 non-null    int64  \n",
      " 6   6       178 non-null    float64\n",
      " 7   7       178 non-null    float64\n",
      " 8   8       178 non-null    float64\n",
      " 9   9       178 non-null    float64\n",
      " 10  10      178 non-null    float64\n",
      " 11  11      178 non-null    float64\n",
      " 12  12      178 non-null    float64\n",
      " 13  13      178 non-null    int64  \n",
      "dtypes: float64(11), int64(3)\n",
      "memory usage: 19.6 KB\n",
      "None\n",
      "   0      1     2     3     4    5     6     7     8     9     10    11    12  \\\n",
      "0   1  14.23  1.71  2.43  15.6  127  2.80  3.06  0.28  2.29  5.64  1.04  3.92   \n",
      "1   1  13.20  1.78  2.14  11.2  100  2.65  2.76  0.26  1.28  4.38  1.05  3.40   \n",
      "2   1  13.16  2.36  2.67  18.6  101  2.80  3.24  0.30  2.81  5.68  1.03  3.17   \n",
      "3   1  14.37  1.95  2.50  16.8  113  3.85  3.49  0.24  2.18  7.80  0.86  3.45   \n",
      "4   1  13.24  2.59  2.87  21.0  118  2.80  2.69  0.39  1.82  4.32  1.04  2.93   \n",
      "\n",
      "     13  \n",
      "0  1065  \n",
      "1  1050  \n",
      "2  1185  \n",
      "3  1480  \n",
      "4   735  \n",
      "               0           1           2           3           4           5   \\\n",
      "count  178.000000  178.000000  178.000000  178.000000  178.000000  178.000000   \n",
      "mean     1.938202   13.000618    2.336348    2.366517   19.494944   99.741573   \n",
      "std      0.775035    0.811827    1.117146    0.274344    3.339564   14.282484   \n",
      "min      1.000000   11.030000    0.740000    1.360000   10.600000   70.000000   \n",
      "25%      1.000000   12.362500    1.602500    2.210000   17.200000   88.000000   \n",
      "50%      2.000000   13.050000    1.865000    2.360000   19.500000   98.000000   \n",
      "75%      3.000000   13.677500    3.082500    2.557500   21.500000  107.000000   \n",
      "max      3.000000   14.830000    5.800000    3.230000   30.000000  162.000000   \n",
      "\n",
      "               6           7           8           9           10          11  \\\n",
      "count  178.000000  178.000000  178.000000  178.000000  178.000000  178.000000   \n",
      "mean     2.295112    2.029270    0.361854    1.590899    5.058090    0.957449   \n",
      "std      0.625851    0.998859    0.124453    0.572359    2.318286    0.228572   \n",
      "min      0.980000    0.340000    0.130000    0.410000    1.280000    0.480000   \n",
      "25%      1.742500    1.205000    0.270000    1.250000    3.220000    0.782500   \n",
      "50%      2.355000    2.135000    0.340000    1.555000    4.690000    0.965000   \n",
      "75%      2.800000    2.875000    0.437500    1.950000    6.200000    1.120000   \n",
      "max      3.880000    5.080000    0.660000    3.580000   13.000000    1.710000   \n",
      "\n",
      "               12           13  \n",
      "count  178.000000   178.000000  \n",
      "mean     2.611685   746.893258  \n",
      "std      0.709990   314.907474  \n",
      "min      1.270000   278.000000  \n",
      "25%      1.937500   500.500000  \n",
      "50%      2.780000   673.500000  \n",
      "75%      3.170000   985.000000  \n",
      "max      4.000000  1680.000000  \n"
     ]
    }
   ],
   "source": [
    "# data = pd.read_csv('./data/wine.data', ',', header=None)\n",
    "data = pd.read_csv('http://archive.ics.uci.edu/ml/machine-learning-databases/wine/wine.data', ',', header=None)\n",
    "print(\"Describe Dataset\",\"\\n\")\n",
    "print(data.info())\n",
    "print(data.head())\n",
    "print(data.describe())"
   ]
  },
  {
   "cell_type": "code",
   "execution_count": 12,
   "metadata": {
    "ExecuteTime": {
     "end_time": "2020-04-16T16:54:46.840352Z",
     "start_time": "2020-04-16T16:54:46.834367Z"
    }
   },
   "outputs": [],
   "source": [
    "x= data.values[:,1:]\n",
    "y=data.values[:,0]"
   ]
  },
  {
   "cell_type": "code",
   "execution_count": 13,
   "metadata": {
    "ExecuteTime": {
     "end_time": "2020-04-16T16:54:48.061235Z",
     "start_time": "2020-04-16T16:54:48.051262Z"
    }
   },
   "outputs": [
    {
     "name": "stdout",
     "output_type": "stream",
     "text": [
      "\n",
      "(178, 13)\n",
      "(178,)\n",
      "(36,)\n",
      "(142,)\n"
     ]
    }
   ],
   "source": [
    "from sklearn.preprocessing import MinMaxScaler\n",
    "x= data.values[:,1:]\n",
    "scaler = MinMaxScaler()\n",
    "scaler.fit(x)\n",
    "x = scaler.transform(x)\n",
    "print()\n",
    "print(x.shape)\n",
    "y=data.values[:,0]\n",
    "print(y.shape)\n",
    "X_train, X_test, y_train, y_test = train_test_split(x, y, test_size=1/5, shuffle=True, random_state=42)\n",
    "print(y_test.shape)\n",
    "print(y_train.shape)\n"
   ]
  },
  {
   "cell_type": "markdown",
   "metadata": {},
   "source": [
    "# Decision Tree"
   ]
  },
  {
   "cell_type": "code",
   "execution_count": 14,
   "metadata": {
    "ExecuteTime": {
     "end_time": "2020-04-16T16:54:53.105933Z",
     "start_time": "2020-04-16T16:54:53.101944Z"
    }
   },
   "outputs": [],
   "source": [
    "X_trainT, X_testT, y_trainT, y_testT= train_test_split(x, y, test_size=1/5, shuffle=True, random_state=42)"
   ]
  },
  {
   "cell_type": "code",
   "execution_count": 15,
   "metadata": {
    "ExecuteTime": {
     "end_time": "2020-04-16T16:54:53.623120Z",
     "start_time": "2020-04-16T16:54:53.618131Z"
    }
   },
   "outputs": [],
   "source": [
    "clf = DecisionTreeClassifier()\n",
    "clf = clf.fit(X_trainT,y_trainT)\n",
    "y_pred = clf.predict(X_testT)"
   ]
  },
  {
   "cell_type": "code",
   "execution_count": 16,
   "metadata": {
    "ExecuteTime": {
     "end_time": "2020-04-16T16:54:54.081647Z",
     "start_time": "2020-04-16T16:54:54.074691Z"
    }
   },
   "outputs": [
    {
     "name": "stdout",
     "output_type": "stream",
     "text": [
      "Accuracy   : 0.9444444444444444\n",
      "Accuracy F1: 0.9424740010946907\n"
     ]
    }
   ],
   "source": [
    "print(\"Accuracy   :\",metrics.accuracy_score(y_testT, y_pred))\n",
    "print(\"Accuracy F1:\",metrics.f1_score(y_testT, y_pred, average='macro'))"
   ]
  },
  {
   "cell_type": "code",
   "execution_count": 17,
   "metadata": {
    "ExecuteTime": {
     "end_time": "2020-04-16T16:55:00.081792Z",
     "start_time": "2020-04-16T16:54:56.352595Z"
    }
   },
   "outputs": [
    {
     "name": "stdout",
     "output_type": "stream",
     "text": [
      "{'max_features': 'log2', 'min_samples_leaf': 2, 'min_samples_split': 6}\n",
      "Accuracy   : 0.9166666666666666\n",
      "Accuracy F1: 0.9064039408866996\n"
     ]
    }
   ],
   "source": [
    "params = {'max_features': ['auto', 'sqrt', 'log2'],\n",
    "          'min_samples_split':list(range(2,15)), \n",
    "          'min_samples_leaf':list(range(2,11)),\n",
    "         }\n",
    "grid_search = GridSearchCV(estimator = DecisionTreeClassifier(), param_grid=params, scoring='accuracy', cv=5, \n",
    "                           return_train_score=True)\n",
    "grid_search.fit(X_trainT, y_trainT)\n",
    "y_estimated = grid_search.predict(X_testT)\n",
    "print(grid_search.best_params_)\n",
    "print(\"Accuracy   :\",metrics.accuracy_score(y_testT, y_estimated))\n",
    "print(\"Accuracy F1:\",metrics.f1_score(y_testT, y_estimated, average=None).mean())"
   ]
  },
  {
   "cell_type": "code",
   "execution_count": 18,
   "metadata": {
    "ExecuteTime": {
     "end_time": "2020-04-16T16:55:04.273904Z",
     "start_time": "2020-04-16T16:55:04.265926Z"
    }
   },
   "outputs": [
    {
     "name": "stdout",
     "output_type": "stream",
     "text": [
      "0.9577464788732394\n",
      "0.9593167701863354\n"
     ]
    }
   ],
   "source": [
    "y_estimated2 = grid_search.predict(X_trainT)\n",
    "print(metrics.accuracy_score(y_trainT, y_estimated2))\n",
    "print(metrics.f1_score(y_trainT, y_estimated2, average=None).mean())"
   ]
  },
  {
   "cell_type": "code",
   "execution_count": 19,
   "metadata": {
    "ExecuteTime": {
     "end_time": "2020-04-16T16:55:35.530628Z",
     "start_time": "2020-04-16T16:55:05.907200Z"
    }
   },
   "outputs": [
    {
     "name": "stdout",
     "output_type": "stream",
     "text": [
      "{'max_features': 'log2', 'min_samples_leaf': 2, 'min_samples_split': 8}\n",
      "Train \n",
      "Accuracy: 0.8657635467980296 \n",
      "F1: 0.9929488017504146\n",
      "Test \n",
      "Accuracy: 0.775 \n",
      "F1: 0.9176362466685047\n"
     ]
    }
   ],
   "source": [
    "params = {'max_features': ['auto', 'sqrt', 'log2'],\n",
    "          'min_samples_split':list(range(2,15)), \n",
    "          'min_samples_leaf':list(range(2,11)),\n",
    "         }\n",
    "grid_search = GridSearchCV(estimator = DecisionTreeClassifier(), param_grid=params, scoring='accuracy', cv=4, \n",
    "                           return_train_score=True)\n",
    "# grid_search.fit(X_train, y_train)\n",
    "print(grid_search.best_params_)\n",
    "print(\"Train\",\"\\nAccuracy:\",\n",
    "      cross_val_score(grid_search,X_train,y_train,cv=5,scoring='accuracy').mean(),\n",
    "      \"\\nF1:\",metrics.f1_score(y_train, grid_search.predict(X_train), average='weighted').mean() )\n",
    "print(\"Test\",\"\\nAccuracy:\",\n",
    "      cross_val_score(grid_search,X_test,y_test,cv=5,scoring='accuracy').mean(),\n",
    "      \"\\nF1:\",metrics.f1_score(y_test, grid_search.predict(X_test), average='weighted').mean() )"
   ]
  },
  {
   "cell_type": "markdown",
   "metadata": {},
   "source": [
    "# Random Forest"
   ]
  },
  {
   "cell_type": "code",
   "execution_count": 23,
   "metadata": {
    "ExecuteTime": {
     "end_time": "2020-04-16T16:57:01.440154Z",
     "start_time": "2020-04-16T16:57:01.435166Z"
    }
   },
   "outputs": [],
   "source": [
    "X_trainF, X_testF, y_trainF, y_testF = train_test_split(x, y, test_size=1/5, shuffle=True, random_state=42)"
   ]
  },
  {
   "cell_type": "code",
   "execution_count": 28,
   "metadata": {
    "ExecuteTime": {
     "end_time": "2020-04-16T16:58:14.963558Z",
     "start_time": "2020-04-16T16:58:14.724175Z"
    }
   },
   "outputs": [],
   "source": [
    "clf = RandomForestClassifier(n_estimators=100)\n",
    "clf = clf.fit(X_trainF,y_trainF)\n",
    "y_pred = clf.predict(X_testF)"
   ]
  },
  {
   "cell_type": "code",
   "execution_count": 29,
   "metadata": {
    "ExecuteTime": {
     "end_time": "2020-04-16T16:58:14.977521Z",
     "start_time": "2020-04-16T16:58:14.970551Z"
    }
   },
   "outputs": [
    {
     "name": "stdout",
     "output_type": "stream",
     "text": [
      "Accuracy   : 1.0\n",
      "Accuracy F1: 1.0\n"
     ]
    }
   ],
   "source": [
    "print(\"Accuracy   :\",metrics.accuracy_score(y_testF, y_pred))\n",
    "print(\"Accuracy F1:\",metrics.f1_score(y_testF, y_pred, average='macro'))"
   ]
  },
  {
   "cell_type": "code",
   "execution_count": 32,
   "metadata": {
    "ExecuteTime": {
     "end_time": "2020-04-16T16:59:24.139592Z",
     "start_time": "2020-04-16T16:59:24.133611Z"
    }
   },
   "outputs": [],
   "source": [
    "paramsF = {'criterion':['gini','entropy'],\n",
    "          'n_estimators':[10,15,20,25,30],\n",
    "          'min_samples_leaf':[1,2,3],\n",
    "          'min_samples_split':[3,4,5,6,7]}"
   ]
  },
  {
   "cell_type": "code",
   "execution_count": 31,
   "metadata": {
    "ExecuteTime": {
     "end_time": "2020-04-16T16:59:08.570361Z",
     "start_time": "2020-04-16T16:58:34.977688Z"
    }
   },
   "outputs": [
    {
     "name": "stdout",
     "output_type": "stream",
     "text": [
      "{'criterion': 'entropy', 'min_samples_leaf': 2, 'min_samples_split': 5, 'n_estimators': 25}\n",
      "Accuracy   : 1.0\n",
      "Accuracy F1: 1.0\n"
     ]
    }
   ],
   "source": [
    "grid_search = GridSearchCV(estimator = RandomForestClassifier(), param_grid=paramsF, scoring='accuracy', cv=5, \n",
    "                           return_train_score=True)\n",
    "grid_search.fit(X_trainF, y_trainF)\n",
    "y_estimated = grid_search.predict(X_testF)\n",
    "print(grid_search.best_params_)\n",
    "print(\"Accuracy   :\",metrics.accuracy_score(y_testF, y_estimated))\n",
    "print(\"Accuracy F1:\",metrics.f1_score(y_testF, y_estimated, average=None).mean())"
   ]
  },
  {
   "cell_type": "code",
   "execution_count": 33,
   "metadata": {
    "ExecuteTime": {
     "end_time": "2020-04-16T16:59:27.338972Z",
     "start_time": "2020-04-16T16:59:27.328001Z"
    }
   },
   "outputs": [
    {
     "name": "stdout",
     "output_type": "stream",
     "text": [
      "Accuracy   : 1.0\n",
      "Accuracy F1: 1.0\n"
     ]
    }
   ],
   "source": [
    "y_estimated2 = grid_search.predict(X_trainF)\n",
    "print(\"Accuracy   :\",metrics.accuracy_score(y_trainF, y_estimated2))\n",
    "print(\"Accuracy F1:\",metrics.f1_score(y_trainF, y_estimated2, average=None).mean())"
   ]
  },
  {
   "cell_type": "code",
   "execution_count": 34,
   "metadata": {
    "ExecuteTime": {
     "end_time": "2020-04-16T17:04:35.998283Z",
     "start_time": "2020-04-16T16:59:29.288669Z"
    }
   },
   "outputs": [
    {
     "name": "stdout",
     "output_type": "stream",
     "text": [
      "{'criterion': 'entropy', 'min_samples_leaf': 2, 'min_samples_split': 3, 'n_estimators': 10}\n",
      "Train \n",
      "Accuracy: 0.9716748768472907 \n",
      "F1: 0.9929488017504146\n",
      "Test \n",
      "Accuracy: 0.9428571428571428 \n",
      "F1: 1.0\n"
     ]
    }
   ],
   "source": [
    "paramsF = {'criterion':['gini','entropy'],\n",
    "          'n_estimators':[10,15,20,25,30],\n",
    "          'min_samples_leaf':[1,2,3],\n",
    "          'min_samples_split':[3,4,5,6,7]}\n",
    "\n",
    "grid_search = GridSearchCV(estimator = RandomForestClassifier(), param_grid=paramsF, scoring='accuracy', cv=4, \n",
    "                           return_train_score=True)\n",
    "grid_search.fit(X_trainF, y_trainF)\n",
    "print(grid_search.best_params_)\n",
    "print(\"Train\",\"\\nAccuracy:\",\n",
    "      cross_val_score(grid_search,X_trainF,y_trainF,cv=5,scoring='accuracy').mean(),\n",
    "      \"\\nF1:\",metrics.f1_score(y_trainF, grid_search.predict(X_trainF), average='weighted').mean() )\n",
    "print(\"Test\",\"\\nAccuracy:\",\n",
    "      cross_val_score(grid_search,X_testF,y_testF,cv=5,scoring='accuracy').mean(),\n",
    "      \"\\nF1:\",metrics.f1_score(y_testF, grid_search.predict(X_testF), average='weighted').mean() )"
   ]
  },
  {
   "cell_type": "markdown",
   "metadata": {},
   "source": [
    "# SVM\n"
   ]
  },
  {
   "cell_type": "code",
   "execution_count": 35,
   "metadata": {
    "ExecuteTime": {
     "end_time": "2020-04-16T17:04:49.950179Z",
     "start_time": "2020-04-16T17:04:49.943236Z"
    }
   },
   "outputs": [],
   "source": [
    "X_trainS, X_testS, y_trainS, y_testS = train_test_split(x, y, test_size=1/5, shuffle=True, random_state=42)"
   ]
  },
  {
   "cell_type": "code",
   "execution_count": 36,
   "metadata": {
    "ExecuteTime": {
     "end_time": "2020-04-16T17:04:51.120054Z",
     "start_time": "2020-04-16T17:04:51.112078Z"
    }
   },
   "outputs": [],
   "source": [
    "clf = svm.SVC(gamma='auto')\n",
    "clf = clf.fit(X_trainS,y_trainS)\n",
    "y_pred = clf.predict(X_testS)"
   ]
  },
  {
   "cell_type": "code",
   "execution_count": 37,
   "metadata": {
    "ExecuteTime": {
     "end_time": "2020-04-16T17:04:52.019293Z",
     "start_time": "2020-04-16T17:04:52.011350Z"
    }
   },
   "outputs": [
    {
     "name": "stdout",
     "output_type": "stream",
     "text": [
      "Accuracy   : 1.0\n",
      "Accuracy F1: 1.0\n"
     ]
    }
   ],
   "source": [
    "print(\"Accuracy   :\",metrics.accuracy_score(y_testS, y_pred))\n",
    "print(\"Accuracy F1:\",metrics.f1_score(y_testS, y_pred, average='macro'))"
   ]
  },
  {
   "cell_type": "code",
   "execution_count": 38,
   "metadata": {
    "ExecuteTime": {
     "end_time": "2020-04-16T17:04:53.173326Z",
     "start_time": "2020-04-16T17:04:53.169341Z"
    }
   },
   "outputs": [],
   "source": [
    "paramsS = {'C': [6,7,8,9,10,11,12], \n",
    "          'kernel': ['linear','rbf']}"
   ]
  },
  {
   "cell_type": "code",
   "execution_count": 39,
   "metadata": {
    "ExecuteTime": {
     "end_time": "2020-04-16T17:04:56.405918Z",
     "start_time": "2020-04-16T17:04:56.122156Z"
    }
   },
   "outputs": [
    {
     "name": "stdout",
     "output_type": "stream",
     "text": [
      "{'C': 6, 'kernel': 'rbf'}\n",
      "Test\n",
      "Accuracy   : 1.0\n",
      "Accuracy F1: 1.0\n"
     ]
    }
   ],
   "source": [
    "grid_search = GridSearchCV(estimator = clf, param_grid=paramsS, scoring='accuracy', cv=5, \n",
    "                           return_train_score=True)\n",
    "grid_search.fit(X_trainS, y_trainS)\n",
    "y_estimated = grid_search.predict(X_testS)\n",
    "print(grid_search.best_params_)\n",
    "print(\"Test\")\n",
    "print(\"Accuracy   :\",metrics.accuracy_score(y_testS, y_estimated))\n",
    "print(\"Accuracy F1:\",metrics.f1_score(y_testS, y_estimated, average=None).mean())"
   ]
  },
  {
   "cell_type": "code",
   "execution_count": 40,
   "metadata": {
    "ExecuteTime": {
     "end_time": "2020-04-16T17:04:57.209001Z",
     "start_time": "2020-04-16T17:04:57.198038Z"
    }
   },
   "outputs": [
    {
     "name": "stdout",
     "output_type": "stream",
     "text": [
      "Train\n",
      "Accuracy   : 0.9929577464788732\n",
      "Accuracy F1: 0.9929349211551767\n"
     ]
    }
   ],
   "source": [
    "y_estimated2 = grid_search.predict(X_trainS)\n",
    "print(\"Train\")\n",
    "print(\"Accuracy   :\",metrics.accuracy_score(y_trainS, y_estimated2))\n",
    "print(\"Accuracy F1:\",metrics.f1_score(y_trainS, y_estimated2, average=None).mean())"
   ]
  },
  {
   "cell_type": "code",
   "execution_count": 41,
   "metadata": {
    "ExecuteTime": {
     "end_time": "2020-04-16T17:05:01.144551Z",
     "start_time": "2020-04-16T17:04:59.551374Z"
    }
   },
   "outputs": [
    {
     "name": "stdout",
     "output_type": "stream",
     "text": [
      "{'C': 7, 'kernel': 'rbf'}\n",
      "Train \n",
      "Accuracy: 0.97192118226601 \n",
      "F1: 0.9929700567658106\n",
      "Test \n",
      "Accuracy: 0.9714285714285715 \n",
      "F1: 1.0\n"
     ]
    }
   ],
   "source": [
    "paramsS = {'C': [6,7,8,9,10,11,12], \n",
    "          'kernel': ['linear','rbf']}\n",
    "grid_search = GridSearchCV(estimator = clf, param_grid=paramsS, scoring='accuracy', cv=4, \n",
    "                           return_train_score=True)\n",
    "grid_search.fit(X_trainS, y_trainS)\n",
    "print(grid_search.best_params_)\n",
    "print(\"Train\",\"\\nAccuracy:\",\n",
    "      cross_val_score(grid_search,X_trainS,y_trainS,cv=5,scoring='accuracy').mean(),\n",
    "      \"\\nF1:\",metrics.f1_score(y_trainS, grid_search.predict(X_trainS), average='weighted').mean() )\n",
    "print(\"Test\",\"\\nAccuracy:\",\n",
    "      cross_val_score(grid_search,X_testS,y_testS,cv=5,scoring='accuracy').mean(),\n",
    "      \"\\nF1:\",metrics.f1_score(y_testS, grid_search.predict(X_testS), average='weighted').mean() )"
   ]
  },
  {
   "cell_type": "markdown",
   "metadata": {},
   "source": [
    "# Gaussian Naive Bayes"
   ]
  },
  {
   "cell_type": "code",
   "execution_count": 43,
   "metadata": {
    "ExecuteTime": {
     "end_time": "2020-04-16T17:05:13.874579Z",
     "start_time": "2020-04-16T17:05:13.869580Z"
    }
   },
   "outputs": [],
   "source": [
    "X_trainGNB, X_testGNB, y_trainGNB, y_testGNB = train_test_split(x, y, test_size=1/5, shuffle=True, random_state=42)"
   ]
  },
  {
   "cell_type": "code",
   "execution_count": 45,
   "metadata": {
    "ExecuteTime": {
     "end_time": "2020-04-16T17:05:39.601108Z",
     "start_time": "2020-04-16T17:05:39.590137Z"
    }
   },
   "outputs": [],
   "source": [
    "clf = GaussianNB()\n",
    "clf.fit(X_trainGNB, y_trainGNB)\n",
    "y_pred = clf.predict(X_testGNB)"
   ]
  },
  {
   "cell_type": "code",
   "execution_count": 46,
   "metadata": {
    "ExecuteTime": {
     "end_time": "2020-04-16T17:05:41.536661Z",
     "start_time": "2020-04-16T17:05:41.523694Z"
    }
   },
   "outputs": [
    {
     "name": "stdout",
     "output_type": "stream",
     "text": [
      "Accuracy   : 1.0\n",
      "Accuracy F1: 1.0\n"
     ]
    }
   ],
   "source": [
    "print(\"Accuracy   :\",metrics.accuracy_score(y_testGNB, y_pred))\n",
    "print(\"Accuracy F1:\",metrics.f1_score(y_testGNB, y_pred, average='macro'))"
   ]
  },
  {
   "cell_type": "code",
   "execution_count": 47,
   "metadata": {
    "ExecuteTime": {
     "end_time": "2020-04-16T17:05:43.956614Z",
     "start_time": "2020-04-16T17:05:43.952625Z"
    }
   },
   "outputs": [],
   "source": [
    "paramsGNB = {}"
   ]
  },
  {
   "cell_type": "code",
   "execution_count": 49,
   "metadata": {
    "ExecuteTime": {
     "end_time": "2020-04-16T17:05:52.507371Z",
     "start_time": "2020-04-16T17:05:52.481439Z"
    }
   },
   "outputs": [
    {
     "name": "stdout",
     "output_type": "stream",
     "text": [
      "{}\n"
     ]
    }
   ],
   "source": [
    "grid_search = GridSearchCV(estimator = GaussianNB(), param_grid=paramsGNB, scoring='accuracy', cv=5, \n",
    "                           return_train_score=True)\n",
    "grid_search.fit(X_trainGNB, y_trainGNB)\n",
    "y_estimated=grid_search.predict(X_testGNB)\n",
    "print(grid_search.best_params_)"
   ]
  },
  {
   "cell_type": "code",
   "execution_count": 50,
   "metadata": {
    "ExecuteTime": {
     "end_time": "2020-04-16T17:05:54.512927Z",
     "start_time": "2020-04-16T17:05:54.504943Z"
    }
   },
   "outputs": [
    {
     "name": "stdout",
     "output_type": "stream",
     "text": [
      "Test\n",
      "Accuracy   : 1.0\n",
      "Accuracy F1: 1.0\n"
     ]
    }
   ],
   "source": [
    "print(\"Test\")\n",
    "print(\"Accuracy   :\",metrics.accuracy_score(y_testGNB, y_estimated))\n",
    "print(\"Accuracy F1:\",metrics.f1_score(y_testGNB, y_estimated, average=None).mean())"
   ]
  },
  {
   "cell_type": "code",
   "execution_count": 51,
   "metadata": {
    "ExecuteTime": {
     "end_time": "2020-04-16T17:05:56.767550Z",
     "start_time": "2020-04-16T17:05:56.753588Z"
    }
   },
   "outputs": [
    {
     "name": "stdout",
     "output_type": "stream",
     "text": [
      "Train\n",
      "Accuracy   : 0.971830985915493\n",
      "Accuracy F1: 0.972598254690681\n"
     ]
    }
   ],
   "source": [
    "y_estimated2 = grid_search.predict(X_trainGNB)\n",
    "print(\"Train\")\n",
    "print(\"Accuracy   :\",metrics.accuracy_score(y_trainGNB, y_estimated2))\n",
    "print(\"Accuracy F1:\",metrics.f1_score(y_trainGNB, y_estimated2, average=None).mean())"
   ]
  },
  {
   "cell_type": "code",
   "execution_count": 53,
   "metadata": {
    "ExecuteTime": {
     "end_time": "2020-04-16T17:06:08.157934Z",
     "start_time": "2020-04-16T17:06:08.014356Z"
    }
   },
   "outputs": [
    {
     "name": "stdout",
     "output_type": "stream",
     "text": [
      "{}\n",
      "Train \n",
      "Accuracy: 0.9645320197044335 \n",
      "F1: 0.9718426969801068\n",
      "Test \n",
      "Accuracy: 1.0 \n",
      "F1: 1.0\n"
     ]
    }
   ],
   "source": [
    "parameterGNB = {}\n",
    "grid_search = GridSearchCV(estimator = clf, param_grid=parameterGNB, scoring='accuracy', cv=4, \n",
    "                           return_train_score=True)\n",
    "grid_search.fit(X_trainGNB, y_trainGNB)\n",
    "\n",
    "print(grid_search.best_params_)\n",
    "print(\"Train\",\"\\nAccuracy:\",\n",
    "      cross_val_score(grid_search,X_trainGNB,y_trainGNB,cv=5,scoring='accuracy').mean(),\n",
    "      \"\\nF1:\",metrics.f1_score(y_trainGNB, grid_search.predict(X_trainGNB), average='weighted').mean() )\n",
    "print(\"Test\",\"\\nAccuracy:\",\n",
    "      cross_val_score(grid_search,X_testGNB,y_testGNB,cv=5,scoring='accuracy').mean(),\n",
    "      \"\\nF1:\",metrics.f1_score(y_testGNB, grid_search.predict(X_testGNB), average='weighted').mean() )"
   ]
  },
  {
   "cell_type": "code",
   "execution_count": 54,
   "metadata": {
    "ExecuteTime": {
     "end_time": "2020-04-16T17:06:11.030363Z",
     "start_time": "2020-04-16T17:06:10.907692Z"
    }
   },
   "outputs": [
    {
     "data": {
      "text/plain": [
       "0.9645320197044335"
      ]
     },
     "execution_count": 54,
     "metadata": {},
     "output_type": "execute_result"
    }
   ],
   "source": [
    "def cross_val(params):\n",
    "    model = GaussianNB()\n",
    "    model.set_params(**params)\n",
    "    cv_results = cross_val_score(model, X_trainGNB, y_trainGNB,\n",
    "                             cv = 5, \n",
    "                             scoring = \"accuracy\",\n",
    "                             \n",
    "                            )\n",
    "    return cv_results.mean()\n",
    "\n",
    "params = {\n",
    "          \"var_smoothing\" : 1e-9\n",
    "}\n",
    "steps = [1e-8, 1e-7, 1e-6, 1e-5, 1e-4]\n",
    "\n",
    "# #will contain the cv results\n",
    "results = []\n",
    "for step in steps:        \n",
    "    params[\"var_smoothing\"] = step        \n",
    "    cv_result = cross_val(params)\n",
    "\n",
    "    #save result\n",
    "    results=np.append(results,cv_result)\n",
    "results.mean()"
   ]
  },
  {
   "cell_type": "markdown",
   "metadata": {},
   "source": [
    "# KNN"
   ]
  },
  {
   "cell_type": "code",
   "execution_count": 64,
   "metadata": {
    "ExecuteTime": {
     "end_time": "2020-04-16T17:10:52.245897Z",
     "start_time": "2020-04-16T17:10:52.238914Z"
    }
   },
   "outputs": [],
   "source": [
    "X_trainKN, X_testKN, y_trainKN, y_testKN = train_test_split(x, y, test_size=1/5, shuffle=True, random_state=42)"
   ]
  },
  {
   "cell_type": "code",
   "execution_count": 65,
   "metadata": {
    "ExecuteTime": {
     "end_time": "2020-04-16T17:10:52.836147Z",
     "start_time": "2020-04-16T17:10:52.823175Z"
    }
   },
   "outputs": [],
   "source": [
    "clf = KNeighborsClassifier()\n",
    "clf = clf.fit(X_trainKN,y_trainKN)\n",
    "y_pred = clf.predict(X_testKN)"
   ]
  },
  {
   "cell_type": "code",
   "execution_count": 66,
   "metadata": {
    "ExecuteTime": {
     "end_time": "2020-04-16T17:10:53.452003Z",
     "start_time": "2020-04-16T17:10:53.441061Z"
    }
   },
   "outputs": [
    {
     "name": "stdout",
     "output_type": "stream",
     "text": [
      "Accuracy   : 0.9444444444444444\n",
      "Accuracy F1: 0.9432568783481562\n"
     ]
    }
   ],
   "source": [
    "print(\"Accuracy   :\",metrics.accuracy_score(y_testKN, y_pred))\n",
    "print(\"Accuracy F1:\",metrics.f1_score(y_testKN, y_pred, average='macro'))"
   ]
  },
  {
   "cell_type": "code",
   "execution_count": 67,
   "metadata": {
    "ExecuteTime": {
     "end_time": "2020-04-16T17:10:54.106928Z",
     "start_time": "2020-04-16T17:10:54.102940Z"
    }
   },
   "outputs": [],
   "source": [
    "parameter_gridKN = {'n_neighbors': list(range(1,10)),\n",
    "                  'p': [1, 2, 3, 4.7]}"
   ]
  },
  {
   "cell_type": "code",
   "execution_count": 74,
   "metadata": {
    "ExecuteTime": {
     "end_time": "2020-04-16T17:14:37.166165Z",
     "start_time": "2020-04-16T17:14:34.815865Z"
    }
   },
   "outputs": [
    {
     "name": "stdout",
     "output_type": "stream",
     "text": [
      "{'n_neighbors': 1, 'p': 1}\n"
     ]
    }
   ],
   "source": [
    "grid_search = GridSearchCV(estimator = KNeighborsClassifier(), param_grid=parameter_gridKN, scoring='accuracy', cv=5, \n",
    "                           return_train_score=True)\n",
    "grid_search.fit(X_trainKN, y_trainKN)\n",
    "y_estimated=grid_search.predict(X_testKN)\n",
    "print(grid_search.best_params_)"
   ]
  },
  {
   "cell_type": "code",
   "execution_count": 72,
   "metadata": {
    "ExecuteTime": {
     "end_time": "2020-04-16T17:14:14.040171Z",
     "start_time": "2020-04-16T17:14:14.032192Z"
    }
   },
   "outputs": [
    {
     "name": "stdout",
     "output_type": "stream",
     "text": [
      "Test\n",
      "Accuracy   : 0.9166666666666666\n",
      "Accuracy F1: 0.918169934640523\n"
     ]
    }
   ],
   "source": [
    "print(\"Test\")\n",
    "print(\"Accuracy   :\",metrics.accuracy_score(y_testKN, y_estimated))\n",
    "print(\"Accuracy F1:\",metrics.f1_score(y_testKN, y_estimated, average=None).mean())"
   ]
  },
  {
   "cell_type": "code",
   "execution_count": 70,
   "metadata": {
    "ExecuteTime": {
     "end_time": "2020-04-16T17:11:03.601759Z",
     "start_time": "2020-04-16T17:11:03.586799Z"
    }
   },
   "outputs": [
    {
     "name": "stdout",
     "output_type": "stream",
     "text": [
      "Train\n",
      "Accuracy   : 1.0\n",
      "Accuracy F1: 1.0\n"
     ]
    }
   ],
   "source": [
    "y_estimated2 = grid_search.predict(X_trainKN)\n",
    "print(\"Train\")\n",
    "print(\"Accuracy   :\",metrics.accuracy_score(y_trainKN, y_estimated2))\n",
    "print(\"Accuracy F1:\",metrics.f1_score(y_trainKN, y_estimated2, average=None).mean())"
   ]
  },
  {
   "cell_type": "code",
   "execution_count": 73,
   "metadata": {
    "ExecuteTime": {
     "end_time": "2020-04-16T17:14:28.428045Z",
     "start_time": "2020-04-16T17:14:17.470934Z"
    }
   },
   "outputs": [
    {
     "name": "stdout",
     "output_type": "stream",
     "text": [
      "{'n_neighbors': 7, 'p': 1}\n",
      "Train \n",
      "Accuracy: 0.9573891625615765 \n",
      "F1: 0.9858719028319969\n",
      "Test \n",
      "Accuracy: 0.9428571428571428 \n",
      "F1: 0.9436036129748098\n"
     ]
    }
   ],
   "source": [
    "parameterKN = {'n_neighbors': list(range(1,10)),\n",
    "                  'p': [1, 2, 3, 4.7]}\n",
    "grid_search = GridSearchCV(estimator = clf, param_grid=parameterKN, scoring='accuracy', cv=4, \n",
    "                           return_train_score=True)\n",
    "grid_search.fit(X_trainKN, y_trainKN)\n",
    "\n",
    "print(grid_search.best_params_)\n",
    "print(\"Train\",\"\\nAccuracy:\",\n",
    "      cross_val_score(grid_search,X_trainKN,y_trainKN,cv=5,scoring='accuracy').mean(),\n",
    "      \"\\nF1:\",metrics.f1_score(y_trainKN, grid_search.predict(X_trainKN), average='weighted').mean() )\n",
    "print(\"Test\",\"\\nAccuracy:\",\n",
    "      cross_val_score(grid_search,X_testKN,y_testKN,cv=5,scoring='accuracy').mean(),\n",
    "      \"\\nF1:\",metrics.f1_score(y_testKN, grid_search.predict(X_testKN), average='weighted').mean() )"
   ]
  },
  {
   "cell_type": "code",
   "execution_count": null,
   "metadata": {},
   "outputs": [],
   "source": []
  }
 ],
 "metadata": {
  "kernelspec": {
   "display_name": "Python 3",
   "language": "python",
   "name": "python3"
  },
  "language_info": {
   "codemirror_mode": {
    "name": "ipython",
    "version": 3
   },
   "file_extension": ".py",
   "mimetype": "text/x-python",
   "name": "python",
   "nbconvert_exporter": "python",
   "pygments_lexer": "ipython3",
   "version": "3.7.4"
  }
 },
 "nbformat": 4,
 "nbformat_minor": 2
}
