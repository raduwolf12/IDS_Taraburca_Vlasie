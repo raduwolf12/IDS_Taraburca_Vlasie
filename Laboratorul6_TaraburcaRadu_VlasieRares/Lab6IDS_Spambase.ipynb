{
 "cells": [
  {
   "cell_type": "markdown",
   "metadata": {},
   "source": [
    "# Laborator 6 - Teme \n",
    "<br>\n",
    "Autori:\n",
    "Taraburca Radu,\n",
    "Vlasie Rares\n",
    "<br>\n",
    "Dataset: Spambase"
   ]
  },
  {
   "cell_type": "code",
   "execution_count": 3,
   "metadata": {
    "ExecuteTime": {
     "end_time": "2020-04-16T16:33:22.563686Z",
     "start_time": "2020-04-16T16:33:21.225970Z"
    }
   },
   "outputs": [],
   "source": [
    "import pandas as pd\n",
    "import numpy as np\n",
    "from sklearn.model_selection import train_test_split\n",
    "from sklearn.model_selection import GridSearchCV\n",
    "from sklearn.metrics import accuracy_score\n",
    "from sklearn.model_selection import cross_val_score\n",
    "from numpy import array\n",
    "from sklearn.model_selection import KFold\n",
    "from sklearn.neighbors import KNeighborsClassifier\n",
    "from sklearn.tree import DecisionTreeClassifier\n",
    "from sklearn.model_selection import RandomizedSearchCV\n",
    "import sklearn\n",
    "from sklearn.ensemble import RandomForestClassifier\n",
    "from sklearn import svm\n",
    "from sklearn.neural_network import MLPClassifier\n",
    "from sklearn import metrics\n",
    "from sklearn.naive_bayes import GaussianNB"
   ]
  },
  {
   "cell_type": "code",
   "execution_count": 51,
   "metadata": {
    "ExecuteTime": {
     "end_time": "2020-04-16T16:33:29.709297Z",
     "start_time": "2020-04-16T16:33:23.787868Z"
    }
   },
   "outputs": [
    {
     "data": {
      "text/html": [
       "<div>\n",
       "<style scoped>\n",
       "    .dataframe tbody tr th:only-of-type {\n",
       "        vertical-align: middle;\n",
       "    }\n",
       "\n",
       "    .dataframe tbody tr th {\n",
       "        vertical-align: top;\n",
       "    }\n",
       "\n",
       "    .dataframe thead th {\n",
       "        text-align: right;\n",
       "    }\n",
       "</style>\n",
       "<table border=\"1\" class=\"dataframe\">\n",
       "  <thead>\n",
       "    <tr style=\"text-align: right;\">\n",
       "      <th></th>\n",
       "      <th>0</th>\n",
       "      <th>1</th>\n",
       "      <th>2</th>\n",
       "      <th>3</th>\n",
       "      <th>4</th>\n",
       "      <th>5</th>\n",
       "      <th>6</th>\n",
       "      <th>7</th>\n",
       "      <th>8</th>\n",
       "      <th>9</th>\n",
       "      <th>...</th>\n",
       "      <th>48</th>\n",
       "      <th>49</th>\n",
       "      <th>50</th>\n",
       "      <th>51</th>\n",
       "      <th>52</th>\n",
       "      <th>53</th>\n",
       "      <th>54</th>\n",
       "      <th>55</th>\n",
       "      <th>56</th>\n",
       "      <th>57</th>\n",
       "    </tr>\n",
       "  </thead>\n",
       "  <tbody>\n",
       "    <tr>\n",
       "      <td>0</td>\n",
       "      <td>0.00</td>\n",
       "      <td>0.64</td>\n",
       "      <td>0.64</td>\n",
       "      <td>0.0</td>\n",
       "      <td>0.32</td>\n",
       "      <td>0.00</td>\n",
       "      <td>0.00</td>\n",
       "      <td>0.00</td>\n",
       "      <td>0.00</td>\n",
       "      <td>0.00</td>\n",
       "      <td>...</td>\n",
       "      <td>0.000</td>\n",
       "      <td>0.000</td>\n",
       "      <td>0.0</td>\n",
       "      <td>0.778</td>\n",
       "      <td>0.000</td>\n",
       "      <td>0.000</td>\n",
       "      <td>3.756</td>\n",
       "      <td>61</td>\n",
       "      <td>278</td>\n",
       "      <td>1</td>\n",
       "    </tr>\n",
       "    <tr>\n",
       "      <td>1</td>\n",
       "      <td>0.21</td>\n",
       "      <td>0.28</td>\n",
       "      <td>0.50</td>\n",
       "      <td>0.0</td>\n",
       "      <td>0.14</td>\n",
       "      <td>0.28</td>\n",
       "      <td>0.21</td>\n",
       "      <td>0.07</td>\n",
       "      <td>0.00</td>\n",
       "      <td>0.94</td>\n",
       "      <td>...</td>\n",
       "      <td>0.000</td>\n",
       "      <td>0.132</td>\n",
       "      <td>0.0</td>\n",
       "      <td>0.372</td>\n",
       "      <td>0.180</td>\n",
       "      <td>0.048</td>\n",
       "      <td>5.114</td>\n",
       "      <td>101</td>\n",
       "      <td>1028</td>\n",
       "      <td>1</td>\n",
       "    </tr>\n",
       "    <tr>\n",
       "      <td>2</td>\n",
       "      <td>0.06</td>\n",
       "      <td>0.00</td>\n",
       "      <td>0.71</td>\n",
       "      <td>0.0</td>\n",
       "      <td>1.23</td>\n",
       "      <td>0.19</td>\n",
       "      <td>0.19</td>\n",
       "      <td>0.12</td>\n",
       "      <td>0.64</td>\n",
       "      <td>0.25</td>\n",
       "      <td>...</td>\n",
       "      <td>0.010</td>\n",
       "      <td>0.143</td>\n",
       "      <td>0.0</td>\n",
       "      <td>0.276</td>\n",
       "      <td>0.184</td>\n",
       "      <td>0.010</td>\n",
       "      <td>9.821</td>\n",
       "      <td>485</td>\n",
       "      <td>2259</td>\n",
       "      <td>1</td>\n",
       "    </tr>\n",
       "    <tr>\n",
       "      <td>3</td>\n",
       "      <td>0.00</td>\n",
       "      <td>0.00</td>\n",
       "      <td>0.00</td>\n",
       "      <td>0.0</td>\n",
       "      <td>0.63</td>\n",
       "      <td>0.00</td>\n",
       "      <td>0.31</td>\n",
       "      <td>0.63</td>\n",
       "      <td>0.31</td>\n",
       "      <td>0.63</td>\n",
       "      <td>...</td>\n",
       "      <td>0.000</td>\n",
       "      <td>0.137</td>\n",
       "      <td>0.0</td>\n",
       "      <td>0.137</td>\n",
       "      <td>0.000</td>\n",
       "      <td>0.000</td>\n",
       "      <td>3.537</td>\n",
       "      <td>40</td>\n",
       "      <td>191</td>\n",
       "      <td>1</td>\n",
       "    </tr>\n",
       "    <tr>\n",
       "      <td>4</td>\n",
       "      <td>0.00</td>\n",
       "      <td>0.00</td>\n",
       "      <td>0.00</td>\n",
       "      <td>0.0</td>\n",
       "      <td>0.63</td>\n",
       "      <td>0.00</td>\n",
       "      <td>0.31</td>\n",
       "      <td>0.63</td>\n",
       "      <td>0.31</td>\n",
       "      <td>0.63</td>\n",
       "      <td>...</td>\n",
       "      <td>0.000</td>\n",
       "      <td>0.135</td>\n",
       "      <td>0.0</td>\n",
       "      <td>0.135</td>\n",
       "      <td>0.000</td>\n",
       "      <td>0.000</td>\n",
       "      <td>3.537</td>\n",
       "      <td>40</td>\n",
       "      <td>191</td>\n",
       "      <td>1</td>\n",
       "    </tr>\n",
       "    <tr>\n",
       "      <td>...</td>\n",
       "      <td>...</td>\n",
       "      <td>...</td>\n",
       "      <td>...</td>\n",
       "      <td>...</td>\n",
       "      <td>...</td>\n",
       "      <td>...</td>\n",
       "      <td>...</td>\n",
       "      <td>...</td>\n",
       "      <td>...</td>\n",
       "      <td>...</td>\n",
       "      <td>...</td>\n",
       "      <td>...</td>\n",
       "      <td>...</td>\n",
       "      <td>...</td>\n",
       "      <td>...</td>\n",
       "      <td>...</td>\n",
       "      <td>...</td>\n",
       "      <td>...</td>\n",
       "      <td>...</td>\n",
       "      <td>...</td>\n",
       "      <td>...</td>\n",
       "    </tr>\n",
       "    <tr>\n",
       "      <td>4596</td>\n",
       "      <td>0.31</td>\n",
       "      <td>0.00</td>\n",
       "      <td>0.62</td>\n",
       "      <td>0.0</td>\n",
       "      <td>0.00</td>\n",
       "      <td>0.31</td>\n",
       "      <td>0.00</td>\n",
       "      <td>0.00</td>\n",
       "      <td>0.00</td>\n",
       "      <td>0.00</td>\n",
       "      <td>...</td>\n",
       "      <td>0.000</td>\n",
       "      <td>0.232</td>\n",
       "      <td>0.0</td>\n",
       "      <td>0.000</td>\n",
       "      <td>0.000</td>\n",
       "      <td>0.000</td>\n",
       "      <td>1.142</td>\n",
       "      <td>3</td>\n",
       "      <td>88</td>\n",
       "      <td>0</td>\n",
       "    </tr>\n",
       "    <tr>\n",
       "      <td>4597</td>\n",
       "      <td>0.00</td>\n",
       "      <td>0.00</td>\n",
       "      <td>0.00</td>\n",
       "      <td>0.0</td>\n",
       "      <td>0.00</td>\n",
       "      <td>0.00</td>\n",
       "      <td>0.00</td>\n",
       "      <td>0.00</td>\n",
       "      <td>0.00</td>\n",
       "      <td>0.00</td>\n",
       "      <td>...</td>\n",
       "      <td>0.000</td>\n",
       "      <td>0.000</td>\n",
       "      <td>0.0</td>\n",
       "      <td>0.353</td>\n",
       "      <td>0.000</td>\n",
       "      <td>0.000</td>\n",
       "      <td>1.555</td>\n",
       "      <td>4</td>\n",
       "      <td>14</td>\n",
       "      <td>0</td>\n",
       "    </tr>\n",
       "    <tr>\n",
       "      <td>4598</td>\n",
       "      <td>0.30</td>\n",
       "      <td>0.00</td>\n",
       "      <td>0.30</td>\n",
       "      <td>0.0</td>\n",
       "      <td>0.00</td>\n",
       "      <td>0.00</td>\n",
       "      <td>0.00</td>\n",
       "      <td>0.00</td>\n",
       "      <td>0.00</td>\n",
       "      <td>0.00</td>\n",
       "      <td>...</td>\n",
       "      <td>0.102</td>\n",
       "      <td>0.718</td>\n",
       "      <td>0.0</td>\n",
       "      <td>0.000</td>\n",
       "      <td>0.000</td>\n",
       "      <td>0.000</td>\n",
       "      <td>1.404</td>\n",
       "      <td>6</td>\n",
       "      <td>118</td>\n",
       "      <td>0</td>\n",
       "    </tr>\n",
       "    <tr>\n",
       "      <td>4599</td>\n",
       "      <td>0.96</td>\n",
       "      <td>0.00</td>\n",
       "      <td>0.00</td>\n",
       "      <td>0.0</td>\n",
       "      <td>0.32</td>\n",
       "      <td>0.00</td>\n",
       "      <td>0.00</td>\n",
       "      <td>0.00</td>\n",
       "      <td>0.00</td>\n",
       "      <td>0.00</td>\n",
       "      <td>...</td>\n",
       "      <td>0.000</td>\n",
       "      <td>0.057</td>\n",
       "      <td>0.0</td>\n",
       "      <td>0.000</td>\n",
       "      <td>0.000</td>\n",
       "      <td>0.000</td>\n",
       "      <td>1.147</td>\n",
       "      <td>5</td>\n",
       "      <td>78</td>\n",
       "      <td>0</td>\n",
       "    </tr>\n",
       "    <tr>\n",
       "      <td>4600</td>\n",
       "      <td>0.00</td>\n",
       "      <td>0.00</td>\n",
       "      <td>0.65</td>\n",
       "      <td>0.0</td>\n",
       "      <td>0.00</td>\n",
       "      <td>0.00</td>\n",
       "      <td>0.00</td>\n",
       "      <td>0.00</td>\n",
       "      <td>0.00</td>\n",
       "      <td>0.00</td>\n",
       "      <td>...</td>\n",
       "      <td>0.000</td>\n",
       "      <td>0.000</td>\n",
       "      <td>0.0</td>\n",
       "      <td>0.125</td>\n",
       "      <td>0.000</td>\n",
       "      <td>0.000</td>\n",
       "      <td>1.250</td>\n",
       "      <td>5</td>\n",
       "      <td>40</td>\n",
       "      <td>0</td>\n",
       "    </tr>\n",
       "  </tbody>\n",
       "</table>\n",
       "<p>4601 rows × 58 columns</p>\n",
       "</div>"
      ],
      "text/plain": [
       "        0     1     2    3     4     5     6     7     8     9   ...     48  \\\n",
       "0     0.00  0.64  0.64  0.0  0.32  0.00  0.00  0.00  0.00  0.00  ...  0.000   \n",
       "1     0.21  0.28  0.50  0.0  0.14  0.28  0.21  0.07  0.00  0.94  ...  0.000   \n",
       "2     0.06  0.00  0.71  0.0  1.23  0.19  0.19  0.12  0.64  0.25  ...  0.010   \n",
       "3     0.00  0.00  0.00  0.0  0.63  0.00  0.31  0.63  0.31  0.63  ...  0.000   \n",
       "4     0.00  0.00  0.00  0.0  0.63  0.00  0.31  0.63  0.31  0.63  ...  0.000   \n",
       "...    ...   ...   ...  ...   ...   ...   ...   ...   ...   ...  ...    ...   \n",
       "4596  0.31  0.00  0.62  0.0  0.00  0.31  0.00  0.00  0.00  0.00  ...  0.000   \n",
       "4597  0.00  0.00  0.00  0.0  0.00  0.00  0.00  0.00  0.00  0.00  ...  0.000   \n",
       "4598  0.30  0.00  0.30  0.0  0.00  0.00  0.00  0.00  0.00  0.00  ...  0.102   \n",
       "4599  0.96  0.00  0.00  0.0  0.32  0.00  0.00  0.00  0.00  0.00  ...  0.000   \n",
       "4600  0.00  0.00  0.65  0.0  0.00  0.00  0.00  0.00  0.00  0.00  ...  0.000   \n",
       "\n",
       "         49   50     51     52     53     54   55    56  57  \n",
       "0     0.000  0.0  0.778  0.000  0.000  3.756   61   278   1  \n",
       "1     0.132  0.0  0.372  0.180  0.048  5.114  101  1028   1  \n",
       "2     0.143  0.0  0.276  0.184  0.010  9.821  485  2259   1  \n",
       "3     0.137  0.0  0.137  0.000  0.000  3.537   40   191   1  \n",
       "4     0.135  0.0  0.135  0.000  0.000  3.537   40   191   1  \n",
       "...     ...  ...    ...    ...    ...    ...  ...   ...  ..  \n",
       "4596  0.232  0.0  0.000  0.000  0.000  1.142    3    88   0  \n",
       "4597  0.000  0.0  0.353  0.000  0.000  1.555    4    14   0  \n",
       "4598  0.718  0.0  0.000  0.000  0.000  1.404    6   118   0  \n",
       "4599  0.057  0.0  0.000  0.000  0.000  1.147    5    78   0  \n",
       "4600  0.000  0.0  0.125  0.000  0.000  1.250    5    40   0  \n",
       "\n",
       "[4601 rows x 58 columns]"
      ]
     },
     "execution_count": 51,
     "metadata": {},
     "output_type": "execute_result"
    }
   ],
   "source": [
    "ad3='http://archive.ics.uci.edu/ml/machine-learning-databases/spambase/spambase.data'\n",
    "dfSpambase=pd.read_csv(ad3,sep=\",\",header=None)\n",
    "dfSpambase"
   ]
  },
  {
   "cell_type": "code",
   "execution_count": 49,
   "metadata": {},
   "outputs": [
    {
     "name": "stdout",
     "output_type": "stream",
     "text": [
      "0\n"
     ]
    }
   ],
   "source": [
    "print(dfSpambase.isnull().sum().sum())\n"
   ]
  },
  {
   "cell_type": "code",
   "execution_count": 5,
   "metadata": {
    "ExecuteTime": {
     "end_time": "2020-04-16T16:33:32.540363Z",
     "start_time": "2020-04-16T16:33:32.514432Z"
    }
   },
   "outputs": [
    {
     "name": "stdout",
     "output_type": "stream",
     "text": [
      "<class 'pandas.core.frame.DataFrame'>\n",
      "RangeIndex: 4601 entries, 0 to 4600\n",
      "Data columns (total 58 columns):\n",
      "0     4601 non-null float64\n",
      "1     4601 non-null float64\n",
      "2     4601 non-null float64\n",
      "3     4601 non-null float64\n",
      "4     4601 non-null float64\n",
      "5     4601 non-null float64\n",
      "6     4601 non-null float64\n",
      "7     4601 non-null float64\n",
      "8     4601 non-null float64\n",
      "9     4601 non-null float64\n",
      "10    4601 non-null float64\n",
      "11    4601 non-null float64\n",
      "12    4601 non-null float64\n",
      "13    4601 non-null float64\n",
      "14    4601 non-null float64\n",
      "15    4601 non-null float64\n",
      "16    4601 non-null float64\n",
      "17    4601 non-null float64\n",
      "18    4601 non-null float64\n",
      "19    4601 non-null float64\n",
      "20    4601 non-null float64\n",
      "21    4601 non-null float64\n",
      "22    4601 non-null float64\n",
      "23    4601 non-null float64\n",
      "24    4601 non-null float64\n",
      "25    4601 non-null float64\n",
      "26    4601 non-null float64\n",
      "27    4601 non-null float64\n",
      "28    4601 non-null float64\n",
      "29    4601 non-null float64\n",
      "30    4601 non-null float64\n",
      "31    4601 non-null float64\n",
      "32    4601 non-null float64\n",
      "33    4601 non-null float64\n",
      "34    4601 non-null float64\n",
      "35    4601 non-null float64\n",
      "36    4601 non-null float64\n",
      "37    4601 non-null float64\n",
      "38    4601 non-null float64\n",
      "39    4601 non-null float64\n",
      "40    4601 non-null float64\n",
      "41    4601 non-null float64\n",
      "42    4601 non-null float64\n",
      "43    4601 non-null float64\n",
      "44    4601 non-null float64\n",
      "45    4601 non-null float64\n",
      "46    4601 non-null float64\n",
      "47    4601 non-null float64\n",
      "48    4601 non-null float64\n",
      "49    4601 non-null float64\n",
      "50    4601 non-null float64\n",
      "51    4601 non-null float64\n",
      "52    4601 non-null float64\n",
      "53    4601 non-null float64\n",
      "54    4601 non-null float64\n",
      "55    4601 non-null int64\n",
      "56    4601 non-null int64\n",
      "57    4601 non-null int64\n",
      "dtypes: float64(55), int64(3)\n",
      "memory usage: 2.0 MB\n"
     ]
    }
   ],
   "source": [
    "dfSpambase.info()"
   ]
  },
  {
   "cell_type": "code",
   "execution_count": 6,
   "metadata": {
    "ExecuteTime": {
     "end_time": "2020-04-16T16:33:35.011905Z",
     "start_time": "2020-04-16T16:33:34.984974Z"
    }
   },
   "outputs": [
    {
     "name": "stdout",
     "output_type": "stream",
     "text": [
      "\n",
      "(4601, 57)\n",
      "(4601,)\n",
      "(921,)\n",
      "(3680,)\n"
     ]
    }
   ],
   "source": [
    "from sklearn.preprocessing import MinMaxScaler\n",
    "x=dfSpambase.values[:,:-1]\n",
    "scaler = MinMaxScaler()\n",
    "scaler.fit(x)\n",
    "x = scaler.transform(x)\n",
    "print()\n",
    "print(x.shape)\n",
    "y=dfSpambase.values[:, -1]\n",
    "print(y.shape)\n",
    "X_train, X_test, y_train, y_test = train_test_split(x, y, test_size=1/5, shuffle=True, random_state=42)\n",
    "print(y_test.shape)\n",
    "print(y_train.shape)"
   ]
  },
  {
   "cell_type": "markdown",
   "metadata": {
    "ExecuteTime": {
     "end_time": "2020-04-15T16:17:39.492363Z",
     "start_time": "2020-04-15T16:17:39.486407Z"
    }
   },
   "source": [
    "# KNN"
   ]
  },
  {
   "cell_type": "code",
   "execution_count": 39,
   "metadata": {
    "ExecuteTime": {
     "start_time": "2020-04-16T16:33:09.159Z"
    }
   },
   "outputs": [],
   "source": [
    "X_trainKN, X_testKN, y_trainKN, y_testKN = train_test_split(x, y, test_size=1/5, shuffle=True, random_state=42)"
   ]
  },
  {
   "cell_type": "code",
   "execution_count": 40,
   "metadata": {
    "ExecuteTime": {
     "start_time": "2020-04-16T16:33:09.163Z"
    }
   },
   "outputs": [],
   "source": [
    "clf = KNeighborsClassifier()\n",
    "clf = clf.fit(X_trainKN,y_trainKN)\n",
    "y_pred = clf.predict(X_testKN)"
   ]
  },
  {
   "cell_type": "code",
   "execution_count": 41,
   "metadata": {
    "ExecuteTime": {
     "start_time": "2020-04-16T16:33:09.167Z"
    }
   },
   "outputs": [
    {
     "name": "stdout",
     "output_type": "stream",
     "text": [
      "Accuracy   : 0.8838219326818675\n",
      "Accuracy F1: 0.8803903362644965\n"
     ]
    }
   ],
   "source": [
    "print(\"Accuracy   :\",metrics.accuracy_score(y_testKN, y_pred))\n",
    "print(\"Accuracy F1:\",metrics.f1_score(y_testKN, y_pred, average='macro'))"
   ]
  },
  {
   "cell_type": "code",
   "execution_count": 42,
   "metadata": {
    "ExecuteTime": {
     "start_time": "2020-04-16T16:33:09.170Z"
    }
   },
   "outputs": [],
   "source": [
    "parameter_gridKN = {'n_neighbors': list(range(1,10)),\n",
    "                  'p': [1, 2, 3, 4.7]}"
   ]
  },
  {
   "cell_type": "code",
   "execution_count": 43,
   "metadata": {
    "ExecuteTime": {
     "start_time": "2020-04-16T16:33:09.176Z"
    }
   },
   "outputs": [
    {
     "name": "stdout",
     "output_type": "stream",
     "text": [
      "{'n_neighbors': 3, 'p': 1}\n"
     ]
    }
   ],
   "source": [
    "grid_search = GridSearchCV(estimator = KNeighborsClassifier(), param_grid=parameter_gridKN, scoring='accuracy', cv=5, \n",
    "                           return_train_score=True,iid=False)\n",
    "grid_search.fit(X_trainKN, y_trainKN)\n",
    "y_estimated=grid_search.predict(X_testKN)\n",
    "print(grid_search.best_params_)"
   ]
  },
  {
   "cell_type": "code",
   "execution_count": 44,
   "metadata": {
    "ExecuteTime": {
     "start_time": "2020-04-16T16:33:09.179Z"
    }
   },
   "outputs": [
    {
     "name": "stdout",
     "output_type": "stream",
     "text": [
      "Test\n",
      "Accuracy   : 0.8783930510314875\n",
      "Accuracy F1: 0.874051282051282\n"
     ]
    }
   ],
   "source": [
    "print(\"Test\")\n",
    "print(\"Accuracy   :\",metrics.accuracy_score(y_testKN, y_estimated))\n",
    "print(\"Accuracy F1:\",metrics.f1_score(y_testKN, y_estimated, average=None).mean())"
   ]
  },
  {
   "cell_type": "code",
   "execution_count": 45,
   "metadata": {
    "ExecuteTime": {
     "start_time": "2020-04-16T16:33:09.183Z"
    }
   },
   "outputs": [
    {
     "name": "stdout",
     "output_type": "stream",
     "text": [
      "Train\n",
      "Accuracy   : 0.9529891304347826\n",
      "Accuracy F1: 0.9500755915956919\n"
     ]
    }
   ],
   "source": [
    "y_estimated2 = grid_search.predict(X_trainKN)\n",
    "print(\"Train\")\n",
    "print(\"Accuracy   :\",metrics.accuracy_score(y_trainKN, y_estimated2))\n",
    "print(\"Accuracy F1:\",metrics.f1_score(y_trainKN, y_estimated2, average=None).mean())"
   ]
  },
  {
   "cell_type": "code",
   "execution_count": 46,
   "metadata": {
    "ExecuteTime": {
     "start_time": "2020-04-16T16:33:09.187Z"
    }
   },
   "outputs": [
    {
     "name": "stdout",
     "output_type": "stream",
     "text": [
      "{'n_neighbors': 7, 'p': 1}\n",
      "Train \n",
      "Accuracy: 0.9013596603174335 \n",
      "F1: 0.9298282835892001\n",
      "Test \n",
      "Accuracy: 0.8469095182138661 \n",
      "F1: 0.8853935019867192\n"
     ]
    }
   ],
   "source": [
    "parameterKN = {'n_neighbors': list(range(1,10)),\n",
    "                  'p': [1, 2, 3, 4.7]}\n",
    "grid_search = GridSearchCV(estimator = clf, param_grid=parameterKN, scoring='accuracy', cv=4, \n",
    "                           return_train_score=True, iid=False)\n",
    "grid_search.fit(X_trainKN, y_trainKN)\n",
    "\n",
    "print(grid_search.best_params_)\n",
    "print(\"Train\",\"\\nAccuracy:\",\n",
    "      cross_val_score(grid_search,X_trainKN,y_trainKN,cv=5,scoring='accuracy').mean(),\n",
    "      \"\\nF1:\",metrics.f1_score(y_trainKN, grid_search.predict(X_trainKN), average='weighted').mean() )\n",
    "print(\"Test\",\"\\nAccuracy:\",\n",
    "      cross_val_score(grid_search,X_testKN,y_testKN,cv=5,scoring='accuracy').mean(),\n",
    "      \"\\nF1:\",metrics.f1_score(y_testKN, grid_search.predict(X_testKN), average='weighted').mean() )"
   ]
  },
  {
   "cell_type": "code",
   "execution_count": null,
   "metadata": {
    "ExecuteTime": {
     "start_time": "2020-04-16T16:33:09.194Z"
    }
   },
   "outputs": [],
   "source": [
    "#kfold "
   ]
  },
  {
   "cell_type": "markdown",
   "metadata": {},
   "source": [
    "# Decision Tree"
   ]
  },
  {
   "cell_type": "code",
   "execution_count": 7,
   "metadata": {
    "ExecuteTime": {
     "end_time": "2020-04-16T16:33:42.550775Z",
     "start_time": "2020-04-16T16:33:42.543822Z"
    }
   },
   "outputs": [],
   "source": [
    "X_trainT, X_testT, y_trainT, y_testT= train_test_split(x, y, test_size=1/5, shuffle=True, random_state=42)"
   ]
  },
  {
   "cell_type": "code",
   "execution_count": 8,
   "metadata": {
    "ExecuteTime": {
     "end_time": "2020-04-16T16:33:43.970126Z",
     "start_time": "2020-04-16T16:33:43.893328Z"
    }
   },
   "outputs": [],
   "source": [
    "clf = DecisionTreeClassifier()\n",
    "clf = clf.fit(X_trainT,y_trainT)\n",
    "y_pred = clf.predict(X_testT)"
   ]
  },
  {
   "cell_type": "code",
   "execution_count": 9,
   "metadata": {
    "ExecuteTime": {
     "end_time": "2020-04-16T16:33:45.281476Z",
     "start_time": "2020-04-16T16:33:45.062627Z"
    }
   },
   "outputs": [
    {
     "name": "stdout",
     "output_type": "stream",
     "text": [
      "Accuracy   : 0.9120521172638436\n",
      "Accuracy F1: 0.9093152420071453\n"
     ]
    }
   ],
   "source": [
    "print(\"Accuracy   :\",metrics.accuracy_score(y_testT, y_pred))\n",
    "print(\"Accuracy F1:\",metrics.f1_score(y_testT, y_pred, average='macro'))"
   ]
  },
  {
   "cell_type": "code",
   "execution_count": 10,
   "metadata": {
    "ExecuteTime": {
     "end_time": "2020-04-16T16:34:33.762723Z",
     "start_time": "2020-04-16T16:34:14.440301Z"
    }
   },
   "outputs": [
    {
     "name": "stdout",
     "output_type": "stream",
     "text": [
      "{'max_features': 'sqrt', 'min_samples_leaf': 2, 'min_samples_split': 14}\n",
      "Accuracy   : 0.8881650380021715\n",
      "Accuracy F1: 0.8847738974852936\n"
     ]
    }
   ],
   "source": [
    "params = {'max_features': ['auto', 'sqrt', 'log2'],\n",
    "          'min_samples_split':list(range(2,15)), \n",
    "          'min_samples_leaf':list(range(2,11)),\n",
    "         }\n",
    "grid_search = GridSearchCV(estimator = DecisionTreeClassifier(), param_grid=params, scoring='accuracy', cv=5, \n",
    "                           return_train_score=True)\n",
    "grid_search.fit(X_trainT, y_trainT)\n",
    "y_estimated = grid_search.predict(X_testT)\n",
    "print(grid_search.best_params_)\n",
    "print(\"Accuracy   :\",metrics.accuracy_score(y_testT, y_estimated))\n",
    "print(\"Accuracy F1:\",metrics.f1_score(y_testT, y_estimated, average=None).mean())"
   ]
  },
  {
   "cell_type": "code",
   "execution_count": 11,
   "metadata": {
    "ExecuteTime": {
     "end_time": "2020-04-16T16:34:37.633378Z",
     "start_time": "2020-04-16T16:34:37.619417Z"
    }
   },
   "outputs": [
    {
     "name": "stdout",
     "output_type": "stream",
     "text": [
      "0.9478260869565217\n",
      "0.9446920804219232\n"
     ]
    }
   ],
   "source": [
    "y_estimated2 = grid_search.predict(X_trainT)\n",
    "print(metrics.accuracy_score(y_trainT, y_estimated2))\n",
    "print(metrics.f1_score(y_trainT, y_estimated2, average=None).mean())"
   ]
  },
  {
   "cell_type": "code",
   "execution_count": 12,
   "metadata": {
    "ExecuteTime": {
     "end_time": "2020-04-16T16:38:09.169348Z",
     "start_time": "2020-04-16T16:36:25.635350Z"
    }
   },
   "outputs": [
    {
     "name": "stdout",
     "output_type": "stream",
     "text": [
      "{'max_features': 'sqrt', 'min_samples_leaf': 3, 'min_samples_split': 13}\n",
      "Train \n",
      "Accuracy: 0.8956553408042469 \n",
      "F1: 0.9476758263692464\n",
      "Test \n",
      "Accuracy: 0.8794477085781434 \n",
      "F1: 0.9137899203491704\n"
     ]
    }
   ],
   "source": [
    "params = {'max_features': ['auto', 'sqrt', 'log2'],\n",
    "          'min_samples_split':list(range(2,15)), \n",
    "          'min_samples_leaf':list(range(2,11)),\n",
    "         }\n",
    "grid_search = GridSearchCV(estimator = DecisionTreeClassifier(), param_grid=params, scoring='accuracy', cv=4, \n",
    "                           return_train_score=True)\n",
    "grid_search.fit(X_train, y_train)\n",
    "print(grid_search.best_params_)\n",
    "print(\"Train\",\"\\nAccuracy:\",\n",
    "      cross_val_score(grid_search,X_train,y_train,cv=5,scoring='accuracy').mean(),\n",
    "      \"\\nF1:\",metrics.f1_score(y_train, grid_search.predict(X_train), average='weighted').mean() )\n",
    "print(\"Test\",\"\\nAccuracy:\",\n",
    "      cross_val_score(grid_search,X_test,y_test,cv=5,scoring='accuracy').mean(),\n",
    "      \"\\nF1:\",metrics.f1_score(y_test, grid_search.predict(X_test), average='weighted').mean() )"
   ]
  },
  {
   "cell_type": "markdown",
   "metadata": {},
   "source": [
    "# Random Forest"
   ]
  },
  {
   "cell_type": "code",
   "execution_count": 13,
   "metadata": {
    "ExecuteTime": {
     "end_time": "2020-04-16T16:38:22.802109Z",
     "start_time": "2020-04-16T16:38:22.789144Z"
    }
   },
   "outputs": [],
   "source": [
    "X_trainF, X_testF, y_trainF, y_testF = train_test_split(x, y, test_size=1/5, shuffle=True, random_state=42)"
   ]
  },
  {
   "cell_type": "code",
   "execution_count": 14,
   "metadata": {
    "ExecuteTime": {
     "end_time": "2020-04-16T16:38:23.884172Z",
     "start_time": "2020-04-16T16:38:23.802382Z"
    }
   },
   "outputs": [],
   "source": [
    "clf = RandomForestClassifier(n_estimators=10)\n",
    "clf = clf.fit(X_trainF,y_trainF)\n",
    "y_pred = clf.predict(X_testF)"
   ]
  },
  {
   "cell_type": "code",
   "execution_count": 15,
   "metadata": {
    "ExecuteTime": {
     "end_time": "2020-04-16T16:38:24.644424Z",
     "start_time": "2020-04-16T16:38:24.635448Z"
    }
   },
   "outputs": [
    {
     "name": "stdout",
     "output_type": "stream",
     "text": [
      "Accuracy   : 0.9533116178067318\n",
      "Accuracy F1: 0.9517046597814436\n"
     ]
    }
   ],
   "source": [
    "print(\"Accuracy   :\",metrics.accuracy_score(y_testF, y_pred))\n",
    "print(\"Accuracy F1:\",metrics.f1_score(y_testF, y_pred, average='macro'))"
   ]
  },
  {
   "cell_type": "code",
   "execution_count": 16,
   "metadata": {
    "ExecuteTime": {
     "end_time": "2020-04-16T16:38:27.369201Z",
     "start_time": "2020-04-16T16:38:27.364213Z"
    }
   },
   "outputs": [],
   "source": [
    "paramsF = {'criterion':['gini','entropy'],\n",
    "          'n_estimators':[10,15,20,25,30],\n",
    "          'min_samples_leaf':[1,2,3],\n",
    "          'min_samples_split':[3,4,5,6,7]}"
   ]
  },
  {
   "cell_type": "code",
   "execution_count": 17,
   "metadata": {
    "ExecuteTime": {
     "end_time": "2020-04-16T16:40:45.858304Z",
     "start_time": "2020-04-16T16:38:28.400581Z"
    }
   },
   "outputs": [
    {
     "name": "stdout",
     "output_type": "stream",
     "text": [
      "{'criterion': 'entropy', 'min_samples_leaf': 1, 'min_samples_split': 4, 'n_estimators': 30}\n",
      "Accuracy   : 0.9489685124864278\n",
      "Accuracy F1: 0.9472974206941054\n"
     ]
    }
   ],
   "source": [
    "grid_search = GridSearchCV(estimator = RandomForestClassifier(), param_grid=paramsF, scoring='accuracy', cv=5, \n",
    "                           return_train_score=True)\n",
    "grid_search.fit(X_trainF, y_trainF)\n",
    "y_estimated = grid_search.predict(X_testF)\n",
    "print(grid_search.best_params_)\n",
    "print(\"Accuracy   :\",metrics.accuracy_score(y_testF, y_estimated))\n",
    "print(\"Accuracy F1:\",metrics.f1_score(y_testF, y_estimated, average=None).mean())"
   ]
  },
  {
   "cell_type": "code",
   "execution_count": 18,
   "metadata": {
    "ExecuteTime": {
     "end_time": "2020-04-16T16:40:56.918758Z",
     "start_time": "2020-04-16T16:40:56.882850Z"
    }
   },
   "outputs": [
    {
     "name": "stdout",
     "output_type": "stream",
     "text": [
      "Accuracy   : 0.9964673913043478\n",
      "Accuracy F1: 0.9962727264157036\n"
     ]
    }
   ],
   "source": [
    "y_estimated2 = grid_search.predict(X_trainF)\n",
    "print(\"Accuracy   :\",metrics.accuracy_score(y_trainF, y_estimated2))\n",
    "print(\"Accuracy F1:\",metrics.f1_score(y_trainF, y_estimated2, average=None).mean())"
   ]
  },
  {
   "cell_type": "code",
   "execution_count": 19,
   "metadata": {
    "ExecuteTime": {
     "start_time": "2020-04-16T16:43:15.833Z"
    }
   },
   "outputs": [
    {
     "name": "stdout",
     "output_type": "stream",
     "text": [
      "{'criterion': 'entropy', 'min_samples_leaf': 1, 'min_samples_split': 3, 'n_estimators': 25}\n",
      "Train \n",
      "Accuracy: 0.9483787197552609 \n",
      "F1: 0.9978258039509954\n",
      "Test \n",
      "Accuracy: 0.9424735605170389 \n",
      "F1: 0.9486862270858061\n"
     ]
    }
   ],
   "source": [
    "paramsF = {'criterion':['gini','entropy'],\n",
    "          'n_estimators':[10,15,20,25,30],\n",
    "          'min_samples_leaf':[1,2,3],\n",
    "          'min_samples_split':[3,4,5,6,7]}\n",
    "\n",
    "grid_search = GridSearchCV(estimator = RandomForestClassifier(), param_grid=paramsF, scoring='accuracy', cv=4, \n",
    "                           return_train_score=True)\n",
    "grid_search.fit(X_trainF, y_trainF)\n",
    "print(grid_search.best_params_)\n",
    "print(\"Train\",\"\\nAccuracy:\",\n",
    "      cross_val_score(grid_search,X_trainF,y_trainF,cv=5,scoring='accuracy').mean(),\n",
    "      \"\\nF1:\",metrics.f1_score(y_trainF, grid_search.predict(X_trainF), average='weighted').mean() )\n",
    "print(\"Test\",\"\\nAccuracy:\",\n",
    "      cross_val_score(grid_search,X_testF,y_testF,cv=5,scoring='accuracy').mean(),\n",
    "      \"\\nF1:\",metrics.f1_score(y_testF, grid_search.predict(X_testF), average='weighted').mean() )"
   ]
  },
  {
   "cell_type": "code",
   "execution_count": 20,
   "metadata": {
    "ExecuteTime": {
     "start_time": "2020-04-16T16:33:09.238Z"
    }
   },
   "outputs": [],
   "source": [
    "#kfold"
   ]
  },
  {
   "cell_type": "markdown",
   "metadata": {},
   "source": [
    "# SVM\n"
   ]
  },
  {
   "cell_type": "code",
   "execution_count": 21,
   "metadata": {
    "ExecuteTime": {
     "start_time": "2020-04-16T16:33:09.243Z"
    }
   },
   "outputs": [],
   "source": [
    "X_trainS, X_testS, y_trainS, y_testS = train_test_split(x, y, test_size=1/5, shuffle=True, random_state=42)"
   ]
  },
  {
   "cell_type": "code",
   "execution_count": 22,
   "metadata": {
    "ExecuteTime": {
     "start_time": "2020-04-16T16:33:09.246Z"
    }
   },
   "outputs": [],
   "source": [
    "clf = svm.SVC(gamma='auto')\n",
    "clf = clf.fit(X_trainS,y_trainS)\n",
    "y_pred = clf.predict(X_testS)"
   ]
  },
  {
   "cell_type": "code",
   "execution_count": 23,
   "metadata": {
    "ExecuteTime": {
     "start_time": "2020-04-16T16:33:09.248Z"
    }
   },
   "outputs": [
    {
     "name": "stdout",
     "output_type": "stream",
     "text": [
      "Accuracy   : 0.7893593919652552\n",
      "Accuracy F1: 0.7649125299987369\n"
     ]
    }
   ],
   "source": [
    "print(\"Accuracy   :\",metrics.accuracy_score(y_testS, y_pred))\n",
    "print(\"Accuracy F1:\",metrics.f1_score(y_testS, y_pred, average='macro'))"
   ]
  },
  {
   "cell_type": "code",
   "execution_count": 24,
   "metadata": {
    "ExecuteTime": {
     "start_time": "2020-04-16T16:33:09.252Z"
    }
   },
   "outputs": [],
   "source": [
    "paramsS = {'C': [6,7,8,9,10,11,12], \n",
    "          'kernel': ['linear','rbf']}"
   ]
  },
  {
   "cell_type": "code",
   "execution_count": 25,
   "metadata": {
    "ExecuteTime": {
     "start_time": "2020-04-16T16:33:09.255Z"
    }
   },
   "outputs": [
    {
     "name": "stdout",
     "output_type": "stream",
     "text": [
      "{'C': 12, 'kernel': 'linear'}\n",
      "Test\n",
      "Accuracy   : 0.9185667752442996\n",
      "Accuracy F1: 0.9156944422407765\n"
     ]
    }
   ],
   "source": [
    "grid_search = GridSearchCV(estimator = clf, param_grid=paramsS, scoring='accuracy', cv=5, \n",
    "                           return_train_score=True)\n",
    "grid_search.fit(X_trainS, y_trainS)\n",
    "y_estimated = grid_search.predict(X_testS)\n",
    "print(grid_search.best_params_)\n",
    "print(\"Test\")\n",
    "print(\"Accuracy   :\",metrics.accuracy_score(y_testS, y_estimated))\n",
    "print(\"Accuracy F1:\",metrics.f1_score(y_testS, y_estimated, average=None).mean())"
   ]
  },
  {
   "cell_type": "code",
   "execution_count": 26,
   "metadata": {
    "ExecuteTime": {
     "start_time": "2020-04-16T16:33:09.257Z"
    }
   },
   "outputs": [
    {
     "name": "stdout",
     "output_type": "stream",
     "text": [
      "Train\n",
      "Accuracy   : 0.9266304347826086\n",
      "Accuracy F1: 0.9219628663881123\n"
     ]
    }
   ],
   "source": [
    "y_estimated2 = grid_search.predict(X_trainS)\n",
    "print(\"Train\")\n",
    "print(\"Accuracy   :\",metrics.accuracy_score(y_trainS, y_estimated2))\n",
    "print(\"Accuracy F1:\",metrics.f1_score(y_trainS, y_estimated2, average=None).mean())"
   ]
  },
  {
   "cell_type": "code",
   "execution_count": 27,
   "metadata": {
    "ExecuteTime": {
     "start_time": "2020-04-16T16:33:09.260Z"
    }
   },
   "outputs": [
    {
     "name": "stdout",
     "output_type": "stream",
     "text": [
      "{'C': 12, 'kernel': 'linear'}\n",
      "Train \n",
      "Accuracy: 0.9222939393738736 \n",
      "F1: 0.9262881464336791\n",
      "Test \n",
      "Accuracy: 0.910945945945946 \n",
      "F1: 0.9180767890260516\n"
     ]
    }
   ],
   "source": [
    "paramsS = {'C': [6,7,8,9,10,11,12], \n",
    "          'kernel': ['linear','rbf']}\n",
    "grid_search = GridSearchCV(estimator = clf, param_grid=paramsS, scoring='accuracy', cv=4, \n",
    "                           return_train_score=True)\n",
    "grid_search.fit(X_trainS, y_trainS)\n",
    "print(grid_search.best_params_)\n",
    "print(\"Train\",\"\\nAccuracy:\",\n",
    "      cross_val_score(grid_search,X_trainS,y_trainS,cv=5,scoring='accuracy').mean(),\n",
    "      \"\\nF1:\",metrics.f1_score(y_trainS, grid_search.predict(X_trainS), average='weighted').mean() )\n",
    "print(\"Test\",\"\\nAccuracy:\",\n",
    "      cross_val_score(grid_search,X_testS,y_testS,cv=5,scoring='accuracy').mean(),\n",
    "      \"\\nF1:\",metrics.f1_score(y_testS, grid_search.predict(X_testS), average='weighted').mean() )"
   ]
  },
  {
   "cell_type": "code",
   "execution_count": 28,
   "metadata": {
    "ExecuteTime": {
     "start_time": "2020-04-16T16:33:09.263Z"
    }
   },
   "outputs": [],
   "source": [
    "#pt kfold"
   ]
  },
  {
   "cell_type": "markdown",
   "metadata": {},
   "source": [
    "# Gaussian Native Bayes"
   ]
  },
  {
   "cell_type": "code",
   "execution_count": 30,
   "metadata": {
    "ExecuteTime": {
     "start_time": "2020-04-16T16:33:09.270Z"
    }
   },
   "outputs": [],
   "source": [
    "X_trainGNB, X_testGNB, y_trainGNB, y_testGNB = train_test_split(x, y, test_size=1/5, shuffle=True, random_state=42)"
   ]
  },
  {
   "cell_type": "code",
   "execution_count": 31,
   "metadata": {
    "ExecuteTime": {
     "start_time": "2020-04-16T16:33:09.274Z"
    }
   },
   "outputs": [],
   "source": [
    "clf = GaussianNB()\n",
    "clf.fit(X_trainGNB, y_trainGNB)\n",
    "y_pred = clf.predict(X_testGNB)"
   ]
  },
  {
   "cell_type": "code",
   "execution_count": 32,
   "metadata": {
    "ExecuteTime": {
     "start_time": "2020-04-16T16:33:09.277Z"
    }
   },
   "outputs": [
    {
     "name": "stdout",
     "output_type": "stream",
     "text": [
      "Accuracy   : 0.8219326818675353\n",
      "Accuracy F1: 0.8218013817577772\n"
     ]
    }
   ],
   "source": [
    "print(\"Accuracy   :\",metrics.accuracy_score(y_testGNB, y_pred))\n",
    "print(\"Accuracy F1:\",metrics.f1_score(y_testGNB, y_pred, average='macro'))"
   ]
  },
  {
   "cell_type": "code",
   "execution_count": 33,
   "metadata": {
    "ExecuteTime": {
     "start_time": "2020-04-16T16:33:09.281Z"
    }
   },
   "outputs": [],
   "source": [
    "paramsGNB = {}"
   ]
  },
  {
   "cell_type": "code",
   "execution_count": 34,
   "metadata": {
    "ExecuteTime": {
     "start_time": "2020-04-16T16:33:09.284Z"
    }
   },
   "outputs": [
    {
     "name": "stdout",
     "output_type": "stream",
     "text": [
      "{}\n"
     ]
    }
   ],
   "source": [
    "grid_search = GridSearchCV(estimator = GaussianNB(), param_grid=paramsGNB, scoring='accuracy', cv=5, \n",
    "                           return_train_score=True, iid=False)\n",
    "grid_search.fit(X_trainGNB, y_trainGNB)\n",
    "y_estimated=grid_search.predict(X_testGNB)\n",
    "print(grid_search.best_params_)"
   ]
  },
  {
   "cell_type": "code",
   "execution_count": 35,
   "metadata": {
    "ExecuteTime": {
     "start_time": "2020-04-16T16:33:09.288Z"
    }
   },
   "outputs": [
    {
     "name": "stdout",
     "output_type": "stream",
     "text": [
      "Test\n",
      "Accuracy   : 0.8219326818675353\n",
      "Accuracy F1: 0.8218013817577772\n"
     ]
    }
   ],
   "source": [
    "print(\"Test\")\n",
    "print(\"Accuracy   :\",metrics.accuracy_score(y_testGNB, y_estimated))\n",
    "print(\"Accuracy F1:\",metrics.f1_score(y_testGNB, y_estimated, average=None).mean())"
   ]
  },
  {
   "cell_type": "code",
   "execution_count": 36,
   "metadata": {
    "ExecuteTime": {
     "start_time": "2020-04-16T16:33:09.292Z"
    }
   },
   "outputs": [
    {
     "name": "stdout",
     "output_type": "stream",
     "text": [
      "Train\n",
      "Accuracy   : 0.8206521739130435\n",
      "Accuracy F1: 0.8194361304377693\n"
     ]
    }
   ],
   "source": [
    "y_estimated2 = grid_search.predict(X_trainGNB)\n",
    "print(\"Train\")\n",
    "print(\"Accuracy   :\",metrics.accuracy_score(y_trainGNB, y_estimated2))\n",
    "print(\"Accuracy F1:\",metrics.f1_score(y_trainGNB, y_estimated2, average=None).mean())"
   ]
  },
  {
   "cell_type": "code",
   "execution_count": 37,
   "metadata": {
    "ExecuteTime": {
     "start_time": "2020-04-16T16:33:09.296Z"
    }
   },
   "outputs": [
    {
     "name": "stdout",
     "output_type": "stream",
     "text": [
      "{}\n",
      "Train \n",
      "Accuracy: 0.8163151542842375 \n",
      "F1: 0.8227943432138577\n",
      "Test \n",
      "Accuracy: 0.8165276145710928 \n",
      "F1: 0.8225419143768132\n"
     ]
    }
   ],
   "source": [
    "parameterGNB = {}\n",
    "grid_search = GridSearchCV(estimator = clf, param_grid=parameterGNB, scoring='accuracy', cv=4, \n",
    "                           return_train_score=True, iid=False)\n",
    "grid_search.fit(X_trainGNB, y_trainGNB)\n",
    "\n",
    "print(grid_search.best_params_)\n",
    "print(\"Train\",\"\\nAccuracy:\",\n",
    "      cross_val_score(grid_search,X_trainGNB,y_trainGNB,cv=5,scoring='accuracy').mean(),\n",
    "      \"\\nF1:\",metrics.f1_score(y_trainGNB, grid_search.predict(X_trainGNB), average='weighted').mean() )\n",
    "print(\"Test\",\"\\nAccuracy:\",\n",
    "      cross_val_score(grid_search,X_testGNB,y_testGNB,cv=5,scoring='accuracy').mean(),\n",
    "      \"\\nF1:\",metrics.f1_score(y_testGNB, grid_search.predict(X_testGNB), average='weighted').mean() )"
   ]
  },
  {
   "cell_type": "code",
   "execution_count": 38,
   "metadata": {
    "ExecuteTime": {
     "start_time": "2020-04-16T16:33:09.299Z"
    }
   },
   "outputs": [
    {
     "data": {
      "text/plain": [
       "0.8165871709503223"
      ]
     },
     "execution_count": 38,
     "metadata": {},
     "output_type": "execute_result"
    }
   ],
   "source": [
    "def cross_val(params):\n",
    "    model = GaussianNB()\n",
    "    model.set_params(**params)\n",
    "    cv_results = cross_val_score(model, X_trainGNB, y_trainGNB,\n",
    "                             cv = 5, \n",
    "                             scoring = \"accuracy\",\n",
    "                             \n",
    "                            )\n",
    "    return cv_results.mean()\n",
    "\n",
    "params = {\n",
    "          \"var_smoothing\" : 1e-9\n",
    "}\n",
    "steps = [1e-8, 1e-7, 1e-6, 1e-5]\n",
    "\n",
    "# #will contain the cv results\n",
    "results = []\n",
    "for step in steps:        \n",
    "    params[\"var_smoothing\"] = step        \n",
    "    cv_result = cross_val(params)\n",
    "\n",
    "    #save result\n",
    "    results=np.append(results,cv_result)\n",
    "results.mean()"
   ]
  },
  {
   "cell_type": "code",
   "execution_count": null,
   "metadata": {},
   "outputs": [],
   "source": []
  }
 ],
 "metadata": {
  "kernelspec": {
   "display_name": "Python 3",
   "language": "python",
   "name": "python3"
  },
  "language_info": {
   "codemirror_mode": {
    "name": "ipython",
    "version": 3
   },
   "file_extension": ".py",
   "mimetype": "text/x-python",
   "name": "python",
   "nbconvert_exporter": "python",
   "pygments_lexer": "ipython3",
   "version": "3.7.4"
  }
 },
 "nbformat": 4,
 "nbformat_minor": 4
}
