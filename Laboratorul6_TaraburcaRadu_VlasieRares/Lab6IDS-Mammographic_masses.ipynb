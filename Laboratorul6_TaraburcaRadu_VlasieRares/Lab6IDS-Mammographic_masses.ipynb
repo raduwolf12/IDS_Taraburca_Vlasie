{
 "cells": [
  {
   "cell_type": "markdown",
   "metadata": {},
   "source": [
    "# Laborator 6 - Teme \n",
    "<br>\n",
    "Autori:\n",
    "Taraburca Radu,\n",
    "Vlasie Rares\n",
    "<br>\n",
    "Dataset:Mammographic_masses"
   ]
  },
  {
   "cell_type": "code",
   "execution_count": 3,
   "metadata": {},
   "outputs": [],
   "source": [
    "from sklearn.model_selection import train_test_split\n",
    "from sklearn.model_selection import GridSearchCV\n",
    "from sklearn.metrics import accuracy_score\n",
    "from sklearn.model_selection import cross_val_score\n",
    "from numpy import array\n",
    "from sklearn.model_selection import KFold\n",
    "from sklearn.tree import DecisionTreeClassifier\n",
    "import sklearn\n",
    "from sklearn.ensemble import RandomForestClassifier\n",
    "from sklearn import svm\n",
    "from sklearn.neural_network import MLPClassifier"
   ]
  },
  {
   "cell_type": "code",
   "execution_count": 4,
   "metadata": {},
   "outputs": [],
   "source": [
    "import pandas as pd\n",
    "import numpy as np"
   ]
  },
  {
   "cell_type": "code",
   "execution_count": 205,
   "metadata": {},
   "outputs": [
    {
     "name": "stdout",
     "output_type": "stream",
     "text": [
      "Describe Dataset \n",
      "\n",
      "<class 'pandas.core.frame.DataFrame'>\n",
      "RangeIndex: 960 entries, 0 to 959\n",
      "Data columns (total 6 columns):\n",
      "0    958 non-null float64\n",
      "1    955 non-null float64\n",
      "2    929 non-null float64\n",
      "3    912 non-null float64\n",
      "4    884 non-null float64\n",
      "5    960 non-null int64\n",
      "dtypes: float64(5), int64(1)\n",
      "memory usage: 45.1 KB\n",
      "None\n",
      "     0     1    2    3    4  5\n",
      "0  4.0  43.0  1.0  1.0  NaN  1\n",
      "1  5.0  58.0  4.0  5.0  3.0  1\n",
      "2  4.0  28.0  1.0  1.0  3.0  0\n",
      "3  5.0  74.0  1.0  5.0  NaN  1\n",
      "4  4.0  65.0  1.0  NaN  3.0  0\n",
      "                0           1           2           3           4           5\n",
      "count  958.000000  955.000000  929.000000  912.000000  884.000000  960.000000\n",
      "mean     4.347599   55.475393    2.721206    2.793860    2.910633    0.462500\n",
      "std      1.783838   14.482917    1.243428    1.565702    0.380647    0.498852\n",
      "min      0.000000   18.000000    1.000000    1.000000    1.000000    0.000000\n",
      "25%      4.000000   45.000000    2.000000    1.000000    3.000000    0.000000\n",
      "50%      4.000000   57.000000    3.000000    3.000000    3.000000    0.000000\n",
      "75%      5.000000   66.000000    4.000000    4.000000    3.000000    1.000000\n",
      "max     55.000000   96.000000    4.000000    5.000000    4.000000    1.000000\n",
      "       0     1    2    3    4  5\n",
      "0    4.0  43.0  1.0  1.0  NaN  1\n",
      "1    5.0  58.0  4.0  5.0  3.0  1\n",
      "2    4.0  28.0  1.0  1.0  3.0  0\n",
      "3    5.0  74.0  1.0  5.0  NaN  1\n",
      "4    4.0  65.0  1.0  NaN  3.0  0\n",
      "..   ...   ...  ...  ...  ... ..\n",
      "955  4.0  47.0  2.0  1.0  3.0  0\n",
      "956  4.0  56.0  4.0  5.0  3.0  1\n",
      "957  4.0  64.0  4.0  5.0  3.0  0\n",
      "958  5.0  66.0  4.0  5.0  3.0  1\n",
      "959  4.0  62.0  3.0  3.0  3.0  0\n",
      "\n",
      "[960 rows x 6 columns]\n",
      "162\n"
     ]
    }
   ],
   "source": [
    "data = pd.read_csv('http://archive.ics.uci.edu/ml/machine-learning-databases/mammographic-masses/mammographic_masses.data', sep=\",\",skiprows=1, header=None,na_values='?')\n",
    "print(\"Describe Dataset\",\"\\n\")\n",
    "print(data.info())\n",
    "print(data.head())\n",
    "print(data.describe())\n",
    "\n",
    "print(data)\n",
    "print(data.isnull().sum().sum())\n"
   ]
  },
  {
   "cell_type": "code",
   "execution_count": 206,
   "metadata": {
    "scrolled": true
   },
   "outputs": [
    {
     "data": {
      "text/html": [
       "<div>\n",
       "<style scoped>\n",
       "    .dataframe tbody tr th:only-of-type {\n",
       "        vertical-align: middle;\n",
       "    }\n",
       "\n",
       "    .dataframe tbody tr th {\n",
       "        vertical-align: top;\n",
       "    }\n",
       "\n",
       "    .dataframe thead th {\n",
       "        text-align: right;\n",
       "    }\n",
       "</style>\n",
       "<table border=\"1\" class=\"dataframe\">\n",
       "  <thead>\n",
       "    <tr style=\"text-align: right;\">\n",
       "      <th></th>\n",
       "      <th>0</th>\n",
       "      <th>1</th>\n",
       "      <th>2</th>\n",
       "      <th>3</th>\n",
       "      <th>4</th>\n",
       "      <th>5</th>\n",
       "    </tr>\n",
       "  </thead>\n",
       "  <tbody>\n",
       "    <tr>\n",
       "      <td>0</td>\n",
       "      <td>4.0</td>\n",
       "      <td>43.0</td>\n",
       "      <td>1.0</td>\n",
       "      <td>1.0</td>\n",
       "      <td>NaN</td>\n",
       "      <td>1</td>\n",
       "    </tr>\n",
       "    <tr>\n",
       "      <td>1</td>\n",
       "      <td>5.0</td>\n",
       "      <td>58.0</td>\n",
       "      <td>4.0</td>\n",
       "      <td>5.0</td>\n",
       "      <td>3.0</td>\n",
       "      <td>1</td>\n",
       "    </tr>\n",
       "    <tr>\n",
       "      <td>2</td>\n",
       "      <td>4.0</td>\n",
       "      <td>28.0</td>\n",
       "      <td>1.0</td>\n",
       "      <td>1.0</td>\n",
       "      <td>3.0</td>\n",
       "      <td>0</td>\n",
       "    </tr>\n",
       "    <tr>\n",
       "      <td>3</td>\n",
       "      <td>5.0</td>\n",
       "      <td>74.0</td>\n",
       "      <td>1.0</td>\n",
       "      <td>5.0</td>\n",
       "      <td>NaN</td>\n",
       "      <td>1</td>\n",
       "    </tr>\n",
       "    <tr>\n",
       "      <td>4</td>\n",
       "      <td>4.0</td>\n",
       "      <td>65.0</td>\n",
       "      <td>1.0</td>\n",
       "      <td>NaN</td>\n",
       "      <td>3.0</td>\n",
       "      <td>0</td>\n",
       "    </tr>\n",
       "  </tbody>\n",
       "</table>\n",
       "</div>"
      ],
      "text/plain": [
       "     0     1    2    3    4  5\n",
       "0  4.0  43.0  1.0  1.0  NaN  1\n",
       "1  5.0  58.0  4.0  5.0  3.0  1\n",
       "2  4.0  28.0  1.0  1.0  3.0  0\n",
       "3  5.0  74.0  1.0  5.0  NaN  1\n",
       "4  4.0  65.0  1.0  NaN  3.0  0"
      ]
     },
     "execution_count": 206,
     "metadata": {},
     "output_type": "execute_result"
    }
   ],
   "source": [
    "# data=data.drop(columns=[0,1,2,3,4,5,6,7,8,9,10,11,12,13,14,15,16,17,18,19,20,39])\n",
    "data[:5]"
   ]
  },
  {
   "cell_type": "code",
   "execution_count": 207,
   "metadata": {
    "scrolled": true
   },
   "outputs": [
    {
     "name": "stdout",
     "output_type": "stream",
     "text": [
      "       0     1    2        3         4  5\n",
      "0    4.0  43.0  1.0  1.00000  2.910633  1\n",
      "1    5.0  58.0  4.0  5.00000  3.000000  1\n",
      "2    4.0  28.0  1.0  1.00000  3.000000  0\n",
      "3    5.0  74.0  1.0  5.00000  2.910633  1\n",
      "4    4.0  65.0  1.0  2.79386  3.000000  0\n",
      "..   ...   ...  ...      ...       ... ..\n",
      "955  4.0  47.0  2.0  1.00000  3.000000  0\n",
      "956  4.0  56.0  4.0  5.00000  3.000000  1\n",
      "957  4.0  64.0  4.0  5.00000  3.000000  0\n",
      "958  5.0  66.0  4.0  5.00000  3.000000  1\n",
      "959  4.0  62.0  3.0  3.00000  3.000000  0\n",
      "\n",
      "[960 rows x 6 columns]\n"
     ]
    }
   ],
   "source": [
    "data=data.fillna(data[data.columns].mean())\n",
    "print(data)"
   ]
  },
  {
   "cell_type": "code",
   "execution_count": 215,
   "metadata": {},
   "outputs": [
    {
     "name": "stdout",
     "output_type": "stream",
     "text": [
      "\n",
      "(960, 5)\n",
      "(960,)\n",
      "(192,)\n",
      "(768,)\n"
     ]
    }
   ],
   "source": [
    "from sklearn.preprocessing import MinMaxScaler\n",
    "X= data.values[:,:-1]\n",
    "\n",
    "scaler = MinMaxScaler()\n",
    "scaler.fit(X)\n",
    "X = scaler.transform(X)\n",
    "print()\n",
    "print(x.shape)\n",
    "y=data.values[:,-1]\n",
    "print(y.shape)\n",
    "X_train, X_test, y_train, y_test = train_test_split(X, y, test_size=1/5, shuffle=True, random_state=42)\n",
    "print(y_test.shape)\n",
    "print(y_train.shape)\n"
   ]
  },
  {
   "cell_type": "markdown",
   "metadata": {},
   "source": [
    "# Decision Tree"
   ]
  },
  {
   "cell_type": "code",
   "execution_count": 216,
   "metadata": {},
   "outputs": [],
   "source": [
    "from sklearn import metrics "
   ]
  },
  {
   "cell_type": "code",
   "execution_count": 217,
   "metadata": {},
   "outputs": [],
   "source": [
    "X_trainT, X_testT, y_trainT, y_testT= train_test_split(X, y, test_size=1/5, shuffle=True, random_state=42)"
   ]
  },
  {
   "cell_type": "code",
   "execution_count": 218,
   "metadata": {},
   "outputs": [],
   "source": [
    "clf = DecisionTreeClassifier()\n",
    "clf = clf.fit(X_trainT,y_trainT)\n",
    "y_pred = clf.predict(X_testT)"
   ]
  },
  {
   "cell_type": "code",
   "execution_count": 219,
   "metadata": {},
   "outputs": [
    {
     "name": "stdout",
     "output_type": "stream",
     "text": [
      "Accuracy   : 0.7239583333333334\n",
      "Accuracy F1: 0.719939452318701\n"
     ]
    }
   ],
   "source": [
    "print(\"Accuracy   :\",metrics.accuracy_score(y_testT, y_pred))\n",
    "print(\"Accuracy F1:\",metrics.f1_score(y_testT, y_pred, average='macro'))"
   ]
  },
  {
   "cell_type": "code",
   "execution_count": 220,
   "metadata": {},
   "outputs": [
    {
     "name": "stdout",
     "output_type": "stream",
     "text": [
      "{'max_features': 'auto', 'min_samples_leaf': 6, 'min_samples_split': 4}\n",
      "Accuracy   : 0.859375\n",
      "Accuracy F1: 0.8579842752650467\n"
     ]
    }
   ],
   "source": [
    "params = {'max_features': ['auto', 'sqrt', 'log2'],\n",
    "          'min_samples_split':list(range(2,15)), \n",
    "          'min_samples_leaf':list(range(2,11)),\n",
    "         }\n",
    "grid_search = GridSearchCV(estimator = DecisionTreeClassifier(), param_grid=params, scoring='accuracy', cv=5, \n",
    "                           return_train_score=True, iid=False)\n",
    "grid_search.fit(X_trainT, y_trainT)\n",
    "y_estimated = grid_search.predict(X_testT)\n",
    "print(grid_search.best_params_)\n",
    "gs=grid_search.best_params_\n",
    "gss=grid_search\n",
    "print(\"Accuracy   :\",metrics.accuracy_score(y_testT, y_estimated))\n",
    "print(\"Accuracy F1:\",metrics.f1_score(y_testT, y_estimated, average=None).mean())"
   ]
  },
  {
   "cell_type": "code",
   "execution_count": 221,
   "metadata": {},
   "outputs": [
    {
     "name": "stdout",
     "output_type": "stream",
     "text": [
      "Accuracy   : 0.8528645833333334\n",
      "Accuracy F1: 0.8522631902394017\n"
     ]
    }
   ],
   "source": [
    "y_estimated2 = grid_search.predict(X_trainT)\n",
    "print(\"Accuracy   :\",metrics.accuracy_score(y_trainT, y_estimated2))\n",
    "print(\"Accuracy F1:\",metrics.f1_score(y_trainT, y_estimated2, average=None).mean())"
   ]
  },
  {
   "cell_type": "code",
   "execution_count": 222,
   "metadata": {},
   "outputs": [
    {
     "name": "stdout",
     "output_type": "stream",
     "text": [
      "{'max_features': 'log2', 'min_samples_leaf': 5, 'min_samples_split': 3}\n"
     ]
    }
   ],
   "source": [
    "params = {'max_features': ['auto', 'sqrt', 'log2'],\n",
    "          'min_samples_split':list(range(2,15)), \n",
    "          'min_samples_leaf':list(range(2,11)),\n",
    "         }\n",
    "grid_search = GridSearchCV(estimator = DecisionTreeClassifier(), param_grid=params, scoring='accuracy', cv=4, \n",
    "                           return_train_score=True, iid=False)\n",
    "grid_search.fit(X_trainT, y_trainT)\n",
    "print(grid_search.best_params_)\n"
   ]
  },
  {
   "cell_type": "code",
   "execution_count": 223,
   "metadata": {},
   "outputs": [
    {
     "name": "stdout",
     "output_type": "stream",
     "text": [
      "Train \n",
      "Accuracy: 0.8137218045112782 \n",
      "F1: 0.8402002728174603\n",
      "Test \n",
      "Accuracy: 0.8340080971659918 \n",
      "F1: 0.8526997899856307\n"
     ]
    }
   ],
   "source": [
    "print(\"Train\",\"\\nAccuracy:\",\n",
    "      cross_val_score(grid_search,X_trainT,y_trainT,cv=5,scoring='accuracy').mean(),\n",
    "      \"\\nF1:\",metrics.f1_score(y_trainT, grid_search.predict(X_trainT), average='weighted').mean() )\n",
    "print(\"Test\",\"\\nAccuracy:\",\n",
    "      cross_val_score(grid_search,X_testT,y_testT,cv=5,scoring='accuracy').mean(),\n",
    "      \"\\nF1:\",metrics.f1_score(y_testT, grid_search.predict(X_testT), average='weighted').mean() )\n"
   ]
  },
  {
   "cell_type": "markdown",
   "metadata": {},
   "source": [
    "# Random forest\n"
   ]
  },
  {
   "cell_type": "code",
   "execution_count": 224,
   "metadata": {},
   "outputs": [],
   "source": [
    "from sklearn.ensemble import RandomForestClassifier"
   ]
  },
  {
   "cell_type": "code",
   "execution_count": 225,
   "metadata": {},
   "outputs": [],
   "source": [
    "X_trainF, X_testF, y_trainF, y_testF = train_test_split(X, y, test_size=1/5, shuffle=True, random_state=42)"
   ]
  },
  {
   "cell_type": "code",
   "execution_count": 226,
   "metadata": {},
   "outputs": [],
   "source": [
    "clf = RandomForestClassifier(n_estimators=10)\n",
    "clf = clf.fit(X_trainF,y_trainF)\n",
    "y_pred = clf.predict(X_testF)"
   ]
  },
  {
   "cell_type": "code",
   "execution_count": 227,
   "metadata": {},
   "outputs": [
    {
     "name": "stdout",
     "output_type": "stream",
     "text": [
      "Accuracy   : 0.7708333333333334\n",
      "Accuracy F1: 0.7677844969763605\n"
     ]
    }
   ],
   "source": [
    "print(\"Accuracy   :\",metrics.accuracy_score(y_testF, y_pred))\n",
    "print(\"Accuracy F1:\",metrics.f1_score(y_testF, y_pred, average='macro'))"
   ]
  },
  {
   "cell_type": "code",
   "execution_count": 228,
   "metadata": {},
   "outputs": [],
   "source": [
    "paramsF = {'criterion':['gini','entropy'],\n",
    "          'n_estimators':[10,15,20,25,30],\n",
    "          'min_samples_leaf':[1,2,3],\n",
    "          'min_samples_split':[3,4,5,6,7]}"
   ]
  },
  {
   "cell_type": "code",
   "execution_count": 229,
   "metadata": {},
   "outputs": [
    {
     "name": "stdout",
     "output_type": "stream",
     "text": [
      "{'criterion': 'entropy', 'min_samples_leaf': 3, 'min_samples_split': 5, 'n_estimators': 30}\n",
      "Accuracy   : 0.8489583333333334\n",
      "Accuracy F1: 0.8471295609916811\n"
     ]
    }
   ],
   "source": [
    "grid_search = GridSearchCV(estimator = RandomForestClassifier(), param_grid=paramsF, scoring='accuracy', cv=5, \n",
    "                           return_train_score=True, iid=False)\n",
    "grid_search.fit(X_trainF, y_trainF)\n",
    "y_estimated = grid_search.predict(X_testF)\n",
    "print(grid_search.best_params_)\n",
    "print(\"Accuracy   :\",metrics.accuracy_score(y_testF, y_estimated))\n",
    "print(\"Accuracy F1:\",metrics.f1_score(y_testF, y_estimated, average=None).mean())"
   ]
  },
  {
   "cell_type": "code",
   "execution_count": 230,
   "metadata": {},
   "outputs": [
    {
     "name": "stdout",
     "output_type": "stream",
     "text": [
      "Accuracy   : 0.8684895833333334\n",
      "Accuracy F1: 0.8676546613820437\n"
     ]
    }
   ],
   "source": [
    "y_estimated2 = grid_search.predict(X_trainF)\n",
    "print(\"Accuracy   :\",metrics.accuracy_score(y_trainF, y_estimated2))\n",
    "print(\"Accuracy F1:\",metrics.f1_score(y_trainF, y_estimated2, average=None).mean())"
   ]
  },
  {
   "cell_type": "code",
   "execution_count": 231,
   "metadata": {},
   "outputs": [
    {
     "name": "stdout",
     "output_type": "stream",
     "text": [
      "{'criterion': 'gini', 'min_samples_leaf': 3, 'min_samples_split': 7, 'n_estimators': 15}\n",
      "Train \n",
      "Accuracy: 0.8216336295283664 \n",
      "F1: 0.872466276656648\n",
      "Test \n",
      "Accuracy: 0.817948717948718 \n",
      "F1: 0.8326020184291355\n"
     ]
    }
   ],
   "source": [
    "paramsF = {'criterion':['gini','entropy'],\n",
    "          'n_estimators':[10,15,20,25,30],\n",
    "          'min_samples_leaf':[1,2,3],\n",
    "          'min_samples_split':[3,4,5,6,7]}\n",
    "\n",
    "grid_search = GridSearchCV(estimator = RandomForestClassifier(), param_grid=paramsF, scoring='accuracy', cv=4, \n",
    "                           return_train_score=True, iid=False)\n",
    "grid_search.fit(X_trainF, y_trainF)\n",
    "print(grid_search.best_params_)\n",
    "print(\"Train\",\"\\nAccuracy:\",\n",
    "      cross_val_score(grid_search,X_trainF,y_trainF,cv=5,scoring='accuracy').mean(),\n",
    "      \"\\nF1:\",metrics.f1_score(y_trainF, grid_search.predict(X_trainF), average='weighted').mean() )\n",
    "print(\"Test\",\"\\nAccuracy:\",\n",
    "      cross_val_score(grid_search,X_testF,y_testF,cv=5,scoring='accuracy').mean(),\n",
    "      \"\\nF1:\",metrics.f1_score(y_testF, grid_search.predict(X_testF), average='weighted').mean() )\n"
   ]
  },
  {
   "cell_type": "markdown",
   "metadata": {},
   "source": [
    "# SVM\n"
   ]
  },
  {
   "cell_type": "code",
   "execution_count": 232,
   "metadata": {},
   "outputs": [],
   "source": [
    "from sklearn import svm\n"
   ]
  },
  {
   "cell_type": "code",
   "execution_count": 233,
   "metadata": {},
   "outputs": [],
   "source": [
    "X_trainS, X_testS, y_trainS, y_testS = train_test_split(X, y, test_size=1/5, shuffle=True, random_state=42)"
   ]
  },
  {
   "cell_type": "code",
   "execution_count": 234,
   "metadata": {},
   "outputs": [],
   "source": [
    "clf = svm.SVC(gamma='auto')\n",
    "clf = clf.fit(X_trainS,y_trainS)\n",
    "y_pred = clf.predict(X_testS)"
   ]
  },
  {
   "cell_type": "code",
   "execution_count": 235,
   "metadata": {},
   "outputs": [
    {
     "name": "stdout",
     "output_type": "stream",
     "text": [
      "Accuracy   : 0.8177083333333334\n",
      "Accuracy F1: 0.8168687832129717\n"
     ]
    }
   ],
   "source": [
    "print(\"Accuracy   :\",metrics.accuracy_score(y_testS, y_pred))\n",
    "print(\"Accuracy F1:\",metrics.f1_score(y_testS, y_pred, average='macro'))"
   ]
  },
  {
   "cell_type": "code",
   "execution_count": 236,
   "metadata": {},
   "outputs": [],
   "source": [
    "paramsS = {'C': [6,7,8,9,10,11,12], \n",
    "          'kernel': ['linear','rbf']}"
   ]
  },
  {
   "cell_type": "code",
   "execution_count": 237,
   "metadata": {},
   "outputs": [
    {
     "name": "stdout",
     "output_type": "stream",
     "text": [
      "{'C': 10, 'kernel': 'rbf'}\n",
      "Test\n",
      "Accuracy   : 0.8333333333333334\n",
      "Accuracy F1: 0.8321678321678323\n"
     ]
    }
   ],
   "source": [
    "grid_search = GridSearchCV(estimator = clf, param_grid=paramsS, scoring='accuracy', cv=5, \n",
    "                           return_train_score=True, iid=False)\n",
    "grid_search.fit(X_trainS, y_trainS)\n",
    "y_estimated = grid_search.predict(X_testS)\n",
    "print(grid_search.best_params_)\n",
    "print(\"Test\")\n",
    "print(\"Accuracy   :\",metrics.accuracy_score(y_testS, y_estimated))\n",
    "print(\"Accuracy F1:\",metrics.f1_score(y_testS, y_estimated, average=None).mean())\n"
   ]
  },
  {
   "cell_type": "code",
   "execution_count": 238,
   "metadata": {},
   "outputs": [
    {
     "name": "stdout",
     "output_type": "stream",
     "text": [
      "Train\n",
      "Accuracy   : 0.8072916666666666\n",
      "Accuracy F1: 0.8067136006529947\n"
     ]
    }
   ],
   "source": [
    "y_estimated2 = grid_search.predict(X_trainS)\n",
    "print(\"Train\")\n",
    "print(\"Accuracy   :\",metrics.accuracy_score(y_trainS, y_estimated2))\n",
    "print(\"Accuracy F1:\",metrics.f1_score(y_trainS, y_estimated2, average=None).mean())"
   ]
  },
  {
   "cell_type": "code",
   "execution_count": 239,
   "metadata": {},
   "outputs": [
    {
     "name": "stdout",
     "output_type": "stream",
     "text": [
      "{'C': 8, 'kernel': 'rbf'}\n",
      "Train \n",
      "Accuracy: 0.7969583048530418 \n",
      "F1: 0.8075537550320967\n",
      "Test \n",
      "Accuracy: 0.8334682860998651 \n",
      "F1: 0.833041958041958\n"
     ]
    }
   ],
   "source": [
    "paramsS = {'C': [6,7,8,9,10,11,12], \n",
    "          'kernel': ['linear','rbf']}\n",
    "grid_search = GridSearchCV(estimator = clf, param_grid=paramsS, scoring='accuracy', cv=4, \n",
    "                           return_train_score=True, iid=False)\n",
    "grid_search.fit(X_trainS, y_trainS)\n",
    "print(grid_search.best_params_)\n",
    "print(\"Train\",\"\\nAccuracy:\",\n",
    "      cross_val_score(grid_search,X_trainS,y_trainS,cv=5,scoring='accuracy').mean(),\n",
    "      \"\\nF1:\",metrics.f1_score(y_trainS, grid_search.predict(X_trainS), average='weighted').mean() )\n",
    "print(\"Test\",\"\\nAccuracy:\",\n",
    "      cross_val_score(grid_search,X_testS,y_testS,cv=5,scoring='accuracy').mean(),\n",
    "      \"\\nF1:\",metrics.f1_score(y_testS, grid_search.predict(X_testS), average='weighted').mean() )"
   ]
  },
  {
   "cell_type": "markdown",
   "metadata": {},
   "source": [
    "# KNN"
   ]
  },
  {
   "cell_type": "code",
   "execution_count": 240,
   "metadata": {},
   "outputs": [],
   "source": [
    "from sklearn.neighbors import KNeighborsClassifier"
   ]
  },
  {
   "cell_type": "code",
   "execution_count": 241,
   "metadata": {},
   "outputs": [],
   "source": [
    "X_trainKN, X_testKN, y_trainKN, y_testKN = train_test_split(X, y, test_size=1/5, shuffle=True, random_state=42)\n"
   ]
  },
  {
   "cell_type": "code",
   "execution_count": 242,
   "metadata": {},
   "outputs": [],
   "source": [
    "clf = KNeighborsClassifier()\n",
    "clf = clf.fit(X_trainKN,y_trainKN)\n",
    "y_pred = clf.predict(X_testKN)"
   ]
  },
  {
   "cell_type": "code",
   "execution_count": 243,
   "metadata": {},
   "outputs": [
    {
     "name": "stdout",
     "output_type": "stream",
     "text": [
      "Accuracy   : 0.7916666666666666\n",
      "Accuracy F1: 0.7898193760262726\n"
     ]
    }
   ],
   "source": [
    "print(\"Accuracy   :\",metrics.accuracy_score(y_testKN, y_pred))\n",
    "print(\"Accuracy F1:\",metrics.f1_score(y_testKN, y_pred, average='macro'))"
   ]
  },
  {
   "cell_type": "code",
   "execution_count": 244,
   "metadata": {},
   "outputs": [],
   "source": [
    "parameter_gridKN = {'n_neighbors': list(range(1,10)),\n",
    "                  'p': [1, 2, 3, 4.7]}"
   ]
  },
  {
   "cell_type": "code",
   "execution_count": 245,
   "metadata": {},
   "outputs": [
    {
     "name": "stdout",
     "output_type": "stream",
     "text": [
      "{'n_neighbors': 9, 'p': 1}\n"
     ]
    }
   ],
   "source": [
    "grid_search = GridSearchCV(estimator = KNeighborsClassifier(), param_grid=parameter_gridKN, scoring='accuracy', cv=5, \n",
    "                           return_train_score=True, iid=False)\n",
    "grid_search.fit(X_trainKN, y_trainKN)\n",
    "y_estimated=grid_search.predict(X_testKN)\n",
    "print(grid_search.best_params_)"
   ]
  },
  {
   "cell_type": "code",
   "execution_count": 246,
   "metadata": {},
   "outputs": [
    {
     "name": "stdout",
     "output_type": "stream",
     "text": [
      "Test\n",
      "Accuracy   : 0.8229166666666666\n",
      "Accuracy F1: 0.8219701101778119\n"
     ]
    }
   ],
   "source": [
    "print(\"Test\")\n",
    "print(\"Accuracy   :\",metrics.accuracy_score(y_testKN, y_estimated))\n",
    "print(\"Accuracy F1:\",metrics.f1_score(y_testKN, y_estimated, average=None).mean())"
   ]
  },
  {
   "cell_type": "code",
   "execution_count": 247,
   "metadata": {},
   "outputs": [
    {
     "name": "stdout",
     "output_type": "stream",
     "text": [
      "Train\n",
      "Accuracy   : 0.82421875\n",
      "Accuracy F1: 0.8238529117446683\n"
     ]
    }
   ],
   "source": [
    "y_estimated2 = grid_search.predict(X_trainKN)\n",
    "print(\"Train\")\n",
    "print(\"Accuracy   :\",metrics.accuracy_score(y_trainKN, y_estimated2))\n",
    "print(\"Accuracy F1:\",metrics.f1_score(y_trainKN, y_estimated2, average=None).mean())"
   ]
  },
  {
   "cell_type": "code",
   "execution_count": 248,
   "metadata": {},
   "outputs": [
    {
     "name": "stdout",
     "output_type": "stream",
     "text": [
      "{'n_neighbors': 7, 'p': 1}\n",
      "Train \n",
      "Accuracy: 0.7877819548872181 \n",
      "F1: 0.8308951184640523\n",
      "Test \n",
      "Accuracy: 0.8022941970310391 \n",
      "F1: 0.8174844428068452\n"
     ]
    }
   ],
   "source": [
    "parameterKN = {'n_neighbors': list(range(1,10)),\n",
    "                  'p': [1, 2, 3, 4.7]}\n",
    "grid_search = GridSearchCV(estimator = clf, param_grid=parameterKN, scoring='accuracy', cv=4, \n",
    "                           return_train_score=True, iid=False)\n",
    "grid_search.fit(X_trainKN, y_trainKN)\n",
    "\n",
    "print(grid_search.best_params_)\n",
    "print(\"Train\",\"\\nAccuracy:\",\n",
    "      cross_val_score(grid_search,X_trainKN,y_trainKN,cv=5,scoring='accuracy').mean(),\n",
    "      \"\\nF1:\",metrics.f1_score(y_trainKN, grid_search.predict(X_trainKN), average='weighted').mean() )\n",
    "print(\"Test\",\"\\nAccuracy:\",\n",
    "      cross_val_score(grid_search,X_testKN,y_testKN,cv=5,scoring='accuracy').mean(),\n",
    "      \"\\nF1:\",metrics.f1_score(y_testKN, grid_search.predict(X_testKN), average='weighted').mean() )"
   ]
  },
  {
   "cell_type": "markdown",
   "metadata": {},
   "source": [
    "# Gaussian Naive bayes\n"
   ]
  },
  {
   "cell_type": "code",
   "execution_count": 249,
   "metadata": {},
   "outputs": [],
   "source": [
    "from sklearn.naive_bayes import GaussianNB"
   ]
  },
  {
   "cell_type": "code",
   "execution_count": 250,
   "metadata": {},
   "outputs": [],
   "source": [
    "X_trainGNB, X_testGNB, y_trainGNB, y_testGNB = train_test_split(X, y, test_size=1/5, shuffle=True, random_state=42)"
   ]
  },
  {
   "cell_type": "code",
   "execution_count": 251,
   "metadata": {},
   "outputs": [],
   "source": [
    "clf = GaussianNB()\n",
    "clf.fit(X_trainGNB, y_trainGNB)\n",
    "y_pred = clf.predict(X_testGNB)"
   ]
  },
  {
   "cell_type": "code",
   "execution_count": 252,
   "metadata": {},
   "outputs": [
    {
     "name": "stdout",
     "output_type": "stream",
     "text": [
      "Accuracy   : 0.8333333333333334\n",
      "Accuracy F1: 0.8306878306878307\n"
     ]
    }
   ],
   "source": [
    "print(\"Accuracy   :\",metrics.accuracy_score(y_testGNB, y_pred))\n",
    "print(\"Accuracy F1:\",metrics.f1_score(y_testGNB, y_pred, average='macro'))"
   ]
  },
  {
   "cell_type": "code",
   "execution_count": 253,
   "metadata": {},
   "outputs": [],
   "source": [
    "paramsGNB = {}"
   ]
  },
  {
   "cell_type": "code",
   "execution_count": 254,
   "metadata": {},
   "outputs": [
    {
     "name": "stdout",
     "output_type": "stream",
     "text": [
      "{}\n"
     ]
    }
   ],
   "source": [
    "grid_search = GridSearchCV(estimator = GaussianNB(), param_grid=paramsGNB, scoring='accuracy', cv=5, \n",
    "                           return_train_score=True, iid=False)\n",
    "grid_search.fit(X_trainGNB, y_trainGNB)\n",
    "y_estimated=grid_search.predict(X_testGNB)\n",
    "print(grid_search.best_params_)"
   ]
  },
  {
   "cell_type": "code",
   "execution_count": 255,
   "metadata": {},
   "outputs": [
    {
     "name": "stdout",
     "output_type": "stream",
     "text": [
      "Test\n",
      "Accuracy   : 0.8333333333333334\n",
      "Accuracy F1: 0.8306878306878307\n"
     ]
    }
   ],
   "source": [
    "print(\"Test\")\n",
    "print(\"Accuracy   :\",metrics.accuracy_score(y_testGNB, y_estimated))\n",
    "print(\"Accuracy F1:\",metrics.f1_score(y_testGNB, y_estimated, average=None).mean())"
   ]
  },
  {
   "cell_type": "code",
   "execution_count": 256,
   "metadata": {},
   "outputs": [
    {
     "name": "stdout",
     "output_type": "stream",
     "text": [
      "Train\n",
      "Accuracy   : 0.7942708333333334\n",
      "Accuracy F1: 0.7934640522875818\n"
     ]
    }
   ],
   "source": [
    "y_estimated2 = grid_search.predict(X_trainGNB)\n",
    "print(\"Train\")\n",
    "print(\"Accuracy   :\",metrics.accuracy_score(y_trainGNB, y_estimated2))\n",
    "print(\"Accuracy F1:\",metrics.f1_score(y_trainGNB, y_estimated2, average=None).mean())"
   ]
  },
  {
   "cell_type": "code",
   "execution_count": 257,
   "metadata": {},
   "outputs": [
    {
     "name": "stdout",
     "output_type": "stream",
     "text": [
      "{}\n",
      "Train \n",
      "Accuracy: 0.799572795625427 \n",
      "F1: 0.7944725285947714\n",
      "Test \n",
      "Accuracy: 0.8128205128205128 \n",
      "F1: 0.832010582010582\n"
     ]
    }
   ],
   "source": [
    "parameterGNB = {}\n",
    "grid_search = GridSearchCV(estimator = clf, param_grid=parameterGNB, scoring='accuracy', cv=4, \n",
    "                           return_train_score=True, iid=False)\n",
    "grid_search.fit(X_trainGNB, y_trainGNB)\n",
    "\n",
    "print(grid_search.best_params_)\n",
    "print(\"Train\",\"\\nAccuracy:\",\n",
    "      cross_val_score(grid_search,X_trainGNB,y_trainGNB,cv=5,scoring='accuracy').mean(),\n",
    "      \"\\nF1:\",metrics.f1_score(y_trainGNB, grid_search.predict(X_trainGNB), average='weighted').mean() )\n",
    "print(\"Test\",\"\\nAccuracy:\",\n",
    "      cross_val_score(grid_search,X_testGNB,y_testGNB,cv=5,scoring='accuracy').mean(),\n",
    "      \"\\nF1:\",metrics.f1_score(y_testGNB, grid_search.predict(X_testGNB), average='weighted').mean() )"
   ]
  },
  {
   "cell_type": "code",
   "execution_count": 258,
   "metadata": {},
   "outputs": [
    {
     "data": {
      "text/plain": [
       "0.7992481203007517"
      ]
     },
     "execution_count": 258,
     "metadata": {},
     "output_type": "execute_result"
    }
   ],
   "source": [
    "def cross_val(params):\n",
    "    model = GaussianNB()\n",
    "    model.set_params(**params)\n",
    "    cv_results = cross_val_score(model, X_trainGNB, y_trainGNB,\n",
    "                             cv = 5, \n",
    "                             scoring = \"accuracy\",\n",
    "                             \n",
    "                            )\n",
    "    return cv_results.mean()\n",
    "\n",
    "params = {\n",
    "          \"var_smoothing\" : 1e-9\n",
    "}\n",
    "steps = [1e-8, 1e-7, 1e-6, 1e-5]\n",
    "\n",
    "# #will contain the cv results\n",
    "results = []\n",
    "for step in steps:        \n",
    "    params[\"var_smoothing\"] = step        \n",
    "    cv_result = cross_val(params)\n",
    "\n",
    "    #save result\n",
    "    results=np.append(results,cv_result)\n",
    "results.mean()\n"
   ]
  },
  {
   "cell_type": "code",
   "execution_count": null,
   "metadata": {},
   "outputs": [],
   "source": []
  }
 ],
 "metadata": {
  "kernelspec": {
   "display_name": "Python 3",
   "language": "python",
   "name": "python3"
  },
  "language_info": {
   "codemirror_mode": {
    "name": "ipython",
    "version": 3
   },
   "file_extension": ".py",
   "mimetype": "text/x-python",
   "name": "python",
   "nbconvert_exporter": "python",
   "pygments_lexer": "ipython3",
   "version": "3.7.4"
  }
 },
 "nbformat": 4,
 "nbformat_minor": 2
}
