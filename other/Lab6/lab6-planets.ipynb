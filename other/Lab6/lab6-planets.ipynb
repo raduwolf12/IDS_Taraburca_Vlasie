{
 "cells": [
  {
   "cell_type": "code",
   "execution_count": 15,
   "metadata": {},
   "outputs": [],
   "source": [
    "import pandas as pd\n",
    "import numpy as np\n",
    "from sklearn.model_selection import train_test_split\n",
    "from sklearn.neighbors import KNeighborsClassifier\n",
    "from sklearn.model_selection import GridSearchCV\n",
    "from sklearn.metrics import accuracy_score\n",
    "from sklearn.model_selection import cross_val_score\n",
    "from sklearn.model_selection import RandomizedSearchCV\n",
    "from numpy import array\n",
    "from sklearn.model_selection import KFold\n",
    "from sklearn.tree import DecisionTreeClassifier\n",
    "import sklearn\n",
    "from sklearn.metrics import f1_score"
   ]
  },
  {
   "cell_type": "code",
   "execution_count": 7,
   "metadata": {},
   "outputs": [],
   "source": [
    "import seaborn as sns\n",
    "planets = sns.load_dataset('planets')\n",
    "planets=planets.dropna()\n",
    "planets=planets.drop(columns=[\"method\"])\n",
    "#planets"
   ]
  },
  {
   "cell_type": "code",
   "execution_count": 8,
   "metadata": {},
   "outputs": [
    {
     "name": "stdout",
     "output_type": "stream",
     "text": [
      "(498, 4)\n",
      "(498,)\n",
      "(100,)\n",
      "(398,)\n"
     ]
    }
   ],
   "source": [
    "from sklearn.preprocessing import MinMaxScaler\n",
    "x=planets.values[:,1:]\n",
    "scaler = MinMaxScaler()\n",
    "scaler.fit(x)\n",
    "x = scaler.transform(x)\n",
    "print(x.shape)\n",
    "y=planets.values[:, 0]\n",
    "print(y.shape)\n",
    "X_train, X_test, y_train, y_test = train_test_split(x, y, test_size=1/5, shuffle=True, random_state=42)\n",
    "print(y_test.shape)\n",
    "print(y_train.shape)"
   ]
  },
  {
   "cell_type": "code",
   "execution_count": 13,
   "metadata": {},
   "outputs": [
    {
     "data": {
      "text/plain": [
       "array([3., 4., 1., 1., 1., 2., 1., 1., 1., 2., 1., 1., 1., 6., 1., 1., 2.,\n",
       "       1., 1., 3., 2., 1., 1., 1., 6., 1., 1., 1., 1., 3., 3., 4., 2., 1.,\n",
       "       1., 2., 1., 3., 2., 1., 1., 2., 1., 1., 1., 1., 1., 1., 2., 1., 2.,\n",
       "       1., 1., 6., 5., 1., 1., 1., 2., 2., 1., 4., 1., 1., 2., 1., 2., 3.,\n",
       "       1., 1., 3., 2., 1., 3., 1., 2., 1., 1., 2., 2., 1., 3., 2., 1., 1.,\n",
       "       2., 3., 2., 2., 1., 1., 1., 4., 1., 1., 1., 2., 5., 1., 1.])"
      ]
     },
     "execution_count": 13,
     "metadata": {},
     "output_type": "execute_result"
    }
   ],
   "source": [
    "planets[0:5]\n",
    "y_test"
   ]
  },
  {
   "cell_type": "markdown",
   "metadata": {},
   "source": [
    "KNN"
   ]
  },
  {
   "cell_type": "code",
   "execution_count": 26,
   "metadata": {},
   "outputs": [
    {
     "name": "stderr",
     "output_type": "stream",
     "text": [
      "C:\\Users\\Mioara\\Anaconda3\\lib\\site-packages\\sklearn\\model_selection\\_split.py:652: Warning: The least populated class in y has only 2 members, which is too few. The minimum number of members in any class cannot be less than n_splits=5.\n",
      "  % (min_groups, self.n_splits)), Warning)\n"
     ]
    },
    {
     "name": "stdout",
     "output_type": "stream",
     "text": [
      "[0.79699248 0.45714286 0.42857143 0.28571429 0.         0.66666667]\n",
      "0.68\n",
      "{'n_neighbors': 2, 'p': 1}\n"
     ]
    },
    {
     "name": "stderr",
     "output_type": "stream",
     "text": [
      "C:\\Users\\Mioara\\Anaconda3\\lib\\site-packages\\sklearn\\metrics\\classification.py:1143: UndefinedMetricWarning: F-score is ill-defined and being set to 0.0 in labels with no predicted samples.\n",
      "  'precision', 'predicted', average, warn_for)\n"
     ]
    }
   ],
   "source": [
    "parameter_grid = {'n_neighbors': list(range(1,10)), 'p': [1, 2, 3, 4.7]}\n",
    "X_train, X_test, y_train, y_test = train_test_split(x, y, test_size=1/5, shuffle=True, random_state=42)\n",
    "grid_search = GridSearchCV(estimator = KNeighborsClassifier(), param_grid=parameter_grid, scoring='accuracy', cv=5, \n",
    "                           return_train_score=True, iid=False)\n",
    "grid_search.fit(X_train, y_train)\n",
    "y_estimated = grid_search.predict(X_test)\n",
    "print(f1_score(y_test, y_estimated, average=None))\n",
    "print(accuracy_score(y_test, y_estimated))\n",
    "print(grid_search.best_params_)"
   ]
  },
  {
   "cell_type": "code",
   "execution_count": 16,
   "metadata": {},
   "outputs": [
    {
     "name": "stdout",
     "output_type": "stream",
     "text": [
      "[0.88555347 0.66666667 0.6875     0.66666667 0.         0.96551724]\n",
      "0.8241206030150754\n"
     ]
    },
    {
     "name": "stderr",
     "output_type": "stream",
     "text": [
      "C:\\Users\\Mioara\\Anaconda3\\lib\\site-packages\\sklearn\\metrics\\classification.py:1143: UndefinedMetricWarning: F-score is ill-defined and being set to 0.0 in labels with no predicted samples.\n",
      "  'precision', 'predicted', average, warn_for)\n"
     ]
    }
   ],
   "source": [
    "y_estimated2 = grid_search.predict(X_train)\n",
    "print(f1_score(y_train, y_estimated2, average=None))\n",
    "print(accuracy_score(y_train, y_estimated2))"
   ]
  },
  {
   "cell_type": "code",
   "execution_count": 27,
   "metadata": {},
   "outputs": [
    {
     "name": "stderr",
     "output_type": "stream",
     "text": [
      "C:\\Users\\Mioara\\Anaconda3\\lib\\site-packages\\sklearn\\model_selection\\_search.py:271: UserWarning: The total space of parameters 36 is smaller than n_iter=100. Running 36 iterations. For exhaustive searches, use GridSearchCV.\n",
      "  % (grid_size, self.n_iter, grid_size), UserWarning)\n",
      "C:\\Users\\Mioara\\Anaconda3\\lib\\site-packages\\sklearn\\model_selection\\_split.py:652: Warning: The least populated class in y has only 2 members, which is too few. The minimum number of members in any class cannot be less than n_splits=5.\n",
      "  % (min_groups, self.n_splits)), Warning)\n"
     ]
    },
    {
     "name": "stdout",
     "output_type": "stream",
     "text": [
      "{'p': 1, 'n_neighbors': 2}\n",
      "0.68\n",
      "[0.79699248 0.45714286 0.42857143 0.28571429 0.         0.66666667]\n"
     ]
    },
    {
     "name": "stderr",
     "output_type": "stream",
     "text": [
      "C:\\Users\\Mioara\\Anaconda3\\lib\\site-packages\\sklearn\\model_selection\\_search.py:841: DeprecationWarning: The default of the `iid` parameter will change from True to False in version 0.22 and will be removed in 0.24. This will change numeric results when test-set sizes are unequal.\n",
      "  DeprecationWarning)\n",
      "C:\\Users\\Mioara\\Anaconda3\\lib\\site-packages\\sklearn\\metrics\\classification.py:1143: UndefinedMetricWarning: F-score is ill-defined and being set to 0.0 in labels with no predicted samples.\n",
      "  'precision', 'predicted', average, warn_for)\n"
     ]
    }
   ],
   "source": [
    "X_trainR, X_testR, y_trainR, y_testR = train_test_split(x, y, test_size=1/5,shuffle=True, random_state=42)\n",
    "gs_random = RandomizedSearchCV(estimator=KNeighborsClassifier(), param_distributions=parameter_grid, cv= 5,n_iter=100)\n",
    "gs_random.fit(X_trainR, y_trainR)\n",
    "print (gs_random.best_params_)\n",
    "y_estimated = grid_search.predict(X_testR)\n",
    "print(accuracy_score(y_testR, y_estimated))\n",
    "print(f1_score(y_test, y_estimated, average=None))"
   ]
  },
  {
   "cell_type": "code",
   "execution_count": 18,
   "metadata": {},
   "outputs": [
    {
     "name": "stdout",
     "output_type": "stream",
     "text": [
      "0.8241206030150754\n",
      "[0.88555347 0.66666667 0.6875     0.66666667 0.         0.96551724]\n"
     ]
    },
    {
     "name": "stderr",
     "output_type": "stream",
     "text": [
      "C:\\Users\\Mioara\\Anaconda3\\lib\\site-packages\\sklearn\\metrics\\classification.py:1143: UndefinedMetricWarning: F-score is ill-defined and being set to 0.0 in labels with no predicted samples.\n",
      "  'precision', 'predicted', average, warn_for)\n"
     ]
    }
   ],
   "source": [
    "y_estimated2 = gs_random.predict(X_trainR)\n",
    "print(accuracy_score(y_trainR, y_estimated2))\n",
    "print(f1_score(y_trainR, y_estimated2, average=None))"
   ]
  },
  {
   "cell_type": "markdown",
   "metadata": {},
   "source": [
    "DecisionTree"
   ]
  },
  {
   "cell_type": "code",
   "execution_count": 28,
   "metadata": {},
   "outputs": [
    {
     "name": "stderr",
     "output_type": "stream",
     "text": [
      "C:\\Users\\Mioara\\Anaconda3\\lib\\site-packages\\sklearn\\model_selection\\_split.py:652: Warning: The least populated class in y has only 2 members, which is too few. The minimum number of members in any class cannot be less than n_splits=5.\n",
      "  % (min_groups, self.n_splits)), Warning)\n"
     ]
    },
    {
     "name": "stdout",
     "output_type": "stream",
     "text": [
      "0.63\n",
      "{'max_features': 'log2', 'min_samples_leaf': 9, 'min_samples_split': 7}\n",
      "[0.76923077 0.46153846 0.         0.44444444 0.         0.66666667]\n"
     ]
    },
    {
     "name": "stderr",
     "output_type": "stream",
     "text": [
      "C:\\Users\\Mioara\\Anaconda3\\lib\\site-packages\\sklearn\\metrics\\classification.py:1143: UndefinedMetricWarning: F-score is ill-defined and being set to 0.0 in labels with no predicted samples.\n",
      "  'precision', 'predicted', average, warn_for)\n"
     ]
    }
   ],
   "source": [
    "X_trainT, X_testT, y_trainT, y_testT = train_test_split(x, y, test_size=1/5,shuffle=True, random_state=42)\n",
    "params = {'max_features': ['auto', 'sqrt', 'log2'],\n",
    "          'min_samples_split':list(range(2,15)), \n",
    "          'min_samples_leaf':list(range(2,11)),\n",
    "         }\n",
    "grid_search = GridSearchCV(estimator = DecisionTreeClassifier(), param_grid=params, scoring='accuracy', cv=5, \n",
    "                           return_train_score=True, iid=False)\n",
    "grid_search.fit(X_trainT, y_trainT)\n",
    "y_estimated = grid_search.predict(X_testT)\n",
    "print(accuracy_score(y_testT, y_estimated))\n",
    "print(grid_search.best_params_)\n",
    "print(f1_score(y_testT, y_estimated, average=None))"
   ]
  },
  {
   "cell_type": "code",
   "execution_count": 20,
   "metadata": {},
   "outputs": [
    {
     "name": "stdout",
     "output_type": "stream",
     "text": [
      "0.7160804020100503\n",
      "[0.82352941 0.54857143 0.33333333 0.69565217 0.         0.625     ]\n"
     ]
    },
    {
     "name": "stderr",
     "output_type": "stream",
     "text": [
      "C:\\Users\\Mioara\\Anaconda3\\lib\\site-packages\\sklearn\\metrics\\classification.py:1143: UndefinedMetricWarning: F-score is ill-defined and being set to 0.0 in labels with no predicted samples.\n",
      "  'precision', 'predicted', average, warn_for)\n"
     ]
    }
   ],
   "source": [
    "y_estimated2 = grid_search.predict(X_trainT)\n",
    "print(accuracy_score(y_trainT, y_estimated2))\n",
    "print(f1_score(y_trainT, y_estimated2, average=None))"
   ]
  },
  {
   "cell_type": "code",
   "execution_count": 29,
   "metadata": {},
   "outputs": [
    {
     "name": "stderr",
     "output_type": "stream",
     "text": [
      "C:\\Users\\Mioara\\Anaconda3\\lib\\site-packages\\sklearn\\model_selection\\_split.py:652: Warning: The least populated class in y has only 2 members, which is too few. The minimum number of members in any class cannot be less than n_splits=5.\n",
      "  % (min_groups, self.n_splits)), Warning)\n"
     ]
    },
    {
     "name": "stdout",
     "output_type": "stream",
     "text": [
      "{'min_samples_split': 3, 'min_samples_leaf': 10, 'max_features': 'sqrt'}\n",
      "0.56\n",
      "{'max_features': 'log2', 'min_samples_leaf': 9, 'min_samples_split': 7}\n",
      "[0.73170732 0.28571429 0.38461538 0.         0.         0.        ]\n"
     ]
    },
    {
     "name": "stderr",
     "output_type": "stream",
     "text": [
      "C:\\Users\\Mioara\\Anaconda3\\lib\\site-packages\\sklearn\\model_selection\\_search.py:841: DeprecationWarning: The default of the `iid` parameter will change from True to False in version 0.22 and will be removed in 0.24. This will change numeric results when test-set sizes are unequal.\n",
      "  DeprecationWarning)\n",
      "C:\\Users\\Mioara\\Anaconda3\\lib\\site-packages\\sklearn\\metrics\\classification.py:1143: UndefinedMetricWarning: F-score is ill-defined and being set to 0.0 in labels with no predicted samples.\n",
      "  'precision', 'predicted', average, warn_for)\n"
     ]
    }
   ],
   "source": [
    "gs_random = RandomizedSearchCV(estimator=DecisionTreeClassifier(), param_distributions=params, cv= 5,n_iter=100)\n",
    "gs_random.fit(X_trainT, y_trainT)\n",
    "print (gs_random.best_params_)\n",
    "y_estimated = gs_random.predict(X_testT)\n",
    "print(accuracy_score(y_testT, y_estimated))\n",
    "print(grid_search.best_params_)\n",
    "print(f1_score(y_testT, y_estimated, average=None))"
   ]
  },
  {
   "cell_type": "code",
   "execution_count": 22,
   "metadata": {},
   "outputs": [
    {
     "name": "stdout",
     "output_type": "stream",
     "text": [
      "0.6909547738693468\n",
      "[0.816      0.58695652 0.2295082  0.42105263 0.         0.4       ]\n"
     ]
    },
    {
     "name": "stderr",
     "output_type": "stream",
     "text": [
      "C:\\Users\\Mioara\\Anaconda3\\lib\\site-packages\\sklearn\\metrics\\classification.py:1143: UndefinedMetricWarning: F-score is ill-defined and being set to 0.0 in labels with no predicted samples.\n",
      "  'precision', 'predicted', average, warn_for)\n"
     ]
    }
   ],
   "source": [
    "y_estimated2 = gs_random.predict(X_trainT)\n",
    "print(accuracy_score(y_trainT, y_estimated2))\n",
    "print(f1_score(y_trainT, y_estimated2, average=None))"
   ]
  },
  {
   "cell_type": "markdown",
   "metadata": {},
   "source": [
    "Random forest"
   ]
  },
  {
   "cell_type": "code",
   "execution_count": 30,
   "metadata": {},
   "outputs": [
    {
     "name": "stderr",
     "output_type": "stream",
     "text": [
      "C:\\Users\\Mioara\\Anaconda3\\lib\\site-packages\\sklearn\\model_selection\\_split.py:652: Warning: The least populated class in y has only 2 members, which is too few. The minimum number of members in any class cannot be less than n_splits=5.\n",
      "  % (min_groups, self.n_splits)), Warning)\n"
     ]
    },
    {
     "name": "stdout",
     "output_type": "stream",
     "text": [
      "0.66\n",
      "{'criterion': 'entropy', 'min_samples_leaf': 1, 'min_samples_split': 4, 'n_estimators': 15}\n",
      "[0.78461538 0.42424242 0.28571429 0.57142857 0.         0.85714286]\n"
     ]
    },
    {
     "name": "stderr",
     "output_type": "stream",
     "text": [
      "C:\\Users\\Mioara\\Anaconda3\\lib\\site-packages\\sklearn\\metrics\\classification.py:1143: UndefinedMetricWarning: F-score is ill-defined and being set to 0.0 in labels with no predicted samples.\n",
      "  'precision', 'predicted', average, warn_for)\n"
     ]
    }
   ],
   "source": [
    "from sklearn.ensemble import RandomForestClassifier\n",
    "\n",
    "paramsF = {'criterion':['gini','entropy'],\n",
    "          'n_estimators':[10,15,20,25,30],\n",
    "          'min_samples_leaf':[1,2,3],\n",
    "          'min_samples_split':[3,4,5,6,7]}\n",
    "X_trainF, X_testF, y_trainF, y_testF = train_test_split(x, y, test_size=1/5,shuffle=True, random_state=42)\n",
    "grid_search = GridSearchCV(estimator = RandomForestClassifier(), param_grid=paramsF, scoring='accuracy', cv=5, \n",
    "                           return_train_score=True, iid=False)\n",
    "grid_search.fit(X_trainF, y_trainF)\n",
    "y_estimated = grid_search.predict(X_testF)\n",
    "print(accuracy_score(y_testF, y_estimated))\n",
    "print(grid_search.best_params_)\n",
    "print(f1_score(y_testF, y_estimated, average=None))"
   ]
  },
  {
   "cell_type": "code",
   "execution_count": 31,
   "metadata": {},
   "outputs": [
    {
     "name": "stderr",
     "output_type": "stream",
     "text": [
      "C:\\Users\\Mioara\\Anaconda3\\lib\\site-packages\\sklearn\\model_selection\\_split.py:652: Warning: The least populated class in y has only 2 members, which is too few. The minimum number of members in any class cannot be less than n_splits=5.\n",
      "  % (min_groups, self.n_splits)), Warning)\n"
     ]
    },
    {
     "name": "stdout",
     "output_type": "stream",
     "text": [
      "{'n_estimators': 20, 'min_samples_split': 6, 'min_samples_leaf': 2, 'criterion': 'entropy'}\n",
      "0.68\n",
      "[0.80620155 0.5        0.23529412 0.4        0.         0.85714286]\n"
     ]
    },
    {
     "name": "stderr",
     "output_type": "stream",
     "text": [
      "C:\\Users\\Mioara\\Anaconda3\\lib\\site-packages\\sklearn\\model_selection\\_search.py:841: DeprecationWarning: The default of the `iid` parameter will change from True to False in version 0.22 and will be removed in 0.24. This will change numeric results when test-set sizes are unequal.\n",
      "  DeprecationWarning)\n",
      "C:\\Users\\Mioara\\Anaconda3\\lib\\site-packages\\sklearn\\metrics\\classification.py:1143: UndefinedMetricWarning: F-score is ill-defined and being set to 0.0 in labels with no predicted samples.\n",
      "  'precision', 'predicted', average, warn_for)\n"
     ]
    }
   ],
   "source": [
    "gs_randomF = RandomizedSearchCV(estimator=RandomForestClassifier(), param_distributions=paramsF, cv= 5,n_iter=100)\n",
    "gs_randomF.fit(X_trainF, y_trainF)\n",
    "print (gs_randomF.best_params_)\n",
    "y_estimatedF = gs_randomF.predict(X_testF)\n",
    "print(accuracy_score(y_testF, y_estimatedF))\n",
    "print(f1_score(y_testF, y_estimatedF, average=None))"
   ]
  },
  {
   "cell_type": "code",
   "execution_count": 25,
   "metadata": {},
   "outputs": [
    {
     "name": "stdout",
     "output_type": "stream",
     "text": [
      "0.9824120603015075\n",
      "{'criterion': 'entropy', 'min_samples_leaf': 1, 'min_samples_split': 4, 'n_estimators': 25}\n",
      "[0.98538622 0.96703297 0.98795181 1.         1.         1.        ]\n"
     ]
    }
   ],
   "source": [
    "y_estimated = grid_search.predict(X_trainF)\n",
    "print(accuracy_score(y_trainF, y_estimated))\n",
    "print(grid_search.best_params_)\n",
    "print(f1_score(y_trainF, y_estimated, average=None))"
   ]
  },
  {
   "cell_type": "markdown",
   "metadata": {},
   "source": [
    "SVM"
   ]
  },
  {
   "cell_type": "code",
   "execution_count": 32,
   "metadata": {},
   "outputs": [
    {
     "name": "stderr",
     "output_type": "stream",
     "text": [
      "C:\\Users\\Mioara\\Anaconda3\\lib\\site-packages\\sklearn\\model_selection\\_split.py:652: Warning: The least populated class in y has only 2 members, which is too few. The minimum number of members in any class cannot be less than n_splits=5.\n",
      "  % (min_groups, self.n_splits)), Warning)\n"
     ]
    },
    {
     "name": "stdout",
     "output_type": "stream",
     "text": [
      "0.58\n",
      "{'C': 6, 'kernel': 'linear'}\n",
      "[0.73417722 0.         0.         0.         0.         0.        ]\n"
     ]
    },
    {
     "name": "stderr",
     "output_type": "stream",
     "text": [
      "C:\\Users\\Mioara\\Anaconda3\\lib\\site-packages\\sklearn\\metrics\\classification.py:1143: UndefinedMetricWarning: F-score is ill-defined and being set to 0.0 in labels with no predicted samples.\n",
      "  'precision', 'predicted', average, warn_for)\n"
     ]
    }
   ],
   "source": [
    "from sklearn import svm\n",
    "paramsS = {'C': [6,7,8,9,10,11,12], \n",
    "          'kernel': ['linear','rbf']}\n",
    "X_trainS, X_testS, y_trainS, y_testS = train_test_split(x, y, test_size=1/5,shuffle=True, random_state=42)\n",
    "grid_searchS = GridSearchCV(estimator = svm.SVC(gamma='auto'), param_grid=paramsS, scoring='accuracy', cv=5, \n",
    "                           return_train_score=True, iid=False)\n",
    "grid_searchS.fit(X_trainS, y_trainS)\n",
    "y_estimatedS = grid_searchS.predict(X_testS)\n",
    "print(accuracy_score(y_testS, y_estimatedS))\n",
    "print(grid_searchS.best_params_)\n",
    "print(f1_score(y_testS, y_estimatedS, average=None))"
   ]
  },
  {
   "cell_type": "code",
   "execution_count": 33,
   "metadata": {},
   "outputs": [
    {
     "name": "stderr",
     "output_type": "stream",
     "text": [
      "C:\\Users\\Mioara\\Anaconda3\\lib\\site-packages\\sklearn\\model_selection\\_search.py:271: UserWarning: The total space of parameters 14 is smaller than n_iter=100. Running 14 iterations. For exhaustive searches, use GridSearchCV.\n",
      "  % (grid_size, self.n_iter, grid_size), UserWarning)\n",
      "C:\\Users\\Mioara\\Anaconda3\\lib\\site-packages\\sklearn\\model_selection\\_split.py:652: Warning: The least populated class in y has only 2 members, which is too few. The minimum number of members in any class cannot be less than n_splits=5.\n",
      "  % (min_groups, self.n_splits)), Warning)\n"
     ]
    },
    {
     "name": "stdout",
     "output_type": "stream",
     "text": [
      "{'kernel': 'linear', 'C': 6}\n",
      "0.58\n",
      "[0.73417722 0.         0.         0.         0.         0.        ]\n"
     ]
    },
    {
     "name": "stderr",
     "output_type": "stream",
     "text": [
      "C:\\Users\\Mioara\\Anaconda3\\lib\\site-packages\\sklearn\\model_selection\\_search.py:841: DeprecationWarning: The default of the `iid` parameter will change from True to False in version 0.22 and will be removed in 0.24. This will change numeric results when test-set sizes are unequal.\n",
      "  DeprecationWarning)\n",
      "C:\\Users\\Mioara\\Anaconda3\\lib\\site-packages\\sklearn\\metrics\\classification.py:1143: UndefinedMetricWarning: F-score is ill-defined and being set to 0.0 in labels with no predicted samples.\n",
      "  'precision', 'predicted', average, warn_for)\n"
     ]
    }
   ],
   "source": [
    "gs_randomS = RandomizedSearchCV(estimator=svm.SVC(gamma='auto'), param_distributions=paramsS, cv= 5,n_iter=100)\n",
    "gs_randomS.fit(X_trainS, y_trainS)\n",
    "print (gs_randomS.best_params_)\n",
    "y_estimatedS = gs_randomS.predict(X_testS)\n",
    "print(accuracy_score(y_testS, y_estimatedS))\n",
    "print(f1_score(y_testS, y_estimatedS, average=None))"
   ]
  },
  {
   "cell_type": "markdown",
   "metadata": {},
   "source": [
    "Multi-layer Perceptron classifier"
   ]
  },
  {
   "cell_type": "code",
   "execution_count": 35,
   "metadata": {},
   "outputs": [
    {
     "name": "stderr",
     "output_type": "stream",
     "text": [
      "C:\\Users\\Mioara\\Anaconda3\\lib\\site-packages\\sklearn\\model_selection\\_split.py:652: Warning: The least populated class in y has only 2 members, which is too few. The minimum number of members in any class cannot be less than n_splits=5.\n",
      "  % (min_groups, self.n_splits)), Warning)\n"
     ]
    },
    {
     "name": "stdout",
     "output_type": "stream",
     "text": [
      "0.63\n",
      "{'activation': 'relu', 'alpha': 0.001, 'solver': 'adam'}\n",
      "[0.78461538 0.35       0.25       0.28571429 0.         0.8       ]\n"
     ]
    },
    {
     "name": "stderr",
     "output_type": "stream",
     "text": [
      "C:\\Users\\Mioara\\Anaconda3\\lib\\site-packages\\sklearn\\metrics\\classification.py:1143: UndefinedMetricWarning: F-score is ill-defined and being set to 0.0 in labels with no predicted samples.\n",
      "  'precision', 'predicted', average, warn_for)\n"
     ]
    }
   ],
   "source": [
    "from sklearn.neural_network import MLPClassifier\n",
    "paramsM = {'activation' : ['identity', 'logistic', 'tanh', 'relu'], \n",
    "          'solver' : ['lbfgs', 'sgd', 'adam'],\n",
    "          'alpha':[0.1, 0.001, 0.0001]}\n",
    "X_trainM, X_testM, y_trainM, y_testM = train_test_split(x, y, test_size=1/5,shuffle=True, random_state=42)\n",
    "grid_searchM = GridSearchCV(estimator = MLPClassifier(max_iter=10000), param_grid=paramsM, scoring='accuracy', cv=5, \n",
    "                           return_train_score=True, iid=False, n_jobs=-1)\n",
    "grid_searchM.fit(X_trainM, y_trainM)\n",
    "y_estimatedM = grid_searchM.predict(X_testM)\n",
    "print(accuracy_score(y_testM, y_estimatedM))\n",
    "print(grid_searchM.best_params_)\n",
    "print(f1_score(y_testM, y_estimatedM, average=None))"
   ]
  },
  {
   "cell_type": "code",
   "execution_count": 37,
   "metadata": {},
   "outputs": [
    {
     "name": "stderr",
     "output_type": "stream",
     "text": [
      "C:\\Users\\Mioara\\Anaconda3\\lib\\site-packages\\sklearn\\model_selection\\_search.py:271: UserWarning: The total space of parameters 36 is smaller than n_iter=100. Running 36 iterations. For exhaustive searches, use GridSearchCV.\n",
      "  % (grid_size, self.n_iter, grid_size), UserWarning)\n",
      "C:\\Users\\Mioara\\Anaconda3\\lib\\site-packages\\sklearn\\model_selection\\_split.py:652: Warning: The least populated class in y has only 2 members, which is too few. The minimum number of members in any class cannot be less than n_splits=5.\n",
      "  % (min_groups, self.n_splits)), Warning)\n",
      "C:\\Users\\Mioara\\Anaconda3\\lib\\site-packages\\sklearn\\model_selection\\_search.py:841: DeprecationWarning: The default of the `iid` parameter will change from True to False in version 0.22 and will be removed in 0.24. This will change numeric results when test-set sizes are unequal.\n",
      "  DeprecationWarning)\n"
     ]
    },
    {
     "name": "stdout",
     "output_type": "stream",
     "text": [
      "{'solver': 'adam', 'alpha': 0.001, 'activation': 'relu'}\n",
      "0.61\n",
      "[0.77862595 0.31578947 0.125      0.28571429 0.         0.66666667]\n"
     ]
    },
    {
     "name": "stderr",
     "output_type": "stream",
     "text": [
      "C:\\Users\\Mioara\\Anaconda3\\lib\\site-packages\\sklearn\\metrics\\classification.py:1143: UndefinedMetricWarning: F-score is ill-defined and being set to 0.0 in labels with no predicted samples.\n",
      "  'precision', 'predicted', average, warn_for)\n"
     ]
    }
   ],
   "source": [
    "gs_randomM = RandomizedSearchCV(estimator=MLPClassifier(max_iter=10000), param_distributions=paramsM, cv= 5,n_iter=100)\n",
    "gs_randomM.fit(X_trainM, y_trainM)\n",
    "print (gs_randomM.best_params_)\n",
    "y_estimatedM = gs_randomM.predict(X_testM)\n",
    "print(accuracy_score(y_testM, y_estimatedM))\n",
    "print(f1_score(y_testM, y_estimatedM, average=None))"
   ]
  },
  {
   "cell_type": "code",
   "execution_count": 38,
   "metadata": {},
   "outputs": [
    {
     "name": "stdout",
     "output_type": "stream",
     "text": [
      "0.6708542713567839\n",
      "[0.80073126 0.41891892 0.35483871 0.26666667 0.         0.36363636]\n"
     ]
    },
    {
     "name": "stderr",
     "output_type": "stream",
     "text": [
      "C:\\Users\\Mioara\\Anaconda3\\lib\\site-packages\\sklearn\\metrics\\classification.py:1143: UndefinedMetricWarning: F-score is ill-defined and being set to 0.0 in labels with no predicted samples.\n",
      "  'precision', 'predicted', average, warn_for)\n"
     ]
    }
   ],
   "source": [
    "y_estimatedM = gs_randomM.predict(X_trainM)\n",
    "print(accuracy_score(y_trainM, y_estimatedM))\n",
    "print(f1_score(y_trainM, y_estimatedM, average=None))"
   ]
  }
 ],
 "metadata": {
  "kernelspec": {
   "display_name": "Python 3",
   "language": "python",
   "name": "python3"
  },
  "language_info": {
   "codemirror_mode": {
    "name": "ipython",
    "version": 3
   },
   "file_extension": ".py",
   "mimetype": "text/x-python",
   "name": "python",
   "nbconvert_exporter": "python",
   "pygments_lexer": "ipython3",
   "version": "3.7.1"
  }
 },
 "nbformat": 4,
 "nbformat_minor": 2
}
