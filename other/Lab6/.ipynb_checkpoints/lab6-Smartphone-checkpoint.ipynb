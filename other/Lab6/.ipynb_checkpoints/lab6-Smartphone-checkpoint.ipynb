{
 "cells": [
  {
   "cell_type": "code",
   "execution_count": 1,
   "metadata": {},
   "outputs": [],
   "source": [
    "import pandas as pd\n",
    "import numpy as np\n",
    "from sklearn.model_selection import train_test_split\n",
    "from sklearn.neighbors import KNeighborsClassifier\n",
    "from sklearn.model_selection import GridSearchCV\n",
    "from sklearn.metrics import accuracy_score\n",
    "from sklearn.model_selection import cross_val_score\n",
    "from sklearn.model_selection import RandomizedSearchCV\n",
    "from numpy import array\n",
    "from sklearn.model_selection import KFold\n",
    "from sklearn.tree import DecisionTreeClassifier\n",
    "import sklearn"
   ]
  },
  {
   "cell_type": "code",
   "execution_count": 2,
   "metadata": {},
   "outputs": [],
   "source": [
    "dfXTrain=pd.read_csv(\"E:\\ids\\dataset_uci\\\\final_X_train.txt\", header=None)\n",
    "dfyTrain=pd.read_csv(\"E:\\ids\\dataset_uci\\\\final_y_train.txt\", header=None)\n",
    "dfXTest=pd.read_csv(\"E:\\ids\\dataset_uci\\\\final_X_test.txt\", header=None)\n",
    "dfyTest=pd.read_csv(\"E:\\ids\\dataset_uci\\\\final_y_test.txt\", header=None)\n"
   ]
  },
  {
   "cell_type": "code",
   "execution_count": 3,
   "metadata": {},
   "outputs": [
    {
     "name": "stdout",
     "output_type": "stream",
     "text": [
      "(5744, 561)\n",
      "(5744,)\n",
      "(1149,)\n",
      "(4595,)\n"
     ]
    }
   ],
   "source": [
    "x=dfXTrain.values\n",
    "x= np.vstack([x, dfXTest.values])\n",
    "y=dfyTrain.values\n",
    "y= np.vstack([y, dfyTest.values])\n",
    "y=np.append(y, x, axis=1)\n",
    "np.random.shuffle(y)\n",
    "x=y[:, 1:]\n",
    "y=y[:, 0]\n",
    "print(x.shape)\n",
    "print(y.shape)\n",
    "X_train, X_test, y_train, y_test = train_test_split(x, y, test_size=1/5, shuffle=True, random_state=42)\n",
    "print(y_test.shape)\n",
    "print(y_train.shape)"
   ]
  },
  {
   "cell_type": "markdown",
   "metadata": {},
   "source": [
    "KNN"
   ]
  },
  {
   "cell_type": "code",
   "execution_count": 23,
   "metadata": {},
   "outputs": [
    {
     "name": "stdout",
     "output_type": "stream",
     "text": [
      "0.9608355091383812\n",
      "{'n_neighbors': 1, 'p': 1}\n",
      "[0.96585366 0.96571429 0.96610169 0.93896714 0.94840295 0.98575499]\n"
     ]
    }
   ],
   "source": [
    "parameter_grid = {'n_neighbors': list(range(1,5)), 'p': [1, 2, 3, 4.7]}\n",
    "grid_search = GridSearchCV(estimator = KNeighborsClassifier(), param_grid=parameter_grid, scoring='accuracy', cv=5, \n",
    "                           return_train_score=True, iid=False, n_jobs=-1)\n",
    "grid_search.fit(X_train, y_train)\n",
    "y_estimated = grid_search.predict(X_test)\n",
    "print(accuracy_score(y_test, y_estimated))\n",
    "print(grid_search.best_params_)\n",
    "print(sklearn.metrics.f1_score(y_test, y_estimated, average=None))"
   ]
  },
  {
   "cell_type": "code",
   "execution_count": 27,
   "metadata": {},
   "outputs": [
    {
     "name": "stdout",
     "output_type": "stream",
     "text": [
      "[1. 1. 1. 1. 1. 1.]\n",
      "1.0\n"
     ]
    }
   ],
   "source": [
    "y_estimated2 = grid_search.predict(X_train)\n",
    "print(sklearn.metrics.f1_score(y_train, y_estimated2, average=None))\n",
    "print(sklearn.metrics.accuracy_score(y_train, y_estimated2))"
   ]
  },
  {
   "cell_type": "code",
   "execution_count": 32,
   "metadata": {},
   "outputs": [
    {
     "name": "stdout",
     "output_type": "stream",
     "text": [
      "0.9608355091383812\n",
      "[0.96585366 0.96571429 0.96610169 0.93896714 0.94840295 0.98575499]\n"
     ]
    }
   ],
   "source": [
    "parameter_grid = {'n_neighbors': list(range(1,5)), 'p': [1, 2, 3, 4.7]}\n",
    "X_trainR, X_testR, y_trainR, y_testR = train_test_split(x, y, test_size=1/5,shuffle=True, random_state=42)\n",
    "gs_random = RandomizedSearchCV(estimator=KNeighborsClassifier(), param_distributions=parameter_grid, cv= 5,n_iter=16)\n",
    "gs_random.fit(X_trainR, y_trainR)\n",
    "y_estimated = gs_random.predict(X_testR)\n",
    "print(accuracy_score(y_testR, y_estimated))\n",
    "print(sklearn.metrics.f1_score(y_testR, y_estimated, average=None))"
   ]
  },
  {
   "cell_type": "markdown",
   "metadata": {},
   "source": [
    "DecisionTree"
   ]
  },
  {
   "cell_type": "code",
   "execution_count": 5,
   "metadata": {},
   "outputs": [
    {
     "name": "stdout",
     "output_type": "stream",
     "text": [
      "0.7902523933855526\n",
      "{'max_features': 'auto', 'min_samples_leaf': 8, 'min_samples_split': 10}\n",
      "[0.76122931 0.69467787 0.71186441 0.82648402 0.83937824 0.90588235]\n"
     ]
    }
   ],
   "source": [
    "X_trainT, X_testT, y_trainT, y_testT = train_test_split(x, y, test_size=1/5,shuffle=True, random_state=42)\n",
    "params = {'max_features': ['auto', 'sqrt', 'log2'],\n",
    "          'min_samples_split':list(range(2,15)), \n",
    "          'min_samples_leaf':list(range(2,11)),\n",
    "         }\n",
    "grid_search = GridSearchCV(estimator = DecisionTreeClassifier(), param_grid=params, scoring='accuracy', cv=5, \n",
    "                           return_train_score=True, iid=False)\n",
    "grid_search.fit(X_trainT, y_trainT)\n",
    "y_estimated = grid_search.predict(X_testT)\n",
    "print(accuracy_score(y_testT, y_estimated))\n",
    "print(grid_search.best_params_)\n",
    "print(sklearn.metrics.f1_score(y_testT, y_estimated, average=None))"
   ]
  },
  {
   "cell_type": "code",
   "execution_count": 11,
   "metadata": {},
   "outputs": [
    {
     "name": "stdout",
     "output_type": "stream",
     "text": [
      "0.9997823721436344\n",
      "[1.         1.         1.         0.99944843 0.99939795 1.        ]\n"
     ]
    }
   ],
   "source": [
    "y_estimated2 = grid_search.predict(X_trainT)\n",
    "print(accuracy_score(y_trainT, y_estimated2))\n",
    "print(sklearn.metrics.f1_score(y_trainT, y_estimated2, average=None))"
   ]
  },
  {
   "cell_type": "code",
   "execution_count": 6,
   "metadata": {},
   "outputs": [
    {
     "name": "stdout",
     "output_type": "stream",
     "text": [
      "{'min_samples_split': 8, 'min_samples_leaf': 4, 'max_features': 'auto'}\n",
      "0.7771975630983464\n",
      "{'max_features': 'auto', 'min_samples_leaf': 8, 'min_samples_split': 10}\n",
      "[0.75961538 0.73352436 0.68926554 0.77729258 0.82077922 0.88690476]\n"
     ]
    }
   ],
   "source": [
    "gs_random = RandomizedSearchCV(estimator=DecisionTreeClassifier(), param_distributions=params, cv= 5,n_iter=100)\n",
    "gs_random.fit(X_trainT, y_trainT)\n",
    "print (gs_random.best_params_)\n",
    "y_estimated = gs_random.predict(X_testT)\n",
    "print(accuracy_score(y_testT, y_estimated))\n",
    "print(grid_search.best_params_)\n",
    "print(sklearn.metrics.f1_score(y_testT, y_estimated, average=None))"
   ]
  },
  {
   "cell_type": "code",
   "execution_count": 13,
   "metadata": {},
   "outputs": [
    {
     "name": "stdout",
     "output_type": "stream",
     "text": [
      "0.9993471164309031\n",
      "[1.         0.99853372 0.99933643 0.99889746 0.99939795 1.        ]\n"
     ]
    }
   ],
   "source": [
    "y_estimatedF = gs_randomF.predict(X_trainF)\n",
    "print(accuracy_score(y_trainF, y_estimatedF))\n",
    "print(sklearn.metrics.f1_score(y_trainF, y_estimatedF, average=None))"
   ]
  },
  {
   "cell_type": "markdown",
   "metadata": {},
   "source": [
    "Random forest"
   ]
  },
  {
   "cell_type": "code",
   "execution_count": 7,
   "metadata": {},
   "outputs": [
    {
     "name": "stdout",
     "output_type": "stream",
     "text": [
      "0.9155787641427328\n",
      "{'criterion': 'entropy', 'min_samples_leaf': 1, 'min_samples_split': 4, 'n_estimators': 25}\n",
      "[0.92307692 0.89204545 0.87861272 0.90686275 0.91428571 0.97752809]\n"
     ]
    }
   ],
   "source": [
    "from sklearn.ensemble import RandomForestClassifier\n",
    "\n",
    "paramsF = {'criterion':['gini','entropy'],\n",
    "          'n_estimators':[10,15,20,25,30],\n",
    "          'min_samples_leaf':[1,2,3],\n",
    "          'min_samples_split':[3,4,5,6,7]}\n",
    "X_trainF, X_testF, y_trainF, y_testF = train_test_split(x, y, test_size=1/5,shuffle=True, random_state=42)\n",
    "grid_search = GridSearchCV(estimator = RandomForestClassifier(), param_grid=paramsF, scoring='accuracy', cv=5, \n",
    "                           return_train_score=True, iid=False)\n",
    "grid_search.fit(X_trainF, y_trainF)\n",
    "y_estimated = grid_search.predict(X_testF)\n",
    "print(accuracy_score(y_testF, y_estimated))\n",
    "print(grid_search.best_params_)\n",
    "print(sklearn.metrics.f1_score(y_testF, y_estimated, average=None))"
   ]
  },
  {
   "cell_type": "code",
   "execution_count": 15,
   "metadata": {},
   "outputs": [
    {
     "name": "stdout",
     "output_type": "stream",
     "text": [
      "0.9997823721436344\n",
      "{'criterion': 'entropy', 'min_samples_leaf': 1, 'min_samples_split': 4, 'n_estimators': 25}\n",
      "[1.         1.         1.         0.99944843 0.99939795 1.        ]\n"
     ]
    }
   ],
   "source": [
    "y_estimated = grid_search.predict(X_trainF)\n",
    "print(accuracy_score(y_trainF, y_estimated))\n",
    "print(grid_search.best_params_)\n",
    "print(sklearn.metrics.f1_score(y_trainF, y_estimated, average=None))"
   ]
  },
  {
   "cell_type": "code",
   "execution_count": 8,
   "metadata": {},
   "outputs": [
    {
     "name": "stdout",
     "output_type": "stream",
     "text": [
      "{'n_estimators': 25, 'min_samples_split': 6, 'min_samples_leaf': 1, 'criterion': 'gini'}\n",
      "0.9120974760661444\n",
      "[0.91686461 0.89772727 0.89017341 0.8997555  0.90647482 0.9631728 ]\n"
     ]
    }
   ],
   "source": [
    "gs_randomF = RandomizedSearchCV(estimator=RandomForestClassifier(), param_distributions=paramsF, cv= 5,n_iter=100)\n",
    "gs_randomF.fit(X_trainF, y_trainF)\n",
    "print (gs_randomF.best_params_)\n",
    "y_estimatedF = gs_randomF.predict(X_testF)\n",
    "print(accuracy_score(y_testF, y_estimatedF))\n",
    "print(sklearn.metrics.f1_score(y_testF, y_estimatedF, average=None))"
   ]
  },
  {
   "cell_type": "code",
   "execution_count": 17,
   "metadata": {},
   "outputs": [
    {
     "name": "stdout",
     "output_type": "stream",
     "text": [
      "0.9993471164309031\n",
      "[1.         0.99853372 0.99933643 0.99889746 0.99939795 1.        ]\n"
     ]
    }
   ],
   "source": [
    "y_estimatedF = gs_randomF.predict(X_trainF)\n",
    "print(accuracy_score(y_trainF, y_estimatedF))\n",
    "print(sklearn.metrics.f1_score(y_trainF, y_estimatedF, average=None))"
   ]
  },
  {
   "cell_type": "markdown",
   "metadata": {},
   "source": [
    "SVM"
   ]
  },
  {
   "cell_type": "code",
   "execution_count": 18,
   "metadata": {},
   "outputs": [
    {
     "name": "stdout",
     "output_type": "stream",
     "text": [
      "0.9060052219321149\n",
      "{'C': 6, 'kernel': 'linear'}\n",
      "[0.92565947 0.88950276 0.87315634 0.87735849 0.88557214 0.98870056]\n"
     ]
    }
   ],
   "source": [
    "from sklearn import svm\n",
    "paramsS = {'C': [6,7,8,9,10,11,12], \n",
    "          'kernel': ['linear','rbf']}\n",
    "X_trainS, X_testS, y_trainS, y_testS = train_test_split(x, y, test_size=1/5,shuffle=True, random_state=42)\n",
    "grid_searchS = GridSearchCV(estimator = svm.SVC(gamma='auto'), param_grid=paramsS, scoring='accuracy', cv=5, \n",
    "                           return_train_score=True, iid=False)\n",
    "grid_searchS.fit(X_trainS, y_trainS)\n",
    "y_estimatedS = grid_searchS.predict(X_testS)\n",
    "print(accuracy_score(y_testS, y_estimatedS))\n",
    "print(grid_searchS.best_params_)\n",
    "print(sklearn.metrics.f1_score(y_testS, y_estimatedS, average=None))"
   ]
  },
  {
   "cell_type": "code",
   "execution_count": 20,
   "metadata": {},
   "outputs": [
    {
     "name": "stdout",
     "output_type": "stream",
     "text": [
      "0.9780195865070729\n",
      "[1.         0.99707174 0.99734396 0.94614103 0.94202032 1.        ]\n"
     ]
    }
   ],
   "source": [
    "y_estimatedS = grid_searchS.predict(X_trainS)\n",
    "print(accuracy_score(y_trainS, y_estimatedS))\n",
    "print(sklearn.metrics.f1_score(y_trainS, y_estimatedS, average=None))"
   ]
  },
  {
   "cell_type": "code",
   "execution_count": 21,
   "metadata": {},
   "outputs": [
    {
     "name": "stderr",
     "output_type": "stream",
     "text": [
      "C:\\Users\\Mioara\\Anaconda3\\lib\\site-packages\\sklearn\\model_selection\\_search.py:271: UserWarning: The total space of parameters 14 is smaller than n_iter=100. Running 14 iterations. For exhaustive searches, use GridSearchCV.\n",
      "  % (grid_size, self.n_iter, grid_size), UserWarning)\n"
     ]
    },
    {
     "name": "stdout",
     "output_type": "stream",
     "text": [
      "{'kernel': 'linear', 'C': 6}\n",
      "0.9060052219321149\n",
      "[0.92565947 0.88950276 0.87315634 0.87735849 0.88557214 0.98870056]\n"
     ]
    }
   ],
   "source": [
    "gs_randomS = RandomizedSearchCV(estimator=svm.SVC(gamma='auto'), param_distributions=paramsS, cv= 5,n_iter=100)\n",
    "gs_randomS.fit(X_trainS, y_trainS)\n",
    "print (gs_randomS.best_params_)\n",
    "y_estimatedS = gs_randomS.predict(X_testS)\n",
    "print(accuracy_score(y_testS, y_estimatedS))\n",
    "print(sklearn.metrics.f1_score(y_testS, y_estimatedS, average=None))"
   ]
  },
  {
   "cell_type": "code",
   "execution_count": 28,
   "metadata": {},
   "outputs": [
    {
     "name": "stdout",
     "output_type": "stream",
     "text": [
      "0.9780195865070729\n",
      "[1.         0.99707174 0.99734396 0.94614103 0.94202032 1.        ]\n"
     ]
    }
   ],
   "source": [
    "y_estimatedS = gs_randomS.predict(X_trainS)\n",
    "print(accuracy_score(y_trainS, y_estimatedS))\n",
    "print(sklearn.metrics.f1_score(y_trainS, y_estimatedS, average=None))"
   ]
  },
  {
   "cell_type": "markdown",
   "metadata": {},
   "source": [
    "Multi-layer Perceptron classifier"
   ]
  },
  {
   "cell_type": "code",
   "execution_count": null,
   "metadata": {},
   "outputs": [],
   "source": [
    "from sklearn.neural_network import MLPClassifier\n",
    "paramsM = {'activation' : ['identity', 'logistic', 'tanh', 'relu'], \n",
    "          'solver' : ['lbfgs', 'sgd', 'adam'],\n",
    "          'alpha':[0.1, 0.001, 0.0001]}\n",
    "X_trainM, X_testM, y_trainM, y_testM = train_test_split(x, y, test_size=1/5,shuffle=True, random_state=42)\n",
    "grid_searchM = GridSearchCV(estimator = MLPClassifier(max_iter=10000), param_grid=paramsM, scoring='accuracy', cv=5, \n",
    "                           return_train_score=True, iid=False)\n",
    "grid_searchM.fit(X_trainM, y_trainM)\n",
    "y_estimatedM = grid_searchM.predict(X_testM)\n",
    "print(accuracy_score(y_testM, y_estimatedM))\n",
    "print(grid_searchM.best_params_)\n",
    "print(sklearn.metrics.f1_score(y_testM, y_estimatedM, average=None))"
   ]
  },
  {
   "cell_type": "code",
   "execution_count": null,
   "metadata": {},
   "outputs": [],
   "source": [
    "y_estimatedM = grid_searchM.predict(X_testM)\n",
    "print(accuracy_score(y_testM, y_estimatedM))\n",
    "print(f1_score(y_testM, y_estimatedM, average=None))"
   ]
  },
  {
   "cell_type": "code",
   "execution_count": null,
   "metadata": {},
   "outputs": [],
   "source": [
    "gs_randomM = RandomizedSearchCV(estimator=MLPClassifier(max_iter=10000), param_distributions=paramsM, cv= 5,n_iter=100)\n",
    "gs_randomM.fit(X_trainM, y_trainM)\n",
    "print (gs_randomM.best_params_)\n",
    "y_estimatedM = gs_randomM.predict(X_testM)\n",
    "print(accuracy_score(y_testM, y_estimatedM))\n",
    "print(sklearn.metrics.f1_score(y_testM, y_estimatedM, average=None))"
   ]
  },
  {
   "cell_type": "code",
   "execution_count": null,
   "metadata": {},
   "outputs": [],
   "source": [
    "y_estimatedM = gs_randomM.predict(X_trainM)\n",
    "print(accuracy_score(y_trainM, y_estimatedM))\n",
    "print(f1_score(y_trainM, y_estimatedM, average=None))"
   ]
  },
  {
   "cell_type": "code",
   "execution_count": null,
   "metadata": {},
   "outputs": [],
   "source": []
  }
 ],
 "metadata": {
  "kernelspec": {
   "display_name": "Python 3",
   "language": "python",
   "name": "python3"
  },
  "language_info": {
   "codemirror_mode": {
    "name": "ipython",
    "version": 3
   },
   "file_extension": ".py",
   "mimetype": "text/x-python",
   "name": "python",
   "nbconvert_exporter": "python",
   "pygments_lexer": "ipython3",
   "version": "3.7.4"
  }
 },
 "nbformat": 4,
 "nbformat_minor": 2
}
