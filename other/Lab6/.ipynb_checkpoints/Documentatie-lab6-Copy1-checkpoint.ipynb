{
 "cells": [
  {
   "cell_type": "markdown",
   "metadata": {},
   "source": [
    "# Multi-layer Perceptron classifier."
   ]
  },
  {
   "cell_type": "markdown",
   "metadata": {},
   "source": [
    "Multi-layer Perceptron classifier (MLPC) este un clasificator bazat pe rețeaua neurală artificială. MLPC constă din mai multe nivele de noduri. Fiecare strat este conectat complet la următorul strat din rețea. Nodurile din stratul de intrare reprezintă datele de intrare. Toate celelalte noduri constituie o harta de la inputs catre outputs printr-o combinație liniară a intrărilor cu ponderile n și bias b și aplicarea unei funcții de activare.\n",
    "\n",
    "Parametrii:\n",
    "-activation -functia de activare;‘identity’returneaza f(x) = x;‘logistic’-reprezinta functia sigmoida, returneaza f(x) = 1 / (1 + exp(-x));‘tanh’-functia tangenta hiperbolica, returneaza f(x) = tanh(x);‘relu’-functia liniara rectificata, returneaza f(x) = max(0, x). Valoarea default este 'relu'\n",
    "\n",
    "-solver -optimizeaza ponderea;‘lbfgs’ este un optimizatir din clasa quasi-Newton;‘sgd’ se refera la calculul probabilistic al lui gradient descent;‘adam’ se refera la calculul probabilistic al lui gradient- bazat pe optimizarea oferita de optimizer Kingma, Diederik, si Jimmy Ba. Valoarea default este 'adam'\n",
    "\n",
    "-alpha-paramatru de regularizare"
   ]
  },
  {
   "cell_type": "markdown",
   "metadata": {},
   "source": [
    "# KNN"
   ]
  },
  {
   "cell_type": "markdown",
   "metadata": {},
   "source": [
    "Algoritmul KNN este un clasificator robust, care este adesea folosit ca punct de referință pentru clasificatori mai complexi, cum ar fi rețelele neuronale artificiale (ANN) și Support Vector Machines (SVM). În ciuda simplității sale, KNN poate depăși clasificatorii mai puternici și este utilizat într-o varietate de aplicații cum ar fi prognoza economică, comprimarea datelor și genetica.\n",
    "\n",
    "Parametrii:\n",
    "\n",
    "-n_neighbors :numarul de vecini, default=5\n",
    "\n",
    "-p: Parametrul de putere pentru valoarea Minkowski."
   ]
  },
  {
   "cell_type": "markdown",
   "metadata": {},
   "source": [
    "# SVM"
   ]
  },
  {
   "cell_type": "markdown",
   "metadata": {},
   "source": [
    "Support Vector Machines (SVM) este un clasificator discriminativ definit formal de un hyperplan separator. Cu alte cuvinte, dat fiind datele de antrenament marcate (învățarea supervizată), algoritmul emite un hyperplan optim care categorizează exemple noi. În două spații dimensionale, acest hiperplan este o linie care împarte un set în două părți, unde fiecare clasă se află în ambele părți.\n",
    "\n",
    "Paramaterii:\n",
    "\n",
    "-C: parametrul de penalizare a erori\n",
    "\n",
    "-kernal: se specifica care va fi nucleul folosit in algoritm, default 'rbf'"
   ]
  },
  {
   "cell_type": "markdown",
   "metadata": {},
   "source": [
    "# Decision tree"
   ]
  },
  {
   "cell_type": "markdown",
   "metadata": {},
   "source": [
    "Decision tree, împarte în mod repetat zona de lucru (plot-ul) în sub-parti, prin identificarea liniilor. (repetitiv deoarece pot exista două regiuni îndepărtate  care sa apartina aceleasi clase).\n",
    "Parametrii:\n",
    "\n",
    "-max_features : numarul de trasaturi care se cauta pentru a se face cea mai buna delimitare; \n",
    "“auto”=> max_features=sqrt(n_features).\n",
    "“sqrt”=> max_features=sqrt(n_features).\n",
    "“log2”=> max_features=log2(n_features).\n",
    " None=> max_features=n_features.\n",
    " \n",
    "-min_samples_split :numarul minim de sample necesar pentru a desparti un nod intern\n",
    "\n",
    "-min_samples_leaf :numarul minim de sample necesar ca un nod sa fie frunza"
   ]
  },
  {
   "cell_type": "markdown",
   "metadata": {},
   "source": [
    "# Random forest"
   ]
  },
  {
   "cell_type": "markdown",
   "metadata": {},
   "source": [
    "Random Forest Classifier creează un set de arbori de decizie dintr-un subset selectat aleatoriu de set de antrenament.\n",
    "Parametrii:\n",
    "\n",
    "-n_estimators : numarul de arbori dintr-o padure\n",
    "\n",
    "-criterion : functia prin care se masoara calitatea impartirii\n",
    "\n",
    "-min_samples_split : minimul de sample cerut a impartii un nod intern\n",
    "\n",
    "-min_samples_leaf :numarul minim de sample necesar ca un nod sa fie frunza"
   ]
  },
  {
   "cell_type": "markdown",
   "metadata": {},
   "source": [
    "Functii:\n",
    "\n",
    "    -.fit-se face modelul folosind datele de train\n",
    "   \n",
    "    -.predict-se face un tabel de predictie"
   ]
  }
 ],
 "metadata": {
  "kernelspec": {
   "display_name": "Python 3",
   "language": "python",
   "name": "python3"
  },
  "language_info": {
   "codemirror_mode": {
    "name": "ipython",
    "version": 3
   },
   "file_extension": ".py",
   "mimetype": "text/x-python",
   "name": "python",
   "nbconvert_exporter": "python",
   "pygments_lexer": "ipython3",
   "version": "3.7.4"
  }
 },
 "nbformat": 4,
 "nbformat_minor": 2
}
