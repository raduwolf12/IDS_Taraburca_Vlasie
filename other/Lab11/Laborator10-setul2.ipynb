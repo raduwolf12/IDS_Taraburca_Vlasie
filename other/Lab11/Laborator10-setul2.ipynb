{
 "cells": [
  {
   "cell_type": "markdown",
   "metadata": {},
   "source": [
    "# Laborator 10"
   ]
  },
  {
   "cell_type": "markdown",
   "metadata": {},
   "source": [
    "Folosind un set de date - de exemplu de la https://archive.ics.uci.edu/ml/datasets.php?format=&task=&att=&area=&numAtt=&numIns=&type=text&sort=taskDown&view=table - sa se rezolve o problema de clasificare sau regresie, plecand de la intrari de tip text.\n",
    "\n",
    "Se poate opta pentru codificare BOW, n-grams, word2vec sau altele adecvate. Modelele de predictie pot fi din biblioteca scikit-learn. Puteti folosi pentru preprocesare biblioteca [NLTK](https://www.nltk.org) etc.\n",
    "\n",
    "Pentru clasificare se va optimiza scorul F1; se vor raporta scorurile F1, accuracy. Pentru regresie se va optimia scorul mean squared error; se vor raporta scorurile MSE, mean absolute error, r2.\n",
    "\n",
    "Exemple:\n",
    "1. [Clasificare de SMS-uri](https://archive.ics.uci.edu/ml/datasets/SMS+Spam+Collection)\n",
    "1. [Sentence Classification Data Set](https://archive.ics.uci.edu/ml/datasets/Sentence+Classification#)\n",
    "1. [Sentiment Labelled Sentences Data Set](https://archive.ics.uci.edu/ml/datasets/Sentiment+Labelled+Sentences)\n",
    "1. [Victorian Era Authorship Attribution Data Set](https://archive.ics.uci.edu/ml/datasets/Victorian+Era+Authorship+Attribution)\n",
    "1. [Amazon Commerce reviews set Data Set](https://archive.ics.uci.edu/ml/datasets/Amazon+Commerce+reviews+set)\n",
    "1. [Farm Ads Data Set](https://archive.ics.uci.edu/ml/datasets/Farm+Ads)\n",
    "1. etc...\n",
    "\n",
    "\n",
    "Se vor investiga minim 2 seturi de date si pentru fiecare din ele minim 4 modele de clasificare sau regresie. Daca setul de date e deja impartit in train si test, se va folosi ca atare - setul de antrenare se va imparti, suplimentar in train + validation; altfel, se va face kfold CV, k=5. Valorile optimale ale hiperparametrilor vor fi alesi prin random search si grid search.\n",
    "\n",
    "Pentru fiecare set de date:\n",
    "1. Se descrie setul de date, in limba romana (continut, provenienta, problema etc.)\n",
    "1. Se face analiza exploratorie, folosind cod Python: distributia claselor sau a valorilor continue de iesire - numeric si grafic, statistici asupra textelor (de exemplu: lungime minima/medie/maxima; cele mai frecvente k cuvinte; clustering etc.). Se va explica fiecare pas si ce se urmareste prin efectuarea lui. Graficele vor avea axele numite (ce se reprezinta, evetual unitate de masura)\n",
    "1. Se face preprocesare de date; se explica in limba romana care sunt metodele de preprocesare folosite, efectul lor pe datele de intrare, ce forma are iesirea obtinuta; se arata efectele pasilor de preprocesare asupra setului de date (noul numar de documente, dinamica vocabularului, trasaturile rezultate etc.) Se pot aduga grafice si tabele la acest pas.\n",
    "1. Clasificare sau regresie, dupa caz: se face o descriere a modelelor considerate, in limba romana; se descrie modalitatea de cautare a hiperparametrilor; rezultatele obtinute se vor prezenta tabelar, similar cu tema precedenta. \n",
    "\n",
    "Descrierea modelelor si a pasilor de preprocesare pot fi in sectiuni separate, cu referinte la acestea unde e necesar. Partea specifica aplicarii pasilor pe datele considerate va fi prezentata respectand ordinea de aplicare. \n",
    "\n",
    "Exemple:\n",
    "1. [Working With Text Data](https://scikit-learn.org/stable/tutorial/text_analytics/working_with_text_data.html)\n",
    "1. [Text Classification with Python and Scikit-Learn](https://stackabuse.com/text-classification-with-python-and-scikit-learn/)\n",
    "1. [How to Prepare Text Data for Machine Learning with scikit-learn](https://machinelearningmastery.com/prepare-text-data-machine-learning-scikit-learn/)\n",
    "\n",
    "Prezentarea temei se va face in saptamana 20-24 mai."
   ]
  },
  {
   "cell_type": "markdown",
   "metadata": {},
   "source": [
    "# 1\n",
    "- Continut-fraze marcate cu opinii pozitive sau negative. \n",
    "- Provenienta:\n",
    "\n",
    "    - Acest set de date a fost creat pentru the Paper \"From Group to Individual Labels using Deep Features\", Kotzias et. al,. KDD 2015 \n",
    "    \n",
    "- Detalii:\n",
    "    - Scorul este 1 (pentru pozitiv) sau 0 (pentru negativ).\n",
    "    \n",
    "    - Exemplele provin din trei site-uri / domenii diferite:\n",
    "        - imdb.com\n",
    "        - amazon.com\n",
    "        - yelp.com \n",
    "    - Pentru fiecare site web, există 500 de propoziții pozitive și 500 de propoziții negative. Acestea au fost selectate aleatoriu pentru seturi de date mai mari de recenzii.\n",
    "    - Am încercat să selectăm propoziții care au o conotație clară pozitivă sau negativă, scopul fiind acela că nu vor fi selectate propoziții neutre.\n",
    "- Atribute:\n",
    "    - Atributele sunt propoziții de text, extrase din recenziile produselor, filmelor și restaurantelor.\n",
    "    "
   ]
  },
  {
   "cell_type": "code",
   "execution_count": 1,
   "metadata": {},
   "outputs": [],
   "source": [
    "from sklearn.datasets import load_files\n",
    "import pandas as pd\n",
    "from sklearn.feature_extraction.text import CountVectorizer\n",
    "import numpy as np\n",
    "from sklearn.neural_network import MLPRegressor\n",
    "from sklearn.model_selection import cross_val_score\n",
    "from sklearn.linear_model import LogisticRegression\n",
    "from sklearn.model_selection import GridSearchCV\n",
    "from sklearn.neighbors import KNeighborsRegressor\n",
    "from sklearn.model_selection import RandomizedSearchCV\n",
    "from sklearn.model_selection import cross_validate\n",
    "from sklearn.tree import DecisionTreeRegressor"
   ]
  },
  {
   "cell_type": "code",
   "execution_count": 2,
   "metadata": {},
   "outputs": [],
   "source": [
    "path=\"D:\\ids\\sentiment labelled sentences\"\n",
    "path1=path+\"\\\\amazon_cells_labelled.txt\"\n",
    "path2=path+\"\\\\imdb_labelled.txt\"\n",
    "path3=path+\"\\\\yelp_labelled.txt\"\n",
    "data1 = pd.read_csv(path1, sep=\"\\t\", header=None)\n",
    "data2=pd.read_csv(path2, sep=\"\\t\", header=None)\n",
    "data3=pd.read_csv(path3, sep=\"\\t\", header=None)\n",
    "data= [data1, data2, data3]\n",
    "data= pd.concat(data)"
   ]
  },
  {
   "cell_type": "code",
   "execution_count": 3,
   "metadata": {},
   "outputs": [
    {
     "data": {
      "text/html": [
       "<div>\n",
       "<style scoped>\n",
       "    .dataframe tbody tr th:only-of-type {\n",
       "        vertical-align: middle;\n",
       "    }\n",
       "\n",
       "    .dataframe tbody tr th {\n",
       "        vertical-align: top;\n",
       "    }\n",
       "\n",
       "    .dataframe thead th {\n",
       "        text-align: right;\n",
       "    }\n",
       "</style>\n",
       "<table border=\"1\" class=\"dataframe\">\n",
       "  <thead>\n",
       "    <tr style=\"text-align: right;\">\n",
       "      <th></th>\n",
       "      <th>0</th>\n",
       "      <th>1</th>\n",
       "    </tr>\n",
       "  </thead>\n",
       "  <tbody>\n",
       "    <tr>\n",
       "      <th>0</th>\n",
       "      <td>So there is no way for me to plug it in here i...</td>\n",
       "      <td>0</td>\n",
       "    </tr>\n",
       "    <tr>\n",
       "      <th>1</th>\n",
       "      <td>Good case, Excellent value.</td>\n",
       "      <td>1</td>\n",
       "    </tr>\n",
       "    <tr>\n",
       "      <th>2</th>\n",
       "      <td>Great for the jawbone.</td>\n",
       "      <td>1</td>\n",
       "    </tr>\n",
       "    <tr>\n",
       "      <th>3</th>\n",
       "      <td>Tied to charger for conversations lasting more...</td>\n",
       "      <td>0</td>\n",
       "    </tr>\n",
       "    <tr>\n",
       "      <th>4</th>\n",
       "      <td>The mic is great.</td>\n",
       "      <td>1</td>\n",
       "    </tr>\n",
       "  </tbody>\n",
       "</table>\n",
       "</div>"
      ],
      "text/plain": [
       "                                                   0  1\n",
       "0  So there is no way for me to plug it in here i...  0\n",
       "1                        Good case, Excellent value.  1\n",
       "2                             Great for the jawbone.  1\n",
       "3  Tied to charger for conversations lasting more...  0\n",
       "4                                  The mic is great.  1"
      ]
     },
     "execution_count": 3,
     "metadata": {},
     "output_type": "execute_result"
    }
   ],
   "source": [
    "data.head()"
   ]
  },
  {
   "cell_type": "code",
   "execution_count": 4,
   "metadata": {},
   "outputs": [
    {
     "name": "stdout",
     "output_type": "stream",
     "text": [
      "{'so': 4161, 'there': 4545, 'is': 2427, 'no': 3043, 'way': 4987, 'for': 1829, 'me': 2809, 'to': 4609, 'plug': 3387, 'it': 2432, 'in': 2314, 'here': 2158, 'the': 4531, 'us': 4835, 'unless': 4793, 'go': 1982, 'by': 647, 'converter': 1013, 'good': 1993, 'case': 713, 'excellent': 1603, 'value': 4861, 'great': 2023, 'jawbone': 2449, 'tied': 4589, 'charger': 768, 'conversations': 1012, 'lasting': 2567, 'more': 2931, 'than': 4526, '45': 45, 'minutes': 2890, 'major': 2753, 'problems': 3482, 'mic': 2868, 'have': 2113, 'jiggle': 2464, 'get': 1954, 'line': 2648, 'up': 4821, 'right': 3777, 'decent': 1171, 'volume': 4928, 'if': 2282, 'you': 5138, 'several': 4004, 'dozen': 1373, 'or': 3144, 'hundred': 2259, 'contacts': 987, 'then': 4542, 'imagine': 2294, 'fun': 1901, 'of': 3097, 'sending': 3968, 'each': 1440, 'them': 4538, 'one': 3124, 'are': 273, 'razr': 3611, 'owner': 3200, 'must': 2980, 'this': 4558, 'needless': 3010, 'say': 3889, 'wasted': 4974, 'my': 2982, 'money': 2918, 'what': 5017, 'waste': 4973, 'and': 216, 'time': 4593, 'sound': 4201, 'quality': 3568, 'he': 2122, 'was': 4968, 'very': 4890, 'impressed': 2305, 'when': 5021, 'going': 1988, 'from': 1883, 'original': 3152, 'battery': 412, 'extended': 1648, 'two': 4730, 'were': 5015, 'seperated': 3979, 'mere': 2853, 'ft': 1893, 'started': 4272, 'notice': 3070, 'excessive': 1610, 'static': 4278, 'garbled': 1926, 'headset': 2127, 'though': 4564, 'design': 1231, 'odd': 3095, 'as': 297, 'ear': 1441, 'clip': 856, 'not': 3063, 'comfortable': 897, 'at': 314, 'all': 179, 'highly': 2175, 'recommend': 3648, 'any': 243, 'who': 5032, 'has': 2105, 'blue': 514, 'tooth': 4634, 'phone': 3322, 'advise': 146, 'everyone': 1589, 'do': 1338, 'be': 416, 'fooled': 1824, 'far': 1692, 'works': 5096, 'clicks': 851, 'into': 2404, 'place': 3351, 'that': 4529, 'makes': 2758, 'wonder': 5079, 'how': 2239, 'long': 2684, 'mechanism': 2823, 'would': 5107, 'last': 2565, 'went': 5014, 'on': 3122, 'motorola': 2943, 'website': 5001, 'followed': 1817, 'directions': 1285, 'but': 637, 'could': 1040, 'pair': 3221, 'again': 156, 'bought': 558, 'use': 4839, 'with': 5069, 'kindle': 2525, 'fire': 1761, 'absolutely': 80, 'loved': 2711, 'commercials': 909, 'most': 2936, 'misleading': 2896, 'yet': 5137, 'run': 3832, 'new': 3029, 'below': 457, 'bars': 397, 'three': 4569, 'days': 1155, 'without': 5071, 'charging': 771, 'mother': 2938, 'she': 4023, 'had': 2067, 'problem': 3481, 'pocket': 3393, 'pc': 3271, 'combination': 889, 've': 4867, 'owned': 3199, 'months': 2926, 'now': 3073, 'can': 674, 'best': 466, 'mobile': 2906, 'didn': 1266, 'think': 4553, 'instructions': 2376, 'provided': 3521, 'helpful': 2152, 'people': 3290, 'couldnt': 1042, 'hear': 2130, 'talk': 4469, 'pull': 3537, 'out': 3166, 'earphone': 1449, 'doesn': 1345, 'hold': 2194, 'charge': 766, 'simple': 4084, 'little': 2664, 'breakage': 573, 'unacceptible': 4741, 'product': 3492, 'ideal': 2274, 'like': 2638, 'whose': 5038, 'ears': 1453, 'sensitive': 3973, 'unusable': 4817, 'moving': 2956, 'car': 692, 'freeway': 1865, 'speed': 4227, 'years': 5130, 'left': 2602, 'contract': 1000, 'hate': 2108, 'well': 5012, 'ac': 84, 'included': 2319, 'make': 2755, 'sure': 4420, 'never': 3026, 'juice': 2487, 'highy': 2176, 'recommended': 3650, 'need': 3008, 'least': 2596, 'mins': 2888, 'your': 5141, 'book': 538, 'first': 1764, 'turn': 4722, 'life': 2630, 'short': 4050, 'kept': 2506, 'poor': 3410, 'performance': 3297, 'fine': 1754, '680': 54, 'worthless': 5104, 'camera': 670, 'thats': 4530, '2mp': 33, 'pics': 3333, 'nice': 3032, 'clear': 845, 'picture': 3334, 'priced': 3471, 'only': 3128, 'garbage': 1925, 'audio': 333, 'bluetooth': 517, 'features': 1712, 'want': 4954, 'their': 4537, 'mind': 2882, 'gonna': 1992, 'buy': 641, 'after': 154, 'arguing': 278, 'verizon': 4886, 'regarding': 3670, 'dropped': 1412, 'calls': 666, 'we': 4993, 'returned': 3753, 'phones': 3323, 'seems': 3959, 'made': 2737, 'disappointed': 1296, 'loud': 2703, 'enough': 1540, 'should': 4054, 'protection': 3513, 'does': 1344, 'too': 4629, 'bulky': 622, 'usable': 4836, 'keyboard': 2509, 'actually': 127, 'turns': 4724, 'pda': 3273, 'real': 3620, 'world': 5097, 'useful': 4841, 'machine': 2735, 'instead': 2374, 'just': 2493, 'neat': 3006, 'gadget': 1915, 'pretty': 3467, 'sturdy': 4358, 'large': 2559, 'love': 2710, 'thing': 4551, 'everything': 1590, 'about': 75, 'reasonable': 3628, 'price': 3470, 'even': 1580, 'stream': 4330, 'submerged': 4370, '15': 6, 'seconds': 3949, 'still': 4303, 'been': 433, 'happy': 2100, '510': 50, 'complaints': 927, 'end': 1524, 'buttons': 640, 'off': 3098, 'bad': 373, 'essentially': 1568, 'forget': 1838, 'microsoft': 2872, 'tech': 4495, 'support': 4415, 'really': 3626, 'faceplates': 1662, 'since': 4088, 'looks': 2689, 'elegant': 1494, 'cool': 1021, 'these': 4547, 'headphones': 2125, 'find': 1752, 'they': 4548, 'perhaps': 3301, 'purchase': 3549, 'seriously': 3987, 'different': 1271, 'particular': 3248, 'angle': 222, 'other': 3159, 'party': 3252, 'clearly': 847, 'big': 473, 'drawback': 1386, 'mp3': 2959, 'player': 3370, 'front': 1884, 'cover': 1054, 'let': 2617, 'pause': 3268, 'skip': 4113, 'songs': 4186, 'lock': 2676, 'few': 1729, 'week': 5005, 'later': 2574, 'activated': 120, 'suddenly': 4388, 'died': 1268, 'feels': 1717, 'headsets': 2128, 'because': 427, 'wear': 4996, 'glasses': 1976, 'gets': 1955, 'sometimes': 4181, 'ipods': 2416, 'device': 1254, 'situations': 4106, 'work': 5091, 'bmw': 520, 'series': 3985, 'which': 5025, 'fairly': 1673, 'quiet': 3575, 'trouble': 4702, 'hearing': 2132, 'person': 3307, 'saying': 3890, 'choice': 819, 'docking': 1339, 'station': 4279, 'home': 2205, 'beautiful': 423, 'd807': 1137, 'wrongly': 5121, 'advertised': 145, 'item': 2434, 'handy': 2089, 'lot': 2701, 'purchased': 3550, 'within': 5070, 'longer': 2685, 'working': 5095, 'everyday': 1588, 'holds': 2197, 'bargain': 393, 'packaged': 3211, 'arrived': 286, 'intended': 2388, 'runs': 3834, 'down': 1366, 'quickly': 3574, 'worked': 5092, 'broke': 592, 'easy': 1459, 'loves': 2715, 'construction': 982, 'better': 467, 'boy': 563, 'cheaper': 781, 'loads': 2670, 'super': 4406, 'costs': 1036, 'much': 2963, 'expect': 1629, 'greater': 2024, 'ease': 1456, 'buds': 611, 'play': 3368, 'music': 2977, 'dont': 1355, 'will': 5049, 'order': 3146, 'plan': 3355, 'found': 1851, 'waaay': 4939, 'tried': 4691, 'bluetooths': 518, 'both': 552, 'listener': 2659, 'using': 4846, 'decision': 1176, 'integrated': 2384, 'seamlessly': 3936, 'buyer': 642, 'beware': 470, 'flush': 1806, 'toilet': 4615, 'definitely': 1193, 'free': 1862, 'shipping': 4038, 'received': 3637, 'supposedly': 4418, '375': 39, 'apparently': 257, 'match': 2797, 'between': 469, 'pros': 3511, 'pictures': 3335, 'also': 193, 'styles': 4360, 'black': 493, 'white': 5030, 'huge': 2246, 'flaw': 1785, 'correctly': 1033, 'don': 1352, '350': 38, 'jabra350': 2440, 'reception': 3642, 'piece': 3336, 'fit': 1768, 'although': 194, 'rated': 3599, 'an': 214, 'impressive': 2307, 'megapixels': 2831, 'renders': 3709, 'images': 2290, 'fall': 1676, 'expectations': 1630, 'such': 4382, 'relatively': 3688, 'high': 2169, 'resolution': 3734, 'purcashed': 3548, 'call': 662, 'wife': 5044, 'ask': 300, 'slim': 4129, 'light': 2632, 'display': 1320, 'its': 2436, 'geeky': 1937, 'sex': 4007, 'toast': 4611, 'rocks': 3806, 'oozes': 3129, 'embedded': 1507, 'sleek': 4118, 'stylish': 4362, 'leather': 2597, 'fast': 1699, 'compromise': 937, 'full': 1898, 'qwerty': 3580, 'basic': 403, 'cell': 738, 'number': 3075, 'keypad': 2510, 'got': 2002, 'around': 283, 'may': 2804, 'completely': 930, 'unhappy': 4779, 'winner': 5060, 'setup': 4001, 'couldn': 1041, 'simpler': 4085, 'earpieces': 1452, 'jabra': 2439, 'fits': 1769, 'comfortably': 898, 'strong': 4342, 'signal': 4072, 'iam': 2269, 'pleased': 3377, 'job': 2467, 'done': 1353, 'basically': 404, 'service': 3994, 'did': 1265, 'am': 197, 'set': 3997, 'weeks': 5008, 'bt': 604, 'disapoinment': 1293, 'small': 4137, 'realize': 3624, 'while': 5026, 'getting': 1956, 'used': 4840, 'accompanied': 101, 'software': 4166, 'almost': 187, 'brilliant': 586, 'nicely': 3033, 'avoid': 345, 'damage': 1140, 'definitly': 1194, 'careful': 698, 'majority': 2754, 'logitech': 2681, 'earbud': 1442, 'failed': 1670, 'stuff': 4352, 'peachy': 3275, 'keen': 2500, 'house': 2237, 'coverage': 1055, 'upstairs': 4832, 'basement': 402, 'voice': 4924, 'recognition': 3646, 'tremendous': 4686, 'during': 1428, 'minute': 2889, 'experienced': 1635, 'drops': 1414, 'area': 274, 'takes': 4463, 'forever': 1836, 'hours': 2235, 'literally': 2662, 'reccomendation': 3633, 'relative': 3687, 'glad': 1972, 'items': 2435, 'stated': 4277, 'description': 1225, 'screen': 3920, 'sudden': 4387, 'hoping': 2220, 'linking': 2653, '8530': 64, 'blackberry': 494, 'curve': 1125, 'know': 2534, 'sounds': 4203, 'funny': 1908, 'seemed': 3958, 'sketchy': 4110, 'technology': 4497, 'wouldn': 5108, 'wired': 5063, 'kind': 2523, 'messages': 2860, 'web': 5000, 'browsing': 599, 'significantly': 4075, 'faster': 1700, 'previous': 3469, 'build': 616, 'unlike': 4794, 'some': 4176, 'cheap': 780, 'fantastic': 1690, 'perfectly': 3296, 'colors': 886, 'w810i': 4937, 'superb': 4407, 'whine': 5027, 'internet': 2400, 'goes': 1987, 'less': 2613, 'communications': 913, 'tool': 4631, 'communicate': 911, 'charm': 776, 'same': 3860, 'maintain': 2750, 'monkeys': 2920, 'shouldn': 4055, 'obviously': 3088, 'share': 4016, 'dna': 1337, 'copy': 1024, 'over': 3180, 'humans': 2250, 'bougth': 559, 'l7c': 2542, 'look': 2686, 'sharp': 4018, 'graphics': 2016, 'mode': 2907, 'button': 639, 'side': 4067, 'thank': 4527, 'wasting': 4976, 'igo': 2286, 'chargers': 769, 'tips': 4603, 'file': 1737, 'browser': 598, 'offers': 3104, 'options': 3143, 'needs': 3012, 'handsfree': 2088, 'network': 3025, 'connected': 961, 'hs850': 2244, 'whether': 5024, 'put': 3560, 'latest': 2575, 'os': 3157, 'v1': 4852, '15g': 7, 'likes': 2640, 'slow': 4133, 'crawl': 1077, 'every': 1586, 'once': 3123, 'recognizes': 3647, 'storage': 4315, 'buzzing': 646, 'override': 3191, 'bluetoooth': 516, 'functionality': 1904, 'awesome': 352, 'thorn': 4560, 'abhor': 71, 'recently': 3641, 'where': 5023, 'stay': 4280, '10': 1, 'before': 438, 'being': 445, 'disconnected': 1304, 'incredible': 2330, '13': 5, 'bucks': 608, 'check': 785, 'mail': 2745, 'night': 3037, 'backlight': 371, 'message': 2859, 'lost': 2700, 'replacement': 3721, 'ring': 3779, 'tone': 4623, 'overall': 3182, 'lately': 2573, 'extremely': 1656, 'wit': 5068, 'hit': 2187, 'dropping': 1413, 'weight': 5009, 'hardly': 2103, 'll': 2669, 'thin': 4550, 'pleather': 3381, 'useless': 4843, 'simply': 4087, 'deaf': 1160, 'color': 883, 'prettier': 3466, 'thought': 4565, 'incredibly': 2331, 'investment': 2409, 'strange': 4323, 'ticking': 4588, 'noises': 3050, 'ends': 1529, 'electronics': 1493, 'available': 341, 'fm': 1810, 'transmitters': 4675, 'lasts': 2569, 'h500': 2064, 'mega': 2830, 'pixel': 3348, 'part': 3246, 'reasonably': 3629, 'good7': 1994, 'nearly': 3005, 'transmit': 4674, 'back': 367, 'bother': 553, 'contacting': 986, 'company': 917, 'dollar': 1349, 'learned': 2595, 'lesson': 2615, 'form': 1843, 'online': 3127, 'anyway': 248, 'earbugs': 1444, 'means': 2817, 'range': 3592, 'able': 73, 'roam': 3797, 'living': 2668, 'room': 3815, 'issues': 2431, 'felt': 1724, 'crack': 1063, 'worst': 5102, 'ever': 1585, 'infatuated': 2350, 'freezes': 1866, 'frequently4': 1870, 'embarrassing': 1505, 'mostly': 2937, 'child': 804, 'lightweight': 2637, 'expected': 1631, 'consumer': 983, 'experience': 1634, 'horrible': 2223, 'tick': 4585, 'background': 370, 'certainly': 749, 'usually': 4849, 'headbands': 2124, 'mess': 2858, 'hair': 2070, 'bit': 486, 'year': 5129, 'tell': 4505, 'ordered': 3147, 'sony': 4187, 'ericsson': 1561, 'favorite': 1708, 'purchases': 3551, 'market': 2783, 'authentic': 338, 'shine': 4033, 'comfort': 896, 'excited': 1614, 'cute': 1131, 'mistake': 2901, 'disappointment': 1298, 'calendar': 660, 'sync': 4449, 'customer': 1127, 'additional': 136, 'gels': 1938, 'whatsoever': 5019, 'defeats': 1186, 'purpose': 3556, 'worth': 5103, 'penny': 3288, 'wallet': 4952, 'type': 4732, 'excrutiatingly': 1618, 'probably': 3480, 'important': 2303, 'aspect': 304, 'glove': 1978, 'secure': 3951, 'durable': 1427, 'gosh': 2001, 'attractive': 331, 'appears': 260, 'factor': 1667, 'rubber': 3826, 'petroleum': 3313, 'smell': 4144, 'unbearable': 4743, 'caused': 730, 'return': 3752, 'cable': 651, 'flimsy': 1793, 'scary': 3898, 'earpiece': 1451, 'hands': 2086, 'stereo': 4296, 'month': 2925, 'flawlessly': 1788, 'absolutel': 79, 'junk': 2490, 'either': 1490, 'drain': 1380, 'potentially': 3435, 'fry': 1891, 'unreliable': 4810, 'giving': 1971, 'gave': 1933, 'stars': 4269, 'reversible': 3759, 'rotating': 3817, 'feature': 1711, 'our': 3164, 'whole': 5035, 'family': 1684, 'seller': 3964, 'plantronics': 3361, 'adorable': 142, 'buying': 644, 'poorly': 3411, 'contstruct': 1008, 'hinge': 2182, 'installed': 2370, 'charged': 767, 'overnite': 3189, 'thru': 4579, 'handset': 2087, 'cat': 724, 'attacked': 323, 'scratched': 3916, 'protective': 3514, 'strip': 4339, 'destroying': 1245, 'terrible': 4517, 'razor': 3610, 'v3i': 4856, 'wise': 5066, 'someone': 4178, 'shouldve': 4056, 'invented': 2407, 'sooner': 4189, 'try': 4712, 'engineered': 1533, 'clever': 848, 'many': 2775, 'complained': 925, 'microphone': 2871, 'weak': 4994, 'old': 3113, 'nokia': 3051, '2160': 29, 'tracfone': 4653, 'care': 697, 'instruction': 2375, 'manual': 2773, 'lacking': 2547, 'alarm': 174, 'clock': 859, 'removing': 3707, 'antena': 238, 'uncomfortable': 4748, 'quite': 3578, 'compared': 919, 'plugged': 3388, 'lg': 2625, 'gotten': 2005, 'compliments': 933, 'state': 4276, 'allow': 183, 'usage': 4837, 'driving': 1407, 'immediately': 2298, 'ngage': 3031, 'earbuds': 1443, 'dialing': 1259, 'cant': 684, 'anything': 246, 'low': 2717, 'however': 2243, 'riingtones': 3778, 'neither': 3020, 'games': 1922, 'amazon': 203, 'sucks': 4386, 'rip': 3786, 'came': 667, 'ago': 162, 'couple': 1046, 'ipod': 2415, 'recharge': 3644, 'frequentyly': 1871, 'flip': 1794, 'adhesive': 138, 'disappointing': 1297, 'inexpensive': 2347, 'practically': 3443, 'add': 133, 'boost': 540, 'times': 4598, 'concrete': 949, 'knock': 2532, 'wood': 5087, 'transformed': 4670, 'organizational': 3150, 'capability': 685, 'easier': 1457, 'sitting': 4104, 'vehicle': 4875, 'cradle': 1066, 'belt': 458, 'jerks': 2457, 'los': 2697, 'angeles': 220, 'starter': 4273, 'wireless': 5065, 'loudspeaker': 2707, 'option': 3142, 'bumpers': 625, 'lights': 2636, 'appealing': 258, 'improve': 2309, 'leaks': 2592, 'hot': 2232, 'according': 102, 'called': 663, 'applifies': 267, 'save': 3884, 'specially': 4224, 'face': 1661, 'transmission': 4673, 's11': 3839, 'data': 1149, 'finished': 1760, 'looking': 2688, 'happier': 2098, 'drivng': 1408, 'along': 189, 'starts': 4274, 'ringing': 3781, 'reason': 3627, 'having': 2116, 'auto': 340, 'reverse': 3758, 'tape': 4474, 'embarassing': 1503, 'hurt': 2262, 'push': 3558, 'protects': 3516, 'sides': 4069, 'average': 342, 'operates': 3136, 'skype': 4114, 'soyo': 4213, 'take': 4460, 'self': 3963, 'portraits': 3420, 'outside': 3175, 'exterior': 1650, 'others': 3160, 'mentioned': 2849, 'trying': 4713, 'gadgets': 1916, 'finally': 1750, 'magical': 2742, 'help': 2150, 'crap': 1071, 'shipped': 4037, 'promptly': 3507, 'exactly': 1596, 'wanted': 4955, 'comparably': 918, 'offering': 3103, 'today': 4613, 'deal': 1161, 'satisfied': 3876, 'encourage': 1523, 'give': 1968, 'effective': 1479, 'waiting': 4944, 'recieve': 3645, 'prompt': 3505, 'especially': 1566, 'stupid': 4355, 'keep': 2501, 'cradles': 1067, 'kits': 2529, 'comes': 895, 'excelent': 1602, 'cingulair': 834, 'nicer': 3034, 'noticed': 3071, 'era': 1558, 'colored': 884, 'dead': 1157, 'hoursthe': 2236, 'thereplacement': 4546, '2000': 24, 'cheaply': 782, 'att': 320, 'distorted': 1328, 'yell': 5131, 'plastic': 3364, 'breaks': 576, 'oh': 3108, 'forgot': 1841, 'mention': 2848, 'weird': 5010, 'effect': 1478, 'iriver': 2421, 'spinn': 4240, 'unit': 4788, 'fond': 1820, 'magnetic': 2743, 'strap': 4326, 'psyched': 3529, 'appointments': 268, 'another': 235, 'note': 3066, 'appearance': 259, 'rather': 3600, 'bland': 499, 'model': 2908, 'sanyo': 3869, 'survived': 4432, 'dozens': 1374, 'blacktop': 495, 'ill': 2287, 'earphones': 1450, 'finds': 1753, 'away': 351, 'enter': 1542, 'modest': 2910, 'cellular': 741, 'clarity': 838, 'warning': 4963, 'wish': 5067, 'awsome': 356, 'drained': 1381, 'dying': 1435, 'earpad': 1448, 'anyone': 245, 'displeased': 1321, 'might': 2875, 'defect': 1187, 'risk': 3790, 'built': 620, 'alone': 188, 'difficult': 1272, 'install': 2369, 'restored': 3744, 'purchasing': 3552, 'jx': 2496, 'moto': 2941, 'figure': 1735, 'searched': 3938, 'size': 4108, 'key': 2508, 'pad': 3213, 'lit': 2661, 'nothing': 3069, 'hard': 2101, 'wasn': 4972, 'portable': 3417, 'colleague': 879, 'expensive': 1633, 'fully': 1899, 'bed': 431, 'turned': 4723, 'wi': 5040, 'fi': 1730, '20': 23, 'morning': 2933, 'reading': 3618, 'memory': 2845, 'card': 694, 'always': 196, 'wearing': 4998, 'hat': 2107, 'sunglasses': 4405, 'timely': 4596, 'shipment': 4036, 'solid': 4172, 'surefire': 4421, 'gx2': 2061, 'bt50': 606, 'computer': 938, 'buyers': 643, 'remorse': 3705, 'accessoryone': 94, 'inexcusable': 2346, 'returning': 3754, 'changing': 759, 'carriers': 705, 'tmobile': 4608, 'update': 4824, 'procedure': 3483, 'cumbersome': 1120, 'motorolas': 2944, 'delivery': 1211, 'vx9900': 4936, 'env': 1552, 'switch': 4442, 'rocketed': 3805, 'destination': 1243, 'unknown': 4792, 'under': 4751, 'conditions': 952, 'worthwhile': 5105, 'usefulness': 4842, 'bills': 477, 'understand': 4760, 'pricing': 3474, 'plans': 3359, 'overnight': 3188, 'batteries': 411, 'won': 5078, 'regret': 3673, 'user': 4844, 'friendly': 1877, 'unfortunately': 4777, 'ability': 72, 'receiving': 3639, 'pitiful': 3346, 'respect': 3736, 'exchanged': 1613, 'results': 3748, 'stuck': 4347, 'max': 2803, 'mute': 2981, 'hybrid': 2266, 'palmtop': 3229, 'cellphone': 739, 'excels': 1605, 'those': 4563, 'roles': 3809, 'bt250v': 605, 'liked': 2639, 'wrong': 5120, 'described': 1222, '11': 3, 'im': 2288, 'bose': 550, 'noise': 3049, 'cancelling': 679, 'amazing': 201, 'nyc': 3084, 'commuter': 915, 'defective': 1188, 'given': 1969, 'star': 4266, 'unacceptable': 4740, 'holster': 2204, 'photo': 3325, 'ad': 128, 'earlier': 1446, 'review': 3760, 'noted': 3067, 'happens': 2097, 'frog': 1882, 'eye': 1657, 'catching': 725, 'pushed': 3559, 'function': 1902, 'amazed': 200, 'aluminum': 195, 'palm': 3227, 'vx': 4935, 'protected': 3512, 'handheld': 2080, 'tools': 4632, 'sturdiness': 4357, 'orders': 3149, 'timeframe': 4594, 'source': 4208, 'waterproof': 4983, 'complaint': 926, 'standard': 4263, 'thanks': 4528, 'things': 4552, 'ended': 1526, 'sliding': 4126, 'edge': 1469, 'pants': 3236, 'pockets': 3394, 'store': 4316, 'ugly': 4736, 'shield': 4031, 'incrediable': 2329, 'improvement': 2311, 'refuse': 3668, 'refund': 3666, 'replace': 3719, 'accidentally': 96, 'activate': 119, 'gentle': 1947, 'touch': 4644, 'listening': 2660, 'threw': 4571, 'window': 5055, 'took': 4630, 'drop': 1411, 'inches': 2318, 'above': 76, 'kitchen': 2527, 'counter': 1044, 'cracked': 1064, 'laughing': 2583, 'trunk': 4709, 'carried': 704, 'conversation': 1011, 'hitch': 2188, 'practical': 3442, 'ample': 212, 'eargels': 1445, 'channel': 760, 'directly': 1286, 'seem': 3957, 'increase': 2328, 'none': 3053, 'ones': 3125, 'properly': 3510, 'missed': 2899, 'numerous': 3077, 'cannot': 683, 'sucked': 4384, 'shifting': 4032, 'bubbling': 607, 'peeling': 3285, 'scratch': 3915, 'droid': 1409, 'zero': 5151, 'exercise': 1623, 'frustration': 1890, 'own': 3198, 'earset': 1454, 'outgoing': 3168, 'total': 4641, 'package': 3210, 'understanding': 4761, 'patient': 3261, 'wirefly': 5064, 'contact': 984, 'cingular': 835, 'inform': 2352, 'practice': 3444, 'aggravating': 161, 'friends': 1878, 'enjoy': 1536, 'virgin': 4910, 'muddy': 2965, 'casing': 718, 'wire': 5062, 'insert': 2361, 'glued': 1980, 'slid': 4122, 'please': 3376, 'isn': 2429, 'plantronincs': 3362, 'continues': 997, 'flawed': 1786, 'disapointing': 1294, 'fourth': 1853, 'hated': 2109, 'fixes': 1771, 'accessing': 92, 'downloading': 1368, 'ringtones': 3783, 'performing': 3300, 'functions': 1905, 'barely': 392, 'constantly': 980, 'joke': 2475, 'said': 3849, 'due': 1420, 'happening': 2096, 'forced': 1831, 'stop': 4312, 'adapters': 132, 'walked': 4949, 'through': 4575, 'procedures': 3484, 're': 3612, 'wiping': 5061, 'strength': 4332, 'plays': 3373, 'louder': 2704, 'speaker': 4220, 'constructed': 981, 'menus': 2851, 'navigate': 3001, 'recessed': 3643, 'holding': 2196, 'avoiding': 347, 'broken': 593, 'smoking': 4151, 'sprint': 4252, 'linked': 2652, 'effort': 1482, 'possesed': 3426, 'idea': 2273, 'trash': 4677, 'research': 3730, 'development': 1252, 'division': 1336, 'knows': 2536, 'doing': 1348, 'killer': 2520, 'course': 1050, 'breaking': 575, 'infuriating': 2355, 'walkman': 4950, 'charges': 770, 'feel': 1714, 'europe': 1576, 'asia': 298, 'clipping': 857, 'deffinitely': 1190, '50': 48, 'cent': 743, 'coming': 902, 'behing': 443, '5020': 49, 'comfortible': 899, '24': 31, 'day': 1154, 'pain': 3216, 'quick': 3572, 'arrival': 285, 'fraction': 1856, 'samsung': 3862, 'crappy': 1072, 'e715': 1439, 'seeen': 3955, 'stopped': 4313, 'needed': 3009, 'operate': 3135, 'interface': 2396, 'decade': 1169, 'compete': 921, 'designs': 1234, 'paired': 3222, 'treo': 4688, '700w': 57, 'usb': 4838, 'transceiver': 4665, 'steer': 4291, 'genuine': 1949, 'replacementr': 3722, 'pens': 3289, 'come': 892, 'pack': 3209, 'buyit': 645, 'beats': 422, 'fingers': 1758, 'plus': 3390, 'believe': 448, 'steep': 4290, 'point': 3398, 'cases': 714, 'normally': 3059, 'apart': 251, 'haul': 2111, 'dissapointing': 1325, 'brand': 569, 'extra': 1653, 'originally': 3154, 'discarded': 1302, 'players': 3371, 'posted': 3431, 'detailed': 1247, 'comments': 907, 'grey': 2034, 'red': 3655, 'pay': 3269, 'guess': 2054, 'existing': 1626, 'cds': 734, 'connection': 963, 'surprised': 4426, 'reviews': 3764, 'fabulous': 1660, 'currently': 1122, 'shooters': 4044, 'delay': 1197, 'messes': 2862, 'bitpim': 491, 'program': 3500, 'transfer': 4668, 'accessory': 93, 'manufacturer': 2774, 'performed': 3299, 'awful': 353, 'muffled': 2967, 'tinny': 4600, 'incoming': 2322, 'severe': 4005, 'echo': 1466, 'wind': 5054, 'resistant': 3733, 'overly': 3187, 'contacted': 985, 'told': 4616, 'warranty': 4965, 'produce': 3488, 'receipt': 3635, 'luck': 2723, 'linksys': 2654, 'exchange': 1612, 'refurb': 3667, 'something': 4180, 'bar': 389, 'placed': 3352, 'snug': 4160, 'heavy': 2138, 'keeps': 2503, 'falling': 1677, 'utter': 4850, 'promised': 3503, 'loop': 2690, 'tiny': 4601, 'four': 1852, 'spring': 4251, 'latch': 2570, 'visor': 4916, 'tries': 4692, 'download': 1367, 'address': 137, 'reboots': 3631, 'rate': 3598, 'tungsten': 4720, 'e2': 1438, 'flipphones': 1795, 'designed': 1232, 'smoothly': 4155, 'study': 4351, 'interested': 2394, 'sins': 4096, 'industrial': 2343, 'happened': 2095, 'tracking': 4657, 'access': 89, 'detachable': 1246, 'continue': 996, 'pairing': 3223, 'periodically': 3303, 'somehow': 4177, 'upload': 4828, 'third': 4556, 'locks': 2678, 'screens': 3923, 'flash': 1776, 'randomly': 3591, 'locked': 2677, 'truly': 4706, '325': 36, 'worn': 5098, 'ringer': 3780, 'choices': 820, 'tones': 4624, 'acceptable': 88, 'balance': 380, 'ready': 3619, 'prime': 3477, 'upbeat': 4823, 'chinese': 812, 'forgeries': 1837, 'abound': 74, 'explain': 1639, 'jack': 2441, 'ca': 649, '42': 43, 'crisp': 1097, 'smallest': 4139, 'stays': 4283, 'biggest': 475, 'drains': 1382, 'superfast': 4410, 'ergonomic': 1559, 'theory': 4543, 'stand': 4262, 'video': 4897, 'clips': 858, 'occupied': 3092, 'distracting': 1330, 'hour': 2234, 'entire': 1548, 'accept': 87, 'except': 1606, 'cbr': 733, 'mp3s': 2960, 'preferably': 3451, 'ripped': 3787, 'windows': 5056, 'media': 2824, 'beat': 420, 'shots': 4053, 'sos': 4199, 'signals': 4073, 'allows': 185, 'connect': 960, 'mini': 2886, 'near': 3004, 'open': 3130, 'allowing': 184, 'startac': 4271, 'regretted': 3676, 'outperform': 3172, 'china': 811, 'v325i': 4854, 'numbers': 3076, 'sim': 4080, '3o': 40, 'crashed': 1074, 'replaced': 3720, 'quit': 3577, '18': 10, 'iphone': 2414, '4s': 46, 'despite': 1240, 'connecting': 962, 'multiple': 2969, 'power': 3439, 'sources': 4209, 'imac': 2289, 'external': 1652, 'wall': 4951, 'outlet': 3170, 'etc': 1574, 'elsewhere': 1501, 'bells': 453, 'whistles': 5029, 'mediocre': 2826, 'via': 4894, 'slide': 4123, 'grip': 2040, 'prevents': 3468, 'slipping': 4131, 'hand': 2078, 'span': 4218, 'exclaim': 1616, 'whoa': 5033, 'tv': 4725, 'corded': 1025, 'freedom': 1863, 'passed': 3253, 'mark': 2782, 'shows': 4062, 'signs': 4076, '100': 2, 'functional': 1903, 'soft': 4165, 'tight': 4591, 'cut': 1130, 'shape': 4015, 'copier': 1022, 'sizes': 4109, 'sent': 3976, 'anywhere': 250, 'sold': 4169, 'units': 4789, 'provides': 3522, 'classy': 843, 'krussel': 2540, 'tracfonewebsite': 4654, 'toactivate': 4610, 'texas': 4521, 'dit': 1333, '5320': 51, 'mainly': 2748, 'soon': 4188, 'whatever': 5018, 'next': 3030, 'blueant': 515, 'supertooth': 4414, 'metro': 2865, 'pcs': 3272, 'sch': 3902, 'r450': 3581, 'slider': 4124, 'premium': 3455, 'plugs': 3389, 'plenty': 3383, 'capacity': 686, 'confortable': 957, 'somewhat': 4182, 'periods': 3304, 'ant': 237, 'hey': 2166, 'pleasantly': 3375, 'suprised': 4419, 'cost': 1034, 'dustpan': 1432, 'indoors': 2341, 'disposable': 1322, 'puff': 3536, 'smoke': 4150, 'convenient': 1009, 'ride': 3774, 'smoother': 4153, 'nano': 2990, 'son': 4184, 'dissapointed': 1324, 'reccommend': 3634, 'carries': 706, 'highest': 2171, 'anti': 240, 'glare': 1974, 'protector': 3515, 'date': 1150, 'smartphone': 4141, 'wont': 5084, 'atleast': 316, 'addition': 135, 'amp': 211, 'reoccure': 3713, 'bottom': 555, 'somewhere': 4183, 'else': 1500, '12': 4, 'creaks': 1081, 'wooden': 5088, 'floor': 1798, 'apartment': 252, 'generally': 1941, 'inconspicuous': 2326, 'boot': 541, 'slowly': 4134, 'sorry': 4197, 'impossible': 2304, 'refused': 3669, 'upgrade': 4825, 'discount': 1305, 'securly': 3953, 'possibility': 3427, 'double': 1361, 'booking': 539, 'break': 572, 'entertainment': 1546, 'communication': 912, 'management': 2766, 'activesync': 121, 'optimal': 3141, 'synchronization': 4450, 'disgusting': 1312, 'coupon': 1048, 'rare': 3595, 'instance': 2371, 'perfect': 3293, 'ps3': 3527, 'five': 1770, 'cheapy': 783, 'lots': 2702, 'sounded': 4202, 'talking': 4470, 'shouting': 4057, 'telephone': 4503, 'yes': 5136, 'shiny': 4035, 'grtting': 2051, '44': 44, 'until': 4815, 'v3c': 4855, 'thumbs': 4581, 'together': 4614, 'exceeds': 1601, 'feet': 1718, 'sight': 4070, 'improper': 2308, 'checked': 786, 'everywhere': 1591, 'ordering': 3148, 'effects': 1480, 'palms': 3228, 'awkward': 354, 'hoped': 2216, 'father': 1702, 'v265': 4853, 'pads': 3214, 'easily': 1458, 'stops': 4314, 'intermittently': 2399, 'reaching': 3614, 'row': 3822, 'send': 3967, 'keys': 2512, 'nightmare': 3038, 'describe': 1221, 'speakerphone': 4221, 'cassette': 720, 'current': 1121, 'cellphones': 740, 'planning': 3358, 'says': 3891, 'dirty': 1291, 'answer': 236, 'read': 3616, 'haven': 2114, 'products': 3494, 'sensor': 3975, 'reliability': 3694, 'beeping': 435, 'letting': 2620, 'dieing': 1269, 'laptop': 2558, 'ir': 2418, 'cancellation': 678, 'counterfeit': 1045, 'see': 3954, 'travled': 4679, 'swivel': 4444, 'sister': 4097, 'dual': 1417, '8125': 61, 'keeping': 2502, 'inside': 2362, 'bottowm': 556, 'gimmick': 1962, 'opens': 3133, 'top': 4635, 'causing': 731, 'discomfort': 1303, 'trust': 4710, 'maintains': 2752, 'flawless': 1787, 'normal': 3058, 'making': 2759, 'fails': 1671, 'devices': 1255, 'utterly': 4851, 'confusing': 959, 'lose': 2698, 'holder': 2195, 'cutouts': 1134, 'land': 2553, 'loops': 2691, 'material': 2798, 'flaws': 1789, 'exceptional': 1607, 'owning': 3202, 'official': 3105, 'oem': 3096, 'loudest': 2705, 'setting': 3999, 'competitors': 923, 'show': 4058, 'saved': 3885, 'alot': 191, 'cuts': 1135, 'beep': 434, 'ok': 3111, 'totally': 4642, 'unintelligible': 4782, 'word': 5089, 'restart': 3740, 'managed': 2765, 'bend': 460, 'leaf': 2591, 'metal': 2863, 'stress': 4333, 'leopard': 2612, 'print': 3478, 'wonderfully': 5082, 'wild': 5046, 'saggy': 3848, 'floppy': 1800, 'looses': 2694, 'snap': 4157, '8525': 63, 'carry': 707, 'fliptop': 1796, 'loose': 2692, 'wobbly': 5076, 'eventually': 1584, 'receive': 3636, 'seat': 3943, 'fulfills': 1897, 'requirements': 3728, 'fact': 1666, 'rests': 3746, 'lightly': 2635, 'against': 157, 'websites': 5002, 'rating': 3601, 'cables': 652, 'lap': 2557, 'controls': 1006, 'accessable': 90, 'mine': 2884, 'christmas': 826, 'rest': 3738, 'otherwise': 3161, 'joy': 2480, 'satisifed': 3878, '2005': 25, 's710a': 3840, 'wow': 5112, 'specs': 4226, 'armband': 282, 'allot': 182, 'clearer': 846, 'keypads': 2511, 'reach': 3613, 'ericson': 1560, 'z500a': 5150, 'motor': 2942, 'control': 1005, 'center': 744, 'voltage': 4927, 'humming': 2253, 'equipment': 1556, 'certain': 748, 'places': 3353, 'girl': 1964, 'complain': 924, 'wake': 4947, 'styling': 4361, 'restocking': 3743, 'fee': 1713, 'darn': 1147, 'lousy': 2708, 'seen': 3960, 'sweetest': 4441, 'securely': 3952, 'hook': 2212, 'directed': 1282, 'canal': 676, 'unsatisfactory': 4813, 'videos': 4898, 'negatively': 3014, 'adapter': 131, 'provide': 3520, 'hype': 2267, 'assumed': 310, 'lense': 2611, 'covered': 1056, 'falls': 1678, 'text': 4522, 'messaging': 2861, 'tricky': 4690, 'painful': 3217, 'lasted': 2566, 'blew': 505, 'flops': 1801, 'smudged': 4156, 'touches': 4646, 'disappoint': 1295, 'infra': 2354, 'port': 3416, 'irda': 2419, 'aimless': 166, 'movie': 2954, 'distressed': 1331, 'drifting': 1401, 'young': 5139, 'man': 2764, 'flat': 1778, 'characters': 764, 'audience': 332, 'half': 2072, 'whom': 5037, 'attempting': 326, 'artiness': 292, 'angles': 223, 'became': 426, 'ridiculous': 3775, 'acting': 116, 'plot': 3386, 'lines': 2651, 'non': 3052, 'existent': 1624, 'speak': 4219, 'scene': 3899, 'gerardo': 1952, 'song': 4185, 'running': 3833, 'his': 2185, 'head': 2123, 'lacks': 2548, 'art': 289, 'meaning': 2815, 'emptiness': 1519, 'empty': 1520, 'saw': 3888, 'kids': 2517, 'predictable': 3448, 'casting': 723, 'jimmy': 2466, 'buffet': 613, 'science': 3910, 'teacher': 4489, 'baby': 364, 'owls': 3197, 'showed': 4060, 'florida': 1802, 'muppets': 2970, 'hilarious': 2177, 'delivers': 1210, 'main': 2746, 'budget': 610, 'overdue': 3185, 'consider': 971, 'tale': 4465, 'sisters': 4098, 'single': 4092, 'greatest': 2025, 'film': 1742, 'gem': 1939, 'terms': 4516, 'screenplay': 3922, 'cinematography': 833, 'post': 3430, 'production': 3493, 'editing': 1472, 'directing': 1283, 'true': 4704, 'masterpiece': 2795, 'sea': 3932, 'faux': 1705, 'masterpieces': 2796, 'structure': 4344, 'tightly': 4592, 'history': 2186, 'cinema': 830, 'vitally': 4919, 'occurs': 3094, 'words': 5090, 'content': 993, 'level': 2622, 'fill': 1739, 'films': 1747, 'superlative': 4412, 'imaginable': 2291, 'require': 3727, 'significant': 4074, 'amount': 210, 'puzzle': 3562, 'solving': 4175, 'pieces': 3337, 'create': 1084, 'pulls': 3540, 'punches': 3543, 'game': 1921, 'th': 4524, 'deserves': 1229, 'insane': 2359, 'massive': 2792, 'levels': 2623, 'unlockable': 4795, 'canada': 675, 'aye': 358, 'pure': 3553, 'brilliance': 585, 'flick': 1791, 'doomed': 1357, 'conception': 942, 'lame': 2551, 'minor': 2887, 'character': 762, 'pg': 3315, 'complete': 928, 'sequel': 3980, 'confirm': 955, 'unfunny': 4778, 'generic': 1943, 'exaggerating': 1597, 'moment': 2915, 'trailer': 4662, 'talented': 4467, 'carrell': 703, 'co': 865, 'fare': 1694, 'morgan': 2932, 'freeman': 1864, 'jonah': 2477, 'hill': 2178, 'ed': 1468, 'helms': 2149, 'story': 4319, 'itself': 2437, 'lazy': 2588, 'presence': 3459, 'animals': 227, 'integration': 2385, 'scenes': 3901, 'obvious': 3087, 'green': 2029, 'translate': 4671, 'succeeds': 4379, 'meagre': 2810, 'lesser': 2614, 'lovely': 2712, 'written': 5119, 'french': 1868, 'cancan': 677, 'boasts': 521, 'cutest': 1132, 'leading': 2590, 'ladies': 2549, 'grace': 2009, 'heels': 2140, 'negative': 3013, 'insipid': 2364, 'cause': 729, 'whiny': 5028, 'pointless': 3400, 'future': 1911, 'efforts': 1483, 'cast': 721, 'performances': 3298, 'believable': 447, 'anne': 232, 'heche': 2139, 'convincing': 1016, 'sam': 3859, 'shepard': 4030, 'portrayal': 3421, 'gung': 2058, 'ho': 2191, 'marine': 2780, 'sobering': 4163, 'sat': 3873, 'riveted': 3794, 'resounding': 3735, 'tom': 4620, 'hanks': 2093, 'actor': 122, 'enjoyed': 1538, 'children': 806, 'annoying': 234, 'gives': 1970, 'feeling': 1715, 'fingernails': 1757, 'chalkboard': 754, 'unnecessary': 4799, 'train': 4663, 'roller': 3812, 'coaster': 869, 'warmth': 4961, 'grates': 2018, 'nerves': 3021, 'improved': 2310, 'improvisation': 2312, 'actors': 123, 'twice': 4726, 'worry': 5100, 'delivering': 1209, 'honestly': 2210, 'often': 3107, 'dialogue': 1262, 'follow': 1816, 'surroundings': 4431, 'crackles': 1065, 'unpredictable': 4804, 'youthful': 5143, 'energy': 1531, 'concentrate': 940, 'meanders': 2814, 'badly': 374, 'suspense': 4435, 'builders': 617, 'cross': 1103, 'cliche': 849, 'parents': 3243, 'movies': 2955, 'predict': 3447, 'dialog': 1260, 'verbatim': 4884, 'writing': 5118, 'selections': 3962, 'gross': 2045, 'chills': 808, 'alexander': 177, 'nevsky': 3028, 'artist': 293, 'whoever': 5034, 'lived': 2666, 'pretentious': 3464, 'planned': 3357, 'dodge': 1343, 'stratus': 4327, 'makers': 2757, 'aren': 275, 'restrained': 3745, 'business': 633, 'québec': 3579, 'mouth': 2947, 'promote': 3504, 'interesting': 2395, 'provoking': 3525, 'paced': 3207, 'suited': 4397, 'lion': 2656, 'superbly': 4409, 'acted': 115, 'classic': 840, 'list': 2657, 'horror': 2226, 'checking': 787, 'script': 3927, 'horrendous': 2221, 'retarded': 3750, 'girls': 1966, 'manna': 2771, 'heaven': 2137, 'terrific': 4519, 'occasionally': 3090, 'touching': 4647, 'evaluate': 1578, 'lives': 2667, 'veteran': 4892, 'nostalgia': 3062, 'trip': 4696, 'ursula': 4834, 'burton': 631, 'nun': 3078, 'nuns': 3079, 'church': 828, 'including': 2321, 'shirley': 4039, 'jones': 2478, 'rendition': 3710, 'tonight': 4626, 'uplifting': 4827, 'ending': 1527, 'frankly': 1860, 'cotton': 1039, 'club': 863, 'unfaithful': 4773, 'watch': 4977, 'lane': 2555, 'gere': 1953, 'dialogs': 1261, 'shallow': 4012, 'insincere': 2363, 'chick': 801, 'politically': 3406, 'correct': 1031, 'watching': 4980, 'scenery': 3900, 'her': 2157, 'bring': 588, 'fresh': 1872, 'bold': 529, 'helps': 2154, 'maybe': 2805, 'idiot': 2279, 'savant': 3883, 'played': 3369, 'boring': 548, 'myself': 2983, 'peaking': 3276, 'paper': 3239, 'columbo': 888, 'mature': 2802, 'neighbour': 3018, 'misplace': 2897, 'weaker': 4995, 'episode': 1553, 'debated': 1165, 'sack': 3842, 'trumpeter': 4708, 'falsely': 1679, 'accused': 107, 'murder': 2971, 'applause': 265, 'prelude': 3453, 'director': 1287, 'afraid': 152, 'playing': 3372, 'villain': 4903, 'rent': 3712, 'michael': 2869, 'ironside': 2425, 'rocked': 3804, 'social': 4164, 'physical': 3329, 'outlets': 3171, 'tremendously': 4687, 'chemistry': 799, 'ben': 459, 'affleck': 150, 'sandra': 3865, 'bullock': 623, 'why': 5039, 'leaving': 2600, 'knocked': 2533, 'moments': 2916, 'excruciatingly': 1617, 'remake': 3700, 'wedding': 5003, 'agreed': 164, 'fear': 1710, 'losing': 2699, 'nobody': 3045, 'aired': 168, 'dribble': 1397, 'watched': 4979, 'putting': 3561, 'imdb': 2296, 'ratings': 3602, 'mirrormask': 2892, 'inexperience': 2348, 'direction': 1284, 'meant': 2818, 'dramatic': 1384, 'tension': 4512, 'conflict': 956, 'central': 746, 'themes': 4540, 'handled': 2082, 'ineptly': 2345, 'stereotypically': 4298, 'depth': 1219, 'imagination': 2292, 'core': 1027, 'following': 1818, 'bunch': 626, 'schoolers': 3906, 'cry': 1114, 'relate': 3681, 'hell': 2145, 'cult': 1118, 'viewing': 4901, 'sharing': 4017, 'disaster': 1300, 'confuses': 958, 'fish': 1765, 'underwater': 4766, 'repeated': 3715, 'thousand': 4567, 'worse': 5101, 'possible': 3428, 'redeemed': 3656, 'mst3k': 2962, 'fodder': 1814, 'paid': 3215, 'treat': 4682, 'anthony': 239, 'quinn': 3576, 'crazy': 1080, 'horse': 2227, 'walk': 4948, 'theatre': 4533, 'relief': 3695, 'yeah': 5128, 'storyline': 4320, 'pillow': 3339, 'girlfriend': 1965, 'boyfriend': 564, 'gone': 1991, 'disliked': 1316, 'tickets': 4587, 'dollars': 1350, 'mad': 2736, 'identifies': 2277, 'cardboard': 695, 'stereotypes': 4297, 'predictably': 3449, 'cartoon': 711, 'crafted': 1068, 'paul': 3267, 'haggis': 2069, 'handle': 2081, 'strokes': 4341, 'storytelling': 4321, 'painted': 3220, 'crayons': 1079, 'crash': 1073, 'depressing': 1218, 'provokes': 3524, 'emotion': 1512, 'teaches': 4490, 'already': 192, 'racism': 3584, 'prejudice': 3452, 'empowerment': 1518, 'women': 5077, 'brain': 567, 'attempt': 324, 'shut': 4064, 'primal': 3475, 'impulse': 2313, 'preservation': 3462, 'shattered': 4021, 'recover': 3653, 'joins': 2473, 'revenge': 3756, 'boogeyman': 537, 'zombiez': 5154, 'hellish': 2147, 'trinity': 4695, 'mean': 2813, 'distinction': 1327, 'redeeming': 3657, 'appalling': 256, 'artless': 295, 'endlessly': 1528, 'presents': 3461, 'ugliest': 4735, 'beyond': 471, 'lead': 2589, 'charisma': 772, 'merit': 2855, 'akin': 172, 'torture': 4639, 'explanation': 1641, 'atrocity': 319, 'pleasant': 3374, 'voyage': 4933, 'discovery': 1307, 'unrecommended': 4809, 'premise': 3454, 'ms': 2961, 'garbo': 1927, 'bat': 405, 'talents': 4468, 'silent': 4077, 'netflix': 3024, 'stocking': 4307, 'renowned': 3711, 'screenwriter': 3924, 'frances': 1857, 'marion': 2781, 'hasn': 2106, 'step': 4293, 'suffered': 4389, 'close': 860, 'ups': 4831, 'drag': 1378, 'heroes': 2162, 'age': 158, 'john': 2471, 'wayne': 4989, 'industry': 2344, 'shined': 4034, 'senior': 3969, 'him': 2180, 'older': 3115, 'indulgent': 2342, 'hadn': 2068, 'spent': 4231, 'showcasing': 4059, 'noteworthy': 3068, 'punched': 3542, 'gallon': 1920, 'blood': 508, 'spew': 4232, 'forth': 1847, 'jamie': 2446, 'foxx': 1855, 'ray': 3609, 'charles': 774, 'genius': 1945, 'owns': 3203, 'spacek': 4215, 'coal': 867, 'miner': 2885, 'daughter': 1152, 'quaid': 3564, 'balls': 384, 'remember': 3702, 'himself': 2181, 'legendary': 2605, 'biographical': 480, 'musician': 2978, 'hitchcock': 2189, 'ironically': 2422, 'secondly': 3948, 'perfected': 3294, 'thriller': 4573, 'chase': 778, 'pandering': 3233, 'sabotages': 3841, 'hence': 2155, 'rumbles': 3831, 'desperately': 1236, 'depending': 1214, 'usual': 4848, 'logic': 2680, 'mishima': 2895, 'uninteresting': 4784, 'chilly': 809, 'unremarkable': 4811, 'author': 339, 'abstruse': 82, 'culture': 1119, 'reenactments': 3659, 'attention': 328, 'emotionally': 1513, 'adrift': 143, 'stagy': 4260, 'sits': 4103, 'soldiers': 4170, 'singing': 4091, 'masculinity': 2791, 'pledge': 3382, 'themselves': 4541, 'hairsplitting': 2071, 'purity': 3555, 'admiration': 140, 'swords': 4445, 'bore': 546, 'kill': 2519, 'momentum': 2917, 'quicker': 3573, 'schrader': 3907, 'resume': 3749, 'amateurish': 198, '80s': 60, 'fascinated': 1695, 'dancing': 1144, 'dvd': 1433, 'struck': 4343, 'contained': 989, 'holes': 2199, 'inconsistencies': 2325, 'horrid': 2224, 'realistic': 3622, 'ballet': 383, 'repertory': 3718, 'pathetic': 3260, 'developments': 1253, 'lacked': 2546, 'woa': 5075, 'sappiest': 3870, 'unwatchable': 4818, 'talent': 4466, 'action': 117, 'filmography': 1746, 'site': 4101, 'chance': 756, 'intentions': 2391, 'master': 2793, 'theme': 4539, 'undertone': 4765, 'fifties': 1734, 'existential': 1625, 'weariness': 4997, 'aerial': 147, 'ought': 3163, 'thrilled': 4572, 'senses': 3971, 'deeply': 1184, 'regrettably': 3675, 'visual': 4917, 'interest': 2393, 'drama': 1383, 'expression': 1645, 'celebration': 736, 'patriotism': 3263, 'underlines': 4756, 'narrative': 2993, 'actress': 124, 'june': 2489, 'allison': 181, 'plain': 3354, 'soundtrack': 4204, 'concert': 947, 'sequences': 3983, 'considering': 974, 'ridiculousness': 3776, 'angry': 224, 'spoilers': 4246, 'surface': 4424, 'stunning': 4354, 'fx': 1913, 'conceptually': 943, 'everybody': 1587, 'fantasy': 1691, 'fans': 1689, 'sour': 4207, 'surprisingly': 4429, 'considered': 973, 'released': 3693, 'mexican': 2866, 'understood': 4764, 'matter': 2800, 'identified': 2276, 'ranks': 3593, 'noir': 3048, 'crime': 1096, 'belmondo': 456, 'lino': 2655, 'ventura': 4879, 'complex': 931, 'psychological': 3530, 'portrayals': 3422, 'detailing': 1248, 'loyalty': 2721, 'treachery': 4680, 'hope': 2215, 'melville': 2839, 'journey': 2479, 'eyes': 1659, 'soul': 4200, 'water': 4981, 'manages': 2768, 'transcend': 4666, 'limitations': 2645, 'indie': 2338, 'continually': 994, 'subverting': 4376, 'emerge': 1508, 'intense': 2389, 'gripping': 2041, 'crocdodile': 1101, 'indeed': 2332, 'believed': 449, 'crocs': 1102, 'swamp': 4438, 'location': 2674, 'thoroughly': 4561, 'christopher': 827, 'eccleston': 1465, 'tardis': 4476, 'continuation': 995, 'disturbing': 1332, 'memories': 2843, 'succeeded': 4378, 'pi': 3330, 'jerky': 2458, 'camerawork': 671, 'theater': 4532, 'sick': 4066, 'summary': 4400, 'witticisms': 5073, 'weren': 5016, 'witty': 5074, 'billy': 478, 'bob': 522, 'rise': 3789, 'finale': 1749, 'possibly': 3429, 'trilogy': 4693, 'kieslowski': 2518, 'ceases': 735, 'amaze': 199, 'favourite': 1709, 'directors': 1289, 'colours': 887, 'flag': 1772, 'shot': 4052, 'visually': 4918, 'subtle': 4374, 'connections': 964, 'spoiler': 4245, 'remaining': 3699, 'survivors': 4433, 'ferry': 1727, 'valentine': 4859, 'judge': 2483, 'solidifying': 4174, 'happiness': 2099, 'suffering': 4390, 'dealt': 1163, 'smile': 4147, 'wrap': 5113, 'vomited': 4930, 'roth': 3818, 'pearls': 3279, 'awarded': 349, 'eloquently': 1499, 'francis': 1858, 'ford': 1833, 'coppola': 1023, '25': 32, 'unfolds': 4774, 'gradually': 2011, 'leaves': 2599, 'develop': 1251, 'wonderful': 5081, 'lies': 2628, 'contrast': 1001, 'nicola': 3036, 'roeg': 3807, 'wih': 5045, 'sublime': 4368, 'translating': 4672, 'offensive': 3100, 'intelligence': 2386, 'strives': 4340, 'greatness': 2026, 'poetry': 3396, 'muddled': 2964, 'disparate': 1318, 'reviewer': 3761, 'accurately': 106, 'defined': 1192, 'intelligent': 2387, 'masterful': 2794, 'sense': 3970, 'human': 2248, 'nature': 2999, 'tolerate': 4619, 'political': 3405, 'incorrectness': 2327, 'artistic': 294, 'suspension': 4436, 'disbelief': 1301, 'slavic': 4116, 'female': 1725, 'entertaining': 1545, 'outlandish': 3169, 'array': 284, 'memorable': 2842, 'psychotic': 3531, 'lovable': 2709, 'nuts': 3082, 'enjoyment': 1539, 'dangerous': 1145, 'sweet': 4440, 'repair': 3714, 'reactions': 3615, 'bitchy': 488, 'boss': 551, 'smart': 4140, 'twist': 4728, 'shed': 4024, 'tear': 4493, 'seeing': 3956, 'underneath': 4758, 'malta': 2763, 'settings': 4000, 'dry': 1416, 'barren': 396, 'hockey': 2192, 'defensemen': 1189, 'goalies': 1983, 'diving': 1335, 'wide': 5041, 'net': 3023, 'relationship': 3685, 'bakery': 378, 'assistant': 309, 'waitress': 4945, 'superficial': 4411, 'stagey': 4259, 'stage': 4258, 'farce': 1693, 'pyromaniac': 3563, 'waylaid': 4988, 'bored': 547, 'switched': 4443, 'laugh': 2580, 'yawn': 5126, 'educational': 1474, 'barney': 395, 'de': 1156, 'duper': 1426, 'babie': 363, 'bop': 542, 'storm': 4318, 'trooper': 4701, 'guy': 2059, 'potted': 3436, 'plants': 3363, 'shameful': 4014, 'television': 4504, 'writers': 5117, 'smack': 4136, 'actresses': 125, 'bonus': 534, 'taped': 4475, 'episodes': 1554, 'latched': 2571, 'endearing': 1525, 'become': 429, 'special': 4223, 'wholesome': 5036, 'sibling': 4065, 'bond': 531, 'unneeded': 4800, 'controversy': 1007, 'damian': 1141, 'versatile': 4887, 'ways': 4990, 'portraying': 3424, 'cutting': 1136, 'modern': 2909, 'passion': 3254, 'drive': 1406, 'taking': 4464, 'forgetting': 1840, 'ireland': 2420, 'scared': 3896, 'horrified': 2225, 'sympathetic': 4448, 'towards': 4649, 'movements': 2952, 'attempts': 327, 'supposed': 4417, 'situation': 4105, 'leave': 2598, 'shelf': 4026, 'elias': 1497, 'koteas': 2537, 'palance': 3224, 'angelina': 221, 'naked': 2987, 'drago': 1379, 'cameo': 669, 'sven': 4437, 'ole': 3116, 'thorsen': 4562, 'enjoyable': 1537, 'ebay': 1463, 'poler': 3403, 'bear': 419, 'kinda': 2524, 'question': 3570, 'fort': 1846, 'steele': 4289, 'unrealistic': 4807, 'throughout': 4576, '90': 66, 'looked': 2687, '70000': 56, 'lucy': 2724, 'bell': 450, 'higher': 2170, 'sink': 4094, 'slackers': 4115, 'excuses': 1620, 'actions': 118, 'god': 1985, 'parts': 3251, 'excerpts': 1609, 'sets': 3998, 'stylized': 4363, 'exemplars': 1622, 'designer': 1233, 'stories': 4317, 'powerful': 3440, 'explorations': 1643, 'learn': 2594, 'politics': 3407, 'japanese': 2447, 'rendering': 3708, 'america': 206, 'imperial': 2301, 'values': 4862, 'faultless': 1703, 'photography': 3327, 'composition': 935, 'underappreciated': 4753, 'brian': 580, 'keith': 2505, 'bully': 624, 'teddy': 4498, 'vivid': 4921, 'largely': 2560, 'member': 2840, 'identify': 2278, 'sean': 3937, 'connery': 965, 'noble': 3044, 'brigand': 583, 'candace': 680, 'bergen': 463, 'feisty': 1719, 'heroine': 2163, 'huston': 2264, 'wily': 5052, 'hay': 2118, 'steve': 4299, 'kanaly': 2498, 'spiffy': 4238, 'radiant': 3585, 'ruthless': 3836, 'lieutenant': 2629, 'roosevelt': 3816, 'stick': 4301, 'adventure': 144, 'robert': 3800, 'ryans': 3838, 'portrayed': 3423, 'schizophrenic': 3904, 'murdered': 2972, 'affected': 149, 'second': 3946, 'war': 4958, 'humour': 2257, 'apt': 272, 'brother': 595, 'ryan': 3837, 'imitation': 2297, 'individual': 2339, 'fashioned': 1698, 'tuneful': 4719, 'rita': 3792, 'hayworth': 2120, 'pedestal': 3284, 'example': 1598, 'hollywood': 2203, 'exploit': 1642, 'financial': 1751, 'gain': 1917, 'linear': 2649, 'narration': 2992, 'thus': 4584, 'flashbacks': 1777, 'articulated': 291, 'monica': 2919, 'bellucci': 454, 'commentary': 905, 'undoubtedly': 4768, 'timers': 4597, 'popular': 3414, 'laughs': 2584, 'northern': 3061, 'positive': 3425, 'community': 914, 'represents': 3725, 'created': 1085, 'unique': 4786, 'vivian': 4920, 'schilling': 3903, '95': 67, 'theatres': 4534, 'role': 3808, 'screamy': 3919, 'masculine': 2790, 'casted': 722, 'european': 1577, 'throwback': 4577, 'student': 4348, '1980': 19, 'experiences': 1636, 'abroad': 77, 'interacting': 2392, 'nationalities': 2996, 'circumstances': 836, 'slightly': 4128, 'fan': 1686, 'ticker': 4586, 'buildings': 619, 'locations': 2675, 'hummh': 2252, 'angel': 218, 'scamp': 3894, 'yelps': 5135, 'hes': 2165, 'funniest': 1907, 'caught': 728, 'curtain': 1124, 'ive': 2438, 'edition': 1473, 'lid': 2626, 'romantic': 3814, 'charming': 777, 'junkyard': 2491, 'dogs': 1347, 'laughed': 2582, 'chosen': 823, 'tortured': 4640, 'blatant': 504, 'american': 207, 'propaganda': 3509, 'americans': 208, 'hatred': 2110, 'clichés': 850, 'admitted': 141, 'involved': 2411, 'school': 3905, 'pile': 3338, 'round': 3820, 'admins': 139, 'thunderbirds': 4583, 'motion': 2939, 'needlessly': 3011, 'repeats': 3717, 'backed': 369, 'continuity': 998, 'thrown': 4578, 'vehicles': 4876, 'corn': 1028, 'flakes': 1774, 'box': 561, 'directorial': 1288, 'style': 4359, 'bordered': 543, 'stupidity': 4356, 'proud': 3517, 'filmmaker': 1745, 'nor': 3057, 'hide': 2168, 'sand': 3864, 'monumental': 2927, 'halfway': 2073, 'embarrassed': 1504, 'howell': 2242, 'nut': 3081, 'bag': 375, 'stephen': 4294, 'mchattie': 2807, 'lance': 2552, 'hendrikson': 2156, 'raging': 3586, 'cheekbones': 789, 'professionals': 3496, 'debbie': 1166, 'rochon': 3802, 'contributory': 1003, 'former': 1845, 'chimp': 810, 'tolerable': 4617, 'oy': 3204, 'vey': 4893, 'scale': 3892, 'simplifying': 4086, 'sake': 3850, 'brevity': 579, 'fulfilling': 1896, 'jobs': 2468, 'amusing': 213, 'convoluted': 1017, 'convince': 1015, 'questioning': 3571, 'glance': 1973, 'bela': 446, 'lugosi': 2725, 'extraneous': 1654, 'intoning': 2405, 'decidely': 1174, 'period': 3302, 'universal': 4790, 'armand': 281, 'assante': 307, 'tying': 4731, 'score': 3912, 'frightening': 1881, 'comprehensible': 936, 'hang': 2090, 'camp': 672, 'expecting': 1632, 'oscar': 3158, 'iq': 2417, 'particularly': 3249, 'mollusk': 2913, 'loosely': 2693, 'insult': 2379, 'public': 3533, 'knew': 2530, 'string': 4337, 'lower': 2718, 'fox': 1854, 'scripts': 3930, 'victor': 4896, 'mclaglen': 2808, 'donlevy': 1354, 'unrecognizable': 4808, 'relations': 3684, 'taylor': 4487, 'stanwyck': 4265, 'surprising': 4428, 'president': 3463, 'death': 1164, 'entirely': 1549, 'unmoving': 4798, 'producer': 3490, 'gifted': 1961, 'cheerless': 791, 'heist': 2142, 'characterisation': 763, 'underbite': 4754, 'stoic': 4309, 'emoting': 1511, 'chow': 825, 'yun': 5149, 'fat': 1701, 'tomorrow': 4622, 'cheesy': 796, 'abandoned': 70, 'factory': 1668, 'executed': 1621, 'flying': 1808, 'judo': 2486, 'rolls': 3813, 'la': 2543, 'woo': 5086, 'squibs': 4255, 'proceedings': 3485, 'remotely': 3706, 'derivative': 1220, 'mercy': 2852, 'killing': 2521, 'hopeless': 2218, 'overacting': 3181, 'space': 4214, 'uneasy': 4769, 'composed': 934, '30': 34, 'footage': 1827, 'elderly': 1492, 'awkwardly': 355, 'babbling': 362, 'overwrought': 3195, 'pseudo': 3528, 'satanic': 3874, 'gibberish': 1960, 'corny': 1029, 'teen': 4500, 'goth': 2003, 'blush': 519, 'olde': 3114, 'english': 1534, 'latin': 2577, 'sloppy': 4132, 'hackneyed': 2066, 'blah': 496, 'balanced': 381, 'underacting': 4752, 'competent': 922, 'jerry': 2459, 'falwell': 1680, 'starring': 4268, 'jaclyn': 2442, 'smith': 4149, 'opened': 3131, 'length': 2609, 'lifetime': 2631, 'air': 167, 'sells': 3965, 'assaulted': 308, 'strident': 4335, 'cords': 1026, 'blare': 503, 'sort': 4198, 'pap': 3238, 'screened': 3921, 'afternoon': 155, 'punish': 3544, 'unemployed': 4770, 'understatement': 4763, 'comedy': 894, 'creates': 1086, 'universe': 4791, 'fascinating': 1696, 'team': 4491, 'behind': 442, 'trond': 4700, 'fausa': 1704, 'aurvåg': 335, 'bothersome': 554, 'humorous': 2256, 'comment': 904, '2006': 26, 'move': 2950, 'initially': 2357, 'local': 2672, 'sites': 4102, 'filmed': 1743, 'buffalo': 612, 'intrigued': 2406, 'applauded': 264, 'conclusion': 948, 'lilt': 2644, 'heart': 2133, 'race': 3582, 'duris': 1429, 'views': 4902, 'barcelona': 390, 'famed': 1682, 'gaudi': 1932, 'towers': 4650, 'ten': 4509, 'thoughts': 4566, 'dislike': 1315, 'despised': 1239, 'rough': 3819, 'draft': 1377, 'shooting': 4045, 'began': 439, 'completed': 929, 'happen': 2094, 'personalities': 3309, 'change': 757, 'twists': 4729, 'occur': 3093, 'irritating': 2426, 'indescribably': 2333, 'idiotic': 2280, 'season': 3939, 'contains': 992, 'cheesiness': 795, 'unethical': 4771, 'nc': 3003, '17': 9, 'final': 1748, 'zillion': 5152, 'reality': 3623, 'washing': 4971, 'twirling': 4727, 'grade': 2010, '20th': 28, 'century': 747, 'road': 3796, '1948': 14, 'silly': 4079, 'implausible': 2302, 'unmitigated': 4797, 'unconvincing': 4750, 'blandly': 501, 'edward': 1475, 'chodorov': 818, 'produced': 3489, 'jean': 2452, 'negulesco': 3016, 'widmark': 5042, 'unintentionally': 4783, 'comical': 901, 'marbles': 2776, 'early': 1447, 'marred': 2784, 'constant': 978, 'studio': 4350, 'indoor': 2340, 'exteriors': 1651, 'prompted': 3506, 'documentary': 1342, 'serious': 3986, 'start': 4270, 'martin': 2787, 'middle': 2874, 'aged': 159, 'upper': 4830, 'class': 839, 'uptight': 4833, 'betty': 468, 'mistakes': 2902, 'racial': 3583, 'jokes': 2476, 'offend': 3099, 'littered': 2663, 'overt': 3193, 'slurs': 4135, 'members': 2841, 'whites': 5031, 'depicted': 1216, 'morons': 2934, 'boobs': 536, 'aside': 299, 'lets': 2619, 'destroy': 1244, 'latifa': 2576, 'wouldnt': 5109, 'steamboat': 4288, 'willie': 5051, 'amazingly': 202, 'mickey': 2870, 'mouse': 2946, 'plane': 3356, 'famous': 1685, 'ground': 2047, 'tons': 4627, 'granted': 2015, 'crowd': 1106, 'pleaser': 3378, '1928': 12, 'timeless': 4595, 'turkey': 4721, 'straw': 4328, 'imaginative': 2293, 'cruel': 1109, 'among': 209, '80': 59, 'bipolarity': 481, 'thug': 4580, 'luv': 2730, 'diaper': 1263, 'commercial': 908, 'terribly': 4518, 'awards': 350, 'accolades': 98, 'deserving': 1230, 'body': 525, '1947': 13, 'garfield': 1929, 'ann': 231, 'revere': 3757, 'lilli': 2643, 'plmer': 3385, 'william': 5050, 'conrad': 969, 'lee': 2601, 'cinematographers': 832, 'james': 2445, 'wong': 5083, 'howe': 2241, 'qualities': 3567, 'shame': 4013, 'thomerson': 4559, 'credit': 1091, '1986': 20, 'version': 4888, 'watchable': 4978, 'professor': 3497, 'dumb': 1423, 'established': 1570, 'zombie': 5153, 'students': 4349, 'necklace': 3007, 'containing': 991, 'meteorite': 2864, 'matthews': 2801, 'wrote': 5122, '1995': 21, 'monster': 2923, 'grim': 2037, 'pace': 3206, 'lighting': 2634, 'aspects': 305, 'lack': 2545, 'notable': 3064, 'gore': 1998, 'convention': 1010, 'past': 3255, 'cg': 750, 'opening': 3132, 'sequence': 3982, 'slideshow': 4125, 'explosion': 1644, 'gas': 1931, 'tanks': 4471, 'okay': 3112, 'fair': 1672, 'critic': 1099, 'creature': 1089, 'gotta': 2004, 'slimy': 4130, 'drooling': 1410, 'teeth': 4502, 'sum': 4398, 'breeders': 577, 'avoided': 346, 'ebola': 1464, 'virus': 4912, 'comedic': 893, 'timing': 4599, 'debits': 1167, 'popcorn': 3413, 'borders': 545, 'lewis': 2624, 'considerable': 972, 'incendiary': 2316, 'unrestrained': 4812, 'sole': 4171, 'bright': 584, 'spot': 4248, 'recent': 3640, 'superbad': 4408, 'interim': 2397, 'originality': 3153, 'freshness': 1873, 'offer': 3101, 'evidently': 1592, 'limited': 2646, 'reflected': 3662, 'par': 3241, 'borrowed': 549, 'filmiing': 1744, 'expansive': 1628, 'convey': 1014, 'broad': 591, 'sweep': 4439, 'landscapes': 2554, 'sign': 4071, 'asleep': 303, 'trashy': 4678, 'precisely': 3446, 'proudly': 3518, 'classical': 841, 'wb': 4992, 'cartoons': 712, 'toons': 4633, 'vibe': 4895, 'delivered': 1208, 'underrated': 4759, 'murky': 2974, 'related': 3682, 'tender': 4510, 'dark': 1146, 'sitcoms': 4100, 'oriented': 3151, 'teenagers': 4501, 'peculiarity': 3283, 'deserved': 1228, 'element': 1496, 'excessively': 1611, 'phony': 3324, 'contrived': 1004, 'sit': 4099, 'fifteen': 1733, 'um': 4739, 'perabo': 3292, 'excuse': 1619, 'volcano': 4926, 'honest': 2209, 'unbelievable': 4745, 'nonsense': 3055, 'foolish': 1825, 'accents': 86, 'abysmal': 83, 'hypocrisy': 2268, 'vomit': 4929, 'rubbish': 3827, 'researched': 3731, 'pitch': 3345, 'omit': 3121, 'instant': 2372, 'catchy': 726, 'credits': 1092, 'miss': 2898, 'simmering': 4083, 'boiling': 528, 'warts': 4967, 'poet': 3395, 'bohemian': 526, 'wartime': 4966, 'bombardments': 530, 'london': 2682, 'outward': 3178, 'tranquillity': 4664, 'welsh': 5013, 'coastal': 868, 'retreat': 3751, 'borderlines': 544, 'friendship': 1879, 'lust': 2729, 'dedication': 1181, 'versus': 4889, 'concerns': 946, 'jealousy': 2451, 'rivalry': 3793, 'cowardice': 1059, 'egotism': 1487, 'heroism': 2164, 'sacrifice': 3843, 'suggests': 4396, 'brings': 589, 'focus': 1812, 'underlying': 4757, 'tensions': 4513, 'served': 3990, 'inappropriate': 2315, 'smiling': 4148, 'keira': 2504, 'knightley': 2531, 'prone': 3508, 'exquisite': 1646, 'inventive': 2408, 'pointillistic': 3399, 'behold': 444, 'continuously': 999, 'bertolucci': 464, 'relationships': 3686, 'engaging': 1532, 'sidelined': 4068, 'inexplicable': 2349, 'crew': 1095, 'regardless': 3671, 'errol': 1562, 'flynn': 1809, 'custer': 1126, 'alongside': 190, 'olivia': 3118, 'havilland': 2115, 'known': 2535, 'dads': 1138, 'grew': 2033, 'realised': 3621, 'jim': 2465, 'connor': 968, 'energetic': 1530, 'george': 1951, 'dull': 1422, 'hosting': 2231, 'overs': 3192, 'monotonous': 2922, 'guests': 2056, 'shenanigans': 4029, 'surrounding': 4430, 'spy': 4254, 'kidnapped': 2516, 'nasty': 2994, 'foreign': 1834, 'random': 3590, 'taxidermists': 4486, 'stewart': 4300, 'hero': 2161, 'rips': 3788, 'climax': 854, 'embassy': 1506, 'brooding': 594, 'menace': 2846, 'nevertheless': 3027, 'stable': 4256, 'excellently': 1604, 'tops': 4637, 'typical': 4733, 'sci': 3909, 'producers': 3491, 'scot': 3913, 'vandiver': 4864, 'nonetheless': 3054, 'campy': 673, 'delight': 1203, 'bendingly': 461, 'scares': 3897, 'medical': 2825, 'terminology': 4515, 'iffy': 2283, 'insulin': 2378, 'dependant': 1213, 'diabetic': 1258, 'revealing': 3755, 'complexity': 932, 'task': 4479, 'challenges': 755, 'facing': 1665, 'south': 4210, 'africa': 153, 'attempted': 325, 'truth': 4711, 'reconciliation': 3652, 'process': 3486, 'magnificent': 2744, 'woven': 5111, 'splendid': 4241, 'view': 4899, 'subtitles': 4373, 'aversion': 343, 'therapy': 4544, 'shakespear': 4009, 'macbeth': 2734, 'jason': 2448, 'moved': 2951, 'tears': 4494, 'monolog': 2921, 'brief': 582, 'candle': 681, 'sphere': 4233, 'moral': 2930, 'decay': 1170, 'forces': 1832, 'helen': 2144, 'baxendale': 413, 'credible': 1090, 'lady': 2550, 'cheerfull': 790, 'naughty': 3000, 'deadly': 1158, 'taste': 4480, 'evil': 1593, 'shakespears': 4010, 'lyrics': 2731, 'delightful': 1204, 'adaptation': 130, 'dr': 1375, 'seuss': 4002, 'brilliantly': 587, 'animated': 228, 'upa': 4822, 'finest': 1755, 'academy': 85, 'award': 348, 'integral': 2383, 'helping': 2153, 'bailey': 377, 'beautifully': 424, 'costumes': 1037, 'eiko': 1489, 'ishioka': 2428, 'dracula': 1376, '1971': 16, 'format': 1844, 'baaaaaad': 360, 'collect': 880, 'extant': 1647, 'austen': 336, 'consolations': 977, 'speaking': 4222, 'unbearably': 4744, 'kitchy': 2528, 'ball': 382, 'raw': 3608, 'sublimely': 4369, 'theatrical': 4535, 'terror': 4520, 'lie': 2627, 'escalating': 1564, 'monstrous': 2924, 'consequences': 970, 'mesmerising': 2856, 'wilkinson': 5048, 'judging': 2484, 'fumbling': 1900, 'hankies': 2092, 'faces': 1663, 'males': 2761, 'females': 1726, 'alike': 178, 'julian': 2488, 'fellowes': 1723, 'triumphed': 4699, 'national': 2995, 'treasure': 4681, 'phrase': 3328, 'owed': 3196, 'kris': 2538, 'kristoffersen': 2539, 'difference': 1270, 'documentaries': 1341, 'marriage': 2785, 'errors': 1563, 'commented': 906, 'cars': 708, 'garage': 1924, 'joe': 2469, 'facial': 1664, 'configuration': 954, 'inspiration': 2366, 'overcome': 3183, 'rejection': 3680, 'punishment': 3545, 'park': 3244, 'southern': 4211, 'california': 661, 'desert': 1227, 'patent': 3259, 'watkins': 4984, 'peter': 3311, 'accessible': 91, 'thinking': 4554, 'miserable': 2893, 'hollow': 2202, 'laughable': 2581, 'angela': 219, 'bennett': 462, 'expert': 1638, 'pretext': 3465, 'repeating': 3716, 'robotic': 3801, 'moves': 2953, 'delete': 1198, 'begin': 440, 'ass': 306, 'uncalled': 4747, 'geek': 1936, 'bible': 472, 'thumper': 4582, 'heard': 2131, 'cole': 878, 'pulling': 3539, 'equivalent': 1557, 'dickens': 1264, 'carol': 701, 'sensibility': 3972, 'success': 4380, 'depends': 1215, 'sydney': 4447, 'greenstreet': 2031, 'yardley': 5125, 'pleasing': 3379, 'rpg': 3824, 'disgrace': 1308, 'respecting': 3737, 'rpger': 3825, 'youtube': 5144, 'lassie': 2564, 'sleep': 4119, 'painfully': 3218, 'dreary': 1393, 'waster': 4975, 'becomes': 430, 'forgettable': 1839, 'achievement': 109, 'shell': 4027, 'kid': 2514, 'barking': 394, 'transfers': 4669, 'relaxing': 3691, 'late': 2572, 'title': 4606, 'handles': 2083, 'tough': 4648, 'dignity': 1273, 'shocking': 4042, 'whenever': 5022, 'memorized': 2844, 'fishnet': 1766, 'stockings': 4308, 'astonishingly': 312, 'ham': 2075, 'fisted': 1767, 'earth': 1455, 'irons': 2424, 'emily': 1510, 'watson': 4985, 'unconditional': 4749, 'prepared': 3457, 'ordeal': 3145, 'progresses': 3501, 'anguish': 225, 'pans': 3235, 'reviewers': 3762, 'interview': 2403, 'vampire': 4863, 'lestat': 2616, 'stuart': 4346, 'townsend': 4652, 'cruise': 1110, 'aailiyah': 69, 'akasha': 171, 'compelling': 920, 'entrance': 1550, 'dance': 1143, 'rice': 3770, 'sensitivities': 3974, 'treatments': 4684, 'details': 1249, 'dysfunction': 1437, 'football': 1828, 'perplexing': 3306, 'skilled': 4111, 'meredith': 2854, 'sentiment': 3977, 'maker': 2756, 'worthy': 5106, 'trap': 4676, 'syrupy': 4451, 'nine': 3041, 'goremeister': 1999, 'lucio': 2722, 'fulci': 1895, 'giallo': 1958, 'sub': 4365, 'genre': 1946, 'italian': 2433, 'thrillers': 4574, '70': 55, 'standout': 4264, 'unpleasant': 4802, 'technically': 4496, 'riz': 3795, 'ortolani': 3156, 'recurring': 3654, 'unaccompanied': 4742, 'vocal': 4922, 'distant': 1326, 'beginning': 441, 'dustin': 1431, 'hoffman': 2193, 'personally': 3310, 'involving': 2413, 'issue': 2430, 'tired': 4605, 'thick': 4549, 'ps': 3526, 'blown': 512, 'jennifer': 2455, 'rubin': 3828, 'harris': 2104, 'changes': 758, 'nervous': 3022, 'starlet': 4267, 'events': 1583, 'emotions': 1514, 'coach': 866, 'snow': 4159, 'ultra': 4738, 'result': 3747, 'exciting': 1615, 'slightest': 4127, 'uniqueness': 4787, 'foreigner': 1835, '1973': 17, 'stranger': 4324, 'duet': 1421, 'astronaut': 313, 'doctor': 1340, 'considers': 975, 'cold': 876, 'ussr': 4847, 'scream': 3917, 'scare': 3895, 'extraordinary': 1655, 'courtroom': 1053, 'indictment': 2337, 'justice': 2494, 'system': 4452, 'highlights': 2174, 'fundamental': 1906, 'legal': 2604, 'discovering': 1306, 'guilt': 2057, 'innocence': 2358, 'court': 1051, 'understated': 4762, 'routine': 3821, 'based': 401, 'constantine': 979, 'intensity': 2390, 'motivations': 2940, 'inspiring': 2368, 'stinker': 4304, 'smells': 4146, 'direct': 1281, 'release': 3692, 'trek': 4685, 'frontier': 1885, 'includes': 2320, 'shatner': 4020, 'nimoy': 3040, 'washed': 4970, 'tacky': 4455, 'spock': 4242, 'rescue': 3729, 'kirk': 2526, 'jet': 2462, 'mountain': 2945, 'humor': 2255, 'dosen': 1360, 'involves': 2412, 'vulcan': 4934, 'stealing': 4287, 'enterprise': 1543, 'uhura': 4737, 'belly': 455, 'distract': 1329, 'male': 2760, 'guards': 2053, 'phenomenal': 3317, 'opinion': 3138, 'subjects': 4367, 'jay': 2450, 'adams': 129, 'unfortunate': 4776, 'subject': 4366, 'neil': 3019, 'evokes': 1595, '70s': 58, 'grainy': 2013, 'enhanced': 1535, 'delights': 1205, 'surprises': 4427, 'achille': 110, 'philippa': 3319, 'sing': 4090, 'giovanni': 1963, 'describes': 1223, 'appreciate': 269, 'layers': 2587, '18th': 11, 'jutland': 2495, 'instruments': 2377, 'general': 1940, 'loewenhielm': 2679, 'partaking': 3247, 'cailles': 656, 'en': 1521, 'sarcophage': 3871, 'sample': 3861, 'savor': 3887, 'impression': 2306, 'generates': 1942, 'austere': 337, 'backdrop': 368, 'wanting': 4956, 'notch': 3065, 'fleshed': 1790, 'grimes': 2038, 'blake': 497, 'deliver': 1207, 'sharply': 4019, 'scripted': 3928, 'deadpan': 1159, 'tongue': 4625, 'cheek': 788, 'angus': 226, 'scrimm': 3926, 'gently': 1948, 'menacing': 2847, 'violin': 4908, 'anatomist': 215, 'entertained': 1544, 'struggle': 4345, 'phantasm': 3316, '40': 41, '1949': 15, 'collective': 881, 'heads': 2126, 'concerning': 945, 'kudos': 2541, 'juano': 2482, 'hernandez': 2160, 'supporting': 4416, 'murdering': 2973, 'trumbull': 4707, 'reminded': 3703, 'evinced': 1594, 'faithful': 1674, 'joyce': 2481, 'acclaimed': 97, 'novella': 3072, 'feelings': 1716, 'gabriel': 1914, 'intangibles': 2382, 'leap': 2593, 'viewer': 4900, 'grasp': 2017, 'wondered': 5080, 'shortlist': 4051, 'emperor': 1515, 'spend': 4229, 'childhood': 805, 'surely': 4422, 'coherent': 875, 'force': 1830, 'obliged': 3085, 'write': 5115, 'creative': 1087, 'subplots': 4372, 'native': 2997, 'eating': 1462, 'brainsucking': 568, 'further': 1909, 'telly': 4506, 'savalas': 3882, 'boyle': 565, '54': 52, 'sheer': 4025, 'tedium': 4499, 'melodrama': 2836, 'sinking': 4095, 'lord': 2695, 'decisions': 1177, 'atrocious': 318, 'stinks': 4305, 'establish': 1569, 'follows': 1819, 'band': 387, 'latter': 2579, 'mansonites': 2772, 'reporter': 3724, 'anniversary': 233, 'killings': 2522, 'spoil': 4243, 'indication': 2336, 'writer': 5116, 'meld': 2834, 'volatile': 4925, 'temperaments': 4508, 'seamless': 3935, 'union': 4785, 'creativity': 1088, 'powerhouse': 3441, 'fascination': 1697, 'celebrity': 737, 'interpretations': 2402, 'fame': 1681, 'forgotten': 1842, 'kevin': 2507, 'spacey': 4216, 'verbal': 4883, 'tsunami': 4715, 'buddy': 609, 'ackerman': 111, 'scripting': 3929, 'unmatched': 4796, 'ages': 160, 'younger': 5140, 'references': 3660, 'galley': 1919, 'pm': 3391, '8pm': 65, '15pm': 8, 'forwarded': 1850, 'horrendously': 2222, 'captain': 689, 'howdy': 2240, 'semi': 3966, 'truck': 4703, 'linda': 2647, 'cardellini': 696, 'poised': 3401, 'dee': 1182, 'snider': 4158, 'act': 114, 'villains': 4904, 'damn': 1142, 'pacing': 3208, 'suck': 4383, 'sophisticated': 4193, 'miserably': 2894, 'unoriginal': 4801, 'cinematic': 831, 'captured': 690, 'celluloid': 742, 'stayed': 4281, 'supernatural': 4413, 'consistent': 976, 'thread': 4568, 'leni': 2610, 'parker': 3245, 'anita': 230, 'laselva': 2563, 'taelons': 4458, 'idealogical': 2275, 'centers': 745, 'atmosphere': 317, 'puppets': 3547, 'puppet': 3546, 'flicks': 1792, 'explains': 1640, 'sinister': 4093, 'origins': 3155, 'insomniacs': 2365, 'heartwarming': 2135, 'chasing': 779, 'dreams': 1392, 'nurse': 3080, 'unpredictability': 4803, 'labute': 2544, 'uses': 4845, 'brutal': 603, 'violence': 4907, 'seperate': 3978, 'secondary': 3947, 'incomprehensible': 2323, 'relation': 3683, 'primary': 3476, 'mystifying': 2984, 'shelves': 4028, 'doubt': 1362, 'warn': 4962, 'dumbest': 1424, 'hbo': 2121, 'hopefully': 2217, 'cox': 1060, 'win': 5053, 'agree': 163, 'jessica': 2460, 'dimensional': 1275, 'guys': 2060, 'elaborately': 1491, 'aesthetically': 148, 'sculpture': 3931, 'soap': 4162, 'operas': 3134, 'hip': 2183, 'pray': 3445, 'charismatic': 773, 'paolo': 3237, 'sorrentino': 4196, 'loneliness': 2683, 'tony': 4628, 'unforgettable': 4775, 'titta': 4607, 'di': 1257, 'girolamo': 1967, 'vision': 4913, 'emilio': 1509, 'estevez': 1573, 'debut': 1168, 'interplay': 2401, 'suggest': 4394, 'natural': 2998, 'street': 4331, 'charlie': 775, 'kathy': 2499, 'bates': 407, 'desperation': 1237, 'escapism': 1565, 'variation': 4866, 'fields': 1732, 'readers': 3617, 'miyazaki': 2904, 'condescends': 950, 'hearts': 2134, 'arts': 296, 'daughters': 1153, 'paint': 3219, 'photograph': 3326, 'poignant': 3397, 'realized': 3625, 'closed': 861, 'depicts': 1217, 'alert': 176, 'decipher': 1175, 'meanings': 2816, 'matrix': 2799, 'sequels': 3981, 'mindblowing': 2883, 'dream': 1390, 'rickman': 3773, 'stowe': 4322, 'hilt': 2179, 'childrens': 807, 'subversive': 4375, 'tract': 4658, 'gloriously': 1977, 'accurate': 105, 'raver': 3605, 'idyllic': 2281, 'downs': 1370, 'groove': 2044, 'antithesis': 242, 'traffic': 4660, 'crowe': 1108, 'picked': 3332, 'government': 2007, 'scientist': 3911, 'argued': 277, 'humanity': 2249, 'reasons': 3630, 'dwight': 1434, 'schultz': 3908, 'sincere': 4089, 'critical': 1100, 'gorman': 2000, 'bechard': 428, 'homework': 2207, 'appropriate': 270, 'captures': 691, 'essence': 1567, 'track': 4655, 'commands': 903, 'contributing': 1002, 'threshold': 4570, 'hayao': 2119, 'eighth': 1488, 'ghibili': 1957, 'gake': 1918, 'ue': 4734, 'ponyo': 3408, 'cliff': 853, 'animation': 229, 'dominated': 1351, 'disney': 1317, 'pixar': 3347, 'cgi': 751, 'refreshing': 3664, 'comforting': 900, 'relying': 3698, 'traditional': 4659, 'drawn': 1389, 'enchanting': 1522, 'remarkable': 3701, 'crayon': 1078, 'pencil': 3286, 'drawings': 1388, 'colorful': 885, 'fanciful': 1687, 'drift': 1400, 'wants': 4957, 'surf': 4423, 'wave': 4986, '1998': 22, 'deep': 1183, 'impact': 2299, 'armageddon': 280, 'choked': 821, 'yourself': 5142, 'vessel': 4891, 'taken': 4461, 'mighty': 2876, 'frost': 1886, 'added': 134, 'bonuses': 535, 'fest': 1728, 'spoiled': 4244, 'brat': 570, 'babysitting': 365, 'sundays': 4404, 'march': 2777, 'judith': 2485, 'sad': 3844, 'cutie': 1133, 'confidence': 953, 'riot': 3785, 'hugo': 2247, 'weaving': 4999, 'obsessed': 3086, 'gay': 1934, 'estate': 1572, 'salesman': 3853, 'clients': 852, 'houses': 2238, 'trysts': 4714, 'flaming': 1775, 'darren': 1148, 'hollander': 2201, 'flowed': 1803, 'bonding': 532, 'hoot': 2214, 'lange': 2556, 'jessice': 2461, 'clothes': 862, 'virtue': 4911, 'regrettable': 3674, 'exceptionally': 1608, 'crust': 1112, 'tasty': 4484, 'texture': 4523, 'bank': 388, 'holiday': 2200, 'rick': 3772, 'recommendation': 3649, 'selection': 3961, 'menu': 2850, 'prices': 3472, 'pho': 3320, 'honeslty': 2208, 'potatoes': 3434, 'ahead': 165, 'warmer': 4960, 'fries': 1880, 'cashier': 717, 'wayyy': 4991, 'overpriced': 3190, 'cape': 687, 'cod': 873, 'ravoli': 3607, 'chicken': 802, 'cranberry': 1070, 'mmmm': 2905, 'disgusted': 1311, 'shocked': 4041, 'indicate': 2335, 'cash': 715, 'vegas': 4870, 'burrittos': 630, 'food': 1822, 'interior': 2398, 'velvet': 4877, 'cake': 657, 'ohhh': 3109, 'brought': 596, 'salad': 3851, 'asked': 301, 'hole': 2198, 'tacos': 4457, 'staff': 4257, 'tables': 4454, 'restaurant': 3741, 'luke': 2726, 'warm': 4959, 'sever': 4003, 'overwhelmed': 3194, 'salmon': 3854, 'sashimi': 3872, 'combos': 891, 'burger': 627, 'beer': 436, '23': 30, 'blow': 511, 'accident': 95, 'grab': 2008, 'bite': 489, 'familiar': 1683, 'pub': 3532, 'favor': 1707, 'portions': 3419, 'waiter': 4943, 'table': 4453, 'visit': 4914, 'hiro': 2184, 'shrimp': 4063, 'moist': 2911, 'establishment': 1571, 'grossed': 2046, 'melted': 2838, 'styrofoam': 4364, 'eat': 1460, 'server': 3991, 'attentive': 329, 'frozen': 1887, 'pucks': 3535, 'disgust': 1310, 'register': 3672, 'rib': 3768, 'dessert': 1241, 'section': 3950, 'beef': 432, 'cooked': 1019, 'sandwich': 3866, 'firehouse': 1763, 'greek': 2028, 'dressing': 1396, 'pita': 3344, 'hummus': 2254, 'duck': 1418, 'pink': 3342, 'char': 761, 'husband': 2263, 'mein': 2833, 'attitudes': 330, 'customers': 1128, 'portion': 3418, 'servers': 3992, 'attack': 322, 'grill': 2035, 'downtown': 1372, 'lined': 2650, 'seafood': 3933, 'strings': 4338, 'pasta': 3256, 'sauce': 3879, 'scallop': 3893, 'banana': 386, 'petrified': 3312, 'tasteless': 4482, 'refill': 3661, 'receives': 3638, 'appetizers': 263, 'cocktails': 871, 'handmade': 2085, 'delicious': 1201, 'military': 2878, 'dos': 1359, 'gringos': 2039, 'salt': 3857, 'batter': 410, 'chewy': 800, 'finish': 1759, 'tastings': 4483, 'drinks': 1404, 'jeff': 2453, 'meh': 2832, 'min': 2881, 'milkshake': 2880, 'chocolate': 817, 'milk': 2879, 'excalibur': 1599, 'common': 910, 'dish': 1313, 'potato': 3433, 'seasoned': 3941, 'lunch': 2728, 'cheated': 784, 'opportunity': 3139, 'experiencing': 1637, 'underwhelming': 4767, 'parties': 3250, 'wait': 4941, 'smelled': 4145, 'grease': 2021, 'roast': 3798, 'pan': 3230, 'cakes': 658, 'raving': 3606, 'sugary': 4393, 'tailored': 4459, 'palate': 3225, 'six': 4107, 'yummy': 5148, 'meat': 2819, 'ratio': 3603, 'tenders': 4511, 'unsatisfying': 4814, 'omelets': 3119, 'die': 1267, 'dining': 1277, 'sexy': 4008, 'outrageously': 3173, 'flirting': 1797, 'hottest': 2233, 'rock': 3803, 'casino': 719, 'forward': 1849, 'breakfast': 574, 'bye': 648, 'tip': 4602, 'cafe': 654, 'serves': 3993, 'roasted': 3799, 'garlic': 1930, 'bone': 533, 'marrow': 2786, 'meal': 2811, 'bloddy': 507, 'mary': 2789, 'town': 4651, 'mussels': 2979, 'wine': 5057, 'reduction': 3658, 'dishes': 1314, 'buffets': 614, 'tigerlilly': 4590, 'bartender': 398, 'personable': 3308, 'ambience': 205, 'sooooo': 4191, 'sushi': 4434, 'lovers': 2714, 'yama': 5124, '40min': 42, 'arriving': 288, 'busy': 636, 'thai': 4525, 'spicy': 4237, 'steak': 4284, 'actual': 126, 'blandest': 500, 'eaten': 1461, 'preparing': 3458, 'indian': 2334, 'cuisine': 1117, 'worries': 5099, 'steaks': 4286, 'loving': 2716, 'venture': 4880, 'host': 2229, 'bitches': 487, 'liking': 2641, 'reviewing': 3763, 'ambiance': 204, 'venturing': 4881, 'pork': 3415, 'penne': 3287, 'vodka': 4923, 'meatloaf': 2821, 'crispy': 1098, 'delish': 1206, 'tuna': 4718, 'melt': 2837, 'burgers': 628, 'rude': 3829, 'bagels': 376, 'cream': 1082, 'cheese': 792, 'lox': 2719, 'capers': 688, 'subway': 4377, 'meet': 2829, 'restaurants': 3742, 'dine': 1276, 'weekend': 5006, 'drink': 1402, 'suggestions': 4395, 'rarely': 3596, 'ate': 315, 'curry': 1123, 'bamboo': 385, 'shoots': 4046, 'blanket': 502, 'moz': 2957, 'subpar': 4371, 'bathrooms': 409, 'clean': 844, 'decorated': 1179, 'ignore': 2284, 'fiancé': 1731, 'greeted': 2032, 'seated': 3944, 'mandalay': 2769, 'bay': 414, 'waited': 4942, 'forty': 1848, 'vain': 4858, 'crostini': 1104, 'stale': 4261, 'nigiri': 3039, 'joint': 2474, 'flavored': 1780, 'voodoo': 4931, 'gluten': 1981, 'leftover': 2603, 'relocated': 3697, 'diverse': 1334, 'phoenix': 3321, 'treated': 4683, 'bacon': 372, 'hella': 2146, 'salty': 3858, 'spinach': 4239, 'avocado': 344, 'ingredients': 2356, 'handed': 2079, 'listed': 2658, 'waitresses': 4946, 'lordy': 2696, 'khao': 2513, 'soi': 4168, 'accommodations': 99, 'vegetarian': 4872, 'inspired': 2367, 'desired': 1235, 'maintaining': 2751, 'coziness': 1061, 'weekly': 5007, 'haunt': 2112, 'asking': 302, 'flavor': 1779, 'overcooked': 3184, 'charcoal': 765, 'decided': 1173, 'verge': 4885, 'dressed': 1395, 'rudely': 3830, 'dirt': 1290, 'hits': 2190, 'healthy': 2129, 'quantity': 3569, 'lemon': 2608, 'raspberry': 3597, 'ice': 2271, 'cocktail': 870, 'imagined': 2295, 'decor': 1178, 'crepe': 1094, 'bread': 571, 'butter': 638, 'chips': 816, 'bits': 492, 'egg': 1484, 'gyros': 2063, 'missing': 2900, 'wings': 5059, 'joey': 2470, 'voted': 4932, 'dog': 1346, 'valley': 4860, 'magazine': 2740, 'bowl': 560, 'live': 2665, 'fridays': 1874, 'blows': 513, 'insulted': 2380, 'disrespected': 1323, 'exceeding': 1600, 'dreamed': 1391, 'serivce': 3988, 'brunch': 600, 'inviting': 2410, '1979': 18, 'stepped': 4295, 'foot': 1826, 'mixed': 2903, 'mushrooms': 2976, 'yukon': 5146, 'gold': 1989, 'puree': 3554, 'beateous': 421, 'bug': 615, 'climbing': 855, 'friend': 1876, 'tartar': 4477, 'soggy': 4167, 'jamaican': 2444, 'mojitos': 2912, 'rich': 3771, 'accordingly': 103, 'shower': 4061, 'rinse': 3784, 'nude': 3074, 'lobster': 2671, 'bisque': 485, 'bussell': 635, 'sprouts': 4253, 'risotto': 3791, 'filet': 1738, 'pepper': 3291, 'bodes': 524, 'cook': 1018, 'wrapped': 5114, 'dates': 1151, 'folks': 1815, 'otto': 3162, 'welcome': 5011, 'mains': 2749, 'uninspired': 4781, 'dealing': 1162, 'drunk': 1415, 'chef': 797, 'cheeseburger': 793, 'patty': 3266, 'uploaded': 4829, 'sporting': 4247, 'walls': 4953, 'descriptions': 1226, 'yum': 5147, 'eel': 1476, 'mayo': 2806, 'sauces': 3880, 'hardest': 2102, 'rolled': 3811, 'providing': 3523, 'flavourful': 1784, 'building': 618, 'freezing': 1867, 'flavorful': 1781, 'ayce': 357, 'mood': 2928, 'gratitude': 2019, 'privileged': 3479, 'creamy': 1083, 'similar': 4081, 'silently': 4078, 'pizza': 3349, 'peanut': 3277, 'godfathers': 1986, 'sticks': 4302, 'recall': 3632, 'tap': 4472, 'generous': 1944, 'visited': 4915, 'proclaimed': 3487, 'coffee': 874, 'wildly': 5047, 'veggitarian': 4874, 'platter': 3367, 'madison': 2739, 'ironman': 2423, 'chefs': 798, 'dedicated': 1180, 'boba': 523, 'tea': 4488, 'spots': 4249, 'jenni': 2454, 'patio': 3262, 'outstanding': 3176, 'goat': 1984, 'taco': 4456, 'skimp': 4112, 'mac': 2732, 'bachi': 366, 'salads': 3852, 'burned': 629, 'saganaki': 3847, 'disagree': 1292, 'fellow': 1722, 'yelpers': 5134, 'pizzas': 3350, 'neighborhood': 3017, 'pulled': 3538, 'soooo': 4190, 'stir': 4306, 'fried': 1875, 'noodles': 3056, 'chip': 813, 'count': 1043, 'greedy': 2027, 'corporation': 1030, 'dime': 1274, 'summer': 4401, 'outdoor': 3167, 'toasted': 4612, 'muffin': 2966, 'untoasted': 4816, 'bus': 632, 'figured': 1736, 'publicly': 3534, 'loudly': 2706, 'bbq': 415, 'lighter': 2633, 'downside': 1371, 'shawarrrrrrma': 4022, 'eyed': 1658, 'peas': 3281, 'unreal': 4806, 'serve': 3989, 'vinaigrette': 4905, '00': 0, 'mom': 2914, 'bites': 490, 'honor': 2211, 'hut': 2265, 'coupons': 1049, 'unbelievably': 4746, 'covers': 1057, 'replenished': 3723, 'yucky': 5145, 'omg': 3120, 'delicioso': 1200, 'spaghetti': 4217, 'vegetables': 4871, 'tucson': 4716, 'chipotle': 815, 'succulent': 4381, 'baseball': 400, 'brick': 581, 'oven': 3179, 'app': 255, 'equally': 1555, 'pancakes': 3232, 'eggs': 1486, 'genuinely': 1950, 'enthusiastic': 1547, 'sadly': 3845, 'gordon': 1997, 'ramsey': 3587, 'shall': 4011, 'evening': 1581, 'bathroom': 408, 'door': 1358, 'offered': 3102, 'tasted': 4481, 'handling': 2084, 'rowdy': 3823, 'despicable': 1238, 'soup': 4205, 'lukewarm': 2727, 'craving': 1075, 'stomach': 4310, 'ache': 108, 'elegantly': 1495, 'customize': 1129, 'eggplant': 1485, 'bean': 417, 'beans': 418, 'outta': 3177, 'inconsiderate': 2324, 'hi': 2167, 'dinners': 1279, 'outshining': 3174, 'halibut': 2074, 'starving': 4275, 'def': 1185, 'ethic': 1575, 'andddd': 217, 'stuffed': 4353, 'located': 2673, 'crystals': 1115, 'shopping': 4048, 'mall': 2762, 'aria': 279, 'summarize': 4399, 'nay': 3002, 'transcendant': 4667, 'pneumatic': 3392, 'condiment': 951, 'dispenser': 1319, 'ians': 2270, 'kiddos': 2515, 'perfection': 3295, 'impeccable': 2300, 'bouchon': 557, 'accountant': 104, 'screwed': 3925, 'reminds': 3704, 'pop': 3412, 'shops': 4049, 'san': 3863, 'francisco': 1859, 'buldogis': 621, 'gourmet': 2006, 'frustrated': 1889, 'petty': 3314, 'iced': 2272, 'hungry': 2260, 'assure': 311, 'sore': 4194, 'regular': 3677, 'professional': 3495, 'dinner': 1278, 'companions': 916, 'smeared': 4143, 'tracked': 4656, 'bird': 482, 'poop': 3409, 'furthermore': 1910, 'operation': 3137, 'connisseur': 966, 'topic': 4636, 'jerk': 2456, 'strike': 4336, 'rushed': 3835, 'nicest': 3035, 'owners': 3201, 'across': 113, 'biscuits': 484, 'appetizer': 262, 'absolutley': 81, '5lb': 53, 'cow': 1058, '4ths': 47, 'gristle': 2042, 'steiners': 4292, 'fs': 1892, 'pears': 3280, 'almonds': 186, 'spicier': 4236, 'prefer': 3450, 'ribeye': 3769, 'mesquite': 2857, 'anytime': 247, 'gooodd': 1996, 'connoisseur': 967, 'driest': 1399, 'mouthful': 2948, 'relaxed': 3690, 'venue': 4882, 'couples': 1047, 'groups': 2049, 'nargile': 2991, 'tater': 4485, 'tots': 4643, 'southwest': 4212, 'vanilla': 4865, 'smooth': 4152, 'profiterole': 3498, 'choux': 824, 'pastry': 3258, 'az': 359, 'manager': 2767, 'carly': 700, 'acknowledged': 112, '35': 37, 'margaritas': 2778, 'ventilation': 4878, 'upgrading': 4826, 'letdown': 2618, 'camelback': 668, 'flower': 1804, 'shop': 4047, 'cartel': 710, 'trimmed': 4694, 'group': 2048, 'claimed': 837, 'bill': 476, 'jewel': 2463, 'las': 2562, 'boiled': 527, 'crab': 1062, 'legs': 2607, 'toro': 4638, 'tartare': 4478, 'cavier': 732, 'thinly': 4555, 'sliced': 4120, 'wagyu': 4940, 'truffle': 4705, 'attached': 321, 'decide': 1172, 'humiliated': 2251, 'worker': 5093, 'name': 2988, 'callings': 665, 'filling': 1741, 'meals': 2812, 'daily': 1139, 'specials': 4225, 'tragedy': 4661, 'pancake': 3231, 'crawfish': 1076, 'multi': 2968, 'grain': 2012, 'pumpkin': 3541, 'pecan': 3282, 'fluffy': 1805, 'airline': 169, 'noca': 3047, 'gyro': 2062, 'lettuce': 2621, 'homemade': 2206, 'pastas': 3257, 'cheesecurds': 794, 'finger': 1756, 'beauty': 425, 'greasy': 2022, 'unhealthy': 4780, 'similarly': 4082, 'apology': 254, 'tiramisu': 4604, 'cannoli': 682, 'sun': 4402, 'meats': 2822, 'choose': 822, 'frenchman': 1869, 'desserts': 1242, 'martini': 2788, 'entrees': 1551, 'gc': 1935, 'thirty': 4557, 'vacant': 4857, 'yellowtail': 5133, 'carpaccio': 702, 'strangers': 4325, 'hello': 2148, 'donut': 1356, 'saving': 3886, 'disgraceful': 1309, 'suffers': 4391, 'tapas': 4473, 'vinegrette': 4906, 'greens': 2030, 'hankering': 2091, 'helped': 2151, 'theft': 4536, 'eew': 1477, 'overhaul': 3186, 'witnessed': 5072, 'regularly': 3678, 'swung': 4446, 'efficient': 1481, 'sucker': 4385, 'olives': 3117, 'perpared': 3305, 'presentation': 3460, 'giant': 1959, 'slices': 4121, 'dusted': 1430, 'powdered': 3438, 'sugar': 4392, 'fo': 1811, 'accomodate': 100, 'vegan': 4869, 'veggie': 4873, 'crumby': 1111, 'pale': 3226, 'croutons': 1105, 'trips': 4698, 'crema': 1093, 'café': 655, 'expanded': 1627, 'philadelphia': 3318, 'satisfying': 3877, 'north': 3060, 'scottsdale': 3914, 'soooooo': 4192, 'freaking': 1861, 'papers': 3240, 'reheated': 3679, 'wedges': 5004, 'absolute': 78, 'bloody': 510, 'businesses': 634, 'grilled': 2036, 'yellow': 5132, 'saffron': 3846, 'seasoning': 3942, 'focused': 1813, 'grandmother': 2014, 'ignored': 2285, 'hostess': 2230, 'boys': 566, 'shirt': 4040, 'drastically': 1385, 'caesar': 653, 'madhouse': 2738, 'proven': 3519, 'moods': 2929, 'macarons': 2733, 'insanely': 2360, 'informative': 2353, 'edible': 1470, 'promise': 3502, 'plater': 3366, 'relax': 3689, 'seating': 3945, 'screams': 3918, 'legit': 2606, 'somethat': 4179, 'duo': 1425, 'violinists': 4909, 'requested': 3726, 'baklava': 379, 'falafels': 1675, 'baba': 361, 'ganoush': 1923, 'staying': 4282, 'mgm': 2867, 'courteous': 1052, 'eclectic': 1467, 'onion': 3126, 'rings': 3782, 'nobu': 3046, 'google': 1995, 'smashburger': 4142, 'lover': 2713, 'plantains': 3360, 'spends': 4230, 'panna': 3234, 'cotta': 1038, 'fail': 1669, 'flavors': 1783, 'slaw': 4117, 'drenched': 1394, 'piano': 3331, 'rge': 3766, 'fillet': 1740, 'relleno': 3696, 'plate': 3365, 'sergeant': 3984, 'auju': 334, 'hawaiian': 2117, 'breeze': 578, 'mango': 2770, 'magic': 2741, 'pineapple': 3341, 'smoothies': 4154, 'mortified': 2935, 'anyways': 249, 'dripping': 1405, '2007': 27, 'serving': 3996, 'hospitality': 2228, 'paradise': 3242, 'refrained': 3663, 'recommending': 3651, 'cibo': 829, 'mouths': 2949, 'bellies': 452, 'dough': 1364, 'elk': 1498, 'hooked': 2213, 'classics': 842, 'sorely': 4195, 'quaint': 3565, 'deliciously': 1202, 'dylan': 1436, 'tummy': 4717, 'gratuity': 2020, 'larger': 2561, 'fly': 1807, 'apple': 266, 'han': 2077, 'nan': 2989, 'edinburgh': 1471, 'revisiting': 3765, 'naan': 2985, 'pine': 3340, 'touched': 4645, 'airport': 170, 'speedy': 4228, 'calligraphy': 664, 'stood': 4311, 'guest': 2055, 'extensive': 1649, 'inflate': 2351, 'smaller': 4138, 'grow': 2050, 'rapidly': 3594, 'lil': 2642, 'fuzzy': 1912, 'wontons': 5085, 'spice': 4234, 'whelm': 5020, 'mid': 2873, '30s': 35, 'arepas': 276, 'jalapeno': 2443, 'shoe': 4043, 'definately': 1191, 'block': 506, 'fancy': 1688, 'affordable': 151, 'soups': 4206, 'sunday': 4403, 'hunan': 2258, 'flair': 1773, 'bartenders': 399, 'nutshell': 3083, 'restaraunt': 3739, 'sewer': 4006, 'veal': 4868, 'satifying': 3875, 'join': 2472, 'email': 1502, 'colder': 877, 'flavorless': 1782, 'describing': 1224, 'tepid': 4514, 'chains': 753, 'nachos': 2986, 'crowds': 1107, 'juries': 2492, 'lawyers': 2586, 'arrives': 287, 'paying': 3270, '85': 62, 'wienerschnitzel': 5043, 'maine': 2747, 'roll': 3810, 'law': 2585, 'hereas': 2159, 'tribute': 4689, 'event': 1582, 'held': 2143, 'salsa': 3856, 'pissd': 3343, 'surprise': 4425, 'golden': 1990, 'hopes': 2219, 'fell': 1720, 'bruschetta': 601, 'devine': 1256, 'employee': 1516, 'lastly': 2568, 'mozzarella': 2958, 'negligent': 3015, 'unwelcome': 4819, 'packed': 3212, 'seasonal': 3940, 'fruit': 1888, 'peach': 3274, 'officially': 3106, 'containers': 990, 'opposed': 3140, 'cramming': 1069, 'takeout': 4462, 'boxes': 562, 'crêpe': 1116, 'delicate': 1199, 'kabuki': 2497, 'services': 3995, 'maria': 2779, 'article': 290, 'spices': 4235, 'fucking': 1894, 'caballero': 650, 'oysters': 3205, 'qualified': 3566, 'foods': 1823, 'tolerance': 4618, 'polite': 3404, 'wash': 4969, 'biscuit': 483, 'heat': 2136, 'coconut': 872, 'fella': 1721, 'huevos': 2245, 'rancheros': 3589, 'wines': 5058, 'pricey': 3473, 'temp': 4507, 'prepare': 3456, 'bare': 391, 'gloves': 1979, 'oil': 3110, 'pleasure': 3380, 'plethora': 3384, 'sandwiches': 3867, 'seal': 3934, 'approval': 271, 'college': 882, 'cooking': 1020, 'besides': 465, 'costco': 1035, 'highlighted': 2173, 'grocery': 2043, 'dude': 1419, 'doughy': 1365, 'inch': 2317, 'ourselves': 3165, 'albondigas': 175, 'tomato': 4621, 'meatballs': 2820, 'occasions': 3091, 'medium': 2828, 'bloodiest': 509, 'anymore': 244, 'chai': 752, 'latte': 2578, 'allergy': 180, 'warnings': 4964, 'clue': 864, 'contain': 988, 'peanuts': 3278, 'mediterranean': 2827, 'beers': 437, 'highlight': 2172, 'concern': 944, 'mellow': 2835, 'mushroom': 2975, 'strawberry': 4329, 'unprofessional': 4805, 'loyal': 2720, 'patron': 3264, 'occasional': 3089, 'pats': 3265, 'bellagio': 451, 'anticipated': 241, 'sals': 3855, 'fav': 1706, 'unexperienced': 4772, 'employees': 1517, 'chickens': 803, 'steakhouse': 4285, 'concept': 941, 'guacamole': 2052, 'puréed': 3557, 'postinos': 3432, 'poisoning': 3402, 'batch': 406, 'yay': 5127, 'eve': 1579, 'caring': 699, 'teamwork': 4492, 'degree': 1195, 'ri': 3767, 'calamari': 659, 'fondue': 1821, 'denny': 1212, 'downright': 1369, 'waaaaaayyyyyyyyyy': 4938, 'sangria': 3868, 'glass': 1975, 'brisket': 590, 'trippy': 4697, 'hurry': 2261, 'reservation': 3732, 'stretch': 4334, 'cashew': 716, 'undercooked': 4755, 'chipolte': 814, 'ranch': 3588, 'dipping': 1280, 'sause': 3881, 'watered': 4982, 'workers': 5094, 'douchey': 1363, 'garden': 1928, 'con': 939, 'spotty': 4250, 'ensued': 1541, 'apologize': 253, 'binge': 479, 'drinking': 1403, 'carbs': 693, 'insults': 2381, 'profound': 3499, 'deuchebaggery': 1250, 'solidify': 4173, 'combo': 890, 'ala': 173, 'cart': 709, 'blame': 498, 'rave': 3604, 'del': 1196, 'hamburger': 2076, 'ya': 5123, 'fireball': 1762, 'disapppointment': 1299, 'correction': 1032, 'heimer': 2141, 'brownish': 597, 'ha': 2065, 'flop': 1799, '99': 68, 'bigger': 474, 'unwrapped': 4820, 'mile': 2877, 'brushfire': 602, 'mirage': 2891, 'refried': 3665, 'dried': 1398, 'crusty': 1113, 'caterpillar': 727, 'appetite': 261, 'instantly': 2373, 'ninja': 3042, 'poured': 3437, 'wound': 5110, 'drawing': 1387}\n",
      "[('00', 0), ('10', 1), ('100', 2), ('11', 3), ('12', 4), ('13', 5), ('15', 6), ('15g', 7), ('15pm', 8), ('17', 9), ('18', 10), ('18th', 11), ('1928', 12), ('1947', 13), ('1948', 14), ('1949', 15), ('1971', 16), ('1973', 17), ('1979', 18), ('1980', 19), ('1986', 20), ('1995', 21), ('1998', 22), ('20', 23), ('2000', 24), ('2005', 25), ('2006', 26), ('2007', 27), ('20th', 28), ('2160', 29), ('23', 30), ('24', 31), ('25', 32), ('2mp', 33), ('30', 34), ('30s', 35), ('325', 36), ('35', 37), ('350', 38), ('375', 39), ('3o', 40), ('40', 41), ('40min', 42), ('42', 43), ('44', 44), ('45', 45), ('4s', 46), ('4ths', 47), ('50', 48), ('5020', 49), ('510', 50), ('5320', 51), ('54', 52), ('5lb', 53), ('680', 54), ('70', 55), ('70000', 56), ('700w', 57), ('70s', 58), ('80', 59), ('80s', 60), ('8125', 61), ('85', 62), ('8525', 63), ('8530', 64), ('8pm', 65), ('90', 66), ('95', 67), ('99', 68), ('aailiyah', 69), ('abandoned', 70), ('abhor', 71), ('ability', 72), ('able', 73), ('abound', 74), ('about', 75), ('above', 76), ('abroad', 77), ('absolute', 78), ('absolutel', 79), ('absolutely', 80), ('absolutley', 81), ('abstruse', 82), ('abysmal', 83), ('ac', 84), ('academy', 85), ('accents', 86), ('accept', 87), ('acceptable', 88), ('access', 89), ('accessable', 90), ('accessible', 91), ('accessing', 92), ('accessory', 93), ('accessoryone', 94), ('accident', 95), ('accidentally', 96), ('acclaimed', 97), ('accolades', 98), ('accommodations', 99), ('accomodate', 100), ('accompanied', 101), ('according', 102), ('accordingly', 103), ('accountant', 104), ('accurate', 105), ('accurately', 106), ('accused', 107), ('ache', 108), ('achievement', 109), ('achille', 110), ('ackerman', 111), ('acknowledged', 112), ('across', 113), ('act', 114), ('acted', 115), ('acting', 116), ('action', 117), ('actions', 118), ('activate', 119), ('activated', 120), ('activesync', 121), ('actor', 122), ('actors', 123), ('actress', 124), ('actresses', 125), ('actual', 126), ('actually', 127), ('ad', 128), ('adams', 129), ('adaptation', 130), ('adapter', 131), ('adapters', 132), ('add', 133), ('added', 134), ('addition', 135), ('additional', 136), ('address', 137), ('adhesive', 138), ('admins', 139), ('admiration', 140), ('admitted', 141), ('adorable', 142), ('adrift', 143), ('adventure', 144), ('advertised', 145), ('advise', 146), ('aerial', 147), ('aesthetically', 148), ('affected', 149), ('affleck', 150), ('affordable', 151), ('afraid', 152), ('africa', 153), ('after', 154), ('afternoon', 155), ('again', 156), ('against', 157), ('age', 158), ('aged', 159), ('ages', 160), ('aggravating', 161), ('ago', 162), ('agree', 163), ('agreed', 164), ('ahead', 165), ('aimless', 166), ('air', 167), ('aired', 168), ('airline', 169), ('airport', 170), ('akasha', 171), ('akin', 172), ('ala', 173), ('alarm', 174), ('albondigas', 175), ('alert', 176), ('alexander', 177), ('alike', 178), ('all', 179), ('allergy', 180), ('allison', 181), ('allot', 182), ('allow', 183), ('allowing', 184), ('allows', 185), ('almonds', 186), ('almost', 187), ('alone', 188), ('along', 189), ('alongside', 190), ('alot', 191), ('already', 192), ('also', 193), ('although', 194), ('aluminum', 195), ('always', 196), ('am', 197), ('amateurish', 198), ('amaze', 199), ('amazed', 200), ('amazing', 201), ('amazingly', 202), ('amazon', 203), ('ambiance', 204), ('ambience', 205), ('america', 206), ('american', 207), ('americans', 208), ('among', 209), ('amount', 210), ('amp', 211), ('ample', 212), ('amusing', 213), ('an', 214), ('anatomist', 215), ('and', 216), ('andddd', 217), ('angel', 218), ('angela', 219), ('angeles', 220), ('angelina', 221), ('angle', 222), ('angles', 223), ('angry', 224), ('anguish', 225), ('angus', 226), ('animals', 227), ('animated', 228), ('animation', 229), ('anita', 230), ('ann', 231), ('anne', 232), ('anniversary', 233), ('annoying', 234), ('another', 235), ('answer', 236), ('ant', 237), ('antena', 238), ('anthony', 239), ('anti', 240), ('anticipated', 241), ('antithesis', 242), ('any', 243), ('anymore', 244), ('anyone', 245), ('anything', 246), ('anytime', 247), ('anyway', 248), ('anyways', 249), ('anywhere', 250), ('apart', 251), ('apartment', 252), ('apologize', 253), ('apology', 254), ('app', 255), ('appalling', 256), ('apparently', 257), ('appealing', 258), ('appearance', 259), ('appears', 260), ('appetite', 261), ('appetizer', 262), ('appetizers', 263), ('applauded', 264), ('applause', 265), ('apple', 266), ('applifies', 267), ('appointments', 268), ('appreciate', 269), ('appropriate', 270), ('approval', 271), ('apt', 272), ('are', 273), ('area', 274), ('aren', 275), ('arepas', 276), ('argued', 277), ('arguing', 278), ('aria', 279), ('armageddon', 280), ('armand', 281), ('armband', 282), ('around', 283), ('array', 284), ('arrival', 285), ('arrived', 286), ('arrives', 287), ('arriving', 288), ('art', 289), ('article', 290), ('articulated', 291), ('artiness', 292), ('artist', 293), ('artistic', 294), ('artless', 295), ('arts', 296), ('as', 297), ('asia', 298), ('aside', 299), ('ask', 300), ('asked', 301), ('asking', 302), ('asleep', 303), ('aspect', 304), ('aspects', 305), ('ass', 306), ('assante', 307), ('assaulted', 308), ('assistant', 309), ('assumed', 310), ('assure', 311), ('astonishingly', 312), ('astronaut', 313), ('at', 314), ('ate', 315), ('atleast', 316), ('atmosphere', 317), ('atrocious', 318), ('atrocity', 319), ('att', 320), ('attached', 321), ('attack', 322), ('attacked', 323), ('attempt', 324), ('attempted', 325), ('attempting', 326), ('attempts', 327), ('attention', 328), ('attentive', 329), ('attitudes', 330), ('attractive', 331), ('audience', 332), ('audio', 333), ('auju', 334), ('aurvåg', 335), ('austen', 336), ('austere', 337), ('authentic', 338), ('author', 339), ('auto', 340), ('available', 341), ('average', 342), ('aversion', 343), ('avocado', 344), ('avoid', 345), ('avoided', 346), ('avoiding', 347), ('award', 348), ('awarded', 349), ('awards', 350), ('away', 351), ('awesome', 352), ('awful', 353), ('awkward', 354), ('awkwardly', 355), ('awsome', 356), ('ayce', 357), ('aye', 358), ('az', 359), ('baaaaaad', 360), ('baba', 361), ('babbling', 362), ('babie', 363), ('baby', 364), ('babysitting', 365), ('bachi', 366), ('back', 367), ('backdrop', 368), ('backed', 369), ('background', 370), ('backlight', 371), ('bacon', 372), ('bad', 373), ('badly', 374), ('bag', 375), ('bagels', 376), ('bailey', 377), ('bakery', 378), ('baklava', 379), ('balance', 380), ('balanced', 381), ('ball', 382), ('ballet', 383), ('balls', 384), ('bamboo', 385), ('banana', 386), ('band', 387), ('bank', 388), ('bar', 389), ('barcelona', 390), ('bare', 391), ('barely', 392), ('bargain', 393), ('barking', 394), ('barney', 395), ('barren', 396), ('bars', 397), ('bartender', 398), ('bartenders', 399), ('baseball', 400), ('based', 401), ('basement', 402), ('basic', 403), ('basically', 404), ('bat', 405), ('batch', 406), ('bates', 407), ('bathroom', 408), ('bathrooms', 409), ('batter', 410), ('batteries', 411), ('battery', 412), ('baxendale', 413), ('bay', 414), ('bbq', 415), ('be', 416), ('bean', 417), ('beans', 418), ('bear', 419), ('beat', 420), ('beateous', 421), ('beats', 422), ('beautiful', 423), ('beautifully', 424), ('beauty', 425), ('became', 426), ('because', 427), ('bechard', 428), ('become', 429), ('becomes', 430), ('bed', 431), ('beef', 432), ('been', 433), ('beep', 434), ('beeping', 435), ('beer', 436), ('beers', 437), ('before', 438), ('began', 439), ('begin', 440), ('beginning', 441), ('behind', 442), ('behing', 443), ('behold', 444), ('being', 445), ('bela', 446), ('believable', 447), ('believe', 448), ('believed', 449), ('bell', 450), ('bellagio', 451), ('bellies', 452), ('bells', 453), ('bellucci', 454), ('belly', 455), ('belmondo', 456), ('below', 457), ('belt', 458), ('ben', 459), ('bend', 460), ('bendingly', 461), ('bennett', 462), ('bergen', 463), ('bertolucci', 464), ('besides', 465), ('best', 466), ('better', 467), ('betty', 468), ('between', 469), ('beware', 470), ('beyond', 471), ('bible', 472), ('big', 473), ('bigger', 474), ('biggest', 475), ('bill', 476), ('bills', 477), ('billy', 478), ('binge', 479), ('biographical', 480), ('bipolarity', 481), ('bird', 482), ('biscuit', 483), ('biscuits', 484), ('bisque', 485), ('bit', 486), ('bitches', 487), ('bitchy', 488), ('bite', 489), ('bites', 490), ('bitpim', 491), ('bits', 492), ('black', 493), ('blackberry', 494), ('blacktop', 495), ('blah', 496), ('blake', 497), ('blame', 498), ('bland', 499), ('blandest', 500), ('blandly', 501), ('blanket', 502), ('blare', 503), ('blatant', 504), ('blew', 505), ('block', 506), ('bloddy', 507), ('blood', 508), ('bloodiest', 509), ('bloody', 510), ('blow', 511), ('blown', 512), ('blows', 513), ('blue', 514), ('blueant', 515), ('bluetoooth', 516), ('bluetooth', 517), ('bluetooths', 518), ('blush', 519), ('bmw', 520), ('boasts', 521), ('bob', 522), ('boba', 523), ('bodes', 524), ('body', 525), ('bohemian', 526), ('boiled', 527), ('boiling', 528), ('bold', 529), ('bombardments', 530), ('bond', 531), ('bonding', 532), ('bone', 533), ('bonus', 534), ('bonuses', 535), ('boobs', 536), ('boogeyman', 537), ('book', 538), ('booking', 539), ('boost', 540), ('boot', 541), ('bop', 542), ('bordered', 543), ('borderlines', 544), ('borders', 545), ('bore', 546), ('bored', 547), ('boring', 548), ('borrowed', 549), ('bose', 550), ('boss', 551), ('both', 552), ('bother', 553), ('bothersome', 554), ('bottom', 555), ('bottowm', 556), ('bouchon', 557), ('bought', 558), ('bougth', 559), ('bowl', 560), ('box', 561), ('boxes', 562), ('boy', 563), ('boyfriend', 564), ('boyle', 565), ('boys', 566), ('brain', 567), ('brainsucking', 568), ('brand', 569), ('brat', 570), ('bread', 571), ('break', 572), ('breakage', 573), ('breakfast', 574), ('breaking', 575), ('breaks', 576), ('breeders', 577), ('breeze', 578), ('brevity', 579), ('brian', 580), ('brick', 581), ('brief', 582), ('brigand', 583), ('bright', 584), ('brilliance', 585), ('brilliant', 586), ('brilliantly', 587), ('bring', 588), ('brings', 589), ('brisket', 590), ('broad', 591), ('broke', 592), ('broken', 593), ('brooding', 594), ('brother', 595), ('brought', 596), ('brownish', 597), ('browser', 598), ('browsing', 599), ('brunch', 600), ('bruschetta', 601), ('brushfire', 602), ('brutal', 603), ('bt', 604), ('bt250v', 605), ('bt50', 606), ('bubbling', 607), ('bucks', 608), ('buddy', 609), ('budget', 610), ('buds', 611), ('buffalo', 612), ('buffet', 613), ('buffets', 614), ('bug', 615), ('build', 616), ('builders', 617), ('building', 618), ('buildings', 619), ('built', 620), ('buldogis', 621), ('bulky', 622), ('bullock', 623), ('bully', 624), ('bumpers', 625), ('bunch', 626), ('burger', 627), ('burgers', 628), ('burned', 629), ('burrittos', 630), ('burton', 631), ('bus', 632), ('business', 633), ('businesses', 634), ('bussell', 635), ('busy', 636), ('but', 637), ('butter', 638), ('button', 639), ('buttons', 640), ('buy', 641), ('buyer', 642), ('buyers', 643), ('buying', 644), ('buyit', 645), ('buzzing', 646), ('by', 647), ('bye', 648), ('ca', 649), ('caballero', 650), ('cable', 651), ('cables', 652), ('caesar', 653), ('cafe', 654), ('café', 655), ('cailles', 656), ('cake', 657), ('cakes', 658), ('calamari', 659), ('calendar', 660), ('california', 661), ('call', 662), ('called', 663), ('calligraphy', 664), ('callings', 665), ('calls', 666), ('came', 667), ('camelback', 668), ('cameo', 669), ('camera', 670), ('camerawork', 671), ('camp', 672), ('campy', 673), ('can', 674), ('canada', 675), ('canal', 676), ('cancan', 677), ('cancellation', 678), ('cancelling', 679), ('candace', 680), ('candle', 681), ('cannoli', 682), ('cannot', 683), ('cant', 684), ('capability', 685), ('capacity', 686), ('cape', 687), ('capers', 688), ('captain', 689), ('captured', 690), ('captures', 691), ('car', 692), ('carbs', 693), ('card', 694), ('cardboard', 695), ('cardellini', 696), ('care', 697), ('careful', 698), ('caring', 699), ('carly', 700), ('carol', 701), ('carpaccio', 702), ('carrell', 703), ('carried', 704), ('carriers', 705), ('carries', 706), ('carry', 707), ('cars', 708), ('cart', 709), ('cartel', 710), ('cartoon', 711), ('cartoons', 712), ('case', 713), ('cases', 714), ('cash', 715), ('cashew', 716), ('cashier', 717), ('casing', 718), ('casino', 719), ('cassette', 720), ('cast', 721), ('casted', 722), ('casting', 723), ('cat', 724), ('catching', 725), ('catchy', 726), ('caterpillar', 727), ('caught', 728), ('cause', 729), ('caused', 730), ('causing', 731), ('cavier', 732), ('cbr', 733), ('cds', 734), ('ceases', 735), ('celebration', 736), ('celebrity', 737), ('cell', 738), ('cellphone', 739), ('cellphones', 740), ('cellular', 741), ('celluloid', 742), ('cent', 743), ('center', 744), ('centers', 745), ('central', 746), ('century', 747), ('certain', 748), ('certainly', 749), ('cg', 750), ('cgi', 751), ('chai', 752), ('chains', 753), ('chalkboard', 754), ('challenges', 755), ('chance', 756), ('change', 757), ('changes', 758), ('changing', 759), ('channel', 760), ('char', 761), ('character', 762), ('characterisation', 763), ('characters', 764), ('charcoal', 765), ('charge', 766), ('charged', 767), ('charger', 768), ('chargers', 769), ('charges', 770), ('charging', 771), ('charisma', 772), ('charismatic', 773), ('charles', 774), ('charlie', 775), ('charm', 776), ('charming', 777), ('chase', 778), ('chasing', 779), ('cheap', 780), ('cheaper', 781), ('cheaply', 782), ('cheapy', 783), ('cheated', 784), ('check', 785), ('checked', 786), ('checking', 787), ('cheek', 788), ('cheekbones', 789), ('cheerfull', 790), ('cheerless', 791), ('cheese', 792), ('cheeseburger', 793), ('cheesecurds', 794), ('cheesiness', 795), ('cheesy', 796), ('chef', 797), ('chefs', 798), ('chemistry', 799), ('chewy', 800), ('chick', 801), ('chicken', 802), ('chickens', 803), ('child', 804), ('childhood', 805), ('children', 806), ('childrens', 807), ('chills', 808), ('chilly', 809), ('chimp', 810), ('china', 811), ('chinese', 812), ('chip', 813), ('chipolte', 814), ('chipotle', 815), ('chips', 816), ('chocolate', 817), ('chodorov', 818), ('choice', 819), ('choices', 820), ('choked', 821), ('choose', 822), ('chosen', 823), ('choux', 824), ('chow', 825), ('christmas', 826), ('christopher', 827), ('church', 828), ('cibo', 829), ('cinema', 830), ('cinematic', 831), ('cinematographers', 832), ('cinematography', 833), ('cingulair', 834), ('cingular', 835), ('circumstances', 836), ('claimed', 837), ('clarity', 838), ('class', 839), ('classic', 840), ('classical', 841), ('classics', 842), ('classy', 843), ('clean', 844), ('clear', 845), ('clearer', 846), ('clearly', 847), ('clever', 848), ('cliche', 849), ('clichés', 850), ('clicks', 851), ('clients', 852), ('cliff', 853), ('climax', 854), ('climbing', 855), ('clip', 856), ('clipping', 857), ('clips', 858), ('clock', 859), ('close', 860), ('closed', 861), ('clothes', 862), ('club', 863), ('clue', 864), ('co', 865), ('coach', 866), ('coal', 867), ('coastal', 868), ('coaster', 869), ('cocktail', 870), ('cocktails', 871), ('coconut', 872), ('cod', 873), ('coffee', 874), ('coherent', 875), ('cold', 876), ('colder', 877), ('cole', 878), ('colleague', 879), ('collect', 880), ('collective', 881), ('college', 882), ('color', 883), ('colored', 884), ('colorful', 885), ('colors', 886), ('colours', 887), ('columbo', 888), ('combination', 889), ('combo', 890), ('combos', 891), ('come', 892), ('comedic', 893), ('comedy', 894), ('comes', 895), ('comfort', 896), ('comfortable', 897), ('comfortably', 898), ('comfortible', 899), ('comforting', 900), ('comical', 901), ('coming', 902), ('commands', 903), ('comment', 904), ('commentary', 905), ('commented', 906), ('comments', 907), ('commercial', 908), ('commercials', 909), ('common', 910), ('communicate', 911), ('communication', 912), ('communications', 913), ('community', 914), ('commuter', 915), ('companions', 916), ('company', 917), ('comparably', 918), ('compared', 919), ('compelling', 920), ('compete', 921), ('competent', 922), ('competitors', 923), ('complain', 924), ('complained', 925), ('complaint', 926), ('complaints', 927), ('complete', 928), ('completed', 929), ('completely', 930), ('complex', 931), ('complexity', 932), ('compliments', 933), ('composed', 934), ('composition', 935), ('comprehensible', 936), ('compromise', 937), ('computer', 938), ('con', 939), ('concentrate', 940), ('concept', 941), ('conception', 942), ('conceptually', 943), ('concern', 944), ('concerning', 945), ('concerns', 946), ('concert', 947), ('conclusion', 948), ('concrete', 949), ('condescends', 950), ('condiment', 951), ('conditions', 952), ('confidence', 953), ('configuration', 954), ('confirm', 955), ('conflict', 956), ('confortable', 957), ('confuses', 958), ('confusing', 959), ('connect', 960), ('connected', 961), ('connecting', 962), ('connection', 963), ('connections', 964), ('connery', 965), ('connisseur', 966), ('connoisseur', 967), ('connor', 968), ('conrad', 969), ('consequences', 970), ('consider', 971), ('considerable', 972), ('considered', 973), ('considering', 974), ('considers', 975), ('consistent', 976), ('consolations', 977), ('constant', 978), ('constantine', 979), ('constantly', 980), ('constructed', 981), ('construction', 982), ('consumer', 983), ('contact', 984), ('contacted', 985), ('contacting', 986), ('contacts', 987), ('contain', 988), ('contained', 989), ('containers', 990), ('containing', 991), ('contains', 992), ('content', 993), ('continually', 994), ('continuation', 995), ('continue', 996), ('continues', 997), ('continuity', 998), ('continuously', 999), ('contract', 1000), ('contrast', 1001), ('contributing', 1002), ('contributory', 1003), ('contrived', 1004), ('control', 1005), ('controls', 1006), ('controversy', 1007), ('contstruct', 1008), ('convenient', 1009), ('convention', 1010), ('conversation', 1011), ('conversations', 1012), ('converter', 1013), ('convey', 1014), ('convince', 1015), ('convincing', 1016), ('convoluted', 1017), ('cook', 1018), ('cooked', 1019), ('cooking', 1020), ('cool', 1021), ('copier', 1022), ('coppola', 1023), ('copy', 1024), ('corded', 1025), ('cords', 1026), ('core', 1027), ('corn', 1028), ('corny', 1029), ('corporation', 1030), ('correct', 1031), ('correction', 1032), ('correctly', 1033), ('cost', 1034), ('costco', 1035), ('costs', 1036), ('costumes', 1037), ('cotta', 1038), ('cotton', 1039), ('could', 1040), ('couldn', 1041), ('couldnt', 1042), ('count', 1043), ('counter', 1044), ('counterfeit', 1045), ('couple', 1046), ('couples', 1047), ('coupon', 1048), ('coupons', 1049), ('course', 1050), ('court', 1051), ('courteous', 1052), ('courtroom', 1053), ('cover', 1054), ('coverage', 1055), ('covered', 1056), ('covers', 1057), ('cow', 1058), ('cowardice', 1059), ('cox', 1060), ('coziness', 1061), ('crab', 1062), ('crack', 1063), ('cracked', 1064), ('crackles', 1065), ('cradle', 1066), ('cradles', 1067), ('crafted', 1068), ('cramming', 1069), ('cranberry', 1070), ('crap', 1071), ('crappy', 1072), ('crash', 1073), ('crashed', 1074), ('craving', 1075), ('crawfish', 1076), ('crawl', 1077), ('crayon', 1078), ('crayons', 1079), ('crazy', 1080), ('creaks', 1081), ('cream', 1082), ('creamy', 1083), ('create', 1084), ('created', 1085), ('creates', 1086), ('creative', 1087), ('creativity', 1088), ('creature', 1089), ('credible', 1090), ('credit', 1091), ('credits', 1092), ('crema', 1093), ('crepe', 1094), ('crew', 1095), ('crime', 1096), ('crisp', 1097), ('crispy', 1098), ('critic', 1099), ('critical', 1100), ('crocdodile', 1101), ('crocs', 1102), ('cross', 1103), ('crostini', 1104), ('croutons', 1105), ('crowd', 1106), ('crowds', 1107), ('crowe', 1108), ('cruel', 1109), ('cruise', 1110), ('crumby', 1111), ('crust', 1112), ('crusty', 1113), ('cry', 1114), ('crystals', 1115), ('crêpe', 1116), ('cuisine', 1117), ('cult', 1118), ('culture', 1119), ('cumbersome', 1120), ('current', 1121), ('currently', 1122), ('curry', 1123), ('curtain', 1124), ('curve', 1125), ('custer', 1126), ('customer', 1127), ('customers', 1128), ('customize', 1129), ('cut', 1130), ('cute', 1131), ('cutest', 1132), ('cutie', 1133), ('cutouts', 1134), ('cuts', 1135), ('cutting', 1136), ('d807', 1137), ('dads', 1138), ('daily', 1139), ('damage', 1140), ('damian', 1141), ('damn', 1142), ('dance', 1143), ('dancing', 1144), ('dangerous', 1145), ('dark', 1146), ('darn', 1147), ('darren', 1148), ('data', 1149), ('date', 1150), ('dates', 1151), ('daughter', 1152), ('daughters', 1153), ('day', 1154), ('days', 1155), ('de', 1156), ('dead', 1157), ('deadly', 1158), ('deadpan', 1159), ('deaf', 1160), ('deal', 1161), ('dealing', 1162), ('dealt', 1163), ('death', 1164), ('debated', 1165), ('debbie', 1166), ('debits', 1167), ('debut', 1168), ('decade', 1169), ('decay', 1170), ('decent', 1171), ('decide', 1172), ('decided', 1173), ('decidely', 1174), ('decipher', 1175), ('decision', 1176), ('decisions', 1177), ('decor', 1178), ('decorated', 1179), ('dedicated', 1180), ('dedication', 1181), ('dee', 1182), ('deep', 1183), ('deeply', 1184), ('def', 1185), ('defeats', 1186), ('defect', 1187), ('defective', 1188), ('defensemen', 1189), ('deffinitely', 1190), ('definately', 1191), ('defined', 1192), ('definitely', 1193), ('definitly', 1194), ('degree', 1195), ('del', 1196), ('delay', 1197), ('delete', 1198), ('delicate', 1199), ('delicioso', 1200), ('delicious', 1201), ('deliciously', 1202), ('delight', 1203), ('delightful', 1204), ('delights', 1205), ('delish', 1206), ('deliver', 1207), ('delivered', 1208), ('delivering', 1209), ('delivers', 1210), ('delivery', 1211), ('denny', 1212), ('dependant', 1213), ('depending', 1214), ('depends', 1215), ('depicted', 1216), ('depicts', 1217), ('depressing', 1218), ('depth', 1219), ('derivative', 1220), ('describe', 1221), ('described', 1222), ('describes', 1223), ('describing', 1224), ('description', 1225), ('descriptions', 1226), ('desert', 1227), ('deserved', 1228), ('deserves', 1229), ('deserving', 1230), ('design', 1231), ('designed', 1232), ('designer', 1233), ('designs', 1234), ('desired', 1235), ('desperately', 1236), ('desperation', 1237), ('despicable', 1238), ('despised', 1239), ('despite', 1240), ('dessert', 1241), ('desserts', 1242), ('destination', 1243), ('destroy', 1244), ('destroying', 1245), ('detachable', 1246), ('detailed', 1247), ('detailing', 1248), ('details', 1249), ('deuchebaggery', 1250), ('develop', 1251), ('development', 1252), ('developments', 1253), ('device', 1254), ('devices', 1255), ('devine', 1256), ('di', 1257), ('diabetic', 1258), ('dialing', 1259), ('dialog', 1260), ('dialogs', 1261), ('dialogue', 1262), ('diaper', 1263), ('dickens', 1264), ('did', 1265), ('didn', 1266), ('die', 1267), ('died', 1268), ('dieing', 1269), ('difference', 1270), ('different', 1271), ('difficult', 1272), ('dignity', 1273), ('dime', 1274), ('dimensional', 1275), ('dine', 1276), ('dining', 1277), ('dinner', 1278), ('dinners', 1279), ('dipping', 1280), ('direct', 1281), ('directed', 1282), ('directing', 1283), ('direction', 1284), ('directions', 1285), ('directly', 1286), ('director', 1287), ('directorial', 1288), ('directors', 1289), ('dirt', 1290), ('dirty', 1291), ('disagree', 1292), ('disapoinment', 1293), ('disapointing', 1294), ('disappoint', 1295), ('disappointed', 1296), ('disappointing', 1297), ('disappointment', 1298), ('disapppointment', 1299), ('disaster', 1300), ('disbelief', 1301), ('discarded', 1302), ('discomfort', 1303), ('disconnected', 1304), ('discount', 1305), ('discovering', 1306), ('discovery', 1307), ('disgrace', 1308), ('disgraceful', 1309), ('disgust', 1310), ('disgusted', 1311), ('disgusting', 1312), ('dish', 1313), ('dishes', 1314), ('dislike', 1315), ('disliked', 1316), ('disney', 1317), ('disparate', 1318), ('dispenser', 1319), ('display', 1320), ('displeased', 1321), ('disposable', 1322), ('disrespected', 1323), ('dissapointed', 1324), ('dissapointing', 1325), ('distant', 1326), ('distinction', 1327), ('distorted', 1328), ('distract', 1329), ('distracting', 1330), ('distressed', 1331), ('disturbing', 1332), ('dit', 1333), ('diverse', 1334), ('diving', 1335), ('division', 1336), ('dna', 1337), ('do', 1338), ('docking', 1339), ('doctor', 1340), ('documentaries', 1341), ('documentary', 1342), ('dodge', 1343), ('does', 1344), ('doesn', 1345), ('dog', 1346), ('dogs', 1347), ('doing', 1348), ('dollar', 1349), ('dollars', 1350), ('dominated', 1351), ('don', 1352), ('done', 1353), ('donlevy', 1354), ('dont', 1355), ('donut', 1356), ('doomed', 1357), ('door', 1358), ('dos', 1359), ('dosen', 1360), ('double', 1361), ('doubt', 1362), ('douchey', 1363), ('dough', 1364), ('doughy', 1365), ('down', 1366), ('download', 1367), ('downloading', 1368), ('downright', 1369), ('downs', 1370), ('downside', 1371), ('downtown', 1372), ('dozen', 1373), ('dozens', 1374), ('dr', 1375), ('dracula', 1376), ('draft', 1377), ('drag', 1378), ('drago', 1379), ('drain', 1380), ('drained', 1381), ('drains', 1382), ('drama', 1383), ('dramatic', 1384), ('drastically', 1385), ('drawback', 1386), ('drawing', 1387), ('drawings', 1388), ('drawn', 1389), ('dream', 1390), ('dreamed', 1391), ('dreams', 1392), ('dreary', 1393), ('drenched', 1394), ('dressed', 1395), ('dressing', 1396), ('dribble', 1397), ('dried', 1398), ('driest', 1399), ('drift', 1400), ('drifting', 1401), ('drink', 1402), ('drinking', 1403), ('drinks', 1404), ('dripping', 1405), ('drive', 1406), ('driving', 1407), ('drivng', 1408), ('droid', 1409), ('drooling', 1410), ('drop', 1411), ('dropped', 1412), ('dropping', 1413), ('drops', 1414), ('drunk', 1415), ('dry', 1416), ('dual', 1417), ('duck', 1418), ('dude', 1419), ('due', 1420), ('duet', 1421), ('dull', 1422), ('dumb', 1423), ('dumbest', 1424), ('duo', 1425), ('duper', 1426), ('durable', 1427), ('during', 1428), ('duris', 1429), ('dusted', 1430), ('dustin', 1431), ('dustpan', 1432), ('dvd', 1433), ('dwight', 1434), ('dying', 1435), ('dylan', 1436), ('dysfunction', 1437), ('e2', 1438), ('e715', 1439), ('each', 1440), ('ear', 1441), ('earbud', 1442), ('earbuds', 1443), ('earbugs', 1444), ('eargels', 1445), ('earlier', 1446), ('early', 1447), ('earpad', 1448), ('earphone', 1449), ('earphones', 1450), ('earpiece', 1451), ('earpieces', 1452), ('ears', 1453), ('earset', 1454), ('earth', 1455), ('ease', 1456), ('easier', 1457), ('easily', 1458), ('easy', 1459), ('eat', 1460), ('eaten', 1461), ('eating', 1462), ('ebay', 1463), ('ebola', 1464), ('eccleston', 1465), ('echo', 1466), ('eclectic', 1467), ('ed', 1468), ('edge', 1469), ('edible', 1470), ('edinburgh', 1471), ('editing', 1472), ('edition', 1473), ('educational', 1474), ('edward', 1475), ('eel', 1476), ('eew', 1477), ('effect', 1478), ('effective', 1479), ('effects', 1480), ('efficient', 1481), ('effort', 1482), ('efforts', 1483), ('egg', 1484), ('eggplant', 1485), ('eggs', 1486), ('egotism', 1487), ('eighth', 1488), ('eiko', 1489), ('either', 1490), ('elaborately', 1491), ('elderly', 1492), ('electronics', 1493), ('elegant', 1494), ('elegantly', 1495), ('element', 1496), ('elias', 1497), ('elk', 1498), ('eloquently', 1499), ('else', 1500), ('elsewhere', 1501), ('email', 1502), ('embarassing', 1503), ('embarrassed', 1504), ('embarrassing', 1505), ('embassy', 1506), ('embedded', 1507), ('emerge', 1508), ('emilio', 1509), ('emily', 1510), ('emoting', 1511), ('emotion', 1512), ('emotionally', 1513), ('emotions', 1514), ('emperor', 1515), ('employee', 1516), ('employees', 1517), ('empowerment', 1518), ('emptiness', 1519), ('empty', 1520), ('en', 1521), ('enchanting', 1522), ('encourage', 1523), ('end', 1524), ('endearing', 1525), ('ended', 1526), ('ending', 1527), ('endlessly', 1528), ('ends', 1529), ('energetic', 1530), ('energy', 1531), ('engaging', 1532), ('engineered', 1533), ('english', 1534), ('enhanced', 1535), ('enjoy', 1536), ('enjoyable', 1537), ('enjoyed', 1538), ('enjoyment', 1539), ('enough', 1540), ('ensued', 1541), ('enter', 1542), ('enterprise', 1543), ('entertained', 1544), ('entertaining', 1545), ('entertainment', 1546), ('enthusiastic', 1547), ('entire', 1548), ('entirely', 1549), ('entrance', 1550), ('entrees', 1551), ('env', 1552), ('episode', 1553), ('episodes', 1554), ('equally', 1555), ('equipment', 1556), ('equivalent', 1557), ('era', 1558), ('ergonomic', 1559), ('ericson', 1560), ('ericsson', 1561), ('errol', 1562), ('errors', 1563), ('escalating', 1564), ('escapism', 1565), ('especially', 1566), ('essence', 1567), ('essentially', 1568), ('establish', 1569), ('established', 1570), ('establishment', 1571), ('estate', 1572), ('estevez', 1573), ('etc', 1574), ('ethic', 1575), ('europe', 1576), ('european', 1577), ('evaluate', 1578), ('eve', 1579), ('even', 1580), ('evening', 1581), ('event', 1582), ('events', 1583), ('eventually', 1584), ('ever', 1585), ('every', 1586), ('everybody', 1587), ('everyday', 1588), ('everyone', 1589), ('everything', 1590), ('everywhere', 1591), ('evidently', 1592), ('evil', 1593), ('evinced', 1594), ('evokes', 1595), ('exactly', 1596), ('exaggerating', 1597), ('example', 1598), ('excalibur', 1599), ('exceeding', 1600), ('exceeds', 1601), ('excelent', 1602), ('excellent', 1603), ('excellently', 1604), ('excels', 1605), ('except', 1606), ('exceptional', 1607), ('exceptionally', 1608), ('excerpts', 1609), ('excessive', 1610), ('excessively', 1611), ('exchange', 1612), ('exchanged', 1613), ('excited', 1614), ('exciting', 1615), ('exclaim', 1616), ('excruciatingly', 1617), ('excrutiatingly', 1618), ('excuse', 1619), ('excuses', 1620), ('executed', 1621), ('exemplars', 1622), ('exercise', 1623), ('existent', 1624), ('existential', 1625), ('existing', 1626), ('expanded', 1627), ('expansive', 1628), ('expect', 1629), ('expectations', 1630), ('expected', 1631), ('expecting', 1632), ('expensive', 1633), ('experience', 1634), ('experienced', 1635), ('experiences', 1636), ('experiencing', 1637), ('expert', 1638), ('explain', 1639), ('explains', 1640), ('explanation', 1641), ('exploit', 1642), ('explorations', 1643), ('explosion', 1644), ('expression', 1645), ('exquisite', 1646), ('extant', 1647), ('extended', 1648), ('extensive', 1649), ('exterior', 1650), ('exteriors', 1651), ('external', 1652), ('extra', 1653), ('extraneous', 1654), ('extraordinary', 1655), ('extremely', 1656), ('eye', 1657), ('eyed', 1658), ('eyes', 1659), ('fabulous', 1660), ('face', 1661), ('faceplates', 1662), ('faces', 1663), ('facial', 1664), ('facing', 1665), ('fact', 1666), ('factor', 1667), ('factory', 1668), ('fail', 1669), ('failed', 1670), ('fails', 1671), ('fair', 1672), ('fairly', 1673), ('faithful', 1674), ('falafels', 1675), ('fall', 1676), ('falling', 1677), ('falls', 1678), ('falsely', 1679), ('falwell', 1680), ('fame', 1681), ('famed', 1682), ('familiar', 1683), ('family', 1684), ('famous', 1685), ('fan', 1686), ('fanciful', 1687), ('fancy', 1688), ('fans', 1689), ('fantastic', 1690), ('fantasy', 1691), ('far', 1692), ('farce', 1693), ('fare', 1694), ('fascinated', 1695), ('fascinating', 1696), ('fascination', 1697), ('fashioned', 1698), ('fast', 1699), ('faster', 1700), ('fat', 1701), ('father', 1702), ('faultless', 1703), ('fausa', 1704), ('faux', 1705), ('fav', 1706), ('favor', 1707), ('favorite', 1708), ('favourite', 1709), ('fear', 1710), ('feature', 1711), ('features', 1712), ('fee', 1713), ('feel', 1714), ('feeling', 1715), ('feelings', 1716), ('feels', 1717), ('feet', 1718), ('feisty', 1719), ('fell', 1720), ('fella', 1721), ('fellow', 1722), ('fellowes', 1723), ('felt', 1724), ('female', 1725), ('females', 1726), ('ferry', 1727), ('fest', 1728), ('few', 1729), ('fi', 1730), ('fiancé', 1731), ('fields', 1732), ('fifteen', 1733), ('fifties', 1734), ('figure', 1735), ('figured', 1736), ('file', 1737), ('filet', 1738), ('fill', 1739), ('fillet', 1740), ('filling', 1741), ('film', 1742), ('filmed', 1743), ('filmiing', 1744), ('filmmaker', 1745), ('filmography', 1746), ('films', 1747), ('final', 1748), ('finale', 1749), ('finally', 1750), ('financial', 1751), ('find', 1752), ('finds', 1753), ('fine', 1754), ('finest', 1755), ('finger', 1756), ('fingernails', 1757), ('fingers', 1758), ('finish', 1759), ('finished', 1760), ('fire', 1761), ('fireball', 1762), ('firehouse', 1763), ('first', 1764), ('fish', 1765), ('fishnet', 1766), ('fisted', 1767), ('fit', 1768), ('fits', 1769), ('five', 1770), ('fixes', 1771), ('flag', 1772), ('flair', 1773), ('flakes', 1774), ('flaming', 1775), ('flash', 1776), ('flashbacks', 1777), ('flat', 1778), ('flavor', 1779), ('flavored', 1780), ('flavorful', 1781), ('flavorless', 1782), ('flavors', 1783), ('flavourful', 1784), ('flaw', 1785), ('flawed', 1786), ('flawless', 1787), ('flawlessly', 1788), ('flaws', 1789), ('fleshed', 1790), ('flick', 1791), ('flicks', 1792), ('flimsy', 1793), ('flip', 1794), ('flipphones', 1795), ('fliptop', 1796), ('flirting', 1797), ('floor', 1798), ('flop', 1799), ('floppy', 1800), ('flops', 1801), ('florida', 1802), ('flowed', 1803), ('flower', 1804), ('fluffy', 1805), ('flush', 1806), ('fly', 1807), ('flying', 1808), ('flynn', 1809), ('fm', 1810), ('fo', 1811), ('focus', 1812), ('focused', 1813), ('fodder', 1814), ('folks', 1815), ('follow', 1816), ('followed', 1817), ('following', 1818), ('follows', 1819), ('fond', 1820), ('fondue', 1821), ('food', 1822), ('foods', 1823), ('fooled', 1824), ('foolish', 1825), ('foot', 1826), ('footage', 1827), ('football', 1828), ('for', 1829), ('force', 1830), ('forced', 1831), ('forces', 1832), ('ford', 1833), ('foreign', 1834), ('foreigner', 1835), ('forever', 1836), ('forgeries', 1837), ('forget', 1838), ('forgettable', 1839), ('forgetting', 1840), ('forgot', 1841), ('forgotten', 1842), ('form', 1843), ('format', 1844), ('former', 1845), ('fort', 1846), ('forth', 1847), ('forty', 1848), ('forward', 1849), ('forwarded', 1850), ('found', 1851), ('four', 1852), ('fourth', 1853), ('fox', 1854), ('foxx', 1855), ('fraction', 1856), ('frances', 1857), ('francis', 1858), ('francisco', 1859), ('frankly', 1860), ('freaking', 1861), ('free', 1862), ('freedom', 1863), ('freeman', 1864), ('freeway', 1865), ('freezes', 1866), ('freezing', 1867), ('french', 1868), ('frenchman', 1869), ('frequently4', 1870), ('frequentyly', 1871), ('fresh', 1872), ('freshness', 1873), ('fridays', 1874), ('fried', 1875), ('friend', 1876), ('friendly', 1877), ('friends', 1878), ('friendship', 1879), ('fries', 1880), ('frightening', 1881), ('frog', 1882), ('from', 1883), ('front', 1884), ('frontier', 1885), ('frost', 1886), ('frozen', 1887), ('fruit', 1888), ('frustrated', 1889), ('frustration', 1890), ('fry', 1891), ('fs', 1892), ('ft', 1893), ('fucking', 1894), ('fulci', 1895), ('fulfilling', 1896), ('fulfills', 1897), ('full', 1898), ('fully', 1899), ('fumbling', 1900), ('fun', 1901), ('function', 1902), ('functional', 1903), ('functionality', 1904), ('functions', 1905), ('fundamental', 1906), ('funniest', 1907), ('funny', 1908), ('further', 1909), ('furthermore', 1910), ('future', 1911), ('fuzzy', 1912), ('fx', 1913), ('gabriel', 1914), ('gadget', 1915), ('gadgets', 1916), ('gain', 1917), ('gake', 1918), ('galley', 1919), ('gallon', 1920), ('game', 1921), ('games', 1922), ('ganoush', 1923), ('garage', 1924), ('garbage', 1925), ('garbled', 1926), ('garbo', 1927), ('garden', 1928), ('garfield', 1929), ('garlic', 1930), ('gas', 1931), ('gaudi', 1932), ('gave', 1933), ('gay', 1934), ('gc', 1935), ('geek', 1936), ('geeky', 1937), ('gels', 1938), ('gem', 1939), ('general', 1940), ('generally', 1941), ('generates', 1942), ('generic', 1943), ('generous', 1944), ('genius', 1945), ('genre', 1946), ('gentle', 1947), ('gently', 1948), ('genuine', 1949), ('genuinely', 1950), ('george', 1951), ('gerardo', 1952), ('gere', 1953), ('get', 1954), ('gets', 1955), ('getting', 1956), ('ghibili', 1957), ('giallo', 1958), ('giant', 1959), ('gibberish', 1960), ('gifted', 1961), ('gimmick', 1962), ('giovanni', 1963), ('girl', 1964), ('girlfriend', 1965), ('girls', 1966), ('girolamo', 1967), ('give', 1968), ('given', 1969), ('gives', 1970), ('giving', 1971), ('glad', 1972), ('glance', 1973), ('glare', 1974), ('glass', 1975), ('glasses', 1976), ('gloriously', 1977), ('glove', 1978), ('gloves', 1979), ('glued', 1980), ('gluten', 1981), ('go', 1982), ('goalies', 1983), ('goat', 1984), ('god', 1985), ('godfathers', 1986), ('goes', 1987), ('going', 1988), ('gold', 1989), ('golden', 1990), ('gone', 1991), ('gonna', 1992), ('good', 1993), ('good7', 1994), ('google', 1995), ('gooodd', 1996), ('gordon', 1997), ('gore', 1998), ('goremeister', 1999), ('gorman', 2000), ('gosh', 2001), ('got', 2002), ('goth', 2003), ('gotta', 2004), ('gotten', 2005), ('gourmet', 2006), ('government', 2007), ('grab', 2008), ('grace', 2009), ('grade', 2010), ('gradually', 2011), ('grain', 2012), ('grainy', 2013), ('grandmother', 2014), ('granted', 2015), ('graphics', 2016), ('grasp', 2017), ('grates', 2018), ('gratitude', 2019), ('gratuity', 2020), ('grease', 2021), ('greasy', 2022), ('great', 2023), ('greater', 2024), ('greatest', 2025), ('greatness', 2026), ('greedy', 2027), ('greek', 2028), ('green', 2029), ('greens', 2030), ('greenstreet', 2031), ('greeted', 2032), ('grew', 2033), ('grey', 2034), ('grill', 2035), ('grilled', 2036), ('grim', 2037), ('grimes', 2038), ('gringos', 2039), ('grip', 2040), ('gripping', 2041), ('gristle', 2042), ('grocery', 2043), ('groove', 2044), ('gross', 2045), ('grossed', 2046), ('ground', 2047), ('group', 2048), ('groups', 2049), ('grow', 2050), ('grtting', 2051), ('guacamole', 2052), ('guards', 2053), ('guess', 2054), ('guest', 2055), ('guests', 2056), ('guilt', 2057), ('gung', 2058), ('guy', 2059), ('guys', 2060), ('gx2', 2061), ('gyro', 2062), ('gyros', 2063), ('h500', 2064), ('ha', 2065), ('hackneyed', 2066), ('had', 2067), ('hadn', 2068), ('haggis', 2069), ('hair', 2070), ('hairsplitting', 2071), ('half', 2072), ('halfway', 2073), ('halibut', 2074), ('ham', 2075), ('hamburger', 2076), ('han', 2077), ('hand', 2078), ('handed', 2079), ('handheld', 2080), ('handle', 2081), ('handled', 2082), ('handles', 2083), ('handling', 2084), ('handmade', 2085), ('hands', 2086), ('handset', 2087), ('handsfree', 2088), ('handy', 2089), ('hang', 2090), ('hankering', 2091), ('hankies', 2092), ('hanks', 2093), ('happen', 2094), ('happened', 2095), ('happening', 2096), ('happens', 2097), ('happier', 2098), ('happiness', 2099), ('happy', 2100), ('hard', 2101), ('hardest', 2102), ('hardly', 2103), ('harris', 2104), ('has', 2105), ('hasn', 2106), ('hat', 2107), ('hate', 2108), ('hated', 2109), ('hatred', 2110), ('haul', 2111), ('haunt', 2112), ('have', 2113), ('haven', 2114), ('havilland', 2115), ('having', 2116), ('hawaiian', 2117), ('hay', 2118), ('hayao', 2119), ('hayworth', 2120), ('hbo', 2121), ('he', 2122), ('head', 2123), ('headbands', 2124), ('headphones', 2125), ('heads', 2126), ('headset', 2127), ('headsets', 2128), ('healthy', 2129), ('hear', 2130), ('heard', 2131), ('hearing', 2132), ('heart', 2133), ('hearts', 2134), ('heartwarming', 2135), ('heat', 2136), ('heaven', 2137), ('heavy', 2138), ('heche', 2139), ('heels', 2140), ('heimer', 2141), ('heist', 2142), ('held', 2143), ('helen', 2144), ('hell', 2145), ('hella', 2146), ('hellish', 2147), ('hello', 2148), ('helms', 2149), ('help', 2150), ('helped', 2151), ('helpful', 2152), ('helping', 2153), ('helps', 2154), ('hence', 2155), ('hendrikson', 2156), ('her', 2157), ('here', 2158), ('hereas', 2159), ('hernandez', 2160), ('hero', 2161), ('heroes', 2162), ('heroine', 2163), ('heroism', 2164), ('hes', 2165), ('hey', 2166), ('hi', 2167), ('hide', 2168), ('high', 2169), ('higher', 2170), ('highest', 2171), ('highlight', 2172), ('highlighted', 2173), ('highlights', 2174), ('highly', 2175), ('highy', 2176), ('hilarious', 2177), ('hill', 2178), ('hilt', 2179), ('him', 2180), ('himself', 2181), ('hinge', 2182), ('hip', 2183), ('hiro', 2184), ('his', 2185), ('history', 2186), ('hit', 2187), ('hitch', 2188), ('hitchcock', 2189), ('hits', 2190), ('ho', 2191), ('hockey', 2192), ('hoffman', 2193), ('hold', 2194), ('holder', 2195), ('holding', 2196), ('holds', 2197), ('hole', 2198), ('holes', 2199), ('holiday', 2200), ('hollander', 2201), ('hollow', 2202), ('hollywood', 2203), ('holster', 2204), ('home', 2205), ('homemade', 2206), ('homework', 2207), ('honeslty', 2208), ('honest', 2209), ('honestly', 2210), ('honor', 2211), ('hook', 2212), ('hooked', 2213), ('hoot', 2214), ('hope', 2215), ('hoped', 2216), ('hopefully', 2217), ('hopeless', 2218), ('hopes', 2219), ('hoping', 2220), ('horrendous', 2221), ('horrendously', 2222), ('horrible', 2223), ('horrid', 2224), ('horrified', 2225), ('horror', 2226), ('horse', 2227), ('hospitality', 2228), ('host', 2229), ('hostess', 2230), ('hosting', 2231), ('hot', 2232), ('hottest', 2233), ('hour', 2234), ('hours', 2235), ('hoursthe', 2236), ('house', 2237), ('houses', 2238), ('how', 2239), ('howdy', 2240), ('howe', 2241), ('howell', 2242), ('however', 2243), ('hs850', 2244), ('huevos', 2245), ('huge', 2246), ('hugo', 2247), ('human', 2248), ('humanity', 2249), ('humans', 2250), ('humiliated', 2251), ('hummh', 2252), ('humming', 2253), ('hummus', 2254), ('humor', 2255), ('humorous', 2256), ('humour', 2257), ('hunan', 2258), ('hundred', 2259), ('hungry', 2260), ('hurry', 2261), ('hurt', 2262), ('husband', 2263), ('huston', 2264), ('hut', 2265), ('hybrid', 2266), ('hype', 2267), ('hypocrisy', 2268), ('iam', 2269), ('ians', 2270), ('ice', 2271), ('iced', 2272), ('idea', 2273), ('ideal', 2274), ('idealogical', 2275), ('identified', 2276), ('identifies', 2277), ('identify', 2278), ('idiot', 2279), ('idiotic', 2280), ('idyllic', 2281), ('if', 2282), ('iffy', 2283), ('ignore', 2284), ('ignored', 2285), ('igo', 2286), ('ill', 2287), ('im', 2288), ('imac', 2289), ('images', 2290), ('imaginable', 2291), ('imagination', 2292), ('imaginative', 2293), ('imagine', 2294), ('imagined', 2295), ('imdb', 2296), ('imitation', 2297), ('immediately', 2298), ('impact', 2299), ('impeccable', 2300), ('imperial', 2301), ('implausible', 2302), ('important', 2303), ('impossible', 2304), ('impressed', 2305), ('impression', 2306), ('impressive', 2307), ('improper', 2308), ('improve', 2309), ('improved', 2310), ('improvement', 2311), ('improvisation', 2312), ('impulse', 2313), ('in', 2314), ('inappropriate', 2315), ('incendiary', 2316), ('inch', 2317), ('inches', 2318), ('included', 2319), ('includes', 2320), ('including', 2321), ('incoming', 2322), ('incomprehensible', 2323), ('inconsiderate', 2324), ('inconsistencies', 2325), ('inconspicuous', 2326), ('incorrectness', 2327), ('increase', 2328), ('incrediable', 2329), ('incredible', 2330), ('incredibly', 2331), ('indeed', 2332), ('indescribably', 2333), ('indian', 2334), ('indicate', 2335), ('indication', 2336), ('indictment', 2337), ('indie', 2338), ('individual', 2339), ('indoor', 2340), ('indoors', 2341), ('indulgent', 2342), ('industrial', 2343), ('industry', 2344), ('ineptly', 2345), ('inexcusable', 2346), ('inexpensive', 2347), ('inexperience', 2348), ('inexplicable', 2349), ('infatuated', 2350), ('inflate', 2351), ('inform', 2352), ('informative', 2353), ('infra', 2354), ('infuriating', 2355), ('ingredients', 2356), ('initially', 2357), ('innocence', 2358), ('insane', 2359), ('insanely', 2360), ('insert', 2361), ('inside', 2362), ('insincere', 2363), ('insipid', 2364), ('insomniacs', 2365), ('inspiration', 2366), ('inspired', 2367), ('inspiring', 2368), ('install', 2369), ('installed', 2370), ('instance', 2371), ('instant', 2372), ('instantly', 2373), ('instead', 2374), ('instruction', 2375), ('instructions', 2376), ('instruments', 2377), ('insulin', 2378), ('insult', 2379), ('insulted', 2380), ('insults', 2381), ('intangibles', 2382), ('integral', 2383), ('integrated', 2384), ('integration', 2385), ('intelligence', 2386), ('intelligent', 2387), ('intended', 2388), ('intense', 2389), ('intensity', 2390), ('intentions', 2391), ('interacting', 2392), ('interest', 2393), ('interested', 2394), ('interesting', 2395), ('interface', 2396), ('interim', 2397), ('interior', 2398), ('intermittently', 2399), ('internet', 2400), ('interplay', 2401), ('interpretations', 2402), ('interview', 2403), ('into', 2404), ('intoning', 2405), ('intrigued', 2406), ('invented', 2407), ('inventive', 2408), ('investment', 2409), ('inviting', 2410), ('involved', 2411), ('involves', 2412), ('involving', 2413), ('iphone', 2414), ('ipod', 2415), ('ipods', 2416), ('iq', 2417), ('ir', 2418), ('irda', 2419), ('ireland', 2420), ('iriver', 2421), ('ironically', 2422), ('ironman', 2423), ('irons', 2424), ('ironside', 2425), ('irritating', 2426), ('is', 2427), ('ishioka', 2428), ('isn', 2429), ('issue', 2430), ('issues', 2431), ('it', 2432), ('italian', 2433), ('item', 2434), ('items', 2435), ('its', 2436), ('itself', 2437), ('ive', 2438), ('jabra', 2439), ('jabra350', 2440), ('jack', 2441), ('jaclyn', 2442), ('jalapeno', 2443), ('jamaican', 2444), ('james', 2445), ('jamie', 2446), ('japanese', 2447), ('jason', 2448), ('jawbone', 2449), ('jay', 2450), ('jealousy', 2451), ('jean', 2452), ('jeff', 2453), ('jenni', 2454), ('jennifer', 2455), ('jerk', 2456), ('jerks', 2457), ('jerky', 2458), ('jerry', 2459), ('jessica', 2460), ('jessice', 2461), ('jet', 2462), ('jewel', 2463), ('jiggle', 2464), ('jim', 2465), ('jimmy', 2466), ('job', 2467), ('jobs', 2468), ('joe', 2469), ('joey', 2470), ('john', 2471), ('join', 2472), ('joins', 2473), ('joint', 2474), ('joke', 2475), ('jokes', 2476), ('jonah', 2477), ('jones', 2478), ('journey', 2479), ('joy', 2480), ('joyce', 2481), ('juano', 2482), ('judge', 2483), ('judging', 2484), ('judith', 2485), ('judo', 2486), ('juice', 2487), ('julian', 2488), ('june', 2489), ('junk', 2490), ('junkyard', 2491), ('juries', 2492), ('just', 2493), ('justice', 2494), ('jutland', 2495), ('jx', 2496), ('kabuki', 2497), ('kanaly', 2498), ('kathy', 2499), ('keen', 2500), ('keep', 2501), ('keeping', 2502), ('keeps', 2503), ('keira', 2504), ('keith', 2505), ('kept', 2506), ('kevin', 2507), ('key', 2508), ('keyboard', 2509), ('keypad', 2510), ('keypads', 2511), ('keys', 2512), ('khao', 2513), ('kid', 2514), ('kiddos', 2515), ('kidnapped', 2516), ('kids', 2517), ('kieslowski', 2518), ('kill', 2519), ('killer', 2520), ('killing', 2521), ('killings', 2522), ('kind', 2523), ('kinda', 2524), ('kindle', 2525), ('kirk', 2526), ('kitchen', 2527), ('kitchy', 2528), ('kits', 2529), ('knew', 2530), ('knightley', 2531), ('knock', 2532), ('knocked', 2533), ('know', 2534), ('known', 2535), ('knows', 2536), ('koteas', 2537), ('kris', 2538), ('kristoffersen', 2539), ('krussel', 2540), ('kudos', 2541), ('l7c', 2542), ('la', 2543), ('labute', 2544), ('lack', 2545), ('lacked', 2546), ('lacking', 2547), ('lacks', 2548), ('ladies', 2549), ('lady', 2550), ('lame', 2551), ('lance', 2552), ('land', 2553), ('landscapes', 2554), ('lane', 2555), ('lange', 2556), ('lap', 2557), ('laptop', 2558), ('large', 2559), ('largely', 2560), ('larger', 2561), ('las', 2562), ('laselva', 2563), ('lassie', 2564), ('last', 2565), ('lasted', 2566), ('lasting', 2567), ('lastly', 2568), ('lasts', 2569), ('latch', 2570), ('latched', 2571), ('late', 2572), ('lately', 2573), ('later', 2574), ('latest', 2575), ('latifa', 2576), ('latin', 2577), ('latte', 2578), ('latter', 2579), ('laugh', 2580), ('laughable', 2581), ('laughed', 2582), ('laughing', 2583), ('laughs', 2584), ('law', 2585), ('lawyers', 2586), ('layers', 2587), ('lazy', 2588), ('lead', 2589), ('leading', 2590), ('leaf', 2591), ('leaks', 2592), ('leap', 2593), ('learn', 2594), ('learned', 2595), ('least', 2596), ('leather', 2597), ('leave', 2598), ('leaves', 2599), ('leaving', 2600), ('lee', 2601), ('left', 2602), ('leftover', 2603), ('legal', 2604), ('legendary', 2605), ('legit', 2606), ('legs', 2607), ('lemon', 2608), ('length', 2609), ('leni', 2610), ('lense', 2611), ('leopard', 2612), ('less', 2613), ('lesser', 2614), ('lesson', 2615), ('lestat', 2616), ('let', 2617), ('letdown', 2618), ('lets', 2619), ('letting', 2620), ('lettuce', 2621), ('level', 2622), ('levels', 2623), ('lewis', 2624), ('lg', 2625), ('lid', 2626), ('lie', 2627), ('lies', 2628), ('lieutenant', 2629), ('life', 2630), ('lifetime', 2631), ('light', 2632), ('lighter', 2633), ('lighting', 2634), ('lightly', 2635), ('lights', 2636), ('lightweight', 2637), ('like', 2638), ('liked', 2639), ('likes', 2640), ('liking', 2641), ('lil', 2642), ('lilli', 2643), ('lilt', 2644), ('limitations', 2645), ('limited', 2646), ('linda', 2647), ('line', 2648), ('linear', 2649), ('lined', 2650), ('lines', 2651), ('linked', 2652), ('linking', 2653), ('linksys', 2654), ('lino', 2655), ('lion', 2656), ('list', 2657), ('listed', 2658), ('listener', 2659), ('listening', 2660), ('lit', 2661), ('literally', 2662), ('littered', 2663), ('little', 2664), ('live', 2665), ('lived', 2666), ('lives', 2667), ('living', 2668), ('ll', 2669), ('loads', 2670), ('lobster', 2671), ('local', 2672), ('located', 2673), ('location', 2674), ('locations', 2675), ('lock', 2676), ('locked', 2677), ('locks', 2678), ('loewenhielm', 2679), ('logic', 2680), ('logitech', 2681), ('london', 2682), ('loneliness', 2683), ('long', 2684), ('longer', 2685), ('look', 2686), ('looked', 2687), ('looking', 2688), ('looks', 2689), ('loop', 2690), ('loops', 2691), ('loose', 2692), ('loosely', 2693), ('looses', 2694), ('lord', 2695), ('lordy', 2696), ('los', 2697), ('lose', 2698), ('losing', 2699), ('lost', 2700), ('lot', 2701), ('lots', 2702), ('loud', 2703), ('louder', 2704), ('loudest', 2705), ('loudly', 2706), ('loudspeaker', 2707), ('lousy', 2708), ('lovable', 2709), ('love', 2710), ('loved', 2711), ('lovely', 2712), ('lover', 2713), ('lovers', 2714), ('loves', 2715), ('loving', 2716), ('low', 2717), ('lower', 2718), ('lox', 2719), ('loyal', 2720), ('loyalty', 2721), ('lucio', 2722), ('luck', 2723), ('lucy', 2724), ('lugosi', 2725), ('luke', 2726), ('lukewarm', 2727), ('lunch', 2728), ('lust', 2729), ('luv', 2730), ('lyrics', 2731), ('mac', 2732), ('macarons', 2733), ('macbeth', 2734), ('machine', 2735), ('mad', 2736), ('made', 2737), ('madhouse', 2738), ('madison', 2739), ('magazine', 2740), ('magic', 2741), ('magical', 2742), ('magnetic', 2743), ('magnificent', 2744), ('mail', 2745), ('main', 2746), ('maine', 2747), ('mainly', 2748), ('mains', 2749), ('maintain', 2750), ('maintaining', 2751), ('maintains', 2752), ('major', 2753), ('majority', 2754), ('make', 2755), ('maker', 2756), ('makers', 2757), ('makes', 2758), ('making', 2759), ('male', 2760), ('males', 2761), ('mall', 2762), ('malta', 2763), ('man', 2764), ('managed', 2765), ('management', 2766), ('manager', 2767), ('manages', 2768), ('mandalay', 2769), ('mango', 2770), ('manna', 2771), ('mansonites', 2772), ('manual', 2773), ('manufacturer', 2774), ('many', 2775), ('marbles', 2776), ('march', 2777), ('margaritas', 2778), ('maria', 2779), ('marine', 2780), ('marion', 2781), ('mark', 2782), ('market', 2783), ('marred', 2784), ('marriage', 2785), ('marrow', 2786), ('martin', 2787), ('martini', 2788), ('mary', 2789), ('masculine', 2790), ('masculinity', 2791), ('massive', 2792), ('master', 2793), ('masterful', 2794), ('masterpiece', 2795), ('masterpieces', 2796), ('match', 2797), ('material', 2798), ('matrix', 2799), ('matter', 2800), ('matthews', 2801), ('mature', 2802), ('max', 2803), ('may', 2804), ('maybe', 2805), ('mayo', 2806), ('mchattie', 2807), ('mclaglen', 2808), ('me', 2809), ('meagre', 2810), ('meal', 2811), ('meals', 2812), ('mean', 2813), ('meanders', 2814), ('meaning', 2815), ('meanings', 2816), ('means', 2817), ('meant', 2818), ('meat', 2819), ('meatballs', 2820), ('meatloaf', 2821), ('meats', 2822), ('mechanism', 2823), ('media', 2824), ('medical', 2825), ('mediocre', 2826), ('mediterranean', 2827), ('medium', 2828), ('meet', 2829), ('mega', 2830), ('megapixels', 2831), ('meh', 2832), ('mein', 2833), ('meld', 2834), ('mellow', 2835), ('melodrama', 2836), ('melt', 2837), ('melted', 2838), ('melville', 2839), ('member', 2840), ('members', 2841), ('memorable', 2842), ('memories', 2843), ('memorized', 2844), ('memory', 2845), ('menace', 2846), ('menacing', 2847), ('mention', 2848), ('mentioned', 2849), ('menu', 2850), ('menus', 2851), ('mercy', 2852), ('mere', 2853), ('meredith', 2854), ('merit', 2855), ('mesmerising', 2856), ('mesquite', 2857), ('mess', 2858), ('message', 2859), ('messages', 2860), ('messaging', 2861), ('messes', 2862), ('metal', 2863), ('meteorite', 2864), ('metro', 2865), ('mexican', 2866), ('mgm', 2867), ('mic', 2868), ('michael', 2869), ('mickey', 2870), ('microphone', 2871), ('microsoft', 2872), ('mid', 2873), ('middle', 2874), ('might', 2875), ('mighty', 2876), ('mile', 2877), ('military', 2878), ('milk', 2879), ('milkshake', 2880), ('min', 2881), ('mind', 2882), ('mindblowing', 2883), ('mine', 2884), ('miner', 2885), ('mini', 2886), ('minor', 2887), ('mins', 2888), ('minute', 2889), ('minutes', 2890), ('mirage', 2891), ('mirrormask', 2892), ('miserable', 2893), ('miserably', 2894), ('mishima', 2895), ('misleading', 2896), ('misplace', 2897), ('miss', 2898), ('missed', 2899), ('missing', 2900), ('mistake', 2901), ('mistakes', 2902), ('mixed', 2903), ('miyazaki', 2904), ('mmmm', 2905), ('mobile', 2906), ('mode', 2907), ('model', 2908), ('modern', 2909), ('modest', 2910), ('moist', 2911), ('mojitos', 2912), ('mollusk', 2913), ('mom', 2914), ('moment', 2915), ('moments', 2916), ('momentum', 2917), ('money', 2918), ('monica', 2919), ('monkeys', 2920), ('monolog', 2921), ('monotonous', 2922), ('monster', 2923), ('monstrous', 2924), ('month', 2925), ('months', 2926), ('monumental', 2927), ('mood', 2928), ('moods', 2929), ('moral', 2930), ('more', 2931), ('morgan', 2932), ('morning', 2933), ('morons', 2934), ('mortified', 2935), ('most', 2936), ('mostly', 2937), ('mother', 2938), ('motion', 2939), ('motivations', 2940), ('moto', 2941), ('motor', 2942), ('motorola', 2943), ('motorolas', 2944), ('mountain', 2945), ('mouse', 2946), ('mouth', 2947), ('mouthful', 2948), ('mouths', 2949), ('move', 2950), ('moved', 2951), ('movements', 2952), ('moves', 2953), ('movie', 2954), ('movies', 2955), ('moving', 2956), ('moz', 2957), ('mozzarella', 2958), ('mp3', 2959), ('mp3s', 2960), ('ms', 2961), ('mst3k', 2962), ('much', 2963), ('muddled', 2964), ('muddy', 2965), ('muffin', 2966), ('muffled', 2967), ('multi', 2968), ('multiple', 2969), ('muppets', 2970), ('murder', 2971), ('murdered', 2972), ('murdering', 2973), ('murky', 2974), ('mushroom', 2975), ('mushrooms', 2976), ('music', 2977), ('musician', 2978), ('mussels', 2979), ('must', 2980), ('mute', 2981), ('my', 2982), ('myself', 2983), ('mystifying', 2984), ('naan', 2985), ('nachos', 2986), ('naked', 2987), ('name', 2988), ('nan', 2989), ('nano', 2990), ('nargile', 2991), ('narration', 2992), ('narrative', 2993), ('nasty', 2994), ('national', 2995), ('nationalities', 2996), ('native', 2997), ('natural', 2998), ('nature', 2999), ('naughty', 3000), ('navigate', 3001), ('nay', 3002), ('nc', 3003), ('near', 3004), ('nearly', 3005), ('neat', 3006), ('necklace', 3007), ('need', 3008), ('needed', 3009), ('needless', 3010), ('needlessly', 3011), ('needs', 3012), ('negative', 3013), ('negatively', 3014), ('negligent', 3015), ('negulesco', 3016), ('neighborhood', 3017), ('neighbour', 3018), ('neil', 3019), ('neither', 3020), ('nerves', 3021), ('nervous', 3022), ('net', 3023), ('netflix', 3024), ('network', 3025), ('never', 3026), ('nevertheless', 3027), ('nevsky', 3028), ('new', 3029), ('next', 3030), ('ngage', 3031), ('nice', 3032), ('nicely', 3033), ('nicer', 3034), ('nicest', 3035), ('nicola', 3036), ('night', 3037), ('nightmare', 3038), ('nigiri', 3039), ('nimoy', 3040), ('nine', 3041), ('ninja', 3042), ('no', 3043), ('noble', 3044), ('nobody', 3045), ('nobu', 3046), ('noca', 3047), ('noir', 3048), ('noise', 3049), ('noises', 3050), ('nokia', 3051), ('non', 3052), ('none', 3053), ('nonetheless', 3054), ('nonsense', 3055), ('noodles', 3056), ('nor', 3057), ('normal', 3058), ('normally', 3059), ('north', 3060), ('northern', 3061), ('nostalgia', 3062), ('not', 3063), ('notable', 3064), ('notch', 3065), ('note', 3066), ('noted', 3067), ('noteworthy', 3068), ('nothing', 3069), ('notice', 3070), ('noticed', 3071), ('novella', 3072), ('now', 3073), ('nude', 3074), ('number', 3075), ('numbers', 3076), ('numerous', 3077), ('nun', 3078), ('nuns', 3079), ('nurse', 3080), ('nut', 3081), ('nuts', 3082), ('nutshell', 3083), ('nyc', 3084), ('obliged', 3085), ('obsessed', 3086), ('obvious', 3087), ('obviously', 3088), ('occasional', 3089), ('occasionally', 3090), ('occasions', 3091), ('occupied', 3092), ('occur', 3093), ('occurs', 3094), ('odd', 3095), ('oem', 3096), ('of', 3097), ('off', 3098), ('offend', 3099), ('offensive', 3100), ('offer', 3101), ('offered', 3102), ('offering', 3103), ('offers', 3104), ('official', 3105), ('officially', 3106), ('often', 3107), ('oh', 3108), ('ohhh', 3109), ('oil', 3110), ('ok', 3111), ('okay', 3112), ('old', 3113), ('olde', 3114), ('older', 3115), ('ole', 3116), ('olives', 3117), ('olivia', 3118), ('omelets', 3119), ('omg', 3120), ('omit', 3121), ('on', 3122), ('once', 3123), ('one', 3124), ('ones', 3125), ('onion', 3126), ('online', 3127), ('only', 3128), ('oozes', 3129), ('open', 3130), ('opened', 3131), ('opening', 3132), ('opens', 3133), ('operas', 3134), ('operate', 3135), ('operates', 3136), ('operation', 3137), ('opinion', 3138), ('opportunity', 3139), ('opposed', 3140), ('optimal', 3141), ('option', 3142), ('options', 3143), ('or', 3144), ('ordeal', 3145), ('order', 3146), ('ordered', 3147), ('ordering', 3148), ('orders', 3149), ('organizational', 3150), ('oriented', 3151), ('original', 3152), ('originality', 3153), ('originally', 3154), ('origins', 3155), ('ortolani', 3156), ('os', 3157), ('oscar', 3158), ('other', 3159), ('others', 3160), ('otherwise', 3161), ('otto', 3162), ('ought', 3163), ('our', 3164), ('ourselves', 3165), ('out', 3166), ('outdoor', 3167), ('outgoing', 3168), ('outlandish', 3169), ('outlet', 3170), ('outlets', 3171), ('outperform', 3172), ('outrageously', 3173), ('outshining', 3174), ('outside', 3175), ('outstanding', 3176), ('outta', 3177), ('outward', 3178), ('oven', 3179), ('over', 3180), ('overacting', 3181), ('overall', 3182), ('overcome', 3183), ('overcooked', 3184), ('overdue', 3185), ('overhaul', 3186), ('overly', 3187), ('overnight', 3188), ('overnite', 3189), ('overpriced', 3190), ('override', 3191), ('overs', 3192), ('overt', 3193), ('overwhelmed', 3194), ('overwrought', 3195), ('owed', 3196), ('owls', 3197), ('own', 3198), ('owned', 3199), ('owner', 3200), ('owners', 3201), ('owning', 3202), ('owns', 3203), ('oy', 3204), ('oysters', 3205), ('pace', 3206), ('paced', 3207), ('pacing', 3208), ('pack', 3209), ('package', 3210), ('packaged', 3211), ('packed', 3212), ('pad', 3213), ('pads', 3214), ('paid', 3215), ('pain', 3216), ('painful', 3217), ('painfully', 3218), ('paint', 3219), ('painted', 3220), ('pair', 3221), ('paired', 3222), ('pairing', 3223), ('palance', 3224), ('palate', 3225), ('pale', 3226), ('palm', 3227), ('palms', 3228), ('palmtop', 3229), ('pan', 3230), ('pancake', 3231), ('pancakes', 3232), ('pandering', 3233), ('panna', 3234), ('pans', 3235), ('pants', 3236), ('paolo', 3237), ('pap', 3238), ('paper', 3239), ('papers', 3240), ('par', 3241), ('paradise', 3242), ('parents', 3243), ('park', 3244), ('parker', 3245), ('part', 3246), ('partaking', 3247), ('particular', 3248), ('particularly', 3249), ('parties', 3250), ('parts', 3251), ('party', 3252), ('passed', 3253), ('passion', 3254), ('past', 3255), ('pasta', 3256), ('pastas', 3257), ('pastry', 3258), ('patent', 3259), ('pathetic', 3260), ('patient', 3261), ('patio', 3262), ('patriotism', 3263), ('patron', 3264), ('pats', 3265), ('patty', 3266), ('paul', 3267), ('pause', 3268), ('pay', 3269), ('paying', 3270), ('pc', 3271), ('pcs', 3272), ('pda', 3273), ('peach', 3274), ('peachy', 3275), ('peaking', 3276), ('peanut', 3277), ('peanuts', 3278), ('pearls', 3279), ('pears', 3280), ('peas', 3281), ('pecan', 3282), ('peculiarity', 3283), ('pedestal', 3284), ('peeling', 3285), ('pencil', 3286), ('penne', 3287), ('penny', 3288), ('pens', 3289), ('people', 3290), ('pepper', 3291), ('perabo', 3292), ('perfect', 3293), ('perfected', 3294), ('perfection', 3295), ('perfectly', 3296), ('performance', 3297), ('performances', 3298), ('performed', 3299), ('performing', 3300), ('perhaps', 3301), ('period', 3302), ('periodically', 3303), ('periods', 3304), ('perpared', 3305), ('perplexing', 3306), ('person', 3307), ('personable', 3308), ('personalities', 3309), ('personally', 3310), ('peter', 3311), ('petrified', 3312), ('petroleum', 3313), ('petty', 3314), ('pg', 3315), ('phantasm', 3316), ('phenomenal', 3317), ('philadelphia', 3318), ('philippa', 3319), ('pho', 3320), ('phoenix', 3321), ('phone', 3322), ('phones', 3323), ('phony', 3324), ('photo', 3325), ('photograph', 3326), ('photography', 3327), ('phrase', 3328), ('physical', 3329), ('pi', 3330), ('piano', 3331), ('picked', 3332), ('pics', 3333), ('picture', 3334), ('pictures', 3335), ('piece', 3336), ('pieces', 3337), ('pile', 3338), ('pillow', 3339), ('pine', 3340), ('pineapple', 3341), ('pink', 3342), ('pissd', 3343), ('pita', 3344), ('pitch', 3345), ('pitiful', 3346), ('pixar', 3347), ('pixel', 3348), ('pizza', 3349), ('pizzas', 3350), ('place', 3351), ('placed', 3352), ('places', 3353), ('plain', 3354), ('plan', 3355), ('plane', 3356), ('planned', 3357), ('planning', 3358), ('plans', 3359), ('plantains', 3360), ('plantronics', 3361), ('plantronincs', 3362), ('plants', 3363), ('plastic', 3364), ('plate', 3365), ('plater', 3366), ('platter', 3367), ('play', 3368), ('played', 3369), ('player', 3370), ('players', 3371), ('playing', 3372), ('plays', 3373), ('pleasant', 3374), ('pleasantly', 3375), ('please', 3376), ('pleased', 3377), ('pleaser', 3378), ('pleasing', 3379), ('pleasure', 3380), ('pleather', 3381), ('pledge', 3382), ('plenty', 3383), ('plethora', 3384), ('plmer', 3385), ('plot', 3386), ('plug', 3387), ('plugged', 3388), ('plugs', 3389), ('plus', 3390), ('pm', 3391), ('pneumatic', 3392), ('pocket', 3393), ('pockets', 3394), ('poet', 3395), ('poetry', 3396), ('poignant', 3397), ('point', 3398), ('pointillistic', 3399), ('pointless', 3400), ('poised', 3401), ('poisoning', 3402), ('poler', 3403), ('polite', 3404), ('political', 3405), ('politically', 3406), ('politics', 3407), ('ponyo', 3408), ('poop', 3409), ('poor', 3410), ('poorly', 3411), ('pop', 3412), ('popcorn', 3413), ('popular', 3414), ('pork', 3415), ('port', 3416), ('portable', 3417), ('portion', 3418), ('portions', 3419), ('portraits', 3420), ('portrayal', 3421), ('portrayals', 3422), ('portrayed', 3423), ('portraying', 3424), ('positive', 3425), ('possesed', 3426), ('possibility', 3427), ('possible', 3428), ('possibly', 3429), ('post', 3430), ('posted', 3431), ('postinos', 3432), ('potato', 3433), ('potatoes', 3434), ('potentially', 3435), ('potted', 3436), ('poured', 3437), ('powdered', 3438), ('power', 3439), ('powerful', 3440), ('powerhouse', 3441), ('practical', 3442), ('practically', 3443), ('practice', 3444), ('pray', 3445), ('precisely', 3446), ('predict', 3447), ('predictable', 3448), ('predictably', 3449), ('prefer', 3450), ('preferably', 3451), ('prejudice', 3452), ('prelude', 3453), ('premise', 3454), ('premium', 3455), ('prepare', 3456), ('prepared', 3457), ('preparing', 3458), ('presence', 3459), ('presentation', 3460), ('presents', 3461), ('preservation', 3462), ('president', 3463), ('pretentious', 3464), ('pretext', 3465), ('prettier', 3466), ('pretty', 3467), ('prevents', 3468), ('previous', 3469), ('price', 3470), ('priced', 3471), ('prices', 3472), ('pricey', 3473), ('pricing', 3474), ('primal', 3475), ('primary', 3476), ('prime', 3477), ('print', 3478), ('privileged', 3479), ('probably', 3480), ('problem', 3481), ('problems', 3482), ('procedure', 3483), ('procedures', 3484), ('proceedings', 3485), ('process', 3486), ('proclaimed', 3487), ('produce', 3488), ('produced', 3489), ('producer', 3490), ('producers', 3491), ('product', 3492), ('production', 3493), ('products', 3494), ('professional', 3495), ('professionals', 3496), ('professor', 3497), ('profiterole', 3498), ('profound', 3499), ('program', 3500), ('progresses', 3501), ('promise', 3502), ('promised', 3503), ('promote', 3504), ('prompt', 3505), ('prompted', 3506), ('promptly', 3507), ('prone', 3508), ('propaganda', 3509), ('properly', 3510), ('pros', 3511), ('protected', 3512), ('protection', 3513), ('protective', 3514), ('protector', 3515), ('protects', 3516), ('proud', 3517), ('proudly', 3518), ('proven', 3519), ('provide', 3520), ('provided', 3521), ('provides', 3522), ('providing', 3523), ('provokes', 3524), ('provoking', 3525), ('ps', 3526), ('ps3', 3527), ('pseudo', 3528), ('psyched', 3529), ('psychological', 3530), ('psychotic', 3531), ('pub', 3532), ('public', 3533), ('publicly', 3534), ('pucks', 3535), ('puff', 3536), ('pull', 3537), ('pulled', 3538), ('pulling', 3539), ('pulls', 3540), ('pumpkin', 3541), ('punched', 3542), ('punches', 3543), ('punish', 3544), ('punishment', 3545), ('puppet', 3546), ('puppets', 3547), ('purcashed', 3548), ('purchase', 3549), ('purchased', 3550), ('purchases', 3551), ('purchasing', 3552), ('pure', 3553), ('puree', 3554), ('purity', 3555), ('purpose', 3556), ('puréed', 3557), ('push', 3558), ('pushed', 3559), ('put', 3560), ('putting', 3561), ('puzzle', 3562), ('pyromaniac', 3563), ('quaid', 3564), ('quaint', 3565), ('qualified', 3566), ('qualities', 3567), ('quality', 3568), ('quantity', 3569), ('question', 3570), ('questioning', 3571), ('quick', 3572), ('quicker', 3573), ('quickly', 3574), ('quiet', 3575), ('quinn', 3576), ('quit', 3577), ('quite', 3578), ('québec', 3579), ('qwerty', 3580), ('r450', 3581), ('race', 3582), ('racial', 3583), ('racism', 3584), ('radiant', 3585), ('raging', 3586), ('ramsey', 3587), ('ranch', 3588), ('rancheros', 3589), ('random', 3590), ('randomly', 3591), ('range', 3592), ('ranks', 3593), ('rapidly', 3594), ('rare', 3595), ('rarely', 3596), ('raspberry', 3597), ('rate', 3598), ('rated', 3599), ('rather', 3600), ('rating', 3601), ('ratings', 3602), ('ratio', 3603), ('rave', 3604), ('raver', 3605), ('raving', 3606), ('ravoli', 3607), ('raw', 3608), ('ray', 3609), ('razor', 3610), ('razr', 3611), ('re', 3612), ('reach', 3613), ('reaching', 3614), ('reactions', 3615), ('read', 3616), ('readers', 3617), ('reading', 3618), ('ready', 3619), ('real', 3620), ('realised', 3621), ('realistic', 3622), ('reality', 3623), ('realize', 3624), ('realized', 3625), ('really', 3626), ('reason', 3627), ('reasonable', 3628), ('reasonably', 3629), ('reasons', 3630), ('reboots', 3631), ('recall', 3632), ('reccomendation', 3633), ('reccommend', 3634), ('receipt', 3635), ('receive', 3636), ('received', 3637), ('receives', 3638), ('receiving', 3639), ('recent', 3640), ('recently', 3641), ('reception', 3642), ('recessed', 3643), ('recharge', 3644), ('recieve', 3645), ('recognition', 3646), ('recognizes', 3647), ('recommend', 3648), ('recommendation', 3649), ('recommended', 3650), ('recommending', 3651), ('reconciliation', 3652), ('recover', 3653), ('recurring', 3654), ('red', 3655), ('redeemed', 3656), ('redeeming', 3657), ('reduction', 3658), ('reenactments', 3659), ('references', 3660), ('refill', 3661), ('reflected', 3662), ('refrained', 3663), ('refreshing', 3664), ('refried', 3665), ('refund', 3666), ('refurb', 3667), ('refuse', 3668), ('refused', 3669), ('regarding', 3670), ('regardless', 3671), ('register', 3672), ('regret', 3673), ('regrettable', 3674), ('regrettably', 3675), ('regretted', 3676), ('regular', 3677), ('regularly', 3678), ('reheated', 3679), ('rejection', 3680), ('relate', 3681), ('related', 3682), ('relation', 3683), ('relations', 3684), ('relationship', 3685), ('relationships', 3686), ('relative', 3687), ('relatively', 3688), ('relax', 3689), ('relaxed', 3690), ('relaxing', 3691), ('release', 3692), ('released', 3693), ('reliability', 3694), ('relief', 3695), ('relleno', 3696), ('relocated', 3697), ('relying', 3698), ('remaining', 3699), ('remake', 3700), ('remarkable', 3701), ('remember', 3702), ('reminded', 3703), ('reminds', 3704), ('remorse', 3705), ('remotely', 3706), ('removing', 3707), ('rendering', 3708), ('renders', 3709), ('rendition', 3710), ('renowned', 3711), ('rent', 3712), ('reoccure', 3713), ('repair', 3714), ('repeated', 3715), ('repeating', 3716), ('repeats', 3717), ('repertory', 3718), ('replace', 3719), ('replaced', 3720), ('replacement', 3721), ('replacementr', 3722), ('replenished', 3723), ('reporter', 3724), ('represents', 3725), ('requested', 3726), ('require', 3727), ('requirements', 3728), ('rescue', 3729), ('research', 3730), ('researched', 3731), ('reservation', 3732), ('resistant', 3733), ('resolution', 3734), ('resounding', 3735), ('respect', 3736), ('respecting', 3737), ('rest', 3738), ('restaraunt', 3739), ('restart', 3740), ('restaurant', 3741), ('restaurants', 3742), ('restocking', 3743), ('restored', 3744), ('restrained', 3745), ('rests', 3746), ('result', 3747), ('results', 3748), ('resume', 3749), ('retarded', 3750), ('retreat', 3751), ('return', 3752), ('returned', 3753), ('returning', 3754), ('revealing', 3755), ('revenge', 3756), ('revere', 3757), ('reverse', 3758), ('reversible', 3759), ('review', 3760), ('reviewer', 3761), ('reviewers', 3762), ('reviewing', 3763), ('reviews', 3764), ('revisiting', 3765), ('rge', 3766), ('ri', 3767), ('rib', 3768), ('ribeye', 3769), ('rice', 3770), ('rich', 3771), ('rick', 3772), ('rickman', 3773), ('ride', 3774), ('ridiculous', 3775), ('ridiculousness', 3776), ('right', 3777), ('riingtones', 3778), ('ring', 3779), ('ringer', 3780), ('ringing', 3781), ('rings', 3782), ('ringtones', 3783), ('rinse', 3784), ('riot', 3785), ('rip', 3786), ('ripped', 3787), ('rips', 3788), ('rise', 3789), ('risk', 3790), ('risotto', 3791), ('rita', 3792), ('rivalry', 3793), ('riveted', 3794), ('riz', 3795), ('road', 3796), ('roam', 3797), ('roast', 3798), ('roasted', 3799), ('robert', 3800), ('robotic', 3801), ('rochon', 3802), ('rock', 3803), ('rocked', 3804), ('rocketed', 3805), ('rocks', 3806), ('roeg', 3807), ('role', 3808), ('roles', 3809), ('roll', 3810), ('rolled', 3811), ('roller', 3812), ('rolls', 3813), ('romantic', 3814), ('room', 3815), ('roosevelt', 3816), ('rotating', 3817), ('roth', 3818), ('rough', 3819), ('round', 3820), ('routine', 3821), ('row', 3822), ('rowdy', 3823), ('rpg', 3824), ('rpger', 3825), ('rubber', 3826), ('rubbish', 3827), ('rubin', 3828), ('rude', 3829), ('rudely', 3830), ('rumbles', 3831), ('run', 3832), ('running', 3833), ('runs', 3834), ('rushed', 3835), ('ruthless', 3836), ('ryan', 3837), ('ryans', 3838), ('s11', 3839), ('s710a', 3840), ('sabotages', 3841), ('sack', 3842), ('sacrifice', 3843), ('sad', 3844), ('sadly', 3845), ('saffron', 3846), ('saganaki', 3847), ('saggy', 3848), ('said', 3849), ('sake', 3850), ('salad', 3851), ('salads', 3852), ('salesman', 3853), ('salmon', 3854), ('sals', 3855), ('salsa', 3856), ('salt', 3857), ('salty', 3858), ('sam', 3859), ('same', 3860), ('sample', 3861), ('samsung', 3862), ('san', 3863), ('sand', 3864), ('sandra', 3865), ('sandwich', 3866), ('sandwiches', 3867), ('sangria', 3868), ('sanyo', 3869), ('sappiest', 3870), ('sarcophage', 3871), ('sashimi', 3872), ('sat', 3873), ('satanic', 3874), ('satifying', 3875), ('satisfied', 3876), ('satisfying', 3877), ('satisifed', 3878), ('sauce', 3879), ('sauces', 3880), ('sause', 3881), ('savalas', 3882), ('savant', 3883), ('save', 3884), ('saved', 3885), ('saving', 3886), ('savor', 3887), ('saw', 3888), ('say', 3889), ('saying', 3890), ('says', 3891), ('scale', 3892), ('scallop', 3893), ('scamp', 3894), ('scare', 3895), ('scared', 3896), ('scares', 3897), ('scary', 3898), ('scene', 3899), ('scenery', 3900), ('scenes', 3901), ('sch', 3902), ('schilling', 3903), ('schizophrenic', 3904), ('school', 3905), ('schoolers', 3906), ('schrader', 3907), ('schultz', 3908), ('sci', 3909), ('science', 3910), ('scientist', 3911), ('score', 3912), ('scot', 3913), ('scottsdale', 3914), ('scratch', 3915), ('scratched', 3916), ('scream', 3917), ('screams', 3918), ('screamy', 3919), ('screen', 3920), ('screened', 3921), ('screenplay', 3922), ('screens', 3923), ('screenwriter', 3924), ('screwed', 3925), ('scrimm', 3926), ('script', 3927), ('scripted', 3928), ('scripting', 3929), ('scripts', 3930), ('sculpture', 3931), ('sea', 3932), ('seafood', 3933), ('seal', 3934), ('seamless', 3935), ('seamlessly', 3936), ('sean', 3937), ('searched', 3938), ('season', 3939), ('seasonal', 3940), ('seasoned', 3941), ('seasoning', 3942), ('seat', 3943), ('seated', 3944), ('seating', 3945), ('second', 3946), ('secondary', 3947), ('secondly', 3948), ('seconds', 3949), ('section', 3950), ('secure', 3951), ('securely', 3952), ('securly', 3953), ('see', 3954), ('seeen', 3955), ('seeing', 3956), ('seem', 3957), ('seemed', 3958), ('seems', 3959), ('seen', 3960), ('selection', 3961), ('selections', 3962), ('self', 3963), ('seller', 3964), ('sells', 3965), ('semi', 3966), ('send', 3967), ('sending', 3968), ('senior', 3969), ('sense', 3970), ('senses', 3971), ('sensibility', 3972), ('sensitive', 3973), ('sensitivities', 3974), ('sensor', 3975), ('sent', 3976), ('sentiment', 3977), ('seperate', 3978), ('seperated', 3979), ('sequel', 3980), ('sequels', 3981), ('sequence', 3982), ('sequences', 3983), ('sergeant', 3984), ('series', 3985), ('serious', 3986), ('seriously', 3987), ('serivce', 3988), ('serve', 3989), ('served', 3990), ('server', 3991), ('servers', 3992), ('serves', 3993), ('service', 3994), ('services', 3995), ('serving', 3996), ('set', 3997), ('sets', 3998), ('setting', 3999), ('settings', 4000), ('setup', 4001), ('seuss', 4002), ('sever', 4003), ('several', 4004), ('severe', 4005), ('sewer', 4006), ('sex', 4007), ('sexy', 4008), ('shakespear', 4009), ('shakespears', 4010), ('shall', 4011), ('shallow', 4012), ('shame', 4013), ('shameful', 4014), ('shape', 4015), ('share', 4016), ('sharing', 4017), ('sharp', 4018), ('sharply', 4019), ('shatner', 4020), ('shattered', 4021), ('shawarrrrrrma', 4022), ('she', 4023), ('shed', 4024), ('sheer', 4025), ('shelf', 4026), ('shell', 4027), ('shelves', 4028), ('shenanigans', 4029), ('shepard', 4030), ('shield', 4031), ('shifting', 4032), ('shine', 4033), ('shined', 4034), ('shiny', 4035), ('shipment', 4036), ('shipped', 4037), ('shipping', 4038), ('shirley', 4039), ('shirt', 4040), ('shocked', 4041), ('shocking', 4042), ('shoe', 4043), ('shooters', 4044), ('shooting', 4045), ('shoots', 4046), ('shop', 4047), ('shopping', 4048), ('shops', 4049), ('short', 4050), ('shortlist', 4051), ('shot', 4052), ('shots', 4053), ('should', 4054), ('shouldn', 4055), ('shouldve', 4056), ('shouting', 4057), ('show', 4058), ('showcasing', 4059), ('showed', 4060), ('shower', 4061), ('shows', 4062), ('shrimp', 4063), ('shut', 4064), ('sibling', 4065), ('sick', 4066), ('side', 4067), ('sidelined', 4068), ('sides', 4069), ('sight', 4070), ('sign', 4071), ('signal', 4072), ('signals', 4073), ('significant', 4074), ('significantly', 4075), ('signs', 4076), ('silent', 4077), ('silently', 4078), ('silly', 4079), ('sim', 4080), ('similar', 4081), ('similarly', 4082), ('simmering', 4083), ('simple', 4084), ('simpler', 4085), ('simplifying', 4086), ('simply', 4087), ('since', 4088), ('sincere', 4089), ('sing', 4090), ('singing', 4091), ('single', 4092), ('sinister', 4093), ('sink', 4094), ('sinking', 4095), ('sins', 4096), ('sister', 4097), ('sisters', 4098), ('sit', 4099), ('sitcoms', 4100), ('site', 4101), ('sites', 4102), ('sits', 4103), ('sitting', 4104), ('situation', 4105), ('situations', 4106), ('six', 4107), ('size', 4108), ('sizes', 4109), ('sketchy', 4110), ('skilled', 4111), ('skimp', 4112), ('skip', 4113), ('skype', 4114), ('slackers', 4115), ('slavic', 4116), ('slaw', 4117), ('sleek', 4118), ('sleep', 4119), ('sliced', 4120), ('slices', 4121), ('slid', 4122), ('slide', 4123), ('slider', 4124), ('slideshow', 4125), ('sliding', 4126), ('slightest', 4127), ('slightly', 4128), ('slim', 4129), ('slimy', 4130), ('slipping', 4131), ('sloppy', 4132), ('slow', 4133), ('slowly', 4134), ('slurs', 4135), ('smack', 4136), ('small', 4137), ('smaller', 4138), ('smallest', 4139), ('smart', 4140), ('smartphone', 4141), ('smashburger', 4142), ('smeared', 4143), ('smell', 4144), ('smelled', 4145), ('smells', 4146), ('smile', 4147), ('smiling', 4148), ('smith', 4149), ('smoke', 4150), ('smoking', 4151), ('smooth', 4152), ('smoother', 4153), ('smoothies', 4154), ('smoothly', 4155), ('smudged', 4156), ('snap', 4157), ('snider', 4158), ('snow', 4159), ('snug', 4160), ('so', 4161), ('soap', 4162), ('sobering', 4163), ('social', 4164), ('soft', 4165), ('software', 4166), ('soggy', 4167), ('soi', 4168), ('sold', 4169), ('soldiers', 4170), ('sole', 4171), ('solid', 4172), ('solidify', 4173), ('solidifying', 4174), ('solving', 4175), ('some', 4176), ('somehow', 4177), ('someone', 4178), ('somethat', 4179), ('something', 4180), ('sometimes', 4181), ('somewhat', 4182), ('somewhere', 4183), ('son', 4184), ('song', 4185), ('songs', 4186), ('sony', 4187), ('soon', 4188), ('sooner', 4189), ('soooo', 4190), ('sooooo', 4191), ('soooooo', 4192), ('sophisticated', 4193), ('sore', 4194), ('sorely', 4195), ('sorrentino', 4196), ('sorry', 4197), ('sort', 4198), ('sos', 4199), ('soul', 4200), ('sound', 4201), ('sounded', 4202), ('sounds', 4203), ('soundtrack', 4204), ('soup', 4205), ('soups', 4206), ('sour', 4207), ('source', 4208), ('sources', 4209), ('south', 4210), ('southern', 4211), ('southwest', 4212), ('soyo', 4213), ('space', 4214), ('spacek', 4215), ('spacey', 4216), ('spaghetti', 4217), ('span', 4218), ('speak', 4219), ('speaker', 4220), ('speakerphone', 4221), ('speaking', 4222), ('special', 4223), ('specially', 4224), ('specials', 4225), ('specs', 4226), ('speed', 4227), ('speedy', 4228), ('spend', 4229), ('spends', 4230), ('spent', 4231), ('spew', 4232), ('sphere', 4233), ('spice', 4234), ('spices', 4235), ('spicier', 4236), ('spicy', 4237), ('spiffy', 4238), ('spinach', 4239), ('spinn', 4240), ('splendid', 4241), ('spock', 4242), ('spoil', 4243), ('spoiled', 4244), ('spoiler', 4245), ('spoilers', 4246), ('sporting', 4247), ('spot', 4248), ('spots', 4249), ('spotty', 4250), ('spring', 4251), ('sprint', 4252), ('sprouts', 4253), ('spy', 4254), ('squibs', 4255), ('stable', 4256), ('staff', 4257), ('stage', 4258), ('stagey', 4259), ('stagy', 4260), ('stale', 4261), ('stand', 4262), ('standard', 4263), ('standout', 4264), ('stanwyck', 4265), ('star', 4266), ('starlet', 4267), ('starring', 4268), ('stars', 4269), ('start', 4270), ('startac', 4271), ('started', 4272), ('starter', 4273), ('starts', 4274), ('starving', 4275), ('state', 4276), ('stated', 4277), ('static', 4278), ('station', 4279), ('stay', 4280), ('stayed', 4281), ('staying', 4282), ('stays', 4283), ('steak', 4284), ('steakhouse', 4285), ('steaks', 4286), ('stealing', 4287), ('steamboat', 4288), ('steele', 4289), ('steep', 4290), ('steer', 4291), ('steiners', 4292), ('step', 4293), ('stephen', 4294), ('stepped', 4295), ('stereo', 4296), ('stereotypes', 4297), ('stereotypically', 4298), ('steve', 4299), ('stewart', 4300), ('stick', 4301), ('sticks', 4302), ('still', 4303), ('stinker', 4304), ('stinks', 4305), ('stir', 4306), ('stocking', 4307), ('stockings', 4308), ('stoic', 4309), ('stomach', 4310), ('stood', 4311), ('stop', 4312), ('stopped', 4313), ('stops', 4314), ('storage', 4315), ('store', 4316), ('stories', 4317), ('storm', 4318), ('story', 4319), ('storyline', 4320), ('storytelling', 4321), ('stowe', 4322), ('strange', 4323), ('stranger', 4324), ('strangers', 4325), ('strap', 4326), ('stratus', 4327), ('straw', 4328), ('strawberry', 4329), ('stream', 4330), ('street', 4331), ('strength', 4332), ('stress', 4333), ('stretch', 4334), ('strident', 4335), ('strike', 4336), ('string', 4337), ('strings', 4338), ('strip', 4339), ('strives', 4340), ('strokes', 4341), ('strong', 4342), ('struck', 4343), ('structure', 4344), ('struggle', 4345), ('stuart', 4346), ('stuck', 4347), ('student', 4348), ('students', 4349), ('studio', 4350), ('study', 4351), ('stuff', 4352), ('stuffed', 4353), ('stunning', 4354), ('stupid', 4355), ('stupidity', 4356), ('sturdiness', 4357), ('sturdy', 4358), ('style', 4359), ('styles', 4360), ('styling', 4361), ('stylish', 4362), ('stylized', 4363), ('styrofoam', 4364), ('sub', 4365), ('subject', 4366), ('subjects', 4367), ('sublime', 4368), ('sublimely', 4369), ('submerged', 4370), ('subpar', 4371), ('subplots', 4372), ('subtitles', 4373), ('subtle', 4374), ('subversive', 4375), ('subverting', 4376), ('subway', 4377), ('succeeded', 4378), ('succeeds', 4379), ('success', 4380), ('succulent', 4381), ('such', 4382), ('suck', 4383), ('sucked', 4384), ('sucker', 4385), ('sucks', 4386), ('sudden', 4387), ('suddenly', 4388), ('suffered', 4389), ('suffering', 4390), ('suffers', 4391), ('sugar', 4392), ('sugary', 4393), ('suggest', 4394), ('suggestions', 4395), ('suggests', 4396), ('suited', 4397), ('sum', 4398), ('summarize', 4399), ('summary', 4400), ('summer', 4401), ('sun', 4402), ('sunday', 4403), ('sundays', 4404), ('sunglasses', 4405), ('super', 4406), ('superb', 4407), ('superbad', 4408), ('superbly', 4409), ('superfast', 4410), ('superficial', 4411), ('superlative', 4412), ('supernatural', 4413), ('supertooth', 4414), ('support', 4415), ('supporting', 4416), ('supposed', 4417), ('supposedly', 4418), ('suprised', 4419), ('sure', 4420), ('surefire', 4421), ('surely', 4422), ('surf', 4423), ('surface', 4424), ('surprise', 4425), ('surprised', 4426), ('surprises', 4427), ('surprising', 4428), ('surprisingly', 4429), ('surrounding', 4430), ('surroundings', 4431), ('survived', 4432), ('survivors', 4433), ('sushi', 4434), ('suspense', 4435), ('suspension', 4436), ('sven', 4437), ('swamp', 4438), ('sweep', 4439), ('sweet', 4440), ('sweetest', 4441), ('switch', 4442), ('switched', 4443), ('swivel', 4444), ('swords', 4445), ('swung', 4446), ('sydney', 4447), ('sympathetic', 4448), ('sync', 4449), ('synchronization', 4450), ('syrupy', 4451), ('system', 4452), ('table', 4453), ('tables', 4454), ('tacky', 4455), ('taco', 4456), ('tacos', 4457), ('taelons', 4458), ('tailored', 4459), ('take', 4460), ('taken', 4461), ('takeout', 4462), ('takes', 4463), ('taking', 4464), ('tale', 4465), ('talent', 4466), ('talented', 4467), ('talents', 4468), ('talk', 4469), ('talking', 4470), ('tanks', 4471), ('tap', 4472), ('tapas', 4473), ('tape', 4474), ('taped', 4475), ('tardis', 4476), ('tartar', 4477), ('tartare', 4478), ('task', 4479), ('taste', 4480), ('tasted', 4481), ('tasteless', 4482), ('tastings', 4483), ('tasty', 4484), ('tater', 4485), ('taxidermists', 4486), ('taylor', 4487), ('tea', 4488), ('teacher', 4489), ('teaches', 4490), ('team', 4491), ('teamwork', 4492), ('tear', 4493), ('tears', 4494), ('tech', 4495), ('technically', 4496), ('technology', 4497), ('teddy', 4498), ('tedium', 4499), ('teen', 4500), ('teenagers', 4501), ('teeth', 4502), ('telephone', 4503), ('television', 4504), ('tell', 4505), ('telly', 4506), ('temp', 4507), ('temperaments', 4508), ('ten', 4509), ('tender', 4510), ('tenders', 4511), ('tension', 4512), ('tensions', 4513), ('tepid', 4514), ('terminology', 4515), ('terms', 4516), ('terrible', 4517), ('terribly', 4518), ('terrific', 4519), ('terror', 4520), ('texas', 4521), ('text', 4522), ('texture', 4523), ('th', 4524), ('thai', 4525), ('than', 4526), ('thank', 4527), ('thanks', 4528), ('that', 4529), ('thats', 4530), ('the', 4531), ('theater', 4532), ('theatre', 4533), ('theatres', 4534), ('theatrical', 4535), ('theft', 4536), ('their', 4537), ('them', 4538), ('theme', 4539), ('themes', 4540), ('themselves', 4541), ('then', 4542), ('theory', 4543), ('therapy', 4544), ('there', 4545), ('thereplacement', 4546), ('these', 4547), ('they', 4548), ('thick', 4549), ('thin', 4550), ('thing', 4551), ('things', 4552), ('think', 4553), ('thinking', 4554), ('thinly', 4555), ('third', 4556), ('thirty', 4557), ('this', 4558), ('thomerson', 4559), ('thorn', 4560), ('thoroughly', 4561), ('thorsen', 4562), ('those', 4563), ('though', 4564), ('thought', 4565), ('thoughts', 4566), ('thousand', 4567), ('thread', 4568), ('three', 4569), ('threshold', 4570), ('threw', 4571), ('thrilled', 4572), ('thriller', 4573), ('thrillers', 4574), ('through', 4575), ('throughout', 4576), ('throwback', 4577), ('thrown', 4578), ('thru', 4579), ('thug', 4580), ('thumbs', 4581), ('thumper', 4582), ('thunderbirds', 4583), ('thus', 4584), ('tick', 4585), ('ticker', 4586), ('tickets', 4587), ('ticking', 4588), ('tied', 4589), ('tigerlilly', 4590), ('tight', 4591), ('tightly', 4592), ('time', 4593), ('timeframe', 4594), ('timeless', 4595), ('timely', 4596), ('timers', 4597), ('times', 4598), ('timing', 4599), ('tinny', 4600), ('tiny', 4601), ('tip', 4602), ('tips', 4603), ('tiramisu', 4604), ('tired', 4605), ('title', 4606), ('titta', 4607), ('tmobile', 4608), ('to', 4609), ('toactivate', 4610), ('toast', 4611), ('toasted', 4612), ('today', 4613), ('together', 4614), ('toilet', 4615), ('told', 4616), ('tolerable', 4617), ('tolerance', 4618), ('tolerate', 4619), ('tom', 4620), ('tomato', 4621), ('tomorrow', 4622), ('tone', 4623), ('tones', 4624), ('tongue', 4625), ('tonight', 4626), ('tons', 4627), ('tony', 4628), ('too', 4629), ('took', 4630), ('tool', 4631), ('tools', 4632), ('toons', 4633), ('tooth', 4634), ('top', 4635), ('topic', 4636), ('tops', 4637), ('toro', 4638), ('torture', 4639), ('tortured', 4640), ('total', 4641), ('totally', 4642), ('tots', 4643), ('touch', 4644), ('touched', 4645), ('touches', 4646), ('touching', 4647), ('tough', 4648), ('towards', 4649), ('towers', 4650), ('town', 4651), ('townsend', 4652), ('tracfone', 4653), ('tracfonewebsite', 4654), ('track', 4655), ('tracked', 4656), ('tracking', 4657), ('tract', 4658), ('traditional', 4659), ('traffic', 4660), ('tragedy', 4661), ('trailer', 4662), ('train', 4663), ('tranquillity', 4664), ('transceiver', 4665), ('transcend', 4666), ('transcendant', 4667), ('transfer', 4668), ('transfers', 4669), ('transformed', 4670), ('translate', 4671), ('translating', 4672), ('transmission', 4673), ('transmit', 4674), ('transmitters', 4675), ('trap', 4676), ('trash', 4677), ('trashy', 4678), ('travled', 4679), ('treachery', 4680), ('treasure', 4681), ('treat', 4682), ('treated', 4683), ('treatments', 4684), ('trek', 4685), ('tremendous', 4686), ('tremendously', 4687), ('treo', 4688), ('tribute', 4689), ('tricky', 4690), ('tried', 4691), ('tries', 4692), ('trilogy', 4693), ('trimmed', 4694), ('trinity', 4695), ('trip', 4696), ('trippy', 4697), ('trips', 4698), ('triumphed', 4699), ('trond', 4700), ('trooper', 4701), ('trouble', 4702), ('truck', 4703), ('true', 4704), ('truffle', 4705), ('truly', 4706), ('trumbull', 4707), ('trumpeter', 4708), ('trunk', 4709), ('trust', 4710), ('truth', 4711), ('try', 4712), ('trying', 4713), ('trysts', 4714), ('tsunami', 4715), ('tucson', 4716), ('tummy', 4717), ('tuna', 4718), ('tuneful', 4719), ('tungsten', 4720), ('turkey', 4721), ('turn', 4722), ('turned', 4723), ('turns', 4724), ('tv', 4725), ('twice', 4726), ('twirling', 4727), ('twist', 4728), ('twists', 4729), ('two', 4730), ('tying', 4731), ('type', 4732), ('typical', 4733), ('ue', 4734), ('ugliest', 4735), ('ugly', 4736), ('uhura', 4737), ('ultra', 4738), ('um', 4739), ('unacceptable', 4740), ('unacceptible', 4741), ('unaccompanied', 4742), ('unbearable', 4743), ('unbearably', 4744), ('unbelievable', 4745), ('unbelievably', 4746), ('uncalled', 4747), ('uncomfortable', 4748), ('unconditional', 4749), ('unconvincing', 4750), ('under', 4751), ('underacting', 4752), ('underappreciated', 4753), ('underbite', 4754), ('undercooked', 4755), ('underlines', 4756), ('underlying', 4757), ('underneath', 4758), ('underrated', 4759), ('understand', 4760), ('understanding', 4761), ('understated', 4762), ('understatement', 4763), ('understood', 4764), ('undertone', 4765), ('underwater', 4766), ('underwhelming', 4767), ('undoubtedly', 4768), ('uneasy', 4769), ('unemployed', 4770), ('unethical', 4771), ('unexperienced', 4772), ('unfaithful', 4773), ('unfolds', 4774), ('unforgettable', 4775), ('unfortunate', 4776), ('unfortunately', 4777), ('unfunny', 4778), ('unhappy', 4779), ('unhealthy', 4780), ('uninspired', 4781), ('unintelligible', 4782), ('unintentionally', 4783), ('uninteresting', 4784), ('union', 4785), ('unique', 4786), ('uniqueness', 4787), ('unit', 4788), ('units', 4789), ('universal', 4790), ('universe', 4791), ('unknown', 4792), ('unless', 4793), ('unlike', 4794), ('unlockable', 4795), ('unmatched', 4796), ('unmitigated', 4797), ('unmoving', 4798), ('unnecessary', 4799), ('unneeded', 4800), ('unoriginal', 4801), ('unpleasant', 4802), ('unpredictability', 4803), ('unpredictable', 4804), ('unprofessional', 4805), ('unreal', 4806), ('unrealistic', 4807), ('unrecognizable', 4808), ('unrecommended', 4809), ('unreliable', 4810), ('unremarkable', 4811), ('unrestrained', 4812), ('unsatisfactory', 4813), ('unsatisfying', 4814), ('until', 4815), ('untoasted', 4816), ('unusable', 4817), ('unwatchable', 4818), ('unwelcome', 4819), ('unwrapped', 4820), ('up', 4821), ('upa', 4822), ('upbeat', 4823), ('update', 4824), ('upgrade', 4825), ('upgrading', 4826), ('uplifting', 4827), ('upload', 4828), ('uploaded', 4829), ('upper', 4830), ('ups', 4831), ('upstairs', 4832), ('uptight', 4833), ('ursula', 4834), ('us', 4835), ('usable', 4836), ('usage', 4837), ('usb', 4838), ('use', 4839), ('used', 4840), ('useful', 4841), ('usefulness', 4842), ('useless', 4843), ('user', 4844), ('uses', 4845), ('using', 4846), ('ussr', 4847), ('usual', 4848), ('usually', 4849), ('utter', 4850), ('utterly', 4851), ('v1', 4852), ('v265', 4853), ('v325i', 4854), ('v3c', 4855), ('v3i', 4856), ('vacant', 4857), ('vain', 4858), ('valentine', 4859), ('valley', 4860), ('value', 4861), ('values', 4862), ('vampire', 4863), ('vandiver', 4864), ('vanilla', 4865), ('variation', 4866), ('ve', 4867), ('veal', 4868), ('vegan', 4869), ('vegas', 4870), ('vegetables', 4871), ('vegetarian', 4872), ('veggie', 4873), ('veggitarian', 4874), ('vehicle', 4875), ('vehicles', 4876), ('velvet', 4877), ('ventilation', 4878), ('ventura', 4879), ('venture', 4880), ('venturing', 4881), ('venue', 4882), ('verbal', 4883), ('verbatim', 4884), ('verge', 4885), ('verizon', 4886), ('versatile', 4887), ('version', 4888), ('versus', 4889), ('very', 4890), ('vessel', 4891), ('veteran', 4892), ('vey', 4893), ('via', 4894), ('vibe', 4895), ('victor', 4896), ('video', 4897), ('videos', 4898), ('view', 4899), ('viewer', 4900), ('viewing', 4901), ('views', 4902), ('villain', 4903), ('villains', 4904), ('vinaigrette', 4905), ('vinegrette', 4906), ('violence', 4907), ('violin', 4908), ('violinists', 4909), ('virgin', 4910), ('virtue', 4911), ('virus', 4912), ('vision', 4913), ('visit', 4914), ('visited', 4915), ('visor', 4916), ('visual', 4917), ('visually', 4918), ('vitally', 4919), ('vivian', 4920), ('vivid', 4921), ('vocal', 4922), ('vodka', 4923), ('voice', 4924), ('volatile', 4925), ('volcano', 4926), ('voltage', 4927), ('volume', 4928), ('vomit', 4929), ('vomited', 4930), ('voodoo', 4931), ('voted', 4932), ('voyage', 4933), ('vulcan', 4934), ('vx', 4935), ('vx9900', 4936), ('w810i', 4937), ('waaaaaayyyyyyyyyy', 4938), ('waaay', 4939), ('wagyu', 4940), ('wait', 4941), ('waited', 4942), ('waiter', 4943), ('waiting', 4944), ('waitress', 4945), ('waitresses', 4946), ('wake', 4947), ('walk', 4948), ('walked', 4949), ('walkman', 4950), ('wall', 4951), ('wallet', 4952), ('walls', 4953), ('want', 4954), ('wanted', 4955), ('wanting', 4956), ('wants', 4957), ('war', 4958), ('warm', 4959), ('warmer', 4960), ('warmth', 4961), ('warn', 4962), ('warning', 4963), ('warnings', 4964), ('warranty', 4965), ('wartime', 4966), ('warts', 4967), ('was', 4968), ('wash', 4969), ('washed', 4970), ('washing', 4971), ('wasn', 4972), ('waste', 4973), ('wasted', 4974), ('waster', 4975), ('wasting', 4976), ('watch', 4977), ('watchable', 4978), ('watched', 4979), ('watching', 4980), ('water', 4981), ('watered', 4982), ('waterproof', 4983), ('watkins', 4984), ('watson', 4985), ('wave', 4986), ('way', 4987), ('waylaid', 4988), ('wayne', 4989), ('ways', 4990), ('wayyy', 4991), ('wb', 4992), ('we', 4993), ('weak', 4994), ('weaker', 4995), ('wear', 4996), ('weariness', 4997), ('wearing', 4998), ('weaving', 4999), ('web', 5000), ('website', 5001), ('websites', 5002), ('wedding', 5003), ('wedges', 5004), ('week', 5005), ('weekend', 5006), ('weekly', 5007), ('weeks', 5008), ('weight', 5009), ('weird', 5010), ('welcome', 5011), ('well', 5012), ('welsh', 5013), ('went', 5014), ('were', 5015), ('weren', 5016), ('what', 5017), ('whatever', 5018), ('whatsoever', 5019), ('whelm', 5020), ('when', 5021), ('whenever', 5022), ('where', 5023), ('whether', 5024), ('which', 5025), ('while', 5026), ('whine', 5027), ('whiny', 5028), ('whistles', 5029), ('white', 5030), ('whites', 5031), ('who', 5032), ('whoa', 5033), ('whoever', 5034), ('whole', 5035), ('wholesome', 5036), ('whom', 5037), ('whose', 5038), ('why', 5039), ('wi', 5040), ('wide', 5041), ('widmark', 5042), ('wienerschnitzel', 5043), ('wife', 5044), ('wih', 5045), ('wild', 5046), ('wildly', 5047), ('wilkinson', 5048), ('will', 5049), ('william', 5050), ('willie', 5051), ('wily', 5052), ('win', 5053), ('wind', 5054), ('window', 5055), ('windows', 5056), ('wine', 5057), ('wines', 5058), ('wings', 5059), ('winner', 5060), ('wiping', 5061), ('wire', 5062), ('wired', 5063), ('wirefly', 5064), ('wireless', 5065), ('wise', 5066), ('wish', 5067), ('wit', 5068), ('with', 5069), ('within', 5070), ('without', 5071), ('witnessed', 5072), ('witticisms', 5073), ('witty', 5074), ('woa', 5075), ('wobbly', 5076), ('women', 5077), ('won', 5078), ('wonder', 5079), ('wondered', 5080), ('wonderful', 5081), ('wonderfully', 5082), ('wong', 5083), ('wont', 5084), ('wontons', 5085), ('woo', 5086), ('wood', 5087), ('wooden', 5088), ('word', 5089), ('words', 5090), ('work', 5091), ('worked', 5092), ('worker', 5093), ('workers', 5094), ('working', 5095), ('works', 5096), ('world', 5097), ('worn', 5098), ('worries', 5099), ('worry', 5100), ('worse', 5101), ('worst', 5102), ('worth', 5103), ('worthless', 5104), ('worthwhile', 5105), ('worthy', 5106), ('would', 5107), ('wouldn', 5108), ('wouldnt', 5109), ('wound', 5110), ('woven', 5111), ('wow', 5112), ('wrap', 5113), ('wrapped', 5114), ('write', 5115), ('writer', 5116), ('writers', 5117), ('writing', 5118), ('written', 5119), ('wrong', 5120), ('wrongly', 5121), ('wrote', 5122), ('ya', 5123), ('yama', 5124), ('yardley', 5125), ('yawn', 5126), ('yay', 5127), ('yeah', 5128), ('year', 5129), ('years', 5130), ('yell', 5131), ('yellow', 5132), ('yellowtail', 5133), ('yelpers', 5134), ('yelps', 5135), ('yes', 5136), ('yet', 5137), ('you', 5138), ('young', 5139), ('younger', 5140), ('your', 5141), ('yourself', 5142), ('youthful', 5143), ('youtube', 5144), ('yucky', 5145), ('yukon', 5146), ('yum', 5147), ('yummy', 5148), ('yun', 5149), ('z500a', 5150), ('zero', 5151), ('zillion', 5152), ('zombie', 5153), ('zombiez', 5154)]\n"
     ]
    }
   ],
   "source": [
    "vect2 = CountVectorizer()\n",
    "text=data[0].values\n",
    "vect2.fit_transform(text)\n",
    "print(vect2.vocabulary_) # cuvintele distincte din texte\n",
    "\n",
    "# vocabular sortat in ordine crescatoare\n",
    "print(sorted(vect2.vocabulary_.items(), key = lambda item: item[1]))"
   ]
  },
  {
   "cell_type": "code",
   "execution_count": 5,
   "metadata": {},
   "outputs": [
    {
     "name": "stdout",
     "output_type": "stream",
     "text": [
      "Numarul de cuvinte distincte este :  5155\n",
      "Cele mai frecvente 100 de cuvinte sunt:  [('window', 5055), ('windows', 5056), ('wine', 5057), ('wines', 5058), ('wings', 5059), ('winner', 5060), ('wiping', 5061), ('wire', 5062), ('wired', 5063), ('wirefly', 5064), ('wireless', 5065), ('wise', 5066), ('wish', 5067), ('wit', 5068), ('with', 5069), ('within', 5070), ('without', 5071), ('witnessed', 5072), ('witticisms', 5073), ('witty', 5074), ('woa', 5075), ('wobbly', 5076), ('women', 5077), ('won', 5078), ('wonder', 5079), ('wondered', 5080), ('wonderful', 5081), ('wonderfully', 5082), ('wong', 5083), ('wont', 5084), ('wontons', 5085), ('woo', 5086), ('wood', 5087), ('wooden', 5088), ('word', 5089), ('words', 5090), ('work', 5091), ('worked', 5092), ('worker', 5093), ('workers', 5094), ('working', 5095), ('works', 5096), ('world', 5097), ('worn', 5098), ('worries', 5099), ('worry', 5100), ('worse', 5101), ('worst', 5102), ('worth', 5103), ('worthless', 5104), ('worthwhile', 5105), ('worthy', 5106), ('would', 5107), ('wouldn', 5108), ('wouldnt', 5109), ('wound', 5110), ('woven', 5111), ('wow', 5112), ('wrap', 5113), ('wrapped', 5114), ('write', 5115), ('writer', 5116), ('writers', 5117), ('writing', 5118), ('written', 5119), ('wrong', 5120), ('wrongly', 5121), ('wrote', 5122), ('ya', 5123), ('yama', 5124), ('yardley', 5125), ('yawn', 5126), ('yay', 5127), ('yeah', 5128), ('year', 5129), ('years', 5130), ('yell', 5131), ('yellow', 5132), ('yellowtail', 5133), ('yelpers', 5134), ('yelps', 5135), ('yes', 5136), ('yet', 5137), ('you', 5138), ('young', 5139), ('younger', 5140), ('your', 5141), ('yourself', 5142), ('youthful', 5143), ('youtube', 5144), ('yucky', 5145), ('yukon', 5146), ('yum', 5147), ('yummy', 5148), ('yun', 5149), ('z500a', 5150), ('zero', 5151), ('zillion', 5152), ('zombie', 5153), ('zombiez', 5154)]\n"
     ]
    }
   ],
   "source": [
    "import operator\n",
    "cuvinte=vect2.vocabulary_\n",
    "sorted_cuvinte = sorted(cuvinte.items(), key=operator.itemgetter(0))\n",
    "sorted_cuvinte\n",
    "print(\"Numarul de cuvinte distincte este : \", len(sorted_cuvinte))\n",
    "print(\"Cele mai frecvente 100 de cuvinte sunt: \", sorted_cuvinte[5055:])"
   ]
  },
  {
   "cell_type": "code",
   "execution_count": 6,
   "metadata": {},
   "outputs": [
    {
     "name": "stdout",
     "output_type": "stream",
     "text": [
      "Lungime minima este: 2\n",
      "Lungime maxima este:  17\n",
      "Lungime medie este:  6.573617846750728\n"
     ]
    }
   ],
   "source": [
    "print(\"Lungime minima este:\", len(min(cuvinte,key=len)))\n",
    "print(\"Lungime maxima este: \", len(max(cuvinte,key=len)))\n",
    "print(\"Lungime medie este: \", sum(map(len, cuvinte))/len(cuvinte))"
   ]
  },
  {
   "cell_type": "code",
   "execution_count": 8,
   "metadata": {},
   "outputs": [
    {
     "name": "stdout",
     "output_type": "stream",
     "text": [
      "How are texts organized:  <class 'numpy.ndarray'>\n",
      "How many texts in train subset 2748\n",
      "The first text:  So there is no way for me to plug it in here in the US unless I go by a converter.\n",
      "Associated emotion: 0\n"
     ]
    }
   ],
   "source": [
    "X=data[0].values\n",
    "Y=data[1].values\n",
    "print('How are texts organized: ', type(X))\n",
    "print('How many texts in train subset', len(X))\n",
    "print('The first text: ', X[0])\n",
    "print('Associated emotion:', Y[0])"
   ]
  },
  {
   "cell_type": "code",
   "execution_count": 9,
   "metadata": {},
   "outputs": [
    {
     "name": "stdout",
     "output_type": "stream",
     "text": [
      "Classes in set:  [0 1]\n"
     ]
    }
   ],
   "source": [
    "print('Classes in set: ', np.unique(Y))"
   ]
  },
  {
   "cell_type": "code",
   "execution_count": 10,
   "metadata": {},
   "outputs": [
    {
     "name": "stdout",
     "output_type": "stream",
     "text": [
      "Samples per class in set: [1362 1386]\n"
     ]
    }
   ],
   "source": [
    "print('Samples per class in set: {0}'.format(np.bincount(Y)))"
   ]
  },
  {
   "cell_type": "code",
   "execution_count": 11,
   "metadata": {},
   "outputs": [],
   "source": [
    "vect = CountVectorizer()\n",
    "vect.fit(X)\n",
    "X_transformed = vect.fit_transform(X)"
   ]
  },
  {
   "cell_type": "code",
   "execution_count": 12,
   "metadata": {},
   "outputs": [
    {
     "name": "stdout",
     "output_type": "stream",
     "text": [
      "Cuvintele distincte din texte:\n",
      " {'so': 4161, 'there': 4545, 'is': 2427, 'no': 3043, 'way': 4987, 'for': 1829, 'me': 2809, 'to': 4609, 'plug': 3387, 'it': 2432, 'in': 2314, 'here': 2158, 'the': 4531, 'us': 4835, 'unless': 4793, 'go': 1982, 'by': 647, 'converter': 1013, 'good': 1993, 'case': 713, 'excellent': 1603, 'value': 4861, 'great': 2023, 'jawbone': 2449, 'tied': 4589, 'charger': 768, 'conversations': 1012, 'lasting': 2567, 'more': 2931, 'than': 4526, '45': 45, 'minutes': 2890, 'major': 2753, 'problems': 3482, 'mic': 2868, 'have': 2113, 'jiggle': 2464, 'get': 1954, 'line': 2648, 'up': 4821, 'right': 3777, 'decent': 1171, 'volume': 4928, 'if': 2282, 'you': 5138, 'several': 4004, 'dozen': 1373, 'or': 3144, 'hundred': 2259, 'contacts': 987, 'then': 4542, 'imagine': 2294, 'fun': 1901, 'of': 3097, 'sending': 3968, 'each': 1440, 'them': 4538, 'one': 3124, 'are': 273, 'razr': 3611, 'owner': 3200, 'must': 2980, 'this': 4558, 'needless': 3010, 'say': 3889, 'wasted': 4974, 'my': 2982, 'money': 2918, 'what': 5017, 'waste': 4973, 'and': 216, 'time': 4593, 'sound': 4201, 'quality': 3568, 'he': 2122, 'was': 4968, 'very': 4890, 'impressed': 2305, 'when': 5021, 'going': 1988, 'from': 1883, 'original': 3152, 'battery': 412, 'extended': 1648, 'two': 4730, 'were': 5015, 'seperated': 3979, 'mere': 2853, 'ft': 1893, 'started': 4272, 'notice': 3070, 'excessive': 1610, 'static': 4278, 'garbled': 1926, 'headset': 2127, 'though': 4564, 'design': 1231, 'odd': 3095, 'as': 297, 'ear': 1441, 'clip': 856, 'not': 3063, 'comfortable': 897, 'at': 314, 'all': 179, 'highly': 2175, 'recommend': 3648, 'any': 243, 'who': 5032, 'has': 2105, 'blue': 514, 'tooth': 4634, 'phone': 3322, 'advise': 146, 'everyone': 1589, 'do': 1338, 'be': 416, 'fooled': 1824, 'far': 1692, 'works': 5096, 'clicks': 851, 'into': 2404, 'place': 3351, 'that': 4529, 'makes': 2758, 'wonder': 5079, 'how': 2239, 'long': 2684, 'mechanism': 2823, 'would': 5107, 'last': 2565, 'went': 5014, 'on': 3122, 'motorola': 2943, 'website': 5001, 'followed': 1817, 'directions': 1285, 'but': 637, 'could': 1040, 'pair': 3221, 'again': 156, 'bought': 558, 'use': 4839, 'with': 5069, 'kindle': 2525, 'fire': 1761, 'absolutely': 80, 'loved': 2711, 'commercials': 909, 'most': 2936, 'misleading': 2896, 'yet': 5137, 'run': 3832, 'new': 3029, 'below': 457, 'bars': 397, 'three': 4569, 'days': 1155, 'without': 5071, 'charging': 771, 'mother': 2938, 'she': 4023, 'had': 2067, 'problem': 3481, 'pocket': 3393, 'pc': 3271, 'combination': 889, 've': 4867, 'owned': 3199, 'months': 2926, 'now': 3073, 'can': 674, 'best': 466, 'mobile': 2906, 'didn': 1266, 'think': 4553, 'instructions': 2376, 'provided': 3521, 'helpful': 2152, 'people': 3290, 'couldnt': 1042, 'hear': 2130, 'talk': 4469, 'pull': 3537, 'out': 3166, 'earphone': 1449, 'doesn': 1345, 'hold': 2194, 'charge': 766, 'simple': 4084, 'little': 2664, 'breakage': 573, 'unacceptible': 4741, 'product': 3492, 'ideal': 2274, 'like': 2638, 'whose': 5038, 'ears': 1453, 'sensitive': 3973, 'unusable': 4817, 'moving': 2956, 'car': 692, 'freeway': 1865, 'speed': 4227, 'years': 5130, 'left': 2602, 'contract': 1000, 'hate': 2108, 'well': 5012, 'ac': 84, 'included': 2319, 'make': 2755, 'sure': 4420, 'never': 3026, 'juice': 2487, 'highy': 2176, 'recommended': 3650, 'need': 3008, 'least': 2596, 'mins': 2888, 'your': 5141, 'book': 538, 'first': 1764, 'turn': 4722, 'life': 2630, 'short': 4050, 'kept': 2506, 'poor': 3410, 'performance': 3297, 'fine': 1754, '680': 54, 'worthless': 5104, 'camera': 670, 'thats': 4530, '2mp': 33, 'pics': 3333, 'nice': 3032, 'clear': 845, 'picture': 3334, 'priced': 3471, 'only': 3128, 'garbage': 1925, 'audio': 333, 'bluetooth': 517, 'features': 1712, 'want': 4954, 'their': 4537, 'mind': 2882, 'gonna': 1992, 'buy': 641, 'after': 154, 'arguing': 278, 'verizon': 4886, 'regarding': 3670, 'dropped': 1412, 'calls': 666, 'we': 4993, 'returned': 3753, 'phones': 3323, 'seems': 3959, 'made': 2737, 'disappointed': 1296, 'loud': 2703, 'enough': 1540, 'should': 4054, 'protection': 3513, 'does': 1344, 'too': 4629, 'bulky': 622, 'usable': 4836, 'keyboard': 2509, 'actually': 127, 'turns': 4724, 'pda': 3273, 'real': 3620, 'world': 5097, 'useful': 4841, 'machine': 2735, 'instead': 2374, 'just': 2493, 'neat': 3006, 'gadget': 1915, 'pretty': 3467, 'sturdy': 4358, 'large': 2559, 'love': 2710, 'thing': 4551, 'everything': 1590, 'about': 75, 'reasonable': 3628, 'price': 3470, 'even': 1580, 'stream': 4330, 'submerged': 4370, '15': 6, 'seconds': 3949, 'still': 4303, 'been': 433, 'happy': 2100, '510': 50, 'complaints': 927, 'end': 1524, 'buttons': 640, 'off': 3098, 'bad': 373, 'essentially': 1568, 'forget': 1838, 'microsoft': 2872, 'tech': 4495, 'support': 4415, 'really': 3626, 'faceplates': 1662, 'since': 4088, 'looks': 2689, 'elegant': 1494, 'cool': 1021, 'these': 4547, 'headphones': 2125, 'find': 1752, 'they': 4548, 'perhaps': 3301, 'purchase': 3549, 'seriously': 3987, 'different': 1271, 'particular': 3248, 'angle': 222, 'other': 3159, 'party': 3252, 'clearly': 847, 'big': 473, 'drawback': 1386, 'mp3': 2959, 'player': 3370, 'front': 1884, 'cover': 1054, 'let': 2617, 'pause': 3268, 'skip': 4113, 'songs': 4186, 'lock': 2676, 'few': 1729, 'week': 5005, 'later': 2574, 'activated': 120, 'suddenly': 4388, 'died': 1268, 'feels': 1717, 'headsets': 2128, 'because': 427, 'wear': 4996, 'glasses': 1976, 'gets': 1955, 'sometimes': 4181, 'ipods': 2416, 'device': 1254, 'situations': 4106, 'work': 5091, 'bmw': 520, 'series': 3985, 'which': 5025, 'fairly': 1673, 'quiet': 3575, 'trouble': 4702, 'hearing': 2132, 'person': 3307, 'saying': 3890, 'choice': 819, 'docking': 1339, 'station': 4279, 'home': 2205, 'beautiful': 423, 'd807': 1137, 'wrongly': 5121, 'advertised': 145, 'item': 2434, 'handy': 2089, 'lot': 2701, 'purchased': 3550, 'within': 5070, 'longer': 2685, 'working': 5095, 'everyday': 1588, 'holds': 2197, 'bargain': 393, 'packaged': 3211, 'arrived': 286, 'intended': 2388, 'runs': 3834, 'down': 1366, 'quickly': 3574, 'worked': 5092, 'broke': 592, 'easy': 1459, 'loves': 2715, 'construction': 982, 'better': 467, 'boy': 563, 'cheaper': 781, 'loads': 2670, 'super': 4406, 'costs': 1036, 'much': 2963, 'expect': 1629, 'greater': 2024, 'ease': 1456, 'buds': 611, 'play': 3368, 'music': 2977, 'dont': 1355, 'will': 5049, 'order': 3146, 'plan': 3355, 'found': 1851, 'waaay': 4939, 'tried': 4691, 'bluetooths': 518, 'both': 552, 'listener': 2659, 'using': 4846, 'decision': 1176, 'integrated': 2384, 'seamlessly': 3936, 'buyer': 642, 'beware': 470, 'flush': 1806, 'toilet': 4615, 'definitely': 1193, 'free': 1862, 'shipping': 4038, 'received': 3637, 'supposedly': 4418, '375': 39, 'apparently': 257, 'match': 2797, 'between': 469, 'pros': 3511, 'pictures': 3335, 'also': 193, 'styles': 4360, 'black': 493, 'white': 5030, 'huge': 2246, 'flaw': 1785, 'correctly': 1033, 'don': 1352, '350': 38, 'jabra350': 2440, 'reception': 3642, 'piece': 3336, 'fit': 1768, 'although': 194, 'rated': 3599, 'an': 214, 'impressive': 2307, 'megapixels': 2831, 'renders': 3709, 'images': 2290, 'fall': 1676, 'expectations': 1630, 'such': 4382, 'relatively': 3688, 'high': 2169, 'resolution': 3734, 'purcashed': 3548, 'call': 662, 'wife': 5044, 'ask': 300, 'slim': 4129, 'light': 2632, 'display': 1320, 'its': 2436, 'geeky': 1937, 'sex': 4007, 'toast': 4611, 'rocks': 3806, 'oozes': 3129, 'embedded': 1507, 'sleek': 4118, 'stylish': 4362, 'leather': 2597, 'fast': 1699, 'compromise': 937, 'full': 1898, 'qwerty': 3580, 'basic': 403, 'cell': 738, 'number': 3075, 'keypad': 2510, 'got': 2002, 'around': 283, 'may': 2804, 'completely': 930, 'unhappy': 4779, 'winner': 5060, 'setup': 4001, 'couldn': 1041, 'simpler': 4085, 'earpieces': 1452, 'jabra': 2439, 'fits': 1769, 'comfortably': 898, 'strong': 4342, 'signal': 4072, 'iam': 2269, 'pleased': 3377, 'job': 2467, 'done': 1353, 'basically': 404, 'service': 3994, 'did': 1265, 'am': 197, 'set': 3997, 'weeks': 5008, 'bt': 604, 'disapoinment': 1293, 'small': 4137, 'realize': 3624, 'while': 5026, 'getting': 1956, 'used': 4840, 'accompanied': 101, 'software': 4166, 'almost': 187, 'brilliant': 586, 'nicely': 3033, 'avoid': 345, 'damage': 1140, 'definitly': 1194, 'careful': 698, 'majority': 2754, 'logitech': 2681, 'earbud': 1442, 'failed': 1670, 'stuff': 4352, 'peachy': 3275, 'keen': 2500, 'house': 2237, 'coverage': 1055, 'upstairs': 4832, 'basement': 402, 'voice': 4924, 'recognition': 3646, 'tremendous': 4686, 'during': 1428, 'minute': 2889, 'experienced': 1635, 'drops': 1414, 'area': 274, 'takes': 4463, 'forever': 1836, 'hours': 2235, 'literally': 2662, 'reccomendation': 3633, 'relative': 3687, 'glad': 1972, 'items': 2435, 'stated': 4277, 'description': 1225, 'screen': 3920, 'sudden': 4387, 'hoping': 2220, 'linking': 2653, '8530': 64, 'blackberry': 494, 'curve': 1125, 'know': 2534, 'sounds': 4203, 'funny': 1908, 'seemed': 3958, 'sketchy': 4110, 'technology': 4497, 'wouldn': 5108, 'wired': 5063, 'kind': 2523, 'messages': 2860, 'web': 5000, 'browsing': 599, 'significantly': 4075, 'faster': 1700, 'previous': 3469, 'build': 616, 'unlike': 4794, 'some': 4176, 'cheap': 780, 'fantastic': 1690, 'perfectly': 3296, 'colors': 886, 'w810i': 4937, 'superb': 4407, 'whine': 5027, 'internet': 2400, 'goes': 1987, 'less': 2613, 'communications': 913, 'tool': 4631, 'communicate': 911, 'charm': 776, 'same': 3860, 'maintain': 2750, 'monkeys': 2920, 'shouldn': 4055, 'obviously': 3088, 'share': 4016, 'dna': 1337, 'copy': 1024, 'over': 3180, 'humans': 2250, 'bougth': 559, 'l7c': 2542, 'look': 2686, 'sharp': 4018, 'graphics': 2016, 'mode': 2907, 'button': 639, 'side': 4067, 'thank': 4527, 'wasting': 4976, 'igo': 2286, 'chargers': 769, 'tips': 4603, 'file': 1737, 'browser': 598, 'offers': 3104, 'options': 3143, 'needs': 3012, 'handsfree': 2088, 'network': 3025, 'connected': 961, 'hs850': 2244, 'whether': 5024, 'put': 3560, 'latest': 2575, 'os': 3157, 'v1': 4852, '15g': 7, 'likes': 2640, 'slow': 4133, 'crawl': 1077, 'every': 1586, 'once': 3123, 'recognizes': 3647, 'storage': 4315, 'buzzing': 646, 'override': 3191, 'bluetoooth': 516, 'functionality': 1904, 'awesome': 352, 'thorn': 4560, 'abhor': 71, 'recently': 3641, 'where': 5023, 'stay': 4280, '10': 1, 'before': 438, 'being': 445, 'disconnected': 1304, 'incredible': 2330, '13': 5, 'bucks': 608, 'check': 785, 'mail': 2745, 'night': 3037, 'backlight': 371, 'message': 2859, 'lost': 2700, 'replacement': 3721, 'ring': 3779, 'tone': 4623, 'overall': 3182, 'lately': 2573, 'extremely': 1656, 'wit': 5068, 'hit': 2187, 'dropping': 1413, 'weight': 5009, 'hardly': 2103, 'll': 2669, 'thin': 4550, 'pleather': 3381, 'useless': 4843, 'simply': 4087, 'deaf': 1160, 'color': 883, 'prettier': 3466, 'thought': 4565, 'incredibly': 2331, 'investment': 2409, 'strange': 4323, 'ticking': 4588, 'noises': 3050, 'ends': 1529, 'electronics': 1493, 'available': 341, 'fm': 1810, 'transmitters': 4675, 'lasts': 2569, 'h500': 2064, 'mega': 2830, 'pixel': 3348, 'part': 3246, 'reasonably': 3629, 'good7': 1994, 'nearly': 3005, 'transmit': 4674, 'back': 367, 'bother': 553, 'contacting': 986, 'company': 917, 'dollar': 1349, 'learned': 2595, 'lesson': 2615, 'form': 1843, 'online': 3127, 'anyway': 248, 'earbugs': 1444, 'means': 2817, 'range': 3592, 'able': 73, 'roam': 3797, 'living': 2668, 'room': 3815, 'issues': 2431, 'felt': 1724, 'crack': 1063, 'worst': 5102, 'ever': 1585, 'infatuated': 2350, 'freezes': 1866, 'frequently4': 1870, 'embarrassing': 1505, 'mostly': 2937, 'child': 804, 'lightweight': 2637, 'expected': 1631, 'consumer': 983, 'experience': 1634, 'horrible': 2223, 'tick': 4585, 'background': 370, 'certainly': 749, 'usually': 4849, 'headbands': 2124, 'mess': 2858, 'hair': 2070, 'bit': 486, 'year': 5129, 'tell': 4505, 'ordered': 3147, 'sony': 4187, 'ericsson': 1561, 'favorite': 1708, 'purchases': 3551, 'market': 2783, 'authentic': 338, 'shine': 4033, 'comfort': 896, 'excited': 1614, 'cute': 1131, 'mistake': 2901, 'disappointment': 1298, 'calendar': 660, 'sync': 4449, 'customer': 1127, 'additional': 136, 'gels': 1938, 'whatsoever': 5019, 'defeats': 1186, 'purpose': 3556, 'worth': 5103, 'penny': 3288, 'wallet': 4952, 'type': 4732, 'excrutiatingly': 1618, 'probably': 3480, 'important': 2303, 'aspect': 304, 'glove': 1978, 'secure': 3951, 'durable': 1427, 'gosh': 2001, 'attractive': 331, 'appears': 260, 'factor': 1667, 'rubber': 3826, 'petroleum': 3313, 'smell': 4144, 'unbearable': 4743, 'caused': 730, 'return': 3752, 'cable': 651, 'flimsy': 1793, 'scary': 3898, 'earpiece': 1451, 'hands': 2086, 'stereo': 4296, 'month': 2925, 'flawlessly': 1788, 'absolutel': 79, 'junk': 2490, 'either': 1490, 'drain': 1380, 'potentially': 3435, 'fry': 1891, 'unreliable': 4810, 'giving': 1971, 'gave': 1933, 'stars': 4269, 'reversible': 3759, 'rotating': 3817, 'feature': 1711, 'our': 3164, 'whole': 5035, 'family': 1684, 'seller': 3964, 'plantronics': 3361, 'adorable': 142, 'buying': 644, 'poorly': 3411, 'contstruct': 1008, 'hinge': 2182, 'installed': 2370, 'charged': 767, 'overnite': 3189, 'thru': 4579, 'handset': 2087, 'cat': 724, 'attacked': 323, 'scratched': 3916, 'protective': 3514, 'strip': 4339, 'destroying': 1245, 'terrible': 4517, 'razor': 3610, 'v3i': 4856, 'wise': 5066, 'someone': 4178, 'shouldve': 4056, 'invented': 2407, 'sooner': 4189, 'try': 4712, 'engineered': 1533, 'clever': 848, 'many': 2775, 'complained': 925, 'microphone': 2871, 'weak': 4994, 'old': 3113, 'nokia': 3051, '2160': 29, 'tracfone': 4653, 'care': 697, 'instruction': 2375, 'manual': 2773, 'lacking': 2547, 'alarm': 174, 'clock': 859, 'removing': 3707, 'antena': 238, 'uncomfortable': 4748, 'quite': 3578, 'compared': 919, 'plugged': 3388, 'lg': 2625, 'gotten': 2005, 'compliments': 933, 'state': 4276, 'allow': 183, 'usage': 4837, 'driving': 1407, 'immediately': 2298, 'ngage': 3031, 'earbuds': 1443, 'dialing': 1259, 'cant': 684, 'anything': 246, 'low': 2717, 'however': 2243, 'riingtones': 3778, 'neither': 3020, 'games': 1922, 'amazon': 203, 'sucks': 4386, 'rip': 3786, 'came': 667, 'ago': 162, 'couple': 1046, 'ipod': 2415, 'recharge': 3644, 'frequentyly': 1871, 'flip': 1794, 'adhesive': 138, 'disappointing': 1297, 'inexpensive': 2347, 'practically': 3443, 'add': 133, 'boost': 540, 'times': 4598, 'concrete': 949, 'knock': 2532, 'wood': 5087, 'transformed': 4670, 'organizational': 3150, 'capability': 685, 'easier': 1457, 'sitting': 4104, 'vehicle': 4875, 'cradle': 1066, 'belt': 458, 'jerks': 2457, 'los': 2697, 'angeles': 220, 'starter': 4273, 'wireless': 5065, 'loudspeaker': 2707, 'option': 3142, 'bumpers': 625, 'lights': 2636, 'appealing': 258, 'improve': 2309, 'leaks': 2592, 'hot': 2232, 'according': 102, 'called': 663, 'applifies': 267, 'save': 3884, 'specially': 4224, 'face': 1661, 'transmission': 4673, 's11': 3839, 'data': 1149, 'finished': 1760, 'looking': 2688, 'happier': 2098, 'drivng': 1408, 'along': 189, 'starts': 4274, 'ringing': 3781, 'reason': 3627, 'having': 2116, 'auto': 340, 'reverse': 3758, 'tape': 4474, 'embarassing': 1503, 'hurt': 2262, 'push': 3558, 'protects': 3516, 'sides': 4069, 'average': 342, 'operates': 3136, 'skype': 4114, 'soyo': 4213, 'take': 4460, 'self': 3963, 'portraits': 3420, 'outside': 3175, 'exterior': 1650, 'others': 3160, 'mentioned': 2849, 'trying': 4713, 'gadgets': 1916, 'finally': 1750, 'magical': 2742, 'help': 2150, 'crap': 1071, 'shipped': 4037, 'promptly': 3507, 'exactly': 1596, 'wanted': 4955, 'comparably': 918, 'offering': 3103, 'today': 4613, 'deal': 1161, 'satisfied': 3876, 'encourage': 1523, 'give': 1968, 'effective': 1479, 'waiting': 4944, 'recieve': 3645, 'prompt': 3505, 'especially': 1566, 'stupid': 4355, 'keep': 2501, 'cradles': 1067, 'kits': 2529, 'comes': 895, 'excelent': 1602, 'cingulair': 834, 'nicer': 3034, 'noticed': 3071, 'era': 1558, 'colored': 884, 'dead': 1157, 'hoursthe': 2236, 'thereplacement': 4546, '2000': 24, 'cheaply': 782, 'att': 320, 'distorted': 1328, 'yell': 5131, 'plastic': 3364, 'breaks': 576, 'oh': 3108, 'forgot': 1841, 'mention': 2848, 'weird': 5010, 'effect': 1478, 'iriver': 2421, 'spinn': 4240, 'unit': 4788, 'fond': 1820, 'magnetic': 2743, 'strap': 4326, 'psyched': 3529, 'appointments': 268, 'another': 235, 'note': 3066, 'appearance': 259, 'rather': 3600, 'bland': 499, 'model': 2908, 'sanyo': 3869, 'survived': 4432, 'dozens': 1374, 'blacktop': 495, 'ill': 2287, 'earphones': 1450, 'finds': 1753, 'away': 351, 'enter': 1542, 'modest': 2910, 'cellular': 741, 'clarity': 838, 'warning': 4963, 'wish': 5067, 'awsome': 356, 'drained': 1381, 'dying': 1435, 'earpad': 1448, 'anyone': 245, 'displeased': 1321, 'might': 2875, 'defect': 1187, 'risk': 3790, 'built': 620, 'alone': 188, 'difficult': 1272, 'install': 2369, 'restored': 3744, 'purchasing': 3552, 'jx': 2496, 'moto': 2941, 'figure': 1735, 'searched': 3938, 'size': 4108, 'key': 2508, 'pad': 3213, 'lit': 2661, 'nothing': 3069, 'hard': 2101, 'wasn': 4972, 'portable': 3417, 'colleague': 879, 'expensive': 1633, 'fully': 1899, 'bed': 431, 'turned': 4723, 'wi': 5040, 'fi': 1730, '20': 23, 'morning': 2933, 'reading': 3618, 'memory': 2845, 'card': 694, 'always': 196, 'wearing': 4998, 'hat': 2107, 'sunglasses': 4405, 'timely': 4596, 'shipment': 4036, 'solid': 4172, 'surefire': 4421, 'gx2': 2061, 'bt50': 606, 'computer': 938, 'buyers': 643, 'remorse': 3705, 'accessoryone': 94, 'inexcusable': 2346, 'returning': 3754, 'changing': 759, 'carriers': 705, 'tmobile': 4608, 'update': 4824, 'procedure': 3483, 'cumbersome': 1120, 'motorolas': 2944, 'delivery': 1211, 'vx9900': 4936, 'env': 1552, 'switch': 4442, 'rocketed': 3805, 'destination': 1243, 'unknown': 4792, 'under': 4751, 'conditions': 952, 'worthwhile': 5105, 'usefulness': 4842, 'bills': 477, 'understand': 4760, 'pricing': 3474, 'plans': 3359, 'overnight': 3188, 'batteries': 411, 'won': 5078, 'regret': 3673, 'user': 4844, 'friendly': 1877, 'unfortunately': 4777, 'ability': 72, 'receiving': 3639, 'pitiful': 3346, 'respect': 3736, 'exchanged': 1613, 'results': 3748, 'stuck': 4347, 'max': 2803, 'mute': 2981, 'hybrid': 2266, 'palmtop': 3229, 'cellphone': 739, 'excels': 1605, 'those': 4563, 'roles': 3809, 'bt250v': 605, 'liked': 2639, 'wrong': 5120, 'described': 1222, '11': 3, 'im': 2288, 'bose': 550, 'noise': 3049, 'cancelling': 679, 'amazing': 201, 'nyc': 3084, 'commuter': 915, 'defective': 1188, 'given': 1969, 'star': 4266, 'unacceptable': 4740, 'holster': 2204, 'photo': 3325, 'ad': 128, 'earlier': 1446, 'review': 3760, 'noted': 3067, 'happens': 2097, 'frog': 1882, 'eye': 1657, 'catching': 725, 'pushed': 3559, 'function': 1902, 'amazed': 200, 'aluminum': 195, 'palm': 3227, 'vx': 4935, 'protected': 3512, 'handheld': 2080, 'tools': 4632, 'sturdiness': 4357, 'orders': 3149, 'timeframe': 4594, 'source': 4208, 'waterproof': 4983, 'complaint': 926, 'standard': 4263, 'thanks': 4528, 'things': 4552, 'ended': 1526, 'sliding': 4126, 'edge': 1469, 'pants': 3236, 'pockets': 3394, 'store': 4316, 'ugly': 4736, 'shield': 4031, 'incrediable': 2329, 'improvement': 2311, 'refuse': 3668, 'refund': 3666, 'replace': 3719, 'accidentally': 96, 'activate': 119, 'gentle': 1947, 'touch': 4644, 'listening': 2660, 'threw': 4571, 'window': 5055, 'took': 4630, 'drop': 1411, 'inches': 2318, 'above': 76, 'kitchen': 2527, 'counter': 1044, 'cracked': 1064, 'laughing': 2583, 'trunk': 4709, 'carried': 704, 'conversation': 1011, 'hitch': 2188, 'practical': 3442, 'ample': 212, 'eargels': 1445, 'channel': 760, 'directly': 1286, 'seem': 3957, 'increase': 2328, 'none': 3053, 'ones': 3125, 'properly': 3510, 'missed': 2899, 'numerous': 3077, 'cannot': 683, 'sucked': 4384, 'shifting': 4032, 'bubbling': 607, 'peeling': 3285, 'scratch': 3915, 'droid': 1409, 'zero': 5151, 'exercise': 1623, 'frustration': 1890, 'own': 3198, 'earset': 1454, 'outgoing': 3168, 'total': 4641, 'package': 3210, 'understanding': 4761, 'patient': 3261, 'wirefly': 5064, 'contact': 984, 'cingular': 835, 'inform': 2352, 'practice': 3444, 'aggravating': 161, 'friends': 1878, 'enjoy': 1536, 'virgin': 4910, 'muddy': 2965, 'casing': 718, 'wire': 5062, 'insert': 2361, 'glued': 1980, 'slid': 4122, 'please': 3376, 'isn': 2429, 'plantronincs': 3362, 'continues': 997, 'flawed': 1786, 'disapointing': 1294, 'fourth': 1853, 'hated': 2109, 'fixes': 1771, 'accessing': 92, 'downloading': 1368, 'ringtones': 3783, 'performing': 3300, 'functions': 1905, 'barely': 392, 'constantly': 980, 'joke': 2475, 'said': 3849, 'due': 1420, 'happening': 2096, 'forced': 1831, 'stop': 4312, 'adapters': 132, 'walked': 4949, 'through': 4575, 'procedures': 3484, 're': 3612, 'wiping': 5061, 'strength': 4332, 'plays': 3373, 'louder': 2704, 'speaker': 4220, 'constructed': 981, 'menus': 2851, 'navigate': 3001, 'recessed': 3643, 'holding': 2196, 'avoiding': 347, 'broken': 593, 'smoking': 4151, 'sprint': 4252, 'linked': 2652, 'effort': 1482, 'possesed': 3426, 'idea': 2273, 'trash': 4677, 'research': 3730, 'development': 1252, 'division': 1336, 'knows': 2536, 'doing': 1348, 'killer': 2520, 'course': 1050, 'breaking': 575, 'infuriating': 2355, 'walkman': 4950, 'charges': 770, 'feel': 1714, 'europe': 1576, 'asia': 298, 'clipping': 857, 'deffinitely': 1190, '50': 48, 'cent': 743, 'coming': 902, 'behing': 443, '5020': 49, 'comfortible': 899, '24': 31, 'day': 1154, 'pain': 3216, 'quick': 3572, 'arrival': 285, 'fraction': 1856, 'samsung': 3862, 'crappy': 1072, 'e715': 1439, 'seeen': 3955, 'stopped': 4313, 'needed': 3009, 'operate': 3135, 'interface': 2396, 'decade': 1169, 'compete': 921, 'designs': 1234, 'paired': 3222, 'treo': 4688, '700w': 57, 'usb': 4838, 'transceiver': 4665, 'steer': 4291, 'genuine': 1949, 'replacementr': 3722, 'pens': 3289, 'come': 892, 'pack': 3209, 'buyit': 645, 'beats': 422, 'fingers': 1758, 'plus': 3390, 'believe': 448, 'steep': 4290, 'point': 3398, 'cases': 714, 'normally': 3059, 'apart': 251, 'haul': 2111, 'dissapointing': 1325, 'brand': 569, 'extra': 1653, 'originally': 3154, 'discarded': 1302, 'players': 3371, 'posted': 3431, 'detailed': 1247, 'comments': 907, 'grey': 2034, 'red': 3655, 'pay': 3269, 'guess': 2054, 'existing': 1626, 'cds': 734, 'connection': 963, 'surprised': 4426, 'reviews': 3764, 'fabulous': 1660, 'currently': 1122, 'shooters': 4044, 'delay': 1197, 'messes': 2862, 'bitpim': 491, 'program': 3500, 'transfer': 4668, 'accessory': 93, 'manufacturer': 2774, 'performed': 3299, 'awful': 353, 'muffled': 2967, 'tinny': 4600, 'incoming': 2322, 'severe': 4005, 'echo': 1466, 'wind': 5054, 'resistant': 3733, 'overly': 3187, 'contacted': 985, 'told': 4616, 'warranty': 4965, 'produce': 3488, 'receipt': 3635, 'luck': 2723, 'linksys': 2654, 'exchange': 1612, 'refurb': 3667, 'something': 4180, 'bar': 389, 'placed': 3352, 'snug': 4160, 'heavy': 2138, 'keeps': 2503, 'falling': 1677, 'utter': 4850, 'promised': 3503, 'loop': 2690, 'tiny': 4601, 'four': 1852, 'spring': 4251, 'latch': 2570, 'visor': 4916, 'tries': 4692, 'download': 1367, 'address': 137, 'reboots': 3631, 'rate': 3598, 'tungsten': 4720, 'e2': 1438, 'flipphones': 1795, 'designed': 1232, 'smoothly': 4155, 'study': 4351, 'interested': 2394, 'sins': 4096, 'industrial': 2343, 'happened': 2095, 'tracking': 4657, 'access': 89, 'detachable': 1246, 'continue': 996, 'pairing': 3223, 'periodically': 3303, 'somehow': 4177, 'upload': 4828, 'third': 4556, 'locks': 2678, 'screens': 3923, 'flash': 1776, 'randomly': 3591, 'locked': 2677, 'truly': 4706, '325': 36, 'worn': 5098, 'ringer': 3780, 'choices': 820, 'tones': 4624, 'acceptable': 88, 'balance': 380, 'ready': 3619, 'prime': 3477, 'upbeat': 4823, 'chinese': 812, 'forgeries': 1837, 'abound': 74, 'explain': 1639, 'jack': 2441, 'ca': 649, '42': 43, 'crisp': 1097, 'smallest': 4139, 'stays': 4283, 'biggest': 475, 'drains': 1382, 'superfast': 4410, 'ergonomic': 1559, 'theory': 4543, 'stand': 4262, 'video': 4897, 'clips': 858, 'occupied': 3092, 'distracting': 1330, 'hour': 2234, 'entire': 1548, 'accept': 87, 'except': 1606, 'cbr': 733, 'mp3s': 2960, 'preferably': 3451, 'ripped': 3787, 'windows': 5056, 'media': 2824, 'beat': 420, 'shots': 4053, 'sos': 4199, 'signals': 4073, 'allows': 185, 'connect': 960, 'mini': 2886, 'near': 3004, 'open': 3130, 'allowing': 184, 'startac': 4271, 'regretted': 3676, 'outperform': 3172, 'china': 811, 'v325i': 4854, 'numbers': 3076, 'sim': 4080, '3o': 40, 'crashed': 1074, 'replaced': 3720, 'quit': 3577, '18': 10, 'iphone': 2414, '4s': 46, 'despite': 1240, 'connecting': 962, 'multiple': 2969, 'power': 3439, 'sources': 4209, 'imac': 2289, 'external': 1652, 'wall': 4951, 'outlet': 3170, 'etc': 1574, 'elsewhere': 1501, 'bells': 453, 'whistles': 5029, 'mediocre': 2826, 'via': 4894, 'slide': 4123, 'grip': 2040, 'prevents': 3468, 'slipping': 4131, 'hand': 2078, 'span': 4218, 'exclaim': 1616, 'whoa': 5033, 'tv': 4725, 'corded': 1025, 'freedom': 1863, 'passed': 3253, 'mark': 2782, 'shows': 4062, 'signs': 4076, '100': 2, 'functional': 1903, 'soft': 4165, 'tight': 4591, 'cut': 1130, 'shape': 4015, 'copier': 1022, 'sizes': 4109, 'sent': 3976, 'anywhere': 250, 'sold': 4169, 'units': 4789, 'provides': 3522, 'classy': 843, 'krussel': 2540, 'tracfonewebsite': 4654, 'toactivate': 4610, 'texas': 4521, 'dit': 1333, '5320': 51, 'mainly': 2748, 'soon': 4188, 'whatever': 5018, 'next': 3030, 'blueant': 515, 'supertooth': 4414, 'metro': 2865, 'pcs': 3272, 'sch': 3902, 'r450': 3581, 'slider': 4124, 'premium': 3455, 'plugs': 3389, 'plenty': 3383, 'capacity': 686, 'confortable': 957, 'somewhat': 4182, 'periods': 3304, 'ant': 237, 'hey': 2166, 'pleasantly': 3375, 'suprised': 4419, 'cost': 1034, 'dustpan': 1432, 'indoors': 2341, 'disposable': 1322, 'puff': 3536, 'smoke': 4150, 'convenient': 1009, 'ride': 3774, 'smoother': 4153, 'nano': 2990, 'son': 4184, 'dissapointed': 1324, 'reccommend': 3634, 'carries': 706, 'highest': 2171, 'anti': 240, 'glare': 1974, 'protector': 3515, 'date': 1150, 'smartphone': 4141, 'wont': 5084, 'atleast': 316, 'addition': 135, 'amp': 211, 'reoccure': 3713, 'bottom': 555, 'somewhere': 4183, 'else': 1500, '12': 4, 'creaks': 1081, 'wooden': 5088, 'floor': 1798, 'apartment': 252, 'generally': 1941, 'inconspicuous': 2326, 'boot': 541, 'slowly': 4134, 'sorry': 4197, 'impossible': 2304, 'refused': 3669, 'upgrade': 4825, 'discount': 1305, 'securly': 3953, 'possibility': 3427, 'double': 1361, 'booking': 539, 'break': 572, 'entertainment': 1546, 'communication': 912, 'management': 2766, 'activesync': 121, 'optimal': 3141, 'synchronization': 4450, 'disgusting': 1312, 'coupon': 1048, 'rare': 3595, 'instance': 2371, 'perfect': 3293, 'ps3': 3527, 'five': 1770, 'cheapy': 783, 'lots': 2702, 'sounded': 4202, 'talking': 4470, 'shouting': 4057, 'telephone': 4503, 'yes': 5136, 'shiny': 4035, 'grtting': 2051, '44': 44, 'until': 4815, 'v3c': 4855, 'thumbs': 4581, 'together': 4614, 'exceeds': 1601, 'feet': 1718, 'sight': 4070, 'improper': 2308, 'checked': 786, 'everywhere': 1591, 'ordering': 3148, 'effects': 1480, 'palms': 3228, 'awkward': 354, 'hoped': 2216, 'father': 1702, 'v265': 4853, 'pads': 3214, 'easily': 1458, 'stops': 4314, 'intermittently': 2399, 'reaching': 3614, 'row': 3822, 'send': 3967, 'keys': 2512, 'nightmare': 3038, 'describe': 1221, 'speakerphone': 4221, 'cassette': 720, 'current': 1121, 'cellphones': 740, 'planning': 3358, 'says': 3891, 'dirty': 1291, 'answer': 236, 'read': 3616, 'haven': 2114, 'products': 3494, 'sensor': 3975, 'reliability': 3694, 'beeping': 435, 'letting': 2620, 'dieing': 1269, 'laptop': 2558, 'ir': 2418, 'cancellation': 678, 'counterfeit': 1045, 'see': 3954, 'travled': 4679, 'swivel': 4444, 'sister': 4097, 'dual': 1417, '8125': 61, 'keeping': 2502, 'inside': 2362, 'bottowm': 556, 'gimmick': 1962, 'opens': 3133, 'top': 4635, 'causing': 731, 'discomfort': 1303, 'trust': 4710, 'maintains': 2752, 'flawless': 1787, 'normal': 3058, 'making': 2759, 'fails': 1671, 'devices': 1255, 'utterly': 4851, 'confusing': 959, 'lose': 2698, 'holder': 2195, 'cutouts': 1134, 'land': 2553, 'loops': 2691, 'material': 2798, 'flaws': 1789, 'exceptional': 1607, 'owning': 3202, 'official': 3105, 'oem': 3096, 'loudest': 2705, 'setting': 3999, 'competitors': 923, 'show': 4058, 'saved': 3885, 'alot': 191, 'cuts': 1135, 'beep': 434, 'ok': 3111, 'totally': 4642, 'unintelligible': 4782, 'word': 5089, 'restart': 3740, 'managed': 2765, 'bend': 460, 'leaf': 2591, 'metal': 2863, 'stress': 4333, 'leopard': 2612, 'print': 3478, 'wonderfully': 5082, 'wild': 5046, 'saggy': 3848, 'floppy': 1800, 'looses': 2694, 'snap': 4157, '8525': 63, 'carry': 707, 'fliptop': 1796, 'loose': 2692, 'wobbly': 5076, 'eventually': 1584, 'receive': 3636, 'seat': 3943, 'fulfills': 1897, 'requirements': 3728, 'fact': 1666, 'rests': 3746, 'lightly': 2635, 'against': 157, 'websites': 5002, 'rating': 3601, 'cables': 652, 'lap': 2557, 'controls': 1006, 'accessable': 90, 'mine': 2884, 'christmas': 826, 'rest': 3738, 'otherwise': 3161, 'joy': 2480, 'satisifed': 3878, '2005': 25, 's710a': 3840, 'wow': 5112, 'specs': 4226, 'armband': 282, 'allot': 182, 'clearer': 846, 'keypads': 2511, 'reach': 3613, 'ericson': 1560, 'z500a': 5150, 'motor': 2942, 'control': 1005, 'center': 744, 'voltage': 4927, 'humming': 2253, 'equipment': 1556, 'certain': 748, 'places': 3353, 'girl': 1964, 'complain': 924, 'wake': 4947, 'styling': 4361, 'restocking': 3743, 'fee': 1713, 'darn': 1147, 'lousy': 2708, 'seen': 3960, 'sweetest': 4441, 'securely': 3952, 'hook': 2212, 'directed': 1282, 'canal': 676, 'unsatisfactory': 4813, 'videos': 4898, 'negatively': 3014, 'adapter': 131, 'provide': 3520, 'hype': 2267, 'assumed': 310, 'lense': 2611, 'covered': 1056, 'falls': 1678, 'text': 4522, 'messaging': 2861, 'tricky': 4690, 'painful': 3217, 'lasted': 2566, 'blew': 505, 'flops': 1801, 'smudged': 4156, 'touches': 4646, 'disappoint': 1295, 'infra': 2354, 'port': 3416, 'irda': 2419, 'aimless': 166, 'movie': 2954, 'distressed': 1331, 'drifting': 1401, 'young': 5139, 'man': 2764, 'flat': 1778, 'characters': 764, 'audience': 332, 'half': 2072, 'whom': 5037, 'attempting': 326, 'artiness': 292, 'angles': 223, 'became': 426, 'ridiculous': 3775, 'acting': 116, 'plot': 3386, 'lines': 2651, 'non': 3052, 'existent': 1624, 'speak': 4219, 'scene': 3899, 'gerardo': 1952, 'song': 4185, 'running': 3833, 'his': 2185, 'head': 2123, 'lacks': 2548, 'art': 289, 'meaning': 2815, 'emptiness': 1519, 'empty': 1520, 'saw': 3888, 'kids': 2517, 'predictable': 3448, 'casting': 723, 'jimmy': 2466, 'buffet': 613, 'science': 3910, 'teacher': 4489, 'baby': 364, 'owls': 3197, 'showed': 4060, 'florida': 1802, 'muppets': 2970, 'hilarious': 2177, 'delivers': 1210, 'main': 2746, 'budget': 610, 'overdue': 3185, 'consider': 971, 'tale': 4465, 'sisters': 4098, 'single': 4092, 'greatest': 2025, 'film': 1742, 'gem': 1939, 'terms': 4516, 'screenplay': 3922, 'cinematography': 833, 'post': 3430, 'production': 3493, 'editing': 1472, 'directing': 1283, 'true': 4704, 'masterpiece': 2795, 'sea': 3932, 'faux': 1705, 'masterpieces': 2796, 'structure': 4344, 'tightly': 4592, 'history': 2186, 'cinema': 830, 'vitally': 4919, 'occurs': 3094, 'words': 5090, 'content': 993, 'level': 2622, 'fill': 1739, 'films': 1747, 'superlative': 4412, 'imaginable': 2291, 'require': 3727, 'significant': 4074, 'amount': 210, 'puzzle': 3562, 'solving': 4175, 'pieces': 3337, 'create': 1084, 'pulls': 3540, 'punches': 3543, 'game': 1921, 'th': 4524, 'deserves': 1229, 'insane': 2359, 'massive': 2792, 'levels': 2623, 'unlockable': 4795, 'canada': 675, 'aye': 358, 'pure': 3553, 'brilliance': 585, 'flick': 1791, 'doomed': 1357, 'conception': 942, 'lame': 2551, 'minor': 2887, 'character': 762, 'pg': 3315, 'complete': 928, 'sequel': 3980, 'confirm': 955, 'unfunny': 4778, 'generic': 1943, 'exaggerating': 1597, 'moment': 2915, 'trailer': 4662, 'talented': 4467, 'carrell': 703, 'co': 865, 'fare': 1694, 'morgan': 2932, 'freeman': 1864, 'jonah': 2477, 'hill': 2178, 'ed': 1468, 'helms': 2149, 'story': 4319, 'itself': 2437, 'lazy': 2588, 'presence': 3459, 'animals': 227, 'integration': 2385, 'scenes': 3901, 'obvious': 3087, 'green': 2029, 'translate': 4671, 'succeeds': 4379, 'meagre': 2810, 'lesser': 2614, 'lovely': 2712, 'written': 5119, 'french': 1868, 'cancan': 677, 'boasts': 521, 'cutest': 1132, 'leading': 2590, 'ladies': 2549, 'grace': 2009, 'heels': 2140, 'negative': 3013, 'insipid': 2364, 'cause': 729, 'whiny': 5028, 'pointless': 3400, 'future': 1911, 'efforts': 1483, 'cast': 721, 'performances': 3298, 'believable': 447, 'anne': 232, 'heche': 2139, 'convincing': 1016, 'sam': 3859, 'shepard': 4030, 'portrayal': 3421, 'gung': 2058, 'ho': 2191, 'marine': 2780, 'sobering': 4163, 'sat': 3873, 'riveted': 3794, 'resounding': 3735, 'tom': 4620, 'hanks': 2093, 'actor': 122, 'enjoyed': 1538, 'children': 806, 'annoying': 234, 'gives': 1970, 'feeling': 1715, 'fingernails': 1757, 'chalkboard': 754, 'unnecessary': 4799, 'train': 4663, 'roller': 3812, 'coaster': 869, 'warmth': 4961, 'grates': 2018, 'nerves': 3021, 'improved': 2310, 'improvisation': 2312, 'actors': 123, 'twice': 4726, 'worry': 5100, 'delivering': 1209, 'honestly': 2210, 'often': 3107, 'dialogue': 1262, 'follow': 1816, 'surroundings': 4431, 'crackles': 1065, 'unpredictable': 4804, 'youthful': 5143, 'energy': 1531, 'concentrate': 940, 'meanders': 2814, 'badly': 374, 'suspense': 4435, 'builders': 617, 'cross': 1103, 'cliche': 849, 'parents': 3243, 'movies': 2955, 'predict': 3447, 'dialog': 1260, 'verbatim': 4884, 'writing': 5118, 'selections': 3962, 'gross': 2045, 'chills': 808, 'alexander': 177, 'nevsky': 3028, 'artist': 293, 'whoever': 5034, 'lived': 2666, 'pretentious': 3464, 'planned': 3357, 'dodge': 1343, 'stratus': 4327, 'makers': 2757, 'aren': 275, 'restrained': 3745, 'business': 633, 'québec': 3579, 'mouth': 2947, 'promote': 3504, 'interesting': 2395, 'provoking': 3525, 'paced': 3207, 'suited': 4397, 'lion': 2656, 'superbly': 4409, 'acted': 115, 'classic': 840, 'list': 2657, 'horror': 2226, 'checking': 787, 'script': 3927, 'horrendous': 2221, 'retarded': 3750, 'girls': 1966, 'manna': 2771, 'heaven': 2137, 'terrific': 4519, 'occasionally': 3090, 'touching': 4647, 'evaluate': 1578, 'lives': 2667, 'veteran': 4892, 'nostalgia': 3062, 'trip': 4696, 'ursula': 4834, 'burton': 631, 'nun': 3078, 'nuns': 3079, 'church': 828, 'including': 2321, 'shirley': 4039, 'jones': 2478, 'rendition': 3710, 'tonight': 4626, 'uplifting': 4827, 'ending': 1527, 'frankly': 1860, 'cotton': 1039, 'club': 863, 'unfaithful': 4773, 'watch': 4977, 'lane': 2555, 'gere': 1953, 'dialogs': 1261, 'shallow': 4012, 'insincere': 2363, 'chick': 801, 'politically': 3406, 'correct': 1031, 'watching': 4980, 'scenery': 3900, 'her': 2157, 'bring': 588, 'fresh': 1872, 'bold': 529, 'helps': 2154, 'maybe': 2805, 'idiot': 2279, 'savant': 3883, 'played': 3369, 'boring': 548, 'myself': 2983, 'peaking': 3276, 'paper': 3239, 'columbo': 888, 'mature': 2802, 'neighbour': 3018, 'misplace': 2897, 'weaker': 4995, 'episode': 1553, 'debated': 1165, 'sack': 3842, 'trumpeter': 4708, 'falsely': 1679, 'accused': 107, 'murder': 2971, 'applause': 265, 'prelude': 3453, 'director': 1287, 'afraid': 152, 'playing': 3372, 'villain': 4903, 'rent': 3712, 'michael': 2869, 'ironside': 2425, 'rocked': 3804, 'social': 4164, 'physical': 3329, 'outlets': 3171, 'tremendously': 4687, 'chemistry': 799, 'ben': 459, 'affleck': 150, 'sandra': 3865, 'bullock': 623, 'why': 5039, 'leaving': 2600, 'knocked': 2533, 'moments': 2916, 'excruciatingly': 1617, 'remake': 3700, 'wedding': 5003, 'agreed': 164, 'fear': 1710, 'losing': 2699, 'nobody': 3045, 'aired': 168, 'dribble': 1397, 'watched': 4979, 'putting': 3561, 'imdb': 2296, 'ratings': 3602, 'mirrormask': 2892, 'inexperience': 2348, 'direction': 1284, 'meant': 2818, 'dramatic': 1384, 'tension': 4512, 'conflict': 956, 'central': 746, 'themes': 4540, 'handled': 2082, 'ineptly': 2345, 'stereotypically': 4298, 'depth': 1219, 'imagination': 2292, 'core': 1027, 'following': 1818, 'bunch': 626, 'schoolers': 3906, 'cry': 1114, 'relate': 3681, 'hell': 2145, 'cult': 1118, 'viewing': 4901, 'sharing': 4017, 'disaster': 1300, 'confuses': 958, 'fish': 1765, 'underwater': 4766, 'repeated': 3715, 'thousand': 4567, 'worse': 5101, 'possible': 3428, 'redeemed': 3656, 'mst3k': 2962, 'fodder': 1814, 'paid': 3215, 'treat': 4682, 'anthony': 239, 'quinn': 3576, 'crazy': 1080, 'horse': 2227, 'walk': 4948, 'theatre': 4533, 'relief': 3695, 'yeah': 5128, 'storyline': 4320, 'pillow': 3339, 'girlfriend': 1965, 'boyfriend': 564, 'gone': 1991, 'disliked': 1316, 'tickets': 4587, 'dollars': 1350, 'mad': 2736, 'identifies': 2277, 'cardboard': 695, 'stereotypes': 4297, 'predictably': 3449, 'cartoon': 711, 'crafted': 1068, 'paul': 3267, 'haggis': 2069, 'handle': 2081, 'strokes': 4341, 'storytelling': 4321, 'painted': 3220, 'crayons': 1079, 'crash': 1073, 'depressing': 1218, 'provokes': 3524, 'emotion': 1512, 'teaches': 4490, 'already': 192, 'racism': 3584, 'prejudice': 3452, 'empowerment': 1518, 'women': 5077, 'brain': 567, 'attempt': 324, 'shut': 4064, 'primal': 3475, 'impulse': 2313, 'preservation': 3462, 'shattered': 4021, 'recover': 3653, 'joins': 2473, 'revenge': 3756, 'boogeyman': 537, 'zombiez': 5154, 'hellish': 2147, 'trinity': 4695, 'mean': 2813, 'distinction': 1327, 'redeeming': 3657, 'appalling': 256, 'artless': 295, 'endlessly': 1528, 'presents': 3461, 'ugliest': 4735, 'beyond': 471, 'lead': 2589, 'charisma': 772, 'merit': 2855, 'akin': 172, 'torture': 4639, 'explanation': 1641, 'atrocity': 319, 'pleasant': 3374, 'voyage': 4933, 'discovery': 1307, 'unrecommended': 4809, 'premise': 3454, 'ms': 2961, 'garbo': 1927, 'bat': 405, 'talents': 4468, 'silent': 4077, 'netflix': 3024, 'stocking': 4307, 'renowned': 3711, 'screenwriter': 3924, 'frances': 1857, 'marion': 2781, 'hasn': 2106, 'step': 4293, 'suffered': 4389, 'close': 860, 'ups': 4831, 'drag': 1378, 'heroes': 2162, 'age': 158, 'john': 2471, 'wayne': 4989, 'industry': 2344, 'shined': 4034, 'senior': 3969, 'him': 2180, 'older': 3115, 'indulgent': 2342, 'hadn': 2068, 'spent': 4231, 'showcasing': 4059, 'noteworthy': 3068, 'punched': 3542, 'gallon': 1920, 'blood': 508, 'spew': 4232, 'forth': 1847, 'jamie': 2446, 'foxx': 1855, 'ray': 3609, 'charles': 774, 'genius': 1945, 'owns': 3203, 'spacek': 4215, 'coal': 867, 'miner': 2885, 'daughter': 1152, 'quaid': 3564, 'balls': 384, 'remember': 3702, 'himself': 2181, 'legendary': 2605, 'biographical': 480, 'musician': 2978, 'hitchcock': 2189, 'ironically': 2422, 'secondly': 3948, 'perfected': 3294, 'thriller': 4573, 'chase': 778, 'pandering': 3233, 'sabotages': 3841, 'hence': 2155, 'rumbles': 3831, 'desperately': 1236, 'depending': 1214, 'usual': 4848, 'logic': 2680, 'mishima': 2895, 'uninteresting': 4784, 'chilly': 809, 'unremarkable': 4811, 'author': 339, 'abstruse': 82, 'culture': 1119, 'reenactments': 3659, 'attention': 328, 'emotionally': 1513, 'adrift': 143, 'stagy': 4260, 'sits': 4103, 'soldiers': 4170, 'singing': 4091, 'masculinity': 2791, 'pledge': 3382, 'themselves': 4541, 'hairsplitting': 2071, 'purity': 3555, 'admiration': 140, 'swords': 4445, 'bore': 546, 'kill': 2519, 'momentum': 2917, 'quicker': 3573, 'schrader': 3907, 'resume': 3749, 'amateurish': 198, '80s': 60, 'fascinated': 1695, 'dancing': 1144, 'dvd': 1433, 'struck': 4343, 'contained': 989, 'holes': 2199, 'inconsistencies': 2325, 'horrid': 2224, 'realistic': 3622, 'ballet': 383, 'repertory': 3718, 'pathetic': 3260, 'developments': 1253, 'lacked': 2546, 'woa': 5075, 'sappiest': 3870, 'unwatchable': 4818, 'talent': 4466, 'action': 117, 'filmography': 1746, 'site': 4101, 'chance': 756, 'intentions': 2391, 'master': 2793, 'theme': 4539, 'undertone': 4765, 'fifties': 1734, 'existential': 1625, 'weariness': 4997, 'aerial': 147, 'ought': 3163, 'thrilled': 4572, 'senses': 3971, 'deeply': 1184, 'regrettably': 3675, 'visual': 4917, 'interest': 2393, 'drama': 1383, 'expression': 1645, 'celebration': 736, 'patriotism': 3263, 'underlines': 4756, 'narrative': 2993, 'actress': 124, 'june': 2489, 'allison': 181, 'plain': 3354, 'soundtrack': 4204, 'concert': 947, 'sequences': 3983, 'considering': 974, 'ridiculousness': 3776, 'angry': 224, 'spoilers': 4246, 'surface': 4424, 'stunning': 4354, 'fx': 1913, 'conceptually': 943, 'everybody': 1587, 'fantasy': 1691, 'fans': 1689, 'sour': 4207, 'surprisingly': 4429, 'considered': 973, 'released': 3693, 'mexican': 2866, 'understood': 4764, 'matter': 2800, 'identified': 2276, 'ranks': 3593, 'noir': 3048, 'crime': 1096, 'belmondo': 456, 'lino': 2655, 'ventura': 4879, 'complex': 931, 'psychological': 3530, 'portrayals': 3422, 'detailing': 1248, 'loyalty': 2721, 'treachery': 4680, 'hope': 2215, 'melville': 2839, 'journey': 2479, 'eyes': 1659, 'soul': 4200, 'water': 4981, 'manages': 2768, 'transcend': 4666, 'limitations': 2645, 'indie': 2338, 'continually': 994, 'subverting': 4376, 'emerge': 1508, 'intense': 2389, 'gripping': 2041, 'crocdodile': 1101, 'indeed': 2332, 'believed': 449, 'crocs': 1102, 'swamp': 4438, 'location': 2674, 'thoroughly': 4561, 'christopher': 827, 'eccleston': 1465, 'tardis': 4476, 'continuation': 995, 'disturbing': 1332, 'memories': 2843, 'succeeded': 4378, 'pi': 3330, 'jerky': 2458, 'camerawork': 671, 'theater': 4532, 'sick': 4066, 'summary': 4400, 'witticisms': 5073, 'weren': 5016, 'witty': 5074, 'billy': 478, 'bob': 522, 'rise': 3789, 'finale': 1749, 'possibly': 3429, 'trilogy': 4693, 'kieslowski': 2518, 'ceases': 735, 'amaze': 199, 'favourite': 1709, 'directors': 1289, 'colours': 887, 'flag': 1772, 'shot': 4052, 'visually': 4918, 'subtle': 4374, 'connections': 964, 'spoiler': 4245, 'remaining': 3699, 'survivors': 4433, 'ferry': 1727, 'valentine': 4859, 'judge': 2483, 'solidifying': 4174, 'happiness': 2099, 'suffering': 4390, 'dealt': 1163, 'smile': 4147, 'wrap': 5113, 'vomited': 4930, 'roth': 3818, 'pearls': 3279, 'awarded': 349, 'eloquently': 1499, 'francis': 1858, 'ford': 1833, 'coppola': 1023, '25': 32, 'unfolds': 4774, 'gradually': 2011, 'leaves': 2599, 'develop': 1251, 'wonderful': 5081, 'lies': 2628, 'contrast': 1001, 'nicola': 3036, 'roeg': 3807, 'wih': 5045, 'sublime': 4368, 'translating': 4672, 'offensive': 3100, 'intelligence': 2386, 'strives': 4340, 'greatness': 2026, 'poetry': 3396, 'muddled': 2964, 'disparate': 1318, 'reviewer': 3761, 'accurately': 106, 'defined': 1192, 'intelligent': 2387, 'masterful': 2794, 'sense': 3970, 'human': 2248, 'nature': 2999, 'tolerate': 4619, 'political': 3405, 'incorrectness': 2327, 'artistic': 294, 'suspension': 4436, 'disbelief': 1301, 'slavic': 4116, 'female': 1725, 'entertaining': 1545, 'outlandish': 3169, 'array': 284, 'memorable': 2842, 'psychotic': 3531, 'lovable': 2709, 'nuts': 3082, 'enjoyment': 1539, 'dangerous': 1145, 'sweet': 4440, 'repair': 3714, 'reactions': 3615, 'bitchy': 488, 'boss': 551, 'smart': 4140, 'twist': 4728, 'shed': 4024, 'tear': 4493, 'seeing': 3956, 'underneath': 4758, 'malta': 2763, 'settings': 4000, 'dry': 1416, 'barren': 396, 'hockey': 2192, 'defensemen': 1189, 'goalies': 1983, 'diving': 1335, 'wide': 5041, 'net': 3023, 'relationship': 3685, 'bakery': 378, 'assistant': 309, 'waitress': 4945, 'superficial': 4411, 'stagey': 4259, 'stage': 4258, 'farce': 1693, 'pyromaniac': 3563, 'waylaid': 4988, 'bored': 547, 'switched': 4443, 'laugh': 2580, 'yawn': 5126, 'educational': 1474, 'barney': 395, 'de': 1156, 'duper': 1426, 'babie': 363, 'bop': 542, 'storm': 4318, 'trooper': 4701, 'guy': 2059, 'potted': 3436, 'plants': 3363, 'shameful': 4014, 'television': 4504, 'writers': 5117, 'smack': 4136, 'actresses': 125, 'bonus': 534, 'taped': 4475, 'episodes': 1554, 'latched': 2571, 'endearing': 1525, 'become': 429, 'special': 4223, 'wholesome': 5036, 'sibling': 4065, 'bond': 531, 'unneeded': 4800, 'controversy': 1007, 'damian': 1141, 'versatile': 4887, 'ways': 4990, 'portraying': 3424, 'cutting': 1136, 'modern': 2909, 'passion': 3254, 'drive': 1406, 'taking': 4464, 'forgetting': 1840, 'ireland': 2420, 'scared': 3896, 'horrified': 2225, 'sympathetic': 4448, 'towards': 4649, 'movements': 2952, 'attempts': 327, 'supposed': 4417, 'situation': 4105, 'leave': 2598, 'shelf': 4026, 'elias': 1497, 'koteas': 2537, 'palance': 3224, 'angelina': 221, 'naked': 2987, 'drago': 1379, 'cameo': 669, 'sven': 4437, 'ole': 3116, 'thorsen': 4562, 'enjoyable': 1537, 'ebay': 1463, 'poler': 3403, 'bear': 419, 'kinda': 2524, 'question': 3570, 'fort': 1846, 'steele': 4289, 'unrealistic': 4807, 'throughout': 4576, '90': 66, 'looked': 2687, '70000': 56, 'lucy': 2724, 'bell': 450, 'higher': 2170, 'sink': 4094, 'slackers': 4115, 'excuses': 1620, 'actions': 118, 'god': 1985, 'parts': 3251, 'excerpts': 1609, 'sets': 3998, 'stylized': 4363, 'exemplars': 1622, 'designer': 1233, 'stories': 4317, 'powerful': 3440, 'explorations': 1643, 'learn': 2594, 'politics': 3407, 'japanese': 2447, 'rendering': 3708, 'america': 206, 'imperial': 2301, 'values': 4862, 'faultless': 1703, 'photography': 3327, 'composition': 935, 'underappreciated': 4753, 'brian': 580, 'keith': 2505, 'bully': 624, 'teddy': 4498, 'vivid': 4921, 'largely': 2560, 'member': 2840, 'identify': 2278, 'sean': 3937, 'connery': 965, 'noble': 3044, 'brigand': 583, 'candace': 680, 'bergen': 463, 'feisty': 1719, 'heroine': 2163, 'huston': 2264, 'wily': 5052, 'hay': 2118, 'steve': 4299, 'kanaly': 2498, 'spiffy': 4238, 'radiant': 3585, 'ruthless': 3836, 'lieutenant': 2629, 'roosevelt': 3816, 'stick': 4301, 'adventure': 144, 'robert': 3800, 'ryans': 3838, 'portrayed': 3423, 'schizophrenic': 3904, 'murdered': 2972, 'affected': 149, 'second': 3946, 'war': 4958, 'humour': 2257, 'apt': 272, 'brother': 595, 'ryan': 3837, 'imitation': 2297, 'individual': 2339, 'fashioned': 1698, 'tuneful': 4719, 'rita': 3792, 'hayworth': 2120, 'pedestal': 3284, 'example': 1598, 'hollywood': 2203, 'exploit': 1642, 'financial': 1751, 'gain': 1917, 'linear': 2649, 'narration': 2992, 'thus': 4584, 'flashbacks': 1777, 'articulated': 291, 'monica': 2919, 'bellucci': 454, 'commentary': 905, 'undoubtedly': 4768, 'timers': 4597, 'popular': 3414, 'laughs': 2584, 'northern': 3061, 'positive': 3425, 'community': 914, 'represents': 3725, 'created': 1085, 'unique': 4786, 'vivian': 4920, 'schilling': 3903, '95': 67, 'theatres': 4534, 'role': 3808, 'screamy': 3919, 'masculine': 2790, 'casted': 722, 'european': 1577, 'throwback': 4577, 'student': 4348, '1980': 19, 'experiences': 1636, 'abroad': 77, 'interacting': 2392, 'nationalities': 2996, 'circumstances': 836, 'slightly': 4128, 'fan': 1686, 'ticker': 4586, 'buildings': 619, 'locations': 2675, 'hummh': 2252, 'angel': 218, 'scamp': 3894, 'yelps': 5135, 'hes': 2165, 'funniest': 1907, 'caught': 728, 'curtain': 1124, 'ive': 2438, 'edition': 1473, 'lid': 2626, 'romantic': 3814, 'charming': 777, 'junkyard': 2491, 'dogs': 1347, 'laughed': 2582, 'chosen': 823, 'tortured': 4640, 'blatant': 504, 'american': 207, 'propaganda': 3509, 'americans': 208, 'hatred': 2110, 'clichés': 850, 'admitted': 141, 'involved': 2411, 'school': 3905, 'pile': 3338, 'round': 3820, 'admins': 139, 'thunderbirds': 4583, 'motion': 2939, 'needlessly': 3011, 'repeats': 3717, 'backed': 369, 'continuity': 998, 'thrown': 4578, 'vehicles': 4876, 'corn': 1028, 'flakes': 1774, 'box': 561, 'directorial': 1288, 'style': 4359, 'bordered': 543, 'stupidity': 4356, 'proud': 3517, 'filmmaker': 1745, 'nor': 3057, 'hide': 2168, 'sand': 3864, 'monumental': 2927, 'halfway': 2073, 'embarrassed': 1504, 'howell': 2242, 'nut': 3081, 'bag': 375, 'stephen': 4294, 'mchattie': 2807, 'lance': 2552, 'hendrikson': 2156, 'raging': 3586, 'cheekbones': 789, 'professionals': 3496, 'debbie': 1166, 'rochon': 3802, 'contributory': 1003, 'former': 1845, 'chimp': 810, 'tolerable': 4617, 'oy': 3204, 'vey': 4893, 'scale': 3892, 'simplifying': 4086, 'sake': 3850, 'brevity': 579, 'fulfilling': 1896, 'jobs': 2468, 'amusing': 213, 'convoluted': 1017, 'convince': 1015, 'questioning': 3571, 'glance': 1973, 'bela': 446, 'lugosi': 2725, 'extraneous': 1654, 'intoning': 2405, 'decidely': 1174, 'period': 3302, 'universal': 4790, 'armand': 281, 'assante': 307, 'tying': 4731, 'score': 3912, 'frightening': 1881, 'comprehensible': 936, 'hang': 2090, 'camp': 672, 'expecting': 1632, 'oscar': 3158, 'iq': 2417, 'particularly': 3249, 'mollusk': 2913, 'loosely': 2693, 'insult': 2379, 'public': 3533, 'knew': 2530, 'string': 4337, 'lower': 2718, 'fox': 1854, 'scripts': 3930, 'victor': 4896, 'mclaglen': 2808, 'donlevy': 1354, 'unrecognizable': 4808, 'relations': 3684, 'taylor': 4487, 'stanwyck': 4265, 'surprising': 4428, 'president': 3463, 'death': 1164, 'entirely': 1549, 'unmoving': 4798, 'producer': 3490, 'gifted': 1961, 'cheerless': 791, 'heist': 2142, 'characterisation': 763, 'underbite': 4754, 'stoic': 4309, 'emoting': 1511, 'chow': 825, 'yun': 5149, 'fat': 1701, 'tomorrow': 4622, 'cheesy': 796, 'abandoned': 70, 'factory': 1668, 'executed': 1621, 'flying': 1808, 'judo': 2486, 'rolls': 3813, 'la': 2543, 'woo': 5086, 'squibs': 4255, 'proceedings': 3485, 'remotely': 3706, 'derivative': 1220, 'mercy': 2852, 'killing': 2521, 'hopeless': 2218, 'overacting': 3181, 'space': 4214, 'uneasy': 4769, 'composed': 934, '30': 34, 'footage': 1827, 'elderly': 1492, 'awkwardly': 355, 'babbling': 362, 'overwrought': 3195, 'pseudo': 3528, 'satanic': 3874, 'gibberish': 1960, 'corny': 1029, 'teen': 4500, 'goth': 2003, 'blush': 519, 'olde': 3114, 'english': 1534, 'latin': 2577, 'sloppy': 4132, 'hackneyed': 2066, 'blah': 496, 'balanced': 381, 'underacting': 4752, 'competent': 922, 'jerry': 2459, 'falwell': 1680, 'starring': 4268, 'jaclyn': 2442, 'smith': 4149, 'opened': 3131, 'length': 2609, 'lifetime': 2631, 'air': 167, 'sells': 3965, 'assaulted': 308, 'strident': 4335, 'cords': 1026, 'blare': 503, 'sort': 4198, 'pap': 3238, 'screened': 3921, 'afternoon': 155, 'punish': 3544, 'unemployed': 4770, 'understatement': 4763, 'comedy': 894, 'creates': 1086, 'universe': 4791, 'fascinating': 1696, 'team': 4491, 'behind': 442, 'trond': 4700, 'fausa': 1704, 'aurvåg': 335, 'bothersome': 554, 'humorous': 2256, 'comment': 904, '2006': 26, 'move': 2950, 'initially': 2357, 'local': 2672, 'sites': 4102, 'filmed': 1743, 'buffalo': 612, 'intrigued': 2406, 'applauded': 264, 'conclusion': 948, 'lilt': 2644, 'heart': 2133, 'race': 3582, 'duris': 1429, 'views': 4902, 'barcelona': 390, 'famed': 1682, 'gaudi': 1932, 'towers': 4650, 'ten': 4509, 'thoughts': 4566, 'dislike': 1315, 'despised': 1239, 'rough': 3819, 'draft': 1377, 'shooting': 4045, 'began': 439, 'completed': 929, 'happen': 2094, 'personalities': 3309, 'change': 757, 'twists': 4729, 'occur': 3093, 'irritating': 2426, 'indescribably': 2333, 'idiotic': 2280, 'season': 3939, 'contains': 992, 'cheesiness': 795, 'unethical': 4771, 'nc': 3003, '17': 9, 'final': 1748, 'zillion': 5152, 'reality': 3623, 'washing': 4971, 'twirling': 4727, 'grade': 2010, '20th': 28, 'century': 747, 'road': 3796, '1948': 14, 'silly': 4079, 'implausible': 2302, 'unmitigated': 4797, 'unconvincing': 4750, 'blandly': 501, 'edward': 1475, 'chodorov': 818, 'produced': 3489, 'jean': 2452, 'negulesco': 3016, 'widmark': 5042, 'unintentionally': 4783, 'comical': 901, 'marbles': 2776, 'early': 1447, 'marred': 2784, 'constant': 978, 'studio': 4350, 'indoor': 2340, 'exteriors': 1651, 'prompted': 3506, 'documentary': 1342, 'serious': 3986, 'start': 4270, 'martin': 2787, 'middle': 2874, 'aged': 159, 'upper': 4830, 'class': 839, 'uptight': 4833, 'betty': 468, 'mistakes': 2902, 'racial': 3583, 'jokes': 2476, 'offend': 3099, 'littered': 2663, 'overt': 3193, 'slurs': 4135, 'members': 2841, 'whites': 5031, 'depicted': 1216, 'morons': 2934, 'boobs': 536, 'aside': 299, 'lets': 2619, 'destroy': 1244, 'latifa': 2576, 'wouldnt': 5109, 'steamboat': 4288, 'willie': 5051, 'amazingly': 202, 'mickey': 2870, 'mouse': 2946, 'plane': 3356, 'famous': 1685, 'ground': 2047, 'tons': 4627, 'granted': 2015, 'crowd': 1106, 'pleaser': 3378, '1928': 12, 'timeless': 4595, 'turkey': 4721, 'straw': 4328, 'imaginative': 2293, 'cruel': 1109, 'among': 209, '80': 59, 'bipolarity': 481, 'thug': 4580, 'luv': 2730, 'diaper': 1263, 'commercial': 908, 'terribly': 4518, 'awards': 350, 'accolades': 98, 'deserving': 1230, 'body': 525, '1947': 13, 'garfield': 1929, 'ann': 231, 'revere': 3757, 'lilli': 2643, 'plmer': 3385, 'william': 5050, 'conrad': 969, 'lee': 2601, 'cinematographers': 832, 'james': 2445, 'wong': 5083, 'howe': 2241, 'qualities': 3567, 'shame': 4013, 'thomerson': 4559, 'credit': 1091, '1986': 20, 'version': 4888, 'watchable': 4978, 'professor': 3497, 'dumb': 1423, 'established': 1570, 'zombie': 5153, 'students': 4349, 'necklace': 3007, 'containing': 991, 'meteorite': 2864, 'matthews': 2801, 'wrote': 5122, '1995': 21, 'monster': 2923, 'grim': 2037, 'pace': 3206, 'lighting': 2634, 'aspects': 305, 'lack': 2545, 'notable': 3064, 'gore': 1998, 'convention': 1010, 'past': 3255, 'cg': 750, 'opening': 3132, 'sequence': 3982, 'slideshow': 4125, 'explosion': 1644, 'gas': 1931, 'tanks': 4471, 'okay': 3112, 'fair': 1672, 'critic': 1099, 'creature': 1089, 'gotta': 2004, 'slimy': 4130, 'drooling': 1410, 'teeth': 4502, 'sum': 4398, 'breeders': 577, 'avoided': 346, 'ebola': 1464, 'virus': 4912, 'comedic': 893, 'timing': 4599, 'debits': 1167, 'popcorn': 3413, 'borders': 545, 'lewis': 2624, 'considerable': 972, 'incendiary': 2316, 'unrestrained': 4812, 'sole': 4171, 'bright': 584, 'spot': 4248, 'recent': 3640, 'superbad': 4408, 'interim': 2397, 'originality': 3153, 'freshness': 1873, 'offer': 3101, 'evidently': 1592, 'limited': 2646, 'reflected': 3662, 'par': 3241, 'borrowed': 549, 'filmiing': 1744, 'expansive': 1628, 'convey': 1014, 'broad': 591, 'sweep': 4439, 'landscapes': 2554, 'sign': 4071, 'asleep': 303, 'trashy': 4678, 'precisely': 3446, 'proudly': 3518, 'classical': 841, 'wb': 4992, 'cartoons': 712, 'toons': 4633, 'vibe': 4895, 'delivered': 1208, 'underrated': 4759, 'murky': 2974, 'related': 3682, 'tender': 4510, 'dark': 1146, 'sitcoms': 4100, 'oriented': 3151, 'teenagers': 4501, 'peculiarity': 3283, 'deserved': 1228, 'element': 1496, 'excessively': 1611, 'phony': 3324, 'contrived': 1004, 'sit': 4099, 'fifteen': 1733, 'um': 4739, 'perabo': 3292, 'excuse': 1619, 'volcano': 4926, 'honest': 2209, 'unbelievable': 4745, 'nonsense': 3055, 'foolish': 1825, 'accents': 86, 'abysmal': 83, 'hypocrisy': 2268, 'vomit': 4929, 'rubbish': 3827, 'researched': 3731, 'pitch': 3345, 'omit': 3121, 'instant': 2372, 'catchy': 726, 'credits': 1092, 'miss': 2898, 'simmering': 4083, 'boiling': 528, 'warts': 4967, 'poet': 3395, 'bohemian': 526, 'wartime': 4966, 'bombardments': 530, 'london': 2682, 'outward': 3178, 'tranquillity': 4664, 'welsh': 5013, 'coastal': 868, 'retreat': 3751, 'borderlines': 544, 'friendship': 1879, 'lust': 2729, 'dedication': 1181, 'versus': 4889, 'concerns': 946, 'jealousy': 2451, 'rivalry': 3793, 'cowardice': 1059, 'egotism': 1487, 'heroism': 2164, 'sacrifice': 3843, 'suggests': 4396, 'brings': 589, 'focus': 1812, 'underlying': 4757, 'tensions': 4513, 'served': 3990, 'inappropriate': 2315, 'smiling': 4148, 'keira': 2504, 'knightley': 2531, 'prone': 3508, 'exquisite': 1646, 'inventive': 2408, 'pointillistic': 3399, 'behold': 444, 'continuously': 999, 'bertolucci': 464, 'relationships': 3686, 'engaging': 1532, 'sidelined': 4068, 'inexplicable': 2349, 'crew': 1095, 'regardless': 3671, 'errol': 1562, 'flynn': 1809, 'custer': 1126, 'alongside': 190, 'olivia': 3118, 'havilland': 2115, 'known': 2535, 'dads': 1138, 'grew': 2033, 'realised': 3621, 'jim': 2465, 'connor': 968, 'energetic': 1530, 'george': 1951, 'dull': 1422, 'hosting': 2231, 'overs': 3192, 'monotonous': 2922, 'guests': 2056, 'shenanigans': 4029, 'surrounding': 4430, 'spy': 4254, 'kidnapped': 2516, 'nasty': 2994, 'foreign': 1834, 'random': 3590, 'taxidermists': 4486, 'stewart': 4300, 'hero': 2161, 'rips': 3788, 'climax': 854, 'embassy': 1506, 'brooding': 594, 'menace': 2846, 'nevertheless': 3027, 'stable': 4256, 'excellently': 1604, 'tops': 4637, 'typical': 4733, 'sci': 3909, 'producers': 3491, 'scot': 3913, 'vandiver': 4864, 'nonetheless': 3054, 'campy': 673, 'delight': 1203, 'bendingly': 461, 'scares': 3897, 'medical': 2825, 'terminology': 4515, 'iffy': 2283, 'insulin': 2378, 'dependant': 1213, 'diabetic': 1258, 'revealing': 3755, 'complexity': 932, 'task': 4479, 'challenges': 755, 'facing': 1665, 'south': 4210, 'africa': 153, 'attempted': 325, 'truth': 4711, 'reconciliation': 3652, 'process': 3486, 'magnificent': 2744, 'woven': 5111, 'splendid': 4241, 'view': 4899, 'subtitles': 4373, 'aversion': 343, 'therapy': 4544, 'shakespear': 4009, 'macbeth': 2734, 'jason': 2448, 'moved': 2951, 'tears': 4494, 'monolog': 2921, 'brief': 582, 'candle': 681, 'sphere': 4233, 'moral': 2930, 'decay': 1170, 'forces': 1832, 'helen': 2144, 'baxendale': 413, 'credible': 1090, 'lady': 2550, 'cheerfull': 790, 'naughty': 3000, 'deadly': 1158, 'taste': 4480, 'evil': 1593, 'shakespears': 4010, 'lyrics': 2731, 'delightful': 1204, 'adaptation': 130, 'dr': 1375, 'seuss': 4002, 'brilliantly': 587, 'animated': 228, 'upa': 4822, 'finest': 1755, 'academy': 85, 'award': 348, 'integral': 2383, 'helping': 2153, 'bailey': 377, 'beautifully': 424, 'costumes': 1037, 'eiko': 1489, 'ishioka': 2428, 'dracula': 1376, '1971': 16, 'format': 1844, 'baaaaaad': 360, 'collect': 880, 'extant': 1647, 'austen': 336, 'consolations': 977, 'speaking': 4222, 'unbearably': 4744, 'kitchy': 2528, 'ball': 382, 'raw': 3608, 'sublimely': 4369, 'theatrical': 4535, 'terror': 4520, 'lie': 2627, 'escalating': 1564, 'monstrous': 2924, 'consequences': 970, 'mesmerising': 2856, 'wilkinson': 5048, 'judging': 2484, 'fumbling': 1900, 'hankies': 2092, 'faces': 1663, 'males': 2761, 'females': 1726, 'alike': 178, 'julian': 2488, 'fellowes': 1723, 'triumphed': 4699, 'national': 2995, 'treasure': 4681, 'phrase': 3328, 'owed': 3196, 'kris': 2538, 'kristoffersen': 2539, 'difference': 1270, 'documentaries': 1341, 'marriage': 2785, 'errors': 1563, 'commented': 906, 'cars': 708, 'garage': 1924, 'joe': 2469, 'facial': 1664, 'configuration': 954, 'inspiration': 2366, 'overcome': 3183, 'rejection': 3680, 'punishment': 3545, 'park': 3244, 'southern': 4211, 'california': 661, 'desert': 1227, 'patent': 3259, 'watkins': 4984, 'peter': 3311, 'accessible': 91, 'thinking': 4554, 'miserable': 2893, 'hollow': 2202, 'laughable': 2581, 'angela': 219, 'bennett': 462, 'expert': 1638, 'pretext': 3465, 'repeating': 3716, 'robotic': 3801, 'moves': 2953, 'delete': 1198, 'begin': 440, 'ass': 306, 'uncalled': 4747, 'geek': 1936, 'bible': 472, 'thumper': 4582, 'heard': 2131, 'cole': 878, 'pulling': 3539, 'equivalent': 1557, 'dickens': 1264, 'carol': 701, 'sensibility': 3972, 'success': 4380, 'depends': 1215, 'sydney': 4447, 'greenstreet': 2031, 'yardley': 5125, 'pleasing': 3379, 'rpg': 3824, 'disgrace': 1308, 'respecting': 3737, 'rpger': 3825, 'youtube': 5144, 'lassie': 2564, 'sleep': 4119, 'painfully': 3218, 'dreary': 1393, 'waster': 4975, 'becomes': 430, 'forgettable': 1839, 'achievement': 109, 'shell': 4027, 'kid': 2514, 'barking': 394, 'transfers': 4669, 'relaxing': 3691, 'late': 2572, 'title': 4606, 'handles': 2083, 'tough': 4648, 'dignity': 1273, 'shocking': 4042, 'whenever': 5022, 'memorized': 2844, 'fishnet': 1766, 'stockings': 4308, 'astonishingly': 312, 'ham': 2075, 'fisted': 1767, 'earth': 1455, 'irons': 2424, 'emily': 1510, 'watson': 4985, 'unconditional': 4749, 'prepared': 3457, 'ordeal': 3145, 'progresses': 3501, 'anguish': 225, 'pans': 3235, 'reviewers': 3762, 'interview': 2403, 'vampire': 4863, 'lestat': 2616, 'stuart': 4346, 'townsend': 4652, 'cruise': 1110, 'aailiyah': 69, 'akasha': 171, 'compelling': 920, 'entrance': 1550, 'dance': 1143, 'rice': 3770, 'sensitivities': 3974, 'treatments': 4684, 'details': 1249, 'dysfunction': 1437, 'football': 1828, 'perplexing': 3306, 'skilled': 4111, 'meredith': 2854, 'sentiment': 3977, 'maker': 2756, 'worthy': 5106, 'trap': 4676, 'syrupy': 4451, 'nine': 3041, 'goremeister': 1999, 'lucio': 2722, 'fulci': 1895, 'giallo': 1958, 'sub': 4365, 'genre': 1946, 'italian': 2433, 'thrillers': 4574, '70': 55, 'standout': 4264, 'unpleasant': 4802, 'technically': 4496, 'riz': 3795, 'ortolani': 3156, 'recurring': 3654, 'unaccompanied': 4742, 'vocal': 4922, 'distant': 1326, 'beginning': 441, 'dustin': 1431, 'hoffman': 2193, 'personally': 3310, 'involving': 2413, 'issue': 2430, 'tired': 4605, 'thick': 4549, 'ps': 3526, 'blown': 512, 'jennifer': 2455, 'rubin': 3828, 'harris': 2104, 'changes': 758, 'nervous': 3022, 'starlet': 4267, 'events': 1583, 'emotions': 1514, 'coach': 866, 'snow': 4159, 'ultra': 4738, 'result': 3747, 'exciting': 1615, 'slightest': 4127, 'uniqueness': 4787, 'foreigner': 1835, '1973': 17, 'stranger': 4324, 'duet': 1421, 'astronaut': 313, 'doctor': 1340, 'considers': 975, 'cold': 876, 'ussr': 4847, 'scream': 3917, 'scare': 3895, 'extraordinary': 1655, 'courtroom': 1053, 'indictment': 2337, 'justice': 2494, 'system': 4452, 'highlights': 2174, 'fundamental': 1906, 'legal': 2604, 'discovering': 1306, 'guilt': 2057, 'innocence': 2358, 'court': 1051, 'understated': 4762, 'routine': 3821, 'based': 401, 'constantine': 979, 'intensity': 2390, 'motivations': 2940, 'inspiring': 2368, 'stinker': 4304, 'smells': 4146, 'direct': 1281, 'release': 3692, 'trek': 4685, 'frontier': 1885, 'includes': 2320, 'shatner': 4020, 'nimoy': 3040, 'washed': 4970, 'tacky': 4455, 'spock': 4242, 'rescue': 3729, 'kirk': 2526, 'jet': 2462, 'mountain': 2945, 'humor': 2255, 'dosen': 1360, 'involves': 2412, 'vulcan': 4934, 'stealing': 4287, 'enterprise': 1543, 'uhura': 4737, 'belly': 455, 'distract': 1329, 'male': 2760, 'guards': 2053, 'phenomenal': 3317, 'opinion': 3138, 'subjects': 4367, 'jay': 2450, 'adams': 129, 'unfortunate': 4776, 'subject': 4366, 'neil': 3019, 'evokes': 1595, '70s': 58, 'grainy': 2013, 'enhanced': 1535, 'delights': 1205, 'surprises': 4427, 'achille': 110, 'philippa': 3319, 'sing': 4090, 'giovanni': 1963, 'describes': 1223, 'appreciate': 269, 'layers': 2587, '18th': 11, 'jutland': 2495, 'instruments': 2377, 'general': 1940, 'loewenhielm': 2679, 'partaking': 3247, 'cailles': 656, 'en': 1521, 'sarcophage': 3871, 'sample': 3861, 'savor': 3887, 'impression': 2306, 'generates': 1942, 'austere': 337, 'backdrop': 368, 'wanting': 4956, 'notch': 3065, 'fleshed': 1790, 'grimes': 2038, 'blake': 497, 'deliver': 1207, 'sharply': 4019, 'scripted': 3928, 'deadpan': 1159, 'tongue': 4625, 'cheek': 788, 'angus': 226, 'scrimm': 3926, 'gently': 1948, 'menacing': 2847, 'violin': 4908, 'anatomist': 215, 'entertained': 1544, 'struggle': 4345, 'phantasm': 3316, '40': 41, '1949': 15, 'collective': 881, 'heads': 2126, 'concerning': 945, 'kudos': 2541, 'juano': 2482, 'hernandez': 2160, 'supporting': 4416, 'murdering': 2973, 'trumbull': 4707, 'reminded': 3703, 'evinced': 1594, 'faithful': 1674, 'joyce': 2481, 'acclaimed': 97, 'novella': 3072, 'feelings': 1716, 'gabriel': 1914, 'intangibles': 2382, 'leap': 2593, 'viewer': 4900, 'grasp': 2017, 'wondered': 5080, 'shortlist': 4051, 'emperor': 1515, 'spend': 4229, 'childhood': 805, 'surely': 4422, 'coherent': 875, 'force': 1830, 'obliged': 3085, 'write': 5115, 'creative': 1087, 'subplots': 4372, 'native': 2997, 'eating': 1462, 'brainsucking': 568, 'further': 1909, 'telly': 4506, 'savalas': 3882, 'boyle': 565, '54': 52, 'sheer': 4025, 'tedium': 4499, 'melodrama': 2836, 'sinking': 4095, 'lord': 2695, 'decisions': 1177, 'atrocious': 318, 'stinks': 4305, 'establish': 1569, 'follows': 1819, 'band': 387, 'latter': 2579, 'mansonites': 2772, 'reporter': 3724, 'anniversary': 233, 'killings': 2522, 'spoil': 4243, 'indication': 2336, 'writer': 5116, 'meld': 2834, 'volatile': 4925, 'temperaments': 4508, 'seamless': 3935, 'union': 4785, 'creativity': 1088, 'powerhouse': 3441, 'fascination': 1697, 'celebrity': 737, 'interpretations': 2402, 'fame': 1681, 'forgotten': 1842, 'kevin': 2507, 'spacey': 4216, 'verbal': 4883, 'tsunami': 4715, 'buddy': 609, 'ackerman': 111, 'scripting': 3929, 'unmatched': 4796, 'ages': 160, 'younger': 5140, 'references': 3660, 'galley': 1919, 'pm': 3391, '8pm': 65, '15pm': 8, 'forwarded': 1850, 'horrendously': 2222, 'captain': 689, 'howdy': 2240, 'semi': 3966, 'truck': 4703, 'linda': 2647, 'cardellini': 696, 'poised': 3401, 'dee': 1182, 'snider': 4158, 'act': 114, 'villains': 4904, 'damn': 1142, 'pacing': 3208, 'suck': 4383, 'sophisticated': 4193, 'miserably': 2894, 'unoriginal': 4801, 'cinematic': 831, 'captured': 690, 'celluloid': 742, 'stayed': 4281, 'supernatural': 4413, 'consistent': 976, 'thread': 4568, 'leni': 2610, 'parker': 3245, 'anita': 230, 'laselva': 2563, 'taelons': 4458, 'idealogical': 2275, 'centers': 745, 'atmosphere': 317, 'puppets': 3547, 'puppet': 3546, 'flicks': 1792, 'explains': 1640, 'sinister': 4093, 'origins': 3155, 'insomniacs': 2365, 'heartwarming': 2135, 'chasing': 779, 'dreams': 1392, 'nurse': 3080, 'unpredictability': 4803, 'labute': 2544, 'uses': 4845, 'brutal': 603, 'violence': 4907, 'seperate': 3978, 'secondary': 3947, 'incomprehensible': 2323, 'relation': 3683, 'primary': 3476, 'mystifying': 2984, 'shelves': 4028, 'doubt': 1362, 'warn': 4962, 'dumbest': 1424, 'hbo': 2121, 'hopefully': 2217, 'cox': 1060, 'win': 5053, 'agree': 163, 'jessica': 2460, 'dimensional': 1275, 'guys': 2060, 'elaborately': 1491, 'aesthetically': 148, 'sculpture': 3931, 'soap': 4162, 'operas': 3134, 'hip': 2183, 'pray': 3445, 'charismatic': 773, 'paolo': 3237, 'sorrentino': 4196, 'loneliness': 2683, 'tony': 4628, 'unforgettable': 4775, 'titta': 4607, 'di': 1257, 'girolamo': 1967, 'vision': 4913, 'emilio': 1509, 'estevez': 1573, 'debut': 1168, 'interplay': 2401, 'suggest': 4394, 'natural': 2998, 'street': 4331, 'charlie': 775, 'kathy': 2499, 'bates': 407, 'desperation': 1237, 'escapism': 1565, 'variation': 4866, 'fields': 1732, 'readers': 3617, 'miyazaki': 2904, 'condescends': 950, 'hearts': 2134, 'arts': 296, 'daughters': 1153, 'paint': 3219, 'photograph': 3326, 'poignant': 3397, 'realized': 3625, 'closed': 861, 'depicts': 1217, 'alert': 176, 'decipher': 1175, 'meanings': 2816, 'matrix': 2799, 'sequels': 3981, 'mindblowing': 2883, 'dream': 1390, 'rickman': 3773, 'stowe': 4322, 'hilt': 2179, 'childrens': 807, 'subversive': 4375, 'tract': 4658, 'gloriously': 1977, 'accurate': 105, 'raver': 3605, 'idyllic': 2281, 'downs': 1370, 'groove': 2044, 'antithesis': 242, 'traffic': 4660, 'crowe': 1108, 'picked': 3332, 'government': 2007, 'scientist': 3911, 'argued': 277, 'humanity': 2249, 'reasons': 3630, 'dwight': 1434, 'schultz': 3908, 'sincere': 4089, 'critical': 1100, 'gorman': 2000, 'bechard': 428, 'homework': 2207, 'appropriate': 270, 'captures': 691, 'essence': 1567, 'track': 4655, 'commands': 903, 'contributing': 1002, 'threshold': 4570, 'hayao': 2119, 'eighth': 1488, 'ghibili': 1957, 'gake': 1918, 'ue': 4734, 'ponyo': 3408, 'cliff': 853, 'animation': 229, 'dominated': 1351, 'disney': 1317, 'pixar': 3347, 'cgi': 751, 'refreshing': 3664, 'comforting': 900, 'relying': 3698, 'traditional': 4659, 'drawn': 1389, 'enchanting': 1522, 'remarkable': 3701, 'crayon': 1078, 'pencil': 3286, 'drawings': 1388, 'colorful': 885, 'fanciful': 1687, 'drift': 1400, 'wants': 4957, 'surf': 4423, 'wave': 4986, '1998': 22, 'deep': 1183, 'impact': 2299, 'armageddon': 280, 'choked': 821, 'yourself': 5142, 'vessel': 4891, 'taken': 4461, 'mighty': 2876, 'frost': 1886, 'added': 134, 'bonuses': 535, 'fest': 1728, 'spoiled': 4244, 'brat': 570, 'babysitting': 365, 'sundays': 4404, 'march': 2777, 'judith': 2485, 'sad': 3844, 'cutie': 1133, 'confidence': 953, 'riot': 3785, 'hugo': 2247, 'weaving': 4999, 'obsessed': 3086, 'gay': 1934, 'estate': 1572, 'salesman': 3853, 'clients': 852, 'houses': 2238, 'trysts': 4714, 'flaming': 1775, 'darren': 1148, 'hollander': 2201, 'flowed': 1803, 'bonding': 532, 'hoot': 2214, 'lange': 2556, 'jessice': 2461, 'clothes': 862, 'virtue': 4911, 'regrettable': 3674, 'exceptionally': 1608, 'crust': 1112, 'tasty': 4484, 'texture': 4523, 'bank': 388, 'holiday': 2200, 'rick': 3772, 'recommendation': 3649, 'selection': 3961, 'menu': 2850, 'prices': 3472, 'pho': 3320, 'honeslty': 2208, 'potatoes': 3434, 'ahead': 165, 'warmer': 4960, 'fries': 1880, 'cashier': 717, 'wayyy': 4991, 'overpriced': 3190, 'cape': 687, 'cod': 873, 'ravoli': 3607, 'chicken': 802, 'cranberry': 1070, 'mmmm': 2905, 'disgusted': 1311, 'shocked': 4041, 'indicate': 2335, 'cash': 715, 'vegas': 4870, 'burrittos': 630, 'food': 1822, 'interior': 2398, 'velvet': 4877, 'cake': 657, 'ohhh': 3109, 'brought': 596, 'salad': 3851, 'asked': 301, 'hole': 2198, 'tacos': 4457, 'staff': 4257, 'tables': 4454, 'restaurant': 3741, 'luke': 2726, 'warm': 4959, 'sever': 4003, 'overwhelmed': 3194, 'salmon': 3854, 'sashimi': 3872, 'combos': 891, 'burger': 627, 'beer': 436, '23': 30, 'blow': 511, 'accident': 95, 'grab': 2008, 'bite': 489, 'familiar': 1683, 'pub': 3532, 'favor': 1707, 'portions': 3419, 'waiter': 4943, 'table': 4453, 'visit': 4914, 'hiro': 2184, 'shrimp': 4063, 'moist': 2911, 'establishment': 1571, 'grossed': 2046, 'melted': 2838, 'styrofoam': 4364, 'eat': 1460, 'server': 3991, 'attentive': 329, 'frozen': 1887, 'pucks': 3535, 'disgust': 1310, 'register': 3672, 'rib': 3768, 'dessert': 1241, 'section': 3950, 'beef': 432, 'cooked': 1019, 'sandwich': 3866, 'firehouse': 1763, 'greek': 2028, 'dressing': 1396, 'pita': 3344, 'hummus': 2254, 'duck': 1418, 'pink': 3342, 'char': 761, 'husband': 2263, 'mein': 2833, 'attitudes': 330, 'customers': 1128, 'portion': 3418, 'servers': 3992, 'attack': 322, 'grill': 2035, 'downtown': 1372, 'lined': 2650, 'seafood': 3933, 'strings': 4338, 'pasta': 3256, 'sauce': 3879, 'scallop': 3893, 'banana': 386, 'petrified': 3312, 'tasteless': 4482, 'refill': 3661, 'receives': 3638, 'appetizers': 263, 'cocktails': 871, 'handmade': 2085, 'delicious': 1201, 'military': 2878, 'dos': 1359, 'gringos': 2039, 'salt': 3857, 'batter': 410, 'chewy': 800, 'finish': 1759, 'tastings': 4483, 'drinks': 1404, 'jeff': 2453, 'meh': 2832, 'min': 2881, 'milkshake': 2880, 'chocolate': 817, 'milk': 2879, 'excalibur': 1599, 'common': 910, 'dish': 1313, 'potato': 3433, 'seasoned': 3941, 'lunch': 2728, 'cheated': 784, 'opportunity': 3139, 'experiencing': 1637, 'underwhelming': 4767, 'parties': 3250, 'wait': 4941, 'smelled': 4145, 'grease': 2021, 'roast': 3798, 'pan': 3230, 'cakes': 658, 'raving': 3606, 'sugary': 4393, 'tailored': 4459, 'palate': 3225, 'six': 4107, 'yummy': 5148, 'meat': 2819, 'ratio': 3603, 'tenders': 4511, 'unsatisfying': 4814, 'omelets': 3119, 'die': 1267, 'dining': 1277, 'sexy': 4008, 'outrageously': 3173, 'flirting': 1797, 'hottest': 2233, 'rock': 3803, 'casino': 719, 'forward': 1849, 'breakfast': 574, 'bye': 648, 'tip': 4602, 'cafe': 654, 'serves': 3993, 'roasted': 3799, 'garlic': 1930, 'bone': 533, 'marrow': 2786, 'meal': 2811, 'bloddy': 507, 'mary': 2789, 'town': 4651, 'mussels': 2979, 'wine': 5057, 'reduction': 3658, 'dishes': 1314, 'buffets': 614, 'tigerlilly': 4590, 'bartender': 398, 'personable': 3308, 'ambience': 205, 'sooooo': 4191, 'sushi': 4434, 'lovers': 2714, 'yama': 5124, '40min': 42, 'arriving': 288, 'busy': 636, 'thai': 4525, 'spicy': 4237, 'steak': 4284, 'actual': 126, 'blandest': 500, 'eaten': 1461, 'preparing': 3458, 'indian': 2334, 'cuisine': 1117, 'worries': 5099, 'steaks': 4286, 'loving': 2716, 'venture': 4880, 'host': 2229, 'bitches': 487, 'liking': 2641, 'reviewing': 3763, 'ambiance': 204, 'venturing': 4881, 'pork': 3415, 'penne': 3287, 'vodka': 4923, 'meatloaf': 2821, 'crispy': 1098, 'delish': 1206, 'tuna': 4718, 'melt': 2837, 'burgers': 628, 'rude': 3829, 'bagels': 376, 'cream': 1082, 'cheese': 792, 'lox': 2719, 'capers': 688, 'subway': 4377, 'meet': 2829, 'restaurants': 3742, 'dine': 1276, 'weekend': 5006, 'drink': 1402, 'suggestions': 4395, 'rarely': 3596, 'ate': 315, 'curry': 1123, 'bamboo': 385, 'shoots': 4046, 'blanket': 502, 'moz': 2957, 'subpar': 4371, 'bathrooms': 409, 'clean': 844, 'decorated': 1179, 'ignore': 2284, 'fiancé': 1731, 'greeted': 2032, 'seated': 3944, 'mandalay': 2769, 'bay': 414, 'waited': 4942, 'forty': 1848, 'vain': 4858, 'crostini': 1104, 'stale': 4261, 'nigiri': 3039, 'joint': 2474, 'flavored': 1780, 'voodoo': 4931, 'gluten': 1981, 'leftover': 2603, 'relocated': 3697, 'diverse': 1334, 'phoenix': 3321, 'treated': 4683, 'bacon': 372, 'hella': 2146, 'salty': 3858, 'spinach': 4239, 'avocado': 344, 'ingredients': 2356, 'handed': 2079, 'listed': 2658, 'waitresses': 4946, 'lordy': 2696, 'khao': 2513, 'soi': 4168, 'accommodations': 99, 'vegetarian': 4872, 'inspired': 2367, 'desired': 1235, 'maintaining': 2751, 'coziness': 1061, 'weekly': 5007, 'haunt': 2112, 'asking': 302, 'flavor': 1779, 'overcooked': 3184, 'charcoal': 765, 'decided': 1173, 'verge': 4885, 'dressed': 1395, 'rudely': 3830, 'dirt': 1290, 'hits': 2190, 'healthy': 2129, 'quantity': 3569, 'lemon': 2608, 'raspberry': 3597, 'ice': 2271, 'cocktail': 870, 'imagined': 2295, 'decor': 1178, 'crepe': 1094, 'bread': 571, 'butter': 638, 'chips': 816, 'bits': 492, 'egg': 1484, 'gyros': 2063, 'missing': 2900, 'wings': 5059, 'joey': 2470, 'voted': 4932, 'dog': 1346, 'valley': 4860, 'magazine': 2740, 'bowl': 560, 'live': 2665, 'fridays': 1874, 'blows': 513, 'insulted': 2380, 'disrespected': 1323, 'exceeding': 1600, 'dreamed': 1391, 'serivce': 3988, 'brunch': 600, 'inviting': 2410, '1979': 18, 'stepped': 4295, 'foot': 1826, 'mixed': 2903, 'mushrooms': 2976, 'yukon': 5146, 'gold': 1989, 'puree': 3554, 'beateous': 421, 'bug': 615, 'climbing': 855, 'friend': 1876, 'tartar': 4477, 'soggy': 4167, 'jamaican': 2444, 'mojitos': 2912, 'rich': 3771, 'accordingly': 103, 'shower': 4061, 'rinse': 3784, 'nude': 3074, 'lobster': 2671, 'bisque': 485, 'bussell': 635, 'sprouts': 4253, 'risotto': 3791, 'filet': 1738, 'pepper': 3291, 'bodes': 524, 'cook': 1018, 'wrapped': 5114, 'dates': 1151, 'folks': 1815, 'otto': 3162, 'welcome': 5011, 'mains': 2749, 'uninspired': 4781, 'dealing': 1162, 'drunk': 1415, 'chef': 797, 'cheeseburger': 793, 'patty': 3266, 'uploaded': 4829, 'sporting': 4247, 'walls': 4953, 'descriptions': 1226, 'yum': 5147, 'eel': 1476, 'mayo': 2806, 'sauces': 3880, 'hardest': 2102, 'rolled': 3811, 'providing': 3523, 'flavourful': 1784, 'building': 618, 'freezing': 1867, 'flavorful': 1781, 'ayce': 357, 'mood': 2928, 'gratitude': 2019, 'privileged': 3479, 'creamy': 1083, 'similar': 4081, 'silently': 4078, 'pizza': 3349, 'peanut': 3277, 'godfathers': 1986, 'sticks': 4302, 'recall': 3632, 'tap': 4472, 'generous': 1944, 'visited': 4915, 'proclaimed': 3487, 'coffee': 874, 'wildly': 5047, 'veggitarian': 4874, 'platter': 3367, 'madison': 2739, 'ironman': 2423, 'chefs': 798, 'dedicated': 1180, 'boba': 523, 'tea': 4488, 'spots': 4249, 'jenni': 2454, 'patio': 3262, 'outstanding': 3176, 'goat': 1984, 'taco': 4456, 'skimp': 4112, 'mac': 2732, 'bachi': 366, 'salads': 3852, 'burned': 629, 'saganaki': 3847, 'disagree': 1292, 'fellow': 1722, 'yelpers': 5134, 'pizzas': 3350, 'neighborhood': 3017, 'pulled': 3538, 'soooo': 4190, 'stir': 4306, 'fried': 1875, 'noodles': 3056, 'chip': 813, 'count': 1043, 'greedy': 2027, 'corporation': 1030, 'dime': 1274, 'summer': 4401, 'outdoor': 3167, 'toasted': 4612, 'muffin': 2966, 'untoasted': 4816, 'bus': 632, 'figured': 1736, 'publicly': 3534, 'loudly': 2706, 'bbq': 415, 'lighter': 2633, 'downside': 1371, 'shawarrrrrrma': 4022, 'eyed': 1658, 'peas': 3281, 'unreal': 4806, 'serve': 3989, 'vinaigrette': 4905, '00': 0, 'mom': 2914, 'bites': 490, 'honor': 2211, 'hut': 2265, 'coupons': 1049, 'unbelievably': 4746, 'covers': 1057, 'replenished': 3723, 'yucky': 5145, 'omg': 3120, 'delicioso': 1200, 'spaghetti': 4217, 'vegetables': 4871, 'tucson': 4716, 'chipotle': 815, 'succulent': 4381, 'baseball': 400, 'brick': 581, 'oven': 3179, 'app': 255, 'equally': 1555, 'pancakes': 3232, 'eggs': 1486, 'genuinely': 1950, 'enthusiastic': 1547, 'sadly': 3845, 'gordon': 1997, 'ramsey': 3587, 'shall': 4011, 'evening': 1581, 'bathroom': 408, 'door': 1358, 'offered': 3102, 'tasted': 4481, 'handling': 2084, 'rowdy': 3823, 'despicable': 1238, 'soup': 4205, 'lukewarm': 2727, 'craving': 1075, 'stomach': 4310, 'ache': 108, 'elegantly': 1495, 'customize': 1129, 'eggplant': 1485, 'bean': 417, 'beans': 418, 'outta': 3177, 'inconsiderate': 2324, 'hi': 2167, 'dinners': 1279, 'outshining': 3174, 'halibut': 2074, 'starving': 4275, 'def': 1185, 'ethic': 1575, 'andddd': 217, 'stuffed': 4353, 'located': 2673, 'crystals': 1115, 'shopping': 4048, 'mall': 2762, 'aria': 279, 'summarize': 4399, 'nay': 3002, 'transcendant': 4667, 'pneumatic': 3392, 'condiment': 951, 'dispenser': 1319, 'ians': 2270, 'kiddos': 2515, 'perfection': 3295, 'impeccable': 2300, 'bouchon': 557, 'accountant': 104, 'screwed': 3925, 'reminds': 3704, 'pop': 3412, 'shops': 4049, 'san': 3863, 'francisco': 1859, 'buldogis': 621, 'gourmet': 2006, 'frustrated': 1889, 'petty': 3314, 'iced': 2272, 'hungry': 2260, 'assure': 311, 'sore': 4194, 'regular': 3677, 'professional': 3495, 'dinner': 1278, 'companions': 916, 'smeared': 4143, 'tracked': 4656, 'bird': 482, 'poop': 3409, 'furthermore': 1910, 'operation': 3137, 'connisseur': 966, 'topic': 4636, 'jerk': 2456, 'strike': 4336, 'rushed': 3835, 'nicest': 3035, 'owners': 3201, 'across': 113, 'biscuits': 484, 'appetizer': 262, 'absolutley': 81, '5lb': 53, 'cow': 1058, '4ths': 47, 'gristle': 2042, 'steiners': 4292, 'fs': 1892, 'pears': 3280, 'almonds': 186, 'spicier': 4236, 'prefer': 3450, 'ribeye': 3769, 'mesquite': 2857, 'anytime': 247, 'gooodd': 1996, 'connoisseur': 967, 'driest': 1399, 'mouthful': 2948, 'relaxed': 3690, 'venue': 4882, 'couples': 1047, 'groups': 2049, 'nargile': 2991, 'tater': 4485, 'tots': 4643, 'southwest': 4212, 'vanilla': 4865, 'smooth': 4152, 'profiterole': 3498, 'choux': 824, 'pastry': 3258, 'az': 359, 'manager': 2767, 'carly': 700, 'acknowledged': 112, '35': 37, 'margaritas': 2778, 'ventilation': 4878, 'upgrading': 4826, 'letdown': 2618, 'camelback': 668, 'flower': 1804, 'shop': 4047, 'cartel': 710, 'trimmed': 4694, 'group': 2048, 'claimed': 837, 'bill': 476, 'jewel': 2463, 'las': 2562, 'boiled': 527, 'crab': 1062, 'legs': 2607, 'toro': 4638, 'tartare': 4478, 'cavier': 732, 'thinly': 4555, 'sliced': 4120, 'wagyu': 4940, 'truffle': 4705, 'attached': 321, 'decide': 1172, 'humiliated': 2251, 'worker': 5093, 'name': 2988, 'callings': 665, 'filling': 1741, 'meals': 2812, 'daily': 1139, 'specials': 4225, 'tragedy': 4661, 'pancake': 3231, 'crawfish': 1076, 'multi': 2968, 'grain': 2012, 'pumpkin': 3541, 'pecan': 3282, 'fluffy': 1805, 'airline': 169, 'noca': 3047, 'gyro': 2062, 'lettuce': 2621, 'homemade': 2206, 'pastas': 3257, 'cheesecurds': 794, 'finger': 1756, 'beauty': 425, 'greasy': 2022, 'unhealthy': 4780, 'similarly': 4082, 'apology': 254, 'tiramisu': 4604, 'cannoli': 682, 'sun': 4402, 'meats': 2822, 'choose': 822, 'frenchman': 1869, 'desserts': 1242, 'martini': 2788, 'entrees': 1551, 'gc': 1935, 'thirty': 4557, 'vacant': 4857, 'yellowtail': 5133, 'carpaccio': 702, 'strangers': 4325, 'hello': 2148, 'donut': 1356, 'saving': 3886, 'disgraceful': 1309, 'suffers': 4391, 'tapas': 4473, 'vinegrette': 4906, 'greens': 2030, 'hankering': 2091, 'helped': 2151, 'theft': 4536, 'eew': 1477, 'overhaul': 3186, 'witnessed': 5072, 'regularly': 3678, 'swung': 4446, 'efficient': 1481, 'sucker': 4385, 'olives': 3117, 'perpared': 3305, 'presentation': 3460, 'giant': 1959, 'slices': 4121, 'dusted': 1430, 'powdered': 3438, 'sugar': 4392, 'fo': 1811, 'accomodate': 100, 'vegan': 4869, 'veggie': 4873, 'crumby': 1111, 'pale': 3226, 'croutons': 1105, 'trips': 4698, 'crema': 1093, 'café': 655, 'expanded': 1627, 'philadelphia': 3318, 'satisfying': 3877, 'north': 3060, 'scottsdale': 3914, 'soooooo': 4192, 'freaking': 1861, 'papers': 3240, 'reheated': 3679, 'wedges': 5004, 'absolute': 78, 'bloody': 510, 'businesses': 634, 'grilled': 2036, 'yellow': 5132, 'saffron': 3846, 'seasoning': 3942, 'focused': 1813, 'grandmother': 2014, 'ignored': 2285, 'hostess': 2230, 'boys': 566, 'shirt': 4040, 'drastically': 1385, 'caesar': 653, 'madhouse': 2738, 'proven': 3519, 'moods': 2929, 'macarons': 2733, 'insanely': 2360, 'informative': 2353, 'edible': 1470, 'promise': 3502, 'plater': 3366, 'relax': 3689, 'seating': 3945, 'screams': 3918, 'legit': 2606, 'somethat': 4179, 'duo': 1425, 'violinists': 4909, 'requested': 3726, 'baklava': 379, 'falafels': 1675, 'baba': 361, 'ganoush': 1923, 'staying': 4282, 'mgm': 2867, 'courteous': 1052, 'eclectic': 1467, 'onion': 3126, 'rings': 3782, 'nobu': 3046, 'google': 1995, 'smashburger': 4142, 'lover': 2713, 'plantains': 3360, 'spends': 4230, 'panna': 3234, 'cotta': 1038, 'fail': 1669, 'flavors': 1783, 'slaw': 4117, 'drenched': 1394, 'piano': 3331, 'rge': 3766, 'fillet': 1740, 'relleno': 3696, 'plate': 3365, 'sergeant': 3984, 'auju': 334, 'hawaiian': 2117, 'breeze': 578, 'mango': 2770, 'magic': 2741, 'pineapple': 3341, 'smoothies': 4154, 'mortified': 2935, 'anyways': 249, 'dripping': 1405, '2007': 27, 'serving': 3996, 'hospitality': 2228, 'paradise': 3242, 'refrained': 3663, 'recommending': 3651, 'cibo': 829, 'mouths': 2949, 'bellies': 452, 'dough': 1364, 'elk': 1498, 'hooked': 2213, 'classics': 842, 'sorely': 4195, 'quaint': 3565, 'deliciously': 1202, 'dylan': 1436, 'tummy': 4717, 'gratuity': 2020, 'larger': 2561, 'fly': 1807, 'apple': 266, 'han': 2077, 'nan': 2989, 'edinburgh': 1471, 'revisiting': 3765, 'naan': 2985, 'pine': 3340, 'touched': 4645, 'airport': 170, 'speedy': 4228, 'calligraphy': 664, 'stood': 4311, 'guest': 2055, 'extensive': 1649, 'inflate': 2351, 'smaller': 4138, 'grow': 2050, 'rapidly': 3594, 'lil': 2642, 'fuzzy': 1912, 'wontons': 5085, 'spice': 4234, 'whelm': 5020, 'mid': 2873, '30s': 35, 'arepas': 276, 'jalapeno': 2443, 'shoe': 4043, 'definately': 1191, 'block': 506, 'fancy': 1688, 'affordable': 151, 'soups': 4206, 'sunday': 4403, 'hunan': 2258, 'flair': 1773, 'bartenders': 399, 'nutshell': 3083, 'restaraunt': 3739, 'sewer': 4006, 'veal': 4868, 'satifying': 3875, 'join': 2472, 'email': 1502, 'colder': 877, 'flavorless': 1782, 'describing': 1224, 'tepid': 4514, 'chains': 753, 'nachos': 2986, 'crowds': 1107, 'juries': 2492, 'lawyers': 2586, 'arrives': 287, 'paying': 3270, '85': 62, 'wienerschnitzel': 5043, 'maine': 2747, 'roll': 3810, 'law': 2585, 'hereas': 2159, 'tribute': 4689, 'event': 1582, 'held': 2143, 'salsa': 3856, 'pissd': 3343, 'surprise': 4425, 'golden': 1990, 'hopes': 2219, 'fell': 1720, 'bruschetta': 601, 'devine': 1256, 'employee': 1516, 'lastly': 2568, 'mozzarella': 2958, 'negligent': 3015, 'unwelcome': 4819, 'packed': 3212, 'seasonal': 3940, 'fruit': 1888, 'peach': 3274, 'officially': 3106, 'containers': 990, 'opposed': 3140, 'cramming': 1069, 'takeout': 4462, 'boxes': 562, 'crêpe': 1116, 'delicate': 1199, 'kabuki': 2497, 'services': 3995, 'maria': 2779, 'article': 290, 'spices': 4235, 'fucking': 1894, 'caballero': 650, 'oysters': 3205, 'qualified': 3566, 'foods': 1823, 'tolerance': 4618, 'polite': 3404, 'wash': 4969, 'biscuit': 483, 'heat': 2136, 'coconut': 872, 'fella': 1721, 'huevos': 2245, 'rancheros': 3589, 'wines': 5058, 'pricey': 3473, 'temp': 4507, 'prepare': 3456, 'bare': 391, 'gloves': 1979, 'oil': 3110, 'pleasure': 3380, 'plethora': 3384, 'sandwiches': 3867, 'seal': 3934, 'approval': 271, 'college': 882, 'cooking': 1020, 'besides': 465, 'costco': 1035, 'highlighted': 2173, 'grocery': 2043, 'dude': 1419, 'doughy': 1365, 'inch': 2317, 'ourselves': 3165, 'albondigas': 175, 'tomato': 4621, 'meatballs': 2820, 'occasions': 3091, 'medium': 2828, 'bloodiest': 509, 'anymore': 244, 'chai': 752, 'latte': 2578, 'allergy': 180, 'warnings': 4964, 'clue': 864, 'contain': 988, 'peanuts': 3278, 'mediterranean': 2827, 'beers': 437, 'highlight': 2172, 'concern': 944, 'mellow': 2835, 'mushroom': 2975, 'strawberry': 4329, 'unprofessional': 4805, 'loyal': 2720, 'patron': 3264, 'occasional': 3089, 'pats': 3265, 'bellagio': 451, 'anticipated': 241, 'sals': 3855, 'fav': 1706, 'unexperienced': 4772, 'employees': 1517, 'chickens': 803, 'steakhouse': 4285, 'concept': 941, 'guacamole': 2052, 'puréed': 3557, 'postinos': 3432, 'poisoning': 3402, 'batch': 406, 'yay': 5127, 'eve': 1579, 'caring': 699, 'teamwork': 4492, 'degree': 1195, 'ri': 3767, 'calamari': 659, 'fondue': 1821, 'denny': 1212, 'downright': 1369, 'waaaaaayyyyyyyyyy': 4938, 'sangria': 3868, 'glass': 1975, 'brisket': 590, 'trippy': 4697, 'hurry': 2261, 'reservation': 3732, 'stretch': 4334, 'cashew': 716, 'undercooked': 4755, 'chipolte': 814, 'ranch': 3588, 'dipping': 1280, 'sause': 3881, 'watered': 4982, 'workers': 5094, 'douchey': 1363, 'garden': 1928, 'con': 939, 'spotty': 4250, 'ensued': 1541, 'apologize': 253, 'binge': 479, 'drinking': 1403, 'carbs': 693, 'insults': 2381, 'profound': 3499, 'deuchebaggery': 1250, 'solidify': 4173, 'combo': 890, 'ala': 173, 'cart': 709, 'blame': 498, 'rave': 3604, 'del': 1196, 'hamburger': 2076, 'ya': 5123, 'fireball': 1762, 'disapppointment': 1299, 'correction': 1032, 'heimer': 2141, 'brownish': 597, 'ha': 2065, 'flop': 1799, '99': 68, 'bigger': 474, 'unwrapped': 4820, 'mile': 2877, 'brushfire': 602, 'mirage': 2891, 'refried': 3665, 'dried': 1398, 'crusty': 1113, 'caterpillar': 727, 'appetite': 261, 'instantly': 2373, 'ninja': 3042, 'poured': 3437, 'wound': 5110, 'drawing': 1387}\n"
     ]
    }
   ],
   "source": [
    "print('Cuvintele distincte din texte:\\n', vect.vocabulary_)"
   ]
  },
  {
   "cell_type": "code",
   "execution_count": 13,
   "metadata": {},
   "outputs": [
    {
     "name": "stdout",
     "output_type": "stream",
     "text": [
      "Reprezentarea ca vectori rari\n",
      ":\b  (0, 1013)\t1\n",
      "  (0, 647)\t1\n",
      "  (0, 1982)\t1\n",
      "  (0, 4793)\t1\n",
      "  (0, 4835)\t1\n",
      "  (0, 4531)\t1\n",
      "  (0, 2158)\t1\n",
      "  (0, 2314)\t2\n",
      "  (0, 2432)\t1\n",
      "  (0, 3387)\t1\n",
      "  (0, 4609)\t1\n",
      "  (0, 2809)\t1\n",
      "  (0, 1829)\t1\n",
      "  (0, 4987)\t1\n",
      "  (0, 3043)\t1\n",
      "  (0, 2427)\t1\n",
      "  (0, 4545)\t1\n",
      "  (0, 4161)\t1\n",
      "  (1, 4861)\t1\n",
      "  (1, 1603)\t1\n",
      "  (1, 713)\t1\n",
      "  (1, 1993)\t1\n",
      "  (2, 2449)\t1\n",
      "  (2, 2023)\t1\n",
      "  (2, 4531)\t1\n",
      "  :\t:\n",
      "  (2747, 1387)\t1\n",
      "  (2747, 5110)\t1\n",
      "  (2747, 3437)\t1\n",
      "  (2747, 3857)\t1\n",
      "  (2747, 2068)\t1\n",
      "  (2747, 588)\t1\n",
      "  (2747, 4630)\t1\n",
      "  (2747, 785)\t1\n",
      "  (2747, 4548)\t1\n",
      "  (2747, 1540)\t1\n",
      "  (2747, 2630)\t1\n",
      "  (2747, 3166)\t1\n",
      "  (2747, 297)\t1\n",
      "  (2747, 4593)\t1\n",
      "  (2747, 2982)\t1\n",
      "  (2747, 4974)\t1\n",
      "  (2747, 3097)\t1\n",
      "  (2747, 4542)\t1\n",
      "  (2747, 2282)\t1\n",
      "  (2747, 647)\t1\n",
      "  (2747, 4531)\t3\n",
      "  (2747, 2314)\t1\n",
      "  (2747, 2432)\t1\n",
      "  (2747, 4609)\t1\n",
      "  (2747, 4545)\t1\n"
     ]
    }
   ],
   "source": [
    "print(f'Reprezentarea ca vectori rari\\n:\\b{X_transformed}')"
   ]
  },
  {
   "cell_type": "markdown",
   "metadata": {},
   "source": [
    "# Inmplentare regresie"
   ]
  },
  {
   "cell_type": "code",
   "execution_count": 7,
   "metadata": {},
   "outputs": [],
   "source": [
    "x_text, y_train=data[0].values, data[1].values"
   ]
  },
  {
   "cell_type": "code",
   "execution_count": 8,
   "metadata": {},
   "outputs": [
    {
     "data": {
      "text/plain": [
       "array(['So there is no way for me to plug it in here in the US unless I go by a converter.',\n",
       "       'Good case, Excellent value.', 'Great for the jawbone.', ...,\n",
       "       'Overall I was not impressed and would not go back.',\n",
       "       \"The whole experience was underwhelming, and I think we'll just go to Ninja Sushi next time.\",\n",
       "       \"Then, as if I hadn't wasted enough of my life there, they poured salt in the wound by drawing out the time it took to bring the check.\"],\n",
       "      dtype=object)"
      ]
     },
     "execution_count": 8,
     "metadata": {},
     "output_type": "execute_result"
    }
   ],
   "source": [
    "x_text"
   ]
  },
  {
   "cell_type": "code",
   "execution_count": 9,
   "metadata": {},
   "outputs": [
    {
     "data": {
      "text/plain": [
       "array([0, 1, 1, ..., 0, 0, 0], dtype=int64)"
      ]
     },
     "execution_count": 9,
     "metadata": {},
     "output_type": "execute_result"
    }
   ],
   "source": [
    "y_train"
   ]
  },
  {
   "cell_type": "code",
   "execution_count": 1,
   "metadata": {},
   "outputs": [
    {
     "ename": "NameError",
     "evalue": "name 'CountVectorizer' is not defined",
     "output_type": "error",
     "traceback": [
      "\u001b[1;31m---------------------------------------------------------------------------\u001b[0m",
      "\u001b[1;31mNameError\u001b[0m                                 Traceback (most recent call last)",
      "\u001b[1;32m<ipython-input-1-bb82c771052b>\u001b[0m in \u001b[0;36m<module>\u001b[1;34m\u001b[0m\n\u001b[1;32m----> 1\u001b[1;33m \u001b[0mvect\u001b[0m \u001b[1;33m=\u001b[0m \u001b[0mCountVectorizer\u001b[0m\u001b[1;33m(\u001b[0m\u001b[0mmin_df\u001b[0m\u001b[1;33m=\u001b[0m\u001b[1;36m5\u001b[0m\u001b[1;33m,\u001b[0m \u001b[0mstop_words\u001b[0m\u001b[1;33m=\u001b[0m\u001b[1;34m'english'\u001b[0m\u001b[1;33m)\u001b[0m\u001b[1;33m\u001b[0m\u001b[1;33m\u001b[0m\u001b[0m\n\u001b[0m\u001b[0;32m      2\u001b[0m \u001b[0mx1\u001b[0m\u001b[1;33m=\u001b[0m \u001b[0mvect\u001b[0m\u001b[1;33m.\u001b[0m\u001b[0mfit_transform\u001b[0m\u001b[1;33m(\u001b[0m\u001b[0mx_text\u001b[0m\u001b[1;33m)\u001b[0m\u001b[1;33m\u001b[0m\u001b[1;33m\u001b[0m\u001b[0m\n\u001b[0;32m      3\u001b[0m \u001b[0mx2\u001b[0m\u001b[1;33m=\u001b[0m\u001b[0mvect\u001b[0m\u001b[1;33m.\u001b[0m\u001b[0mtransform\u001b[0m\u001b[1;33m(\u001b[0m\u001b[0mx_text\u001b[0m\u001b[1;33m)\u001b[0m\u001b[1;33m\u001b[0m\u001b[1;33m\u001b[0m\u001b[0m\n",
      "\u001b[1;31mNameError\u001b[0m: name 'CountVectorizer' is not defined"
     ]
    }
   ],
   "source": [
    "vect = CountVectorizer(min_df=5, stop_words='english')\n",
    "x1= vect.fit_transform(x_text)\n",
    "x2=vect.transform(x_text)"
   ]
  },
  {
   "cell_type": "code",
   "execution_count": 12,
   "metadata": {},
   "outputs": [
    {
     "name": "stdout",
     "output_type": "stream",
     "text": [
      "Reprezentarea ca vectori:\n",
      " [[0 0 0 ... 0 0 0]\n",
      " [0 0 0 ... 0 0 0]\n",
      " [0 0 0 ... 0 0 0]\n",
      " ...\n",
      " [0 0 0 ... 0 0 0]\n",
      " [0 0 0 ... 0 0 0]\n",
      " [0 0 0 ... 0 0 0]]\n"
     ]
    }
   ],
   "source": [
    "print('Reprezentarea ca vectori:\\n', x2.toarray())"
   ]
  },
  {
   "cell_type": "code",
   "execution_count": 13,
   "metadata": {},
   "outputs": [
    {
     "name": "stdout",
     "output_type": "stream",
     "text": [
      "Dimensiune vocabular: 642\n"
     ]
    }
   ],
   "source": [
    "print(f'Dimensiune vocabular: {len(vect.vocabulary_)}')"
   ]
  },
  {
   "cell_type": "code",
   "execution_count": 14,
   "metadata": {},
   "outputs": [
    {
     "name": "stdout",
     "output_type": "stream",
     "text": [
      "Dimensiunea vocabularului: 642\n"
     ]
    }
   ],
   "source": [
    "feature_names = vect.get_feature_names()\n",
    "print('Dimensiunea vocabularului:', len(feature_names))"
   ]
  },
  {
   "cell_type": "code",
   "execution_count": 15,
   "metadata": {},
   "outputs": [
    {
     "name": "stdout",
     "output_type": "stream",
     "text": [
      "['10', '20', '30', '40', '90', 'ability', 'absolutely', 'acting', 'action', 'actor', 'actors', 'actually', 'adorable', 'ago', 'amazing', 'amazon', 'ambiance', 'annoying', 'anytime', 'area']\n"
     ]
    }
   ],
   "source": [
    "print(feature_names[:20])"
   ]
  },
  {
   "cell_type": "code",
   "execution_count": 64,
   "metadata": {},
   "outputs": [
    {
     "name": "stdout",
     "output_type": "stream",
     "text": [
      "best cross validation score: 0.9811557788944724\n",
      "best params: {'C': 10}\n"
     ]
    }
   ],
   "source": [
    "param_grid = {'C':[0.001, 0.01, 0.1, 1, 10]}\n",
    "grid = GridSearchCV(LogisticRegression(solver='lbfgs', max_iter=1000), param_grid=param_grid, cv=5, n_jobs=4)\n",
    "grid.fit(x1, y_train)\n",
    "print('best cross validation score:', grid.best_score_)\n",
    "print('best params:', grid.best_params_)"
   ]
  },
  {
   "cell_type": "markdown",
   "metadata": {},
   "source": [
    "# KNeighborsRegressor"
   ]
  },
  {
   "cell_type": "code",
   "execution_count": 17,
   "metadata": {},
   "outputs": [
    {
     "name": "stdout",
     "output_type": "stream",
     "text": [
      "Fitting 3 folds for each of 18 candidates, totalling 54 fits\n"
     ]
    },
    {
     "name": "stderr",
     "output_type": "stream",
     "text": [
      "[Parallel(n_jobs=-1)]: Using backend LokyBackend with 4 concurrent workers.\n",
      "[Parallel(n_jobs=-1)]: Done   5 tasks      | elapsed:    9.6s\n",
      "[Parallel(n_jobs=-1)]: Done  10 tasks      | elapsed:   12.1s\n",
      "[Parallel(n_jobs=-1)]: Done  17 tasks      | elapsed:   19.7s\n",
      "[Parallel(n_jobs=-1)]: Done  24 tasks      | elapsed:   28.5s\n",
      "[Parallel(n_jobs=-1)]: Done  33 tasks      | elapsed:   39.9s\n",
      "[Parallel(n_jobs=-1)]: Done  42 tasks      | elapsed:   54.2s\n",
      "[Parallel(n_jobs=-1)]: Done  54 out of  54 | elapsed:  1.1min finished\n"
     ]
    },
    {
     "name": "stdout",
     "output_type": "stream",
     "text": [
      "Fitting 3 folds for each of 18 candidates, totalling 54 fits\n"
     ]
    },
    {
     "name": "stderr",
     "output_type": "stream",
     "text": [
      "[Parallel(n_jobs=-1)]: Using backend LokyBackend with 4 concurrent workers.\n",
      "[Parallel(n_jobs=-1)]: Done   5 tasks      | elapsed:    6.6s\n",
      "[Parallel(n_jobs=-1)]: Done  10 tasks      | elapsed:    8.7s\n",
      "[Parallel(n_jobs=-1)]: Done  17 tasks      | elapsed:   15.8s\n",
      "[Parallel(n_jobs=-1)]: Done  24 tasks      | elapsed:   23.7s\n",
      "[Parallel(n_jobs=-1)]: Done  33 tasks      | elapsed:   32.3s\n",
      "[Parallel(n_jobs=-1)]: Done  42 tasks      | elapsed:   42.2s\n",
      "[Parallel(n_jobs=-1)]: Done  54 out of  54 | elapsed:   52.9s finished\n"
     ]
    },
    {
     "name": "stdout",
     "output_type": "stream",
     "text": [
      "Fitting 3 folds for each of 18 candidates, totalling 54 fits\n"
     ]
    },
    {
     "name": "stderr",
     "output_type": "stream",
     "text": [
      "[Parallel(n_jobs=-1)]: Using backend LokyBackend with 4 concurrent workers.\n",
      "[Parallel(n_jobs=-1)]: Done   5 tasks      | elapsed:    7.0s\n",
      "[Parallel(n_jobs=-1)]: Done  10 tasks      | elapsed:    9.7s\n",
      "[Parallel(n_jobs=-1)]: Done  17 tasks      | elapsed:   16.8s\n",
      "[Parallel(n_jobs=-1)]: Done  24 tasks      | elapsed:   24.2s\n",
      "[Parallel(n_jobs=-1)]: Done  33 tasks      | elapsed:   32.4s\n",
      "[Parallel(n_jobs=-1)]: Done  42 tasks      | elapsed:   42.2s\n",
      "[Parallel(n_jobs=-1)]: Done  54 out of  54 | elapsed:   52.6s finished\n"
     ]
    },
    {
     "name": "stdout",
     "output_type": "stream",
     "text": [
      "Fitting 3 folds for each of 18 candidates, totalling 54 fits\n"
     ]
    },
    {
     "name": "stderr",
     "output_type": "stream",
     "text": [
      "[Parallel(n_jobs=-1)]: Using backend LokyBackend with 4 concurrent workers.\n",
      "[Parallel(n_jobs=-1)]: Done   5 tasks      | elapsed:    6.8s\n",
      "[Parallel(n_jobs=-1)]: Done  10 tasks      | elapsed:    8.6s\n",
      "[Parallel(n_jobs=-1)]: Done  17 tasks      | elapsed:   15.9s\n",
      "[Parallel(n_jobs=-1)]: Done  24 tasks      | elapsed:   25.8s\n",
      "[Parallel(n_jobs=-1)]: Done  33 tasks      | elapsed:   34.5s\n",
      "[Parallel(n_jobs=-1)]: Done  42 tasks      | elapsed:   46.3s\n",
      "[Parallel(n_jobs=-1)]: Done  54 out of  54 | elapsed:   58.6s finished\n"
     ]
    },
    {
     "name": "stdout",
     "output_type": "stream",
     "text": [
      "Fitting 3 folds for each of 18 candidates, totalling 54 fits\n"
     ]
    },
    {
     "name": "stderr",
     "output_type": "stream",
     "text": [
      "[Parallel(n_jobs=-1)]: Using backend LokyBackend with 4 concurrent workers.\n",
      "[Parallel(n_jobs=-1)]: Done   5 tasks      | elapsed:    9.0s\n",
      "[Parallel(n_jobs=-1)]: Done  10 tasks      | elapsed:   11.0s\n",
      "[Parallel(n_jobs=-1)]: Done  17 tasks      | elapsed:   19.2s\n",
      "[Parallel(n_jobs=-1)]: Done  24 tasks      | elapsed:   29.3s\n",
      "[Parallel(n_jobs=-1)]: Done  33 tasks      | elapsed:   38.7s\n",
      "[Parallel(n_jobs=-1)]: Done  42 tasks      | elapsed:   49.2s\n",
      "[Parallel(n_jobs=-1)]: Done  54 out of  54 | elapsed:   59.6s finished\n"
     ]
    }
   ],
   "source": [
    "parameter_grid = {'n_neighbors': list(range(1,10)), 'p': [1, 2]}\n",
    "grid_search = GridSearchCV(estimator =KNeighborsRegressor(), param_grid=parameter_grid,scoring='neg_mean_squared_error', cv=3, iid=False, verbose=10, n_jobs=-1)\n",
    "cv_results = cross_validate(grid_search, x1, y_train,\n",
    "                            scoring=('neg_mean_squared_error', 'neg_mean_absolute_error','r2'),cv=5, return_train_score=True)"
   ]
  },
  {
   "cell_type": "code",
   "execution_count": 18,
   "metadata": {},
   "outputs": [],
   "source": [
    "df=pd.DataFrame()"
   ]
  },
  {
   "cell_type": "code",
   "execution_count": 19,
   "metadata": {},
   "outputs": [
    {
     "data": {
      "text/html": [
       "<div>\n",
       "<style scoped>\n",
       "    .dataframe tbody tr th:only-of-type {\n",
       "        vertical-align: middle;\n",
       "    }\n",
       "\n",
       "    .dataframe tbody tr th {\n",
       "        vertical-align: top;\n",
       "    }\n",
       "\n",
       "    .dataframe thead th {\n",
       "        text-align: right;\n",
       "    }\n",
       "</style>\n",
       "<table border=\"1\" class=\"dataframe\">\n",
       "  <thead>\n",
       "    <tr style=\"text-align: right;\">\n",
       "      <th></th>\n",
       "      <th>Model</th>\n",
       "      <th>Type_of_Search</th>\n",
       "      <th>fit_time</th>\n",
       "      <th>test_neg_mean_absolute_error</th>\n",
       "      <th>test_neg_mean_squared_error</th>\n",
       "      <th>test_r2</th>\n",
       "      <th>train_neg_mean_absolute_error</th>\n",
       "      <th>train_neg_mean_squared_error</th>\n",
       "      <th>train_r2</th>\n",
       "    </tr>\n",
       "  </thead>\n",
       "  <tbody>\n",
       "    <tr>\n",
       "      <th>0</th>\n",
       "      <td>KNeighborsRegressor()</td>\n",
       "      <td>GridSearchCv</td>\n",
       "      <td>57.538566</td>\n",
       "      <td>-0.405359</td>\n",
       "      <td>-0.21156</td>\n",
       "      <td>0.14655</td>\n",
       "      <td>-0.342298</td>\n",
       "      <td>-0.15938</td>\n",
       "      <td>0.362111</td>\n",
       "    </tr>\n",
       "  </tbody>\n",
       "</table>\n",
       "</div>"
      ],
      "text/plain": [
       "                   Model Type_of_Search   fit_time  \\\n",
       "0  KNeighborsRegressor()   GridSearchCv  57.538566   \n",
       "\n",
       "   test_neg_mean_absolute_error  test_neg_mean_squared_error  test_r2  \\\n",
       "0                     -0.405359                     -0.21156  0.14655   \n",
       "\n",
       "   train_neg_mean_absolute_error  train_neg_mean_squared_error  train_r2  \n",
       "0                      -0.342298                      -0.15938  0.362111  "
      ]
     },
     "execution_count": 19,
     "metadata": {},
     "output_type": "execute_result"
    }
   ],
   "source": [
    "a=cv_results['train_neg_mean_squared_error'].mean()\n",
    "b=cv_results['train_neg_mean_absolute_error'].mean()\n",
    "c=cv_results['train_r2'].mean()\n",
    "d=cv_results['test_neg_mean_squared_error'].mean()\n",
    "e=cv_results['test_neg_mean_absolute_error'].mean()\n",
    "f=cv_results['test_r2'].mean()\n",
    "g=cv_results['fit_time'].mean()\n",
    "df=df.append( {'Type_of_Search':'GridSearchCv','Model':'KNeighborsRegressor()','train_neg_mean_squared_error':a,\n",
    "               'train_neg_mean_absolute_error':b, 'train_r2':c,\n",
    "               'test_neg_mean_squared_error':d,'test_neg_mean_absolute_error':e,\n",
    "               'test_r2':f, 'fit_time':g}, ignore_index=True)\n",
    "df"
   ]
  },
  {
   "cell_type": "code",
   "execution_count": 20,
   "metadata": {},
   "outputs": [
    {
     "name": "stdout",
     "output_type": "stream",
     "text": [
      "Fitting 3 folds for each of 15 candidates, totalling 45 fits\n"
     ]
    },
    {
     "name": "stderr",
     "output_type": "stream",
     "text": [
      "[Parallel(n_jobs=-1)]: Using backend LokyBackend with 4 concurrent workers.\n",
      "[Parallel(n_jobs=-1)]: Done   5 tasks      | elapsed:    8.9s\n",
      "[Parallel(n_jobs=-1)]: Done  10 tasks      | elapsed:   16.2s\n",
      "[Parallel(n_jobs=-1)]: Done  17 tasks      | elapsed:   29.9s\n",
      "[Parallel(n_jobs=-1)]: Done  24 tasks      | elapsed:   31.8s\n",
      "[Parallel(n_jobs=-1)]: Done  33 tasks      | elapsed:   39.9s\n",
      "[Parallel(n_jobs=-1)]: Done  43 out of  45 | elapsed:   53.5s remaining:    2.4s\n",
      "[Parallel(n_jobs=-1)]: Done  45 out of  45 | elapsed:   55.7s finished\n"
     ]
    },
    {
     "name": "stdout",
     "output_type": "stream",
     "text": [
      "Fitting 3 folds for each of 15 candidates, totalling 45 fits\n"
     ]
    },
    {
     "name": "stderr",
     "output_type": "stream",
     "text": [
      "[Parallel(n_jobs=-1)]: Using backend LokyBackend with 4 concurrent workers.\n",
      "[Parallel(n_jobs=-1)]: Done   5 tasks      | elapsed:    3.0s\n",
      "[Parallel(n_jobs=-1)]: Done  10 tasks      | elapsed:    6.5s\n",
      "[Parallel(n_jobs=-1)]: Done  17 tasks      | elapsed:   20.0s\n",
      "[Parallel(n_jobs=-1)]: Done  24 tasks      | elapsed:   27.9s\n",
      "[Parallel(n_jobs=-1)]: Done  33 tasks      | elapsed:   32.6s\n",
      "[Parallel(n_jobs=-1)]: Done  43 out of  45 | elapsed:   39.4s remaining:    1.7s\n",
      "[Parallel(n_jobs=-1)]: Done  45 out of  45 | elapsed:   40.0s finished\n"
     ]
    },
    {
     "name": "stdout",
     "output_type": "stream",
     "text": [
      "Fitting 3 folds for each of 15 candidates, totalling 45 fits\n"
     ]
    },
    {
     "name": "stderr",
     "output_type": "stream",
     "text": [
      "[Parallel(n_jobs=-1)]: Using backend LokyBackend with 4 concurrent workers.\n",
      "[Parallel(n_jobs=-1)]: Done   5 tasks      | elapsed:    3.6s\n",
      "[Parallel(n_jobs=-1)]: Done  10 tasks      | elapsed:    6.7s\n",
      "[Parallel(n_jobs=-1)]: Done  17 tasks      | elapsed:    9.6s\n",
      "[Parallel(n_jobs=-1)]: Done  24 tasks      | elapsed:   24.5s\n",
      "[Parallel(n_jobs=-1)]: Done  33 tasks      | elapsed:   36.2s\n",
      "[Parallel(n_jobs=-1)]: Done  43 out of  45 | elapsed:   46.0s remaining:    2.0s\n",
      "[Parallel(n_jobs=-1)]: Done  45 out of  45 | elapsed:   48.8s finished\n"
     ]
    },
    {
     "name": "stdout",
     "output_type": "stream",
     "text": [
      "Fitting 3 folds for each of 15 candidates, totalling 45 fits\n"
     ]
    },
    {
     "name": "stderr",
     "output_type": "stream",
     "text": [
      "[Parallel(n_jobs=-1)]: Using backend LokyBackend with 4 concurrent workers.\n",
      "[Parallel(n_jobs=-1)]: Done   5 tasks      | elapsed:    1.3s\n",
      "[Parallel(n_jobs=-1)]: Done  10 tasks      | elapsed:    7.9s\n",
      "[Parallel(n_jobs=-1)]: Done  17 tasks      | elapsed:   15.7s\n",
      "[Parallel(n_jobs=-1)]: Done  24 tasks      | elapsed:   26.8s\n",
      "[Parallel(n_jobs=-1)]: Done  33 tasks      | elapsed:   45.7s\n",
      "[Parallel(n_jobs=-1)]: Done  43 out of  45 | elapsed:   55.4s remaining:    2.5s\n",
      "[Parallel(n_jobs=-1)]: Done  45 out of  45 | elapsed:   56.3s finished\n"
     ]
    },
    {
     "name": "stdout",
     "output_type": "stream",
     "text": [
      "Fitting 3 folds for each of 15 candidates, totalling 45 fits\n"
     ]
    },
    {
     "name": "stderr",
     "output_type": "stream",
     "text": [
      "[Parallel(n_jobs=-1)]: Using backend LokyBackend with 4 concurrent workers.\n",
      "[Parallel(n_jobs=-1)]: Done   5 tasks      | elapsed:    3.2s\n",
      "[Parallel(n_jobs=-1)]: Done  10 tasks      | elapsed:   11.5s\n",
      "[Parallel(n_jobs=-1)]: Done  17 tasks      | elapsed:   24.9s\n",
      "[Parallel(n_jobs=-1)]: Done  24 tasks      | elapsed:   31.6s\n",
      "[Parallel(n_jobs=-1)]: Done  33 tasks      | elapsed:   40.9s\n",
      "[Parallel(n_jobs=-1)]: Done  43 out of  45 | elapsed:   55.5s remaining:    2.5s\n",
      "[Parallel(n_jobs=-1)]: Done  45 out of  45 | elapsed:   56.3s finished\n"
     ]
    }
   ],
   "source": [
    "gs_random = RandomizedSearchCV(estimator=KNeighborsRegressor(), param_distributions=parameter_grid,\n",
    "                               scoring='neg_mean_squared_error', cv= 3,n_iter=15, iid=False, verbose=10, n_jobs=-1)\n",
    "cv_results = cross_validate(gs_random, x1, y_train,\n",
    "                            scoring=('neg_mean_squared_error', 'neg_mean_absolute_error','r2'),cv=5, return_train_score=True)"
   ]
  },
  {
   "cell_type": "code",
   "execution_count": 21,
   "metadata": {
    "scrolled": true
   },
   "outputs": [
    {
     "data": {
      "text/html": [
       "<div>\n",
       "<style scoped>\n",
       "    .dataframe tbody tr th:only-of-type {\n",
       "        vertical-align: middle;\n",
       "    }\n",
       "\n",
       "    .dataframe tbody tr th {\n",
       "        vertical-align: top;\n",
       "    }\n",
       "\n",
       "    .dataframe thead th {\n",
       "        text-align: right;\n",
       "    }\n",
       "</style>\n",
       "<table border=\"1\" class=\"dataframe\">\n",
       "  <thead>\n",
       "    <tr style=\"text-align: right;\">\n",
       "      <th></th>\n",
       "      <th>Model</th>\n",
       "      <th>Type_of_Search</th>\n",
       "      <th>fit_time</th>\n",
       "      <th>test_neg_mean_absolute_error</th>\n",
       "      <th>test_neg_mean_squared_error</th>\n",
       "      <th>test_r2</th>\n",
       "      <th>train_neg_mean_absolute_error</th>\n",
       "      <th>train_neg_mean_squared_error</th>\n",
       "      <th>train_r2</th>\n",
       "    </tr>\n",
       "  </thead>\n",
       "  <tbody>\n",
       "    <tr>\n",
       "      <th>0</th>\n",
       "      <td>KNeighborsRegressor()</td>\n",
       "      <td>GridSearchCv</td>\n",
       "      <td>57.538566</td>\n",
       "      <td>-0.405359</td>\n",
       "      <td>-0.21156</td>\n",
       "      <td>0.14655</td>\n",
       "      <td>-0.342298</td>\n",
       "      <td>-0.15938</td>\n",
       "      <td>0.362111</td>\n",
       "    </tr>\n",
       "    <tr>\n",
       "      <th>1</th>\n",
       "      <td>KNeighborsRegressor()</td>\n",
       "      <td>RandomizedSearchCV</td>\n",
       "      <td>51.528217</td>\n",
       "      <td>-0.405359</td>\n",
       "      <td>-0.21156</td>\n",
       "      <td>0.14655</td>\n",
       "      <td>-0.342298</td>\n",
       "      <td>-0.15938</td>\n",
       "      <td>0.362111</td>\n",
       "    </tr>\n",
       "  </tbody>\n",
       "</table>\n",
       "</div>"
      ],
      "text/plain": [
       "                   Model      Type_of_Search   fit_time  \\\n",
       "0  KNeighborsRegressor()        GridSearchCv  57.538566   \n",
       "1  KNeighborsRegressor()  RandomizedSearchCV  51.528217   \n",
       "\n",
       "   test_neg_mean_absolute_error  test_neg_mean_squared_error  test_r2  \\\n",
       "0                     -0.405359                     -0.21156  0.14655   \n",
       "1                     -0.405359                     -0.21156  0.14655   \n",
       "\n",
       "   train_neg_mean_absolute_error  train_neg_mean_squared_error  train_r2  \n",
       "0                      -0.342298                      -0.15938  0.362111  \n",
       "1                      -0.342298                      -0.15938  0.362111  "
      ]
     },
     "execution_count": 21,
     "metadata": {},
     "output_type": "execute_result"
    }
   ],
   "source": [
    "a=cv_results['train_neg_mean_squared_error'].mean()\n",
    "b=cv_results['train_neg_mean_absolute_error'].mean()\n",
    "c=cv_results['train_r2'].mean()\n",
    "d=cv_results['test_neg_mean_squared_error'].mean()\n",
    "e=cv_results['test_neg_mean_absolute_error'].mean()\n",
    "f=cv_results['test_r2'].mean()\n",
    "g=cv_results['fit_time'].mean()\n",
    "df=df.append( {'Type_of_Search':'RandomizedSearchCV','Model':'KNeighborsRegressor()','train_neg_mean_squared_error':a,\n",
    "               'train_neg_mean_absolute_error':b, 'train_r2':c,\n",
    "               'test_neg_mean_squared_error':d,'test_neg_mean_absolute_error':e,\n",
    "               'test_r2':f, 'fit_time':g}, ignore_index=True)\n",
    "df"
   ]
  },
  {
   "cell_type": "markdown",
   "metadata": {},
   "source": [
    "# LogisticRegression"
   ]
  },
  {
   "cell_type": "code",
   "execution_count": 22,
   "metadata": {},
   "outputs": [],
   "source": [
    "param_grid = {'C':[0.001, 0.01, 0.1, 1, 10]}\n",
    "grid = GridSearchCV(LogisticRegression(solver='lbfgs', max_iter=1000), param_grid=param_grid, cv=5, n_jobs=4, scoring='neg_mean_squared_error')\n",
    "cv_results = cross_validate(grid, x1, y_train,\n",
    "                            scoring=('neg_mean_squared_error', 'neg_mean_absolute_error','r2'),cv=5, return_train_score=True)"
   ]
  },
  {
   "cell_type": "code",
   "execution_count": 23,
   "metadata": {},
   "outputs": [
    {
     "data": {
      "text/html": [
       "<div>\n",
       "<style scoped>\n",
       "    .dataframe tbody tr th:only-of-type {\n",
       "        vertical-align: middle;\n",
       "    }\n",
       "\n",
       "    .dataframe tbody tr th {\n",
       "        vertical-align: top;\n",
       "    }\n",
       "\n",
       "    .dataframe thead th {\n",
       "        text-align: right;\n",
       "    }\n",
       "</style>\n",
       "<table border=\"1\" class=\"dataframe\">\n",
       "  <thead>\n",
       "    <tr style=\"text-align: right;\">\n",
       "      <th></th>\n",
       "      <th>Model</th>\n",
       "      <th>Type_of_Search</th>\n",
       "      <th>fit_time</th>\n",
       "      <th>test_neg_mean_absolute_error</th>\n",
       "      <th>test_neg_mean_squared_error</th>\n",
       "      <th>test_r2</th>\n",
       "      <th>train_neg_mean_absolute_error</th>\n",
       "      <th>train_neg_mean_squared_error</th>\n",
       "      <th>train_r2</th>\n",
       "    </tr>\n",
       "  </thead>\n",
       "  <tbody>\n",
       "    <tr>\n",
       "      <th>0</th>\n",
       "      <td>KNeighborsRegressor()</td>\n",
       "      <td>GridSearchCv</td>\n",
       "      <td>57.538566</td>\n",
       "      <td>-0.405359</td>\n",
       "      <td>-0.211560</td>\n",
       "      <td>0.146550</td>\n",
       "      <td>-0.342298</td>\n",
       "      <td>-0.159380</td>\n",
       "      <td>0.362111</td>\n",
       "    </tr>\n",
       "    <tr>\n",
       "      <th>1</th>\n",
       "      <td>KNeighborsRegressor()</td>\n",
       "      <td>RandomizedSearchCV</td>\n",
       "      <td>51.528217</td>\n",
       "      <td>-0.405359</td>\n",
       "      <td>-0.211560</td>\n",
       "      <td>0.146550</td>\n",
       "      <td>-0.342298</td>\n",
       "      <td>-0.159380</td>\n",
       "      <td>0.362111</td>\n",
       "    </tr>\n",
       "    <tr>\n",
       "      <th>2</th>\n",
       "      <td>LogisticRegression()</td>\n",
       "      <td>GridSearchCV</td>\n",
       "      <td>1.976412</td>\n",
       "      <td>-0.219089</td>\n",
       "      <td>-0.219089</td>\n",
       "      <td>0.123575</td>\n",
       "      <td>-0.117268</td>\n",
       "      <td>-0.117268</td>\n",
       "      <td>0.530893</td>\n",
       "    </tr>\n",
       "  </tbody>\n",
       "</table>\n",
       "</div>"
      ],
      "text/plain": [
       "                   Model      Type_of_Search   fit_time  \\\n",
       "0  KNeighborsRegressor()        GridSearchCv  57.538566   \n",
       "1  KNeighborsRegressor()  RandomizedSearchCV  51.528217   \n",
       "2   LogisticRegression()        GridSearchCV   1.976412   \n",
       "\n",
       "   test_neg_mean_absolute_error  test_neg_mean_squared_error   test_r2  \\\n",
       "0                     -0.405359                    -0.211560  0.146550   \n",
       "1                     -0.405359                    -0.211560  0.146550   \n",
       "2                     -0.219089                    -0.219089  0.123575   \n",
       "\n",
       "   train_neg_mean_absolute_error  train_neg_mean_squared_error  train_r2  \n",
       "0                      -0.342298                     -0.159380  0.362111  \n",
       "1                      -0.342298                     -0.159380  0.362111  \n",
       "2                      -0.117268                     -0.117268  0.530893  "
      ]
     },
     "execution_count": 23,
     "metadata": {},
     "output_type": "execute_result"
    }
   ],
   "source": [
    "a=cv_results['train_neg_mean_squared_error'].mean()\n",
    "b=cv_results['train_neg_mean_absolute_error'].mean()\n",
    "c=cv_results['train_r2'].mean()\n",
    "d=cv_results['test_neg_mean_squared_error'].mean()\n",
    "e=cv_results['test_neg_mean_absolute_error'].mean()\n",
    "f=cv_results['test_r2'].mean()\n",
    "g=cv_results['fit_time'].mean()\n",
    "df=df.append( {'Type_of_Search':'GridSearchCV','Model':'LogisticRegression()','train_neg_mean_squared_error':a,\n",
    "               'train_neg_mean_absolute_error':b, 'train_r2':c,\n",
    "               'test_neg_mean_squared_error':d,'test_neg_mean_absolute_error':e,\n",
    "               'test_r2':f, 'fit_time':g}, ignore_index=True)\n",
    "df"
   ]
  },
  {
   "cell_type": "code",
   "execution_count": 24,
   "metadata": {},
   "outputs": [],
   "source": [
    "gs_random = RandomizedSearchCV(estimator=LogisticRegression(solver='lbfgs', max_iter=1000), param_distributions=param_grid,\n",
    "                               scoring='neg_mean_squared_error', cv= 3,n_iter=4, iid=False)\n",
    "cv_results = cross_validate(gs_random, x1, y_train,\n",
    "                            scoring=('neg_mean_squared_error', 'neg_mean_absolute_error','r2'),cv=5, return_train_score=True)"
   ]
  },
  {
   "cell_type": "code",
   "execution_count": 25,
   "metadata": {},
   "outputs": [
    {
     "data": {
      "text/html": [
       "<div>\n",
       "<style scoped>\n",
       "    .dataframe tbody tr th:only-of-type {\n",
       "        vertical-align: middle;\n",
       "    }\n",
       "\n",
       "    .dataframe tbody tr th {\n",
       "        vertical-align: top;\n",
       "    }\n",
       "\n",
       "    .dataframe thead th {\n",
       "        text-align: right;\n",
       "    }\n",
       "</style>\n",
       "<table border=\"1\" class=\"dataframe\">\n",
       "  <thead>\n",
       "    <tr style=\"text-align: right;\">\n",
       "      <th></th>\n",
       "      <th>Model</th>\n",
       "      <th>Type_of_Search</th>\n",
       "      <th>fit_time</th>\n",
       "      <th>test_neg_mean_absolute_error</th>\n",
       "      <th>test_neg_mean_squared_error</th>\n",
       "      <th>test_r2</th>\n",
       "      <th>train_neg_mean_absolute_error</th>\n",
       "      <th>train_neg_mean_squared_error</th>\n",
       "      <th>train_r2</th>\n",
       "    </tr>\n",
       "  </thead>\n",
       "  <tbody>\n",
       "    <tr>\n",
       "      <th>0</th>\n",
       "      <td>KNeighborsRegressor()</td>\n",
       "      <td>GridSearchCv</td>\n",
       "      <td>57.538566</td>\n",
       "      <td>-0.405359</td>\n",
       "      <td>-0.211560</td>\n",
       "      <td>0.146550</td>\n",
       "      <td>-0.342298</td>\n",
       "      <td>-0.159380</td>\n",
       "      <td>0.362111</td>\n",
       "    </tr>\n",
       "    <tr>\n",
       "      <th>1</th>\n",
       "      <td>KNeighborsRegressor()</td>\n",
       "      <td>RandomizedSearchCV</td>\n",
       "      <td>51.528217</td>\n",
       "      <td>-0.405359</td>\n",
       "      <td>-0.211560</td>\n",
       "      <td>0.146550</td>\n",
       "      <td>-0.342298</td>\n",
       "      <td>-0.159380</td>\n",
       "      <td>0.362111</td>\n",
       "    </tr>\n",
       "    <tr>\n",
       "      <th>2</th>\n",
       "      <td>LogisticRegression()</td>\n",
       "      <td>GridSearchCV</td>\n",
       "      <td>1.976412</td>\n",
       "      <td>-0.219089</td>\n",
       "      <td>-0.219089</td>\n",
       "      <td>0.123575</td>\n",
       "      <td>-0.117268</td>\n",
       "      <td>-0.117268</td>\n",
       "      <td>0.530893</td>\n",
       "    </tr>\n",
       "    <tr>\n",
       "      <th>3</th>\n",
       "      <td>LogisticRegression()</td>\n",
       "      <td>RandomizedSearchCV</td>\n",
       "      <td>1.872318</td>\n",
       "      <td>-0.219089</td>\n",
       "      <td>-0.219089</td>\n",
       "      <td>0.123575</td>\n",
       "      <td>-0.117268</td>\n",
       "      <td>-0.117268</td>\n",
       "      <td>0.530893</td>\n",
       "    </tr>\n",
       "  </tbody>\n",
       "</table>\n",
       "</div>"
      ],
      "text/plain": [
       "                   Model      Type_of_Search   fit_time  \\\n",
       "0  KNeighborsRegressor()        GridSearchCv  57.538566   \n",
       "1  KNeighborsRegressor()  RandomizedSearchCV  51.528217   \n",
       "2   LogisticRegression()        GridSearchCV   1.976412   \n",
       "3   LogisticRegression()  RandomizedSearchCV   1.872318   \n",
       "\n",
       "   test_neg_mean_absolute_error  test_neg_mean_squared_error   test_r2  \\\n",
       "0                     -0.405359                    -0.211560  0.146550   \n",
       "1                     -0.405359                    -0.211560  0.146550   \n",
       "2                     -0.219089                    -0.219089  0.123575   \n",
       "3                     -0.219089                    -0.219089  0.123575   \n",
       "\n",
       "   train_neg_mean_absolute_error  train_neg_mean_squared_error  train_r2  \n",
       "0                      -0.342298                     -0.159380  0.362111  \n",
       "1                      -0.342298                     -0.159380  0.362111  \n",
       "2                      -0.117268                     -0.117268  0.530893  \n",
       "3                      -0.117268                     -0.117268  0.530893  "
      ]
     },
     "execution_count": 25,
     "metadata": {},
     "output_type": "execute_result"
    }
   ],
   "source": [
    "a=cv_results['train_neg_mean_squared_error'].mean()\n",
    "b=cv_results['train_neg_mean_absolute_error'].mean()\n",
    "c=cv_results['train_r2'].mean()\n",
    "d=cv_results['test_neg_mean_squared_error'].mean()\n",
    "e=cv_results['test_neg_mean_absolute_error'].mean()\n",
    "f=cv_results['test_r2'].mean()\n",
    "g=cv_results['fit_time'].mean()\n",
    "df=df.append( {'Type_of_Search':'RandomizedSearchCV','Model':'LogisticRegression()','train_neg_mean_squared_error':a,\n",
    "               'train_neg_mean_absolute_error':b, 'train_r2':c,\n",
    "               'test_neg_mean_squared_error':d,'test_neg_mean_absolute_error':e,\n",
    "               'test_r2':f, 'fit_time':g}, ignore_index=True)\n",
    "df"
   ]
  },
  {
   "cell_type": "markdown",
   "metadata": {},
   "source": [
    "# DecisionTreeRegressor"
   ]
  },
  {
   "cell_type": "code",
   "execution_count": 26,
   "metadata": {},
   "outputs": [
    {
     "name": "stdout",
     "output_type": "stream",
     "text": [
      "Fitting 5 folds for each of 351 candidates, totalling 1755 fits\n"
     ]
    },
    {
     "name": "stderr",
     "output_type": "stream",
     "text": [
      "[Parallel(n_jobs=4)]: Using backend LokyBackend with 4 concurrent workers.\n",
      "[Parallel(n_jobs=4)]: Done   5 tasks      | elapsed:    1.1s\n",
      "[Parallel(n_jobs=4)]: Done  10 tasks      | elapsed:    1.8s\n",
      "[Parallel(n_jobs=4)]: Done  17 tasks      | elapsed:    3.0s\n",
      "[Parallel(n_jobs=4)]: Done  24 tasks      | elapsed:    4.0s\n",
      "[Parallel(n_jobs=4)]: Done  33 tasks      | elapsed:    5.9s\n",
      "[Parallel(n_jobs=4)]: Done  42 tasks      | elapsed:    6.8s\n",
      "[Parallel(n_jobs=4)]: Done  53 tasks      | elapsed:    8.1s\n",
      "[Parallel(n_jobs=4)]: Done  64 tasks      | elapsed:    9.3s\n",
      "[Parallel(n_jobs=4)]: Done  77 tasks      | elapsed:   10.6s\n",
      "[Parallel(n_jobs=4)]: Done  90 tasks      | elapsed:   11.8s\n",
      "[Parallel(n_jobs=4)]: Done 105 tasks      | elapsed:   13.4s\n",
      "[Parallel(n_jobs=4)]: Done 120 tasks      | elapsed:   14.9s\n",
      "[Parallel(n_jobs=4)]: Done 137 tasks      | elapsed:   16.6s\n",
      "[Parallel(n_jobs=4)]: Done 154 tasks      | elapsed:   18.2s\n",
      "[Parallel(n_jobs=4)]: Done 173 tasks      | elapsed:   19.8s\n",
      "[Parallel(n_jobs=4)]: Done 192 tasks      | elapsed:   21.4s\n",
      "[Parallel(n_jobs=4)]: Done 213 tasks      | elapsed:   23.3s\n",
      "[Parallel(n_jobs=4)]: Done 234 tasks      | elapsed:   25.0s\n",
      "[Parallel(n_jobs=4)]: Done 257 tasks      | elapsed:   26.8s\n",
      "[Parallel(n_jobs=4)]: Done 280 tasks      | elapsed:   28.9s\n",
      "[Parallel(n_jobs=4)]: Done 305 tasks      | elapsed:   31.6s\n",
      "[Parallel(n_jobs=4)]: Done 330 tasks      | elapsed:   34.4s\n",
      "[Parallel(n_jobs=4)]: Done 357 tasks      | elapsed:   36.3s\n",
      "[Parallel(n_jobs=4)]: Done 384 tasks      | elapsed:   37.9s\n",
      "[Parallel(n_jobs=4)]: Done 413 tasks      | elapsed:   39.6s\n",
      "[Parallel(n_jobs=4)]: Done 442 tasks      | elapsed:   41.4s\n",
      "[Parallel(n_jobs=4)]: Done 473 tasks      | elapsed:   43.2s\n",
      "[Parallel(n_jobs=4)]: Done 504 tasks      | elapsed:   44.9s\n",
      "[Parallel(n_jobs=4)]: Done 537 tasks      | elapsed:   47.7s\n",
      "[Parallel(n_jobs=4)]: Done 570 tasks      | elapsed:   49.9s\n",
      "[Parallel(n_jobs=4)]: Done 605 tasks      | elapsed:   51.5s\n",
      "[Parallel(n_jobs=4)]: Done 640 tasks      | elapsed:   52.6s\n",
      "[Parallel(n_jobs=4)]: Done 677 tasks      | elapsed:   53.8s\n",
      "[Parallel(n_jobs=4)]: Done 714 tasks      | elapsed:   55.0s\n",
      "[Parallel(n_jobs=4)]: Done 753 tasks      | elapsed:   56.2s\n",
      "[Parallel(n_jobs=4)]: Batch computation too fast (0.1998s.) Setting batch_size=2.\n",
      "[Parallel(n_jobs=4)]: Done 792 tasks      | elapsed:   57.4s\n",
      "[Parallel(n_jobs=4)]: Done 872 tasks      | elapsed:   59.4s\n",
      "[Parallel(n_jobs=4)]: Done 954 tasks      | elapsed:  1.0min\n",
      "[Parallel(n_jobs=4)]: Done 1040 tasks      | elapsed:  1.1min\n",
      "[Parallel(n_jobs=4)]: Done 1126 tasks      | elapsed:  1.1min\n",
      "[Parallel(n_jobs=4)]: Done 1216 tasks      | elapsed:  1.1min\n",
      "[Parallel(n_jobs=4)]: Done 1306 tasks      | elapsed:  1.2min\n",
      "[Parallel(n_jobs=4)]: Done 1400 tasks      | elapsed:  1.2min\n",
      "[Parallel(n_jobs=4)]: Done 1494 tasks      | elapsed:  1.2min\n",
      "[Parallel(n_jobs=4)]: Done 1592 tasks      | elapsed:  1.3min\n",
      "[Parallel(n_jobs=4)]: Done 1690 tasks      | elapsed:  1.3min\n",
      "[Parallel(n_jobs=4)]: Done 1748 out of 1755 | elapsed:  1.3min remaining:    0.2s\n",
      "[Parallel(n_jobs=4)]: Done 1755 out of 1755 | elapsed:  1.3min finished\n"
     ]
    },
    {
     "name": "stdout",
     "output_type": "stream",
     "text": [
      "Fitting 5 folds for each of 351 candidates, totalling 1755 fits\n"
     ]
    },
    {
     "name": "stderr",
     "output_type": "stream",
     "text": [
      "[Parallel(n_jobs=4)]: Using backend LokyBackend with 4 concurrent workers.\n",
      "[Parallel(n_jobs=4)]: Done   5 tasks      | elapsed:    1.1s\n",
      "[Parallel(n_jobs=4)]: Done  10 tasks      | elapsed:    1.9s\n",
      "[Parallel(n_jobs=4)]: Done  17 tasks      | elapsed:    3.1s\n",
      "[Parallel(n_jobs=4)]: Done  24 tasks      | elapsed:    3.8s\n",
      "[Parallel(n_jobs=4)]: Done  33 tasks      | elapsed:    5.2s\n",
      "[Parallel(n_jobs=4)]: Done  42 tasks      | elapsed:    6.2s\n",
      "[Parallel(n_jobs=4)]: Done  53 tasks      | elapsed:    7.6s\n",
      "[Parallel(n_jobs=4)]: Done  64 tasks      | elapsed:    9.1s\n",
      "[Parallel(n_jobs=4)]: Done  77 tasks      | elapsed:   10.7s\n",
      "[Parallel(n_jobs=4)]: Done  90 tasks      | elapsed:   12.5s\n",
      "[Parallel(n_jobs=4)]: Done 105 tasks      | elapsed:   14.7s\n",
      "[Parallel(n_jobs=4)]: Done 120 tasks      | elapsed:   16.3s\n",
      "[Parallel(n_jobs=4)]: Done 137 tasks      | elapsed:   17.8s\n",
      "[Parallel(n_jobs=4)]: Done 154 tasks      | elapsed:   19.2s\n",
      "[Parallel(n_jobs=4)]: Done 173 tasks      | elapsed:   20.8s\n",
      "[Parallel(n_jobs=4)]: Done 192 tasks      | elapsed:   22.4s\n",
      "[Parallel(n_jobs=4)]: Done 213 tasks      | elapsed:   23.9s\n",
      "[Parallel(n_jobs=4)]: Done 234 tasks      | elapsed:   25.5s\n",
      "[Parallel(n_jobs=4)]: Done 257 tasks      | elapsed:   27.1s\n",
      "[Parallel(n_jobs=4)]: Done 280 tasks      | elapsed:   28.6s\n",
      "[Parallel(n_jobs=4)]: Done 305 tasks      | elapsed:   30.3s\n",
      "[Parallel(n_jobs=4)]: Done 330 tasks      | elapsed:   31.9s\n",
      "[Parallel(n_jobs=4)]: Done 357 tasks      | elapsed:   33.8s\n",
      "[Parallel(n_jobs=4)]: Done 384 tasks      | elapsed:   35.6s\n",
      "[Parallel(n_jobs=4)]: Done 413 tasks      | elapsed:   37.5s\n",
      "[Parallel(n_jobs=4)]: Done 442 tasks      | elapsed:   39.1s\n",
      "[Parallel(n_jobs=4)]: Done 473 tasks      | elapsed:   40.9s\n",
      "[Parallel(n_jobs=4)]: Done 504 tasks      | elapsed:   42.5s\n",
      "[Parallel(n_jobs=4)]: Done 537 tasks      | elapsed:   44.2s\n",
      "[Parallel(n_jobs=4)]: Done 570 tasks      | elapsed:   45.8s\n",
      "[Parallel(n_jobs=4)]: Done 605 tasks      | elapsed:   47.2s\n",
      "[Parallel(n_jobs=4)]: Done 640 tasks      | elapsed:   48.3s\n",
      "[Parallel(n_jobs=4)]: Done 677 tasks      | elapsed:   49.4s\n",
      "[Parallel(n_jobs=4)]: Done 714 tasks      | elapsed:   50.5s\n",
      "[Parallel(n_jobs=4)]: Batch computation too fast (0.1969s.) Setting batch_size=2.\n",
      "[Parallel(n_jobs=4)]: Done 758 tasks      | elapsed:   51.8s\n",
      "[Parallel(n_jobs=4)]: Done 836 tasks      | elapsed:   53.9s\n",
      "[Parallel(n_jobs=4)]: Done 918 tasks      | elapsed:   55.9s\n",
      "[Parallel(n_jobs=4)]: Done 1000 tasks      | elapsed:   57.8s\n",
      "[Parallel(n_jobs=4)]: Done 1086 tasks      | elapsed:   59.6s\n",
      "[Parallel(n_jobs=4)]: Done 1172 tasks      | elapsed:  1.0min\n",
      "[Parallel(n_jobs=4)]: Done 1262 tasks      | elapsed:  1.1min\n",
      "[Parallel(n_jobs=4)]: Done 1352 tasks      | elapsed:  1.1min\n",
      "[Parallel(n_jobs=4)]: Done 1446 tasks      | elapsed:  1.1min\n",
      "[Parallel(n_jobs=4)]: Done 1540 tasks      | elapsed:  1.2min\n",
      "[Parallel(n_jobs=4)]: Done 1638 tasks      | elapsed:  1.2min\n",
      "[Parallel(n_jobs=4)]: Done 1736 tasks      | elapsed:  1.2min\n",
      "[Parallel(n_jobs=4)]: Done 1748 out of 1755 | elapsed:  1.2min remaining:    0.2s\n",
      "[Parallel(n_jobs=4)]: Done 1755 out of 1755 | elapsed:  1.2min finished\n"
     ]
    },
    {
     "name": "stdout",
     "output_type": "stream",
     "text": [
      "Fitting 5 folds for each of 351 candidates, totalling 1755 fits\n"
     ]
    },
    {
     "name": "stderr",
     "output_type": "stream",
     "text": [
      "[Parallel(n_jobs=4)]: Using backend LokyBackend with 4 concurrent workers.\n",
      "[Parallel(n_jobs=4)]: Done   5 tasks      | elapsed:    1.2s\n",
      "[Parallel(n_jobs=4)]: Done  10 tasks      | elapsed:    1.8s\n",
      "[Parallel(n_jobs=4)]: Done  17 tasks      | elapsed:    2.8s\n",
      "[Parallel(n_jobs=4)]: Done  24 tasks      | elapsed:    3.6s\n",
      "[Parallel(n_jobs=4)]: Done  33 tasks      | elapsed:    4.8s\n",
      "[Parallel(n_jobs=4)]: Done  42 tasks      | elapsed:    5.7s\n",
      "[Parallel(n_jobs=4)]: Done  53 tasks      | elapsed:    7.0s\n",
      "[Parallel(n_jobs=4)]: Done  64 tasks      | elapsed:    7.9s\n",
      "[Parallel(n_jobs=4)]: Done  77 tasks      | elapsed:    9.3s\n",
      "[Parallel(n_jobs=4)]: Done  90 tasks      | elapsed:   10.4s\n",
      "[Parallel(n_jobs=4)]: Done 105 tasks      | elapsed:   11.8s\n",
      "[Parallel(n_jobs=4)]: Done 120 tasks      | elapsed:   13.1s\n",
      "[Parallel(n_jobs=4)]: Done 137 tasks      | elapsed:   14.7s\n",
      "[Parallel(n_jobs=4)]: Done 154 tasks      | elapsed:   16.1s\n",
      "[Parallel(n_jobs=4)]: Done 173 tasks      | elapsed:   17.7s\n",
      "[Parallel(n_jobs=4)]: Done 192 tasks      | elapsed:   19.2s\n",
      "[Parallel(n_jobs=4)]: Done 213 tasks      | elapsed:   20.8s\n",
      "[Parallel(n_jobs=4)]: Done 234 tasks      | elapsed:   22.3s\n",
      "[Parallel(n_jobs=4)]: Done 257 tasks      | elapsed:   24.0s\n",
      "[Parallel(n_jobs=4)]: Done 280 tasks      | elapsed:   25.7s\n",
      "[Parallel(n_jobs=4)]: Done 305 tasks      | elapsed:   27.7s\n",
      "[Parallel(n_jobs=4)]: Done 330 tasks      | elapsed:   29.6s\n",
      "[Parallel(n_jobs=4)]: Done 357 tasks      | elapsed:   31.2s\n",
      "[Parallel(n_jobs=4)]: Done 384 tasks      | elapsed:   32.8s\n",
      "[Parallel(n_jobs=4)]: Done 413 tasks      | elapsed:   34.5s\n",
      "[Parallel(n_jobs=4)]: Done 442 tasks      | elapsed:   36.1s\n",
      "[Parallel(n_jobs=4)]: Done 473 tasks      | elapsed:   37.7s\n",
      "[Parallel(n_jobs=4)]: Done 504 tasks      | elapsed:   39.2s\n",
      "[Parallel(n_jobs=4)]: Done 537 tasks      | elapsed:   40.8s\n",
      "[Parallel(n_jobs=4)]: Done 570 tasks      | elapsed:   42.3s\n",
      "[Parallel(n_jobs=4)]: Done 605 tasks      | elapsed:   43.5s\n",
      "[Parallel(n_jobs=4)]: Done 640 tasks      | elapsed:   44.5s\n",
      "[Parallel(n_jobs=4)]: Batch computation too fast (0.1992s.) Setting batch_size=2.\n",
      "[Parallel(n_jobs=4)]: Done 678 tasks      | elapsed:   45.7s\n",
      "[Parallel(n_jobs=4)]: Done 752 tasks      | elapsed:   47.3s\n",
      "[Parallel(n_jobs=4)]: Done 830 tasks      | elapsed:   49.0s\n",
      "[Parallel(n_jobs=4)]: Done 908 tasks      | elapsed:   50.7s\n",
      "[Parallel(n_jobs=4)]: Done 990 tasks      | elapsed:   52.3s\n",
      "[Parallel(n_jobs=4)]: Done 1072 tasks      | elapsed:   54.3s\n",
      "[Parallel(n_jobs=4)]: Done 1158 tasks      | elapsed:   56.1s\n",
      "[Parallel(n_jobs=4)]: Done 1244 tasks      | elapsed:   58.4s\n",
      "[Parallel(n_jobs=4)]: Done 1334 tasks      | elapsed:  1.0min\n",
      "[Parallel(n_jobs=4)]: Done 1424 tasks      | elapsed:  1.0min\n",
      "[Parallel(n_jobs=4)]: Done 1518 tasks      | elapsed:  1.1min\n",
      "[Parallel(n_jobs=4)]: Batch computation too fast (0.1968s.) Setting batch_size=4.\n",
      "[Parallel(n_jobs=4)]: Done 1612 tasks      | elapsed:  1.1min\n",
      "[Parallel(n_jobs=4)]: Done 1755 out of 1755 | elapsed:  1.1min finished\n"
     ]
    },
    {
     "name": "stdout",
     "output_type": "stream",
     "text": [
      "Fitting 5 folds for each of 351 candidates, totalling 1755 fits\n"
     ]
    },
    {
     "name": "stderr",
     "output_type": "stream",
     "text": [
      "[Parallel(n_jobs=4)]: Using backend LokyBackend with 4 concurrent workers.\n",
      "[Parallel(n_jobs=4)]: Done   5 tasks      | elapsed:    0.9s\n",
      "[Parallel(n_jobs=4)]: Done  10 tasks      | elapsed:    1.5s\n",
      "[Parallel(n_jobs=4)]: Done  17 tasks      | elapsed:    2.5s\n",
      "[Parallel(n_jobs=4)]: Done  24 tasks      | elapsed:    3.1s\n",
      "[Parallel(n_jobs=4)]: Done  33 tasks      | elapsed:    4.2s\n",
      "[Parallel(n_jobs=4)]: Done  42 tasks      | elapsed:    5.0s\n",
      "[Parallel(n_jobs=4)]: Done  53 tasks      | elapsed:    6.2s\n",
      "[Parallel(n_jobs=4)]: Done  64 tasks      | elapsed:    7.3s\n",
      "[Parallel(n_jobs=4)]: Done  77 tasks      | elapsed:    8.6s\n",
      "[Parallel(n_jobs=4)]: Done  90 tasks      | elapsed:    9.6s\n",
      "[Parallel(n_jobs=4)]: Done 105 tasks      | elapsed:   11.0s\n",
      "[Parallel(n_jobs=4)]: Done 120 tasks      | elapsed:   12.4s\n",
      "[Parallel(n_jobs=4)]: Done 137 tasks      | elapsed:   14.0s\n",
      "[Parallel(n_jobs=4)]: Done 154 tasks      | elapsed:   16.7s\n",
      "[Parallel(n_jobs=4)]: Done 173 tasks      | elapsed:   19.1s\n",
      "[Parallel(n_jobs=4)]: Done 192 tasks      | elapsed:   21.6s\n",
      "[Parallel(n_jobs=4)]: Done 213 tasks      | elapsed:   24.3s\n",
      "[Parallel(n_jobs=4)]: Done 234 tasks      | elapsed:   26.5s\n",
      "[Parallel(n_jobs=4)]: Done 257 tasks      | elapsed:   28.7s\n",
      "[Parallel(n_jobs=4)]: Done 280 tasks      | elapsed:   30.4s\n",
      "[Parallel(n_jobs=4)]: Done 305 tasks      | elapsed:   32.5s\n",
      "[Parallel(n_jobs=4)]: Done 330 tasks      | elapsed:   34.5s\n",
      "[Parallel(n_jobs=4)]: Done 357 tasks      | elapsed:   36.6s\n",
      "[Parallel(n_jobs=4)]: Done 384 tasks      | elapsed:   38.1s\n",
      "[Parallel(n_jobs=4)]: Done 413 tasks      | elapsed:   40.4s\n",
      "[Parallel(n_jobs=4)]: Done 442 tasks      | elapsed:   42.3s\n",
      "[Parallel(n_jobs=4)]: Done 473 tasks      | elapsed:   44.4s\n",
      "[Parallel(n_jobs=4)]: Done 504 tasks      | elapsed:   46.6s\n",
      "[Parallel(n_jobs=4)]: Done 537 tasks      | elapsed:   49.1s\n",
      "[Parallel(n_jobs=4)]: Done 570 tasks      | elapsed:   51.3s\n",
      "[Parallel(n_jobs=4)]: Done 605 tasks      | elapsed:   53.3s\n",
      "[Parallel(n_jobs=4)]: Done 640 tasks      | elapsed:   54.6s\n",
      "[Parallel(n_jobs=4)]: Done 677 tasks      | elapsed:   55.9s\n",
      "[Parallel(n_jobs=4)]: Batch computation too fast (0.1981s.) Setting batch_size=2.\n",
      "[Parallel(n_jobs=4)]: Done 736 tasks      | elapsed:   57.3s\n",
      "[Parallel(n_jobs=4)]: Done 814 tasks      | elapsed:   58.8s\n",
      "[Parallel(n_jobs=4)]: Done 892 tasks      | elapsed:  1.0min\n",
      "[Parallel(n_jobs=4)]: Done 974 tasks      | elapsed:  1.0min\n",
      "[Parallel(n_jobs=4)]: Done 1056 tasks      | elapsed:  1.1min\n",
      "[Parallel(n_jobs=4)]: Done 1142 tasks      | elapsed:  1.1min\n",
      "[Parallel(n_jobs=4)]: Done 1228 tasks      | elapsed:  1.1min\n",
      "[Parallel(n_jobs=4)]: Done 1318 tasks      | elapsed:  1.2min\n",
      "[Parallel(n_jobs=4)]: Done 1408 tasks      | elapsed:  1.2min\n",
      "[Parallel(n_jobs=4)]: Done 1502 tasks      | elapsed:  1.2min\n",
      "[Parallel(n_jobs=4)]: Done 1596 tasks      | elapsed:  1.2min\n",
      "[Parallel(n_jobs=4)]: Done 1694 tasks      | elapsed:  1.3min\n",
      "[Parallel(n_jobs=4)]: Done 1748 out of 1755 | elapsed:  1.3min remaining:    0.2s\n",
      "[Parallel(n_jobs=4)]: Done 1755 out of 1755 | elapsed:  1.3min finished\n"
     ]
    },
    {
     "name": "stdout",
     "output_type": "stream",
     "text": [
      "Fitting 5 folds for each of 351 candidates, totalling 1755 fits\n"
     ]
    },
    {
     "name": "stderr",
     "output_type": "stream",
     "text": [
      "[Parallel(n_jobs=4)]: Using backend LokyBackend with 4 concurrent workers.\n",
      "[Parallel(n_jobs=4)]: Done   5 tasks      | elapsed:    1.9s\n",
      "[Parallel(n_jobs=4)]: Done  10 tasks      | elapsed:    2.7s\n",
      "[Parallel(n_jobs=4)]: Done  17 tasks      | elapsed:    4.9s\n",
      "[Parallel(n_jobs=4)]: Done  24 tasks      | elapsed:    6.1s\n",
      "[Parallel(n_jobs=4)]: Done  33 tasks      | elapsed:    7.9s\n",
      "[Parallel(n_jobs=4)]: Done  42 tasks      | elapsed:    9.3s\n",
      "[Parallel(n_jobs=4)]: Done  53 tasks      | elapsed:   11.5s\n",
      "[Parallel(n_jobs=4)]: Done  64 tasks      | elapsed:   13.7s\n",
      "[Parallel(n_jobs=4)]: Done  77 tasks      | elapsed:   15.0s\n",
      "[Parallel(n_jobs=4)]: Done  90 tasks      | elapsed:   16.5s\n",
      "[Parallel(n_jobs=4)]: Done 105 tasks      | elapsed:   18.0s\n",
      "[Parallel(n_jobs=4)]: Done 120 tasks      | elapsed:   19.4s\n",
      "[Parallel(n_jobs=4)]: Done 137 tasks      | elapsed:   20.7s\n",
      "[Parallel(n_jobs=4)]: Done 154 tasks      | elapsed:   22.4s\n",
      "[Parallel(n_jobs=4)]: Done 173 tasks      | elapsed:   24.5s\n",
      "[Parallel(n_jobs=4)]: Done 192 tasks      | elapsed:   26.0s\n",
      "[Parallel(n_jobs=4)]: Done 213 tasks      | elapsed:   27.6s\n",
      "[Parallel(n_jobs=4)]: Done 234 tasks      | elapsed:   29.1s\n",
      "[Parallel(n_jobs=4)]: Done 257 tasks      | elapsed:   31.0s\n",
      "[Parallel(n_jobs=4)]: Done 280 tasks      | elapsed:   32.7s\n",
      "[Parallel(n_jobs=4)]: Done 305 tasks      | elapsed:   34.6s\n",
      "[Parallel(n_jobs=4)]: Done 330 tasks      | elapsed:   36.2s\n",
      "[Parallel(n_jobs=4)]: Done 357 tasks      | elapsed:   37.7s\n",
      "[Parallel(n_jobs=4)]: Done 384 tasks      | elapsed:   39.4s\n",
      "[Parallel(n_jobs=4)]: Done 413 tasks      | elapsed:   40.9s\n",
      "[Parallel(n_jobs=4)]: Done 442 tasks      | elapsed:   42.4s\n",
      "[Parallel(n_jobs=4)]: Done 473 tasks      | elapsed:   44.0s\n",
      "[Parallel(n_jobs=4)]: Done 504 tasks      | elapsed:   45.5s\n",
      "[Parallel(n_jobs=4)]: Done 537 tasks      | elapsed:   47.1s\n",
      "[Parallel(n_jobs=4)]: Done 570 tasks      | elapsed:   48.7s\n",
      "[Parallel(n_jobs=4)]: Done 605 tasks      | elapsed:   50.0s\n",
      "[Parallel(n_jobs=4)]: Done 640 tasks      | elapsed:   51.0s\n",
      "[Parallel(n_jobs=4)]: Batch computation too fast (0.1993s.) Setting batch_size=2.\n",
      "[Parallel(n_jobs=4)]: Done 707 tasks      | elapsed:   52.8s\n",
      "[Parallel(n_jobs=4)]: Done 781 tasks      | elapsed:   54.8s\n",
      "[Parallel(n_jobs=4)]: Done 859 tasks      | elapsed:   56.8s\n",
      "[Parallel(n_jobs=4)]: Done 937 tasks      | elapsed:   58.6s\n",
      "[Parallel(n_jobs=4)]: Done 1019 tasks      | elapsed:  1.0min\n",
      "[Parallel(n_jobs=4)]: Done 1101 tasks      | elapsed:  1.0min\n",
      "[Parallel(n_jobs=4)]: Done 1187 tasks      | elapsed:  1.1min\n",
      "[Parallel(n_jobs=4)]: Done 1273 tasks      | elapsed:  1.1min\n",
      "[Parallel(n_jobs=4)]: Done 1363 tasks      | elapsed:  1.1min\n",
      "[Parallel(n_jobs=4)]: Done 1453 tasks      | elapsed:  1.1min\n",
      "[Parallel(n_jobs=4)]: Done 1547 tasks      | elapsed:  1.2min\n",
      "[Parallel(n_jobs=4)]: Done 1641 tasks      | elapsed:  1.2min\n",
      "[Parallel(n_jobs=4)]: Done 1739 tasks      | elapsed:  1.2min\n",
      "[Parallel(n_jobs=4)]: Done 1755 out of 1755 | elapsed:  1.2min finished\n"
     ]
    }
   ],
   "source": [
    "params = {'max_features': ['auto', 'sqrt', 'log2'],\n",
    "          'min_samples_split':list(range(2,15)), \n",
    "          'min_samples_leaf':list(range(2,11)),\n",
    "         }\n",
    "grid = GridSearchCV(DecisionTreeRegressor(), param_grid=params, cv=5, n_jobs=4, scoring='neg_mean_squared_error', verbose=10)\n",
    "cv_results = cross_validate(grid, x1, y_train,\n",
    "                            scoring=('neg_mean_squared_error', 'neg_mean_absolute_error','r2'),cv=5, return_train_score=True)"
   ]
  },
  {
   "cell_type": "code",
   "execution_count": 27,
   "metadata": {},
   "outputs": [
    {
     "data": {
      "text/html": [
       "<div>\n",
       "<style scoped>\n",
       "    .dataframe tbody tr th:only-of-type {\n",
       "        vertical-align: middle;\n",
       "    }\n",
       "\n",
       "    .dataframe tbody tr th {\n",
       "        vertical-align: top;\n",
       "    }\n",
       "\n",
       "    .dataframe thead th {\n",
       "        text-align: right;\n",
       "    }\n",
       "</style>\n",
       "<table border=\"1\" class=\"dataframe\">\n",
       "  <thead>\n",
       "    <tr style=\"text-align: right;\">\n",
       "      <th></th>\n",
       "      <th>Model</th>\n",
       "      <th>Type_of_Search</th>\n",
       "      <th>fit_time</th>\n",
       "      <th>test_neg_mean_absolute_error</th>\n",
       "      <th>test_neg_mean_squared_error</th>\n",
       "      <th>test_r2</th>\n",
       "      <th>train_neg_mean_absolute_error</th>\n",
       "      <th>train_neg_mean_squared_error</th>\n",
       "      <th>train_r2</th>\n",
       "    </tr>\n",
       "  </thead>\n",
       "  <tbody>\n",
       "    <tr>\n",
       "      <th>0</th>\n",
       "      <td>KNeighborsRegressor()</td>\n",
       "      <td>GridSearchCv</td>\n",
       "      <td>57.538566</td>\n",
       "      <td>-0.405359</td>\n",
       "      <td>-0.211560</td>\n",
       "      <td>0.146550</td>\n",
       "      <td>-0.342298</td>\n",
       "      <td>-0.159380</td>\n",
       "      <td>0.362111</td>\n",
       "    </tr>\n",
       "    <tr>\n",
       "      <th>1</th>\n",
       "      <td>KNeighborsRegressor()</td>\n",
       "      <td>RandomizedSearchCV</td>\n",
       "      <td>51.528217</td>\n",
       "      <td>-0.405359</td>\n",
       "      <td>-0.211560</td>\n",
       "      <td>0.146550</td>\n",
       "      <td>-0.342298</td>\n",
       "      <td>-0.159380</td>\n",
       "      <td>0.362111</td>\n",
       "    </tr>\n",
       "    <tr>\n",
       "      <th>2</th>\n",
       "      <td>LogisticRegression()</td>\n",
       "      <td>GridSearchCV</td>\n",
       "      <td>1.976412</td>\n",
       "      <td>-0.219089</td>\n",
       "      <td>-0.219089</td>\n",
       "      <td>0.123575</td>\n",
       "      <td>-0.117268</td>\n",
       "      <td>-0.117268</td>\n",
       "      <td>0.530893</td>\n",
       "    </tr>\n",
       "    <tr>\n",
       "      <th>3</th>\n",
       "      <td>LogisticRegression()</td>\n",
       "      <td>RandomizedSearchCV</td>\n",
       "      <td>1.872318</td>\n",
       "      <td>-0.219089</td>\n",
       "      <td>-0.219089</td>\n",
       "      <td>0.123575</td>\n",
       "      <td>-0.117268</td>\n",
       "      <td>-0.117268</td>\n",
       "      <td>0.530893</td>\n",
       "    </tr>\n",
       "    <tr>\n",
       "      <th>4</th>\n",
       "      <td>DecisionTreeRegressor()</td>\n",
       "      <td>GridSearchCV</td>\n",
       "      <td>74.335318</td>\n",
       "      <td>-0.308674</td>\n",
       "      <td>-0.174669</td>\n",
       "      <td>0.295722</td>\n",
       "      <td>-0.233775</td>\n",
       "      <td>-0.116887</td>\n",
       "      <td>0.532182</td>\n",
       "    </tr>\n",
       "  </tbody>\n",
       "</table>\n",
       "</div>"
      ],
      "text/plain": [
       "                     Model      Type_of_Search   fit_time  \\\n",
       "0    KNeighborsRegressor()        GridSearchCv  57.538566   \n",
       "1    KNeighborsRegressor()  RandomizedSearchCV  51.528217   \n",
       "2     LogisticRegression()        GridSearchCV   1.976412   \n",
       "3     LogisticRegression()  RandomizedSearchCV   1.872318   \n",
       "4  DecisionTreeRegressor()        GridSearchCV  74.335318   \n",
       "\n",
       "   test_neg_mean_absolute_error  test_neg_mean_squared_error   test_r2  \\\n",
       "0                     -0.405359                    -0.211560  0.146550   \n",
       "1                     -0.405359                    -0.211560  0.146550   \n",
       "2                     -0.219089                    -0.219089  0.123575   \n",
       "3                     -0.219089                    -0.219089  0.123575   \n",
       "4                     -0.308674                    -0.174669  0.295722   \n",
       "\n",
       "   train_neg_mean_absolute_error  train_neg_mean_squared_error  train_r2  \n",
       "0                      -0.342298                     -0.159380  0.362111  \n",
       "1                      -0.342298                     -0.159380  0.362111  \n",
       "2                      -0.117268                     -0.117268  0.530893  \n",
       "3                      -0.117268                     -0.117268  0.530893  \n",
       "4                      -0.233775                     -0.116887  0.532182  "
      ]
     },
     "execution_count": 27,
     "metadata": {},
     "output_type": "execute_result"
    }
   ],
   "source": [
    "a=cv_results['train_neg_mean_squared_error'].mean()\n",
    "b=cv_results['train_neg_mean_absolute_error'].mean()\n",
    "c=cv_results['train_r2'].mean()\n",
    "d=cv_results['test_neg_mean_squared_error'].mean()\n",
    "e=cv_results['test_neg_mean_absolute_error'].mean()\n",
    "f=cv_results['test_r2'].mean()\n",
    "g=cv_results['fit_time'].mean()\n",
    "df=df.append( {'Type_of_Search':'GridSearchCV','Model':'DecisionTreeRegressor()','train_neg_mean_squared_error':a,\n",
    "               'train_neg_mean_absolute_error':b, 'train_r2':c,\n",
    "               'test_neg_mean_squared_error':d,'test_neg_mean_absolute_error':e,\n",
    "               'test_r2':f, 'fit_time':g}, ignore_index=True)\n",
    "df"
   ]
  },
  {
   "cell_type": "code",
   "execution_count": 28,
   "metadata": {},
   "outputs": [
    {
     "name": "stdout",
     "output_type": "stream",
     "text": [
      "Fitting 3 folds for each of 250 candidates, totalling 750 fits\n"
     ]
    },
    {
     "name": "stderr",
     "output_type": "stream",
     "text": [
      "[Parallel(n_jobs=-1)]: Using backend LokyBackend with 4 concurrent workers.\n",
      "[Parallel(n_jobs=-1)]: Batch computation too fast (0.0987s.) Setting batch_size=4.\n",
      "[Parallel(n_jobs=-1)]: Done   5 tasks      | elapsed:    0.3s\n",
      "[Parallel(n_jobs=-1)]: Done  16 tasks      | elapsed:    0.8s\n",
      "[Parallel(n_jobs=-1)]: Done  44 tasks      | elapsed:    2.2s\n",
      "[Parallel(n_jobs=-1)]: Done  72 tasks      | elapsed:    3.4s\n",
      "[Parallel(n_jobs=-1)]: Done 108 tasks      | elapsed:    4.7s\n",
      "[Parallel(n_jobs=-1)]: Done 144 tasks      | elapsed:    5.9s\n",
      "[Parallel(n_jobs=-1)]: Done 188 tasks      | elapsed:    7.3s\n",
      "[Parallel(n_jobs=-1)]: Done 232 tasks      | elapsed:    8.9s\n",
      "[Parallel(n_jobs=-1)]: Done 284 tasks      | elapsed:   10.5s\n",
      "[Parallel(n_jobs=-1)]: Done 336 tasks      | elapsed:   12.4s\n",
      "[Parallel(n_jobs=-1)]: Done 396 tasks      | elapsed:   14.0s\n",
      "[Parallel(n_jobs=-1)]: Done 456 tasks      | elapsed:   15.8s\n",
      "[Parallel(n_jobs=-1)]: Done 524 tasks      | elapsed:   17.9s\n",
      "[Parallel(n_jobs=-1)]: Done 592 tasks      | elapsed:   21.0s\n",
      "[Parallel(n_jobs=-1)]: Done 668 tasks      | elapsed:   23.2s\n",
      "[Parallel(n_jobs=-1)]: Done 750 out of 750 | elapsed:   25.2s finished\n",
      "[Parallel(n_jobs=-1)]: Using backend LokyBackend with 4 concurrent workers.\n"
     ]
    },
    {
     "name": "stdout",
     "output_type": "stream",
     "text": [
      "Fitting 3 folds for each of 250 candidates, totalling 750 fits\n"
     ]
    },
    {
     "name": "stderr",
     "output_type": "stream",
     "text": [
      "[Parallel(n_jobs=-1)]: Done   5 tasks      | elapsed:    0.4s\n",
      "[Parallel(n_jobs=-1)]: Done  10 tasks      | elapsed:    0.5s\n",
      "[Parallel(n_jobs=-1)]: Done  17 tasks      | elapsed:    0.7s\n",
      "[Parallel(n_jobs=-1)]: Done  24 tasks      | elapsed:    1.2s\n",
      "[Parallel(n_jobs=-1)]: Done  33 tasks      | elapsed:    1.5s\n",
      "[Parallel(n_jobs=-1)]: Done  42 tasks      | elapsed:    1.9s\n",
      "[Parallel(n_jobs=-1)]: Done  53 tasks      | elapsed:    2.3s\n",
      "[Parallel(n_jobs=-1)]: Done  64 tasks      | elapsed:    2.7s\n",
      "[Parallel(n_jobs=-1)]: Done  77 tasks      | elapsed:    3.3s\n",
      "[Parallel(n_jobs=-1)]: Done  90 tasks      | elapsed:    3.8s\n",
      "[Parallel(n_jobs=-1)]: Done 105 tasks      | elapsed:    4.2s\n",
      "[Parallel(n_jobs=-1)]: Batch computation too fast (0.1919s.) Setting batch_size=2.\n",
      "[Parallel(n_jobs=-1)]: Done 121 tasks      | elapsed:    4.6s\n",
      "[Parallel(n_jobs=-1)]: Done 155 tasks      | elapsed:    5.5s\n",
      "[Parallel(n_jobs=-1)]: Done 189 tasks      | elapsed:    6.5s\n",
      "[Parallel(n_jobs=-1)]: Done 227 tasks      | elapsed:    8.1s\n",
      "[Parallel(n_jobs=-1)]: Done 265 tasks      | elapsed:    9.4s\n",
      "[Parallel(n_jobs=-1)]: Done 307 tasks      | elapsed:   10.6s\n",
      "[Parallel(n_jobs=-1)]: Done 349 tasks      | elapsed:   11.9s\n",
      "[Parallel(n_jobs=-1)]: Done 395 tasks      | elapsed:   13.8s\n",
      "[Parallel(n_jobs=-1)]: Done 441 tasks      | elapsed:   14.8s\n",
      "[Parallel(n_jobs=-1)]: Done 491 tasks      | elapsed:   16.7s\n",
      "[Parallel(n_jobs=-1)]: Done 541 tasks      | elapsed:   18.3s\n",
      "[Parallel(n_jobs=-1)]: Done 595 tasks      | elapsed:   20.1s\n",
      "[Parallel(n_jobs=-1)]: Done 649 tasks      | elapsed:   21.7s\n",
      "[Parallel(n_jobs=-1)]: Done 707 tasks      | elapsed:   23.4s\n",
      "[Parallel(n_jobs=-1)]: Done 743 out of 750 | elapsed:   24.2s remaining:    0.1s\n",
      "[Parallel(n_jobs=-1)]: Done 750 out of 750 | elapsed:   24.4s finished\n"
     ]
    },
    {
     "name": "stdout",
     "output_type": "stream",
     "text": [
      "Fitting 3 folds for each of 250 candidates, totalling 750 fits\n"
     ]
    },
    {
     "name": "stderr",
     "output_type": "stream",
     "text": [
      "[Parallel(n_jobs=-1)]: Using backend LokyBackend with 4 concurrent workers.\n",
      "[Parallel(n_jobs=-1)]: Batch computation too fast (0.0957s.) Setting batch_size=4.\n",
      "[Parallel(n_jobs=-1)]: Done   5 tasks      | elapsed:    0.1s\n",
      "[Parallel(n_jobs=-1)]: Done  16 tasks      | elapsed:    0.9s\n",
      "[Parallel(n_jobs=-1)]: Done  44 tasks      | elapsed:    1.9s\n",
      "[Parallel(n_jobs=-1)]: Done  72 tasks      | elapsed:    2.6s\n",
      "[Parallel(n_jobs=-1)]: Done 108 tasks      | elapsed:    3.7s\n",
      "[Parallel(n_jobs=-1)]: Done 144 tasks      | elapsed:    5.0s\n",
      "[Parallel(n_jobs=-1)]: Done 188 tasks      | elapsed:    6.9s\n",
      "[Parallel(n_jobs=-1)]: Done 232 tasks      | elapsed:    8.3s\n",
      "[Parallel(n_jobs=-1)]: Done 284 tasks      | elapsed:    9.5s\n",
      "[Parallel(n_jobs=-1)]: Done 336 tasks      | elapsed:   10.9s\n",
      "[Parallel(n_jobs=-1)]: Done 396 tasks      | elapsed:   12.6s\n",
      "[Parallel(n_jobs=-1)]: Done 456 tasks      | elapsed:   14.3s\n",
      "[Parallel(n_jobs=-1)]: Done 524 tasks      | elapsed:   16.8s\n",
      "[Parallel(n_jobs=-1)]: Done 592 tasks      | elapsed:   18.7s\n",
      "[Parallel(n_jobs=-1)]: Done 668 tasks      | elapsed:   21.1s\n",
      "[Parallel(n_jobs=-1)]: Done 750 out of 750 | elapsed:   22.9s finished\n",
      "[Parallel(n_jobs=-1)]: Using backend LokyBackend with 4 concurrent workers.\n"
     ]
    },
    {
     "name": "stdout",
     "output_type": "stream",
     "text": [
      "Fitting 3 folds for each of 250 candidates, totalling 750 fits\n"
     ]
    },
    {
     "name": "stderr",
     "output_type": "stream",
     "text": [
      "[Parallel(n_jobs=-1)]: Batch computation too fast (0.1186s.) Setting batch_size=2.\n",
      "[Parallel(n_jobs=-1)]: Done   5 tasks      | elapsed:    0.3s\n",
      "[Parallel(n_jobs=-1)]: Done  12 tasks      | elapsed:    0.5s\n",
      "[Parallel(n_jobs=-1)]: Done  26 tasks      | elapsed:    1.1s\n",
      "[Parallel(n_jobs=-1)]: Done  40 tasks      | elapsed:    1.7s\n",
      "[Parallel(n_jobs=-1)]: Done  58 tasks      | elapsed:    2.2s\n",
      "[Parallel(n_jobs=-1)]: Done  76 tasks      | elapsed:    2.7s\n",
      "[Parallel(n_jobs=-1)]: Done  98 tasks      | elapsed:    3.6s\n",
      "[Parallel(n_jobs=-1)]: Done 120 tasks      | elapsed:    4.0s\n",
      "[Parallel(n_jobs=-1)]: Done 146 tasks      | elapsed:    4.7s\n",
      "[Parallel(n_jobs=-1)]: Done 172 tasks      | elapsed:    5.5s\n",
      "[Parallel(n_jobs=-1)]: Done 202 tasks      | elapsed:    6.3s\n",
      "[Parallel(n_jobs=-1)]: Done 232 tasks      | elapsed:    7.2s\n",
      "[Parallel(n_jobs=-1)]: Done 266 tasks      | elapsed:    8.3s\n",
      "[Parallel(n_jobs=-1)]: Done 300 tasks      | elapsed:    9.6s\n",
      "[Parallel(n_jobs=-1)]: Done 338 tasks      | elapsed:   10.8s\n",
      "[Parallel(n_jobs=-1)]: Done 376 tasks      | elapsed:   11.8s\n",
      "[Parallel(n_jobs=-1)]: Done 418 tasks      | elapsed:   13.9s\n",
      "[Parallel(n_jobs=-1)]: Done 460 tasks      | elapsed:   15.1s\n",
      "[Parallel(n_jobs=-1)]: Done 506 tasks      | elapsed:   16.4s\n",
      "[Parallel(n_jobs=-1)]: Done 552 tasks      | elapsed:   17.8s\n",
      "[Parallel(n_jobs=-1)]: Done 602 tasks      | elapsed:   19.5s\n",
      "[Parallel(n_jobs=-1)]: Done 652 tasks      | elapsed:   21.1s\n",
      "[Parallel(n_jobs=-1)]: Done 706 tasks      | elapsed:   22.8s\n",
      "[Parallel(n_jobs=-1)]: Done 750 out of 750 | elapsed:   24.6s finished\n",
      "[Parallel(n_jobs=-1)]: Using backend LokyBackend with 4 concurrent workers.\n"
     ]
    },
    {
     "name": "stdout",
     "output_type": "stream",
     "text": [
      "Fitting 3 folds for each of 250 candidates, totalling 750 fits\n"
     ]
    },
    {
     "name": "stderr",
     "output_type": "stream",
     "text": [
      "[Parallel(n_jobs=-1)]: Done   5 tasks      | elapsed:    0.3s\n",
      "[Parallel(n_jobs=-1)]: Done  10 tasks      | elapsed:    0.5s\n",
      "[Parallel(n_jobs=-1)]: Done  17 tasks      | elapsed:    0.8s\n",
      "[Parallel(n_jobs=-1)]: Done  24 tasks      | elapsed:    1.3s\n",
      "[Parallel(n_jobs=-1)]: Done  33 tasks      | elapsed:    1.7s\n",
      "[Parallel(n_jobs=-1)]: Done  42 tasks      | elapsed:    2.0s\n",
      "[Parallel(n_jobs=-1)]: Done  53 tasks      | elapsed:    2.3s\n",
      "[Parallel(n_jobs=-1)]: Done  64 tasks      | elapsed:    2.7s\n",
      "[Parallel(n_jobs=-1)]: Done  77 tasks      | elapsed:    3.5s\n",
      "[Parallel(n_jobs=-1)]: Done  90 tasks      | elapsed:    4.1s\n",
      "[Parallel(n_jobs=-1)]: Done 105 tasks      | elapsed:    4.8s\n",
      "[Parallel(n_jobs=-1)]: Done 120 tasks      | elapsed:    5.6s\n",
      "[Parallel(n_jobs=-1)]: Done 137 tasks      | elapsed:    6.6s\n",
      "[Parallel(n_jobs=-1)]: Done 154 tasks      | elapsed:    7.4s\n",
      "[Parallel(n_jobs=-1)]: Done 173 tasks      | elapsed:    8.4s\n",
      "[Parallel(n_jobs=-1)]: Done 192 tasks      | elapsed:    9.6s\n",
      "[Parallel(n_jobs=-1)]: Done 213 tasks      | elapsed:   10.5s\n",
      "[Parallel(n_jobs=-1)]: Done 234 tasks      | elapsed:   11.4s\n",
      "[Parallel(n_jobs=-1)]: Done 257 tasks      | elapsed:   12.4s\n",
      "[Parallel(n_jobs=-1)]: Done 280 tasks      | elapsed:   13.5s\n",
      "[Parallel(n_jobs=-1)]: Done 305 tasks      | elapsed:   15.2s\n",
      "[Parallel(n_jobs=-1)]: Done 330 tasks      | elapsed:   16.2s\n",
      "[Parallel(n_jobs=-1)]: Done 357 tasks      | elapsed:   17.6s\n",
      "[Parallel(n_jobs=-1)]: Done 384 tasks      | elapsed:   18.6s\n",
      "[Parallel(n_jobs=-1)]: Done 413 tasks      | elapsed:   19.9s\n",
      "[Parallel(n_jobs=-1)]: Done 442 tasks      | elapsed:   21.4s\n",
      "[Parallel(n_jobs=-1)]: Batch computation too fast (0.1958s.) Setting batch_size=2.\n",
      "[Parallel(n_jobs=-1)]: Done 478 tasks      | elapsed:   22.5s\n",
      "[Parallel(n_jobs=-1)]: Done 540 tasks      | elapsed:   24.4s\n",
      "[Parallel(n_jobs=-1)]: Done 606 tasks      | elapsed:   26.8s\n",
      "[Parallel(n_jobs=-1)]: Done 672 tasks      | elapsed:   28.7s\n",
      "[Parallel(n_jobs=-1)]: Done 750 out of 750 | elapsed:   30.9s finished\n"
     ]
    }
   ],
   "source": [
    "gs_random = RandomizedSearchCV(estimator=DecisionTreeRegressor(), param_distributions=params,\n",
    "                               scoring='neg_mean_squared_error', cv= 3,n_iter=250, iid=False, verbose=10, n_jobs=-1)\n",
    "cv_results = cross_validate(gs_random, x1, y_train,\n",
    "                            scoring=('neg_mean_squared_error', 'neg_mean_absolute_error','r2'),cv=5, return_train_score=True)"
   ]
  },
  {
   "cell_type": "code",
   "execution_count": 29,
   "metadata": {},
   "outputs": [
    {
     "data": {
      "text/html": [
       "<div>\n",
       "<style scoped>\n",
       "    .dataframe tbody tr th:only-of-type {\n",
       "        vertical-align: middle;\n",
       "    }\n",
       "\n",
       "    .dataframe tbody tr th {\n",
       "        vertical-align: top;\n",
       "    }\n",
       "\n",
       "    .dataframe thead th {\n",
       "        text-align: right;\n",
       "    }\n",
       "</style>\n",
       "<table border=\"1\" class=\"dataframe\">\n",
       "  <thead>\n",
       "    <tr style=\"text-align: right;\">\n",
       "      <th></th>\n",
       "      <th>Model</th>\n",
       "      <th>Type_of_Search</th>\n",
       "      <th>fit_time</th>\n",
       "      <th>test_neg_mean_absolute_error</th>\n",
       "      <th>test_neg_mean_squared_error</th>\n",
       "      <th>test_r2</th>\n",
       "      <th>train_neg_mean_absolute_error</th>\n",
       "      <th>train_neg_mean_squared_error</th>\n",
       "      <th>train_r2</th>\n",
       "    </tr>\n",
       "  </thead>\n",
       "  <tbody>\n",
       "    <tr>\n",
       "      <th>0</th>\n",
       "      <td>KNeighborsRegressor()</td>\n",
       "      <td>GridSearchCv</td>\n",
       "      <td>57.538566</td>\n",
       "      <td>-0.405359</td>\n",
       "      <td>-0.211560</td>\n",
       "      <td>0.146550</td>\n",
       "      <td>-0.342298</td>\n",
       "      <td>-0.159380</td>\n",
       "      <td>0.362111</td>\n",
       "    </tr>\n",
       "    <tr>\n",
       "      <th>1</th>\n",
       "      <td>KNeighborsRegressor()</td>\n",
       "      <td>RandomizedSearchCV</td>\n",
       "      <td>51.528217</td>\n",
       "      <td>-0.405359</td>\n",
       "      <td>-0.211560</td>\n",
       "      <td>0.146550</td>\n",
       "      <td>-0.342298</td>\n",
       "      <td>-0.159380</td>\n",
       "      <td>0.362111</td>\n",
       "    </tr>\n",
       "    <tr>\n",
       "      <th>2</th>\n",
       "      <td>LogisticRegression()</td>\n",
       "      <td>GridSearchCV</td>\n",
       "      <td>1.976412</td>\n",
       "      <td>-0.219089</td>\n",
       "      <td>-0.219089</td>\n",
       "      <td>0.123575</td>\n",
       "      <td>-0.117268</td>\n",
       "      <td>-0.117268</td>\n",
       "      <td>0.530893</td>\n",
       "    </tr>\n",
       "    <tr>\n",
       "      <th>3</th>\n",
       "      <td>LogisticRegression()</td>\n",
       "      <td>RandomizedSearchCV</td>\n",
       "      <td>1.872318</td>\n",
       "      <td>-0.219089</td>\n",
       "      <td>-0.219089</td>\n",
       "      <td>0.123575</td>\n",
       "      <td>-0.117268</td>\n",
       "      <td>-0.117268</td>\n",
       "      <td>0.530893</td>\n",
       "    </tr>\n",
       "    <tr>\n",
       "      <th>4</th>\n",
       "      <td>DecisionTreeRegressor()</td>\n",
       "      <td>GridSearchCV</td>\n",
       "      <td>74.335318</td>\n",
       "      <td>-0.308674</td>\n",
       "      <td>-0.174669</td>\n",
       "      <td>0.295722</td>\n",
       "      <td>-0.233775</td>\n",
       "      <td>-0.116887</td>\n",
       "      <td>0.532182</td>\n",
       "    </tr>\n",
       "    <tr>\n",
       "      <th>5</th>\n",
       "      <td>DecisionTreeRegressor()</td>\n",
       "      <td>RandomizedSearchCV</td>\n",
       "      <td>25.825730</td>\n",
       "      <td>-0.308306</td>\n",
       "      <td>-0.178904</td>\n",
       "      <td>0.278364</td>\n",
       "      <td>-0.229674</td>\n",
       "      <td>-0.114837</td>\n",
       "      <td>0.540403</td>\n",
       "    </tr>\n",
       "  </tbody>\n",
       "</table>\n",
       "</div>"
      ],
      "text/plain": [
       "                     Model      Type_of_Search   fit_time  \\\n",
       "0    KNeighborsRegressor()        GridSearchCv  57.538566   \n",
       "1    KNeighborsRegressor()  RandomizedSearchCV  51.528217   \n",
       "2     LogisticRegression()        GridSearchCV   1.976412   \n",
       "3     LogisticRegression()  RandomizedSearchCV   1.872318   \n",
       "4  DecisionTreeRegressor()        GridSearchCV  74.335318   \n",
       "5  DecisionTreeRegressor()  RandomizedSearchCV  25.825730   \n",
       "\n",
       "   test_neg_mean_absolute_error  test_neg_mean_squared_error   test_r2  \\\n",
       "0                     -0.405359                    -0.211560  0.146550   \n",
       "1                     -0.405359                    -0.211560  0.146550   \n",
       "2                     -0.219089                    -0.219089  0.123575   \n",
       "3                     -0.219089                    -0.219089  0.123575   \n",
       "4                     -0.308674                    -0.174669  0.295722   \n",
       "5                     -0.308306                    -0.178904  0.278364   \n",
       "\n",
       "   train_neg_mean_absolute_error  train_neg_mean_squared_error  train_r2  \n",
       "0                      -0.342298                     -0.159380  0.362111  \n",
       "1                      -0.342298                     -0.159380  0.362111  \n",
       "2                      -0.117268                     -0.117268  0.530893  \n",
       "3                      -0.117268                     -0.117268  0.530893  \n",
       "4                      -0.233775                     -0.116887  0.532182  \n",
       "5                      -0.229674                     -0.114837  0.540403  "
      ]
     },
     "execution_count": 29,
     "metadata": {},
     "output_type": "execute_result"
    }
   ],
   "source": [
    "a=cv_results['train_neg_mean_squared_error'].mean()\n",
    "b=cv_results['train_neg_mean_absolute_error'].mean()\n",
    "c=cv_results['train_r2'].mean()\n",
    "d=cv_results['test_neg_mean_squared_error'].mean()\n",
    "e=cv_results['test_neg_mean_absolute_error'].mean()\n",
    "f=cv_results['test_r2'].mean()\n",
    "g=cv_results['fit_time'].mean()\n",
    "df=df.append( {'Type_of_Search':'RandomizedSearchCV','Model':'DecisionTreeRegressor()','train_neg_mean_squared_error':a,\n",
    "               'train_neg_mean_absolute_error':b, 'train_r2':c,\n",
    "               'test_neg_mean_squared_error':d,'test_neg_mean_absolute_error':e,\n",
    "               'test_r2':f, 'fit_time':g}, ignore_index=True)\n",
    "df"
   ]
  },
  {
   "cell_type": "markdown",
   "metadata": {},
   "source": [
    "# MLPRegressor"
   ]
  },
  {
   "cell_type": "code",
   "execution_count": 30,
   "metadata": {},
   "outputs": [
    {
     "name": "stdout",
     "output_type": "stream",
     "text": [
      "Fitting 3 folds for each of 36 candidates, totalling 108 fits\n"
     ]
    },
    {
     "name": "stderr",
     "output_type": "stream",
     "text": [
      "[Parallel(n_jobs=-1)]: Using backend LokyBackend with 4 concurrent workers.\n",
      "[Parallel(n_jobs=-1)]: Done   5 tasks      | elapsed:   44.5s\n",
      "[Parallel(n_jobs=-1)]: Done  10 tasks      | elapsed:   56.5s\n",
      "[Parallel(n_jobs=-1)]: Done  17 tasks      | elapsed:  1.5min\n",
      "[Parallel(n_jobs=-1)]: Done  24 tasks      | elapsed:  2.1min\n",
      "[Parallel(n_jobs=-1)]: Done  33 tasks      | elapsed:  4.8min\n",
      "[Parallel(n_jobs=-1)]: Done  42 tasks      | elapsed:  6.8min\n",
      "[Parallel(n_jobs=-1)]: Done  53 tasks      | elapsed:  9.4min\n",
      "[Parallel(n_jobs=-1)]: Done  64 tasks      | elapsed: 12.0min\n",
      "[Parallel(n_jobs=-1)]: Done  77 tasks      | elapsed: 13.8min\n",
      "[Parallel(n_jobs=-1)]: Done  90 tasks      | elapsed: 15.8min\n",
      "[Parallel(n_jobs=-1)]: Done 108 out of 108 | elapsed: 18.0min finished\n"
     ]
    },
    {
     "name": "stdout",
     "output_type": "stream",
     "text": [
      "Fitting 3 folds for each of 36 candidates, totalling 108 fits\n"
     ]
    },
    {
     "name": "stderr",
     "output_type": "stream",
     "text": [
      "[Parallel(n_jobs=-1)]: Using backend LokyBackend with 4 concurrent workers.\n",
      "[Parallel(n_jobs=-1)]: Done   5 tasks      | elapsed:   40.8s\n",
      "[Parallel(n_jobs=-1)]: Done  10 tasks      | elapsed:   57.0s\n",
      "[Parallel(n_jobs=-1)]: Done  17 tasks      | elapsed:  1.5min\n",
      "[Parallel(n_jobs=-1)]: Done  24 tasks      | elapsed:  2.0min\n",
      "[Parallel(n_jobs=-1)]: Done  33 tasks      | elapsed:  4.0min\n",
      "[Parallel(n_jobs=-1)]: Done  42 tasks      | elapsed:  5.8min\n",
      "[Parallel(n_jobs=-1)]: Done  53 tasks      | elapsed:  8.7min\n",
      "[Parallel(n_jobs=-1)]: Done  64 tasks      | elapsed: 11.0min\n",
      "[Parallel(n_jobs=-1)]: Done  77 tasks      | elapsed: 12.6min\n",
      "[Parallel(n_jobs=-1)]: Done  90 tasks      | elapsed: 14.6min\n",
      "[Parallel(n_jobs=-1)]: Done 108 out of 108 | elapsed: 16.3min finished\n"
     ]
    },
    {
     "name": "stdout",
     "output_type": "stream",
     "text": [
      "Fitting 3 folds for each of 36 candidates, totalling 108 fits\n"
     ]
    },
    {
     "name": "stderr",
     "output_type": "stream",
     "text": [
      "[Parallel(n_jobs=-1)]: Using backend LokyBackend with 4 concurrent workers.\n",
      "[Parallel(n_jobs=-1)]: Done   5 tasks      | elapsed:   36.1s\n",
      "[Parallel(n_jobs=-1)]: Done  10 tasks      | elapsed:   52.8s\n",
      "[Parallel(n_jobs=-1)]: Done  17 tasks      | elapsed:  1.4min\n",
      "[Parallel(n_jobs=-1)]: Done  24 tasks      | elapsed:  1.9min\n",
      "[Parallel(n_jobs=-1)]: Done  33 tasks      | elapsed:  4.6min\n",
      "[Parallel(n_jobs=-1)]: Done  42 tasks      | elapsed:  6.2min\n",
      "[Parallel(n_jobs=-1)]: Done  53 tasks      | elapsed:  9.0min\n",
      "[Parallel(n_jobs=-1)]: Done  64 tasks      | elapsed: 11.1min\n",
      "[Parallel(n_jobs=-1)]: Done  77 tasks      | elapsed: 12.9min\n",
      "[Parallel(n_jobs=-1)]: Done  90 tasks      | elapsed: 14.8min\n",
      "[Parallel(n_jobs=-1)]: Done 108 out of 108 | elapsed: 16.4min finished\n"
     ]
    },
    {
     "name": "stdout",
     "output_type": "stream",
     "text": [
      "Fitting 3 folds for each of 36 candidates, totalling 108 fits\n"
     ]
    },
    {
     "name": "stderr",
     "output_type": "stream",
     "text": [
      "[Parallel(n_jobs=-1)]: Using backend LokyBackend with 4 concurrent workers.\n",
      "[Parallel(n_jobs=-1)]: Done   5 tasks      | elapsed:   37.5s\n",
      "[Parallel(n_jobs=-1)]: Done  10 tasks      | elapsed:   55.0s\n",
      "[Parallel(n_jobs=-1)]: Done  17 tasks      | elapsed:  1.4min\n",
      "[Parallel(n_jobs=-1)]: Done  24 tasks      | elapsed:  2.0min\n",
      "[Parallel(n_jobs=-1)]: Done  33 tasks      | elapsed:  4.2min\n",
      "[Parallel(n_jobs=-1)]: Done  42 tasks      | elapsed:  6.3min\n",
      "[Parallel(n_jobs=-1)]: Done  53 tasks      | elapsed:  9.2min\n",
      "[Parallel(n_jobs=-1)]: Done  64 tasks      | elapsed: 11.3min\n",
      "[Parallel(n_jobs=-1)]: Done  77 tasks      | elapsed: 13.1min\n",
      "[Parallel(n_jobs=-1)]: Done  90 tasks      | elapsed: 15.3min\n",
      "[Parallel(n_jobs=-1)]: Done 108 out of 108 | elapsed: 17.1min finished\n"
     ]
    },
    {
     "name": "stdout",
     "output_type": "stream",
     "text": [
      "Fitting 3 folds for each of 36 candidates, totalling 108 fits\n"
     ]
    },
    {
     "name": "stderr",
     "output_type": "stream",
     "text": [
      "[Parallel(n_jobs=-1)]: Using backend LokyBackend with 4 concurrent workers.\n",
      "[Parallel(n_jobs=-1)]: Done   5 tasks      | elapsed:   35.2s\n",
      "[Parallel(n_jobs=-1)]: Done  10 tasks      | elapsed:   55.2s\n",
      "[Parallel(n_jobs=-1)]: Done  17 tasks      | elapsed:  1.4min\n",
      "[Parallel(n_jobs=-1)]: Done  24 tasks      | elapsed:  1.9min\n",
      "[Parallel(n_jobs=-1)]: Done  33 tasks      | elapsed:  3.7min\n",
      "[Parallel(n_jobs=-1)]: Done  42 tasks      | elapsed:  6.3min\n",
      "[Parallel(n_jobs=-1)]: Done  53 tasks      | elapsed:  8.9min\n",
      "[Parallel(n_jobs=-1)]: Done  64 tasks      | elapsed: 11.6min\n",
      "[Parallel(n_jobs=-1)]: Done  77 tasks      | elapsed: 13.5min\n",
      "[Parallel(n_jobs=-1)]: Done  90 tasks      | elapsed: 15.6min\n",
      "[Parallel(n_jobs=-1)]: Done 108 out of 108 | elapsed: 17.5min finished\n"
     ]
    }
   ],
   "source": [
    "paramsM = {'activation' : ['identity', 'logistic', 'tanh', 'relu'], \n",
    "          'solver' : ['lbfgs', 'sgd', 'adam'],\n",
    "          'alpha':[0.1, 0.001, 0.0001]}\n",
    "grid = GridSearchCV(MLPRegressor(max_iter=10000), param_grid=paramsM, cv=3, n_jobs=-1, scoring='neg_mean_squared_error', verbose=10)\n",
    "cv_results = cross_validate(grid, x1, y_train,\n",
    "                            scoring=('neg_mean_squared_error', 'neg_mean_absolute_error','r2'),cv=5, return_train_score=True)"
   ]
  },
  {
   "cell_type": "code",
   "execution_count": 31,
   "metadata": {},
   "outputs": [
    {
     "data": {
      "text/html": [
       "<div>\n",
       "<style scoped>\n",
       "    .dataframe tbody tr th:only-of-type {\n",
       "        vertical-align: middle;\n",
       "    }\n",
       "\n",
       "    .dataframe tbody tr th {\n",
       "        vertical-align: top;\n",
       "    }\n",
       "\n",
       "    .dataframe thead th {\n",
       "        text-align: right;\n",
       "    }\n",
       "</style>\n",
       "<table border=\"1\" class=\"dataframe\">\n",
       "  <thead>\n",
       "    <tr style=\"text-align: right;\">\n",
       "      <th></th>\n",
       "      <th>Model</th>\n",
       "      <th>Type_of_Search</th>\n",
       "      <th>fit_time</th>\n",
       "      <th>test_neg_mean_absolute_error</th>\n",
       "      <th>test_neg_mean_squared_error</th>\n",
       "      <th>test_r2</th>\n",
       "      <th>train_neg_mean_absolute_error</th>\n",
       "      <th>train_neg_mean_squared_error</th>\n",
       "      <th>train_r2</th>\n",
       "    </tr>\n",
       "  </thead>\n",
       "  <tbody>\n",
       "    <tr>\n",
       "      <th>0</th>\n",
       "      <td>KNeighborsRegressor()</td>\n",
       "      <td>GridSearchCv</td>\n",
       "      <td>57.538566</td>\n",
       "      <td>-0.405359</td>\n",
       "      <td>-0.211560</td>\n",
       "      <td>0.146550</td>\n",
       "      <td>-0.342298</td>\n",
       "      <td>-0.159380</td>\n",
       "      <td>0.362111</td>\n",
       "    </tr>\n",
       "    <tr>\n",
       "      <th>1</th>\n",
       "      <td>KNeighborsRegressor()</td>\n",
       "      <td>RandomizedSearchCV</td>\n",
       "      <td>51.528217</td>\n",
       "      <td>-0.405359</td>\n",
       "      <td>-0.211560</td>\n",
       "      <td>0.146550</td>\n",
       "      <td>-0.342298</td>\n",
       "      <td>-0.159380</td>\n",
       "      <td>0.362111</td>\n",
       "    </tr>\n",
       "    <tr>\n",
       "      <th>2</th>\n",
       "      <td>LogisticRegression()</td>\n",
       "      <td>GridSearchCV</td>\n",
       "      <td>1.976412</td>\n",
       "      <td>-0.219089</td>\n",
       "      <td>-0.219089</td>\n",
       "      <td>0.123575</td>\n",
       "      <td>-0.117268</td>\n",
       "      <td>-0.117268</td>\n",
       "      <td>0.530893</td>\n",
       "    </tr>\n",
       "    <tr>\n",
       "      <th>3</th>\n",
       "      <td>LogisticRegression()</td>\n",
       "      <td>RandomizedSearchCV</td>\n",
       "      <td>1.872318</td>\n",
       "      <td>-0.219089</td>\n",
       "      <td>-0.219089</td>\n",
       "      <td>0.123575</td>\n",
       "      <td>-0.117268</td>\n",
       "      <td>-0.117268</td>\n",
       "      <td>0.530893</td>\n",
       "    </tr>\n",
       "    <tr>\n",
       "      <th>4</th>\n",
       "      <td>DecisionTreeRegressor()</td>\n",
       "      <td>GridSearchCV</td>\n",
       "      <td>74.335318</td>\n",
       "      <td>-0.308674</td>\n",
       "      <td>-0.174669</td>\n",
       "      <td>0.295722</td>\n",
       "      <td>-0.233775</td>\n",
       "      <td>-0.116887</td>\n",
       "      <td>0.532182</td>\n",
       "    </tr>\n",
       "    <tr>\n",
       "      <th>5</th>\n",
       "      <td>DecisionTreeRegressor()</td>\n",
       "      <td>RandomizedSearchCV</td>\n",
       "      <td>25.825730</td>\n",
       "      <td>-0.308306</td>\n",
       "      <td>-0.178904</td>\n",
       "      <td>0.278364</td>\n",
       "      <td>-0.229674</td>\n",
       "      <td>-0.114837</td>\n",
       "      <td>0.540403</td>\n",
       "    </tr>\n",
       "    <tr>\n",
       "      <th>6</th>\n",
       "      <td>MLPRegressor()</td>\n",
       "      <td>GridSearchCV</td>\n",
       "      <td>1052.335578</td>\n",
       "      <td>-0.361469</td>\n",
       "      <td>-0.188195</td>\n",
       "      <td>0.241424</td>\n",
       "      <td>-0.259080</td>\n",
       "      <td>-0.102066</td>\n",
       "      <td>0.591432</td>\n",
       "    </tr>\n",
       "  </tbody>\n",
       "</table>\n",
       "</div>"
      ],
      "text/plain": [
       "                     Model      Type_of_Search     fit_time  \\\n",
       "0    KNeighborsRegressor()        GridSearchCv    57.538566   \n",
       "1    KNeighborsRegressor()  RandomizedSearchCV    51.528217   \n",
       "2     LogisticRegression()        GridSearchCV     1.976412   \n",
       "3     LogisticRegression()  RandomizedSearchCV     1.872318   \n",
       "4  DecisionTreeRegressor()        GridSearchCV    74.335318   \n",
       "5  DecisionTreeRegressor()  RandomizedSearchCV    25.825730   \n",
       "6           MLPRegressor()        GridSearchCV  1052.335578   \n",
       "\n",
       "   test_neg_mean_absolute_error  test_neg_mean_squared_error   test_r2  \\\n",
       "0                     -0.405359                    -0.211560  0.146550   \n",
       "1                     -0.405359                    -0.211560  0.146550   \n",
       "2                     -0.219089                    -0.219089  0.123575   \n",
       "3                     -0.219089                    -0.219089  0.123575   \n",
       "4                     -0.308674                    -0.174669  0.295722   \n",
       "5                     -0.308306                    -0.178904  0.278364   \n",
       "6                     -0.361469                    -0.188195  0.241424   \n",
       "\n",
       "   train_neg_mean_absolute_error  train_neg_mean_squared_error  train_r2  \n",
       "0                      -0.342298                     -0.159380  0.362111  \n",
       "1                      -0.342298                     -0.159380  0.362111  \n",
       "2                      -0.117268                     -0.117268  0.530893  \n",
       "3                      -0.117268                     -0.117268  0.530893  \n",
       "4                      -0.233775                     -0.116887  0.532182  \n",
       "5                      -0.229674                     -0.114837  0.540403  \n",
       "6                      -0.259080                     -0.102066  0.591432  "
      ]
     },
     "execution_count": 31,
     "metadata": {},
     "output_type": "execute_result"
    }
   ],
   "source": [
    "a=cv_results['train_neg_mean_squared_error'].mean()\n",
    "b=cv_results['train_neg_mean_absolute_error'].mean()\n",
    "c=cv_results['train_r2'].mean()\n",
    "d=cv_results['test_neg_mean_squared_error'].mean()\n",
    "e=cv_results['test_neg_mean_absolute_error'].mean()\n",
    "f=cv_results['test_r2'].mean()\n",
    "g=cv_results['fit_time'].mean()\n",
    "df=df.append( {'Type_of_Search':'GridSearchCV','Model':'MLPRegressor()','train_neg_mean_squared_error':a,\n",
    "               'train_neg_mean_absolute_error':b, 'train_r2':c,\n",
    "               'test_neg_mean_squared_error':d,'test_neg_mean_absolute_error':e,\n",
    "               'test_r2':f, 'fit_time':g}, ignore_index=True)\n",
    "df"
   ]
  },
  {
   "cell_type": "code",
   "execution_count": 32,
   "metadata": {},
   "outputs": [
    {
     "name": "stdout",
     "output_type": "stream",
     "text": [
      "Fitting 3 folds for each of 20 candidates, totalling 60 fits\n"
     ]
    },
    {
     "name": "stderr",
     "output_type": "stream",
     "text": [
      "[Parallel(n_jobs=-1)]: Using backend LokyBackend with 4 concurrent workers.\n",
      "[Parallel(n_jobs=-1)]: Done   5 tasks      | elapsed:  1.5min\n",
      "[Parallel(n_jobs=-1)]: Done  10 tasks      | elapsed:  2.6min\n",
      "[Parallel(n_jobs=-1)]: Done  17 tasks      | elapsed:  5.5min\n",
      "[Parallel(n_jobs=-1)]: Done  24 tasks      | elapsed:  6.3min\n",
      "[Parallel(n_jobs=-1)]: Done  33 tasks      | elapsed:  7.2min\n",
      "[Parallel(n_jobs=-1)]: Done  42 tasks      | elapsed:  8.0min\n",
      "[Parallel(n_jobs=-1)]: Done  53 tasks      | elapsed:  8.9min\n",
      "[Parallel(n_jobs=-1)]: Done  60 out of  60 | elapsed:  9.6min remaining:    0.0s\n",
      "[Parallel(n_jobs=-1)]: Done  60 out of  60 | elapsed:  9.6min finished\n"
     ]
    },
    {
     "name": "stdout",
     "output_type": "stream",
     "text": [
      "Fitting 3 folds for each of 20 candidates, totalling 60 fits\n"
     ]
    },
    {
     "name": "stderr",
     "output_type": "stream",
     "text": [
      "[Parallel(n_jobs=-1)]: Using backend LokyBackend with 4 concurrent workers.\n",
      "[Parallel(n_jobs=-1)]: Done   5 tasks      | elapsed:   30.9s\n",
      "[Parallel(n_jobs=-1)]: Done  10 tasks      | elapsed:   58.3s\n",
      "[Parallel(n_jobs=-1)]: Done  17 tasks      | elapsed:  1.7min\n",
      "[Parallel(n_jobs=-1)]: Done  24 tasks      | elapsed:  2.4min\n",
      "[Parallel(n_jobs=-1)]: Done  33 tasks      | elapsed:  5.9min\n",
      "[Parallel(n_jobs=-1)]: Done  42 tasks      | elapsed:  6.5min\n",
      "[Parallel(n_jobs=-1)]: Done  53 tasks      | elapsed:  8.2min\n",
      "[Parallel(n_jobs=-1)]: Done  60 out of  60 | elapsed:  8.9min remaining:    0.0s\n",
      "[Parallel(n_jobs=-1)]: Done  60 out of  60 | elapsed:  8.9min finished\n"
     ]
    },
    {
     "name": "stdout",
     "output_type": "stream",
     "text": [
      "Fitting 3 folds for each of 20 candidates, totalling 60 fits\n"
     ]
    },
    {
     "name": "stderr",
     "output_type": "stream",
     "text": [
      "[Parallel(n_jobs=-1)]: Using backend LokyBackend with 4 concurrent workers.\n",
      "[Parallel(n_jobs=-1)]: Done   5 tasks      | elapsed:   53.1s\n",
      "[Parallel(n_jobs=-1)]: Done  10 tasks      | elapsed:  1.7min\n",
      "[Parallel(n_jobs=-1)]: Done  17 tasks      | elapsed:  4.0min\n",
      "[Parallel(n_jobs=-1)]: Done  24 tasks      | elapsed:  6.5min\n",
      "[Parallel(n_jobs=-1)]: Done  33 tasks      | elapsed:  7.0min\n",
      "[Parallel(n_jobs=-1)]: Done  42 tasks      | elapsed:  8.1min\n",
      "[Parallel(n_jobs=-1)]: Done  53 tasks      | elapsed: 11.2min\n",
      "[Parallel(n_jobs=-1)]: Done  60 out of  60 | elapsed: 12.3min remaining:    0.0s\n",
      "[Parallel(n_jobs=-1)]: Done  60 out of  60 | elapsed: 12.3min finished\n"
     ]
    },
    {
     "name": "stdout",
     "output_type": "stream",
     "text": [
      "Fitting 3 folds for each of 20 candidates, totalling 60 fits\n"
     ]
    },
    {
     "name": "stderr",
     "output_type": "stream",
     "text": [
      "[Parallel(n_jobs=-1)]: Using backend LokyBackend with 4 concurrent workers.\n",
      "[Parallel(n_jobs=-1)]: Done   5 tasks      | elapsed:  1.4min\n",
      "[Parallel(n_jobs=-1)]: Done  10 tasks      | elapsed:  3.3min\n",
      "[Parallel(n_jobs=-1)]: Done  17 tasks      | elapsed:  4.3min\n",
      "[Parallel(n_jobs=-1)]: Done  24 tasks      | elapsed:  5.8min\n",
      "[Parallel(n_jobs=-1)]: Done  33 tasks      | elapsed:  9.0min\n",
      "[Parallel(n_jobs=-1)]: Done  42 tasks      | elapsed: 11.0min\n",
      "[Parallel(n_jobs=-1)]: Done  53 tasks      | elapsed: 12.6min\n",
      "[Parallel(n_jobs=-1)]: Done  60 out of  60 | elapsed: 13.5min remaining:    0.0s\n",
      "[Parallel(n_jobs=-1)]: Done  60 out of  60 | elapsed: 13.5min finished\n"
     ]
    },
    {
     "name": "stdout",
     "output_type": "stream",
     "text": [
      "Fitting 3 folds for each of 20 candidates, totalling 60 fits\n"
     ]
    },
    {
     "name": "stderr",
     "output_type": "stream",
     "text": [
      "[Parallel(n_jobs=-1)]: Using backend LokyBackend with 4 concurrent workers.\n",
      "[Parallel(n_jobs=-1)]: Done   5 tasks      | elapsed:  2.2min\n",
      "[Parallel(n_jobs=-1)]: Done  10 tasks      | elapsed:  4.1min\n",
      "[Parallel(n_jobs=-1)]: Done  17 tasks      | elapsed:  5.3min\n",
      "[Parallel(n_jobs=-1)]: Done  24 tasks      | elapsed:  6.4min\n",
      "[Parallel(n_jobs=-1)]: Done  33 tasks      | elapsed:  8.0min\n",
      "[Parallel(n_jobs=-1)]: Done  42 tasks      | elapsed: 10.2min\n",
      "[Parallel(n_jobs=-1)]: Done  53 tasks      | elapsed: 11.2min\n",
      "[Parallel(n_jobs=-1)]: Done  60 out of  60 | elapsed: 11.9min remaining:    0.0s\n",
      "[Parallel(n_jobs=-1)]: Done  60 out of  60 | elapsed: 11.9min finished\n"
     ]
    }
   ],
   "source": [
    "gs_random = RandomizedSearchCV(estimator=MLPRegressor(max_iter=10000), param_distributions=paramsM,\n",
    "                               scoring='neg_mean_squared_error', cv= 3,n_iter=20, iid=False, verbose=10, n_jobs=-1)\n",
    "cv_results = cross_validate(gs_random, x1, y_train,\n",
    "                            scoring=('neg_mean_squared_error', 'neg_mean_absolute_error','r2'),cv=5, return_train_score=True)"
   ]
  },
  {
   "cell_type": "code",
   "execution_count": 33,
   "metadata": {},
   "outputs": [
    {
     "data": {
      "text/html": [
       "<div>\n",
       "<style scoped>\n",
       "    .dataframe tbody tr th:only-of-type {\n",
       "        vertical-align: middle;\n",
       "    }\n",
       "\n",
       "    .dataframe tbody tr th {\n",
       "        vertical-align: top;\n",
       "    }\n",
       "\n",
       "    .dataframe thead th {\n",
       "        text-align: right;\n",
       "    }\n",
       "</style>\n",
       "<table border=\"1\" class=\"dataframe\">\n",
       "  <thead>\n",
       "    <tr style=\"text-align: right;\">\n",
       "      <th></th>\n",
       "      <th>Model</th>\n",
       "      <th>Type_of_Search</th>\n",
       "      <th>fit_time</th>\n",
       "      <th>test_neg_mean_absolute_error</th>\n",
       "      <th>test_neg_mean_squared_error</th>\n",
       "      <th>test_r2</th>\n",
       "      <th>train_neg_mean_absolute_error</th>\n",
       "      <th>train_neg_mean_squared_error</th>\n",
       "      <th>train_r2</th>\n",
       "    </tr>\n",
       "  </thead>\n",
       "  <tbody>\n",
       "    <tr>\n",
       "      <th>0</th>\n",
       "      <td>KNeighborsRegressor()</td>\n",
       "      <td>GridSearchCv</td>\n",
       "      <td>57.538566</td>\n",
       "      <td>-0.405359</td>\n",
       "      <td>-0.211560</td>\n",
       "      <td>0.146550</td>\n",
       "      <td>-0.342298</td>\n",
       "      <td>-0.159380</td>\n",
       "      <td>0.362111</td>\n",
       "    </tr>\n",
       "    <tr>\n",
       "      <th>1</th>\n",
       "      <td>KNeighborsRegressor()</td>\n",
       "      <td>RandomizedSearchCV</td>\n",
       "      <td>51.528217</td>\n",
       "      <td>-0.405359</td>\n",
       "      <td>-0.211560</td>\n",
       "      <td>0.146550</td>\n",
       "      <td>-0.342298</td>\n",
       "      <td>-0.159380</td>\n",
       "      <td>0.362111</td>\n",
       "    </tr>\n",
       "    <tr>\n",
       "      <th>2</th>\n",
       "      <td>LogisticRegression()</td>\n",
       "      <td>GridSearchCV</td>\n",
       "      <td>1.976412</td>\n",
       "      <td>-0.219089</td>\n",
       "      <td>-0.219089</td>\n",
       "      <td>0.123575</td>\n",
       "      <td>-0.117268</td>\n",
       "      <td>-0.117268</td>\n",
       "      <td>0.530893</td>\n",
       "    </tr>\n",
       "    <tr>\n",
       "      <th>3</th>\n",
       "      <td>LogisticRegression()</td>\n",
       "      <td>RandomizedSearchCV</td>\n",
       "      <td>1.872318</td>\n",
       "      <td>-0.219089</td>\n",
       "      <td>-0.219089</td>\n",
       "      <td>0.123575</td>\n",
       "      <td>-0.117268</td>\n",
       "      <td>-0.117268</td>\n",
       "      <td>0.530893</td>\n",
       "    </tr>\n",
       "    <tr>\n",
       "      <th>4</th>\n",
       "      <td>DecisionTreeRegressor()</td>\n",
       "      <td>GridSearchCV</td>\n",
       "      <td>74.335318</td>\n",
       "      <td>-0.308674</td>\n",
       "      <td>-0.174669</td>\n",
       "      <td>0.295722</td>\n",
       "      <td>-0.233775</td>\n",
       "      <td>-0.116887</td>\n",
       "      <td>0.532182</td>\n",
       "    </tr>\n",
       "    <tr>\n",
       "      <th>5</th>\n",
       "      <td>DecisionTreeRegressor()</td>\n",
       "      <td>RandomizedSearchCV</td>\n",
       "      <td>25.825730</td>\n",
       "      <td>-0.308306</td>\n",
       "      <td>-0.178904</td>\n",
       "      <td>0.278364</td>\n",
       "      <td>-0.229674</td>\n",
       "      <td>-0.114837</td>\n",
       "      <td>0.540403</td>\n",
       "    </tr>\n",
       "    <tr>\n",
       "      <th>6</th>\n",
       "      <td>MLPRegressor()</td>\n",
       "      <td>GridSearchCV</td>\n",
       "      <td>1052.335578</td>\n",
       "      <td>-0.361469</td>\n",
       "      <td>-0.188195</td>\n",
       "      <td>0.241424</td>\n",
       "      <td>-0.259080</td>\n",
       "      <td>-0.102066</td>\n",
       "      <td>0.591432</td>\n",
       "    </tr>\n",
       "    <tr>\n",
       "      <th>7</th>\n",
       "      <td>MLPRegressor()</td>\n",
       "      <td>RandomizedSearchCV</td>\n",
       "      <td>708.481184</td>\n",
       "      <td>-0.369802</td>\n",
       "      <td>-0.184784</td>\n",
       "      <td>0.255138</td>\n",
       "      <td>-0.310682</td>\n",
       "      <td>-0.127174</td>\n",
       "      <td>0.491017</td>\n",
       "    </tr>\n",
       "  </tbody>\n",
       "</table>\n",
       "</div>"
      ],
      "text/plain": [
       "                     Model      Type_of_Search     fit_time  \\\n",
       "0    KNeighborsRegressor()        GridSearchCv    57.538566   \n",
       "1    KNeighborsRegressor()  RandomizedSearchCV    51.528217   \n",
       "2     LogisticRegression()        GridSearchCV     1.976412   \n",
       "3     LogisticRegression()  RandomizedSearchCV     1.872318   \n",
       "4  DecisionTreeRegressor()        GridSearchCV    74.335318   \n",
       "5  DecisionTreeRegressor()  RandomizedSearchCV    25.825730   \n",
       "6           MLPRegressor()        GridSearchCV  1052.335578   \n",
       "7           MLPRegressor()  RandomizedSearchCV   708.481184   \n",
       "\n",
       "   test_neg_mean_absolute_error  test_neg_mean_squared_error   test_r2  \\\n",
       "0                     -0.405359                    -0.211560  0.146550   \n",
       "1                     -0.405359                    -0.211560  0.146550   \n",
       "2                     -0.219089                    -0.219089  0.123575   \n",
       "3                     -0.219089                    -0.219089  0.123575   \n",
       "4                     -0.308674                    -0.174669  0.295722   \n",
       "5                     -0.308306                    -0.178904  0.278364   \n",
       "6                     -0.361469                    -0.188195  0.241424   \n",
       "7                     -0.369802                    -0.184784  0.255138   \n",
       "\n",
       "   train_neg_mean_absolute_error  train_neg_mean_squared_error  train_r2  \n",
       "0                      -0.342298                     -0.159380  0.362111  \n",
       "1                      -0.342298                     -0.159380  0.362111  \n",
       "2                      -0.117268                     -0.117268  0.530893  \n",
       "3                      -0.117268                     -0.117268  0.530893  \n",
       "4                      -0.233775                     -0.116887  0.532182  \n",
       "5                      -0.229674                     -0.114837  0.540403  \n",
       "6                      -0.259080                     -0.102066  0.591432  \n",
       "7                      -0.310682                     -0.127174  0.491017  "
      ]
     },
     "execution_count": 33,
     "metadata": {},
     "output_type": "execute_result"
    }
   ],
   "source": [
    "a=cv_results['train_neg_mean_squared_error'].mean()\n",
    "b=cv_results['train_neg_mean_absolute_error'].mean()\n",
    "c=cv_results['train_r2'].mean()\n",
    "d=cv_results['test_neg_mean_squared_error'].mean()\n",
    "e=cv_results['test_neg_mean_absolute_error'].mean()\n",
    "f=cv_results['test_r2'].mean()\n",
    "g=cv_results['fit_time'].mean()\n",
    "df=df.append( {'Type_of_Search':'RandomizedSearchCV','Model':'MLPRegressor()','train_neg_mean_squared_error':a,\n",
    "               'train_neg_mean_absolute_error':b, 'train_r2':c,\n",
    "               'test_neg_mean_squared_error':d,'test_neg_mean_absolute_error':e,\n",
    "               'test_r2':f, 'fit_time':g}, ignore_index=True)\n",
    "df"
   ]
  },
  {
   "cell_type": "code",
   "execution_count": 34,
   "metadata": {},
   "outputs": [
    {
     "data": {
      "text/html": [
       "<div>\n",
       "<style scoped>\n",
       "    .dataframe tbody tr th:only-of-type {\n",
       "        vertical-align: middle;\n",
       "    }\n",
       "\n",
       "    .dataframe tbody tr th {\n",
       "        vertical-align: top;\n",
       "    }\n",
       "\n",
       "    .dataframe thead th {\n",
       "        text-align: right;\n",
       "    }\n",
       "</style>\n",
       "<table border=\"1\" class=\"dataframe\">\n",
       "  <thead>\n",
       "    <tr style=\"text-align: right;\">\n",
       "      <th></th>\n",
       "      <th>Model</th>\n",
       "      <th>Type_of_Search</th>\n",
       "      <th>fit_time</th>\n",
       "      <th>test_neg_mean_absolute_error</th>\n",
       "      <th>test_neg_mean_squared_error</th>\n",
       "      <th>test_r2</th>\n",
       "      <th>train_neg_mean_absolute_error</th>\n",
       "      <th>train_neg_mean_squared_error</th>\n",
       "      <th>train_r2</th>\n",
       "    </tr>\n",
       "  </thead>\n",
       "  <tbody>\n",
       "    <tr>\n",
       "      <th>0</th>\n",
       "      <td>KNeighborsRegressor()</td>\n",
       "      <td>GridSearchCv</td>\n",
       "      <td>57.538566</td>\n",
       "      <td>0.405359</td>\n",
       "      <td>0.211560</td>\n",
       "      <td>0.146550</td>\n",
       "      <td>0.342298</td>\n",
       "      <td>0.159380</td>\n",
       "      <td>0.362111</td>\n",
       "    </tr>\n",
       "    <tr>\n",
       "      <th>1</th>\n",
       "      <td>KNeighborsRegressor()</td>\n",
       "      <td>RandomizedSearchCV</td>\n",
       "      <td>51.528217</td>\n",
       "      <td>0.405359</td>\n",
       "      <td>0.211560</td>\n",
       "      <td>0.146550</td>\n",
       "      <td>0.342298</td>\n",
       "      <td>0.159380</td>\n",
       "      <td>0.362111</td>\n",
       "    </tr>\n",
       "    <tr>\n",
       "      <th>2</th>\n",
       "      <td>LogisticRegression()</td>\n",
       "      <td>GridSearchCV</td>\n",
       "      <td>1.976412</td>\n",
       "      <td>0.219089</td>\n",
       "      <td>0.219089</td>\n",
       "      <td>0.123575</td>\n",
       "      <td>0.117268</td>\n",
       "      <td>0.117268</td>\n",
       "      <td>0.530893</td>\n",
       "    </tr>\n",
       "    <tr>\n",
       "      <th>3</th>\n",
       "      <td>LogisticRegression()</td>\n",
       "      <td>RandomizedSearchCV</td>\n",
       "      <td>1.872318</td>\n",
       "      <td>0.219089</td>\n",
       "      <td>0.219089</td>\n",
       "      <td>0.123575</td>\n",
       "      <td>0.117268</td>\n",
       "      <td>0.117268</td>\n",
       "      <td>0.530893</td>\n",
       "    </tr>\n",
       "    <tr>\n",
       "      <th>4</th>\n",
       "      <td>DecisionTreeRegressor()</td>\n",
       "      <td>GridSearchCV</td>\n",
       "      <td>74.335318</td>\n",
       "      <td>0.308674</td>\n",
       "      <td>0.174669</td>\n",
       "      <td>0.295722</td>\n",
       "      <td>0.233775</td>\n",
       "      <td>0.116887</td>\n",
       "      <td>0.532182</td>\n",
       "    </tr>\n",
       "    <tr>\n",
       "      <th>5</th>\n",
       "      <td>DecisionTreeRegressor()</td>\n",
       "      <td>RandomizedSearchCV</td>\n",
       "      <td>25.825730</td>\n",
       "      <td>0.308306</td>\n",
       "      <td>0.178904</td>\n",
       "      <td>0.278364</td>\n",
       "      <td>0.229674</td>\n",
       "      <td>0.114837</td>\n",
       "      <td>0.540403</td>\n",
       "    </tr>\n",
       "    <tr>\n",
       "      <th>6</th>\n",
       "      <td>MLPRegressor()</td>\n",
       "      <td>GridSearchCV</td>\n",
       "      <td>1052.335578</td>\n",
       "      <td>0.361469</td>\n",
       "      <td>0.188195</td>\n",
       "      <td>0.241424</td>\n",
       "      <td>0.259080</td>\n",
       "      <td>0.102066</td>\n",
       "      <td>0.591432</td>\n",
       "    </tr>\n",
       "    <tr>\n",
       "      <th>7</th>\n",
       "      <td>MLPRegressor()</td>\n",
       "      <td>RandomizedSearchCV</td>\n",
       "      <td>708.481184</td>\n",
       "      <td>0.369802</td>\n",
       "      <td>0.184784</td>\n",
       "      <td>0.255138</td>\n",
       "      <td>0.310682</td>\n",
       "      <td>0.127174</td>\n",
       "      <td>0.491017</td>\n",
       "    </tr>\n",
       "  </tbody>\n",
       "</table>\n",
       "</div>"
      ],
      "text/plain": [
       "                     Model      Type_of_Search     fit_time  \\\n",
       "0    KNeighborsRegressor()        GridSearchCv    57.538566   \n",
       "1    KNeighborsRegressor()  RandomizedSearchCV    51.528217   \n",
       "2     LogisticRegression()        GridSearchCV     1.976412   \n",
       "3     LogisticRegression()  RandomizedSearchCV     1.872318   \n",
       "4  DecisionTreeRegressor()        GridSearchCV    74.335318   \n",
       "5  DecisionTreeRegressor()  RandomizedSearchCV    25.825730   \n",
       "6           MLPRegressor()        GridSearchCV  1052.335578   \n",
       "7           MLPRegressor()  RandomizedSearchCV   708.481184   \n",
       "\n",
       "   test_neg_mean_absolute_error  test_neg_mean_squared_error   test_r2  \\\n",
       "0                      0.405359                     0.211560  0.146550   \n",
       "1                      0.405359                     0.211560  0.146550   \n",
       "2                      0.219089                     0.219089  0.123575   \n",
       "3                      0.219089                     0.219089  0.123575   \n",
       "4                      0.308674                     0.174669  0.295722   \n",
       "5                      0.308306                     0.178904  0.278364   \n",
       "6                      0.361469                     0.188195  0.241424   \n",
       "7                      0.369802                     0.184784  0.255138   \n",
       "\n",
       "   train_neg_mean_absolute_error  train_neg_mean_squared_error  train_r2  \n",
       "0                       0.342298                      0.159380  0.362111  \n",
       "1                       0.342298                      0.159380  0.362111  \n",
       "2                       0.117268                      0.117268  0.530893  \n",
       "3                       0.117268                      0.117268  0.530893  \n",
       "4                       0.233775                      0.116887  0.532182  \n",
       "5                       0.229674                      0.114837  0.540403  \n",
       "6                       0.259080                      0.102066  0.591432  \n",
       "7                       0.310682                      0.127174  0.491017  "
      ]
     },
     "execution_count": 34,
     "metadata": {},
     "output_type": "execute_result"
    }
   ],
   "source": [
    "df['train_neg_mean_squared_error']=df['train_neg_mean_squared_error'].abs()\n",
    "df['train_neg_mean_absolute_error']=df['train_neg_mean_absolute_error'].abs()\n",
    "df['test_neg_mean_squared_error']=df['test_neg_mean_squared_error'].abs()\n",
    "df['test_neg_mean_absolute_error']=df['test_neg_mean_absolute_error'].abs()\n",
    "df"
   ]
  },
  {
   "cell_type": "code",
   "execution_count": 35,
   "metadata": {},
   "outputs": [
    {
     "data": {
      "text/html": [
       "<div>\n",
       "<style scoped>\n",
       "    .dataframe tbody tr th:only-of-type {\n",
       "        vertical-align: middle;\n",
       "    }\n",
       "\n",
       "    .dataframe tbody tr th {\n",
       "        vertical-align: top;\n",
       "    }\n",
       "\n",
       "    .dataframe thead th {\n",
       "        text-align: right;\n",
       "    }\n",
       "</style>\n",
       "<table border=\"1\" class=\"dataframe\">\n",
       "  <thead>\n",
       "    <tr style=\"text-align: right;\">\n",
       "      <th></th>\n",
       "      <th>Model</th>\n",
       "      <th>Type_of_Search</th>\n",
       "      <th>fit_time</th>\n",
       "      <th>test_mean_absolute_error</th>\n",
       "      <th>test_mean_squared_error</th>\n",
       "      <th>test_r2</th>\n",
       "      <th>train_mean_absolute_error</th>\n",
       "      <th>train_mean_squared_error</th>\n",
       "      <th>train_r2</th>\n",
       "    </tr>\n",
       "  </thead>\n",
       "  <tbody>\n",
       "    <tr>\n",
       "      <th>0</th>\n",
       "      <td>KNeighborsRegressor()</td>\n",
       "      <td>GridSearchCv</td>\n",
       "      <td>57.538566</td>\n",
       "      <td>0.405359</td>\n",
       "      <td>0.211560</td>\n",
       "      <td>0.146550</td>\n",
       "      <td>0.342298</td>\n",
       "      <td>0.159380</td>\n",
       "      <td>0.362111</td>\n",
       "    </tr>\n",
       "    <tr>\n",
       "      <th>1</th>\n",
       "      <td>KNeighborsRegressor()</td>\n",
       "      <td>RandomizedSearchCV</td>\n",
       "      <td>51.528217</td>\n",
       "      <td>0.405359</td>\n",
       "      <td>0.211560</td>\n",
       "      <td>0.146550</td>\n",
       "      <td>0.342298</td>\n",
       "      <td>0.159380</td>\n",
       "      <td>0.362111</td>\n",
       "    </tr>\n",
       "    <tr>\n",
       "      <th>2</th>\n",
       "      <td>LogisticRegression()</td>\n",
       "      <td>GridSearchCV</td>\n",
       "      <td>1.976412</td>\n",
       "      <td>0.219089</td>\n",
       "      <td>0.219089</td>\n",
       "      <td>0.123575</td>\n",
       "      <td>0.117268</td>\n",
       "      <td>0.117268</td>\n",
       "      <td>0.530893</td>\n",
       "    </tr>\n",
       "    <tr>\n",
       "      <th>3</th>\n",
       "      <td>LogisticRegression()</td>\n",
       "      <td>RandomizedSearchCV</td>\n",
       "      <td>1.872318</td>\n",
       "      <td>0.219089</td>\n",
       "      <td>0.219089</td>\n",
       "      <td>0.123575</td>\n",
       "      <td>0.117268</td>\n",
       "      <td>0.117268</td>\n",
       "      <td>0.530893</td>\n",
       "    </tr>\n",
       "    <tr>\n",
       "      <th>4</th>\n",
       "      <td>DecisionTreeRegressor()</td>\n",
       "      <td>GridSearchCV</td>\n",
       "      <td>74.335318</td>\n",
       "      <td>0.308674</td>\n",
       "      <td>0.174669</td>\n",
       "      <td>0.295722</td>\n",
       "      <td>0.233775</td>\n",
       "      <td>0.116887</td>\n",
       "      <td>0.532182</td>\n",
       "    </tr>\n",
       "    <tr>\n",
       "      <th>5</th>\n",
       "      <td>DecisionTreeRegressor()</td>\n",
       "      <td>RandomizedSearchCV</td>\n",
       "      <td>25.825730</td>\n",
       "      <td>0.308306</td>\n",
       "      <td>0.178904</td>\n",
       "      <td>0.278364</td>\n",
       "      <td>0.229674</td>\n",
       "      <td>0.114837</td>\n",
       "      <td>0.540403</td>\n",
       "    </tr>\n",
       "    <tr>\n",
       "      <th>6</th>\n",
       "      <td>MLPRegressor()</td>\n",
       "      <td>GridSearchCV</td>\n",
       "      <td>1052.335578</td>\n",
       "      <td>0.361469</td>\n",
       "      <td>0.188195</td>\n",
       "      <td>0.241424</td>\n",
       "      <td>0.259080</td>\n",
       "      <td>0.102066</td>\n",
       "      <td>0.591432</td>\n",
       "    </tr>\n",
       "    <tr>\n",
       "      <th>7</th>\n",
       "      <td>MLPRegressor()</td>\n",
       "      <td>RandomizedSearchCV</td>\n",
       "      <td>708.481184</td>\n",
       "      <td>0.369802</td>\n",
       "      <td>0.184784</td>\n",
       "      <td>0.255138</td>\n",
       "      <td>0.310682</td>\n",
       "      <td>0.127174</td>\n",
       "      <td>0.491017</td>\n",
       "    </tr>\n",
       "  </tbody>\n",
       "</table>\n",
       "</div>"
      ],
      "text/plain": [
       "                     Model      Type_of_Search     fit_time  \\\n",
       "0    KNeighborsRegressor()        GridSearchCv    57.538566   \n",
       "1    KNeighborsRegressor()  RandomizedSearchCV    51.528217   \n",
       "2     LogisticRegression()        GridSearchCV     1.976412   \n",
       "3     LogisticRegression()  RandomizedSearchCV     1.872318   \n",
       "4  DecisionTreeRegressor()        GridSearchCV    74.335318   \n",
       "5  DecisionTreeRegressor()  RandomizedSearchCV    25.825730   \n",
       "6           MLPRegressor()        GridSearchCV  1052.335578   \n",
       "7           MLPRegressor()  RandomizedSearchCV   708.481184   \n",
       "\n",
       "   test_mean_absolute_error  test_mean_squared_error   test_r2  \\\n",
       "0                  0.405359                 0.211560  0.146550   \n",
       "1                  0.405359                 0.211560  0.146550   \n",
       "2                  0.219089                 0.219089  0.123575   \n",
       "3                  0.219089                 0.219089  0.123575   \n",
       "4                  0.308674                 0.174669  0.295722   \n",
       "5                  0.308306                 0.178904  0.278364   \n",
       "6                  0.361469                 0.188195  0.241424   \n",
       "7                  0.369802                 0.184784  0.255138   \n",
       "\n",
       "   train_mean_absolute_error  train_mean_squared_error  train_r2  \n",
       "0                   0.342298                  0.159380  0.362111  \n",
       "1                   0.342298                  0.159380  0.362111  \n",
       "2                   0.117268                  0.117268  0.530893  \n",
       "3                   0.117268                  0.117268  0.530893  \n",
       "4                   0.233775                  0.116887  0.532182  \n",
       "5                   0.229674                  0.114837  0.540403  \n",
       "6                   0.259080                  0.102066  0.591432  \n",
       "7                   0.310682                  0.127174  0.491017  "
      ]
     },
     "execution_count": 35,
     "metadata": {},
     "output_type": "execute_result"
    }
   ],
   "source": [
    "df = df.rename(columns={'train_neg_mean_squared_error': 'train_mean_squared_error', 'train_neg_mean_absolute_error': 'train_mean_absolute_error', \n",
    "                       'test_neg_mean_squared_error':'test_mean_squared_error','test_neg_mean_absolute_error':'test_mean_absolute_error'})\n",
    "df"
   ]
  },
  {
   "cell_type": "code",
   "execution_count": 36,
   "metadata": {},
   "outputs": [
    {
     "data": {
      "text/html": [
       "<style  type=\"text/css\" >\n",
       "    #T_18c126f0_7b2c_11e9_8ff4_f8281953888erow0_col3 {\n",
       "            background-color:  red;\n",
       "            : ;\n",
       "        }    #T_18c126f0_7b2c_11e9_8ff4_f8281953888erow0_col6 {\n",
       "            background-color:  red;\n",
       "            : ;\n",
       "        }    #T_18c126f0_7b2c_11e9_8ff4_f8281953888erow0_col7 {\n",
       "            background-color:  red;\n",
       "            : ;\n",
       "        }    #T_18c126f0_7b2c_11e9_8ff4_f8281953888erow0_col8 {\n",
       "            : ;\n",
       "            background-color:  yellow ;\n",
       "        }    #T_18c126f0_7b2c_11e9_8ff4_f8281953888erow1_col1 {\n",
       "            background-color:  red;\n",
       "            : ;\n",
       "        }    #T_18c126f0_7b2c_11e9_8ff4_f8281953888erow1_col3 {\n",
       "            background-color:  red;\n",
       "            : ;\n",
       "        }    #T_18c126f0_7b2c_11e9_8ff4_f8281953888erow1_col6 {\n",
       "            background-color:  red;\n",
       "            : ;\n",
       "        }    #T_18c126f0_7b2c_11e9_8ff4_f8281953888erow1_col7 {\n",
       "            background-color:  red;\n",
       "            : ;\n",
       "        }    #T_18c126f0_7b2c_11e9_8ff4_f8281953888erow1_col8 {\n",
       "            : ;\n",
       "            background-color:  yellow ;\n",
       "        }    #T_18c126f0_7b2c_11e9_8ff4_f8281953888erow2_col1 {\n",
       "            : ;\n",
       "            background-color:  yellow ;\n",
       "        }    #T_18c126f0_7b2c_11e9_8ff4_f8281953888erow2_col3 {\n",
       "            : ;\n",
       "            background-color:  yellow ;\n",
       "        }    #T_18c126f0_7b2c_11e9_8ff4_f8281953888erow2_col4 {\n",
       "            background-color:  red;\n",
       "            : ;\n",
       "        }    #T_18c126f0_7b2c_11e9_8ff4_f8281953888erow2_col5 {\n",
       "            : ;\n",
       "            background-color:  yellow ;\n",
       "        }    #T_18c126f0_7b2c_11e9_8ff4_f8281953888erow2_col6 {\n",
       "            : ;\n",
       "            background-color:  yellow ;\n",
       "        }    #T_18c126f0_7b2c_11e9_8ff4_f8281953888erow3_col1 {\n",
       "            background-color:  red;\n",
       "            : ;\n",
       "        }    #T_18c126f0_7b2c_11e9_8ff4_f8281953888erow3_col2 {\n",
       "            : ;\n",
       "            background-color:  yellow ;\n",
       "        }    #T_18c126f0_7b2c_11e9_8ff4_f8281953888erow3_col3 {\n",
       "            : ;\n",
       "            background-color:  yellow ;\n",
       "        }    #T_18c126f0_7b2c_11e9_8ff4_f8281953888erow3_col4 {\n",
       "            background-color:  red;\n",
       "            : ;\n",
       "        }    #T_18c126f0_7b2c_11e9_8ff4_f8281953888erow3_col5 {\n",
       "            : ;\n",
       "            background-color:  yellow ;\n",
       "        }    #T_18c126f0_7b2c_11e9_8ff4_f8281953888erow3_col6 {\n",
       "            : ;\n",
       "            background-color:  yellow ;\n",
       "        }    #T_18c126f0_7b2c_11e9_8ff4_f8281953888erow4_col0 {\n",
       "            : ;\n",
       "            background-color:  yellow ;\n",
       "        }    #T_18c126f0_7b2c_11e9_8ff4_f8281953888erow4_col1 {\n",
       "            : ;\n",
       "            background-color:  yellow ;\n",
       "        }    #T_18c126f0_7b2c_11e9_8ff4_f8281953888erow4_col4 {\n",
       "            : ;\n",
       "            background-color:  yellow ;\n",
       "        }    #T_18c126f0_7b2c_11e9_8ff4_f8281953888erow4_col5 {\n",
       "            background-color:  red;\n",
       "            : ;\n",
       "        }    #T_18c126f0_7b2c_11e9_8ff4_f8281953888erow5_col0 {\n",
       "            : ;\n",
       "            background-color:  yellow ;\n",
       "        }    #T_18c126f0_7b2c_11e9_8ff4_f8281953888erow5_col1 {\n",
       "            background-color:  red;\n",
       "            : ;\n",
       "        }    #T_18c126f0_7b2c_11e9_8ff4_f8281953888erow6_col0 {\n",
       "            background-color:  red;\n",
       "            : ;\n",
       "        }    #T_18c126f0_7b2c_11e9_8ff4_f8281953888erow6_col1 {\n",
       "            : ;\n",
       "            background-color:  yellow ;\n",
       "        }    #T_18c126f0_7b2c_11e9_8ff4_f8281953888erow6_col2 {\n",
       "            background-color:  red;\n",
       "            : ;\n",
       "        }    #T_18c126f0_7b2c_11e9_8ff4_f8281953888erow6_col7 {\n",
       "            : ;\n",
       "            background-color:  yellow ;\n",
       "        }    #T_18c126f0_7b2c_11e9_8ff4_f8281953888erow6_col8 {\n",
       "            background-color:  red;\n",
       "            : ;\n",
       "        }    #T_18c126f0_7b2c_11e9_8ff4_f8281953888erow7_col0 {\n",
       "            background-color:  red;\n",
       "            : ;\n",
       "        }    #T_18c126f0_7b2c_11e9_8ff4_f8281953888erow7_col1 {\n",
       "            background-color:  red;\n",
       "            : ;\n",
       "        }</style><table id=\"T_18c126f0_7b2c_11e9_8ff4_f8281953888e\" ><thead>    <tr>        <th class=\"blank level0\" ></th>        <th class=\"col_heading level0 col0\" >Model</th>        <th class=\"col_heading level0 col1\" >Type_of_Search</th>        <th class=\"col_heading level0 col2\" >fit_time</th>        <th class=\"col_heading level0 col3\" >test_mean_absolute_error</th>        <th class=\"col_heading level0 col4\" >test_mean_squared_error</th>        <th class=\"col_heading level0 col5\" >test_r2</th>        <th class=\"col_heading level0 col6\" >train_mean_absolute_error</th>        <th class=\"col_heading level0 col7\" >train_mean_squared_error</th>        <th class=\"col_heading level0 col8\" >train_r2</th>    </tr></thead><tbody>\n",
       "                <tr>\n",
       "                        <th id=\"T_18c126f0_7b2c_11e9_8ff4_f8281953888elevel0_row0\" class=\"row_heading level0 row0\" >0</th>\n",
       "                        <td id=\"T_18c126f0_7b2c_11e9_8ff4_f8281953888erow0_col0\" class=\"data row0 col0\" >KNeighborsRegressor()</td>\n",
       "                        <td id=\"T_18c126f0_7b2c_11e9_8ff4_f8281953888erow0_col1\" class=\"data row0 col1\" >GridSearchCv</td>\n",
       "                        <td id=\"T_18c126f0_7b2c_11e9_8ff4_f8281953888erow0_col2\" class=\"data row0 col2\" >57.5386</td>\n",
       "                        <td id=\"T_18c126f0_7b2c_11e9_8ff4_f8281953888erow0_col3\" class=\"data row0 col3\" >0.405359</td>\n",
       "                        <td id=\"T_18c126f0_7b2c_11e9_8ff4_f8281953888erow0_col4\" class=\"data row0 col4\" >0.21156</td>\n",
       "                        <td id=\"T_18c126f0_7b2c_11e9_8ff4_f8281953888erow0_col5\" class=\"data row0 col5\" >0.14655</td>\n",
       "                        <td id=\"T_18c126f0_7b2c_11e9_8ff4_f8281953888erow0_col6\" class=\"data row0 col6\" >0.342298</td>\n",
       "                        <td id=\"T_18c126f0_7b2c_11e9_8ff4_f8281953888erow0_col7\" class=\"data row0 col7\" >0.15938</td>\n",
       "                        <td id=\"T_18c126f0_7b2c_11e9_8ff4_f8281953888erow0_col8\" class=\"data row0 col8\" >0.362111</td>\n",
       "            </tr>\n",
       "            <tr>\n",
       "                        <th id=\"T_18c126f0_7b2c_11e9_8ff4_f8281953888elevel0_row1\" class=\"row_heading level0 row1\" >1</th>\n",
       "                        <td id=\"T_18c126f0_7b2c_11e9_8ff4_f8281953888erow1_col0\" class=\"data row1 col0\" >KNeighborsRegressor()</td>\n",
       "                        <td id=\"T_18c126f0_7b2c_11e9_8ff4_f8281953888erow1_col1\" class=\"data row1 col1\" >RandomizedSearchCV</td>\n",
       "                        <td id=\"T_18c126f0_7b2c_11e9_8ff4_f8281953888erow1_col2\" class=\"data row1 col2\" >51.5282</td>\n",
       "                        <td id=\"T_18c126f0_7b2c_11e9_8ff4_f8281953888erow1_col3\" class=\"data row1 col3\" >0.405359</td>\n",
       "                        <td id=\"T_18c126f0_7b2c_11e9_8ff4_f8281953888erow1_col4\" class=\"data row1 col4\" >0.21156</td>\n",
       "                        <td id=\"T_18c126f0_7b2c_11e9_8ff4_f8281953888erow1_col5\" class=\"data row1 col5\" >0.14655</td>\n",
       "                        <td id=\"T_18c126f0_7b2c_11e9_8ff4_f8281953888erow1_col6\" class=\"data row1 col6\" >0.342298</td>\n",
       "                        <td id=\"T_18c126f0_7b2c_11e9_8ff4_f8281953888erow1_col7\" class=\"data row1 col7\" >0.15938</td>\n",
       "                        <td id=\"T_18c126f0_7b2c_11e9_8ff4_f8281953888erow1_col8\" class=\"data row1 col8\" >0.362111</td>\n",
       "            </tr>\n",
       "            <tr>\n",
       "                        <th id=\"T_18c126f0_7b2c_11e9_8ff4_f8281953888elevel0_row2\" class=\"row_heading level0 row2\" >2</th>\n",
       "                        <td id=\"T_18c126f0_7b2c_11e9_8ff4_f8281953888erow2_col0\" class=\"data row2 col0\" >LogisticRegression()</td>\n",
       "                        <td id=\"T_18c126f0_7b2c_11e9_8ff4_f8281953888erow2_col1\" class=\"data row2 col1\" >GridSearchCV</td>\n",
       "                        <td id=\"T_18c126f0_7b2c_11e9_8ff4_f8281953888erow2_col2\" class=\"data row2 col2\" >1.97641</td>\n",
       "                        <td id=\"T_18c126f0_7b2c_11e9_8ff4_f8281953888erow2_col3\" class=\"data row2 col3\" >0.219089</td>\n",
       "                        <td id=\"T_18c126f0_7b2c_11e9_8ff4_f8281953888erow2_col4\" class=\"data row2 col4\" >0.219089</td>\n",
       "                        <td id=\"T_18c126f0_7b2c_11e9_8ff4_f8281953888erow2_col5\" class=\"data row2 col5\" >0.123575</td>\n",
       "                        <td id=\"T_18c126f0_7b2c_11e9_8ff4_f8281953888erow2_col6\" class=\"data row2 col6\" >0.117268</td>\n",
       "                        <td id=\"T_18c126f0_7b2c_11e9_8ff4_f8281953888erow2_col7\" class=\"data row2 col7\" >0.117268</td>\n",
       "                        <td id=\"T_18c126f0_7b2c_11e9_8ff4_f8281953888erow2_col8\" class=\"data row2 col8\" >0.530893</td>\n",
       "            </tr>\n",
       "            <tr>\n",
       "                        <th id=\"T_18c126f0_7b2c_11e9_8ff4_f8281953888elevel0_row3\" class=\"row_heading level0 row3\" >3</th>\n",
       "                        <td id=\"T_18c126f0_7b2c_11e9_8ff4_f8281953888erow3_col0\" class=\"data row3 col0\" >LogisticRegression()</td>\n",
       "                        <td id=\"T_18c126f0_7b2c_11e9_8ff4_f8281953888erow3_col1\" class=\"data row3 col1\" >RandomizedSearchCV</td>\n",
       "                        <td id=\"T_18c126f0_7b2c_11e9_8ff4_f8281953888erow3_col2\" class=\"data row3 col2\" >1.87232</td>\n",
       "                        <td id=\"T_18c126f0_7b2c_11e9_8ff4_f8281953888erow3_col3\" class=\"data row3 col3\" >0.219089</td>\n",
       "                        <td id=\"T_18c126f0_7b2c_11e9_8ff4_f8281953888erow3_col4\" class=\"data row3 col4\" >0.219089</td>\n",
       "                        <td id=\"T_18c126f0_7b2c_11e9_8ff4_f8281953888erow3_col5\" class=\"data row3 col5\" >0.123575</td>\n",
       "                        <td id=\"T_18c126f0_7b2c_11e9_8ff4_f8281953888erow3_col6\" class=\"data row3 col6\" >0.117268</td>\n",
       "                        <td id=\"T_18c126f0_7b2c_11e9_8ff4_f8281953888erow3_col7\" class=\"data row3 col7\" >0.117268</td>\n",
       "                        <td id=\"T_18c126f0_7b2c_11e9_8ff4_f8281953888erow3_col8\" class=\"data row3 col8\" >0.530893</td>\n",
       "            </tr>\n",
       "            <tr>\n",
       "                        <th id=\"T_18c126f0_7b2c_11e9_8ff4_f8281953888elevel0_row4\" class=\"row_heading level0 row4\" >4</th>\n",
       "                        <td id=\"T_18c126f0_7b2c_11e9_8ff4_f8281953888erow4_col0\" class=\"data row4 col0\" >DecisionTreeRegressor()</td>\n",
       "                        <td id=\"T_18c126f0_7b2c_11e9_8ff4_f8281953888erow4_col1\" class=\"data row4 col1\" >GridSearchCV</td>\n",
       "                        <td id=\"T_18c126f0_7b2c_11e9_8ff4_f8281953888erow4_col2\" class=\"data row4 col2\" >74.3353</td>\n",
       "                        <td id=\"T_18c126f0_7b2c_11e9_8ff4_f8281953888erow4_col3\" class=\"data row4 col3\" >0.308674</td>\n",
       "                        <td id=\"T_18c126f0_7b2c_11e9_8ff4_f8281953888erow4_col4\" class=\"data row4 col4\" >0.174669</td>\n",
       "                        <td id=\"T_18c126f0_7b2c_11e9_8ff4_f8281953888erow4_col5\" class=\"data row4 col5\" >0.295722</td>\n",
       "                        <td id=\"T_18c126f0_7b2c_11e9_8ff4_f8281953888erow4_col6\" class=\"data row4 col6\" >0.233775</td>\n",
       "                        <td id=\"T_18c126f0_7b2c_11e9_8ff4_f8281953888erow4_col7\" class=\"data row4 col7\" >0.116887</td>\n",
       "                        <td id=\"T_18c126f0_7b2c_11e9_8ff4_f8281953888erow4_col8\" class=\"data row4 col8\" >0.532182</td>\n",
       "            </tr>\n",
       "            <tr>\n",
       "                        <th id=\"T_18c126f0_7b2c_11e9_8ff4_f8281953888elevel0_row5\" class=\"row_heading level0 row5\" >5</th>\n",
       "                        <td id=\"T_18c126f0_7b2c_11e9_8ff4_f8281953888erow5_col0\" class=\"data row5 col0\" >DecisionTreeRegressor()</td>\n",
       "                        <td id=\"T_18c126f0_7b2c_11e9_8ff4_f8281953888erow5_col1\" class=\"data row5 col1\" >RandomizedSearchCV</td>\n",
       "                        <td id=\"T_18c126f0_7b2c_11e9_8ff4_f8281953888erow5_col2\" class=\"data row5 col2\" >25.8257</td>\n",
       "                        <td id=\"T_18c126f0_7b2c_11e9_8ff4_f8281953888erow5_col3\" class=\"data row5 col3\" >0.308306</td>\n",
       "                        <td id=\"T_18c126f0_7b2c_11e9_8ff4_f8281953888erow5_col4\" class=\"data row5 col4\" >0.178904</td>\n",
       "                        <td id=\"T_18c126f0_7b2c_11e9_8ff4_f8281953888erow5_col5\" class=\"data row5 col5\" >0.278364</td>\n",
       "                        <td id=\"T_18c126f0_7b2c_11e9_8ff4_f8281953888erow5_col6\" class=\"data row5 col6\" >0.229674</td>\n",
       "                        <td id=\"T_18c126f0_7b2c_11e9_8ff4_f8281953888erow5_col7\" class=\"data row5 col7\" >0.114837</td>\n",
       "                        <td id=\"T_18c126f0_7b2c_11e9_8ff4_f8281953888erow5_col8\" class=\"data row5 col8\" >0.540403</td>\n",
       "            </tr>\n",
       "            <tr>\n",
       "                        <th id=\"T_18c126f0_7b2c_11e9_8ff4_f8281953888elevel0_row6\" class=\"row_heading level0 row6\" >6</th>\n",
       "                        <td id=\"T_18c126f0_7b2c_11e9_8ff4_f8281953888erow6_col0\" class=\"data row6 col0\" >MLPRegressor()</td>\n",
       "                        <td id=\"T_18c126f0_7b2c_11e9_8ff4_f8281953888erow6_col1\" class=\"data row6 col1\" >GridSearchCV</td>\n",
       "                        <td id=\"T_18c126f0_7b2c_11e9_8ff4_f8281953888erow6_col2\" class=\"data row6 col2\" >1052.34</td>\n",
       "                        <td id=\"T_18c126f0_7b2c_11e9_8ff4_f8281953888erow6_col3\" class=\"data row6 col3\" >0.361469</td>\n",
       "                        <td id=\"T_18c126f0_7b2c_11e9_8ff4_f8281953888erow6_col4\" class=\"data row6 col4\" >0.188195</td>\n",
       "                        <td id=\"T_18c126f0_7b2c_11e9_8ff4_f8281953888erow6_col5\" class=\"data row6 col5\" >0.241424</td>\n",
       "                        <td id=\"T_18c126f0_7b2c_11e9_8ff4_f8281953888erow6_col6\" class=\"data row6 col6\" >0.25908</td>\n",
       "                        <td id=\"T_18c126f0_7b2c_11e9_8ff4_f8281953888erow6_col7\" class=\"data row6 col7\" >0.102066</td>\n",
       "                        <td id=\"T_18c126f0_7b2c_11e9_8ff4_f8281953888erow6_col8\" class=\"data row6 col8\" >0.591432</td>\n",
       "            </tr>\n",
       "            <tr>\n",
       "                        <th id=\"T_18c126f0_7b2c_11e9_8ff4_f8281953888elevel0_row7\" class=\"row_heading level0 row7\" >7</th>\n",
       "                        <td id=\"T_18c126f0_7b2c_11e9_8ff4_f8281953888erow7_col0\" class=\"data row7 col0\" >MLPRegressor()</td>\n",
       "                        <td id=\"T_18c126f0_7b2c_11e9_8ff4_f8281953888erow7_col1\" class=\"data row7 col1\" >RandomizedSearchCV</td>\n",
       "                        <td id=\"T_18c126f0_7b2c_11e9_8ff4_f8281953888erow7_col2\" class=\"data row7 col2\" >708.481</td>\n",
       "                        <td id=\"T_18c126f0_7b2c_11e9_8ff4_f8281953888erow7_col3\" class=\"data row7 col3\" >0.369802</td>\n",
       "                        <td id=\"T_18c126f0_7b2c_11e9_8ff4_f8281953888erow7_col4\" class=\"data row7 col4\" >0.184784</td>\n",
       "                        <td id=\"T_18c126f0_7b2c_11e9_8ff4_f8281953888erow7_col5\" class=\"data row7 col5\" >0.255138</td>\n",
       "                        <td id=\"T_18c126f0_7b2c_11e9_8ff4_f8281953888erow7_col6\" class=\"data row7 col6\" >0.310682</td>\n",
       "                        <td id=\"T_18c126f0_7b2c_11e9_8ff4_f8281953888erow7_col7\" class=\"data row7 col7\" >0.127174</td>\n",
       "                        <td id=\"T_18c126f0_7b2c_11e9_8ff4_f8281953888erow7_col8\" class=\"data row7 col8\" >0.491017</td>\n",
       "            </tr>\n",
       "    </tbody></table>"
      ],
      "text/plain": [
       "<pandas.io.formats.style.Styler at 0x1fa9e15c710>"
      ]
     },
     "execution_count": 36,
     "metadata": {},
     "output_type": "execute_result"
    }
   ],
   "source": [
    "def highlight_max(df):\n",
    "    is_max = df == df.max()\n",
    "    return ['background-color: red' if v else '' for v in is_max]\n",
    "\n",
    "def highlight_min(df):\n",
    "    is_min = df == df.min()\n",
    "    return ['background-color: yellow ' if a else '' for a in is_min]\n",
    "\n",
    "\n",
    "df.style.apply(highlight_max)\\\n",
    ".apply(highlight_min)"
   ]
  }
 ],
 "metadata": {
  "kernelspec": {
   "display_name": "Python 3",
   "language": "python",
   "name": "python3"
  },
  "language_info": {
   "codemirror_mode": {
    "name": "ipython",
    "version": 3
   },
   "file_extension": ".py",
   "mimetype": "text/x-python",
   "name": "python",
   "nbconvert_exporter": "python",
   "pygments_lexer": "ipython3",
   "version": "3.7.4"
  },
  "toc": {
   "base_numbering": 1,
   "nav_menu": {},
   "number_sections": true,
   "sideBar": true,
   "skip_h1_title": false,
   "title_cell": "Table of Contents",
   "title_sidebar": "Contents",
   "toc_cell": false,
   "toc_position": {},
   "toc_section_display": true,
   "toc_window_display": false
  },
  "varInspector": {
   "cols": {
    "lenName": 16,
    "lenType": 16,
    "lenVar": 40
   },
   "kernels_config": {
    "python": {
     "delete_cmd_postfix": "",
     "delete_cmd_prefix": "del ",
     "library": "var_list.py",
     "varRefreshCmd": "print(var_dic_list())"
    },
    "r": {
     "delete_cmd_postfix": ") ",
     "delete_cmd_prefix": "rm(",
     "library": "var_list.r",
     "varRefreshCmd": "cat(var_dic_list()) "
    }
   },
   "types_to_exclude": [
    "module",
    "function",
    "builtin_function_or_method",
    "instance",
    "_Feature"
   ],
   "window_display": false
  }
 },
 "nbformat": 4,
 "nbformat_minor": 2
}
