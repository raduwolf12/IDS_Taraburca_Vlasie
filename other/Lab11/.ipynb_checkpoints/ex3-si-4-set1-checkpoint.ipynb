{
 "cells": [
  {
   "cell_type": "markdown",
   "metadata": {},
   "source": [
    "3.Se face preprocesare de date; se explica in limba romana care sunt metodele de preprocesare folosite, efectul lor pe datele de intrare, ce forma are iesirea obtinuta; se arata efectele pasilor de preprocesare asupra setului de date (noul numar de documente, dinamica vocabularului, trasaturile rezultate etc.) Se pot aduga grafice si tabele la acest pas.\n",
    "\n",
    "4.Clasificare sau regresie, dupa caz: se face o descriere a modelelor considerate, in limba romana; se descrie modalitatea de cautare a hiperparametrilor; rezultatele obtinute se vor prezenta tabelar, similar cu tema precedenta."
   ]
  },
  {
   "cell_type": "markdown",
   "metadata": {},
   "source": [
    "# 3\n",
    "- se elimina anumite caractere care nu aduc un aport considerabil in preblema regresiei/clasificarii, in cazul setul nostru de date se poate elimina \"&lt;#&gt;\", acestea fiind elemente specifice html. Dupa eliminare, vor ramane acelasi cuvinte cu exceptia celor eliminate care vor fi inlocuite cu \" \". Acesta nu va afecta continutul mesajelor.\n",
    "- reprezentarea textului sub forma bag of words: se obtine un dictionar care contine contorizarea tuturor apartiile cuvintelor in textul dat. \n",
    "    - din sklearn.feature_extraction.text folosim clasa CountVectorizer, pentru a face operatia descrisa anterior.\n",
    "    - se poate observa ca numarul de elemente este mai mic dupa reprezentarea textului in format BOW"
   ]
  },
  {
   "cell_type": "code",
   "execution_count": 2,
   "metadata": {},
   "outputs": [],
   "source": [
    "import pandas as pd\n",
    "from sklearn.feature_extraction.text import CountVectorizer\n",
    "import numpy as np\n",
    "path=\"D:\\ids\\SMS\\SMSSpamCollection\"\n",
    "data = pd.read_csv(path, sep=\"\t\", header=None)"
   ]
  },
  {
   "cell_type": "code",
   "execution_count": 12,
   "metadata": {},
   "outputs": [
    {
     "name": "stdout",
     "output_type": "stream",
     "text": [
      "Numarul de cuvinte din textul original:  448490\n",
      "Numarul de cuvinte dupa aplicare BOW: 8713\n"
     ]
    }
   ],
   "source": [
    "vect = CountVectorizer()\n",
    "text=data[1].values\n",
    "vect.fit_transform(text)\n",
    "dim=0\n",
    "for i in range (len(text)):\n",
    "    dim+=len(text[i])\n",
    "v=[dim, len(vect.vocabulary_)]\n",
    "print(\"Numarul de cuvinte din textul original: \", dim)\n",
    "print(\"Numarul de cuvinte dupa aplicare BOW:\", len(vect.vocabulary_))"
   ]
  },
  {
   "cell_type": "code",
   "execution_count": 17,
   "metadata": {},
   "outputs": [
    {
     "data": {
      "image/png": "[encoded data removed]",
      "text/plain": [
       "<Figure size 288x288 with 1 Axes>"
      ]
     },
     "metadata": {
      "needs_background": "light"
     },
     "output_type": "display_data"
    }
   ],
   "source": [
    "import matplotlib.pyplot as plt\n",
    "plt.rcParams[\"figure.figsize\"] = (4, 4)\n",
    "fig, ax = plt.subplots()\n",
    "ax.bar([\"Inainte\", \"Dupa\"],v, color=\"green\")\n",
    "ax.set(xlabel=\"Nr.OfElements\", ylabel=\" \");"
   ]
  },
  {
   "cell_type": "markdown",
   "metadata": {},
   "source": [
    "    - Eliminare cuvinte neinformative (stopwords)- s-au eliminat cuvinte predefinite din limba engleza existente in CountVectorizer (stop_words='english') si eliminarea cuvintelor care nu au mai mult de 5 aparitii "
   ]
  },
  {
   "cell_type": "code",
   "execution_count": 25,
   "metadata": {},
   "outputs": [
    {
     "name": "stdout",
     "output_type": "stream",
     "text": [
      "Numarul de cuvinte dupa eliniarea cuvintelor neinformative: 1603\n"
     ]
    }
   ],
   "source": [
    "vect2 = CountVectorizer(min_df=5,stop_words='english')\n",
    "vect2.fit_transform(text)\n",
    "print(\"Numarul de cuvinte dupa eliniarea cuvintelor neinformative:\", len(vect2.vocabulary_))"
   ]
  },
  {
   "cell_type": "code",
   "execution_count": 26,
   "metadata": {},
   "outputs": [
    {
     "data": {
      "image/png": "[encoded data removed]",
      "text/plain": [
       "<Figure size 288x288 with 1 Axes>"
      ]
     },
     "metadata": {
      "needs_background": "light"
     },
     "output_type": "display_data"
    }
   ],
   "source": [
    "fig, ax = plt.subplots()\n",
    "ax.bar([\"Inainte\", \"Dupa\"],[v[1], len(vect2.vocabulary_)], color=\"blue\")\n",
    "ax.set(xlabel=\"Nr.OfElements\", ylabel=\" \");"
   ]
  },
  {
   "cell_type": "markdown",
   "metadata": {},
   "source": [
    "# 4"
   ]
  },
  {
   "cell_type": "markdown",
   "metadata": {},
   "source": [
    "KNeighborsRegressor\n",
    "\n",
    "Algoritmul k-NN este o metodă neparametrizata utilizată pentru clasificare și regresie. În ambele cazuri, intrarea constă în exemplele de instruire k cele mai apropiate din spațiul caracteristic. Producția depinde de faptul dacă k-NN este folosit pentru clasificare sau regresie: in regresia k-NN, ieșirea este valoarea proprietății pentru obiect. Această valoare reprezintă media valorilor celor mai apropiați vecini. k-NN este un tip de învățare bazată pe instanțe sau învățare leneșă, în care funcția este aproximată doar la nivel local și toate calculele sunt amânate până la clasificare. Algoritmul k-NN este printre cei mai simpli dintre toți algoritmi de învățare a mașinilor.\n",
    "\n",
    "Cautatrea paramaterilor s-a facut prin GridSearchCV si RandomizedSearchCV:\n",
    "- s-a cautat optimizarea pentru parametrii :\n",
    "    - n_neighbors : int, optional (default = 5): Numărul de vecini care vor fi utilizați în mod implicit pentru interogările k_neighbors.\n",
    "    - p : int, optional (default = 2). Atunci când p = 1, aceasta este echivalentă cu utilizarea manhattan_distance (l1) și a duratei euclidiene (l2) pentru p = 2. Pentru p arbitrar, se utilizează minkowski_distance (l_p). Dar in cazul intrarilor de tip text nu se poate lua in considere utilizarea  minkowski_distance."
   ]
  },
  {
   "cell_type": "markdown",
   "metadata": {},
   "source": [
    "DecisionTreeRegressor\n",
    "\n",
    "Decision Trees (DTs) sunt o metodă de învățare neparametrică supravegheată folosită pentru clasificare și regresie. Scopul este de a crea un model care prezice valoarea unei variabile țintă prin învățarea unor simple reguli de decizie deduse din caracteristicile de date. De asemenea, arborii de decizie pot fi aplicați și pentru problemele de regresie, utilizând clasa DecisionTreeRegressor. Ca și în setarea de clasificare, metoda de potrivire va lua ca arhitecturi de argument X și y, numai că în acest caz y este de așteptat să aibă valori în virgulă mobilă în loc de valori întregi. Putem observa că dacă adâncimea maximă a copacului (controlată de parametrul max_depth) este setată prea înaltă, arborii de decizie învață detalii prea fine ale datelor de antrenament și învață din noise, adică se suprapun.\n",
    "\n",
    "Cautatrea paramaterilor s-a facut prin GridSearchCV si RandomizedSearchCV:\n",
    "- s-a cautat optimizarea pentru parametrii :\n",
    "    - max_features : int, float, string or None, optional (default=None) Numărul de caracteristici care trebuie luate în considerare atunci când căutați cea mai bună împărțire.\n",
    "    - min_samples_split : int, optional (default=2).Numărul minim de eșantioane necesare pentru divizarea unui nod intern.\n",
    "    -  min_samples_leaf : int, optional (default=1). Numărul minim de eșantioane necesare la un nod frunza."
   ]
  },
  {
   "cell_type": "markdown",
   "metadata": {},
   "source": [
    "MLPRegressor\n",
    "\n",
    "Un perceptron multistrat (MLP) este o clasă a rețelei neuronale artificiale. Un MLP constă din cel puțin trei straturi de noduri: un strat de intrare, un strat ascuns și un strat de ieșire. Cu excepția nodurilor de intrare, fiecare nod este un neuron care utilizează o funcție de activare neliniară. MLP utilizează o tehnică de învățare supervizata numită backpropagation pentru formare. Straturile sale multiple și activarea neliniară disting MLP de un perceptron liniar. Poate distinge date care nu pot fi separate liniar.\n",
    "Cautatrea paramaterilor s-a facut prin GridSearchCV si RandomizedSearchCV:\n",
    "- s-a cautat optimizarea pentru parametrii :\n",
    "    - activation : {‘identity’, ‘logistic’, ‘tanh’, ‘relu’}, default ‘relu’.Funcția de activare pentru stratul ascuns.\"identity\", activare no-op, returnează f (x) = x \"logistic\", funcția sigmoid logistică, returnează f (x) = 1 / (1 + exp (-x)). \"tanh\", funcția tan hiperbolică, returnează f (x) = tanh (x). \"relu\", funcția liniară rectificată, returnează f (x) = max (0, x)\n",
    "    - solver : {‘lbfgs’, ‘sgd’, ‘adam’}, default ‘adam’.Solver pentru optimizarea greutății.\n",
    "    - alpha : float, optional, default 0.0001. Valoarea penalizării L2 (termenul de regularizare)."
   ]
  },
  {
   "cell_type": "markdown",
   "metadata": {},
   "source": [
    "LogisticRegresion\n",
    "\n",
    "Regresia logistică este utilizată pentru a descrie datele și pentru a explica relația dintre o variabilă binară dependentă și una sau mai multe variabile independente la nivel nominal, ordinal, interval sau independent.\n",
    "Cautatrea paramaterilor s-a facut prin GridSearchCV si RandomizedSearchCV:\n",
    "- C: float, optional (default=1.0) paramatru de regularizare; trebuie să fie un flotant pozitiv. Ca și în mașinile vectoriale de suport, valorile mai mici specifică o regularizare mai puternică."
   ]
  }
 ],
 "metadata": {
  "kernelspec": {
   "display_name": "Python 3",
   "language": "python",
   "name": "python3"
  },
  "language_info": {
   "codemirror_mode": {
    "name": "ipython",
    "version": 3
   },
   "file_extension": ".py",
   "mimetype": "text/x-python",
   "name": "python",
   "nbconvert_exporter": "python",
   "pygments_lexer": "ipython3",
   "version": "3.7.4"
  }
 },
 "nbformat": 4,
 "nbformat_minor": 2
}
