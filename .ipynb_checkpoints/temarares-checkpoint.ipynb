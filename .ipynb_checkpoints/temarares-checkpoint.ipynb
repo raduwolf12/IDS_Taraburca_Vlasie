{
 "cells": [
  {
   "cell_type": "markdown",
   "metadata": {},
   "source": [
    "# Laborator 2\n",
    "\n",
    "Saptamana 2-6 martie 2020\n",
    "\n",
    "Continut:\n",
    "1. Setup\n",
    "1. Exercitii cu functii\n",
    "1. Exercitii cu NumPy"
   ]
  },
  {
   "cell_type": "markdown",
   "metadata": {},
   "source": [
    "## Setup\n",
    "\n",
    "Formati ecipe de cate doi. Creati un repository *privat* pe github, cu numele: IDS_NumeFamilieStudent1_NumeFamilieStudent2. Indiferent de grupa din care faceti parte, adaugati ca si colaboratori pe acest repo utilizatorii: akerestely si lmsasu.\n",
    "\n",
    "Resurse:\n",
    "1. [Setare de repository privat](https://help.github.com/en/github/administering-a-repository/setting-repository-visibility)\n",
    "1. [Clienti de git](https://www.hostinger.com/tutorials/best-git-gui-clients/)"
   ]
  },
  {
   "cell_type": "markdown",
   "metadata": {
    "ExecuteTime": {
     "end_time": "2019-03-05T18:34:32.294814Z",
     "start_time": "2019-03-05T18:34:32.283406Z"
    }
   },
   "source": [
    "## Exercitii cu functii\n",
    "\n",
    "Nota: aceste exercitii nu se puncteaza. \n",
    "\n",
    "1. Sa se scrie o functie care primeste ca parametru o lista de numere si returneaza un tuplu continand: suma elementelor si diferenta maxima dintre elementele listei.\n",
    "1. Scrieti o functie care preia doua liste si returneaza `True` daca cele doua liste de numere contin cel putin $k$ elemente comune ($k \\ge 1$ dat ca parametru intreg, valoare implicita 1), `False` altfel.\n",
    "1. Sa se scrie o functie care determina daca o lista contine cuvinte reprezentand doar numere intregi (optional: numere fractionare, scrise sub forma parte intreaga, optional urmata de punct zecimal, optional urmata de parte fractionara: 1, 2., 13.14) (Puteti folosi modulul `re` pentru lucrul cu expresii regulate.) Functia trebuie sa testeze daca:\n",
    "    1. elementele din lista sunt stringuri\n",
    "    2. fiecare din stringuri este un numar\n",
    "1. Sa se scrie o functie care returneaza numarul de vocale si de consoane dintr-un parametru dat - rezultatul returnat de functie este tuplu cu doua valori. Cuvantul se va converti la litere mici in interiorul functiei.\n",
    "1. Sa se scrie o functie care primind o lista de dictionare, returneaza `True` daca toate dictionarele contin cel putin $n$ elemente, $n$ transmis ca parametru, `False` altfel.\n",
    "1. Sa se scrie o functie recursiva care sa faca ridicarea la putere a unui numar, astfel:\n",
    "$$\n",
    "a^n = \\begin{cases}\n",
    "a & \\text{daca }n=1\n",
    "\\\\\n",
    "\\left(a^{n//2}\\right)^2 & \\text{daca } n \\text{ e par}\n",
    "\\\\\n",
    "\\left(a^{n//2}\\right)^2 \\cdot a & \\text{daca } n \\text{ e impar}, n>1\n",
    "\\\\\n",
    "\\end{cases}\n",
    "$$\n",
    "unde prin $n//2$ se reprezinta catul impartirii intregi intre $n$ si 2."
   ]
  },
  {
   "cell_type": "markdown",
   "metadata": {},
   "source": [
    "## Exercitii simple folosind NumPy  \n",
    "\n",
    "Nota: in rezolvarea exercitiilor se vor folosi cat mai mult functii NumPy *vectorizate*. Functiile scrise de voi vor fi documentate cu docstrings (tutoriale: Docstrings in Python, urmati NumPy Style Python Docstrings). Folositi type annotations. Utilizati doar pachetele NumPy."
   ]
  },
  {
   "cell_type": "markdown",
   "metadata": {},
   "source": [
    "1. (0.5 puncte) Pentru un vector NumPy dat, sa se determine care sunt elementele unice, in ordine descrescatoare. Exemplu: pentru `x = np.array([-4, 3,  5, 3, 2, 1, -3, -4, 2, -4])` functia scrisa de dvs va intoarce rezultatul `[ 5,  3,  2,  1, -3, -4]`.\n",
    "1. (0.5 puncte) Pentru un vector NumPy dat, sa se determine care e elementul cel mai frecvent si cel mai putin frecvent (tuplu de 2 valori). Daca exista mai multe numere cele mai frecvente (cele mai putin frecvente), se va raporta oricare din ele. Exemplu: pentru `x = np.array([-4, 3,  5, 3, 2, 1, -3, -4, 2, -4])` functia scrisa de dvs va intoarce rezultatul `(-4, -3)`. \n",
    "1. (0.5 puncte) Plecand de la o matrice, sa se scrie o functie care returneaza vectorul minimelor de pe linii si vectorul maximelor de pe coloane. Exemplu: pentru matricea `mat = np.array([[1, 2, 3, 4], [1, -2, 3, -4], [3, 10, 3, 4]])` functia va returna tuplul de vectori: `(array([ 1, -4,  3]), array([ 3, 10,  3,  4]))`. Indicatie:  folositi-va de parametrul `axis`.\n",
    "1. (0.5 puncte) Pentru o matrice de numere, sa se determine produsul elementelor pe linii sau de pe coloane, in functie de valoarea unui parametru boolean `compute_on_lines`. Exemplu: pentru matricea `mat = np.array([[1, 2, 3, 4], [1, -2, 3, -4], [3, 10, 3, 4]])` si parametrul `compute_on_lines=True`, functia va returna vectorul `[ 24  24 360]`, iar pentru `compute_on_lines=False` se va returna `[  3 -40  27 -64]`.\n",
    "1. (0.5 puncte) Determinati daca macar unul din elementele unei matrice `a` este mai mare decat cel de pe pozitie corespondenta din `b` (adica daca avem macar o pereche de indecsi (i, j) pentru care a[i, j] > b[i, j]). Daca da, se va returna o astfel de pereche de indecsi; daca nu, se va returna None.\n",
    "1. (0.5 puncte) Construiti o functie care, primind o matrice, determina pe ce pozitii se afla valorile in afara unui interval [min, max] dat prin parametri.\n",
    "1. (1 punct) Se considera vectorul: `a = np.array([230, 10, 284, 39, 76])`. Folosind indexarea logica, sa se inmulteasca elementele din vector care sunt mai mici ca 100 cu 2 (restul raman neschimbate). Folosind ciclare, sa se aplice aceeasi operatie pana cand toate elementele devin mai mari ca 100. Sa se afiseze din vectorul final elementele care sunt mai mari de 150 si mai mici de 200.\n",
    "1. (1 punct) Sa se scrie o functie `pair_max` care preia doi vectori de aceeasi lungime si returneaza maximele pe pozitiile corespunzatoare:\n",
    "```python\n",
    "a = np.array([3, 7, 9, 13, -10, 200, 3])\n",
    "b = np.array([4, 5, -9, 100, 300, 230, 1])\n",
    "pair_max(a, b)\n",
    "#iesire dorita: \n",
    "array([  4,   7,   9, 100, 300, 230,   3])\n",
    "```. Functia va verifica cu `assert` ca vectorii au lungimi egale. \n",
    "1. (1 punct) Descarcati setul de date Iris de la adresa 'https://archive.ics.uci.edu/ml/machine-learning-databases/iris/iris.data', si incarcati-l intr--o matrice NumPy, folosind `np.genfromtxt`.  Alegeti aleator 10 pozitii in matricea de 150 linii si 4 coloane (omiteti ultima coloana, de tip text), setati aceste valori pe NaN. Construiti o functie care, primind la intrare o matrice, returneaza un tuplu cu indicii de linii respectiv de coloane in care se gasesc valori NaN.\n",
    "1. (1 punct) Sa se construiasca o functie care returneaza cele mai mici `k` valori dintr-un vector de cel putin `k` elemente, impreuna cu pozitiile lor. "
   ]
  },
  {
   "cell_type": "markdown",
   "metadata": {},
   "source": [
    "## Precizari\n",
    "1. Se acorda 3 puncte din oficiu.\n",
    "1. Tema se va prezenta in saptamana 16-20 martie 2020. \n",
    "1. Repository-ul va contine un fisier \"README.md\" (in radacina repository-ului) in care vor fi mentionati autorii temelor, cu nume complet si grupa din care fac parte."
   ]
  },
  {
   "cell_type": "code",
   "execution_count": 17,
   "metadata": {
    "ExecuteTime": {
     "end_time": "2020-03-18T12:02:59.124937Z",
     "start_time": "2020-03-18T12:02:59.117956Z"
    }
   },
   "outputs": [
    {
     "name": "stdout",
     "output_type": "stream",
     "text": [
      "suma numerelor este  45\n",
      " diferenta maxima este  8\n"
     ]
    }
   ],
   "source": [
    "#functii ex 1\n",
    "num=[1,2,3,4,5,6,7,8,9]\n",
    "def f1(list):\n",
    "    s=0\n",
    "    difmax=0\n",
    "    max=0\n",
    "    min=500\n",
    "    for x in num:\n",
    "        s=s+x\n",
    "        if x<min:\n",
    "            min=x \n",
    "        if x>max:\n",
    "            max=x \n",
    "  \n",
    "    print(\"suma numerelor este \", s )\n",
    "    print(\" diferenta maxima este \",max-min)\n",
    "\n",
    "f1(list)\n"
   ]
  },
  {
   "cell_type": "code",
   "execution_count": 18,
   "metadata": {
    "ExecuteTime": {
     "end_time": "2020-03-18T13:08:09.800119Z",
     "start_time": "2020-03-18T13:08:09.791143Z"
    }
   },
   "outputs": [
    {
     "ename": "NameError",
     "evalue": "name 'k' is not defined",
     "output_type": "error",
     "traceback": [
      "\u001b[1;31m---------------------------------------------------------------------------\u001b[0m",
      "\u001b[1;31mNameError\u001b[0m                                 Traceback (most recent call last)",
      "\u001b[1;32m<ipython-input-18-6957b2472569>\u001b[0m in \u001b[0;36m<module>\u001b[1;34m\u001b[0m\n\u001b[0;32m     14\u001b[0m         \u001b[1;32mreturn\u001b[0m \u001b[1;32mFalse\u001b[0m\u001b[1;33m\u001b[0m\u001b[1;33m\u001b[0m\u001b[0m\n\u001b[0;32m     15\u001b[0m \u001b[1;33m\u001b[0m\u001b[0m\n\u001b[1;32m---> 16\u001b[1;33m \u001b[0mf2\u001b[0m\u001b[1;33m(\u001b[0m\u001b[0mnum1\u001b[0m\u001b[1;33m,\u001b[0m\u001b[0mnum2\u001b[0m\u001b[1;33m,\u001b[0m\u001b[0mk\u001b[0m\u001b[1;33m)\u001b[0m\u001b[1;33m\u001b[0m\u001b[1;33m\u001b[0m\u001b[0m\n\u001b[0m\u001b[0;32m     17\u001b[0m \u001b[1;33m\u001b[0m\u001b[0m\n",
      "\u001b[1;31mNameError\u001b[0m: name 'k' is not defined"
     ]
    }
   ],
   "source": [
    "#functii ex 2\n",
    "num1=[3,4,5,6,7,8]\n",
    "num2=[1,2,3,4,5,6]\n",
    "def f2(num1,num2,k:int):\n",
    "    c=0\n",
    "    k=1\n",
    "    for x in num1:\n",
    "        for y in num2:\n",
    "            if x==y:\n",
    "                c=c+1\n",
    "    if c>=k:\n",
    "        return True\n",
    "    else:\n",
    "        return False\n",
    "    \n",
    "f2(num1,num2,k)\n",
    "                "
   ]
  },
  {
   "cell_type": "code",
   "execution_count": 19,
   "metadata": {
    "ExecuteTime": {
     "end_time": "2020-03-18T13:35:38.973173Z",
     "start_time": "2020-03-18T13:35:38.942258Z"
    }
   },
   "outputs": [
    {
     "data": {
      "text/plain": [
       "True"
      ]
     },
     "execution_count": 19,
     "metadata": {},
     "output_type": "execute_result"
    }
   ],
   "source": [
    "#functii ex 3\n",
    "import re\n",
    "import numpy as np\n",
    "from typing import List\n",
    "\n",
    "def checker3(lista:List[str])->bool:\n",
    "    if all(isinstance(item, str) for item in lista)==False:\n",
    "        return \"Lista nu contine numai stringuri!\"\n",
    "    reg_float = r'^[+-]?\\d+.?\\d*$'\n",
    "    all_float = all([re.match(reg_float, item) for item in lista])\n",
    "    return all_float\n",
    "\n",
    "\n",
    "lista = ['1','2']\n",
    "checker3(lista)"
   ]
  },
  {
   "cell_type": "code",
   "execution_count": 20,
   "metadata": {
    "ExecuteTime": {
     "end_time": "2020-03-18T13:41:05.645199Z",
     "start_time": "2020-03-18T13:41:05.635224Z"
    }
   },
   "outputs": [
    {
     "name": "stdout",
     "output_type": "stream",
     "text": [
      "[ 5  3  2  1 -3 -4]\n"
     ]
    }
   ],
   "source": [
    "#numpy ex1\n",
    "x = np.array([-4, 3,  5, 3, 2, 1, -3, -4, 2, -4],int ) \n",
    "def revuniques(x): \n",
    "    uniques = np.unique(x)\n",
    "    np.sort(uniques)\n",
    "    print(uniques[::-1])\n",
    "\"\"\"Functia primeste  un np.array de valori int si elimina datele duplicate\n",
    "param :date de intrare sub forma de np.array\"\"\"\n",
    "revuniques(x) "
   ]
  },
  {
   "cell_type": "code",
   "execution_count": 21,
   "metadata": {
    "ExecuteTime": {
     "end_time": "2020-03-18T14:07:37.896409Z",
     "start_time": "2020-03-18T14:07:37.885433Z"
    }
   },
   "outputs": [
    {
     "name": "stdout",
     "output_type": "stream",
     "text": [
      "array1( [ 1 -2  3 -4] )\n",
      "array2( [ 4  3 10] )\n"
     ]
    }
   ],
   "source": [
    "#numpy ex3\n",
    "mat = np.array([[1, 2, 3, 4], [1, -2, 3, -4], [3, 10, 3, 4]])\n",
    "def arraysort(mat):\n",
    "    min=np.amin(mat, axis=0)   \n",
    "    max=np.amax(mat, axis=1) \n",
    "\n",
    "    print(\"array1(\",min,\")\" )\n",
    "    print(\"array2(\",max,\")\" )\n",
    "    \"\"\"Functia primeste 2 np.array si modifica si afiseaza perechile si formeaza un array de minime pe randuri \n",
    "    si unul de maxime pe coloana \n",
    "param :date de intrare sub forma de np.array\"\"\"\n",
    "arraysort(mat)"
   ]
  },
  {
   "cell_type": "code",
   "execution_count": 22,
   "metadata": {
    "ExecuteTime": {
     "end_time": "2020-03-18T14:07:03.356795Z",
     "start_time": "2020-03-18T14:07:03.269026Z"
    }
   },
   "outputs": [
    {
     "name": "stdout",
     "output_type": "stream",
     "text": [
      "[3, -40, 27, -64]\n",
      "[24, 24, 360]\n"
     ]
    }
   ],
   "source": [
    "#numpy ex 4\n",
    "mat = np.array([[1, 2, 3, 4], [1, -2, 3, -4], [3, 10, 3, 4]])\n",
    "def prod(compute_on_lines:bool,mat):\n",
    "    result=np.array([]);\n",
    "    if compute_on_lines==True:\n",
    "        result=[np.prod(row) for row in mat]\n",
    "    else:\n",
    "        result=[np.prod([row[i] for row in mat]) for i in range(0,len(mat[0]))]\n",
    "    return result\n",
    "\n",
    "print(prod(False,mat))\n",
    "print(prod(True,mat))"
   ]
  },
  {
   "cell_type": "code",
   "execution_count": 23,
   "metadata": {
    "ExecuteTime": {
     "end_time": "2020-03-18T14:45:52.897414Z",
     "start_time": "2020-03-18T14:45:52.817106Z"
    }
   },
   "outputs": [
    {
     "data": {
      "text/plain": [
       "(-4, 3)"
      ]
     },
     "execution_count": 23,
     "metadata": {},
     "output_type": "execute_result"
    }
   ],
   "source": [
    "#numpy ex 2\n",
    "from typing import Tuple\n",
    "from typing import Counter\n",
    "x = np.array([-4, 3,  5, 3, 2, 1, -3, -4, 2, -4])\n",
    "\n",
    "def mostAndLeastCommunElement(x)->Tuple[float,float]:\n",
    "    b = Counter(x)\n",
    "    return b.most_common(1)[0][0],b.most_common(1)[0][1]\n",
    "\n",
    "mostAndLeastCommunElement(x)"
   ]
  },
  {
   "cell_type": "code",
   "execution_count": 24,
   "metadata": {
    "ExecuteTime": {
     "end_time": "2020-03-19T10:49:47.830080Z",
     "start_time": "2020-03-19T10:49:47.800035Z"
    }
   },
   "outputs": [
    {
     "name": "stdout",
     "output_type": "stream",
     "text": [
      "original array a: \n",
      " [[ 1  2  3  4]\n",
      " [ 1 -2  3 -4]\n",
      " [ 3 10  9  4]]\n",
      "\n",
      " original array b: \n",
      " [[ 1  1  3  5]\n",
      " [ 1  4  3 -4]\n",
      " [ 3 10  3  5]]\n",
      "indecsi unde a>b: \n",
      " [[0 1]\n",
      " [2 2]]\n"
     ]
    }
   ],
   "source": [
    "#numpy ex5\n",
    "import numpy as np\n",
    "a = np.array([[1, 2, 3, 4], [1, -2, 3, -4], [3, 10, 9, 4]]) \n",
    "b = np.array([[1, 1, 3, 5], [1, 4, 3, -4], [3, 10, 3, 5]])\n",
    "def arraycompare(a,b):\n",
    "    print (\"original array a: \\n\" ,a)\n",
    "    print(\"\\n original array b: \\n\",b)\n",
    "    solutions = np.argwhere(a> b)\n",
    "    print(\"indecsi unde a>b: \\n\",solutions)\n",
    "\n",
    "    \"\"\"Functia primeste 2 np.array si modifica si afiseaza perechile de indici unde a[i][j]>b[i][j] \n",
    "param :date de intrare sub forma de np.array\"\"\"\n",
    "\n",
    "arraycompare(a,b)"
   ]
  },
  {
   "cell_type": "code",
   "execution_count": 28,
   "metadata": {
    "ExecuteTime": {
     "end_time": "2020-03-19T11:29:10.746272Z",
     "start_time": "2020-03-19T11:29:10.730706Z"
    }
   },
   "outputs": [
    {
     "ename": "IndentationError",
     "evalue": "unexpected indent (<ipython-input-28-adbf5359b730>, line 10)",
     "output_type": "error",
     "traceback": [
      "\u001b[1;36m  File \u001b[1;32m\"<ipython-input-28-adbf5359b730>\"\u001b[1;36m, line \u001b[1;32m10\u001b[0m\n\u001b[1;33m    \"\"\"Functia primeste un np.array si modifica si afiseaza valori di acesta\u001b[0m\n\u001b[1;37m    ^\u001b[0m\n\u001b[1;31mIndentationError\u001b[0m\u001b[1;31m:\u001b[0m unexpected indent\n"
     ]
    }
   ],
   "source": [
    "#numpy ex 7\n",
    "a = np.array([230, 10, 284, 39, 76])\n",
    "def ecxtractfunction(a):\n",
    "    a[a<100]*=2\n",
    "    while any(a<100):\n",
    "        a[a<100]*=2\n",
    "    print(a)\n",
    "    print(a[np.logical_and(a>150,a<200)])\n",
    "ecxtractfunction(a)\n",
    "    \"\"\"Functia primeste un np.array si modifica si afiseaza valori di acesta\n",
    "param :date de intrare sub forma de np.array\"\"\"\n"
   ]
  },
  {
   "cell_type": "code",
   "execution_count": 27,
   "metadata": {
    "ExecuteTime": {
     "end_time": "2020-03-19T11:29:14.759713Z",
     "start_time": "2020-03-19T11:29:14.528362Z"
    }
   },
   "outputs": [
    {
     "ename": "IndexError",
     "evalue": "too many indices for array",
     "output_type": "error",
     "traceback": [
      "\u001b[1;31m---------------------------------------------------------------------------\u001b[0m",
      "\u001b[1;31mIndexError\u001b[0m                                Traceback (most recent call last)",
      "\u001b[1;32m<ipython-input-27-df48910b2f21>\u001b[0m in \u001b[0;36m<module>\u001b[1;34m\u001b[0m\n\u001b[0;32m      2\u001b[0m \u001b[1;32mfrom\u001b[0m \u001b[0mtyping\u001b[0m \u001b[1;32mimport\u001b[0m \u001b[0mTuple\u001b[0m\u001b[1;33m\u001b[0m\u001b[1;33m\u001b[0m\u001b[0m\n\u001b[0;32m      3\u001b[0m \u001b[0mmat\u001b[0m\u001b[1;33m=\u001b[0m\u001b[0mnp\u001b[0m\u001b[1;33m.\u001b[0m\u001b[0mgenfromtxt\u001b[0m\u001b[1;33m(\u001b[0m\u001b[1;34m\"iris.data\"\u001b[0m\u001b[1;33m,\u001b[0m\u001b[0mdtype\u001b[0m\u001b[1;33m=\u001b[0m\u001b[0mfloat\u001b[0m\u001b[1;33m,\u001b[0m\u001b[0mdelimiter\u001b[0m\u001b[1;33m=\u001b[0m\u001b[1;34m\",\"\u001b[0m\u001b[1;33m)\u001b[0m\u001b[1;33m\u001b[0m\u001b[1;33m\u001b[0m\u001b[0m\n\u001b[1;32m----> 4\u001b[1;33m \u001b[0mm\u001b[0m\u001b[1;33m=\u001b[0m\u001b[0mmat\u001b[0m\u001b[1;33m[\u001b[0m\u001b[1;33m:\u001b[0m\u001b[1;33m,\u001b[0m\u001b[1;33m:\u001b[0m\u001b[1;33m,\u001b[0m\u001b[1;33m-\u001b[0m\u001b[1;36m1\u001b[0m\u001b[1;33m]\u001b[0m\u001b[1;33m\u001b[0m\u001b[1;33m\u001b[0m\u001b[0m\n\u001b[0m\u001b[0;32m      5\u001b[0m \u001b[0mlines\u001b[0m\u001b[1;33m=\u001b[0m\u001b[0mnp\u001b[0m\u001b[1;33m.\u001b[0m\u001b[0mrandom\u001b[0m\u001b[1;33m.\u001b[0m\u001b[0mrandom_integers\u001b[0m\u001b[1;33m(\u001b[0m\u001b[1;36m0\u001b[0m\u001b[1;33m,\u001b[0m\u001b[1;36m149\u001b[0m\u001b[1;33m,\u001b[0m\u001b[0msize\u001b[0m\u001b[1;33m=\u001b[0m\u001b[1;33m(\u001b[0m\u001b[1;36m10\u001b[0m\u001b[1;33m,\u001b[0m\u001b[1;33m)\u001b[0m\u001b[1;33m)\u001b[0m\u001b[1;33m\u001b[0m\u001b[1;33m\u001b[0m\u001b[0m\n\u001b[0;32m      6\u001b[0m \u001b[0mcolums\u001b[0m\u001b[1;33m=\u001b[0m\u001b[0mnp\u001b[0m\u001b[1;33m.\u001b[0m\u001b[0mrandom\u001b[0m\u001b[1;33m.\u001b[0m\u001b[0mrandom_integers\u001b[0m\u001b[1;33m(\u001b[0m\u001b[1;36m0\u001b[0m\u001b[1;33m,\u001b[0m\u001b[1;36m3\u001b[0m\u001b[1;33m,\u001b[0m\u001b[0msize\u001b[0m\u001b[1;33m=\u001b[0m\u001b[1;33m(\u001b[0m\u001b[1;36m10\u001b[0m\u001b[1;33m,\u001b[0m\u001b[1;33m)\u001b[0m\u001b[1;33m)\u001b[0m\u001b[1;33m\u001b[0m\u001b[1;33m\u001b[0m\u001b[0m\n",
      "\u001b[1;31mIndexError\u001b[0m: too many indices for array"
     ]
    }
   ],
   "source": [
    "#numpy ex 9\n",
    "from typing import Tuple\n",
    "mat=np.genfromtxt(\"iris.data\",dtype=float,delimiter=\",\")\n",
    "m=mat[:,:,-1]\n",
    "lines=np.random.random_integers(0,149,size=(10,))\n",
    "colums=np.random.random_integers(0,3,size=(10,))\n",
    "m[lines,colums]=np.nan\n",
    "def nan_function(mat:np.array)->Tuple:\n",
    "    indices=np.where(np.isnan(m))\n",
    "    return indices[0],indices[1]\n",
    "nan_function(mat)\n",
    "\"\"\"Functia primeste o matrice si returneaza un tuplu de indici\n",
    "param mat:date de intrare sub forma de np.array(m,n)\n",
    "date iesire: tuplu de indici\"\"\""
   ]
  },
  {
   "cell_type": "code",
   "execution_count": null,
   "metadata": {},
   "outputs": [],
   "source": []
  },
  {
   "cell_type": "code",
   "execution_count": null,
   "metadata": {},
   "outputs": [],
   "source": []
  }
 ],
 "metadata": {
  "kernelspec": {
   "display_name": "Python 3",
   "language": "python",
   "name": "python3"
  },
  "language_info": {
   "codemirror_mode": {
    "name": "ipython",
    "version": 3
   },
   "file_extension": ".py",
   "mimetype": "text/x-python",
   "name": "python",
   "nbconvert_exporter": "python",
   "pygments_lexer": "ipython3",
   "version": "3.7.4"
  },
  "toc": {
   "base_numbering": 1,
   "nav_menu": {},
   "number_sections": true,
   "sideBar": true,
   "skip_h1_title": false,
   "title_cell": "Table of Contents",
   "title_sidebar": "Contents",
   "toc_cell": false,
   "toc_position": {},
   "toc_section_display": true,
   "toc_window_display": false
  },
  "varInspector": {
   "cols": {
    "lenName": 16,
    "lenType": 16,
    "lenVar": 40
   },
   "kernels_config": {
    "python": {
     "delete_cmd_postfix": "",
     "delete_cmd_prefix": "del ",
     "library": "var_list.py",
     "varRefreshCmd": "print(var_dic_list())"
    },
    "r": {
     "delete_cmd_postfix": ") ",
     "delete_cmd_prefix": "rm(",
     "library": "var_list.r",
     "varRefreshCmd": "cat(var_dic_list()) "
    }
   },
   "types_to_exclude": [
    "module",
    "function",
    "builtin_function_or_method",
    "instance",
    "_Feature"
   ],
   "window_display": false
  }
 },
 "nbformat": 4,
 "nbformat_minor": 2
}
