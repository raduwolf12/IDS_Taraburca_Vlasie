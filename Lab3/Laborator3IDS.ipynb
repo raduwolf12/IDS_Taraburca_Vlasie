{
 "cells": [
  {
   "cell_type": "code",
   "execution_count": 4,
   "metadata": {},
   "outputs": [],
   "source": [
    "import ipywidgets as widgets\n"
   ]
  },
  {
   "cell_type": "code",
   "execution_count": 5,
   "metadata": {},
   "outputs": [],
   "source": [
    "from ipywidgets import interact, interactive, fixed, interact_manual\n"
   ]
  },
  {
   "cell_type": "code",
   "execution_count": 6,
   "metadata": {},
   "outputs": [],
   "source": [
    "def n_factorial(n:int) -> int:\n",
    "    \"\"\"Calculeaza n factorial\n",
    "    :param n: intreg >= 0 pt care se calculeaza factorialul\n",
    "    :return: valoarea lui n!\n",
    "    \"\"\"\n",
    "    p = 1\n",
    "    for i in range(1, n+1):\n",
    "        p *= i\n",
    "    return str(n) + \"!= \" + str(p)"
   ]
  },
  {
   "cell_type": "code",
   "execution_count": 7,
   "metadata": {},
   "outputs": [
    {
     "data": {
      "application/vnd.jupyter.widget-view+json": {
       "model_id": "72f949c701534d809075bc804cfeb3c8",
       "version_major": 2,
       "version_minor": 0
      },
      "text/plain": [
       "interactive(children=(IntSlider(value=100, description='n', max=300, min=-100), Output()), _dom_classes=('widg…"
      ]
     },
     "metadata": {},
     "output_type": "display_data"
    },
    {
     "data": {
      "text/plain": [
       "<function __main__.n_factorial(n: int) -> int>"
      ]
     },
     "execution_count": 7,
     "metadata": {},
     "output_type": "execute_result"
    }
   ],
   "source": [
    "interact(n_factorial, n=100)\n"
   ]
  },
  {
   "cell_type": "code",
   "execution_count": 8,
   "metadata": {},
   "outputs": [
    {
     "data": {
      "application/vnd.jupyter.widget-view+json": {
       "model_id": "73e951e66bb54d25863f2979116a5e2a",
       "version_major": 2,
       "version_minor": 0
      },
      "text/plain": [
       "interactive(children=(IntSlider(value=50, description='n'), Output()), _dom_classes=('widget-interact',))"
      ]
     },
     "metadata": {},
     "output_type": "display_data"
    }
   ],
   "source": [
    "interact(n_factorial, n=(0, 100));\n"
   ]
  },
  {
   "cell_type": "code",
   "execution_count": 9,
   "metadata": {},
   "outputs": [
    {
     "data": {
      "application/vnd.jupyter.widget-view+json": {
       "model_id": "c03b2e4054ba4a01814c923899853d53",
       "version_major": 2,
       "version_minor": 0
      },
      "text/plain": [
       "interactive(children=(Checkbox(value=True, description='x'), FloatSlider(value=5.5, description='y', max=10.0,…"
      ]
     },
     "metadata": {},
     "output_type": "display_data"
    },
    {
     "data": {
      "text/plain": [
       "<function __main__.g(x, y, z, t)>"
      ]
     },
     "execution_count": 9,
     "metadata": {},
     "output_type": "execute_result"
    }
   ],
   "source": [
    "def g(x, y, z, t):\n",
    "    return (x, y, z, t)\n",
    "\n",
    "interact(g, x=True, y=(1.0, 10.0, 0.5), z='Un text', \n",
    "         t={'English':'Hello', 'Romanian':'Salut', 'Spanish':'Hola'})"
   ]
  },
  {
   "cell_type": "code",
   "execution_count": 10,
   "metadata": {},
   "outputs": [],
   "source": [
    "# import de pachete numerice si grafice\n",
    "\n",
    "import matplotlib.pyplot as plt\n",
    "import numpy as np"
   ]
  },
  {
   "cell_type": "code",
   "execution_count": 11,
   "metadata": {},
   "outputs": [
    {
     "data": {
      "application/vnd.jupyter.widget-view+json": {
       "model_id": "55c3951eaee44eb28577d2a1ca798094",
       "version_major": 2,
       "version_minor": 0
      },
      "text/plain": [
       "interactive(children=(FloatSlider(value=10.0, description='a', min=-100.0), FloatSlider(value=20.0, descriptio…"
      ]
     },
     "metadata": {},
     "output_type": "display_data"
    }
   ],
   "source": [
    "def f_square(a=10, b=20, c=-10,left=-10, right=20) -> None:\n",
    "    '''Afiseaza graficul unei functii de gradul al doilea de forma:\n",
    "    f(x)=a*x**2 + b*x + c. Valorile lui x sunt luate din intervalul \n",
    "    [left, right] prin discretizare.\n",
    "    :param a: coeficientul lui x**2\n",
    "    :param b: coeficientul lui x\n",
    "    :param c: termenul liber\n",
    "    :param left: capatul din stanga al intervalului peste care se face \n",
    "    reprezenatrea\n",
    "    :param right: capatul din dreapta al intervalului peste care se face \n",
    "    reprezenatrea\n",
    "    :return: None\n",
    "    '''\n",
    "    assert left < right\n",
    "    range_x = np.linspace(left, right, 100)\n",
    "    values_f = a * range_x ** 2 + b * range_x + c \n",
    "    plt.figure(figsize=(10, 8))\n",
    "    plt.xlabel('x')\n",
    "    plt.ylabel(str(a) + '$\\cdot x^2 + $' + str(b) + '$\\cdot x + $' + str(c))\n",
    "    plt.plot(range_x, values_f, color='red')\n",
    "    plt.grid(axis='both')\n",
    "    plt.axhline(y=0, color='k')\n",
    "    plt.axvline(x=0, color='k')\n",
    "    plt.scatter(5, 3, s=100)\n",
    "    plt.show()\n",
    "    \n",
    "    \n",
    "interact(f_square, a=(-100, 100.0), b=(-100, 100.0), c=(-100, 100.0), d=(-100, 100.0), e=(-100, 100.0));"
   ]
  },
  {
   "cell_type": "code",
   "execution_count": 12,
   "metadata": {},
   "outputs": [
    {
     "data": {
      "application/vnd.jupyter.widget-view+json": {
       "model_id": "47cc5959a15944709173a7eb52bad6df",
       "version_major": 2,
       "version_minor": 0
      },
      "text/plain": [
       "interactive(children=(FloatSlider(value=10.0, description='f', min=1.0, step=0.5), Output()), _dom_classes=('w…"
      ]
     },
     "metadata": {},
     "output_type": "display_data"
    }
   ],
   "source": [
    "def sinusoid(f=10):\n",
    "    range_x = np.linspace(-5, 5, 100)\n",
    "    values_f = np.sin(2 * np.pi * f * range_x)\n",
    "    plt.xlabel('x')\n",
    "    plt.ylabel(f'$2 \\cdot \\pi \\cdot {f} \\cdot x$')\n",
    "    plt.grid(axis='both')\n",
    "    plt.axhline(y=0, color='k')\n",
    "    plt.axvline(x=0, color='k')\n",
    "    plt.plot(range_x, values_f)\n",
    "    \n",
    "interact(sinusoid, f = (1, 100.0, 0.5));"
   ]
  },
  {
   "cell_type": "code",
   "execution_count": null,
   "metadata": {},
   "outputs": [],
   "source": []
  },
  {
   "cell_type": "code",
   "execution_count": 13,
   "metadata": {
    "scrolled": false
   },
   "outputs": [
    {
     "data": {
      "application/vnd.jupyter.widget-view+json": {
       "model_id": "66ec55ad5bc14f989c307d5904adf086",
       "version_major": 2,
       "version_minor": 0
      },
      "text/plain": [
       "interactive(children=(IntSlider(value=0, description='x', max=20, min=-20), IntSlider(value=-30, description='…"
      ]
     },
     "metadata": {},
     "output_type": "display_data"
    },
    {
     "data": {
      "text/plain": [
       "<function __main__.graph_f_and_derived(x, left=-30, right=30)>"
      ]
     },
     "execution_count": 13,
     "metadata": {},
     "output_type": "execute_result"
    }
   ],
   "source": [
    "def f(x):\n",
    "    \"\"\"calcul functie intr-un punct\"\"\"\n",
    "    return x ** 2 - 10 * x + 50\n",
    "\n",
    "def f_values(left=-10, right=10):\n",
    "    \"\"\"calcul functie pe interval\"\"\"\n",
    "    x = np.linspace(left, right, 100)\n",
    "    return x, f(x)\n",
    "\n",
    "def f_prime(x):\n",
    "    \"\"\"Calcul derivata f\n",
    "    :param x: punctul in care se calculeaza derivata\n",
    "    :return: f'(x)\n",
    "    \"\"\"\n",
    "    return 2 * x - 10\n",
    "\n",
    "def graph_f_and_derived(x, left=-30, right=30):\n",
    "    # calcul valoare functie f\n",
    "    x_range, fx = f_values(left, right)\n",
    "    \n",
    "    # intervalul pe care se reprezinta tangenta la grafic\n",
    "    x_segment = np.linspace(x-10, x+10, 100)\n",
    "    # panta tangentei la grafic este derivata functiei in pctul de tangenta\n",
    "    slope = f_prime(x)\n",
    "    \n",
    "    #calcul puncte de tangenta\n",
    "    y_segment = f(x) + slope * (x_segment - x)\n",
    "    \n",
    "    plt.figure(figsize=(20, 10))\n",
    "    plt.plot(x_range, fx, color='red')\n",
    "    plt.plot(x_segment, y_segment, color='blue')\n",
    "\n",
    "# graf_f_and_derived(10, left=-30, right=30)\n",
    "\n",
    "interact(graph_f_and_derived, x = (-20, 20))"
   ]
  },
  {
   "cell_type": "code",
   "execution_count": 14,
   "metadata": {},
   "outputs": [],
   "source": [
    "def draw_point():\n",
    "    # Draw a point at the location (3, 9) with size 1000\n",
    "\n",
    "    # Set chart title.\n",
    "\n",
    "    # Set size of tick labels.\n",
    "\n",
    "    # Display the plot in the matplotlib's viewer.\n",
    "    plt.show()\n",
    "\n"
   ]
  },
  {
   "cell_type": "code",
   "execution_count": 15,
   "metadata": {},
   "outputs": [
    {
     "data": {
      "application/vnd.jupyter.widget-view+json": {
       "model_id": "645cb22415144d63a24dda9011cc886c",
       "version_major": 2,
       "version_minor": 0
      },
      "text/plain": [
       "interactive(children=(FloatSlider(value=0.0, description='x', min=-100.0), Output()), _dom_classes=('widget-in…"
      ]
     },
     "metadata": {},
     "output_type": "display_data"
    }
   ],
   "source": [
    "# 1) (la clasa) Consideram functia $f(x) = x^2$ si punctul $P=(5, 3)$. \n",
    "# Folosind controale grafice ipywidgets, sa se modifice functia $f$ prin \n",
    "# translatarea ei pe orizontala si pe verticala, a.i. minimul functiei sa \n",
    "# sa afle in punctul $P$; a se vedea mai jos exemplu de translatie pe verticala.\n",
    "# Se cere desenarea axelor Ox si Oy cu reprezentarea puntului $P$ printr-un \n",
    "# dreptunghi, desenarea functiei $f$ folosind o curba de 50 de puncte. Se \n",
    "# vor determina coeficientii necesari mutarii functiei si se vor \n",
    "# defini controale pentru acestea.\n",
    "# \n",
    "# interact(f_square, c=(-100, 100.0));\n",
    "def f (x):\n",
    "    return f_square(1,0,x,-50,50)\n",
    "\n",
    "interact(f, x=(-100, 100.0));\n",
    "\n",
    "# draw_point()\n",
    "\n",
    "\n"
   ]
  },
  {
   "cell_type": "code",
   "execution_count": 16,
   "metadata": {},
   "outputs": [
    {
     "data": {
      "application/vnd.jupyter.widget-view+json": {
       "model_id": "f8be0f6676a642d2991c6d7bff6370ef",
       "version_major": 2,
       "version_minor": 0
      },
      "text/plain": [
       "interactive(children=(IntSlider(value=1, description='a', max=30, min=-30), IntSlider(value=0, description='c'…"
      ]
     },
     "metadata": {},
     "output_type": "display_data"
    }
   ],
   "source": [
    "def plot_quadratic(a=1,c=0,left=-5, right=7):\n",
    "    assert left<right\n",
    "    x= np.linspace(left, right, 50)\n",
    "    y = (x-a)**2+c\n",
    "    plt.plot(x,y)\n",
    "    plt.plot(5,3,\"rs\")\n",
    "    print()\n",
    "interactive(plot_quadratic,a=(-30,30),c=(-30,30),left=(-30,30),right=(-30,30))"
   ]
  },
  {
   "cell_type": "code",
   "execution_count": 21,
   "metadata": {},
   "outputs": [
    {
     "data": {
      "application/vnd.jupyter.widget-view+json": {
       "model_id": "85d65c71e20d47ed8dbf506bf69a3f2b",
       "version_major": 2,
       "version_minor": 0
      },
      "text/plain": [
       "interactive(children=(IntSlider(value=0, description='a', max=30, min=-30), IntSlider(value=0, description='b'…"
      ]
     },
     "metadata": {},
     "output_type": "display_data"
    }
   ],
   "source": [
    "def liniar(a,b,left, right):\n",
    "    x= np.linspace(left, right, 50)\n",
    "    y = a*x+b\n",
    "    plt.plot(x,y)\n",
    "    \n",
    "interactive(liniar,a=(-30,30),b=(-30,30),left=(-30,30),right=(-30,30))"
   ]
  },
  {
   "cell_type": "code",
   "execution_count": 26,
   "metadata": {},
   "outputs": [
    {
     "data": {
      "application/vnd.jupyter.widget-view+json": {
       "model_id": "ebb77bbffe6240a493126a66ca890343",
       "version_major": 2,
       "version_minor": 0
      },
      "text/plain": [
       "interactive(children=(IntSlider(value=1, description='a', max=30, min=-30), IntSlider(value=0, description='c'…"
      ]
     },
     "metadata": {},
     "output_type": "display_data"
    }
   ],
   "source": [
    "def plot_quadratic(a=1,c=0,left=-5, right=7):\n",
    "    assert left<right\n",
    "    x= np.linspace(left, right, 50)\n",
    "    y = (x-a)**2+c\n",
    "    plt.plot(x,y)\n",
    "    plt.plot(5,3,\"rs\")\n",
    "    print()\n",
    "interactive(plot_quadratic,a=(-30,30),c=(-30,30),left=(-30,30),right=(-30,30))"
   ]
  },
  {
   "cell_type": "code",
   "execution_count": 95,
   "metadata": {},
   "outputs": [
    {
     "data": {
      "image/png": "[encoded data removed]",
      "text/plain": [
       "<Figure size 432x288 with 1 Axes>"
      ]
     },
     "metadata": {
      "needs_background": "light"
     },
     "output_type": "display_data"
    }
   ],
   "source": [
    "def puncte(x, y,left=0, right=10):\n",
    "    for i in range(0,len(x)):\n",
    "        plt.plot(x[i],y[i],\"rs\")\n",
    "\n",
    "\n",
    "x = np.random.uniform(0,1,20)\n",
    "x=x*10\n",
    "\n",
    "y = np.random.uniform(0,1,20)\n",
    "y=y*10\n",
    "# for i in range(0,len(x)):\n",
    "#         plt.plot(x[i],y[i],\"rs\")\n",
    "# interactive(puncte,x,y,left=(-30,30),right=(-30,30))\n",
    "#     plt.plot(s[i],s[i],\"rs\")\n",
    "\n",
    "\n",
    "def liniar(vx,vy,a=1,b=0,left=0, right=10):\n",
    "    x= np.linspace(left, right, 50)\n",
    "    y = a*x+b\n",
    "    plt.plot(x,y)\n",
    "    for i in range(0,len(vx)):\n",
    "        plt.plot(vx[i],vy[i],\".r\")\n",
    "    \n",
    "# interactive(liniar,a=(-30,30),b=(-30,30),left=(-30,30),right=(-30,30))\n",
    "\n",
    "liniar(x,y)\n",
    "    \n"
   ]
  },
  {
   "cell_type": "code",
   "execution_count": null,
   "metadata": {},
   "outputs": [],
   "source": []
  }
 ],
 "metadata": {
  "kernelspec": {
   "display_name": "Python 3",
   "language": "python",
   "name": "python3"
  },
  "language_info": {
   "codemirror_mode": {
    "name": "ipython",
    "version": 3
   },
   "file_extension": ".py",
   "mimetype": "text/x-python",
   "name": "python",
   "nbconvert_exporter": "python",
   "pygments_lexer": "ipython3",
   "version": "3.7.4"
  }
 },
 "nbformat": 4,
 "nbformat_minor": 2
}
