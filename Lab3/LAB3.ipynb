{
 "cells": [
  {
   "cell_type": "markdown",
   "metadata": {},
   "source": [
    "# Laborator 3 - Teme\n",
    "<br>\n",
    "Autori:\n",
    "Taraburca Radu,\n",
    "Vlasie Rares\n"
   ]
  },
  {
   "cell_type": "markdown",
   "metadata": {},
   "source": [
    "## Exercitii `ipywidgets`:\n"
   ]
  },
  {
   "cell_type": "markdown",
   "metadata": {},
   "source": [
    "1. (la clasa) Consideram functia $f(x) = x^2$ si punctul $P=(5, 3)$. Folosind controale grafice ipywidgets, sa se modifice functia $f$ prin translatarea ei pe orizontala si pe verticala, a.i. minimul functiei sa sa afle in punctul $P$; a se vedea mai jos exemplu de translatie pe verticala. Se cere desenarea axelor Ox si Oy cu reprezentarea puntului $P$ printr-un dreptunghi, desenarea functiei $f$ folosind o curba de 50 de puncte. Se vor determina coeficientii necesari mutarii functiei si se vor defini controale pentru acestea. ![vertical translation](./images/vertical_translation.png)\n"
   ]
  },
  {
   "cell_type": "code",
   "execution_count": 1,
   "metadata": {},
   "outputs": [],
   "source": [
    "import ipywidgets as widgets\n",
    "from ipywidgets import interact, interactive, fixed, interact_manual\n",
    "import matplotlib.pyplot as plt\n",
    "import numpy as np"
   ]
  },
  {
   "cell_type": "code",
   "execution_count": 2,
   "metadata": {},
   "outputs": [
    {
     "data": {
      "application/vnd.jupyter.widget-view+json": {
       "model_id": "cfcbff887c6546eeba83d0a60d489197",
       "version_major": 2,
       "version_minor": 0
      },
      "text/plain": [
       "interactive(children=(IntSlider(value=1, description='a', max=30, min=-30), IntSlider(value=0, description='c'…"
      ]
     },
     "metadata": {},
     "output_type": "display_data"
    }
   ],
   "source": [
    "def plot_quadratic(a=1,c=0,left=-5, right=7):\n",
    "    assert left<right\n",
    "    x= np.linspace(left, right, 50)\n",
    "    y = (x-a)**2+c\n",
    "    plt.plot(x,y)\n",
    "    plt.plot(5,3,\"rs\")\n",
    "    print()\n",
    "interactive(plot_quadratic,a=(-30,30),c=(-30,30),left=(-30,30),right=(-30,30))"
   ]
  },
  {
   "cell_type": "markdown",
   "metadata": {},
   "source": [
    "2. (3 puncte) Generati o lista de 20 de perechi de valori $\\{x_i, y_i\\}_{i=0,19}$ in intervalul [0, 10), afisati aceste valori pe un grafic, impreuna cu o dreapta definita de o functie liniara $y=a*x+b$. Intr-un alt plot afisati, ca histograma, distanta dintre un punct de coordonate $(x_i, y_i)$ si punctul de intersectie a verticalei duse prin $x_i$ cu dreapta data. Dreapta trebuie sa fie controlabila din widgets, prin cei doi coeficienti. Constatati modificarea histogramei in functie de pozitia dreptei si calculati suma: $\\sum_{i=0}^{19} (y_i - (a\\cdot x_i + b))^2$, adica suma patratelor lungimilor segmentelor verzi de mai jos.\n",
    "![linear regression](./images/linreg.png)\n",
    "*Indicatii:*\n",
    "    1. Pentru generare de valori distribuite uniform in intervalul [0, 1) puteti folosi functia [numy.random.uniform](https://docs.scipy.org/doc/numpy/reference/generated/numpy.random.uniform.html) iar vectorul obtinut sa il inmultiti cu 10; in felul acesta, numerele generate vor fi uniform distribuite in intervalul $[0, 10)$.\n",
    "    1. Puteti opta sa returnati cele 20 de puncte sub forma `vector_x`, `vector_y`.\n"
   ]
  },
  {
   "cell_type": "code",
   "execution_count": 5,
   "metadata": {},
   "outputs": [
    {
     "data": {
      "application/vnd.jupyter.widget-view+json": {
       "model_id": "c79e6cedc8b948c891bf88079b735481",
       "version_major": 2,
       "version_minor": 0
      },
      "text/plain": [
       "interactive(children=(FloatSlider(value=1.0, description='a', max=1.0, min=-1.0), FloatSlider(value=0.0, descr…"
      ]
     },
     "metadata": {},
     "output_type": "display_data"
    },
    {
     "data": {
      "text/plain": [
       "<function __main__.liniar(a=1, b=0)>"
      ]
     },
     "execution_count": 5,
     "metadata": {},
     "output_type": "execute_result"
    }
   ],
   "source": [
    "\"Generarea unor puncte din grafic\"\n",
    "vector_x = np.random.uniform(0,1,20)\n",
    "vector_x=vector_x*10\n",
    "\n",
    "vector_y = np.random.uniform(0,1,20)\n",
    "vector_y=vector_y*10\n",
    "\n",
    "\"functia de desenare a punctelor si a dreptei cu posibilitatea de a modifica dreapta\"\n",
    "def liniar(a=1,b=0):\n",
    "    x= np.linspace(0, 10, 50)\n",
    "    y = a*x+b\n",
    "    plt.plot(x,y,1)\n",
    "    plt.plot(vector_x,vector_y,\".r\")\n",
    "    plt.figure()\n",
    "    liniar2(a,b)\n",
    "    print(\"Suma patratelor lungimilor distantelor:\",np.sum((vector_y-(a*vector_x+b))**2))\n",
    "    \n",
    "\"functia de desenare a graficului cu posibilitatea de a modifica graficul\"\n",
    "def liniar2(a=1,b=0):\n",
    "    plt.hist(np.abs(vector_y-(a*vector_x+b)))\n",
    "    \n",
    "\"desenarea graficului si graficului cu linie si puncte si posibilitatea  de a modifica valorile a si b\"   \n",
    "interact(liniar,a=(-1,1,0.1),b=(-1,1,0.1))"
   ]
  },
  {
   "cell_type": "markdown",
   "metadata": {},
   "source": [
    "3. (5 puncte) Incarcati fisierul `data/carbon_nanotubes.csv` (adaptare dupa [Carbon Nanotubes Data Set](http://archive.ics.uci.edu/ml/datasets/Carbon+Nanotubes)). In functie de alegerile exprimate de un utilizator, afisati intr-un grafic 2D coloanele numerice alese (de exemplu, coloana 0 si coloana 2).\n",
    "*Indicatii/optiuni*:\n",
    "    1. Incarcarea de date se poate face cu numpy, functia [loadtxt](https://docs.scipy.org/doc/numpy/reference/generated/numpy.loadtxt.html). Specificati faptul ca se sare peste prima linie din fisier (header). Alternativ, puteti folosi [pandas.read_csv](https://pandas.pydata.org/pandas-docs/stable/reference/api/pandas.read_csv.html).\n",
    "    1. Numarul de coloane din setul de date se poate afla cu `data.shape[1]`.\n",
    "    1. Pentru cele doua alegeri puteti sa instantiati doua obiecte [Dropdown](https://ipywidgets.readthedocs.io/en/stable/examples/Widget%20List.html#Dropdown) sau [Select](https://ipywidgets.readthedocs.io/en/stable/examples/Widget%20List.html#Select).\n",
    "    1. Daca in variabila `data` sunt datele incarcate, selectarea coloanei `i` se face cu `data[:, i]`.\n"
   ]
  },
  {
   "cell_type": "code",
   "execution_count": 6,
   "metadata": {},
   "outputs": [],
   "source": [
    "import pandas as pd"
   ]
  },
  {
   "cell_type": "code",
   "execution_count": 7,
   "metadata": {},
   "outputs": [
    {
     "data": {
      "application/vnd.jupyter.widget-view+json": {
       "model_id": "91077396b9f94a72b2fcc529e311124a",
       "version_major": 2,
       "version_minor": 0
      },
      "text/plain": [
       "interactive(children=(Dropdown(description='Number:', index=3, options=('0', '1', '2', '3', '4', '5', '6', '7'…"
      ]
     },
     "metadata": {},
     "output_type": "display_data"
    },
    {
     "data": {
      "text/plain": [
       "<function __main__.desenare(a, b)>"
      ]
     },
     "execution_count": 7,
     "metadata": {},
     "output_type": "execute_result"
    }
   ],
   "source": [
    "\"Incarca datele  intr un dataframe\"\n",
    "dataframe=pd.read_csv('data/carbon_nanotubes.csv', skiprows=1)\n",
    "\n",
    "x=[]\n",
    "y=[]\n",
    "\"Creez o lista cu coloanele din data frame\"\n",
    "lista=[]\n",
    "for i in range(0,dataframe.shape[1]):\n",
    "    lista.append(str(i))\n",
    "\"functie de desenare a punctelor\"\n",
    "def puncte(x, y,left=0, right=10):\n",
    "        plt.plot(x[:],y[:],\".r\")\n",
    "\"Functia de desenare a punctelor in functie de 2 coloane din dataframe\"\n",
    "def desenare(a,b):\n",
    "    puncte(dataframe.iloc[:,int(a)],dataframe.iloc[:,int(b)])\n",
    "    \n",
    "\"desenarea si selectare coloanelor dupa care se deseneanza punctele\"\n",
    "interact(desenare,a=widgets.Dropdown(\n",
    "    options=lista,\n",
    "    value='3',\n",
    "    description='Number:',\n",
    "    disabled=False,\n",
    "),b=widgets.Dropdown(\n",
    "    options=lista,\n",
    "    value='5',\n",
    "    description='Number:',\n",
    "    disabled=False,\n",
    "))"
   ]
  },
  {
   "cell_type": "markdown",
   "metadata": {},
   "source": [
    "4. (2 puncte) Urmariti prezentarile date la inceputul laboratorului. Faceti o lista cu ceea ce ati dori sa se detalieze in acest semestru la laboratorul de IDS, din materialul furnizat."
   ]
  },
  {
   "cell_type": "markdown",
   "metadata": {},
   "source": [
    "1. Confusion Matrix\n",
    "1. One-Vs-Rest Logistic regresion\n",
    "1. Triangle Visualisation\n",
    "1. Yeld curve\n",
    "1. Principal component alalysic\n"
   ]
  },
  {
   "cell_type": "code",
   "execution_count": null,
   "metadata": {},
   "outputs": [],
   "source": []
  }
 ],
 "metadata": {
  "kernelspec": {
   "display_name": "Python 3",
   "language": "python",
   "name": "python3"
  },
  "language_info": {
   "codemirror_mode": {
    "name": "ipython",
    "version": 3
   },
   "file_extension": ".py",
   "mimetype": "text/x-python",
   "name": "python",
   "nbconvert_exporter": "python",
   "pygments_lexer": "ipython3",
   "version": "3.7.4"
  }
 },
 "nbformat": 4,
 "nbformat_minor": 2
}
